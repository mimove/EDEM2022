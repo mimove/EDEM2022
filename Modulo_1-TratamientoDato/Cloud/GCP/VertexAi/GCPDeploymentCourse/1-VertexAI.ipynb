{
 "cells": [
  {
   "cell_type": "markdown",
   "id": "republican-extreme",
   "metadata": {},
   "source": [
    "# GCP Vertex AI\n",
    "\n",
    "https://cloud.google.com/vertex-ai"
   ]
  },
  {
   "cell_type": "markdown",
   "id": "2c8e42e1-513a-4e18-9b9d-af0cf54536b5",
   "metadata": {},
   "source": [
    "## Pricing\n",
    "\n",
    "https://cloud.google.com/vertex-ai/pricing\n",
    "\n",
    "\n",
    "SKU Stoke-Keeping Unit\n",
    "\n",
    "Siempre que empleamos un recurso de GCP, como puede ser AutoML, Pub/Sub, IoT core los costes son reportados en SKU. \n",
    "\n",
    "\n",
    "## Quotas\n",
    "\n",
    "https://cloud.google.com/vertex-ai/quotas\n",
    "\n",
    "## Requerimientos Vertex AI\n",
    "\n",
    "APIs que tenemos que activar\n",
    "\n",
    "* Vertex AI API\n",
    "* Google Container Registry API (Opcional)\n",
    "* Compute Engine API (Opcional)"
   ]
  },
  {
   "cell_type": "markdown",
   "id": "bf668317-ded2-4be4-aaed-635c99ea33f8",
   "metadata": {},
   "source": [
    "Docker Containers: https://console.cloud.google.com/gcr/images/deeplearning-platform-release/GLOBAL"
   ]
  },
  {
   "cell_type": "markdown",
   "id": "62db064f-76c8-4449-b790-39e43bfb95e4",
   "metadata": {},
   "source": [
    "## Contenido\n",
    "* **Datasets (Preparación de datos RAW para su uso en Vertex AI)**\n",
    "* **Notebooks (Jupyter Lab en Vertex)**\n",
    "* Features (Compartir features entre equipos)\n",
    "* Labelling Task (Contrato de tiempo de humanos para tareas de etiquetado)\n",
    "* Pipelines (MLOps para Vertex, detección de Model Drift y reentrenamiento bajo reglas)\n",
    "* Training (Modelos en proceso de entrenamiento y ya entrenados dentro de pipeline)\n",
    "* Experiments (Visualización de entrenamiento usando [TensorBoard](https://www.tensorflow.org/tensorboard?hl=es-419))\n",
    "* **Models (Modelos entrenados partiendo de los Datasets o de Unmanaged Resources)**\n",
    "* **Endpoints (Apartado para creación, modificación, borrado y información general sobre los endpoints que tenemos de nuestros modelos)**\n",
    "* Batch Predictions (Apartado para realizar predicciones en batch, es decir cantidades grandes de datos)"
   ]
  },
  {
   "cell_type": "markdown",
   "id": "4d13f33e-0e01-47a2-ae3e-e65f68948b8d",
   "metadata": {},
   "source": [
    "# Notebooks\n",
    "\n",
    "Vamos a crear nuestro notebook en GCP (Collab es perfectamente valido para ejecutar el código  Python)"
   ]
  },
  {
   "cell_type": "code",
   "execution_count": null,
   "id": "2211e97e-53a6-4243-960b-aba39da8eeea",
   "metadata": {},
   "outputs": [],
   "source": []
  }
 ],
 "metadata": {
  "kernelspec": {
   "display_name": "Python 3 (ipykernel)",
   "language": "python",
   "name": "python3"
  },
  "language_info": {
   "codemirror_mode": {
    "name": "ipython",
    "version": 3
   },
   "file_extension": ".py",
   "mimetype": "text/x-python",
   "name": "python",
   "nbconvert_exporter": "python",
   "pygments_lexer": "ipython3",
   "version": "3.9.10"
  }
 },
 "nbformat": 4,
 "nbformat_minor": 5
}
