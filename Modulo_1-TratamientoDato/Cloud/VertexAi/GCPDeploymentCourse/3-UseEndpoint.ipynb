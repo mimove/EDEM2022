{
 "cells": [
  {
   "cell_type": "code",
   "execution_count": null,
   "id": "4fe9cd71",
   "metadata": {
    "tags": []
   },
   "outputs": [],
   "source": [
    "#!pip3 install git+https://github.com/googleapis/python-aiplatform.git@mb-release\n",
    "#pip install google-cloud-aiplatform"
   ]
  },
  {
   "cell_type": "code",
   "execution_count": null,
   "id": "cf125747",
   "metadata": {
    "tags": []
   },
   "outputs": [],
   "source": [
    "from google.cloud import aiplatform"
   ]
  },
  {
   "cell_type": "code",
   "execution_count": null,
   "id": "1274dc1e",
   "metadata": {},
   "outputs": [],
   "source": [
    "PROJECTNUM = \"\" # Mira en el dashboard Project number\n",
    "ENDPOINTID = \"\" # Mira en la URL del endpoint.\n",
    "\n",
    "endpoint = aiplatform.Endpoint(\n",
    "    endpoint_name=f'projects/{PROJECTNUM}/locations/us-central1/endpoints/{ENDPOINTID}'\n",
    ")"
   ]
  },
  {
   "cell_type": "code",
   "execution_count": null,
   "id": "c23c47b3",
   "metadata": {},
   "outputs": [],
   "source": [
    "ejemplo = {'Elevation': '2639.0',\n",
    " 'Aspect': '108.0',\n",
    " 'Slope': '2.0',\n",
    " 'Horizontal_Distance_To_Hydrology': '404',\n",
    " 'Vertical_Distance_To_Hydrology': '123',\n",
    " 'Horizontal_Distance_To_Roadways': '155',\n",
    " 'Hillshade_9am': '223',\n",
    " 'Hillshade_Noon': '236',\n",
    " 'Hillshade_3pm': '149',\n",
    " 'Horizontal_Distance_To_Fire_Points': '181',\n",
    " 'Wilderness_Area_0': '0.0',\n",
    " 'Wilderness_Area_1': '0.0',\n",
    " 'Wilderness_Area_2': '1.0',\n",
    " 'Wilderness_Area_3': '0.0',\n",
    " 'Soil_Type_0': '0.0',\n",
    " 'Soil_Type_1': '1.0',\n",
    " 'Soil_Type_2': '0.0',\n",
    " 'Soil_Type_3': '0.0',\n",
    " 'Soil_Type_4': '0.0',\n",
    " 'Soil_Type_5': '0.0',\n",
    " 'Soil_Type_6': '0.0',\n",
    " 'Soil_Type_7': '0.0',\n",
    " 'Soil_Type_8': '0.0',\n",
    " 'Soil_Type_9': '0.0',\n",
    " 'Soil_Type_10': '0.0',\n",
    " 'Soil_Type_11': '0.0',\n",
    " 'Soil_Type_12': '0.0',\n",
    " 'Soil_Type_13': '0.0',\n",
    " 'Soil_Type_14': '0.0',\n",
    " 'Soil_Type_15': '0.0',\n",
    " 'Soil_Type_16': '0.0',\n",
    " 'Soil_Type_17': '0.0',\n",
    " 'Soil_Type_18': '0.0',\n",
    " 'Soil_Type_19': '0.0',\n",
    " 'Soil_Type_20': '0.0',\n",
    " 'Soil_Type_21': '0.0',\n",
    " 'Soil_Type_22': '0.0',\n",
    " 'Soil_Type_23': '0.0',\n",
    " 'Soil_Type_24': '0.0',\n",
    " 'Soil_Type_25': '0.0',\n",
    " 'Soil_Type_26': '0.0',\n",
    " 'Soil_Type_27': '0.0',\n",
    " 'Soil_Type_28': '0.0',\n",
    " 'Soil_Type_29': '0.0',\n",
    " 'Soil_Type_30': '0.0',\n",
    " 'Soil_Type_31': '0.0',\n",
    " 'Soil_Type_32': '0.0',\n",
    " 'Soil_Type_33': '0.0',\n",
    " 'Soil_Type_34': '0.0',\n",
    " 'Soil_Type_35': '0.0',\n",
    " 'Soil_Type_36': '0.0',\n",
    " 'Soil_Type_37': '0.0',\n",
    " 'Soil_Type_38': '0.0',\n",
    " 'Soil_Type_39': '0.0'}"
   ]
  },
  {
   "cell_type": "code",
   "execution_count": null,
   "id": "cfa09ad3",
   "metadata": {},
   "outputs": [],
   "source": [
    "response = endpoint.predict([ejemplo])\n",
    "response"
   ]
  },
  {
   "cell_type": "markdown",
   "id": "d0bc7727-daaa-4ffd-aff3-0862e3eaa404",
   "metadata": {},
   "source": [
    "**Recordad que si no borrais el endpoint, GCP factura por up-time, es decir que si el endpoint esta disponible, quiere decir que consume recurso y por lo tanto hay un costo asociado**"
   ]
  }
 ],
 "metadata": {
  "environment": {
   "name": "tf2-gpu.2-3.m74",
   "type": "gcloud",
   "uri": "gcr.io/deeplearning-platform-release/tf2-gpu.2-3:m74"
  },
  "kernelspec": {
   "display_name": "Python 3 (ipykernel)",
   "language": "python",
   "name": "python3"
  },
  "language_info": {
   "codemirror_mode": {
    "name": "ipython",
    "version": 3
   },
   "file_extension": ".py",
   "mimetype": "text/x-python",
   "name": "python",
   "nbconvert_exporter": "python",
   "pygments_lexer": "ipython3",
   "version": "3.9.10"
  }
 },
 "nbformat": 4,
 "nbformat_minor": 5
}
