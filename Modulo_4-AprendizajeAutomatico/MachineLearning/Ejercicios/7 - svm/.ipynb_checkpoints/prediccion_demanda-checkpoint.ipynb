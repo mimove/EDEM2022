{
 "cells": [
  {
   "cell_type": "markdown",
   "metadata": {},
   "source": [
    "# Predicción de demanda con SVR"
   ]
  },
  {
   "cell_type": "code",
   "execution_count": 1,
   "metadata": {
    "collapsed": true
   },
   "outputs": [],
   "source": [
    "# Load Libraries\n",
    "%matplotlib inline\n",
    "import numpy as np\n",
    "import matplotlib.pyplot as plt\n",
    "from scipy import stats\n",
    "import pandas as pd \n",
    "\n",
    "\n",
    "from sklearn.preprocessing import scale\n",
    "import timeit"
   ]
  },
  {
   "cell_type": "markdown",
   "metadata": {},
   "source": [
    "# Lectura de datos"
   ]
  },
  {
   "cell_type": "markdown",
   "metadata": {},
   "source": [
    "- **ant**: antelación hasta el vuelo.\n",
    "\n",
    "- **ruta**: trayecto de ida y vuelta ordenado alfabéticamente.\n",
    "        \n",
    "- **aeropuerto_origen**: aeropuerto donde despega el avión.\n",
    "\n",
    "- **aeropuerto_destino**: aeropuerto donde aterriza el avión.\n",
    "    \n",
    "- **fecha_salida**: fecha de despegue del avión.\n",
    "    \n",
    "- **num_vuelo_operador**: identificador de número de vuelo.\n",
    "\n",
    "- **month**: mes de vuelo.\n",
    "\n",
    "- **weekday**: día de la semana de vuelo.\n",
    "    \n",
    "- **timezone**: franja horaria de vuelo.\n",
    "    \n",
    "- **year**: año de vuelo.\n",
    "    \n",
    "- **capacidad**: número máximo de pax en cada vuelo, puede variar en cada vuelo.\n",
    "    \n",
    "- **demand**: billetes vendidos en cada vuelo.\n",
    "    \n",
    "- **first**: código del principal competidor de la ruta del vuelo.\n",
    "    \n",
    "- **second**: código del segundo competidor de la ruta del vuelo.\n",
    "    \n",
    "- **first_ratio**: \n",
    "    \n",
    "- **second_ratio**:\n",
    "\n",
    "- **hit**:\n",
    "\n",
    "- **first_weight**: peso de importancia del primer competidor en la ruta del vuelo respecto a I2.\n",
    "\n",
    "- **second_weight**: peso de importancia del segundo competidor en la ruta del vuelo respecto a I2.\n",
    "\n",
    "- **global_first_weight**: \n",
    "\n",
    "- **global_second_weight**: \n",
    "\n",
    "- **first_p**:\n",
    "\n",
    "- **second_p**:"
   ]
  },
  {
   "cell_type": "code",
   "execution_count": 2,
   "metadata": {},
   "outputs": [
    {
     "data": {
      "text/html": [
       "<div>\n",
       "<style scoped>\n",
       "    .dataframe tbody tr th:only-of-type {\n",
       "        vertical-align: middle;\n",
       "    }\n",
       "\n",
       "    .dataframe tbody tr th {\n",
       "        vertical-align: top;\n",
       "    }\n",
       "\n",
       "    .dataframe thead th {\n",
       "        text-align: right;\n",
       "    }\n",
       "</style>\n",
       "<table border=\"1\" class=\"dataframe\">\n",
       "  <thead>\n",
       "    <tr style=\"text-align: right;\">\n",
       "      <th></th>\n",
       "      <th>ant</th>\n",
       "      <th>ruta</th>\n",
       "      <th>aeropuerto_origen</th>\n",
       "      <th>aeropuerto_destino</th>\n",
       "      <th>fecha_salida</th>\n",
       "      <th>num_vuelo_operador</th>\n",
       "      <th>month</th>\n",
       "      <th>weekday</th>\n",
       "      <th>timezone</th>\n",
       "      <th>year</th>\n",
       "      <th>...</th>\n",
       "      <th>second</th>\n",
       "      <th>first_ratio</th>\n",
       "      <th>second_ratio</th>\n",
       "      <th>hit</th>\n",
       "      <th>first_weight</th>\n",
       "      <th>second_weight</th>\n",
       "      <th>global_first_ratio</th>\n",
       "      <th>global_second_ratio</th>\n",
       "      <th>first_p</th>\n",
       "      <th>second_p</th>\n",
       "    </tr>\n",
       "  </thead>\n",
       "  <tbody>\n",
       "    <tr>\n",
       "      <td>0</td>\n",
       "      <td>11</td>\n",
       "      <td>ACEMAD</td>\n",
       "      <td>ACE</td>\n",
       "      <td>MAD</td>\n",
       "      <td>2017-02-02</td>\n",
       "      <td>3857</td>\n",
       "      <td>2</td>\n",
       "      <td>Thursday</td>\n",
       "      <td>Mediodia</td>\n",
       "      <td>2017</td>\n",
       "      <td>...</td>\n",
       "      <td>UX</td>\n",
       "      <td>3.140340</td>\n",
       "      <td>0.000000</td>\n",
       "      <td>2</td>\n",
       "      <td>0.0</td>\n",
       "      <td>0.0</td>\n",
       "      <td>2.520623</td>\n",
       "      <td>0.000000</td>\n",
       "      <td>0.623683</td>\n",
       "      <td>0.000000</td>\n",
       "    </tr>\n",
       "    <tr>\n",
       "      <td>1</td>\n",
       "      <td>11</td>\n",
       "      <td>ACEMAD</td>\n",
       "      <td>ACE</td>\n",
       "      <td>MAD</td>\n",
       "      <td>2017-02-03</td>\n",
       "      <td>3857</td>\n",
       "      <td>2</td>\n",
       "      <td>Friday</td>\n",
       "      <td>Mediodia</td>\n",
       "      <td>2017</td>\n",
       "      <td>...</td>\n",
       "      <td>UX</td>\n",
       "      <td>3.610000</td>\n",
       "      <td>0.000000</td>\n",
       "      <td>2</td>\n",
       "      <td>0.0</td>\n",
       "      <td>0.0</td>\n",
       "      <td>2.210075</td>\n",
       "      <td>0.000000</td>\n",
       "      <td>0.846071</td>\n",
       "      <td>0.000000</td>\n",
       "    </tr>\n",
       "    <tr>\n",
       "      <td>2</td>\n",
       "      <td>11</td>\n",
       "      <td>ACEMAD</td>\n",
       "      <td>ACE</td>\n",
       "      <td>MAD</td>\n",
       "      <td>2017-02-04</td>\n",
       "      <td>3857</td>\n",
       "      <td>2</td>\n",
       "      <td>Saturday</td>\n",
       "      <td>Mediodia</td>\n",
       "      <td>2017</td>\n",
       "      <td>...</td>\n",
       "      <td>UX</td>\n",
       "      <td>0.000000</td>\n",
       "      <td>3.252252</td>\n",
       "      <td>1</td>\n",
       "      <td>0.0</td>\n",
       "      <td>1.0</td>\n",
       "      <td>0.000000</td>\n",
       "      <td>1.595346</td>\n",
       "      <td>0.000000</td>\n",
       "      <td>0.981601</td>\n",
       "    </tr>\n",
       "    <tr>\n",
       "      <td>3</td>\n",
       "      <td>11</td>\n",
       "      <td>ACEMAD</td>\n",
       "      <td>ACE</td>\n",
       "      <td>MAD</td>\n",
       "      <td>2017-02-05</td>\n",
       "      <td>3857</td>\n",
       "      <td>2</td>\n",
       "      <td>Sunday</td>\n",
       "      <td>Mediodia</td>\n",
       "      <td>2017</td>\n",
       "      <td>...</td>\n",
       "      <td>UX</td>\n",
       "      <td>3.094286</td>\n",
       "      <td>3.252252</td>\n",
       "      <td>2</td>\n",
       "      <td>0.0</td>\n",
       "      <td>1.0</td>\n",
       "      <td>0.000000</td>\n",
       "      <td>1.485467</td>\n",
       "      <td>0.658558</td>\n",
       "      <td>0.955942</td>\n",
       "    </tr>\n",
       "    <tr>\n",
       "      <td>4</td>\n",
       "      <td>11</td>\n",
       "      <td>ACEMAD</td>\n",
       "      <td>ACE</td>\n",
       "      <td>MAD</td>\n",
       "      <td>2017-02-06</td>\n",
       "      <td>3857</td>\n",
       "      <td>2</td>\n",
       "      <td>Monday</td>\n",
       "      <td>Mediodia</td>\n",
       "      <td>2017</td>\n",
       "      <td>...</td>\n",
       "      <td>UX</td>\n",
       "      <td>2.022857</td>\n",
       "      <td>0.000000</td>\n",
       "      <td>2</td>\n",
       "      <td>0.0</td>\n",
       "      <td>0.0</td>\n",
       "      <td>2.648854</td>\n",
       "      <td>0.000000</td>\n",
       "      <td>0.387667</td>\n",
       "      <td>0.000000</td>\n",
       "    </tr>\n",
       "  </tbody>\n",
       "</table>\n",
       "<p>5 rows × 24 columns</p>\n",
       "</div>"
      ],
      "text/plain": [
       "   ant    ruta aeropuerto_origen aeropuerto_destino fecha_salida  \\\n",
       "0   11  ACEMAD               ACE                MAD   2017-02-02   \n",
       "1   11  ACEMAD               ACE                MAD   2017-02-03   \n",
       "2   11  ACEMAD               ACE                MAD   2017-02-04   \n",
       "3   11  ACEMAD               ACE                MAD   2017-02-05   \n",
       "4   11  ACEMAD               ACE                MAD   2017-02-06   \n",
       "\n",
       "   num_vuelo_operador  month   weekday  timezone  year  ...  second  \\\n",
       "0                3857      2  Thursday  Mediodia  2017  ...      UX   \n",
       "1                3857      2    Friday  Mediodia  2017  ...      UX   \n",
       "2                3857      2  Saturday  Mediodia  2017  ...      UX   \n",
       "3                3857      2    Sunday  Mediodia  2017  ...      UX   \n",
       "4                3857      2    Monday  Mediodia  2017  ...      UX   \n",
       "\n",
       "   first_ratio second_ratio hit first_weight  second_weight  \\\n",
       "0     3.140340     0.000000   2          0.0            0.0   \n",
       "1     3.610000     0.000000   2          0.0            0.0   \n",
       "2     0.000000     3.252252   1          0.0            1.0   \n",
       "3     3.094286     3.252252   2          0.0            1.0   \n",
       "4     2.022857     0.000000   2          0.0            0.0   \n",
       "\n",
       "   global_first_ratio  global_second_ratio   first_p  second_p  \n",
       "0            2.520623             0.000000  0.623683  0.000000  \n",
       "1            2.210075             0.000000  0.846071  0.000000  \n",
       "2            0.000000             1.595346  0.000000  0.981601  \n",
       "3            0.000000             1.485467  0.658558  0.955942  \n",
       "4            2.648854             0.000000  0.387667  0.000000  \n",
       "\n",
       "[5 rows x 24 columns]"
      ]
     },
     "execution_count": 2,
     "metadata": {},
     "output_type": "execute_result"
    }
   ],
   "source": [
    "# Load the dataset \n",
    "datos = pd.read_csv(\"./datasets/datos_pred_demanda.csv\", sep=';', decimal=',')\n",
    "datos.head()"
   ]
  },
  {
   "cell_type": "code",
   "execution_count": 3,
   "metadata": {},
   "outputs": [
    {
     "data": {
      "text/plain": [
       "(943794, 24)"
      ]
     },
     "execution_count": 3,
     "metadata": {},
     "output_type": "execute_result"
    }
   ],
   "source": [
    "datos.shape"
   ]
  },
  {
   "cell_type": "code",
   "execution_count": 4,
   "metadata": {},
   "outputs": [
    {
     "data": {
      "text/plain": [
       "array(['ACEMAD', 'LGWMAD', 'MADPMI', 'MADSCQ', 'MADTXL'], dtype=object)"
      ]
     },
     "execution_count": 4,
     "metadata": {},
     "output_type": "execute_result"
    }
   ],
   "source": [
    "datos['ruta'].unique()"
   ]
  },
  {
   "cell_type": "markdown",
   "metadata": {},
   "source": [
    "Tenemos casi un millón de patrones correspondientes a datos de 5 rutas diferentes y 24 características o variables.\n",
    "\n",
    "Seleccionamos datos de antelacion 11 para tener un conjunto de datos asequible para esta clase."
   ]
  },
  {
   "cell_type": "code",
   "execution_count": 6,
   "metadata": {
    "collapsed": true
   },
   "outputs": [],
   "source": [
    "# seleccionamos datos de antelacion 11 para tener un conjunto de datos asequible para esta clase\n",
    "datos = datos[datos.ant==11]"
   ]
  },
  {
   "cell_type": "code",
   "execution_count": 7,
   "metadata": {},
   "outputs": [
    {
     "data": {
      "text/plain": [
       "(34242, 24)"
      ]
     },
     "execution_count": 7,
     "metadata": {},
     "output_type": "execute_result"
    }
   ],
   "source": [
    "datos.shape"
   ]
  },
  {
   "cell_type": "markdown",
   "metadata": {},
   "source": [
    "# Tratamiento de datos"
   ]
  },
  {
   "cell_type": "markdown",
   "metadata": {},
   "source": [
    "Vamos a ordenar los datos por fecha salida para cuando escojamos el conjunto de train, validation y test se respete el eje temporal"
   ]
  },
  {
   "cell_type": "code",
   "execution_count": 8,
   "metadata": {
    "collapsed": true
   },
   "outputs": [],
   "source": [
    "datos = datos.sort_values(by=['fecha_salida'], ascending=True)"
   ]
  },
  {
   "cell_type": "markdown",
   "metadata": {},
   "source": [
    "Borramos las variables que no aportan información al modelo"
   ]
  },
  {
   "cell_type": "code",
   "execution_count": 9,
   "metadata": {
    "collapsed": true
   },
   "outputs": [],
   "source": [
    "\n",
    "del datos[\"num_vuelo_operador\"]"
   ]
  },
  {
   "cell_type": "markdown",
   "metadata": {},
   "source": [
    "Transformar variables categoricas en numericas.\n",
    "\n",
    "1) Primero definimos las variables numericas y categoricas.\n",
    "\n",
    "2) Aplicamos one hot enconding"
   ]
  },
  {
   "cell_type": "code",
   "execution_count": 10,
   "metadata": {},
   "outputs": [
    {
     "data": {
      "text/plain": [
       "['ruta',\n",
       " 'aeropuerto_origen',\n",
       " 'aeropuerto_destino',\n",
       " 'month',\n",
       " 'weekday',\n",
       " 'year',\n",
       " 'nombre_blackout',\n",
       " 'first',\n",
       " 'second',\n",
       " 'timezone']"
      ]
     },
     "execution_count": 10,
     "metadata": {},
     "output_type": "execute_result"
    }
   ],
   "source": [
    "categorical_vars = ['ruta', 'aeropuerto_origen', 'aeropuerto_destino', 'month', 'weekday', 'year', \n",
    "                    'nombre_blackout', 'first', 'second', 'timezone']\n",
    "\n",
    "categorical_vars"
   ]
  },
  {
   "cell_type": "code",
   "execution_count": 11,
   "metadata": {},
   "outputs": [
    {
     "data": {
      "text/plain": [
       "['demand',\n",
       " 'second_ratio',\n",
       " 'hit',\n",
       " 'global_second_ratio',\n",
       " 'ant',\n",
       " 'second_weight',\n",
       " 'first_weight',\n",
       " 'global_first_ratio',\n",
       " 'first_p',\n",
       " 'capacidad',\n",
       " 'first_ratio',\n",
       " 'second_p',\n",
       " 'fecha_salida']"
      ]
     },
     "execution_count": 11,
     "metadata": {},
     "output_type": "execute_result"
    }
   ],
   "source": [
    "numerical_vars = list(set(datos.columns) - set(categorical_vars))\n",
    "numerical_vars"
   ]
  },
  {
   "cell_type": "markdown",
   "metadata": {},
   "source": [
    "## One hot encoding"
   ]
  },
  {
   "cell_type": "markdown",
   "metadata": {},
   "source": [
    "Importamos la libreria que hace one hot encoding"
   ]
  },
  {
   "cell_type": "code",
   "execution_count": 12,
   "metadata": {
    "collapsed": true
   },
   "outputs": [],
   "source": [
    "from sklearn.preprocessing import OneHotEncoder"
   ]
  },
  {
   "cell_type": "markdown",
   "metadata": {},
   "source": [
    "Realizamos one hot encoding de las variables categoricas"
   ]
  },
  {
   "cell_type": "code",
   "execution_count": 13,
   "metadata": {
    "collapsed": true
   },
   "outputs": [],
   "source": [
    "ohe = OneHotEncoder(sparse = False)\n",
    "\n",
    "ohe_fit = ohe.fit(datos[categorical_vars])\n",
    "X_ohe = pd.DataFrame(ohe.fit_transform(datos[categorical_vars]))\n",
    "X_ohe.columns = pd.DataFrame(ohe_fit.get_feature_names())\n"
   ]
  },
  {
   "cell_type": "markdown",
   "metadata": {},
   "source": [
    "Visualizamos los datos iniciales y los que están con one hot encoding para ver la diferencia"
   ]
  },
  {
   "cell_type": "code",
   "execution_count": 14,
   "metadata": {},
   "outputs": [
    {
     "data": {
      "text/html": [
       "<div>\n",
       "<style scoped>\n",
       "    .dataframe tbody tr th:only-of-type {\n",
       "        vertical-align: middle;\n",
       "    }\n",
       "\n",
       "    .dataframe tbody tr th {\n",
       "        vertical-align: top;\n",
       "    }\n",
       "\n",
       "    .dataframe thead th {\n",
       "        text-align: right;\n",
       "    }\n",
       "</style>\n",
       "<table border=\"1\" class=\"dataframe\">\n",
       "  <thead>\n",
       "    <tr style=\"text-align: right;\">\n",
       "      <th></th>\n",
       "      <th>ant</th>\n",
       "      <th>ruta</th>\n",
       "      <th>aeropuerto_origen</th>\n",
       "      <th>aeropuerto_destino</th>\n",
       "      <th>fecha_salida</th>\n",
       "      <th>month</th>\n",
       "      <th>weekday</th>\n",
       "      <th>timezone</th>\n",
       "      <th>year</th>\n",
       "      <th>capacidad</th>\n",
       "      <th>...</th>\n",
       "      <th>second</th>\n",
       "      <th>first_ratio</th>\n",
       "      <th>second_ratio</th>\n",
       "      <th>hit</th>\n",
       "      <th>first_weight</th>\n",
       "      <th>second_weight</th>\n",
       "      <th>global_first_ratio</th>\n",
       "      <th>global_second_ratio</th>\n",
       "      <th>first_p</th>\n",
       "      <th>second_p</th>\n",
       "    </tr>\n",
       "  </thead>\n",
       "  <tbody>\n",
       "    <tr>\n",
       "      <td>0</td>\n",
       "      <td>11</td>\n",
       "      <td>ACEMAD</td>\n",
       "      <td>ACE</td>\n",
       "      <td>MAD</td>\n",
       "      <td>2017-02-02</td>\n",
       "      <td>2</td>\n",
       "      <td>Thursday</td>\n",
       "      <td>Mediodia</td>\n",
       "      <td>2017</td>\n",
       "      <td>213</td>\n",
       "      <td>...</td>\n",
       "      <td>UX</td>\n",
       "      <td>3.140340</td>\n",
       "      <td>0.000000</td>\n",
       "      <td>2</td>\n",
       "      <td>0.0</td>\n",
       "      <td>0.0</td>\n",
       "      <td>2.520623</td>\n",
       "      <td>0.000000</td>\n",
       "      <td>0.623683</td>\n",
       "      <td>0.000000</td>\n",
       "    </tr>\n",
       "    <tr>\n",
       "      <td>29080</td>\n",
       "      <td>11</td>\n",
       "      <td>MADTXL</td>\n",
       "      <td>MAD</td>\n",
       "      <td>TXL</td>\n",
       "      <td>2017-02-02</td>\n",
       "      <td>2</td>\n",
       "      <td>Thursday</td>\n",
       "      <td>Tarde</td>\n",
       "      <td>2017</td>\n",
       "      <td>176</td>\n",
       "      <td>...</td>\n",
       "      <td>UNKNOWN</td>\n",
       "      <td>2.557941</td>\n",
       "      <td>0.000000</td>\n",
       "      <td>1</td>\n",
       "      <td>1.0</td>\n",
       "      <td>0.0</td>\n",
       "      <td>2.415747</td>\n",
       "      <td>0.000000</td>\n",
       "      <td>0.640143</td>\n",
       "      <td>0.000000</td>\n",
       "    </tr>\n",
       "    <tr>\n",
       "      <td>6007</td>\n",
       "      <td>11</td>\n",
       "      <td>LGWMAD</td>\n",
       "      <td>MAD</td>\n",
       "      <td>LGW</td>\n",
       "      <td>2017-02-02</td>\n",
       "      <td>2</td>\n",
       "      <td>Thursday</td>\n",
       "      <td>Matutina</td>\n",
       "      <td>2017</td>\n",
       "      <td>172</td>\n",
       "      <td>...</td>\n",
       "      <td>D8</td>\n",
       "      <td>1.000000</td>\n",
       "      <td>0.000000</td>\n",
       "      <td>1</td>\n",
       "      <td>1.0</td>\n",
       "      <td>0.0</td>\n",
       "      <td>1.339117</td>\n",
       "      <td>0.000000</td>\n",
       "      <td>0.405146</td>\n",
       "      <td>0.000000</td>\n",
       "    </tr>\n",
       "    <tr>\n",
       "      <td>6008</td>\n",
       "      <td>11</td>\n",
       "      <td>LGWMAD</td>\n",
       "      <td>MAD</td>\n",
       "      <td>LGW</td>\n",
       "      <td>2017-02-02</td>\n",
       "      <td>2</td>\n",
       "      <td>Thursday</td>\n",
       "      <td>Tarde_Noche</td>\n",
       "      <td>2017</td>\n",
       "      <td>176</td>\n",
       "      <td>...</td>\n",
       "      <td>D8</td>\n",
       "      <td>0.000000</td>\n",
       "      <td>0.845015</td>\n",
       "      <td>1</td>\n",
       "      <td>0.0</td>\n",
       "      <td>1.0</td>\n",
       "      <td>0.000000</td>\n",
       "      <td>1.013701</td>\n",
       "      <td>0.000000</td>\n",
       "      <td>0.275469</td>\n",
       "    </tr>\n",
       "    <tr>\n",
       "      <td>8192</td>\n",
       "      <td>11</td>\n",
       "      <td>MADPMI</td>\n",
       "      <td>MAD</td>\n",
       "      <td>PMI</td>\n",
       "      <td>2017-02-02</td>\n",
       "      <td>2</td>\n",
       "      <td>Thursday</td>\n",
       "      <td>Tarde</td>\n",
       "      <td>2017</td>\n",
       "      <td>174</td>\n",
       "      <td>...</td>\n",
       "      <td>UX</td>\n",
       "      <td>0.000000</td>\n",
       "      <td>1.813973</td>\n",
       "      <td>1</td>\n",
       "      <td>0.0</td>\n",
       "      <td>1.0</td>\n",
       "      <td>0.000000</td>\n",
       "      <td>1.149599</td>\n",
       "      <td>0.000000</td>\n",
       "      <td>0.991889</td>\n",
       "    </tr>\n",
       "  </tbody>\n",
       "</table>\n",
       "<p>5 rows × 23 columns</p>\n",
       "</div>"
      ],
      "text/plain": [
       "       ant    ruta aeropuerto_origen aeropuerto_destino fecha_salida  month  \\\n",
       "0       11  ACEMAD               ACE                MAD   2017-02-02      2   \n",
       "29080   11  MADTXL               MAD                TXL   2017-02-02      2   \n",
       "6007    11  LGWMAD               MAD                LGW   2017-02-02      2   \n",
       "6008    11  LGWMAD               MAD                LGW   2017-02-02      2   \n",
       "8192    11  MADPMI               MAD                PMI   2017-02-02      2   \n",
       "\n",
       "        weekday     timezone  year  capacidad  ...   second first_ratio  \\\n",
       "0      Thursday     Mediodia  2017        213  ...       UX    3.140340   \n",
       "29080  Thursday        Tarde  2017        176  ...  UNKNOWN    2.557941   \n",
       "6007   Thursday     Matutina  2017        172  ...       D8    1.000000   \n",
       "6008   Thursday  Tarde_Noche  2017        176  ...       D8    0.000000   \n",
       "8192   Thursday        Tarde  2017        174  ...       UX    0.000000   \n",
       "\n",
       "      second_ratio hit  first_weight  second_weight  global_first_ratio  \\\n",
       "0         0.000000   2           0.0            0.0            2.520623   \n",
       "29080     0.000000   1           1.0            0.0            2.415747   \n",
       "6007      0.000000   1           1.0            0.0            1.339117   \n",
       "6008      0.845015   1           0.0            1.0            0.000000   \n",
       "8192      1.813973   1           0.0            1.0            0.000000   \n",
       "\n",
       "       global_second_ratio   first_p  second_p  \n",
       "0                 0.000000  0.623683  0.000000  \n",
       "29080             0.000000  0.640143  0.000000  \n",
       "6007              0.000000  0.405146  0.000000  \n",
       "6008              1.013701  0.000000  0.275469  \n",
       "8192              1.149599  0.000000  0.991889  \n",
       "\n",
       "[5 rows x 23 columns]"
      ]
     },
     "execution_count": 14,
     "metadata": {},
     "output_type": "execute_result"
    }
   ],
   "source": [
    "datos.head()"
   ]
  },
  {
   "cell_type": "code",
   "execution_count": 15,
   "metadata": {},
   "outputs": [
    {
     "data": {
      "text/html": [
       "<div>\n",
       "<style scoped>\n",
       "    .dataframe tbody tr th:only-of-type {\n",
       "        vertical-align: middle;\n",
       "    }\n",
       "\n",
       "    .dataframe tbody tr th {\n",
       "        vertical-align: top;\n",
       "    }\n",
       "\n",
       "    .dataframe thead th {\n",
       "        text-align: right;\n",
       "    }\n",
       "</style>\n",
       "<table border=\"1\" class=\"dataframe\">\n",
       "  <thead>\n",
       "    <tr style=\"text-align: right;\">\n",
       "      <th></th>\n",
       "      <th>(x0_ACEMAD,)</th>\n",
       "      <th>(x0_LGWMAD,)</th>\n",
       "      <th>(x0_MADPMI,)</th>\n",
       "      <th>(x0_MADSCQ,)</th>\n",
       "      <th>(x0_MADTXL,)</th>\n",
       "      <th>(x1_ACE,)</th>\n",
       "      <th>(x1_LGW,)</th>\n",
       "      <th>(x1_MAD,)</th>\n",
       "      <th>(x1_PMI,)</th>\n",
       "      <th>(x1_SCQ,)</th>\n",
       "      <th>...</th>\n",
       "      <th>(x8_D8,)</th>\n",
       "      <th>(x8_UNKNOWN,)</th>\n",
       "      <th>(x8_UX,)</th>\n",
       "      <th>(x9_Manana,)</th>\n",
       "      <th>(x9_Matutina,)</th>\n",
       "      <th>(x9_Mediodia,)</th>\n",
       "      <th>(x9_Noche,)</th>\n",
       "      <th>(x9_Nocturna,)</th>\n",
       "      <th>(x9_Tarde,)</th>\n",
       "      <th>(x9_Tarde_Noche,)</th>\n",
       "    </tr>\n",
       "  </thead>\n",
       "  <tbody>\n",
       "    <tr>\n",
       "      <td>0</td>\n",
       "      <td>1.0</td>\n",
       "      <td>0.0</td>\n",
       "      <td>0.0</td>\n",
       "      <td>0.0</td>\n",
       "      <td>0.0</td>\n",
       "      <td>1.0</td>\n",
       "      <td>0.0</td>\n",
       "      <td>0.0</td>\n",
       "      <td>0.0</td>\n",
       "      <td>0.0</td>\n",
       "      <td>...</td>\n",
       "      <td>0.0</td>\n",
       "      <td>0.0</td>\n",
       "      <td>1.0</td>\n",
       "      <td>0.0</td>\n",
       "      <td>0.0</td>\n",
       "      <td>1.0</td>\n",
       "      <td>0.0</td>\n",
       "      <td>0.0</td>\n",
       "      <td>0.0</td>\n",
       "      <td>0.0</td>\n",
       "    </tr>\n",
       "    <tr>\n",
       "      <td>1</td>\n",
       "      <td>0.0</td>\n",
       "      <td>0.0</td>\n",
       "      <td>0.0</td>\n",
       "      <td>0.0</td>\n",
       "      <td>1.0</td>\n",
       "      <td>0.0</td>\n",
       "      <td>0.0</td>\n",
       "      <td>1.0</td>\n",
       "      <td>0.0</td>\n",
       "      <td>0.0</td>\n",
       "      <td>...</td>\n",
       "      <td>0.0</td>\n",
       "      <td>1.0</td>\n",
       "      <td>0.0</td>\n",
       "      <td>0.0</td>\n",
       "      <td>0.0</td>\n",
       "      <td>0.0</td>\n",
       "      <td>0.0</td>\n",
       "      <td>0.0</td>\n",
       "      <td>1.0</td>\n",
       "      <td>0.0</td>\n",
       "    </tr>\n",
       "    <tr>\n",
       "      <td>2</td>\n",
       "      <td>0.0</td>\n",
       "      <td>1.0</td>\n",
       "      <td>0.0</td>\n",
       "      <td>0.0</td>\n",
       "      <td>0.0</td>\n",
       "      <td>0.0</td>\n",
       "      <td>0.0</td>\n",
       "      <td>1.0</td>\n",
       "      <td>0.0</td>\n",
       "      <td>0.0</td>\n",
       "      <td>...</td>\n",
       "      <td>1.0</td>\n",
       "      <td>0.0</td>\n",
       "      <td>0.0</td>\n",
       "      <td>0.0</td>\n",
       "      <td>1.0</td>\n",
       "      <td>0.0</td>\n",
       "      <td>0.0</td>\n",
       "      <td>0.0</td>\n",
       "      <td>0.0</td>\n",
       "      <td>0.0</td>\n",
       "    </tr>\n",
       "    <tr>\n",
       "      <td>3</td>\n",
       "      <td>0.0</td>\n",
       "      <td>1.0</td>\n",
       "      <td>0.0</td>\n",
       "      <td>0.0</td>\n",
       "      <td>0.0</td>\n",
       "      <td>0.0</td>\n",
       "      <td>0.0</td>\n",
       "      <td>1.0</td>\n",
       "      <td>0.0</td>\n",
       "      <td>0.0</td>\n",
       "      <td>...</td>\n",
       "      <td>1.0</td>\n",
       "      <td>0.0</td>\n",
       "      <td>0.0</td>\n",
       "      <td>0.0</td>\n",
       "      <td>0.0</td>\n",
       "      <td>0.0</td>\n",
       "      <td>0.0</td>\n",
       "      <td>0.0</td>\n",
       "      <td>0.0</td>\n",
       "      <td>1.0</td>\n",
       "    </tr>\n",
       "    <tr>\n",
       "      <td>4</td>\n",
       "      <td>0.0</td>\n",
       "      <td>0.0</td>\n",
       "      <td>1.0</td>\n",
       "      <td>0.0</td>\n",
       "      <td>0.0</td>\n",
       "      <td>0.0</td>\n",
       "      <td>0.0</td>\n",
       "      <td>1.0</td>\n",
       "      <td>0.0</td>\n",
       "      <td>0.0</td>\n",
       "      <td>...</td>\n",
       "      <td>0.0</td>\n",
       "      <td>0.0</td>\n",
       "      <td>1.0</td>\n",
       "      <td>0.0</td>\n",
       "      <td>0.0</td>\n",
       "      <td>0.0</td>\n",
       "      <td>0.0</td>\n",
       "      <td>0.0</td>\n",
       "      <td>1.0</td>\n",
       "      <td>0.0</td>\n",
       "    </tr>\n",
       "  </tbody>\n",
       "</table>\n",
       "<p>5 rows × 59 columns</p>\n",
       "</div>"
      ],
      "text/plain": [
       "   (x0_ACEMAD,)  (x0_LGWMAD,)  (x0_MADPMI,)  (x0_MADSCQ,)  (x0_MADTXL,)  \\\n",
       "0           1.0           0.0           0.0           0.0           0.0   \n",
       "1           0.0           0.0           0.0           0.0           1.0   \n",
       "2           0.0           1.0           0.0           0.0           0.0   \n",
       "3           0.0           1.0           0.0           0.0           0.0   \n",
       "4           0.0           0.0           1.0           0.0           0.0   \n",
       "\n",
       "   (x1_ACE,)  (x1_LGW,)  (x1_MAD,)  (x1_PMI,)  (x1_SCQ,)  ...  (x8_D8,)  \\\n",
       "0        1.0        0.0        0.0        0.0        0.0  ...       0.0   \n",
       "1        0.0        0.0        1.0        0.0        0.0  ...       0.0   \n",
       "2        0.0        0.0        1.0        0.0        0.0  ...       1.0   \n",
       "3        0.0        0.0        1.0        0.0        0.0  ...       1.0   \n",
       "4        0.0        0.0        1.0        0.0        0.0  ...       0.0   \n",
       "\n",
       "   (x8_UNKNOWN,)  (x8_UX,)  (x9_Manana,)  (x9_Matutina,)  (x9_Mediodia,)  \\\n",
       "0            0.0       1.0           0.0             0.0             1.0   \n",
       "1            1.0       0.0           0.0             0.0             0.0   \n",
       "2            0.0       0.0           0.0             1.0             0.0   \n",
       "3            0.0       0.0           0.0             0.0             0.0   \n",
       "4            0.0       1.0           0.0             0.0             0.0   \n",
       "\n",
       "   (x9_Noche,)  (x9_Nocturna,)  (x9_Tarde,)  (x9_Tarde_Noche,)  \n",
       "0          0.0             0.0          0.0                0.0  \n",
       "1          0.0             0.0          1.0                0.0  \n",
       "2          0.0             0.0          0.0                0.0  \n",
       "3          0.0             0.0          0.0                1.0  \n",
       "4          0.0             0.0          1.0                0.0  \n",
       "\n",
       "[5 rows x 59 columns]"
      ]
     },
     "execution_count": 15,
     "metadata": {},
     "output_type": "execute_result"
    }
   ],
   "source": [
    "X_ohe.head()"
   ]
  },
  {
   "cell_type": "markdown",
   "metadata": {},
   "source": [
    "Concatenamos los datos categoricos con one hot enconding y los numericos para tener el dataset completo"
   ]
  },
  {
   "cell_type": "code",
   "execution_count": 16,
   "metadata": {
    "collapsed": true
   },
   "outputs": [],
   "source": [
    "datos = pd.concat((X_ohe, datos[numerical_vars].reset_index()), axis=1)"
   ]
  },
  {
   "cell_type": "code",
   "execution_count": 17,
   "metadata": {},
   "outputs": [
    {
     "data": {
      "text/plain": [
       "Index(['fecha_salida'], dtype='object')"
      ]
     },
     "execution_count": 17,
     "metadata": {},
     "output_type": "execute_result"
    }
   ],
   "source": [
    "datos.columns[datos.dtypes == object]"
   ]
  },
  {
   "cell_type": "markdown",
   "metadata": {},
   "source": [
    "Comprobamos que ahora todos los datos son numericos menos fecha salida que lo quitaremos por ser una importante del modelo"
   ]
  },
  {
   "cell_type": "markdown",
   "metadata": {},
   "source": [
    "# Escalado"
   ]
  },
  {
   "cell_type": "code",
   "execution_count": 18,
   "metadata": {
    "collapsed": true
   },
   "outputs": [],
   "source": [
    "fecha_salida_values = datos['fecha_salida']\n",
    "y = datos['demand']\n",
    "del datos['fecha_salida']"
   ]
  },
  {
   "cell_type": "markdown",
   "metadata": {},
   "source": [
    "Escalamos los datos mediante la media y la desviación típica.\n",
    "\n",
    "Este paso es muy importante en un modelo machine learning ya que si las variables tienen escalas muy diferentes el modelo dará mucho más peso a las variables con valores mas altos."
   ]
  },
  {
   "cell_type": "code",
   "execution_count": 20,
   "metadata": {
    "collapsed": true
   },
   "outputs": [],
   "source": [
    "datos_scale = pd.DataFrame(scale(datos))\n",
    "datos_scale.columns = datos.columns"
   ]
  },
  {
   "cell_type": "markdown",
   "metadata": {},
   "source": [
    "Visualizamos los datos iniciales y los escalados para ver la diferencia."
   ]
  },
  {
   "cell_type": "code",
   "execution_count": 21,
   "metadata": {},
   "outputs": [
    {
     "name": "stdout",
     "output_type": "stream",
     "text": [
      "   (x0_ACEMAD,)  (x0_LGWMAD,)  (x0_MADPMI,)  (x0_MADSCQ,)  (x0_MADTXL,)  \\\n",
      "0           1.0           0.0           0.0           0.0           0.0   \n",
      "1           0.0           0.0           0.0           0.0           1.0   \n",
      "2           0.0           1.0           0.0           0.0           0.0   \n",
      "3           0.0           1.0           0.0           0.0           0.0   \n",
      "4           0.0           0.0           1.0           0.0           0.0   \n",
      "\n",
      "   (x1_ACE,)  (x1_LGW,)  (x1_MAD,)  (x1_PMI,)  (x1_SCQ,)  ...  hit  \\\n",
      "0        1.0        0.0        0.0        0.0        0.0  ...    2   \n",
      "1        0.0        0.0        1.0        0.0        0.0  ...    1   \n",
      "2        0.0        0.0        1.0        0.0        0.0  ...    1   \n",
      "3        0.0        0.0        1.0        0.0        0.0  ...    1   \n",
      "4        0.0        0.0        1.0        0.0        0.0  ...    1   \n",
      "\n",
      "   global_second_ratio  ant  second_weight  first_weight  global_first_ratio  \\\n",
      "0             0.000000   11            0.0           0.0            2.520623   \n",
      "1             0.000000   11            0.0           1.0            2.415747   \n",
      "2             0.000000   11            0.0           1.0            1.339117   \n",
      "3             1.013701   11            1.0           0.0            0.000000   \n",
      "4             1.149599   11            1.0           0.0            0.000000   \n",
      "\n",
      "    first_p  capacidad  first_ratio  second_p  \n",
      "0  0.623683        213     3.140340  0.000000  \n",
      "1  0.640143        176     2.557941  0.000000  \n",
      "2  0.405146        172     1.000000  0.000000  \n",
      "3  0.000000        176     0.000000  0.275469  \n",
      "4  0.000000        174     0.000000  0.991889  \n",
      "\n",
      "[5 rows x 72 columns]\n",
      "   (x0_ACEMAD,)  (x0_LGWMAD,)  (x0_MADPMI,)  (x0_MADSCQ,)  (x0_MADTXL,)  \\\n",
      "0      2.822450     -0.382630     -0.730284     -0.596127     -0.421320   \n",
      "1     -0.354302     -0.382630     -0.730284     -0.596127      2.373494   \n",
      "2     -0.354302      2.613489     -0.730284     -0.596127     -0.421320   \n",
      "3     -0.354302      2.613489     -0.730284     -0.596127     -0.421320   \n",
      "4     -0.354302     -0.382630      1.369329     -0.596127     -0.421320   \n",
      "\n",
      "   (x1_ACE,)  (x1_LGW,)  (x1_MAD,)  (x1_PMI,)  (x1_SCQ,)  ...       hit  \\\n",
      "0   4.115476  -0.261266  -0.999008  -0.459292  -0.388377  ...  0.936178   \n",
      "1  -0.242985  -0.261266   1.000993  -0.459292  -0.388377  ... -0.762095   \n",
      "2  -0.242985  -0.261266   1.000993  -0.459292  -0.388377  ... -0.762095   \n",
      "3  -0.242985  -0.261266   1.000993  -0.459292  -0.388377  ... -0.762095   \n",
      "4  -0.242985  -0.261266   1.000993  -0.459292  -0.388377  ... -0.762095   \n",
      "\n",
      "   global_second_ratio  ant  second_weight  first_weight  global_first_ratio  \\\n",
      "0            -0.784568  0.0      -0.828474     -0.836621            1.116446   \n",
      "1            -0.784568  0.0      -0.828474      1.566123            1.029807   \n",
      "2            -0.784568  0.0      -0.828474      1.566123            0.140395   \n",
      "3             0.781760  0.0       1.584820     -0.836621           -0.965861   \n",
      "4             0.991742  0.0       1.584820     -0.836621           -0.965861   \n",
      "\n",
      "    first_p  capacidad  first_ratio  second_p  \n",
      "0  0.920076   2.181833     1.229701 -0.795307  \n",
      "1  0.970004  -0.400404     0.845664 -0.795307  \n",
      "2  0.257213  -0.679565    -0.181651 -0.795307  \n",
      "3 -0.971669  -0.400404    -0.841056  0.035931  \n",
      "4 -0.971669  -0.539984    -0.841056  2.197753  \n",
      "\n",
      "[5 rows x 72 columns]\n"
     ]
    }
   ],
   "source": [
    "print(datos.head())\n",
    "print(datos_scale.head())"
   ]
  },
  {
   "cell_type": "code",
   "execution_count": 22,
   "metadata": {
    "collapsed": true
   },
   "outputs": [],
   "source": [
    "datos = datos_scale\n",
    "datos['fecha_salida'] = fecha_salida_values\n",
    "datos['demand'] = y"
   ]
  },
  {
   "cell_type": "markdown",
   "metadata": {},
   "source": [
    "# Elección de los conjuntos de entrenamiento"
   ]
  },
  {
   "cell_type": "markdown",
   "metadata": {},
   "source": [
    "1.1 Conjunto de Validación Fijo\n",
    "\n",
    "Utilizaremos a modo de ejemplo los ratios habitualmente recomendados:\n",
    "\n",
    "• Train: 70%.\n",
    "\n",
    "• Validación: 15%.\n",
    "\n",
    "• Test: 15%.\n"
   ]
  },
  {
   "cell_type": "code",
   "execution_count": 23,
   "metadata": {
    "collapsed": true
   },
   "outputs": [],
   "source": [
    "perc_values = [0.7, 0.15, 0.15];"
   ]
  },
  {
   "cell_type": "code",
   "execution_count": 24,
   "metadata": {
    "collapsed": true
   },
   "outputs": [],
   "source": [
    "# Selección del patrón de datos X y del target y\n",
    "y = datos['demand']\n",
    "X = datos.loc[:, datos.columns != 'demand']"
   ]
  },
  {
   "cell_type": "code",
   "execution_count": 25,
   "metadata": {
    "collapsed": true
   },
   "outputs": [],
   "source": [
    "from sklearn.model_selection import train_test_split"
   ]
  },
  {
   "cell_type": "markdown",
   "metadata": {},
   "source": [
    "Creamos los conjuntos de train, validacion y test con el tamaño seleccionado pero de manera aleatoria"
   ]
  },
  {
   "cell_type": "code",
   "execution_count": 26,
   "metadata": {
    "collapsed": true
   },
   "outputs": [],
   "source": [
    "X_train_rand, X_valtest_rand, y_train_rand, y_valtest_rand = train_test_split(X, y, test_size=perc_values[1] + perc_values[2], random_state=1);\n",
    "\n",
    "X_val_rand, X_test_rand, y_val_rand, y_test_rand = train_test_split(X_valtest_rand, y_valtest_rand, test_size= perc_values[2] / (perc_values[1] + perc_values[2]), random_state=1)"
   ]
  },
  {
   "cell_type": "markdown",
   "metadata": {},
   "source": [
    "Creamos los conjuntos de train, validacion y test con el tamaño seleccionado pero respetando el eje temporal"
   ]
  },
  {
   "cell_type": "code",
   "execution_count": 27,
   "metadata": {
    "collapsed": true
   },
   "outputs": [],
   "source": [
    "# dimensiones de los conjuntos de train y test\n",
    "n_train = int(X.shape[0] * perc_values[0])\n",
    "n_val = int(X.shape[0] * perc_values[1])\n",
    "n_test = int(X.shape[0] * perc_values[2])\n",
    "\n",
    "# selección del conjunto de train\n",
    "X_train = X.iloc[:n_train]\n",
    "y_train = y.iloc[:n_train]\n",
    "\n",
    "# selección del conjunto de validación\n",
    "X_val = X.iloc[(n_train):(n_train+n_val)]\n",
    "y_val = y.iloc[(n_train):(n_train+n_val)]\n",
    "\n",
    "# selección del conjunto de test\n",
    "X_test = X.iloc[(n_train+n_val):]\n",
    "y_test = y.iloc[(n_train+n_val):]"
   ]
  },
  {
   "cell_type": "markdown",
   "metadata": {},
   "source": [
    "Visualizamos el tamaño de los conjuntos para el set aleatorio"
   ]
  },
  {
   "cell_type": "code",
   "execution_count": 28,
   "metadata": {},
   "outputs": [
    {
     "name": "stdout",
     "output_type": "stream",
     "text": [
      "Train data size = (23969, 72)\n",
      "Train target size = (23969,)\n",
      "Validation data size = (5136, 72)\n",
      "Validation target size = (5136,)\n",
      "Test data size = (5137, 72)\n",
      "Test target size = (5137,)\n"
     ]
    }
   ],
   "source": [
    "print('Train data size = ' + str(X_train_rand.shape))\n",
    "print('Train target size = ' + str(y_train_rand.shape))\n",
    "print('Validation data size = ' + str(X_val_rand.shape))\n",
    "print('Validation target size = ' + str(y_val_rand.shape))\n",
    "print('Test data size = ' + str(X_test_rand.shape))\n",
    "print('Test target size = ' + str(y_test_rand.shape))"
   ]
  },
  {
   "cell_type": "markdown",
   "metadata": {},
   "source": [
    "Visualizamos el tamaño de los conjuntos para el set con el eje temporal"
   ]
  },
  {
   "cell_type": "code",
   "execution_count": 29,
   "metadata": {},
   "outputs": [
    {
     "name": "stdout",
     "output_type": "stream",
     "text": [
      "Train data size = (23969, 72)\n",
      "Train target size = (23969,)\n",
      "Validation data size = (5136, 72)\n",
      "Validation target size = (5136,)\n",
      "Test data size = (5137, 72)\n",
      "Test target size = (5137,)\n"
     ]
    }
   ],
   "source": [
    "print('Train data size = ' + str(X_train.shape))\n",
    "print('Train target size = ' + str(y_train.shape))\n",
    "print('Validation data size = ' + str(X_val.shape))\n",
    "print('Validation target size = ' + str(y_val.shape))\n",
    "print('Test data size = ' + str(X_test.shape))\n",
    "print('Test target size = ' + str(y_test.shape))"
   ]
  },
  {
   "cell_type": "markdown",
   "metadata": {},
   "source": [
    "Comprobamos que estos conjuntos tienen el mismo tamaño"
   ]
  },
  {
   "cell_type": "markdown",
   "metadata": {},
   "source": [
    "Visualizamos las fecha de salida de los conjuntos para el set aleatorio"
   ]
  },
  {
   "cell_type": "code",
   "execution_count": 30,
   "metadata": {},
   "outputs": [
    {
     "name": "stdout",
     "output_type": "stream",
     "text": [
      "Train min date data = 2017-02-02\n",
      "Train max date data = 2020-02-18\n",
      "Val min date data = 2017-02-02\n",
      "Val max date data = 2020-02-18\n",
      "Test min date data = 2017-02-02\n",
      "Test max date data = 2020-02-18\n"
     ]
    }
   ],
   "source": [
    "# eje temporal de cada conjunto\n",
    "print('Train min date data = ' + np.amin(X_train_rand[\"fecha_salida\"]))\n",
    "print('Train max date data = ' + np.amax(X_train_rand[\"fecha_salida\"]))\n",
    "\n",
    "print('Val min date data = ' + np.amin(X_val_rand[\"fecha_salida\"]))\n",
    "print('Val max date data = ' + np.amax(X_val_rand[\"fecha_salida\"]))\n",
    "\n",
    "print('Test min date data = ' + np.amin(X_test_rand[\"fecha_salida\"]))\n",
    "print('Test max date data = ' + np.amax(X_test_rand[\"fecha_salida\"]))"
   ]
  },
  {
   "cell_type": "markdown",
   "metadata": {},
   "source": [
    "Visualizamos las fecha de salida de los conjuntos para el set con el eje temporal"
   ]
  },
  {
   "cell_type": "code",
   "execution_count": 31,
   "metadata": {},
   "outputs": [
    {
     "name": "stdout",
     "output_type": "stream",
     "text": [
      "Train min date data = 2017-02-02\n",
      "Train max date data = 2019-05-02\n",
      "Val min date data = 2019-05-03\n",
      "Val max date data = 2019-09-19\n",
      "Test min date data = 2019-09-19\n",
      "Test max date data = 2020-02-18\n"
     ]
    }
   ],
   "source": [
    "# eje temporal de cada conjunto\n",
    "print('Train min date data = ' + np.amin(X_train[\"fecha_salida\"]))\n",
    "print('Train max date data = ' + np.amax(X_train[\"fecha_salida\"]))\n",
    "\n",
    "print('Val min date data = ' + np.amin(X_val[\"fecha_salida\"]))\n",
    "print('Val max date data = ' + np.amax(X_val[\"fecha_salida\"]))\n",
    "\n",
    "print('Test min date data = ' + np.amin(X_test[\"fecha_salida\"]))\n",
    "print('Test max date data = ' + np.amax(X_test[\"fecha_salida\"]))"
   ]
  },
  {
   "cell_type": "markdown",
   "metadata": {},
   "source": [
    "Como podemos comprobar en este caso si varía.\n",
    "\n",
    "Si nuestro problema es time depending como en este caso, ya que no debería ver el llenado del vuelo en días posteriores es conveniente usar la segunda aproximación en la que al hacer el split de los conjuntos de train, validación y test estamos teniendo en cuenta el eje temporal.\n",
    "\n",
    "De otra manera nuestro modelo estaría haciendo \"trampa\" viendo el futuro."
   ]
  },
  {
   "cell_type": "markdown",
   "metadata": {},
   "source": [
    "Una vez hechas las comprobaciones borramos la variable fecha_salida ya que no es una variable del modelo."
   ]
  },
  {
   "cell_type": "code",
   "execution_count": 32,
   "metadata": {
    "collapsed": true
   },
   "outputs": [],
   "source": [
    "del X_train['fecha_salida']\n",
    "del X_val['fecha_salida']\n",
    "del X_test['fecha_salida']"
   ]
  },
  {
   "cell_type": "markdown",
   "metadata": {},
   "source": [
    "\n",
    "# Modelos\n",
    "\n",
    "Scikit-Learn dispone de una extensa batería de modelos de Machine Learning disponible, siendo esta una de las grandes ventajas que tiene el uso de esta librería.\n",
    "\n",
    "Otra de las razones de su popularidad es que proporciona un framework de uso que es general para todos los tipos de modelos. Básicamente consiste de 6 pasos:\n",
    "\n",
    "1.Importar modelo que se quiere emplear. Ver lista de modelos supervisados en: https://scikit-learn.org/stable/supervised_learning.html\n",
    "\n",
    "\n",
    "2.Importa métrica a emplear. Ver lista de métricas disponibles en https://scikit-learn.org/stable/modules/classes.html#module-sklearn.metrics.\n",
    "\n",
    "\n",
    "3.Definir modelo.\n",
    "\n",
    "\n",
    "4.Llamar al método fit para entrenar el modelo.\n",
    "\n",
    "\n",
    "5.Llamar al método predict para generar las predicciones.\n",
    "\n",
    "\n",
    "6.Calcular métrica usando las predicciones obtenidas en el paso anterior.\n",
    "\n",
    "\n",
    "Veamos todos estos pasos con un ejemplo sencillo\n"
   ]
  },
  {
   "cell_type": "markdown",
   "metadata": {},
   "source": [
    "\n",
    "1) Importar modelo, en este caso SV Regression\n"
   ]
  },
  {
   "cell_type": "code",
   "execution_count": 33,
   "metadata": {
    "collapsed": true
   },
   "outputs": [],
   "source": [
    "from sklearn import svm\n"
   ]
  },
  {
   "cell_type": "markdown",
   "metadata": {},
   "source": [
    "2) Importar métrica, en este caso MAE y MSE"
   ]
  },
  {
   "cell_type": "code",
   "execution_count": 34,
   "metadata": {
    "collapsed": true
   },
   "outputs": [],
   "source": [
    "from sklearn.metrics import mean_absolute_error as mae\n",
    "from sklearn.metrics import mean_squared_error as mse"
   ]
  },
  {
   "cell_type": "markdown",
   "metadata": {},
   "source": [
    "3) Definir el método"
   ]
  },
  {
   "cell_type": "code",
   "execution_count": 35,
   "metadata": {
    "collapsed": true
   },
   "outputs": [],
   "source": [
    "model = svm.SVR(kernel='rbf')"
   ]
  },
  {
   "cell_type": "markdown",
   "metadata": {},
   "source": [
    "4) Llamar al método fit para entrenar el modelo"
   ]
  },
  {
   "cell_type": "markdown",
   "metadata": {},
   "source": [
    "Añadimos la función timeit para medir el tiempo que tarda el modelo.\n",
    "\n",
    "De esta manera podremos hacer una estimación de cuanto tardará nuestro grid. Aunque esto dependerá de muchas otras cosas, por ejemplo, el parámetro C da la complejidad del modelo y C más grande más tardará en entrenar ese modelo."
   ]
  },
  {
   "cell_type": "code",
   "execution_count": 36,
   "metadata": {},
   "outputs": [
    {
     "name": "stderr",
     "output_type": "stream",
     "text": [
      "C:\\Users\\yvonne.gala\\AppData\\Local\\Continuum\\anaconda\\lib\\site-packages\\sklearn\\svm\\base.py:193: FutureWarning: The default value of gamma will change from 'auto' to 'scale' in version 0.22 to account better for unscaled features. Set gamma explicitly to 'auto' or 'scale' to avoid this warning.\n",
      "  \"avoid this warning.\", FutureWarning)\n"
     ]
    },
    {
     "name": "stdout",
     "output_type": "stream",
     "text": [
      "Time:  69.43098426799997\n"
     ]
    }
   ],
   "source": [
    "## Ponemos un contador para ver cuanto tarda cada modelo\n",
    "start = timeit.default_timer()\n",
    "\n",
    "model.fit(X_train, np.array(y_train))\n",
    "\n",
    "stop = timeit.default_timer()\n",
    "print('Time: ', stop - start) "
   ]
  },
  {
   "cell_type": "markdown",
   "metadata": {},
   "source": [
    "5) Llamar al método predict para generar las predicciones."
   ]
  },
  {
   "cell_type": "code",
   "execution_count": 37,
   "metadata": {},
   "outputs": [
    {
     "name": "stdout",
     "output_type": "stream",
     "text": [
      "Time:  82.12862859099994\n"
     ]
    }
   ],
   "source": [
    "start = timeit.default_timer()\n",
    "\n",
    "pred_train = model.predict(X_train)\n",
    "pred_val = model.predict(X_val)\n",
    "pred_test = model.predict(X_test)\n",
    "\n",
    "stop = timeit.default_timer()\n",
    "print('Time: ', stop - start) "
   ]
  },
  {
   "cell_type": "code",
   "execution_count": 38,
   "metadata": {},
   "outputs": [
    {
     "name": "stdout",
     "output_type": "stream",
     "text": [
      "[143.2265089  132.00125724 114.20683671 114.53465262 132.9179983 ]\n",
      "0    167\n",
      "1    116\n",
      "2    106\n",
      "3     71\n",
      "4    112\n",
      "Name: demand, dtype: int64\n"
     ]
    }
   ],
   "source": [
    "# Comprobamos las primeras predicciones\n",
    "print(pred_train[0:5])\n",
    "print(y_train[0:5])"
   ]
  },
  {
   "cell_type": "markdown",
   "metadata": {},
   "source": [
    "6) Calcular métrica usando las predicciones obtenidas en el paso anterior."
   ]
  },
  {
   "cell_type": "code",
   "execution_count": 39,
   "metadata": {
    "collapsed": true
   },
   "outputs": [],
   "source": [
    "# Calcular métricas de evaluación\n",
    "mae_train = mae(y_train, pred_train);\n",
    "mae_val = mae(y_val, pred_val);\n",
    "mae_test = mae(y_test, pred_test);\n",
    "\n",
    "mse_train = mse(y_train, pred_train);\n",
    "mse_val = mse(y_val, pred_val);\n",
    "mse_test = mse(y_test, pred_test);"
   ]
  },
  {
   "cell_type": "code",
   "execution_count": 146,
   "metadata": {},
   "outputs": [
    {
     "name": "stdout",
     "output_type": "stream",
     "text": [
      "Train: MAE = 18.61089041884057 - MSE = 618.9943577197338\n",
      "Validation: MAE = 17.54055701990211 - MSE = 511.7757674478486\n",
      "Test: MAE = 21.878556160528888 - MSE = 838.5016006849002\n"
     ]
    }
   ],
   "source": [
    "print('Train: MAE = ' + str(mae_train) + ' - MSE = '  + str(mse_train))\n",
    "print('Validation: MAE = ' + str(mae_val) + ' - MSE = '  + str(mse_val))\n",
    "print('Test: MAE = ' + str(mae_test) + ' - MSE = '  + str(mse_test))"
   ]
  },
  {
   "cell_type": "markdown",
   "metadata": {},
   "source": [
    "Calculamos una nueva métrica el MAPE, que tienen en cuenta el rango del target."
   ]
  },
  {
   "cell_type": "code",
   "execution_count": 41,
   "metadata": {
    "collapsed": true
   },
   "outputs": [],
   "source": [
    "def mape(y_true, y_pred):\n",
    "    return np.mean(np.abs(y_true - y_pred)/y_pred) * 100"
   ]
  },
  {
   "cell_type": "code",
   "execution_count": 44,
   "metadata": {
    "collapsed": true
   },
   "outputs": [],
   "source": [
    "# Calcular métricas de evaluación\n",
    "mape_train = mape(y_train, pred_train);\n",
    "mape_val = mape(y_val, pred_val);\n",
    "mape_test = mape(y_test, pred_test);"
   ]
  },
  {
   "cell_type": "code",
   "execution_count": 45,
   "metadata": {},
   "outputs": [
    {
     "name": "stdout",
     "output_type": "stream",
     "text": [
      "Train: MAPE = 14.687914614977924\n",
      "Validation: MAPE = 13.102697932580979\n",
      "Test: MAPE = 17.060076043595323\n"
     ]
    }
   ],
   "source": [
    "print('Train: MAPE = ' + str(mape_train))\n",
    "print('Validation: MAPE = ' + str(mape_val))\n",
    "print('Test: MAPE = ' + str(mape_test))"
   ]
  },
  {
   "cell_type": "markdown",
   "metadata": {},
   "source": [
    "# Grid Search"
   ]
  },
  {
   "cell_type": "markdown",
   "metadata": {},
   "source": [
    "Vamos a proceder a calcular los parámetros óptimos para nuestro modelo"
   ]
  },
  {
   "cell_type": "markdown",
   "metadata": {},
   "source": [
    "Definimos los paramétros que queremos optimizar en este caso C, gamma, epsilon y el tipo de kernel a utilizar."
   ]
  },
  {
   "cell_type": "code",
   "execution_count": 88,
   "metadata": {
    "collapsed": true
   },
   "outputs": [],
   "source": [
    "param_grid = [\n",
    "  {'C': [0.1, 1], 'gamma': [0.01],'epsilon': [1],  'kernel': ['rbf']}\n",
    " ]\n",
    "\n",
    "param_grid"
   ]
  },
  {
   "cell_type": "code",
   "execution_count": 89,
   "metadata": {
    "collapsed": true
   },
   "outputs": [],
   "source": [
    "from sklearn.model_selection import PredefinedSplit"
   ]
  },
  {
   "cell_type": "code",
   "execution_count": 90,
   "metadata": {
    "collapsed": true
   },
   "outputs": [],
   "source": [
    "# definicion del conjunto de validacion\n",
    "ps = PredefinedSplit(test_fold=y_val)"
   ]
  },
  {
   "cell_type": "code",
   "execution_count": 91,
   "metadata": {
    "collapsed": true
   },
   "outputs": [],
   "source": [
    "from sklearn import svm\n",
    "from sklearn.model_selection import GridSearchCV"
   ]
  },
  {
   "cell_type": "code",
   "execution_count": 92,
   "metadata": {
    "collapsed": true
   },
   "outputs": [],
   "source": [
    "# definicion del grid search para un conjunto de validacion\n",
    "clf = GridSearchCV(svm.SVR(tol=0.005, cache_size=6000),\n",
    "                     param_grid=param_grid,\n",
    "                     n_jobs=2,\n",
    "                     pre_dispatch=\"n_jobs\",\n",
    "                     cv=ps)\n"
   ]
  },
  {
   "cell_type": "code",
   "execution_count": 93,
   "metadata": {},
   "outputs": [
    {
     "name": "stderr",
     "output_type": "stream",
     "text": [
      "C:\\Users\\yvonne.gala\\AppData\\Local\\Continuum\\anaconda\\lib\\site-packages\\sklearn\\model_selection\\_search.py:814: DeprecationWarning: The default of the `iid` parameter will change from True to False in version 0.22 and will be removed in 0.24. This will change numeric results when test-set sizes are unequal.\n",
      "  DeprecationWarning)\n"
     ]
    },
    {
     "name": "stdout",
     "output_type": "stream",
     "text": [
      "Time:  717.8999475999999\n"
     ]
    }
   ],
   "source": [
    "start = timeit.default_timer()\n",
    "\n",
    "clf.fit(X_train, y_train)\n",
    "\n",
    "stop = timeit.default_timer()\n",
    "print('Time: ', stop - start) "
   ]
  },
  {
   "cell_type": "code",
   "execution_count": 94,
   "metadata": {},
   "outputs": [
    {
     "name": "stdout",
     "output_type": "stream",
     "text": [
      "Time:  75.37446856800034\n"
     ]
    }
   ],
   "source": [
    "start = timeit.default_timer()\n",
    "\n",
    "pred_train = clf.predict(X_train)\n",
    "pred_val = clf.predict(X_val)\n",
    "pred_test = clf.predict(X_test)\n",
    "\n",
    "stop = timeit.default_timer()\n",
    "print('Time: ', stop - start) "
   ]
  },
  {
   "cell_type": "code",
   "execution_count": 95,
   "metadata": {
    "collapsed": true
   },
   "outputs": [],
   "source": [
    "# Calcular métricas de evaluación\n",
    "mae_train = mae(y_train, pred_train);\n",
    "mae_val = mae(y_val, pred_val);\n",
    "mae_test = mae(y_test, pred_test);\n",
    "\n",
    "mse_train = mse(y_train, pred_train);\n",
    "mse_val = mse(y_val, pred_val);\n",
    "mse_test = mse(y_test, pred_test);\n",
    "\n",
    "mape_train = mape(y_train, pred_train);\n",
    "mape_val = mape(y_val, pred_val);\n",
    "mape_test = mape(y_test, pred_test);"
   ]
  },
  {
   "cell_type": "code",
   "execution_count": 96,
   "metadata": {},
   "outputs": [
    {
     "name": "stdout",
     "output_type": "stream",
     "text": [
      "Train: MAE = 22.63916840923406 - MSE = 874.2535644742662 - MAPE =17.16714564314308\n",
      "Validation: MAE = 20.40455812459802 - MSE = 680.2958031059139 - MAPE =15.212461728736582\n",
      "Test: MAE = 24.829128519906085 - MSE = 1054.77780942016 - MAPE =18.844468876258354\n"
     ]
    }
   ],
   "source": [
    "print('Train: MAE = ' + str(mae_train) + ' - MSE = '  + str(mse_train) + ' - MAPE =' + str(mape_train))\n",
    "print('Validation: MAE = ' + str(mae_val) + ' - MSE = '  + str(mse_val) + ' - MAPE =' + str(mape_val))\n",
    "print('Test: MAE = ' + str(mae_test) + ' - MSE = '  + str(mse_test) + ' - MAPE =' + str(mape_test))"
   ]
  },
  {
   "cell_type": "markdown",
   "metadata": {},
   "source": [
    "# Exhaustive Grid Search"
   ]
  },
  {
   "cell_type": "code",
   "execution_count": 97,
   "metadata": {
    "collapsed": true
   },
   "outputs": [],
   "source": [
    "param_grid = [\n",
    "  {'C': [1, 10, 100, 1000], 'epsilon': [0.01,0.1, 0.5], 'kernel': ['linear']},\n",
    "  {'C': [1, 10, 100, 1000], 'gamma': [0.001, 0.0001],'epsilon': [0.01,0.1, 0.5],  'kernel': ['rbf']}\n",
    " ]\n",
    "\n",
    "\n",
    "param_grid = [\n",
    "  {'C': [0.1, 1, 10, 100], 'gamma': [0.01, 0.1, 0.001],'epsilon': [1, 0.1],  'kernel': ['rbf']}\n",
    " ]"
   ]
  },
  {
   "cell_type": "markdown",
   "metadata": {},
   "source": [
    "Escogemos la lista de parametros de param_grid"
   ]
  },
  {
   "cell_type": "code",
   "execution_count": 98,
   "metadata": {},
   "outputs": [
    {
     "data": {
      "text/plain": [
       "{'C': [0.1, 1, 10, 100],\n",
       " 'gamma': [0.01, 0.1, 0.001],\n",
       " 'epsilon': [1, 0.1],\n",
       " 'kernel': ['rbf']}"
      ]
     },
     "execution_count": 98,
     "metadata": {},
     "output_type": "execute_result"
    }
   ],
   "source": [
    "params_values = param_grid[0]\n",
    "params_values"
   ]
  },
  {
   "cell_type": "markdown",
   "metadata": {},
   "source": [
    "Calculamos el numero de iteraciones totales como la multiplicación de la longitud de los posibles valores de todos los hiperaparámetros."
   ]
  },
  {
   "cell_type": "code",
   "execution_count": 99,
   "metadata": {},
   "outputs": [
    {
     "name": "stdout",
     "output_type": "stream",
     "text": [
      "El numero de iteraciones es 24\n"
     ]
    }
   ],
   "source": [
    "num_iteraciones = len(params_values['C'])*len(params_values['gamma'])*len(params_values['epsilon'])\n",
    "\n",
    "print('El numero de iteraciones es', num_iteraciones)"
   ]
  },
  {
   "cell_type": "code",
   "execution_count": 100,
   "metadata": {
    "collapsed": true
   },
   "outputs": [],
   "source": [
    "kernel = params_values['kernel'][0]\n",
    "metric = mae\n",
    "error_val = []\n",
    "error_val= pd.DataFrame(columns=('err_val', 'C', 'gamma', 'epsilon'))\n",
    "num_iter = 0"
   ]
  },
  {
   "cell_type": "code",
   "execution_count": 101,
   "metadata": {},
   "outputs": [
    {
     "name": "stdout",
     "output_type": "stream",
     "text": [
      "Parametro C = 0.1, parametro gamma = 0.01, parametro epsilon = 1\n",
      "Error validacion = 20.40455387993815\n",
      "Parametro C = 0.1, parametro gamma = 0.01, parametro epsilon = 0.1\n",
      "Error validacion = 20.40973137687326\n",
      "Parametro C = 0.1, parametro gamma = 0.1, parametro epsilon = 1\n",
      "Error validacion = 22.032192335086034\n",
      "Parametro C = 0.1, parametro gamma = 0.1, parametro epsilon = 0.1\n",
      "Error validacion = 22.03951045806986\n",
      "Parametro C = 0.1, parametro gamma = 0.001, parametro epsilon = 1\n",
      "Error validacion = 21.461841023494873\n",
      "Parametro C = 0.1, parametro gamma = 0.001, parametro epsilon = 0.1\n",
      "Error validacion = 21.439377646975522\n",
      "Parametro C = 1, parametro gamma = 0.01, parametro epsilon = 1\n",
      "Error validacion = 17.643435784616535\n",
      "Parametro C = 1, parametro gamma = 0.01, parametro epsilon = 0.1\n",
      "Error validacion = 17.68950523860765\n",
      "Parametro C = 1, parametro gamma = 0.1, parametro epsilon = 1\n",
      "Error validacion = 21.337792746335204\n",
      "Parametro C = 1, parametro gamma = 0.1, parametro epsilon = 0.1\n",
      "Error validacion = 21.319187743402107\n",
      "Parametro C = 1, parametro gamma = 0.001, parametro epsilon = 1\n",
      "Error validacion = 19.603930293014002\n",
      "Parametro C = 1, parametro gamma = 0.001, parametro epsilon = 0.1\n",
      "Error validacion = 19.582855895431898\n",
      "Parametro C = 10, parametro gamma = 0.01, parametro epsilon = 1\n",
      "Error validacion = 16.354480112707677\n",
      "Parametro C = 10, parametro gamma = 0.01, parametro epsilon = 0.1\n",
      "Error validacion = 16.396507644960995\n",
      "Parametro C = 10, parametro gamma = 0.1, parametro epsilon = 1\n",
      "Error validacion = 19.29610993607662\n",
      "Parametro C = 10, parametro gamma = 0.1, parametro epsilon = 0.1\n",
      "Error validacion = 19.264647116822598\n",
      "Parametro C = 10, parametro gamma = 0.001, parametro epsilon = 1\n",
      "Error validacion = 18.026179625529355\n",
      "Parametro C = 10, parametro gamma = 0.001, parametro epsilon = 0.1\n",
      "Error validacion = 17.992467638745836\n",
      "Parametro C = 100, parametro gamma = 0.01, parametro epsilon = 1\n",
      "Error validacion = 16.948546326987426\n",
      "Parametro C = 100, parametro gamma = 0.01, parametro epsilon = 0.1\n",
      "Error validacion = 16.93784299789545\n",
      "Parametro C = 100, parametro gamma = 0.1, parametro epsilon = 1\n",
      "Error validacion = 19.261524962739813\n",
      "Parametro C = 100, parametro gamma = 0.1, parametro epsilon = 0.1\n",
      "Error validacion = 19.23752024483678\n",
      "Parametro C = 100, parametro gamma = 0.001, parametro epsilon = 1\n",
      "Error validacion = 16.587507123966297\n",
      "Parametro C = 100, parametro gamma = 0.001, parametro epsilon = 0.1\n",
      "Error validacion = 16.599121594468674\n",
      "Time:  3526.643213693\n"
     ]
    }
   ],
   "source": [
    "start = timeit.default_timer()\n",
    "\n",
    "for i in range(0,len(params_values['C'])):\n",
    "    for j in range(0,len(params_values['gamma'])):\n",
    "        for k in range(0,len(params_values['epsilon'])):\n",
    "            \n",
    "            # print control iteracion modelo\n",
    "            print('Parametro C = ' + str(params_values['C'][i]) + \n",
    "                  ', parametro gamma = '  + str(params_values['gamma'][j]) +\n",
    "                  ', parametro epsilon = '  + str(params_values['epsilon'][k]))\n",
    "            \n",
    "            # definicion del modelo con sus parametros\n",
    "            model = svm.SVR(kernel=kernel, C=params_values['C'][i],\n",
    "                            gamma=params_values['gamma'][j],\n",
    "                            epsilon=params_values['epsilon'][k])\n",
    "            \n",
    "            # entrenamiento del modelo\n",
    "            model.fit(X_train, np.array(y_train))\n",
    "            \n",
    "            # prediccion del conjunto de validacion\n",
    "            pred_val = model.predict(X_val)\n",
    "            \n",
    "            # Calculo de la metrica de error\n",
    "            error_val_iter = metric(y_val, pred_val)\n",
    "            \n",
    "            # print error\n",
    "            print('Error validacion = ' + str(error_val_iter))\n",
    "            \n",
    "            # guarda el error\n",
    "            error_val.loc[num_iter]=[error_val_iter,\n",
    "                                          params_values['C'][i],\n",
    "                                          params_values['gamma'][j],\n",
    "                                          params_values['epsilon'][k]] \n",
    "            num_iter += 1\n",
    "\n",
    "stop = timeit.default_timer()\n",
    "print('Time: ', stop - start) "
   ]
  },
  {
   "cell_type": "markdown",
   "metadata": {},
   "source": [
    "Mostramos la tabla del error de validacion segun los diferentes parametros para elegir el modelo que mejor se ajuste a nuestros datos"
   ]
  },
  {
   "cell_type": "code",
   "execution_count": 102,
   "metadata": {},
   "outputs": [
    {
     "data": {
      "text/html": [
       "<div>\n",
       "<style scoped>\n",
       "    .dataframe tbody tr th:only-of-type {\n",
       "        vertical-align: middle;\n",
       "    }\n",
       "\n",
       "    .dataframe tbody tr th {\n",
       "        vertical-align: top;\n",
       "    }\n",
       "\n",
       "    .dataframe thead th {\n",
       "        text-align: right;\n",
       "    }\n",
       "</style>\n",
       "<table border=\"1\" class=\"dataframe\">\n",
       "  <thead>\n",
       "    <tr style=\"text-align: right;\">\n",
       "      <th></th>\n",
       "      <th>err_val</th>\n",
       "      <th>C</th>\n",
       "      <th>gamma</th>\n",
       "      <th>epsilon</th>\n",
       "    </tr>\n",
       "  </thead>\n",
       "  <tbody>\n",
       "    <tr>\n",
       "      <td>0</td>\n",
       "      <td>20.404554</td>\n",
       "      <td>0.1</td>\n",
       "      <td>0.010</td>\n",
       "      <td>1.0</td>\n",
       "    </tr>\n",
       "    <tr>\n",
       "      <td>1</td>\n",
       "      <td>20.409731</td>\n",
       "      <td>0.1</td>\n",
       "      <td>0.010</td>\n",
       "      <td>0.1</td>\n",
       "    </tr>\n",
       "    <tr>\n",
       "      <td>2</td>\n",
       "      <td>22.032192</td>\n",
       "      <td>0.1</td>\n",
       "      <td>0.100</td>\n",
       "      <td>1.0</td>\n",
       "    </tr>\n",
       "    <tr>\n",
       "      <td>3</td>\n",
       "      <td>22.039510</td>\n",
       "      <td>0.1</td>\n",
       "      <td>0.100</td>\n",
       "      <td>0.1</td>\n",
       "    </tr>\n",
       "    <tr>\n",
       "      <td>4</td>\n",
       "      <td>21.461841</td>\n",
       "      <td>0.1</td>\n",
       "      <td>0.001</td>\n",
       "      <td>1.0</td>\n",
       "    </tr>\n",
       "    <tr>\n",
       "      <td>5</td>\n",
       "      <td>21.439378</td>\n",
       "      <td>0.1</td>\n",
       "      <td>0.001</td>\n",
       "      <td>0.1</td>\n",
       "    </tr>\n",
       "    <tr>\n",
       "      <td>6</td>\n",
       "      <td>17.643436</td>\n",
       "      <td>1.0</td>\n",
       "      <td>0.010</td>\n",
       "      <td>1.0</td>\n",
       "    </tr>\n",
       "    <tr>\n",
       "      <td>7</td>\n",
       "      <td>17.689505</td>\n",
       "      <td>1.0</td>\n",
       "      <td>0.010</td>\n",
       "      <td>0.1</td>\n",
       "    </tr>\n",
       "    <tr>\n",
       "      <td>8</td>\n",
       "      <td>21.337793</td>\n",
       "      <td>1.0</td>\n",
       "      <td>0.100</td>\n",
       "      <td>1.0</td>\n",
       "    </tr>\n",
       "    <tr>\n",
       "      <td>9</td>\n",
       "      <td>21.319188</td>\n",
       "      <td>1.0</td>\n",
       "      <td>0.100</td>\n",
       "      <td>0.1</td>\n",
       "    </tr>\n",
       "    <tr>\n",
       "      <td>10</td>\n",
       "      <td>19.603930</td>\n",
       "      <td>1.0</td>\n",
       "      <td>0.001</td>\n",
       "      <td>1.0</td>\n",
       "    </tr>\n",
       "    <tr>\n",
       "      <td>11</td>\n",
       "      <td>19.582856</td>\n",
       "      <td>1.0</td>\n",
       "      <td>0.001</td>\n",
       "      <td>0.1</td>\n",
       "    </tr>\n",
       "    <tr>\n",
       "      <td>12</td>\n",
       "      <td>16.354480</td>\n",
       "      <td>10.0</td>\n",
       "      <td>0.010</td>\n",
       "      <td>1.0</td>\n",
       "    </tr>\n",
       "    <tr>\n",
       "      <td>13</td>\n",
       "      <td>16.396508</td>\n",
       "      <td>10.0</td>\n",
       "      <td>0.010</td>\n",
       "      <td>0.1</td>\n",
       "    </tr>\n",
       "    <tr>\n",
       "      <td>14</td>\n",
       "      <td>19.296110</td>\n",
       "      <td>10.0</td>\n",
       "      <td>0.100</td>\n",
       "      <td>1.0</td>\n",
       "    </tr>\n",
       "    <tr>\n",
       "      <td>15</td>\n",
       "      <td>19.264647</td>\n",
       "      <td>10.0</td>\n",
       "      <td>0.100</td>\n",
       "      <td>0.1</td>\n",
       "    </tr>\n",
       "    <tr>\n",
       "      <td>16</td>\n",
       "      <td>18.026180</td>\n",
       "      <td>10.0</td>\n",
       "      <td>0.001</td>\n",
       "      <td>1.0</td>\n",
       "    </tr>\n",
       "    <tr>\n",
       "      <td>17</td>\n",
       "      <td>17.992468</td>\n",
       "      <td>10.0</td>\n",
       "      <td>0.001</td>\n",
       "      <td>0.1</td>\n",
       "    </tr>\n",
       "    <tr>\n",
       "      <td>18</td>\n",
       "      <td>16.948546</td>\n",
       "      <td>100.0</td>\n",
       "      <td>0.010</td>\n",
       "      <td>1.0</td>\n",
       "    </tr>\n",
       "    <tr>\n",
       "      <td>19</td>\n",
       "      <td>16.937843</td>\n",
       "      <td>100.0</td>\n",
       "      <td>0.010</td>\n",
       "      <td>0.1</td>\n",
       "    </tr>\n",
       "    <tr>\n",
       "      <td>20</td>\n",
       "      <td>19.261525</td>\n",
       "      <td>100.0</td>\n",
       "      <td>0.100</td>\n",
       "      <td>1.0</td>\n",
       "    </tr>\n",
       "    <tr>\n",
       "      <td>21</td>\n",
       "      <td>19.237520</td>\n",
       "      <td>100.0</td>\n",
       "      <td>0.100</td>\n",
       "      <td>0.1</td>\n",
       "    </tr>\n",
       "    <tr>\n",
       "      <td>22</td>\n",
       "      <td>16.587507</td>\n",
       "      <td>100.0</td>\n",
       "      <td>0.001</td>\n",
       "      <td>1.0</td>\n",
       "    </tr>\n",
       "    <tr>\n",
       "      <td>23</td>\n",
       "      <td>16.599122</td>\n",
       "      <td>100.0</td>\n",
       "      <td>0.001</td>\n",
       "      <td>0.1</td>\n",
       "    </tr>\n",
       "  </tbody>\n",
       "</table>\n",
       "</div>"
      ],
      "text/plain": [
       "      err_val      C  gamma  epsilon\n",
       "0   20.404554    0.1  0.010      1.0\n",
       "1   20.409731    0.1  0.010      0.1\n",
       "2   22.032192    0.1  0.100      1.0\n",
       "3   22.039510    0.1  0.100      0.1\n",
       "4   21.461841    0.1  0.001      1.0\n",
       "5   21.439378    0.1  0.001      0.1\n",
       "6   17.643436    1.0  0.010      1.0\n",
       "7   17.689505    1.0  0.010      0.1\n",
       "8   21.337793    1.0  0.100      1.0\n",
       "9   21.319188    1.0  0.100      0.1\n",
       "10  19.603930    1.0  0.001      1.0\n",
       "11  19.582856    1.0  0.001      0.1\n",
       "12  16.354480   10.0  0.010      1.0\n",
       "13  16.396508   10.0  0.010      0.1\n",
       "14  19.296110   10.0  0.100      1.0\n",
       "15  19.264647   10.0  0.100      0.1\n",
       "16  18.026180   10.0  0.001      1.0\n",
       "17  17.992468   10.0  0.001      0.1\n",
       "18  16.948546  100.0  0.010      1.0\n",
       "19  16.937843  100.0  0.010      0.1\n",
       "20  19.261525  100.0  0.100      1.0\n",
       "21  19.237520  100.0  0.100      0.1\n",
       "22  16.587507  100.0  0.001      1.0\n",
       "23  16.599122  100.0  0.001      0.1"
      ]
     },
     "execution_count": 102,
     "metadata": {},
     "output_type": "execute_result"
    }
   ],
   "source": [
    "error_val\n"
   ]
  },
  {
   "cell_type": "markdown",
   "metadata": {},
   "source": [
    "Elegimos el modelo que menor error de validacion tenga"
   ]
  },
  {
   "cell_type": "code",
   "execution_count": 103,
   "metadata": {},
   "outputs": [
    {
     "data": {
      "text/plain": [
       "err_val    16.35448\n",
       "C          10.00000\n",
       "gamma       0.01000\n",
       "epsilon     1.00000\n",
       "Name: 12, dtype: float64"
      ]
     },
     "execution_count": 103,
     "metadata": {},
     "output_type": "execute_result"
    }
   ],
   "source": [
    "ind_min = error_val['err_val'].idxmin()\n",
    "best_parameters = error_val.iloc[ind_min]\n",
    "best_parameters"
   ]
  },
  {
   "cell_type": "markdown",
   "metadata": {},
   "source": [
    "Reentrenamos el modelo con los parámetros óptimos y testeamos"
   ]
  },
  {
   "cell_type": "code",
   "execution_count": 104,
   "metadata": {
    "collapsed": true
   },
   "outputs": [],
   "source": [
    "model = svm.SVR(kernel=kernel, C = best_parameters['C'],\n",
    "                gamma = best_parameters['gamma'], epsilon = best_parameters['epsilon'])"
   ]
  },
  {
   "cell_type": "code",
   "execution_count": 105,
   "metadata": {},
   "outputs": [
    {
     "name": "stdout",
     "output_type": "stream",
     "text": [
      "Time:  70.39024771699951\n"
     ]
    }
   ],
   "source": [
    "## Ponemos un contador para ver cuanto tarda cada modelo\n",
    "start = timeit.default_timer()\n",
    "\n",
    "model.fit(X_train, np.array(y_train))\n",
    "\n",
    "stop = timeit.default_timer()\n",
    "print('Time: ', stop - start) "
   ]
  },
  {
   "cell_type": "code",
   "execution_count": 106,
   "metadata": {},
   "outputs": [
    {
     "name": "stdout",
     "output_type": "stream",
     "text": [
      "Time:  77.50729391799905\n"
     ]
    }
   ],
   "source": [
    "start = timeit.default_timer()\n",
    "\n",
    "pred_train = model.predict(X_train)\n",
    "pred_val = model.predict(X_val)\n",
    "pred_test = model.predict(X_test)\n",
    "\n",
    "stop = timeit.default_timer()\n",
    "print('Time: ', stop - start) "
   ]
  },
  {
   "cell_type": "code",
   "execution_count": 107,
   "metadata": {
    "collapsed": true
   },
   "outputs": [],
   "source": [
    "# Calcular métricas de evaluación\n",
    "mae_train = mae(y_train, pred_train);\n",
    "mae_val = mae(y_val, pred_val);\n",
    "mae_test = mae(y_test, pred_test);\n",
    "\n",
    "mse_train = mse(y_train, pred_train);\n",
    "mse_val = mse(y_val, pred_val);\n",
    "mse_test = mse(y_test, pred_test);\n",
    "\n",
    "mape_train = mape(y_train, pred_train);\n",
    "mape_val = mape(y_val, pred_val);\n",
    "mape_test = mape(y_test, pred_test);"
   ]
  },
  {
   "cell_type": "code",
   "execution_count": 108,
   "metadata": {},
   "outputs": [
    {
     "name": "stdout",
     "output_type": "stream",
     "text": [
      "Train: MAE = 15.962414259537693 - MSE = 478.0299124012799 - MAPE =13.00777558403998\n",
      "Validation: MAE = 16.354480112707677 - MSE = 446.45647881209925 - MAPE =12.464165934330913\n",
      "Test: MAE = 20.09988973861472 - MSE = 707.5859729529052 - MAPE =16.173794893011625\n"
     ]
    }
   ],
   "source": [
    "print('Train: MAE = ' + str(mae_train) + ' - MSE = '  + str(mse_train) + ' - MAPE =' + str(mape_train))\n",
    "print('Validation: MAE = ' + str(mae_val) + ' - MSE = '  + str(mse_val) + ' - MAPE =' + str(mape_val))\n",
    "print('Test: MAE = ' + str(mae_test) + ' - MSE = '  + str(mse_test) + ' - MAPE =' + str(mape_test))"
   ]
  },
  {
   "cell_type": "code",
   "execution_count": null,
   "metadata": {
    "collapsed": true
   },
   "outputs": [],
   "source": []
  }
 ],
 "metadata": {
  "kernelspec": {
   "display_name": "Python 3",
   "language": "python",
   "name": "python3"
  },
  "language_info": {
   "codemirror_mode": {
    "name": "ipython",
    "version": 3
   },
   "file_extension": ".py",
   "mimetype": "text/x-python",
   "name": "python",
   "nbconvert_exporter": "python",
   "pygments_lexer": "ipython3",
   "version": "3.7.4"
  }
 },
 "nbformat": 4,
 "nbformat_minor": 2
}
