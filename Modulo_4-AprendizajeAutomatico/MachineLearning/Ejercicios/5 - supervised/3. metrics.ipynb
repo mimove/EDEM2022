{
 "cells": [
  {
   "cell_type": "code",
   "execution_count": 1,
   "metadata": {},
   "outputs": [],
   "source": [
    "# import libraries\n",
    "%matplotlib inline\n",
    "import numpy as np\n",
    "import pandas as pd\n",
    "from sklearn.model_selection import train_test_split\n",
    "from timeit import default_timer\n",
    "\n",
    "# [1] Import model\n",
    "from sklearn.neighbors import KNeighborsClassifier as model_constructor"
   ]
  },
  {
   "cell_type": "markdown",
   "metadata": {},
   "source": [
    "# Classification Metrics"
   ]
  },
  {
   "cell_type": "markdown",
   "metadata": {},
   "source": [
    "Classification are supervised learning type of problems, which mean you have a target to predict or ground truth. Therefore, as opposed to unsupervised learning, you can compute an explicit metric that will tell you how good or bad are your model predictions, or if a particular model fits the target better than another.\n",
    "\n",
    "We will cover in this notebook the most popular and used. In particular we will cover these evaluation techniques:\n",
    "\n",
    "1. Confusion Matrix\n",
    "2. Accuracy\n",
    "3. Precission\n",
    "4. Recall\n",
    "5. F1-Score\n",
    "6. Area Under the Curve, AUC\n",
    "7. Custom Metric\n"
   ]
  },
  {
   "cell_type": "markdown",
   "metadata": {},
   "source": [
    "## Data"
   ]
  },
  {
   "cell_type": "markdown",
   "metadata": {},
   "source": [
    "No iris! 😃"
   ]
  },
  {
   "cell_type": "code",
   "execution_count": 2,
   "metadata": {},
   "outputs": [],
   "source": [
    "from sklearn.datasets import load_breast_cancer as load_data;"
   ]
  },
  {
   "cell_type": "code",
   "execution_count": 3,
   "metadata": {},
   "outputs": [],
   "source": [
    "data = load_data();\n",
    "X = data.data;\n",
    "y = data.target;"
   ]
  },
  {
   "cell_type": "code",
   "execution_count": 4,
   "metadata": {},
   "outputs": [],
   "source": [
    "perc_values = [0.7, 0.15, 0.15];\n",
    "X_train, X_valtest, y_train, y_valtest = train_test_split(X, y, stratify = y, test_size=perc_values[1] + perc_values[2], random_state=1);\n",
    "X_val, X_test, y_val, y_test = train_test_split(X_valtest, y_valtest, stratify = y_valtest, test_size= perc_values[2] / (perc_values[1] + perc_values[2]), random_state=1)"
   ]
  },
  {
   "cell_type": "markdown",
   "metadata": {},
   "source": [
    "## Metrics"
   ]
  },
  {
   "cell_type": "markdown",
   "metadata": {},
   "source": [
    "### [1] Confusion Matrix"
   ]
  },
  {
   "cell_type": "markdown",
   "metadata": {},
   "source": [
    "<img src=\"figures/confusion_matrix.png\">"
   ]
  },
  {
   "cell_type": "markdown",
   "metadata": {},
   "source": [
    "- **True Positives, TP**: Predicted = 1 and Real = 1. Good.\n",
    "\n",
    "\n",
    "- **True Negatives, TN**: Predicted = 0 and Real = 0. Good.\n",
    "\n",
    "\n",
    "- **False Positives, FP**: Predicted = 1 and Real = 0. Error.\n",
    "\n",
    "\n",
    "- **False Negatives, FN**: Predicted = 0 and Real = 1. Error."
   ]
  },
  {
   "cell_type": "code",
   "execution_count": 5,
   "metadata": {},
   "outputs": [],
   "source": [
    "# 2) Import metrics\n",
    "from sklearn.metrics import confusion_matrix as metric"
   ]
  },
  {
   "cell_type": "code",
   "execution_count": 6,
   "metadata": {},
   "outputs": [],
   "source": [
    "params_grid = {'n_neighbors': np.arange(1, 11)}"
   ]
  },
  {
   "cell_type": "code",
   "execution_count": 7,
   "metadata": {},
   "outputs": [
    {
     "name": "stdout",
     "output_type": "stream",
     "text": [
      "Iteracion = 1. Parametro k = 1\n",
      "Confusion matrix train = [[148   0]\n",
      " [  0 250]] - confusion matrix validation = [[26  6]\n",
      " [ 3 50]]. Time spend = 0.01.\n",
      "Iteracion = 2. Parametro k = 2\n",
      "Confusion matrix train = [[148   0]\n",
      " [ 11 239]] - confusion matrix validation = [[29  3]\n",
      " [ 4 49]]. Time spend = 0.02.\n",
      "Iteracion = 3. Parametro k = 3\n",
      "Confusion matrix train = [[132  16]\n",
      " [  5 245]] - confusion matrix validation = [[25  7]\n",
      " [ 1 52]]. Time spend = 0.01.\n",
      "Iteracion = 4. Parametro k = 4\n",
      "Confusion matrix train = [[135  13]\n",
      " [  9 241]] - confusion matrix validation = [[27  5]\n",
      " [ 2 51]]. Time spend = 0.01.\n",
      "Iteracion = 5. Parametro k = 5\n",
      "Confusion matrix train = [[133  15]\n",
      " [  4 246]] - confusion matrix validation = [[26  6]\n",
      " [ 2 51]]. Time spend = 0.01.\n",
      "Iteracion = 6. Parametro k = 6\n",
      "Confusion matrix train = [[135  13]\n",
      " [  9 241]] - confusion matrix validation = [[28  4]\n",
      " [ 2 51]]. Time spend = 0.01.\n",
      "Iteracion = 7. Parametro k = 7\n",
      "Confusion matrix train = [[131  17]\n",
      " [  7 243]] - confusion matrix validation = [[27  5]\n",
      " [ 2 51]]. Time spend = 0.01.\n",
      "Iteracion = 8. Parametro k = 8\n",
      "Confusion matrix train = [[134  14]\n",
      " [  9 241]] - confusion matrix validation = [[28  4]\n",
      " [ 2 51]]. Time spend = 0.01.\n",
      "Iteracion = 9. Parametro k = 9\n",
      "Confusion matrix train = [[131  17]\n",
      " [  8 242]] - confusion matrix validation = [[28  4]\n",
      " [ 1 52]]. Time spend = 0.01.\n",
      "Iteracion = 10. Parametro k = 10\n",
      "Confusion matrix train = [[131  17]\n",
      " [  8 242]] - confusion matrix validation = [[28  4]\n",
      " [ 2 51]]. Time spend = 0.01.\n",
      "Grid Search Total Computational Time:  0.1279087999999997\n"
     ]
    }
   ],
   "source": [
    "num_iter = 1;\n",
    "grid_results = pd.DataFrame(columns = ('k', 'confusion_train', 'confusion_val', 'time'))\n",
    "for k in params_grid['n_neighbors']:\n",
    "            \n",
    "            # Start time\n",
    "            start_time = default_timer()\n",
    "        \n",
    "            # Print trace\n",
    "            print('Iteracion = ' + str(num_iter) + '. Parametro k = ' + str(k))\n",
    "            \n",
    "            # [3] Define model\n",
    "            model = model_constructor(n_neighbors = k)\n",
    "            \n",
    "            # [4] Train model\n",
    "            model.fit(X_train, y_train)\n",
    "            \n",
    "            # [5] Predict\n",
    "            pred_train = model.predict(X_train)\n",
    "            pred_val = model.predict(X_val)\n",
    "            \n",
    "            # [6] Compute metric\n",
    "            metric_train = metric(y_train, pred_train)\n",
    "            metric_val = metric(y_val, pred_val)\n",
    "            \n",
    "            # Computational time\n",
    "            time = default_timer() - start_time\n",
    "            \n",
    "            # print error\n",
    "            print('Confusion matrix train = %s - confusion matrix validation = %s. Time spend = %.2f.' \n",
    "                  % (metric_train, metric_val, time))         \n",
    "                       \n",
    "            # Save iteration results\n",
    "            grid_results.loc[num_iter]=[k,\n",
    "                                     metric_train,\n",
    "                                     metric_val,\n",
    "                                    time] \n",
    "            num_iter += 1\n",
    "\n",
    "print('Grid Search Total Computational Time: ', np.sum(grid_results.time.values)) "
   ]
  },
  {
   "cell_type": "code",
   "execution_count": 8,
   "metadata": {},
   "outputs": [
    {
     "data": {
      "text/html": [
       "<div>\n",
       "<style scoped>\n",
       "    .dataframe tbody tr th:only-of-type {\n",
       "        vertical-align: middle;\n",
       "    }\n",
       "\n",
       "    .dataframe tbody tr th {\n",
       "        vertical-align: top;\n",
       "    }\n",
       "\n",
       "    .dataframe thead th {\n",
       "        text-align: right;\n",
       "    }\n",
       "</style>\n",
       "<table border=\"1\" class=\"dataframe\">\n",
       "  <thead>\n",
       "    <tr style=\"text-align: right;\">\n",
       "      <th></th>\n",
       "      <th>k</th>\n",
       "      <th>confusion_train</th>\n",
       "      <th>confusion_val</th>\n",
       "      <th>time</th>\n",
       "    </tr>\n",
       "  </thead>\n",
       "  <tbody>\n",
       "    <tr>\n",
       "      <th>1</th>\n",
       "      <td>1</td>\n",
       "      <td>[[148, 0], [0, 250]]</td>\n",
       "      <td>[[26, 6], [3, 50]]</td>\n",
       "      <td>0.014412</td>\n",
       "    </tr>\n",
       "    <tr>\n",
       "      <th>2</th>\n",
       "      <td>2</td>\n",
       "      <td>[[148, 0], [11, 239]]</td>\n",
       "      <td>[[29, 3], [4, 49]]</td>\n",
       "      <td>0.015535</td>\n",
       "    </tr>\n",
       "    <tr>\n",
       "      <th>3</th>\n",
       "      <td>3</td>\n",
       "      <td>[[132, 16], [5, 245]]</td>\n",
       "      <td>[[25, 7], [1, 52]]</td>\n",
       "      <td>0.012488</td>\n",
       "    </tr>\n",
       "    <tr>\n",
       "      <th>4</th>\n",
       "      <td>4</td>\n",
       "      <td>[[135, 13], [9, 241]]</td>\n",
       "      <td>[[27, 5], [2, 51]]</td>\n",
       "      <td>0.012983</td>\n",
       "    </tr>\n",
       "    <tr>\n",
       "      <th>5</th>\n",
       "      <td>5</td>\n",
       "      <td>[[133, 15], [4, 246]]</td>\n",
       "      <td>[[26, 6], [2, 51]]</td>\n",
       "      <td>0.011410</td>\n",
       "    </tr>\n",
       "    <tr>\n",
       "      <th>6</th>\n",
       "      <td>6</td>\n",
       "      <td>[[135, 13], [9, 241]]</td>\n",
       "      <td>[[28, 4], [2, 51]]</td>\n",
       "      <td>0.012663</td>\n",
       "    </tr>\n",
       "    <tr>\n",
       "      <th>7</th>\n",
       "      <td>7</td>\n",
       "      <td>[[131, 17], [7, 243]]</td>\n",
       "      <td>[[27, 5], [2, 51]]</td>\n",
       "      <td>0.012586</td>\n",
       "    </tr>\n",
       "    <tr>\n",
       "      <th>8</th>\n",
       "      <td>8</td>\n",
       "      <td>[[134, 14], [9, 241]]</td>\n",
       "      <td>[[28, 4], [2, 51]]</td>\n",
       "      <td>0.013131</td>\n",
       "    </tr>\n",
       "    <tr>\n",
       "      <th>9</th>\n",
       "      <td>9</td>\n",
       "      <td>[[131, 17], [8, 242]]</td>\n",
       "      <td>[[28, 4], [1, 52]]</td>\n",
       "      <td>0.011300</td>\n",
       "    </tr>\n",
       "    <tr>\n",
       "      <th>10</th>\n",
       "      <td>10</td>\n",
       "      <td>[[131, 17], [8, 242]]</td>\n",
       "      <td>[[28, 4], [2, 51]]</td>\n",
       "      <td>0.011401</td>\n",
       "    </tr>\n",
       "  </tbody>\n",
       "</table>\n",
       "</div>"
      ],
      "text/plain": [
       "     k        confusion_train       confusion_val      time\n",
       "1    1   [[148, 0], [0, 250]]  [[26, 6], [3, 50]]  0.014412\n",
       "2    2  [[148, 0], [11, 239]]  [[29, 3], [4, 49]]  0.015535\n",
       "3    3  [[132, 16], [5, 245]]  [[25, 7], [1, 52]]  0.012488\n",
       "4    4  [[135, 13], [9, 241]]  [[27, 5], [2, 51]]  0.012983\n",
       "5    5  [[133, 15], [4, 246]]  [[26, 6], [2, 51]]  0.011410\n",
       "6    6  [[135, 13], [9, 241]]  [[28, 4], [2, 51]]  0.012663\n",
       "7    7  [[131, 17], [7, 243]]  [[27, 5], [2, 51]]  0.012586\n",
       "8    8  [[134, 14], [9, 241]]  [[28, 4], [2, 51]]  0.013131\n",
       "9    9  [[131, 17], [8, 242]]  [[28, 4], [1, 52]]  0.011300\n",
       "10  10  [[131, 17], [8, 242]]  [[28, 4], [2, 51]]  0.011401"
      ]
     },
     "execution_count": 8,
     "metadata": {},
     "output_type": "execute_result"
    }
   ],
   "source": [
    "grid_results"
   ]
  },
  {
   "cell_type": "markdown",
   "metadata": {},
   "source": [
    "Difficult to extract best model."
   ]
  },
  {
   "cell_type": "markdown",
   "metadata": {},
   "source": [
    "Let's try to visualize it"
   ]
  },
  {
   "cell_type": "code",
   "execution_count": 9,
   "metadata": {},
   "outputs": [],
   "source": [
    "from sklearn.metrics import plot_confusion_matrix\n",
    "?plot_confusion_matrix"
   ]
  },
  {
   "cell_type": "code",
   "execution_count": 10,
   "metadata": {},
   "outputs": [
    {
     "data": {
      "text/plain": [
       "<sklearn.metrics._plot.confusion_matrix.ConfusionMatrixDisplay at 0x174e88b3e20>"
      ]
     },
     "execution_count": 10,
     "metadata": {},
     "output_type": "execute_result"
    },
    {
     "data": {
      "image/png": "[encoded data removed]",
      "text/plain": [
       "<Figure size 432x288 with 2 Axes>"
      ]
     },
     "metadata": {
      "needs_background": "light"
     },
     "output_type": "display_data"
    }
   ],
   "source": [
    "plot_confusion_matrix(model_constructor(n_neighbors = 1).fit(X_train, y_train),\n",
    "                      X_val, \n",
    "                      y_val)  "
   ]
  },
  {
   "cell_type": "markdown",
   "metadata": {},
   "source": [
    "### [2] Accuracy"
   ]
  },
  {
   "cell_type": "markdown",
   "metadata": {},
   "source": [
    "<img src=\"figures/accuracy.png\">"
   ]
  },
  {
   "cell_type": "code",
   "execution_count": 11,
   "metadata": {},
   "outputs": [],
   "source": [
    "# 2) Import metrics\n",
    "from sklearn.metrics import accuracy_score as metric"
   ]
  },
  {
   "cell_type": "code",
   "execution_count": 12,
   "metadata": {},
   "outputs": [
    {
     "name": "stdout",
     "output_type": "stream",
     "text": [
      "Iteracion = 1. Parametro k = 1\n",
      "Accuracy train = 1.0 - Accuracy validation = 0.8941176470588236. Time spend = 0.02.\n",
      "Iteracion = 2. Parametro k = 2\n",
      "Accuracy train = 0.9723618090452262 - Accuracy validation = 0.9176470588235294. Time spend = 0.02.\n",
      "Iteracion = 3. Parametro k = 3\n",
      "Accuracy train = 0.9472361809045227 - Accuracy validation = 0.9058823529411765. Time spend = 0.02.\n",
      "Iteracion = 4. Parametro k = 4\n",
      "Accuracy train = 0.9447236180904522 - Accuracy validation = 0.9176470588235294. Time spend = 0.02.\n",
      "Iteracion = 5. Parametro k = 5\n",
      "Accuracy train = 0.9522613065326633 - Accuracy validation = 0.9058823529411765. Time spend = 0.01.\n",
      "Iteracion = 6. Parametro k = 6\n",
      "Accuracy train = 0.9447236180904522 - Accuracy validation = 0.9294117647058824. Time spend = 0.02.\n",
      "Iteracion = 7. Parametro k = 7\n",
      "Accuracy train = 0.9396984924623115 - Accuracy validation = 0.9176470588235294. Time spend = 0.01.\n",
      "Iteracion = 8. Parametro k = 8\n",
      "Accuracy train = 0.9422110552763819 - Accuracy validation = 0.9294117647058824. Time spend = 0.01.\n",
      "Iteracion = 9. Parametro k = 9\n",
      "Accuracy train = 0.9371859296482412 - Accuracy validation = 0.9411764705882353. Time spend = 0.01.\n",
      "Iteracion = 10. Parametro k = 10\n",
      "Accuracy train = 0.9371859296482412 - Accuracy validation = 0.9294117647058824. Time spend = 0.01.\n",
      "Grid Search Total Computational Time:  0.1571303000000004\n"
     ]
    }
   ],
   "source": [
    "num_iter = 1;\n",
    "grid_results = pd.DataFrame(columns = ('k', 'acc_train', 'acc_val', 'time'))\n",
    "for k in params_grid['n_neighbors']:\n",
    "            \n",
    "            # Start time\n",
    "            start_time = default_timer()\n",
    "        \n",
    "            # Print trace\n",
    "            print('Iteracion = ' + str(num_iter) + '. Parametro k = ' + str(k))\n",
    "            \n",
    "            # [3] Define model\n",
    "            model = model_constructor(n_neighbors = k)\n",
    "            \n",
    "            # [4] Train model\n",
    "            model.fit(X_train, y_train)\n",
    "            \n",
    "            # [5] Predict\n",
    "            pred_train = model.predict(X_train)\n",
    "            pred_val = model.predict(X_val)\n",
    "            \n",
    "            # [6] Compute metric\n",
    "            metric_train = metric(y_train, pred_train)\n",
    "            metric_val = metric(y_val, pred_val)\n",
    "            \n",
    "            # Computational time\n",
    "            time = default_timer() - start_time\n",
    "            \n",
    "            # print error\n",
    "            print('Accuracy train = %s - Accuracy validation = %s. Time spend = %.2f.' \n",
    "                  % (metric_train, metric_val, time))         \n",
    "                       \n",
    "            # Save iteration results\n",
    "            grid_results.loc[num_iter]=[k,\n",
    "                                     metric_train,\n",
    "                                     metric_val,\n",
    "                                    time] \n",
    "            num_iter += 1\n",
    "\n",
    "print('Grid Search Total Computational Time: ', np.sum(grid_results.time.values)) "
   ]
  },
  {
   "cell_type": "code",
   "execution_count": 13,
   "metadata": {},
   "outputs": [
    {
     "data": {
      "text/html": [
       "<div>\n",
       "<style scoped>\n",
       "    .dataframe tbody tr th:only-of-type {\n",
       "        vertical-align: middle;\n",
       "    }\n",
       "\n",
       "    .dataframe tbody tr th {\n",
       "        vertical-align: top;\n",
       "    }\n",
       "\n",
       "    .dataframe thead th {\n",
       "        text-align: right;\n",
       "    }\n",
       "</style>\n",
       "<table border=\"1\" class=\"dataframe\">\n",
       "  <thead>\n",
       "    <tr style=\"text-align: right;\">\n",
       "      <th></th>\n",
       "      <th>k</th>\n",
       "      <th>acc_train</th>\n",
       "      <th>acc_val</th>\n",
       "      <th>time</th>\n",
       "    </tr>\n",
       "  </thead>\n",
       "  <tbody>\n",
       "    <tr>\n",
       "      <th>1</th>\n",
       "      <td>1.0</td>\n",
       "      <td>1.000000</td>\n",
       "      <td>0.894118</td>\n",
       "      <td>0.016169</td>\n",
       "    </tr>\n",
       "    <tr>\n",
       "      <th>2</th>\n",
       "      <td>2.0</td>\n",
       "      <td>0.972362</td>\n",
       "      <td>0.917647</td>\n",
       "      <td>0.015159</td>\n",
       "    </tr>\n",
       "    <tr>\n",
       "      <th>3</th>\n",
       "      <td>3.0</td>\n",
       "      <td>0.947236</td>\n",
       "      <td>0.905882</td>\n",
       "      <td>0.017816</td>\n",
       "    </tr>\n",
       "    <tr>\n",
       "      <th>4</th>\n",
       "      <td>4.0</td>\n",
       "      <td>0.944724</td>\n",
       "      <td>0.917647</td>\n",
       "      <td>0.020510</td>\n",
       "    </tr>\n",
       "    <tr>\n",
       "      <th>5</th>\n",
       "      <td>5.0</td>\n",
       "      <td>0.952261</td>\n",
       "      <td>0.905882</td>\n",
       "      <td>0.014985</td>\n",
       "    </tr>\n",
       "    <tr>\n",
       "      <th>6</th>\n",
       "      <td>6.0</td>\n",
       "      <td>0.944724</td>\n",
       "      <td>0.929412</td>\n",
       "      <td>0.015776</td>\n",
       "    </tr>\n",
       "    <tr>\n",
       "      <th>7</th>\n",
       "      <td>7.0</td>\n",
       "      <td>0.939698</td>\n",
       "      <td>0.917647</td>\n",
       "      <td>0.014312</td>\n",
       "    </tr>\n",
       "    <tr>\n",
       "      <th>8</th>\n",
       "      <td>8.0</td>\n",
       "      <td>0.942211</td>\n",
       "      <td>0.929412</td>\n",
       "      <td>0.014711</td>\n",
       "    </tr>\n",
       "    <tr>\n",
       "      <th>9</th>\n",
       "      <td>9.0</td>\n",
       "      <td>0.937186</td>\n",
       "      <td>0.941176</td>\n",
       "      <td>0.014201</td>\n",
       "    </tr>\n",
       "    <tr>\n",
       "      <th>10</th>\n",
       "      <td>10.0</td>\n",
       "      <td>0.937186</td>\n",
       "      <td>0.929412</td>\n",
       "      <td>0.013491</td>\n",
       "    </tr>\n",
       "  </tbody>\n",
       "</table>\n",
       "</div>"
      ],
      "text/plain": [
       "       k  acc_train   acc_val      time\n",
       "1    1.0   1.000000  0.894118  0.016169\n",
       "2    2.0   0.972362  0.917647  0.015159\n",
       "3    3.0   0.947236  0.905882  0.017816\n",
       "4    4.0   0.944724  0.917647  0.020510\n",
       "5    5.0   0.952261  0.905882  0.014985\n",
       "6    6.0   0.944724  0.929412  0.015776\n",
       "7    7.0   0.939698  0.917647  0.014312\n",
       "8    8.0   0.942211  0.929412  0.014711\n",
       "9    9.0   0.937186  0.941176  0.014201\n",
       "10  10.0   0.937186  0.929412  0.013491"
      ]
     },
     "execution_count": 13,
     "metadata": {},
     "output_type": "execute_result"
    }
   ],
   "source": [
    "grid_results"
   ]
  },
  {
   "cell_type": "code",
   "execution_count": 14,
   "metadata": {},
   "outputs": [
    {
     "data": {
      "text/html": [
       "<div>\n",
       "<style scoped>\n",
       "    .dataframe tbody tr th:only-of-type {\n",
       "        vertical-align: middle;\n",
       "    }\n",
       "\n",
       "    .dataframe tbody tr th {\n",
       "        vertical-align: top;\n",
       "    }\n",
       "\n",
       "    .dataframe thead th {\n",
       "        text-align: right;\n",
       "    }\n",
       "</style>\n",
       "<table border=\"1\" class=\"dataframe\">\n",
       "  <thead>\n",
       "    <tr style=\"text-align: right;\">\n",
       "      <th></th>\n",
       "      <th>k</th>\n",
       "      <th>acc_train</th>\n",
       "      <th>acc_val</th>\n",
       "      <th>time</th>\n",
       "    </tr>\n",
       "  </thead>\n",
       "  <tbody>\n",
       "    <tr>\n",
       "      <th>9</th>\n",
       "      <td>9.0</td>\n",
       "      <td>0.937186</td>\n",
       "      <td>0.941176</td>\n",
       "      <td>0.014201</td>\n",
       "    </tr>\n",
       "    <tr>\n",
       "      <th>6</th>\n",
       "      <td>6.0</td>\n",
       "      <td>0.944724</td>\n",
       "      <td>0.929412</td>\n",
       "      <td>0.015776</td>\n",
       "    </tr>\n",
       "    <tr>\n",
       "      <th>8</th>\n",
       "      <td>8.0</td>\n",
       "      <td>0.942211</td>\n",
       "      <td>0.929412</td>\n",
       "      <td>0.014711</td>\n",
       "    </tr>\n",
       "    <tr>\n",
       "      <th>10</th>\n",
       "      <td>10.0</td>\n",
       "      <td>0.937186</td>\n",
       "      <td>0.929412</td>\n",
       "      <td>0.013491</td>\n",
       "    </tr>\n",
       "    <tr>\n",
       "      <th>2</th>\n",
       "      <td>2.0</td>\n",
       "      <td>0.972362</td>\n",
       "      <td>0.917647</td>\n",
       "      <td>0.015159</td>\n",
       "    </tr>\n",
       "    <tr>\n",
       "      <th>4</th>\n",
       "      <td>4.0</td>\n",
       "      <td>0.944724</td>\n",
       "      <td>0.917647</td>\n",
       "      <td>0.020510</td>\n",
       "    </tr>\n",
       "    <tr>\n",
       "      <th>7</th>\n",
       "      <td>7.0</td>\n",
       "      <td>0.939698</td>\n",
       "      <td>0.917647</td>\n",
       "      <td>0.014312</td>\n",
       "    </tr>\n",
       "    <tr>\n",
       "      <th>5</th>\n",
       "      <td>5.0</td>\n",
       "      <td>0.952261</td>\n",
       "      <td>0.905882</td>\n",
       "      <td>0.014985</td>\n",
       "    </tr>\n",
       "    <tr>\n",
       "      <th>3</th>\n",
       "      <td>3.0</td>\n",
       "      <td>0.947236</td>\n",
       "      <td>0.905882</td>\n",
       "      <td>0.017816</td>\n",
       "    </tr>\n",
       "    <tr>\n",
       "      <th>1</th>\n",
       "      <td>1.0</td>\n",
       "      <td>1.000000</td>\n",
       "      <td>0.894118</td>\n",
       "      <td>0.016169</td>\n",
       "    </tr>\n",
       "  </tbody>\n",
       "</table>\n",
       "</div>"
      ],
      "text/plain": [
       "       k  acc_train   acc_val      time\n",
       "9    9.0   0.937186  0.941176  0.014201\n",
       "6    6.0   0.944724  0.929412  0.015776\n",
       "8    8.0   0.942211  0.929412  0.014711\n",
       "10  10.0   0.937186  0.929412  0.013491\n",
       "2    2.0   0.972362  0.917647  0.015159\n",
       "4    4.0   0.944724  0.917647  0.020510\n",
       "7    7.0   0.939698  0.917647  0.014312\n",
       "5    5.0   0.952261  0.905882  0.014985\n",
       "3    3.0   0.947236  0.905882  0.017816\n",
       "1    1.0   1.000000  0.894118  0.016169"
      ]
     },
     "execution_count": 14,
     "metadata": {},
     "output_type": "execute_result"
    }
   ],
   "source": [
    "grid_results = grid_results.sort_values(by = ['acc_val', 'acc_train', 'time'], ascending = [False, False, True])\n",
    "grid_results"
   ]
  },
  {
   "cell_type": "markdown",
   "metadata": {},
   "source": [
    "Best model is k = 9"
   ]
  },
  {
   "cell_type": "markdown",
   "metadata": {},
   "source": [
    "class non-fraudulent = 99.84%.\n",
    "class fraudulent = 0.16%."
   ]
  },
  {
   "cell_type": "markdown",
   "metadata": {},
   "source": [
    "### [3] Precision"
   ]
  },
  {
   "cell_type": "markdown",
   "metadata": {},
   "source": [
    "<img src=\"figures/precision.png\">"
   ]
  },
  {
   "cell_type": "code",
   "execution_count": 15,
   "metadata": {},
   "outputs": [],
   "source": [
    "# 2) Import metrics\n",
    "from sklearn.metrics import precision_score as metric"
   ]
  },
  {
   "cell_type": "code",
   "execution_count": 16,
   "metadata": {},
   "outputs": [
    {
     "name": "stdout",
     "output_type": "stream",
     "text": [
      "Iteracion = 1. Parametro k = 1\n",
      "Precision train = 1.0 - Precision validation = 0.8928571428571429. Time spend = 0.02.\n",
      "Iteracion = 2. Parametro k = 2\n",
      "Precision train = 1.0 - Precision validation = 0.9423076923076923. Time spend = 0.01.\n",
      "Iteracion = 3. Parametro k = 3\n",
      "Precision train = 0.9386973180076629 - Precision validation = 0.8813559322033898. Time spend = 0.01.\n",
      "Iteracion = 4. Parametro k = 4\n",
      "Precision train = 0.9488188976377953 - Precision validation = 0.9107142857142857. Time spend = 0.01.\n",
      "Iteracion = 5. Parametro k = 5\n",
      "Precision train = 0.9425287356321839 - Precision validation = 0.8947368421052632. Time spend = 0.01.\n",
      "Iteracion = 6. Parametro k = 6\n",
      "Precision train = 0.9488188976377953 - Precision validation = 0.9272727272727272. Time spend = 0.01.\n",
      "Iteracion = 7. Parametro k = 7\n",
      "Precision train = 0.9346153846153846 - Precision validation = 0.9107142857142857. Time spend = 0.01.\n",
      "Iteracion = 8. Parametro k = 8\n",
      "Precision train = 0.9450980392156862 - Precision validation = 0.9272727272727272. Time spend = 0.01.\n",
      "Iteracion = 9. Parametro k = 9\n",
      "Precision train = 0.9343629343629344 - Precision validation = 0.9285714285714286. Time spend = 0.01.\n",
      "Iteracion = 10. Parametro k = 10\n",
      "Precision train = 0.9343629343629344 - Precision validation = 0.9272727272727272. Time spend = 0.02.\n",
      "Grid Search Total Computational Time:  0.1391976000000006\n"
     ]
    }
   ],
   "source": [
    "num_iter = 1;\n",
    "grid_results = pd.DataFrame(columns = ('k', 'precision_train', 'precision_val', 'time'))\n",
    "for k in params_grid['n_neighbors']:\n",
    "            \n",
    "            # Start time\n",
    "            start_time = default_timer()\n",
    "        \n",
    "            # Print trace\n",
    "            print('Iteracion = ' + str(num_iter) + '. Parametro k = ' + str(k))\n",
    "            \n",
    "            # [3] Define model\n",
    "            model = model_constructor(n_neighbors = k)\n",
    "            \n",
    "            # [4] Train model\n",
    "            model.fit(X_train, y_train)\n",
    "            \n",
    "            # [5] Predict\n",
    "            pred_train = model.predict(X_train)\n",
    "            pred_val = model.predict(X_val)\n",
    "            \n",
    "            # [6] Compute metric\n",
    "            metric_train = metric(y_train, pred_train)\n",
    "            metric_val = metric(y_val, pred_val)\n",
    "            \n",
    "            # Computational time\n",
    "            time = default_timer() - start_time\n",
    "            \n",
    "            # print error\n",
    "            print('Precision train = %s - Precision validation = %s. Time spend = %.2f.' \n",
    "                  % (metric_train, metric_val, time))         \n",
    "                       \n",
    "            # Save iteration results\n",
    "            grid_results.loc[num_iter]=[k,\n",
    "                                     metric_train,\n",
    "                                     metric_val,\n",
    "                                    time] \n",
    "            num_iter += 1\n",
    "\n",
    "print('Grid Search Total Computational Time: ', np.sum(grid_results.time.values)) "
   ]
  },
  {
   "cell_type": "code",
   "execution_count": 17,
   "metadata": {},
   "outputs": [
    {
     "data": {
      "text/html": [
       "<div>\n",
       "<style scoped>\n",
       "    .dataframe tbody tr th:only-of-type {\n",
       "        vertical-align: middle;\n",
       "    }\n",
       "\n",
       "    .dataframe tbody tr th {\n",
       "        vertical-align: top;\n",
       "    }\n",
       "\n",
       "    .dataframe thead th {\n",
       "        text-align: right;\n",
       "    }\n",
       "</style>\n",
       "<table border=\"1\" class=\"dataframe\">\n",
       "  <thead>\n",
       "    <tr style=\"text-align: right;\">\n",
       "      <th></th>\n",
       "      <th>k</th>\n",
       "      <th>precision_train</th>\n",
       "      <th>precision_val</th>\n",
       "      <th>time</th>\n",
       "    </tr>\n",
       "  </thead>\n",
       "  <tbody>\n",
       "    <tr>\n",
       "      <th>1</th>\n",
       "      <td>1.0</td>\n",
       "      <td>1.000000</td>\n",
       "      <td>0.892857</td>\n",
       "      <td>0.017885</td>\n",
       "    </tr>\n",
       "    <tr>\n",
       "      <th>2</th>\n",
       "      <td>2.0</td>\n",
       "      <td>1.000000</td>\n",
       "      <td>0.942308</td>\n",
       "      <td>0.014556</td>\n",
       "    </tr>\n",
       "    <tr>\n",
       "      <th>3</th>\n",
       "      <td>3.0</td>\n",
       "      <td>0.938697</td>\n",
       "      <td>0.881356</td>\n",
       "      <td>0.014520</td>\n",
       "    </tr>\n",
       "    <tr>\n",
       "      <th>4</th>\n",
       "      <td>4.0</td>\n",
       "      <td>0.948819</td>\n",
       "      <td>0.910714</td>\n",
       "      <td>0.014152</td>\n",
       "    </tr>\n",
       "    <tr>\n",
       "      <th>5</th>\n",
       "      <td>5.0</td>\n",
       "      <td>0.942529</td>\n",
       "      <td>0.894737</td>\n",
       "      <td>0.011223</td>\n",
       "    </tr>\n",
       "    <tr>\n",
       "      <th>6</th>\n",
       "      <td>6.0</td>\n",
       "      <td>0.948819</td>\n",
       "      <td>0.927273</td>\n",
       "      <td>0.013393</td>\n",
       "    </tr>\n",
       "    <tr>\n",
       "      <th>7</th>\n",
       "      <td>7.0</td>\n",
       "      <td>0.934615</td>\n",
       "      <td>0.910714</td>\n",
       "      <td>0.012319</td>\n",
       "    </tr>\n",
       "    <tr>\n",
       "      <th>8</th>\n",
       "      <td>8.0</td>\n",
       "      <td>0.945098</td>\n",
       "      <td>0.927273</td>\n",
       "      <td>0.013906</td>\n",
       "    </tr>\n",
       "    <tr>\n",
       "      <th>9</th>\n",
       "      <td>9.0</td>\n",
       "      <td>0.934363</td>\n",
       "      <td>0.928571</td>\n",
       "      <td>0.012142</td>\n",
       "    </tr>\n",
       "    <tr>\n",
       "      <th>10</th>\n",
       "      <td>10.0</td>\n",
       "      <td>0.934363</td>\n",
       "      <td>0.927273</td>\n",
       "      <td>0.015102</td>\n",
       "    </tr>\n",
       "  </tbody>\n",
       "</table>\n",
       "</div>"
      ],
      "text/plain": [
       "       k  precision_train  precision_val      time\n",
       "1    1.0         1.000000       0.892857  0.017885\n",
       "2    2.0         1.000000       0.942308  0.014556\n",
       "3    3.0         0.938697       0.881356  0.014520\n",
       "4    4.0         0.948819       0.910714  0.014152\n",
       "5    5.0         0.942529       0.894737  0.011223\n",
       "6    6.0         0.948819       0.927273  0.013393\n",
       "7    7.0         0.934615       0.910714  0.012319\n",
       "8    8.0         0.945098       0.927273  0.013906\n",
       "9    9.0         0.934363       0.928571  0.012142\n",
       "10  10.0         0.934363       0.927273  0.015102"
      ]
     },
     "execution_count": 17,
     "metadata": {},
     "output_type": "execute_result"
    }
   ],
   "source": [
    "grid_results"
   ]
  },
  {
   "cell_type": "code",
   "execution_count": 18,
   "metadata": {},
   "outputs": [
    {
     "data": {
      "text/html": [
       "<div>\n",
       "<style scoped>\n",
       "    .dataframe tbody tr th:only-of-type {\n",
       "        vertical-align: middle;\n",
       "    }\n",
       "\n",
       "    .dataframe tbody tr th {\n",
       "        vertical-align: top;\n",
       "    }\n",
       "\n",
       "    .dataframe thead th {\n",
       "        text-align: right;\n",
       "    }\n",
       "</style>\n",
       "<table border=\"1\" class=\"dataframe\">\n",
       "  <thead>\n",
       "    <tr style=\"text-align: right;\">\n",
       "      <th></th>\n",
       "      <th>k</th>\n",
       "      <th>precision_train</th>\n",
       "      <th>precision_val</th>\n",
       "      <th>time</th>\n",
       "    </tr>\n",
       "  </thead>\n",
       "  <tbody>\n",
       "    <tr>\n",
       "      <th>2</th>\n",
       "      <td>2.0</td>\n",
       "      <td>1.000000</td>\n",
       "      <td>0.942308</td>\n",
       "      <td>0.014556</td>\n",
       "    </tr>\n",
       "    <tr>\n",
       "      <th>9</th>\n",
       "      <td>9.0</td>\n",
       "      <td>0.934363</td>\n",
       "      <td>0.928571</td>\n",
       "      <td>0.012142</td>\n",
       "    </tr>\n",
       "    <tr>\n",
       "      <th>6</th>\n",
       "      <td>6.0</td>\n",
       "      <td>0.948819</td>\n",
       "      <td>0.927273</td>\n",
       "      <td>0.013393</td>\n",
       "    </tr>\n",
       "    <tr>\n",
       "      <th>8</th>\n",
       "      <td>8.0</td>\n",
       "      <td>0.945098</td>\n",
       "      <td>0.927273</td>\n",
       "      <td>0.013906</td>\n",
       "    </tr>\n",
       "    <tr>\n",
       "      <th>10</th>\n",
       "      <td>10.0</td>\n",
       "      <td>0.934363</td>\n",
       "      <td>0.927273</td>\n",
       "      <td>0.015102</td>\n",
       "    </tr>\n",
       "    <tr>\n",
       "      <th>4</th>\n",
       "      <td>4.0</td>\n",
       "      <td>0.948819</td>\n",
       "      <td>0.910714</td>\n",
       "      <td>0.014152</td>\n",
       "    </tr>\n",
       "    <tr>\n",
       "      <th>7</th>\n",
       "      <td>7.0</td>\n",
       "      <td>0.934615</td>\n",
       "      <td>0.910714</td>\n",
       "      <td>0.012319</td>\n",
       "    </tr>\n",
       "    <tr>\n",
       "      <th>5</th>\n",
       "      <td>5.0</td>\n",
       "      <td>0.942529</td>\n",
       "      <td>0.894737</td>\n",
       "      <td>0.011223</td>\n",
       "    </tr>\n",
       "    <tr>\n",
       "      <th>1</th>\n",
       "      <td>1.0</td>\n",
       "      <td>1.000000</td>\n",
       "      <td>0.892857</td>\n",
       "      <td>0.017885</td>\n",
       "    </tr>\n",
       "    <tr>\n",
       "      <th>3</th>\n",
       "      <td>3.0</td>\n",
       "      <td>0.938697</td>\n",
       "      <td>0.881356</td>\n",
       "      <td>0.014520</td>\n",
       "    </tr>\n",
       "  </tbody>\n",
       "</table>\n",
       "</div>"
      ],
      "text/plain": [
       "       k  precision_train  precision_val      time\n",
       "2    2.0         1.000000       0.942308  0.014556\n",
       "9    9.0         0.934363       0.928571  0.012142\n",
       "6    6.0         0.948819       0.927273  0.013393\n",
       "8    8.0         0.945098       0.927273  0.013906\n",
       "10  10.0         0.934363       0.927273  0.015102\n",
       "4    4.0         0.948819       0.910714  0.014152\n",
       "7    7.0         0.934615       0.910714  0.012319\n",
       "5    5.0         0.942529       0.894737  0.011223\n",
       "1    1.0         1.000000       0.892857  0.017885\n",
       "3    3.0         0.938697       0.881356  0.014520"
      ]
     },
     "execution_count": 18,
     "metadata": {},
     "output_type": "execute_result"
    }
   ],
   "source": [
    "grid_results = grid_results.sort_values(by = ['precision_val', 'precision_train', 'time'], ascending = [False, False, True])\n",
    "grid_results"
   ]
  },
  {
   "cell_type": "markdown",
   "metadata": {},
   "source": [
    "Best model is k = 2"
   ]
  },
  {
   "cell_type": "markdown",
   "metadata": {},
   "source": [
    "### [4] Recall"
   ]
  },
  {
   "cell_type": "markdown",
   "metadata": {},
   "source": [
    "<img src=\"figures/recall.png\">"
   ]
  },
  {
   "cell_type": "code",
   "execution_count": 20,
   "metadata": {},
   "outputs": [],
   "source": [
    "# 2) Import metrics\n",
    "from sklearn.metrics import recall_score as metric"
   ]
  },
  {
   "cell_type": "code",
   "execution_count": 21,
   "metadata": {},
   "outputs": [
    {
     "name": "stdout",
     "output_type": "stream",
     "text": [
      "Iteracion = 1. Parametro k = 1\n",
      "Recall train = 1.0 - Recall validation = 0.9433962264150944. Time spend = 0.01.\n",
      "Iteracion = 2. Parametro k = 2\n",
      "Recall train = 0.956 - Recall validation = 0.9245283018867925. Time spend = 0.01.\n",
      "Iteracion = 3. Parametro k = 3\n",
      "Recall train = 0.98 - Recall validation = 0.9811320754716981. Time spend = 0.01.\n",
      "Iteracion = 4. Parametro k = 4\n",
      "Recall train = 0.964 - Recall validation = 0.9622641509433962. Time spend = 0.01.\n",
      "Iteracion = 5. Parametro k = 5\n",
      "Recall train = 0.984 - Recall validation = 0.9622641509433962. Time spend = 0.01.\n",
      "Iteracion = 6. Parametro k = 6\n",
      "Recall train = 0.964 - Recall validation = 0.9622641509433962. Time spend = 0.01.\n",
      "Iteracion = 7. Parametro k = 7\n",
      "Recall train = 0.972 - Recall validation = 0.9622641509433962. Time spend = 0.01.\n",
      "Iteracion = 8. Parametro k = 8\n",
      "Recall train = 0.964 - Recall validation = 0.9622641509433962. Time spend = 0.01.\n",
      "Iteracion = 9. Parametro k = 9\n",
      "Recall train = 0.968 - Recall validation = 0.9811320754716981. Time spend = 0.02.\n",
      "Iteracion = 10. Parametro k = 10\n",
      "Recall train = 0.968 - Recall validation = 0.9622641509433962. Time spend = 0.01.\n",
      "Grid Search Total Computational Time:  0.13887950000000515\n"
     ]
    }
   ],
   "source": [
    "num_iter = 1;\n",
    "grid_results = pd.DataFrame(columns = ('k', 'recall_train', 'recall_val', 'time'))\n",
    "for k in params_grid['n_neighbors']:\n",
    "            \n",
    "            # Start time\n",
    "            start_time = default_timer()\n",
    "        \n",
    "            # Print trace\n",
    "            print('Iteracion = ' + str(num_iter) + '. Parametro k = ' + str(k))\n",
    "            \n",
    "            # [3] Define model\n",
    "            model = model_constructor(n_neighbors = k)\n",
    "            \n",
    "            # [4] Train model\n",
    "            model.fit(X_train, y_train)\n",
    "            \n",
    "            # [5] Predict\n",
    "            pred_train = model.predict(X_train)\n",
    "            pred_val = model.predict(X_val)\n",
    "            \n",
    "            # [6] Compute metric\n",
    "            metric_train = metric(y_train, pred_train)\n",
    "            metric_val = metric(y_val, pred_val)\n",
    "            \n",
    "            # Computational time\n",
    "            time = default_timer() - start_time\n",
    "            \n",
    "            # print error\n",
    "            print('Recall train = %s - Recall validation = %s. Time spend = %.2f.' \n",
    "                  % (metric_train, metric_val, time))         \n",
    "                       \n",
    "            # Save iteration results\n",
    "            grid_results.loc[num_iter]=[k,\n",
    "                                     metric_train,\n",
    "                                     metric_val,\n",
    "                                    time] \n",
    "            num_iter += 1\n",
    "\n",
    "print('Grid Search Total Computational Time: ', np.sum(grid_results.time.values)) "
   ]
  },
  {
   "cell_type": "code",
   "execution_count": 22,
   "metadata": {},
   "outputs": [
    {
     "data": {
      "text/html": [
       "<div>\n",
       "<style scoped>\n",
       "    .dataframe tbody tr th:only-of-type {\n",
       "        vertical-align: middle;\n",
       "    }\n",
       "\n",
       "    .dataframe tbody tr th {\n",
       "        vertical-align: top;\n",
       "    }\n",
       "\n",
       "    .dataframe thead th {\n",
       "        text-align: right;\n",
       "    }\n",
       "</style>\n",
       "<table border=\"1\" class=\"dataframe\">\n",
       "  <thead>\n",
       "    <tr style=\"text-align: right;\">\n",
       "      <th></th>\n",
       "      <th>k</th>\n",
       "      <th>recall_train</th>\n",
       "      <th>recall_val</th>\n",
       "      <th>time</th>\n",
       "    </tr>\n",
       "  </thead>\n",
       "  <tbody>\n",
       "    <tr>\n",
       "      <th>1</th>\n",
       "      <td>1.0</td>\n",
       "      <td>1.000</td>\n",
       "      <td>0.943396</td>\n",
       "      <td>0.013759</td>\n",
       "    </tr>\n",
       "    <tr>\n",
       "      <th>2</th>\n",
       "      <td>2.0</td>\n",
       "      <td>0.956</td>\n",
       "      <td>0.924528</td>\n",
       "      <td>0.013247</td>\n",
       "    </tr>\n",
       "    <tr>\n",
       "      <th>3</th>\n",
       "      <td>3.0</td>\n",
       "      <td>0.980</td>\n",
       "      <td>0.981132</td>\n",
       "      <td>0.012973</td>\n",
       "    </tr>\n",
       "    <tr>\n",
       "      <th>4</th>\n",
       "      <td>4.0</td>\n",
       "      <td>0.964</td>\n",
       "      <td>0.962264</td>\n",
       "      <td>0.014871</td>\n",
       "    </tr>\n",
       "    <tr>\n",
       "      <th>5</th>\n",
       "      <td>5.0</td>\n",
       "      <td>0.984</td>\n",
       "      <td>0.962264</td>\n",
       "      <td>0.014349</td>\n",
       "    </tr>\n",
       "    <tr>\n",
       "      <th>6</th>\n",
       "      <td>6.0</td>\n",
       "      <td>0.964</td>\n",
       "      <td>0.962264</td>\n",
       "      <td>0.013053</td>\n",
       "    </tr>\n",
       "    <tr>\n",
       "      <th>7</th>\n",
       "      <td>7.0</td>\n",
       "      <td>0.972</td>\n",
       "      <td>0.962264</td>\n",
       "      <td>0.012410</td>\n",
       "    </tr>\n",
       "    <tr>\n",
       "      <th>8</th>\n",
       "      <td>8.0</td>\n",
       "      <td>0.964</td>\n",
       "      <td>0.962264</td>\n",
       "      <td>0.013432</td>\n",
       "    </tr>\n",
       "    <tr>\n",
       "      <th>9</th>\n",
       "      <td>9.0</td>\n",
       "      <td>0.968</td>\n",
       "      <td>0.981132</td>\n",
       "      <td>0.016839</td>\n",
       "    </tr>\n",
       "    <tr>\n",
       "      <th>10</th>\n",
       "      <td>10.0</td>\n",
       "      <td>0.968</td>\n",
       "      <td>0.962264</td>\n",
       "      <td>0.013946</td>\n",
       "    </tr>\n",
       "  </tbody>\n",
       "</table>\n",
       "</div>"
      ],
      "text/plain": [
       "       k  recall_train  recall_val      time\n",
       "1    1.0         1.000    0.943396  0.013759\n",
       "2    2.0         0.956    0.924528  0.013247\n",
       "3    3.0         0.980    0.981132  0.012973\n",
       "4    4.0         0.964    0.962264  0.014871\n",
       "5    5.0         0.984    0.962264  0.014349\n",
       "6    6.0         0.964    0.962264  0.013053\n",
       "7    7.0         0.972    0.962264  0.012410\n",
       "8    8.0         0.964    0.962264  0.013432\n",
       "9    9.0         0.968    0.981132  0.016839\n",
       "10  10.0         0.968    0.962264  0.013946"
      ]
     },
     "execution_count": 22,
     "metadata": {},
     "output_type": "execute_result"
    }
   ],
   "source": [
    "grid_results"
   ]
  },
  {
   "cell_type": "code",
   "execution_count": 23,
   "metadata": {},
   "outputs": [
    {
     "data": {
      "text/html": [
       "<div>\n",
       "<style scoped>\n",
       "    .dataframe tbody tr th:only-of-type {\n",
       "        vertical-align: middle;\n",
       "    }\n",
       "\n",
       "    .dataframe tbody tr th {\n",
       "        vertical-align: top;\n",
       "    }\n",
       "\n",
       "    .dataframe thead th {\n",
       "        text-align: right;\n",
       "    }\n",
       "</style>\n",
       "<table border=\"1\" class=\"dataframe\">\n",
       "  <thead>\n",
       "    <tr style=\"text-align: right;\">\n",
       "      <th></th>\n",
       "      <th>k</th>\n",
       "      <th>recall_train</th>\n",
       "      <th>recall_val</th>\n",
       "      <th>time</th>\n",
       "    </tr>\n",
       "  </thead>\n",
       "  <tbody>\n",
       "    <tr>\n",
       "      <th>3</th>\n",
       "      <td>3.0</td>\n",
       "      <td>0.980</td>\n",
       "      <td>0.981132</td>\n",
       "      <td>0.012973</td>\n",
       "    </tr>\n",
       "    <tr>\n",
       "      <th>9</th>\n",
       "      <td>9.0</td>\n",
       "      <td>0.968</td>\n",
       "      <td>0.981132</td>\n",
       "      <td>0.016839</td>\n",
       "    </tr>\n",
       "    <tr>\n",
       "      <th>5</th>\n",
       "      <td>5.0</td>\n",
       "      <td>0.984</td>\n",
       "      <td>0.962264</td>\n",
       "      <td>0.014349</td>\n",
       "    </tr>\n",
       "    <tr>\n",
       "      <th>7</th>\n",
       "      <td>7.0</td>\n",
       "      <td>0.972</td>\n",
       "      <td>0.962264</td>\n",
       "      <td>0.012410</td>\n",
       "    </tr>\n",
       "    <tr>\n",
       "      <th>10</th>\n",
       "      <td>10.0</td>\n",
       "      <td>0.968</td>\n",
       "      <td>0.962264</td>\n",
       "      <td>0.013946</td>\n",
       "    </tr>\n",
       "    <tr>\n",
       "      <th>6</th>\n",
       "      <td>6.0</td>\n",
       "      <td>0.964</td>\n",
       "      <td>0.962264</td>\n",
       "      <td>0.013053</td>\n",
       "    </tr>\n",
       "    <tr>\n",
       "      <th>8</th>\n",
       "      <td>8.0</td>\n",
       "      <td>0.964</td>\n",
       "      <td>0.962264</td>\n",
       "      <td>0.013432</td>\n",
       "    </tr>\n",
       "    <tr>\n",
       "      <th>4</th>\n",
       "      <td>4.0</td>\n",
       "      <td>0.964</td>\n",
       "      <td>0.962264</td>\n",
       "      <td>0.014871</td>\n",
       "    </tr>\n",
       "    <tr>\n",
       "      <th>1</th>\n",
       "      <td>1.0</td>\n",
       "      <td>1.000</td>\n",
       "      <td>0.943396</td>\n",
       "      <td>0.013759</td>\n",
       "    </tr>\n",
       "    <tr>\n",
       "      <th>2</th>\n",
       "      <td>2.0</td>\n",
       "      <td>0.956</td>\n",
       "      <td>0.924528</td>\n",
       "      <td>0.013247</td>\n",
       "    </tr>\n",
       "  </tbody>\n",
       "</table>\n",
       "</div>"
      ],
      "text/plain": [
       "       k  recall_train  recall_val      time\n",
       "3    3.0         0.980    0.981132  0.012973\n",
       "9    9.0         0.968    0.981132  0.016839\n",
       "5    5.0         0.984    0.962264  0.014349\n",
       "7    7.0         0.972    0.962264  0.012410\n",
       "10  10.0         0.968    0.962264  0.013946\n",
       "6    6.0         0.964    0.962264  0.013053\n",
       "8    8.0         0.964    0.962264  0.013432\n",
       "4    4.0         0.964    0.962264  0.014871\n",
       "1    1.0         1.000    0.943396  0.013759\n",
       "2    2.0         0.956    0.924528  0.013247"
      ]
     },
     "execution_count": 23,
     "metadata": {},
     "output_type": "execute_result"
    }
   ],
   "source": [
    "grid_results = grid_results.sort_values(by = ['recall_val', 'recall_train', 'time'], ascending = [False, False, True])\n",
    "grid_results"
   ]
  },
  {
   "cell_type": "markdown",
   "metadata": {},
   "source": [
    "Best model is k = 3"
   ]
  },
  {
   "cell_type": "markdown",
   "metadata": {},
   "source": [
    "### [5] F1_score"
   ]
  },
  {
   "cell_type": "markdown",
   "metadata": {},
   "source": [
    "<img src=\"figures/f1_score.png\">"
   ]
  },
  {
   "cell_type": "code",
   "execution_count": 24,
   "metadata": {},
   "outputs": [],
   "source": [
    "# 2) Import metrics\n",
    "from sklearn.metrics import f1_score as metric"
   ]
  },
  {
   "cell_type": "code",
   "execution_count": 25,
   "metadata": {},
   "outputs": [
    {
     "name": "stdout",
     "output_type": "stream",
     "text": [
      "Iteracion = 1. Parametro k = 1\n",
      "F1-score train = 1.0 - F1-score validation = 0.9174311926605505. Time spend = 0.02.\n",
      "Iteracion = 2. Parametro k = 2\n",
      "F1-score train = 0.9775051124744376 - F1-score validation = 0.9333333333333333. Time spend = 0.01.\n",
      "Iteracion = 3. Parametro k = 3\n",
      "F1-score train = 0.9589041095890412 - F1-score validation = 0.9285714285714285. Time spend = 0.02.\n",
      "Iteracion = 4. Parametro k = 4\n",
      "F1-score train = 0.9563492063492063 - F1-score validation = 0.9357798165137615. Time spend = 0.01.\n",
      "Iteracion = 5. Parametro k = 5\n",
      "F1-score train = 0.9628180039138943 - F1-score validation = 0.9272727272727272. Time spend = 0.01.\n",
      "Iteracion = 6. Parametro k = 6\n",
      "F1-score train = 0.9563492063492063 - F1-score validation = 0.9444444444444444. Time spend = 0.01.\n",
      "Iteracion = 7. Parametro k = 7\n",
      "F1-score train = 0.9529411764705882 - F1-score validation = 0.9357798165137615. Time spend = 0.01.\n",
      "Iteracion = 8. Parametro k = 8\n",
      "F1-score train = 0.9544554455445544 - F1-score validation = 0.9444444444444444. Time spend = 0.01.\n",
      "Iteracion = 9. Parametro k = 9\n",
      "F1-score train = 0.9508840864440079 - F1-score validation = 0.9541284403669724. Time spend = 0.01.\n",
      "Iteracion = 10. Parametro k = 10\n",
      "F1-score train = 0.9508840864440079 - F1-score validation = 0.9444444444444444. Time spend = 0.01.\n",
      "Grid Search Total Computational Time:  0.12980730000000662\n"
     ]
    }
   ],
   "source": [
    "num_iter = 1;\n",
    "grid_results = pd.DataFrame(columns = ('k', 'f1_train', 'f1_val', 'time'))\n",
    "for k in params_grid['n_neighbors']:\n",
    "            \n",
    "            # Start time\n",
    "            start_time = default_timer()\n",
    "        \n",
    "            # Print trace\n",
    "            print('Iteracion = ' + str(num_iter) + '. Parametro k = ' + str(k))\n",
    "            \n",
    "            # [3] Define model\n",
    "            model = model_constructor(n_neighbors = k)\n",
    "            \n",
    "            # [4] Train model\n",
    "            model.fit(X_train, y_train)\n",
    "            \n",
    "            # [5] Predict\n",
    "            pred_train = model.predict(X_train)\n",
    "            pred_val = model.predict(X_val)\n",
    "            \n",
    "            # [6] Compute metric\n",
    "            metric_train = metric(y_train, pred_train)\n",
    "            metric_val = metric(y_val, pred_val)\n",
    "            \n",
    "            # Computational time\n",
    "            time = default_timer() - start_time\n",
    "            \n",
    "            # print error\n",
    "            print('F1-score train = %s - F1-score validation = %s. Time spend = %.2f.' \n",
    "                  % (metric_train, metric_val, time))         \n",
    "                       \n",
    "            # Save iteration results\n",
    "            grid_results.loc[num_iter]=[k,\n",
    "                                     metric_train,\n",
    "                                     metric_val,\n",
    "                                    time] \n",
    "            num_iter += 1\n",
    "\n",
    "print('Grid Search Total Computational Time: ', np.sum(grid_results.time.values)) "
   ]
  },
  {
   "cell_type": "code",
   "execution_count": 26,
   "metadata": {},
   "outputs": [
    {
     "data": {
      "text/html": [
       "<div>\n",
       "<style scoped>\n",
       "    .dataframe tbody tr th:only-of-type {\n",
       "        vertical-align: middle;\n",
       "    }\n",
       "\n",
       "    .dataframe tbody tr th {\n",
       "        vertical-align: top;\n",
       "    }\n",
       "\n",
       "    .dataframe thead th {\n",
       "        text-align: right;\n",
       "    }\n",
       "</style>\n",
       "<table border=\"1\" class=\"dataframe\">\n",
       "  <thead>\n",
       "    <tr style=\"text-align: right;\">\n",
       "      <th></th>\n",
       "      <th>k</th>\n",
       "      <th>f1_train</th>\n",
       "      <th>f1_val</th>\n",
       "      <th>time</th>\n",
       "    </tr>\n",
       "  </thead>\n",
       "  <tbody>\n",
       "    <tr>\n",
       "      <th>1</th>\n",
       "      <td>1.0</td>\n",
       "      <td>1.000000</td>\n",
       "      <td>0.917431</td>\n",
       "      <td>0.015016</td>\n",
       "    </tr>\n",
       "    <tr>\n",
       "      <th>2</th>\n",
       "      <td>2.0</td>\n",
       "      <td>0.977505</td>\n",
       "      <td>0.933333</td>\n",
       "      <td>0.012184</td>\n",
       "    </tr>\n",
       "    <tr>\n",
       "      <th>3</th>\n",
       "      <td>3.0</td>\n",
       "      <td>0.958904</td>\n",
       "      <td>0.928571</td>\n",
       "      <td>0.015625</td>\n",
       "    </tr>\n",
       "    <tr>\n",
       "      <th>4</th>\n",
       "      <td>4.0</td>\n",
       "      <td>0.956349</td>\n",
       "      <td>0.935780</td>\n",
       "      <td>0.013751</td>\n",
       "    </tr>\n",
       "    <tr>\n",
       "      <th>5</th>\n",
       "      <td>5.0</td>\n",
       "      <td>0.962818</td>\n",
       "      <td>0.927273</td>\n",
       "      <td>0.012647</td>\n",
       "    </tr>\n",
       "    <tr>\n",
       "      <th>6</th>\n",
       "      <td>6.0</td>\n",
       "      <td>0.956349</td>\n",
       "      <td>0.944444</td>\n",
       "      <td>0.011872</td>\n",
       "    </tr>\n",
       "    <tr>\n",
       "      <th>7</th>\n",
       "      <td>7.0</td>\n",
       "      <td>0.952941</td>\n",
       "      <td>0.935780</td>\n",
       "      <td>0.011337</td>\n",
       "    </tr>\n",
       "    <tr>\n",
       "      <th>8</th>\n",
       "      <td>8.0</td>\n",
       "      <td>0.954455</td>\n",
       "      <td>0.944444</td>\n",
       "      <td>0.011552</td>\n",
       "    </tr>\n",
       "    <tr>\n",
       "      <th>9</th>\n",
       "      <td>9.0</td>\n",
       "      <td>0.950884</td>\n",
       "      <td>0.954128</td>\n",
       "      <td>0.012348</td>\n",
       "    </tr>\n",
       "    <tr>\n",
       "      <th>10</th>\n",
       "      <td>10.0</td>\n",
       "      <td>0.950884</td>\n",
       "      <td>0.944444</td>\n",
       "      <td>0.013476</td>\n",
       "    </tr>\n",
       "  </tbody>\n",
       "</table>\n",
       "</div>"
      ],
      "text/plain": [
       "       k  f1_train    f1_val      time\n",
       "1    1.0  1.000000  0.917431  0.015016\n",
       "2    2.0  0.977505  0.933333  0.012184\n",
       "3    3.0  0.958904  0.928571  0.015625\n",
       "4    4.0  0.956349  0.935780  0.013751\n",
       "5    5.0  0.962818  0.927273  0.012647\n",
       "6    6.0  0.956349  0.944444  0.011872\n",
       "7    7.0  0.952941  0.935780  0.011337\n",
       "8    8.0  0.954455  0.944444  0.011552\n",
       "9    9.0  0.950884  0.954128  0.012348\n",
       "10  10.0  0.950884  0.944444  0.013476"
      ]
     },
     "execution_count": 26,
     "metadata": {},
     "output_type": "execute_result"
    }
   ],
   "source": [
    "grid_results"
   ]
  },
  {
   "cell_type": "code",
   "execution_count": 27,
   "metadata": {},
   "outputs": [
    {
     "data": {
      "text/html": [
       "<div>\n",
       "<style scoped>\n",
       "    .dataframe tbody tr th:only-of-type {\n",
       "        vertical-align: middle;\n",
       "    }\n",
       "\n",
       "    .dataframe tbody tr th {\n",
       "        vertical-align: top;\n",
       "    }\n",
       "\n",
       "    .dataframe thead th {\n",
       "        text-align: right;\n",
       "    }\n",
       "</style>\n",
       "<table border=\"1\" class=\"dataframe\">\n",
       "  <thead>\n",
       "    <tr style=\"text-align: right;\">\n",
       "      <th></th>\n",
       "      <th>k</th>\n",
       "      <th>f1_train</th>\n",
       "      <th>f1_val</th>\n",
       "      <th>time</th>\n",
       "    </tr>\n",
       "  </thead>\n",
       "  <tbody>\n",
       "    <tr>\n",
       "      <th>9</th>\n",
       "      <td>9.0</td>\n",
       "      <td>0.950884</td>\n",
       "      <td>0.954128</td>\n",
       "      <td>0.012348</td>\n",
       "    </tr>\n",
       "    <tr>\n",
       "      <th>6</th>\n",
       "      <td>6.0</td>\n",
       "      <td>0.956349</td>\n",
       "      <td>0.944444</td>\n",
       "      <td>0.011872</td>\n",
       "    </tr>\n",
       "    <tr>\n",
       "      <th>8</th>\n",
       "      <td>8.0</td>\n",
       "      <td>0.954455</td>\n",
       "      <td>0.944444</td>\n",
       "      <td>0.011552</td>\n",
       "    </tr>\n",
       "    <tr>\n",
       "      <th>10</th>\n",
       "      <td>10.0</td>\n",
       "      <td>0.950884</td>\n",
       "      <td>0.944444</td>\n",
       "      <td>0.013476</td>\n",
       "    </tr>\n",
       "    <tr>\n",
       "      <th>4</th>\n",
       "      <td>4.0</td>\n",
       "      <td>0.956349</td>\n",
       "      <td>0.935780</td>\n",
       "      <td>0.013751</td>\n",
       "    </tr>\n",
       "    <tr>\n",
       "      <th>7</th>\n",
       "      <td>7.0</td>\n",
       "      <td>0.952941</td>\n",
       "      <td>0.935780</td>\n",
       "      <td>0.011337</td>\n",
       "    </tr>\n",
       "    <tr>\n",
       "      <th>2</th>\n",
       "      <td>2.0</td>\n",
       "      <td>0.977505</td>\n",
       "      <td>0.933333</td>\n",
       "      <td>0.012184</td>\n",
       "    </tr>\n",
       "    <tr>\n",
       "      <th>3</th>\n",
       "      <td>3.0</td>\n",
       "      <td>0.958904</td>\n",
       "      <td>0.928571</td>\n",
       "      <td>0.015625</td>\n",
       "    </tr>\n",
       "    <tr>\n",
       "      <th>5</th>\n",
       "      <td>5.0</td>\n",
       "      <td>0.962818</td>\n",
       "      <td>0.927273</td>\n",
       "      <td>0.012647</td>\n",
       "    </tr>\n",
       "    <tr>\n",
       "      <th>1</th>\n",
       "      <td>1.0</td>\n",
       "      <td>1.000000</td>\n",
       "      <td>0.917431</td>\n",
       "      <td>0.015016</td>\n",
       "    </tr>\n",
       "  </tbody>\n",
       "</table>\n",
       "</div>"
      ],
      "text/plain": [
       "       k  f1_train    f1_val      time\n",
       "9    9.0  0.950884  0.954128  0.012348\n",
       "6    6.0  0.956349  0.944444  0.011872\n",
       "8    8.0  0.954455  0.944444  0.011552\n",
       "10  10.0  0.950884  0.944444  0.013476\n",
       "4    4.0  0.956349  0.935780  0.013751\n",
       "7    7.0  0.952941  0.935780  0.011337\n",
       "2    2.0  0.977505  0.933333  0.012184\n",
       "3    3.0  0.958904  0.928571  0.015625\n",
       "5    5.0  0.962818  0.927273  0.012647\n",
       "1    1.0  1.000000  0.917431  0.015016"
      ]
     },
     "execution_count": 27,
     "metadata": {},
     "output_type": "execute_result"
    }
   ],
   "source": [
    "grid_results = grid_results.sort_values(by = ['f1_val', 'f1_train', 'time'], ascending = [False, False, True])\n",
    "grid_results"
   ]
  },
  {
   "cell_type": "markdown",
   "metadata": {},
   "source": [
    "Best model is k = 9"
   ]
  },
  {
   "cell_type": "markdown",
   "metadata": {},
   "source": [
    "### [6] Area Under the Curve, AUC"
   ]
  },
  {
   "cell_type": "markdown",
   "metadata": {},
   "source": [
    "<img src=\"figures/auc.png\">"
   ]
  },
  {
   "cell_type": "markdown",
   "metadata": {},
   "source": [
    "**Important note!!!:** To compute AUC you need to pass predictions as probabilities, not labels."
   ]
  },
  {
   "cell_type": "code",
   "execution_count": 28,
   "metadata": {},
   "outputs": [],
   "source": [
    "# 2) Import metrics\n",
    "from sklearn.metrics import roc_auc_score as metric\n",
    "?metric"
   ]
  },
  {
   "cell_type": "code",
   "execution_count": 29,
   "metadata": {},
   "outputs": [
    {
     "name": "stdout",
     "output_type": "stream",
     "text": [
      "Iteracion = 1. Parametro k = 1\n",
      "AUC train = 1.0 - AUC validation = 0.8779481132075472. Time spend = 0.01.\n",
      "Iteracion = 2. Parametro k = 2\n",
      "AUC train = 0.9968783783783783 - AUC validation = 0.9339622641509434. Time spend = 0.01.\n",
      "Iteracion = 3. Parametro k = 3\n",
      "AUC train = 0.9929729729729729 - AUC validation = 0.9510613207547169. Time spend = 0.01.\n",
      "Iteracion = 4. Parametro k = 4\n",
      "AUC train = 0.9920675675675675 - AUC validation = 0.9587264150943396. Time spend = 0.01.\n",
      "Iteracion = 5. Parametro k = 5\n",
      "AUC train = 0.9908918918918919 - AUC validation = 0.9543042452830188. Time spend = 0.01.\n",
      "Iteracion = 6. Parametro k = 6\n",
      "AUC train = 0.9888783783783784 - AUC validation = 0.9557783018867925. Time spend = 0.01.\n",
      "Iteracion = 7. Parametro k = 7\n",
      "AUC train = 0.987054054054054 - AUC validation = 0.9551886792452831. Time spend = 0.01.\n",
      "Iteracion = 8. Parametro k = 8\n",
      "AUC train = 0.9862567567567567 - AUC validation = 0.9708136792452831. Time spend = 0.01.\n",
      "Iteracion = 9. Parametro k = 9\n",
      "AUC train = 0.9861351351351351 - AUC validation = 0.9714033018867925. Time spend = 0.01.\n",
      "Iteracion = 10. Parametro k = 10\n",
      "AUC train = 0.9857027027027027 - AUC validation = 0.9702240566037736. Time spend = 0.01.\n",
      "Grid Search Total Computational Time:  0.06392440000000121\n"
     ]
    }
   ],
   "source": [
    "num_iter = 1;\n",
    "grid_results = pd.DataFrame(columns = ('k', 'auc_train', 'auc_val', 'time'))\n",
    "for k in params_grid['n_neighbors']:\n",
    "            \n",
    "            # Start time\n",
    "            start_time = default_timer()\n",
    "        \n",
    "            # Print trace\n",
    "            print('Iteracion = ' + str(num_iter) + '. Parametro k = ' + str(k))\n",
    "            \n",
    "            # [3] Define model\n",
    "            model = model_constructor(n_neighbors = k)\n",
    "            \n",
    "            # [4] Train model\n",
    "            model.fit(X_train, y_train)\n",
    "            \n",
    "            # [5] Predict\n",
    "            pred_train = model.predict_proba(X_train)[:, 1] # predict_proba!!!\n",
    "            pred_val = model.predict_proba(X_val)[:, 1] # predict_proba!!!\n",
    "            \n",
    "            # [6] Compute metric\n",
    "            metric_train = metric(y_train, pred_train)\n",
    "            metric_val = metric(y_val, pred_val)\n",
    "            \n",
    "            # Computational time\n",
    "            time = default_timer() - start_time\n",
    "            \n",
    "            # print error\n",
    "            print('AUC train = %s - AUC validation = %s. Time spend = %.2f.' \n",
    "                  % (metric_train, metric_val, time))         \n",
    "                       \n",
    "            # Save iteration results\n",
    "            grid_results.loc[num_iter]=[k,\n",
    "                                     metric_train,\n",
    "                                     metric_val,\n",
    "                                    time] \n",
    "            num_iter += 1\n",
    "\n",
    "print('Grid Search Total Computational Time: ', np.sum(grid_results.time.values)) "
   ]
  },
  {
   "cell_type": "code",
   "execution_count": 30,
   "metadata": {},
   "outputs": [
    {
     "data": {
      "text/html": [
       "<div>\n",
       "<style scoped>\n",
       "    .dataframe tbody tr th:only-of-type {\n",
       "        vertical-align: middle;\n",
       "    }\n",
       "\n",
       "    .dataframe tbody tr th {\n",
       "        vertical-align: top;\n",
       "    }\n",
       "\n",
       "    .dataframe thead th {\n",
       "        text-align: right;\n",
       "    }\n",
       "</style>\n",
       "<table border=\"1\" class=\"dataframe\">\n",
       "  <thead>\n",
       "    <tr style=\"text-align: right;\">\n",
       "      <th></th>\n",
       "      <th>k</th>\n",
       "      <th>auc_train</th>\n",
       "      <th>auc_val</th>\n",
       "      <th>time</th>\n",
       "    </tr>\n",
       "  </thead>\n",
       "  <tbody>\n",
       "    <tr>\n",
       "      <th>1</th>\n",
       "      <td>1.0</td>\n",
       "      <td>1.000000</td>\n",
       "      <td>0.877948</td>\n",
       "      <td>0.006120</td>\n",
       "    </tr>\n",
       "    <tr>\n",
       "      <th>2</th>\n",
       "      <td>2.0</td>\n",
       "      <td>0.996878</td>\n",
       "      <td>0.933962</td>\n",
       "      <td>0.006549</td>\n",
       "    </tr>\n",
       "    <tr>\n",
       "      <th>3</th>\n",
       "      <td>3.0</td>\n",
       "      <td>0.992973</td>\n",
       "      <td>0.951061</td>\n",
       "      <td>0.007285</td>\n",
       "    </tr>\n",
       "    <tr>\n",
       "      <th>4</th>\n",
       "      <td>4.0</td>\n",
       "      <td>0.992068</td>\n",
       "      <td>0.958726</td>\n",
       "      <td>0.006871</td>\n",
       "    </tr>\n",
       "    <tr>\n",
       "      <th>5</th>\n",
       "      <td>5.0</td>\n",
       "      <td>0.990892</td>\n",
       "      <td>0.954304</td>\n",
       "      <td>0.007265</td>\n",
       "    </tr>\n",
       "    <tr>\n",
       "      <th>6</th>\n",
       "      <td>6.0</td>\n",
       "      <td>0.988878</td>\n",
       "      <td>0.955778</td>\n",
       "      <td>0.005941</td>\n",
       "    </tr>\n",
       "    <tr>\n",
       "      <th>7</th>\n",
       "      <td>7.0</td>\n",
       "      <td>0.987054</td>\n",
       "      <td>0.955189</td>\n",
       "      <td>0.006682</td>\n",
       "    </tr>\n",
       "    <tr>\n",
       "      <th>8</th>\n",
       "      <td>8.0</td>\n",
       "      <td>0.986257</td>\n",
       "      <td>0.970814</td>\n",
       "      <td>0.006588</td>\n",
       "    </tr>\n",
       "    <tr>\n",
       "      <th>9</th>\n",
       "      <td>9.0</td>\n",
       "      <td>0.986135</td>\n",
       "      <td>0.971403</td>\n",
       "      <td>0.005309</td>\n",
       "    </tr>\n",
       "    <tr>\n",
       "      <th>10</th>\n",
       "      <td>10.0</td>\n",
       "      <td>0.985703</td>\n",
       "      <td>0.970224</td>\n",
       "      <td>0.005313</td>\n",
       "    </tr>\n",
       "  </tbody>\n",
       "</table>\n",
       "</div>"
      ],
      "text/plain": [
       "       k  auc_train   auc_val      time\n",
       "1    1.0   1.000000  0.877948  0.006120\n",
       "2    2.0   0.996878  0.933962  0.006549\n",
       "3    3.0   0.992973  0.951061  0.007285\n",
       "4    4.0   0.992068  0.958726  0.006871\n",
       "5    5.0   0.990892  0.954304  0.007265\n",
       "6    6.0   0.988878  0.955778  0.005941\n",
       "7    7.0   0.987054  0.955189  0.006682\n",
       "8    8.0   0.986257  0.970814  0.006588\n",
       "9    9.0   0.986135  0.971403  0.005309\n",
       "10  10.0   0.985703  0.970224  0.005313"
      ]
     },
     "execution_count": 30,
     "metadata": {},
     "output_type": "execute_result"
    }
   ],
   "source": [
    "grid_results"
   ]
  },
  {
   "cell_type": "code",
   "execution_count": 31,
   "metadata": {},
   "outputs": [
    {
     "data": {
      "text/html": [
       "<div>\n",
       "<style scoped>\n",
       "    .dataframe tbody tr th:only-of-type {\n",
       "        vertical-align: middle;\n",
       "    }\n",
       "\n",
       "    .dataframe tbody tr th {\n",
       "        vertical-align: top;\n",
       "    }\n",
       "\n",
       "    .dataframe thead th {\n",
       "        text-align: right;\n",
       "    }\n",
       "</style>\n",
       "<table border=\"1\" class=\"dataframe\">\n",
       "  <thead>\n",
       "    <tr style=\"text-align: right;\">\n",
       "      <th></th>\n",
       "      <th>k</th>\n",
       "      <th>auc_train</th>\n",
       "      <th>auc_val</th>\n",
       "      <th>time</th>\n",
       "    </tr>\n",
       "  </thead>\n",
       "  <tbody>\n",
       "    <tr>\n",
       "      <th>9</th>\n",
       "      <td>9.0</td>\n",
       "      <td>0.986135</td>\n",
       "      <td>0.971403</td>\n",
       "      <td>0.005309</td>\n",
       "    </tr>\n",
       "    <tr>\n",
       "      <th>8</th>\n",
       "      <td>8.0</td>\n",
       "      <td>0.986257</td>\n",
       "      <td>0.970814</td>\n",
       "      <td>0.006588</td>\n",
       "    </tr>\n",
       "    <tr>\n",
       "      <th>10</th>\n",
       "      <td>10.0</td>\n",
       "      <td>0.985703</td>\n",
       "      <td>0.970224</td>\n",
       "      <td>0.005313</td>\n",
       "    </tr>\n",
       "    <tr>\n",
       "      <th>4</th>\n",
       "      <td>4.0</td>\n",
       "      <td>0.992068</td>\n",
       "      <td>0.958726</td>\n",
       "      <td>0.006871</td>\n",
       "    </tr>\n",
       "    <tr>\n",
       "      <th>6</th>\n",
       "      <td>6.0</td>\n",
       "      <td>0.988878</td>\n",
       "      <td>0.955778</td>\n",
       "      <td>0.005941</td>\n",
       "    </tr>\n",
       "    <tr>\n",
       "      <th>7</th>\n",
       "      <td>7.0</td>\n",
       "      <td>0.987054</td>\n",
       "      <td>0.955189</td>\n",
       "      <td>0.006682</td>\n",
       "    </tr>\n",
       "    <tr>\n",
       "      <th>5</th>\n",
       "      <td>5.0</td>\n",
       "      <td>0.990892</td>\n",
       "      <td>0.954304</td>\n",
       "      <td>0.007265</td>\n",
       "    </tr>\n",
       "    <tr>\n",
       "      <th>3</th>\n",
       "      <td>3.0</td>\n",
       "      <td>0.992973</td>\n",
       "      <td>0.951061</td>\n",
       "      <td>0.007285</td>\n",
       "    </tr>\n",
       "    <tr>\n",
       "      <th>2</th>\n",
       "      <td>2.0</td>\n",
       "      <td>0.996878</td>\n",
       "      <td>0.933962</td>\n",
       "      <td>0.006549</td>\n",
       "    </tr>\n",
       "    <tr>\n",
       "      <th>1</th>\n",
       "      <td>1.0</td>\n",
       "      <td>1.000000</td>\n",
       "      <td>0.877948</td>\n",
       "      <td>0.006120</td>\n",
       "    </tr>\n",
       "  </tbody>\n",
       "</table>\n",
       "</div>"
      ],
      "text/plain": [
       "       k  auc_train   auc_val      time\n",
       "9    9.0   0.986135  0.971403  0.005309\n",
       "8    8.0   0.986257  0.970814  0.006588\n",
       "10  10.0   0.985703  0.970224  0.005313\n",
       "4    4.0   0.992068  0.958726  0.006871\n",
       "6    6.0   0.988878  0.955778  0.005941\n",
       "7    7.0   0.987054  0.955189  0.006682\n",
       "5    5.0   0.990892  0.954304  0.007265\n",
       "3    3.0   0.992973  0.951061  0.007285\n",
       "2    2.0   0.996878  0.933962  0.006549\n",
       "1    1.0   1.000000  0.877948  0.006120"
      ]
     },
     "execution_count": 31,
     "metadata": {},
     "output_type": "execute_result"
    }
   ],
   "source": [
    "grid_results = grid_results.sort_values(by = ['auc_val', 'auc_train', 'time'], ascending = [False, False, True])\n",
    "grid_results"
   ]
  },
  {
   "cell_type": "markdown",
   "metadata": {},
   "source": [
    "Best model is k = 9"
   ]
  },
  {
   "cell_type": "markdown",
   "metadata": {},
   "source": [
    "Let's plot ROC curve for the best model."
   ]
  },
  {
   "cell_type": "code",
   "execution_count": 32,
   "metadata": {},
   "outputs": [],
   "source": [
    "from sklearn.metrics import plot_roc_curve\n",
    "?plot_roc_curve"
   ]
  },
  {
   "cell_type": "code",
   "execution_count": 33,
   "metadata": {},
   "outputs": [
    {
     "data": {
      "text/plain": [
       "<sklearn.metrics._plot.roc_curve.RocCurveDisplay at 0x174e34bd520>"
      ]
     },
     "execution_count": 33,
     "metadata": {},
     "output_type": "execute_result"
    },
    {
     "data": {
      "image/png": "[encoded data removed]",
      "text/plain": [
       "<Figure size 432x288 with 1 Axes>"
      ]
     },
     "metadata": {
      "needs_background": "light"
     },
     "output_type": "display_data"
    },
    {
     "data": {
      "image/png": "[encoded data removed]",
      "text/plain": [
       "<Figure size 432x288 with 1 Axes>"
      ]
     },
     "metadata": {
      "needs_background": "light"
     },
     "output_type": "display_data"
    }
   ],
   "source": [
    "plot_roc_curve(model_constructor(n_neighbors = 9).fit(X_train, y_train), X_val, y_val)  \n",
    "plot_roc_curve(model_constructor(n_neighbors = 1).fit(X_train, y_train), X_val, y_val)  "
   ]
  },
  {
   "cell_type": "markdown",
   "metadata": {},
   "source": [
    "## Multiclassification"
   ]
  },
  {
   "cell_type": "markdown",
   "metadata": {},
   "source": [
    "What happens when we have more than two classes, so we are in a multiclassification problem and not a binary problem (2 classes)?\n",
    "\n",
    "Try to guess..."
   ]
  },
  {
   "cell_type": "markdown",
   "metadata": {},
   "source": [
    "Different approaches are possible, but normally the selected metric is computed for each two classes and the results averaged to get a final metric for the classification problem, i.e. the problem is decomposed in several binary problems and the errors of each one averaged."
   ]
  },
  {
   "cell_type": "markdown",
   "metadata": {},
   "source": [
    "## Exercise"
   ]
  },
  {
   "cell_type": "markdown",
   "metadata": {},
   "source": [
    "Combine all the grid results obtained for each of the metrics covered. Then decide a rule to select the best model that combines the results of different metrics. \n",
    "\n",
    "Select different combinations and check if the model selected as the best one also changes.\n",
    "\n",
    "What conclusions can you draw for this?"
   ]
  },
  {
   "cell_type": "code",
   "execution_count": 53,
   "metadata": {},
   "outputs": [
    {
     "ename": "ImportError",
     "evalue": "cannot import name 'precision_recall_curve_score' from 'sklearn.metrics' (C:\\Users\\jesus\\anaconda3\\lib\\site-packages\\sklearn\\metrics\\__init__.py)",
     "output_type": "error",
     "traceback": [
      "\u001b[1;31m---------------------------------------------------------------------------\u001b[0m",
      "\u001b[1;31mImportError\u001b[0m                               Traceback (most recent call last)",
      "\u001b[1;32m<ipython-input-53-04d472c407d1>\u001b[0m in \u001b[0;36m<module>\u001b[1;34m\u001b[0m\n\u001b[0;32m      1\u001b[0m \u001b[1;32mfrom\u001b[0m \u001b[0msklearn\u001b[0m\u001b[1;33m.\u001b[0m\u001b[0mmetrics\u001b[0m \u001b[1;32mimport\u001b[0m \u001b[0mplot_precision_recall_curve\u001b[0m\u001b[1;33m\u001b[0m\u001b[1;33m\u001b[0m\u001b[0m\n\u001b[1;32m----> 2\u001b[1;33m \u001b[1;32mfrom\u001b[0m \u001b[0msklearn\u001b[0m\u001b[1;33m.\u001b[0m\u001b[0mmetrics\u001b[0m \u001b[1;32mimport\u001b[0m \u001b[0mprecision_recall_curve_score\u001b[0m\u001b[1;33m\u001b[0m\u001b[1;33m\u001b[0m\u001b[0m\n\u001b[0m\u001b[0;32m      3\u001b[0m \u001b[1;32mfrom\u001b[0m \u001b[0msklearn\u001b[0m\u001b[1;33m.\u001b[0m\u001b[0mmetrics\u001b[0m \u001b[1;32mimport\u001b[0m \u001b[0mprecision_recall_curve\u001b[0m\u001b[1;33m\u001b[0m\u001b[1;33m\u001b[0m\u001b[0m\n\u001b[0;32m      4\u001b[0m \u001b[1;32mfrom\u001b[0m \u001b[0msklearn\u001b[0m\u001b[1;33m.\u001b[0m\u001b[0mmetrics\u001b[0m \u001b[1;32mimport\u001b[0m \u001b[0mauc\u001b[0m\u001b[1;33m\u001b[0m\u001b[1;33m\u001b[0m\u001b[0m\n",
      "\u001b[1;31mImportError\u001b[0m: cannot import name 'precision_recall_curve_score' from 'sklearn.metrics' (C:\\Users\\jesus\\anaconda3\\lib\\site-packages\\sklearn\\metrics\\__init__.py)"
     ]
    }
   ],
   "source": [
    "from sklearn.metrics import plot_precision_recall_curve\n",
    "from sklearn.metrics import precision_recall_curve_score\n",
    "from sklearn.metrics import precision_recall_curve\n",
    "from sklearn.metrics import auc"
   ]
  },
  {
   "cell_type": "code",
   "execution_count": 50,
   "metadata": {},
   "outputs": [
    {
     "data": {
      "text/plain": [
       "<sklearn.metrics._plot.precision_recall_curve.PrecisionRecallDisplay at 0x174e8fcfc10>"
      ]
     },
     "execution_count": 50,
     "metadata": {},
     "output_type": "execute_result"
    },
    {
     "data": {
      "image/png": "[encoded data removed]",
      "text/plain": [
       "<Figure size 432x288 with 1 Axes>"
      ]
     },
     "metadata": {
      "needs_background": "light"
     },
     "output_type": "display_data"
    },
    {
     "data": {
      "image/png": "[encoded data removed]",
      "text/plain": [
       "<Figure size 432x288 with 1 Axes>"
      ]
     },
     "metadata": {
      "needs_background": "light"
     },
     "output_type": "display_data"
    }
   ],
   "source": [
    "plot_precision_recall_curve(model_constructor(n_neighbors = 9).fit(X_train, y_train),\n",
    "                            X_val,\n",
    "                            y_val)\n",
    "plot_precision_recall_curve(model_constructor(n_neighbors = 1).fit(X_train, y_train), \n",
    "                            X_val, \n",
    "                            y_val)"
   ]
  },
  {
   "cell_type": "code",
   "execution_count": 51,
   "metadata": {},
   "outputs": [],
   "source": [
    "precision, recall, thresholds = precision_recall_curve(y_train, pred_train)"
   ]
  },
  {
   "cell_type": "code",
   "execution_count": 52,
   "metadata": {},
   "outputs": [
    {
     "data": {
      "text/plain": [
       "0.9915337773638411"
      ]
     },
     "execution_count": 52,
     "metadata": {},
     "output_type": "execute_result"
    }
   ],
   "source": [
    "auc_value = auc(recall, precision)\n",
    "auc_value"
   ]
  },
  {
   "cell_type": "code",
   "execution_count": null,
   "metadata": {},
   "outputs": [],
   "source": []
  }
 ],
 "metadata": {
  "kernelspec": {
   "display_name": "Python 3",
   "language": "python",
   "name": "python3"
  },
  "language_info": {
   "codemirror_mode": {
    "name": "ipython",
    "version": 3
   },
   "file_extension": ".py",
   "mimetype": "text/x-python",
   "name": "python",
   "nbconvert_exporter": "python",
   "pygments_lexer": "ipython3",
   "version": "3.8.5"
  }
 },
 "nbformat": 4,
 "nbformat_minor": 4
}
