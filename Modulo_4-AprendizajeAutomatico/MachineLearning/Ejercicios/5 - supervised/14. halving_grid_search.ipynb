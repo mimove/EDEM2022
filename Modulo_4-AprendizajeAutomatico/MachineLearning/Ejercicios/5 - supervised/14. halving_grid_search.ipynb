{
 "cells": [
  {
   "cell_type": "code",
   "execution_count": 1,
   "metadata": {},
   "outputs": [],
   "source": [
    "# Load libraries\n",
    "import pandas as pd;\n",
    "import numpy as np;\n",
    "from sklearn.model_selection import train_test_split\n",
    "from sklearn.neighbors import KNeighborsClassifier\n",
    "from sklearn.metrics import accuracy_score as metric\n",
    "from sklearn.model_selection import validation_curve\n",
    "from sklearn.metrics import make_scorer\n"
   ]
  },
  {
   "cell_type": "markdown",
   "metadata": {},
   "source": [
    "# Halving Grid Search"
   ]
  },
  {
   "cell_type": "markdown",
   "metadata": {},
   "source": [
    "## Load Data"
   ]
  },
  {
   "cell_type": "markdown",
   "metadata": {},
   "source": [
    "Iris again."
   ]
  },
  {
   "cell_type": "code",
   "execution_count": 2,
   "metadata": {},
   "outputs": [],
   "source": [
    "from sklearn.datasets import load_iris;\n",
    "iris = load_iris();\n",
    "dat = iris.data;\n",
    "target = iris.target;"
   ]
  },
  {
   "cell_type": "code",
   "execution_count": 3,
   "metadata": {},
   "outputs": [],
   "source": [
    "perc_values = [0.85, 0.15];\n",
    "X_train, X_test, y_train, y_test = train_test_split(dat, target, test_size = perc_values[1], random_state=1);"
   ]
  },
  {
   "cell_type": "markdown",
   "metadata": {},
   "source": [
    "## Exhaustive Grid Search"
   ]
  },
  {
   "cell_type": "markdown",
   "metadata": {},
   "source": [
    "We have already covered how to do an exhaustive grid search. Let's do it using cross-validation for SVM models."
   ]
  },
  {
   "cell_type": "code",
   "execution_count": 4,
   "metadata": {},
   "outputs": [],
   "source": [
    "from sklearn.svm import SVC as model_constructor"
   ]
  },
  {
   "cell_type": "code",
   "execution_count": 5,
   "metadata": {},
   "outputs": [],
   "source": [
    "from sklearn.model_selection import GridSearchCV"
   ]
  },
  {
   "cell_type": "code",
   "execution_count": 7,
   "metadata": {},
   "outputs": [],
   "source": [
    "# SVM\n",
    "C_values = [1e-03, 1, 1e03];\n",
    "gamma_values = [1e-03, 1, 1e03];\n",
    "\n",
    "params_grid = {'C': C_values,\n",
    "               'gamma': gamma_values} "
   ]
  },
  {
   "cell_type": "code",
   "execution_count": 8,
   "metadata": {},
   "outputs": [
    {
     "data": {
      "text/plain": [
       "GridSearchCV(cv=5, estimator=SVC(), n_jobs=2,\n",
       "             param_grid={'C': [0.001, 1, 1000.0], 'gamma': [0.001, 1, 1000.0]})"
      ]
     },
     "execution_count": 8,
     "metadata": {},
     "output_type": "execute_result"
    }
   ],
   "source": [
    "# Define grid\n",
    "grid_cv = GridSearchCV(model_constructor(),\n",
    "                     param_grid=params_grid,\n",
    "                     n_jobs=2, ## Paralellization!\n",
    "                     cv = 5) # Number of folds\n",
    "grid_cv.fit(X_train, y_train)"
   ]
  },
  {
   "cell_type": "code",
   "execution_count": 12,
   "metadata": {},
   "outputs": [
    {
     "data": {
      "text/plain": [
       "{'mean_fit_time': array([2.31504440e-03, 6.00767136e-04, 9.95874405e-04, 6.01339340e-04,\n",
       "        3.98921967e-04, 1.00603104e-03, 2.17914581e-05, 6.00051880e-04,\n",
       "        1.20005608e-03]),\n",
       " 'std_fit_time': array([1.77599961e-03, 4.90551158e-04, 5.06211549e-06, 4.90998006e-04,\n",
       "        4.88584357e-04, 1.10113254e-05, 4.35829163e-05, 4.89940316e-04,\n",
       "        4.00018706e-04]),\n",
       " 'mean_score_time': array([0.00020127, 0.00040193, 0.00039997, 0.00039997, 0.00020137,\n",
       "        0.00062089, 0.00020523, 0.00039997, 0.        ]),\n",
       " 'std_score_time': array([0.00040255, 0.00049227, 0.00048986, 0.00048986, 0.00040274,\n",
       "        0.00050834, 0.00041046, 0.00048986, 0.        ]),\n",
       " 'param_C': masked_array(data=[0.001, 0.001, 0.001, 1, 1, 1, 1000.0, 1000.0, 1000.0],\n",
       "              mask=[False, False, False, False, False, False, False, False,\n",
       "                    False],\n",
       "        fill_value='?',\n",
       "             dtype=object),\n",
       " 'param_gamma': masked_array(data=[0.001, 1, 1000.0, 0.001, 1, 1000.0, 0.001, 1, 1000.0],\n",
       "              mask=[False, False, False, False, False, False, False, False,\n",
       "                    False],\n",
       "        fill_value='?',\n",
       "             dtype=object),\n",
       " 'params': [{'C': 0.001, 'gamma': 0.001},\n",
       "  {'C': 0.001, 'gamma': 1},\n",
       "  {'C': 0.001, 'gamma': 1000.0},\n",
       "  {'C': 1, 'gamma': 0.001},\n",
       "  {'C': 1, 'gamma': 1},\n",
       "  {'C': 1, 'gamma': 1000.0},\n",
       "  {'C': 1000.0, 'gamma': 0.001},\n",
       "  {'C': 1000.0, 'gamma': 1},\n",
       "  {'C': 1000.0, 'gamma': 1000.0}],\n",
       " 'split0_test_score': array([0.34615385, 0.34615385, 0.34615385, 0.69230769, 0.96153846,\n",
       "        0.34615385, 1.        , 0.96153846, 0.34615385]),\n",
       " 'split1_test_score': array([0.34615385, 0.34615385, 0.34615385, 0.69230769, 1.        ,\n",
       "        0.34615385, 1.        , 1.        , 0.34615385]),\n",
       " 'split2_test_score': array([0.4 , 0.4 , 0.4 , 0.72, 0.96, 0.4 , 0.96, 0.96, 0.4 ]),\n",
       " 'split3_test_score': array([0.36, 0.36, 0.36, 0.68, 0.96, 0.36, 0.96, 0.92, 0.36]),\n",
       " 'split4_test_score': array([0.36, 0.36, 0.36, 0.68, 0.92, 0.36, 0.96, 0.88, 0.36]),\n",
       " 'mean_test_score': array([0.36246154, 0.36246154, 0.36246154, 0.69292308, 0.96030769,\n",
       "        0.36246154, 0.976     , 0.94430769, 0.36246154]),\n",
       " 'std_test_score': array([0.01976429, 0.01976429, 0.01976429, 0.01461457, 0.0253057 ,\n",
       "        0.01976429, 0.01959592, 0.04091729, 0.01976429]),\n",
       " 'rank_test_score': array([5, 5, 5, 4, 2, 5, 1, 3, 5])}"
      ]
     },
     "execution_count": 12,
     "metadata": {},
     "output_type": "execute_result"
    }
   ],
   "source": [
    "grid_cv.cv_results_"
   ]
  },
  {
   "cell_type": "code",
   "execution_count": 9,
   "metadata": {},
   "outputs": [
    {
     "name": "stdout",
     "output_type": "stream",
     "text": [
      "Values validated for C hyperparameter: [0.001 0.001 0.001 1 1 1 1000.0 1000.0 1000.0]\n",
      "Values validated for gamma hyperparameter: [0.001 1 1000.0 0.001 1 1000.0 0.001 1 1000.0]\n",
      "Validation accuracy: [0.36246154 0.36246154 0.36246154 0.69292308 0.96030769 0.36246154\n",
      " 0.976      0.94430769 0.36246154]\n",
      "Best score 0.976\n",
      "Best params: {'C': 1000.0, 'gamma': 0.001}\n"
     ]
    }
   ],
   "source": [
    "print('Values validated for C hyperparameter: ' + str(grid_cv.cv_results_['param_C']))\n",
    "print('Values validated for gamma hyperparameter: ' + str(grid_cv.cv_results_['param_gamma']))\n",
    "print('Validation accuracy: ' + str(grid_cv.cv_results_['mean_test_score']))\n",
    "print('Best score ' + str(grid_cv.best_score_))\n",
    "print('Best params: ' + str(grid_cv.best_params_))"
   ]
  },
  {
   "cell_type": "markdown",
   "metadata": {},
   "source": [
    "## Halving Grid Search"
   ]
  },
  {
   "attachments": {
    "imagen-2.png": {
     "image/png": "[encoded data removed]"
    }
   },
   "cell_type": "markdown",
   "metadata": {},
   "source": [
    "Scikit-learn also provides the *HalvingGridSearchCV* and *HalvingRandomSearchCV* estimators that can be used to search a parameter space using **successive halving**. Successive halving, SH, is like a tournament among candidate parameter combinations. SH is an iterative selection process where all hyperparameter combinations are evaluated with a small amount of resources at the first iteration. For parameter tuning, the resource is typically the number of training samples. Only some of these candidates, the ones with better performance over cross-validation, are selected for the next iteration, which will be allocated more resources (more data). \n",
    "\n",
    "As illustrated in the figure below, only a subset of candidates ‘survive’ until the last iteration. These are the candidates that have consistently ranked among the top-scoring candidates across all iterations. Each iteration is allocated an increasing amount of resources per candidate, normally the number of samples.\n",
    "\n",
    "![imagen-2.png](attachment:imagen-2.png)\n"
   ]
  },
  {
   "cell_type": "markdown",
   "metadata": {},
   "source": [
    "The *factor* parameter controls the rate at which the resources grow as well the rate at which the number of candidates decreases. In each iteration, the number of resources per candidate is multiplied by *factor* and the number of candidates is divided by the same *factor*. Along with resource and min_resources, factor is the most important parameter to control the grid search. By default, a factor value of 3 will be used."
   ]
  },
  {
   "cell_type": "markdown",
   "metadata": {},
   "source": [
    "Implementing the Random Grid Search method using scikit-learn is very easy, as it is available from the *RandomizedSearchCV* function."
   ]
  },
  {
   "cell_type": "code",
   "execution_count": 10,
   "metadata": {},
   "outputs": [],
   "source": [
    "from sklearn.experimental import enable_halving_search_cv\n",
    "from sklearn.model_selection import HalvingGridSearchCV\n",
    "?HalvingGridSearchCV"
   ]
  },
  {
   "cell_type": "markdown",
   "metadata": {},
   "source": [
    "The parametro *n_iter* tells the function how many values, randomly selected within the defined limits, we want to try."
   ]
  },
  {
   "cell_type": "code",
   "execution_count": 11,
   "metadata": {},
   "outputs": [
    {
     "data": {
      "text/plain": [
       "HalvingGridSearchCV(estimator=SVC(), factor=2, n_jobs=2,\n",
       "                    param_grid={'C': [0.001, 1, 1000.0],\n",
       "                                'gamma': [0.001, 1, 1000.0]},\n",
       "                    random_state=0,\n",
       "                    refit=<function _refit_callable at 0x00000262CABC2DC0>)"
      ]
     },
     "execution_count": 11,
     "metadata": {},
     "output_type": "execute_result"
    }
   ],
   "source": [
    "grid_results_cv = HalvingGridSearchCV(model_constructor(), \n",
    "                                     params_grid,\n",
    "                                     factor = 2,\n",
    "                                     resource = 'n_samples',\n",
    "                                     min_resources  = 'exhaust',\n",
    "                                     cv = 5,                                      \n",
    "                                     n_jobs = 2, \n",
    "                                     random_state = 0)\n",
    "grid_results_cv.fit(X_train, y_train)\n"
   ]
  },
  {
   "cell_type": "code",
   "execution_count": 12,
   "metadata": {},
   "outputs": [
    {
     "name": "stdout",
     "output_type": "stream",
     "text": [
      "Values validated for C hyperparameter: [0.001 0.001 0.001 1 1 1 1000.0 1000.0 1000.0 1 1000.0 1000.0 1000.0 1\n",
      " 1000.0 1000.0 1]\n",
      "Values validated for gamma hyperparameter: [0.001 1 1000.0 0.001 1 1000.0 0.001 1 1000.0 1000.0 1000.0 0.001 1 1 1\n",
      " 0.001 1]\n",
      "Validation accuracy: [0.43333333 0.43333333 0.43333333 0.43333333 0.92       0.43333333\n",
      " 0.88       0.88       0.43333333 0.31363636 0.31363636 0.96363636\n",
      " 0.94545455 0.98181818 0.9307971  0.97391304 0.95688406]\n",
      "Best score 0.9739130434782608\n",
      "Best params: {'C': 1000.0, 'gamma': 0.001}\n"
     ]
    }
   ],
   "source": [
    "print('Values validated for C hyperparameter: ' + str(grid_results_cv.cv_results_['param_C']))\n",
    "print('Values validated for gamma hyperparameter: ' + str(grid_results_cv.cv_results_['param_gamma']))\n",
    "print('Validation accuracy: ' + str(grid_results_cv.cv_results_['mean_test_score']))\n",
    "print('Best score ' + str(grid_results_cv.best_score_))\n",
    "print('Best params: ' + str(grid_results_cv.best_params_))"
   ]
  },
  {
   "cell_type": "code",
   "execution_count": 13,
   "metadata": {},
   "outputs": [
    {
     "name": "stdout",
     "output_type": "stream",
     "text": [
      "Values validated for C hyperparameter: [0.001 0.001 0.001 1 1 1 1000.0 1000.0 1000.0]\n",
      "Values validated for gamma hyperparameter: [0.001 1 1000.0 0.001 1 1000.0 0.001 1 1000.0]\n",
      "Validation accuracy: [0.43333333 0.43333333 0.43333333 0.43333333 0.92       0.43333333\n",
      " 0.88       0.88       0.43333333]\n"
     ]
    }
   ],
   "source": [
    "# Initial iteration\n",
    "print('Values validated for C hyperparameter: ' + str(grid_results_cv.cv_results_['param_C'][0:9]))\n",
    "print('Values validated for gamma hyperparameter: ' + str(grid_results_cv.cv_results_['param_gamma'][0:9]))\n",
    "print('Validation accuracy: ' + str(grid_results_cv.cv_results_['mean_test_score'][0:9]))"
   ]
  },
  {
   "cell_type": "code",
   "execution_count": 32,
   "metadata": {},
   "outputs": [
    {
     "name": "stdout",
     "output_type": "stream",
     "text": [
      "Values validated for C hyperparameter: [1 1000.0 1000.0 1000.0 1]\n",
      "Values validated for gamma hyperparameter: [1 1 0.001 1000.0 1000.0]\n",
      "Validation accuracy: [0.98181818 0.94545455 0.96363636 0.31363636 0.31363636]\n"
     ]
    }
   ],
   "source": [
    "# Second iteration\n",
    "print('Values validated for C hyperparameter: ' + str(grid_results_cv.cv_results_['param_C'][9:14][::-1]))\n",
    "print('Values validated for gamma hyperparameter: ' + str(grid_results_cv.cv_results_['param_gamma'][9:14][::-1]))\n",
    "print('Validation accuracy: ' + str(grid_results_cv.cv_results_['mean_test_score'][9:14][::-1]))"
   ]
  },
  {
   "cell_type": "code",
   "execution_count": 34,
   "metadata": {},
   "outputs": [
    {
     "name": "stdout",
     "output_type": "stream",
     "text": [
      "Values validated for C hyperparameter: [1 1000.0 1000.0]\n",
      "Values validated for gamma hyperparameter: [1 0.001 1]\n",
      "Validation accuracy: [0.95688406 0.97391304 0.9307971 ]\n"
     ]
    }
   ],
   "source": [
    "# Third iteration\n",
    "print('Values validated for C hyperparameter: ' + str(grid_results_cv.cv_results_['param_C'][14:17][::-1]))\n",
    "print('Values validated for gamma hyperparameter: ' + str(grid_results_cv.cv_results_['param_gamma'][14:17][::-1]))\n",
    "print('Validation accuracy: ' + str(grid_results_cv.cv_results_['mean_test_score'][14:17][::-1]))"
   ]
  }
 ],
 "metadata": {
  "kernelspec": {
   "display_name": "Python 3",
   "language": "python",
   "name": "python3"
  },
  "language_info": {
   "codemirror_mode": {
    "name": "ipython",
    "version": 3
   },
   "file_extension": ".py",
   "mimetype": "text/x-python",
   "name": "python",
   "nbconvert_exporter": "python",
   "pygments_lexer": "ipython3",
   "version": "3.8.5"
  }
 },
 "nbformat": 4,
 "nbformat_minor": 2
}
