{
 "cells": [
  {
   "cell_type": "markdown",
   "metadata": {},
   "source": [
    "# Sistema de Recomendación"
   ]
  },
  {
   "cell_type": "markdown",
   "metadata": {},
   "source": [
    "- Un sistema de recomendación es un algoritmo que nos permite dar predicciones de cuál es el producto o ítem más adecuado para un usuario.\n",
    "\n",
    "- Los sistemas de recomendación pueden ser de varias clases según el algoritmo utilizado: basados en contenido, filtrado colaborativo, etc.\n",
    "\n",
    "- Los sistemas de recomendación basados en algoritmos de filtrado colaborativo utilizan las valoraciones o interacciones de los usuarios sobre ciertos elementos del conjunto total para predecir interés en el resto de los elementos y recomendar los de mayor valoración predicha.\n",
    "\n",
    "\n"
   ]
  },
  {
   "cell_type": "markdown",
   "metadata": {},
   "source": [
    "# Sistema de Recomendación item - item"
   ]
  },
  {
   "cell_type": "markdown",
   "metadata": {},
   "source": [
    "- Si a un usuario le ha interesado en el pasado un determinado producto, es probable que en el futuro le interesen productos similares.\n",
    "\n",
    "- Para predecir el interés de un usuario sobre un producto (ítem) usamos su opinión o interacciones sobre productos similares. Cuánto más similar sea el ítem, más tendremos el historial de puntuaciones o interacciones.\n",
    "\n",
    "- En este caso se calculan las similitudes entre ítems o productos en función de las opiniones o interacciones de los usuarios.\n",
    "\n",
    "**Recomendaciones basadas en la actividad relacionada con productos similares a los que yo he comprado**\n",
    "\n",
    "\n",
    "<img src=\"figures/recommender_1.png\" width=\"50%\">"
   ]
  },
  {
   "cell_type": "markdown",
   "metadata": {},
   "source": [
    "## Algoritmo Filtrado colaborativo\n",
    "**Paso 1:**\n",
    "Se calcula una matriz de puntuaciones o interacción usuario-ítem (LMxN).\n",
    "\n",
    "**Paso 2:**\n",
    "Se calcula una matriz de similitudes entre los ítems o rutas (SNxN) usando alguna distancia, por ejemplo, distancia del coseno.\n",
    "\n",
    "**Paso 3:**\n",
    "Multiplicar matriz de interacciones por matriz de similitudes para obtener el ítem que tiene más probabilidad de interesarle a cada usuario.\n",
    "\n",
    "**Paso 4:**\n",
    "Generar las recomendaciones (lista con n primeros elementos) mediante la ordenación de las puntuaciones para cada usuario.\n"
   ]
  },
  {
   "cell_type": "code",
   "execution_count": 1,
   "metadata": {
    "collapsed": true
   },
   "outputs": [],
   "source": [
    "# load libraries\n",
    "import pandas as pd \n",
    "import numpy as np\n",
    "from sklearn.metrics.pairwise import cosine_similarity as cos\n",
    "from sklearn.metrics import jaccard_score as jacc\n",
    "from scipy.stats import pearsonr as pearson"
   ]
  },
  {
   "cell_type": "code",
   "execution_count": 2,
   "metadata": {
    "collapsed": true
   },
   "outputs": [],
   "source": [
    "# global variables\n",
    "weight = [1,1,1]\n",
    "# weight = [1,5.5,0.25]"
   ]
  },
  {
   "cell_type": "markdown",
   "metadata": {},
   "source": [
    "## Paso 1: Se calcula una matriz de puntuaciones o interacción usuario-ítem (L7x5)"
   ]
  },
  {
   "cell_type": "markdown",
   "metadata": {},
   "source": [
    "### Creación de datos de clientes\n",
    "\n",
    "Para este problemas de tenemos tres tipos de datos de interacciones de los clientes con la compañia:\n",
    "\n",
    "- Datos de compras.\n",
    "- Datos de navegación web.\n",
    "- Datos de clics en campañas."
   ]
  },
  {
   "cell_type": "markdown",
   "metadata": {},
   "source": [
    "### Datos de compras\n",
    "\n",
    "**Usuario 1:**\n",
    "Ha comprado a TFN y VAL.\n",
    "\n",
    "**Usuario 3:**\n",
    "Ha comprado a SCQ.\n",
    "\n",
    "**Usuario 5:**\n",
    "Ha comprado a VAL, VGO, SCQ (2veces).\n",
    "\n",
    "**Usuario 7:**\n",
    "Ha comprado TFN.\n"
   ]
  },
  {
   "cell_type": "code",
   "execution_count": 3,
   "metadata": {},
   "outputs": [
    {
     "data": {
      "text/html": [
       "<div>\n",
       "<style>\n",
       "    .dataframe thead tr:only-child th {\n",
       "        text-align: right;\n",
       "    }\n",
       "\n",
       "    .dataframe thead th {\n",
       "        text-align: left;\n",
       "    }\n",
       "\n",
       "    .dataframe tbody tr th {\n",
       "        vertical-align: top;\n",
       "    }\n",
       "</style>\n",
       "<table border=\"1\" class=\"dataframe\">\n",
       "  <thead>\n",
       "    <tr style=\"text-align: right;\">\n",
       "      <th></th>\n",
       "      <th>SCQ</th>\n",
       "      <th>SVQ</th>\n",
       "      <th>TFN</th>\n",
       "      <th>VAL</th>\n",
       "      <th>VGO</th>\n",
       "    </tr>\n",
       "  </thead>\n",
       "  <tbody>\n",
       "    <tr>\n",
       "      <th>user1</th>\n",
       "      <td>0</td>\n",
       "      <td>0</td>\n",
       "      <td>1</td>\n",
       "      <td>1</td>\n",
       "      <td>0</td>\n",
       "    </tr>\n",
       "    <tr>\n",
       "      <th>user2</th>\n",
       "      <td>0</td>\n",
       "      <td>0</td>\n",
       "      <td>0</td>\n",
       "      <td>0</td>\n",
       "      <td>0</td>\n",
       "    </tr>\n",
       "    <tr>\n",
       "      <th>user3</th>\n",
       "      <td>1</td>\n",
       "      <td>0</td>\n",
       "      <td>0</td>\n",
       "      <td>0</td>\n",
       "      <td>0</td>\n",
       "    </tr>\n",
       "    <tr>\n",
       "      <th>user4</th>\n",
       "      <td>0</td>\n",
       "      <td>0</td>\n",
       "      <td>0</td>\n",
       "      <td>0</td>\n",
       "      <td>0</td>\n",
       "    </tr>\n",
       "    <tr>\n",
       "      <th>user5</th>\n",
       "      <td>2</td>\n",
       "      <td>0</td>\n",
       "      <td>0</td>\n",
       "      <td>1</td>\n",
       "      <td>1</td>\n",
       "    </tr>\n",
       "    <tr>\n",
       "      <th>user6</th>\n",
       "      <td>0</td>\n",
       "      <td>0</td>\n",
       "      <td>0</td>\n",
       "      <td>0</td>\n",
       "      <td>0</td>\n",
       "    </tr>\n",
       "    <tr>\n",
       "      <th>user7</th>\n",
       "      <td>0</td>\n",
       "      <td>0</td>\n",
       "      <td>1</td>\n",
       "      <td>0</td>\n",
       "      <td>0</td>\n",
       "    </tr>\n",
       "  </tbody>\n",
       "</table>\n",
       "</div>"
      ],
      "text/plain": [
       "       SCQ  SVQ  TFN  VAL  VGO\n",
       "user1    0    0    1    1    0\n",
       "user2    0    0    0    0    0\n",
       "user3    1    0    0    0    0\n",
       "user4    0    0    0    0    0\n",
       "user5    2    0    0    1    1\n",
       "user6    0    0    0    0    0\n",
       "user7    0    0    1    0    0"
      ]
     },
     "execution_count": 3,
     "metadata": {},
     "output_type": "execute_result"
    }
   ],
   "source": [
    "# create purchases data\n",
    "compras = {'SCQ': [0, 0, 1, 0, 2, 0, 0], \n",
    "           'SVQ': [0, 0, 0, 0, 0, 0, 0],\n",
    "           'TFN': [1, 0, 0, 0, 0, 0, 1],\n",
    "           'VAL': [1, 0, 0, 0, 1, 0, 0],\n",
    "           'VGO': [0, 0, 0, 0, 1, 0, 0],\n",
    "          }\n",
    "compras = pd.DataFrame(data=compras, index=['user1', 'user2', 'user3', 'user4', 'user5', 'user6', 'user7'])\n",
    "compras\n"
   ]
  },
  {
   "cell_type": "markdown",
   "metadata": {},
   "source": [
    "### Datos búsquedas\n",
    "\n",
    "**Usuario 2:**\n",
    "Ha buscado en la web VAL.\n",
    "\n",
    "**Usuario 3:**\n",
    "Ha buscado SCQ y VGO (2 veces).\n",
    "\n",
    "**Usuario 5:**\n",
    "Ha buscado SCQ (3 veces).\n",
    "\n",
    "**Usuario 6:**\n",
    "Ha buscado VAL (3 veces) y SVQ.\n",
    "\n",
    "**Usuario 7:**\n",
    "Ha buscado TFN."
   ]
  },
  {
   "cell_type": "code",
   "execution_count": 4,
   "metadata": {},
   "outputs": [
    {
     "data": {
      "text/html": [
       "<div>\n",
       "<style>\n",
       "    .dataframe thead tr:only-child th {\n",
       "        text-align: right;\n",
       "    }\n",
       "\n",
       "    .dataframe thead th {\n",
       "        text-align: left;\n",
       "    }\n",
       "\n",
       "    .dataframe tbody tr th {\n",
       "        vertical-align: top;\n",
       "    }\n",
       "</style>\n",
       "<table border=\"1\" class=\"dataframe\">\n",
       "  <thead>\n",
       "    <tr style=\"text-align: right;\">\n",
       "      <th></th>\n",
       "      <th>SCQ</th>\n",
       "      <th>SVQ</th>\n",
       "      <th>TFN</th>\n",
       "      <th>VAL</th>\n",
       "      <th>VGO</th>\n",
       "    </tr>\n",
       "  </thead>\n",
       "  <tbody>\n",
       "    <tr>\n",
       "      <th>user1</th>\n",
       "      <td>0</td>\n",
       "      <td>0</td>\n",
       "      <td>0</td>\n",
       "      <td>0</td>\n",
       "      <td>0</td>\n",
       "    </tr>\n",
       "    <tr>\n",
       "      <th>user2</th>\n",
       "      <td>0</td>\n",
       "      <td>0</td>\n",
       "      <td>0</td>\n",
       "      <td>1</td>\n",
       "      <td>0</td>\n",
       "    </tr>\n",
       "    <tr>\n",
       "      <th>user3</th>\n",
       "      <td>1</td>\n",
       "      <td>0</td>\n",
       "      <td>0</td>\n",
       "      <td>0</td>\n",
       "      <td>2</td>\n",
       "    </tr>\n",
       "    <tr>\n",
       "      <th>user4</th>\n",
       "      <td>0</td>\n",
       "      <td>0</td>\n",
       "      <td>0</td>\n",
       "      <td>0</td>\n",
       "      <td>0</td>\n",
       "    </tr>\n",
       "    <tr>\n",
       "      <th>user5</th>\n",
       "      <td>3</td>\n",
       "      <td>0</td>\n",
       "      <td>0</td>\n",
       "      <td>0</td>\n",
       "      <td>0</td>\n",
       "    </tr>\n",
       "    <tr>\n",
       "      <th>user6</th>\n",
       "      <td>0</td>\n",
       "      <td>1</td>\n",
       "      <td>0</td>\n",
       "      <td>3</td>\n",
       "      <td>0</td>\n",
       "    </tr>\n",
       "    <tr>\n",
       "      <th>user7</th>\n",
       "      <td>0</td>\n",
       "      <td>0</td>\n",
       "      <td>1</td>\n",
       "      <td>0</td>\n",
       "      <td>0</td>\n",
       "    </tr>\n",
       "  </tbody>\n",
       "</table>\n",
       "</div>"
      ],
      "text/plain": [
       "       SCQ  SVQ  TFN  VAL  VGO\n",
       "user1    0    0    0    0    0\n",
       "user2    0    0    0    1    0\n",
       "user3    1    0    0    0    2\n",
       "user4    0    0    0    0    0\n",
       "user5    3    0    0    0    0\n",
       "user6    0    1    0    3    0\n",
       "user7    0    0    1    0    0"
      ]
     },
     "execution_count": 4,
     "metadata": {},
     "output_type": "execute_result"
    }
   ],
   "source": [
    "# create searches data\n",
    "busquedas = {'SCQ': [0, 0, 1, 0, 3, 0, 0], \n",
    "             'SVQ': [0, 0, 0, 0, 0, 1, 0],\n",
    "             'TFN': [0, 0, 0, 0, 0, 0, 1],\n",
    "             'VAL': [0, 1, 0, 0, 0, 3, 0],\n",
    "             'VGO': [0, 0, 2, 0, 0, 0, 0],\n",
    "            }\n",
    "busquedas = pd.DataFrame(data=busquedas, index=['user1', 'user2', 'user3', 'user4', 'user5', 'user6', 'user7'])\n",
    "busquedas\n"
   ]
  },
  {
   "cell_type": "markdown",
   "metadata": {},
   "source": [
    "### Datos clics\n",
    "\n",
    "**Usuario 3:**\n",
    "Ha clicado en la campaña de SCQ.\n",
    "\n",
    "**Usuario 4:**\n",
    "Ha clicado en la campaña de TFN, SVQ y VAL.\n",
    "\n",
    "**Usuario 6:**\n",
    "Ha clicado en la campaña de VAL y TFN.\n",
    "\n",
    "**Usuario 7:**\n",
    "Ha clicado TFN (2 veces) y VAL.\n"
   ]
  },
  {
   "cell_type": "code",
   "execution_count": 5,
   "metadata": {},
   "outputs": [
    {
     "data": {
      "text/html": [
       "<div>\n",
       "<style>\n",
       "    .dataframe thead tr:only-child th {\n",
       "        text-align: right;\n",
       "    }\n",
       "\n",
       "    .dataframe thead th {\n",
       "        text-align: left;\n",
       "    }\n",
       "\n",
       "    .dataframe tbody tr th {\n",
       "        vertical-align: top;\n",
       "    }\n",
       "</style>\n",
       "<table border=\"1\" class=\"dataframe\">\n",
       "  <thead>\n",
       "    <tr style=\"text-align: right;\">\n",
       "      <th></th>\n",
       "      <th>SCQ</th>\n",
       "      <th>SVQ</th>\n",
       "      <th>TFN</th>\n",
       "      <th>VAL</th>\n",
       "      <th>VGO</th>\n",
       "    </tr>\n",
       "  </thead>\n",
       "  <tbody>\n",
       "    <tr>\n",
       "      <th>user1</th>\n",
       "      <td>0</td>\n",
       "      <td>0</td>\n",
       "      <td>0</td>\n",
       "      <td>0</td>\n",
       "      <td>0</td>\n",
       "    </tr>\n",
       "    <tr>\n",
       "      <th>user2</th>\n",
       "      <td>0</td>\n",
       "      <td>0</td>\n",
       "      <td>0</td>\n",
       "      <td>0</td>\n",
       "      <td>0</td>\n",
       "    </tr>\n",
       "    <tr>\n",
       "      <th>user3</th>\n",
       "      <td>1</td>\n",
       "      <td>0</td>\n",
       "      <td>0</td>\n",
       "      <td>0</td>\n",
       "      <td>0</td>\n",
       "    </tr>\n",
       "    <tr>\n",
       "      <th>user4</th>\n",
       "      <td>0</td>\n",
       "      <td>1</td>\n",
       "      <td>1</td>\n",
       "      <td>1</td>\n",
       "      <td>0</td>\n",
       "    </tr>\n",
       "    <tr>\n",
       "      <th>user5</th>\n",
       "      <td>0</td>\n",
       "      <td>0</td>\n",
       "      <td>0</td>\n",
       "      <td>0</td>\n",
       "      <td>0</td>\n",
       "    </tr>\n",
       "    <tr>\n",
       "      <th>user6</th>\n",
       "      <td>0</td>\n",
       "      <td>0</td>\n",
       "      <td>1</td>\n",
       "      <td>1</td>\n",
       "      <td>0</td>\n",
       "    </tr>\n",
       "    <tr>\n",
       "      <th>user7</th>\n",
       "      <td>0</td>\n",
       "      <td>0</td>\n",
       "      <td>2</td>\n",
       "      <td>1</td>\n",
       "      <td>0</td>\n",
       "    </tr>\n",
       "  </tbody>\n",
       "</table>\n",
       "</div>"
      ],
      "text/plain": [
       "       SCQ  SVQ  TFN  VAL  VGO\n",
       "user1    0    0    0    0    0\n",
       "user2    0    0    0    0    0\n",
       "user3    1    0    0    0    0\n",
       "user4    0    1    1    1    0\n",
       "user5    0    0    0    0    0\n",
       "user6    0    0    1    1    0\n",
       "user7    0    0    2    1    0"
      ]
     },
     "execution_count": 5,
     "metadata": {},
     "output_type": "execute_result"
    }
   ],
   "source": [
    "# create clicks data\n",
    "clicks = {'SCQ': [0, 0, 1, 0, 0, 0, 0], \n",
    "          'SVQ': [0, 0, 0, 1, 0, 0, 0],\n",
    "          'TFN': [0, 0, 0, 1, 0, 1, 2],\n",
    "          'VAL': [0, 0, 0, 1, 0, 1, 1],\n",
    "          'VGO': [0, 0, 0, 0, 0, 0, 0],\n",
    "            }\n",
    "clicks = pd.DataFrame(data=clicks, index=['user1', 'user2', 'user3', 'user4', 'user5', 'user6', 'user7'])\n",
    "clicks\n"
   ]
  },
  {
   "cell_type": "markdown",
   "metadata": {},
   "source": [
    "### Creación de dataset final de interacciones\n",
    "\n",
    "Para crear el dataset final juntamos todo tipo de interacciones. \n",
    "\n",
    "Se puede dar diferente importancia a las fuentes de datos en la variable weight definida al inicio del notebook.\n"
   ]
  },
  {
   "cell_type": "code",
   "execution_count": 6,
   "metadata": {},
   "outputs": [
    {
     "data": {
      "text/html": [
       "<div>\n",
       "<style>\n",
       "    .dataframe thead tr:only-child th {\n",
       "        text-align: right;\n",
       "    }\n",
       "\n",
       "    .dataframe thead th {\n",
       "        text-align: left;\n",
       "    }\n",
       "\n",
       "    .dataframe tbody tr th {\n",
       "        vertical-align: top;\n",
       "    }\n",
       "</style>\n",
       "<table border=\"1\" class=\"dataframe\">\n",
       "  <thead>\n",
       "    <tr style=\"text-align: right;\">\n",
       "      <th></th>\n",
       "      <th>SCQ</th>\n",
       "      <th>SVQ</th>\n",
       "      <th>TFN</th>\n",
       "      <th>VAL</th>\n",
       "      <th>VGO</th>\n",
       "    </tr>\n",
       "  </thead>\n",
       "  <tbody>\n",
       "    <tr>\n",
       "      <th>user1</th>\n",
       "      <td>0</td>\n",
       "      <td>0</td>\n",
       "      <td>1</td>\n",
       "      <td>1</td>\n",
       "      <td>0</td>\n",
       "    </tr>\n",
       "    <tr>\n",
       "      <th>user2</th>\n",
       "      <td>0</td>\n",
       "      <td>0</td>\n",
       "      <td>0</td>\n",
       "      <td>1</td>\n",
       "      <td>0</td>\n",
       "    </tr>\n",
       "    <tr>\n",
       "      <th>user3</th>\n",
       "      <td>3</td>\n",
       "      <td>0</td>\n",
       "      <td>0</td>\n",
       "      <td>0</td>\n",
       "      <td>2</td>\n",
       "    </tr>\n",
       "    <tr>\n",
       "      <th>user4</th>\n",
       "      <td>0</td>\n",
       "      <td>1</td>\n",
       "      <td>1</td>\n",
       "      <td>1</td>\n",
       "      <td>0</td>\n",
       "    </tr>\n",
       "    <tr>\n",
       "      <th>user5</th>\n",
       "      <td>5</td>\n",
       "      <td>0</td>\n",
       "      <td>0</td>\n",
       "      <td>1</td>\n",
       "      <td>1</td>\n",
       "    </tr>\n",
       "    <tr>\n",
       "      <th>user6</th>\n",
       "      <td>0</td>\n",
       "      <td>1</td>\n",
       "      <td>1</td>\n",
       "      <td>4</td>\n",
       "      <td>0</td>\n",
       "    </tr>\n",
       "    <tr>\n",
       "      <th>user7</th>\n",
       "      <td>0</td>\n",
       "      <td>0</td>\n",
       "      <td>4</td>\n",
       "      <td>1</td>\n",
       "      <td>0</td>\n",
       "    </tr>\n",
       "  </tbody>\n",
       "</table>\n",
       "</div>"
      ],
      "text/plain": [
       "       SCQ  SVQ  TFN  VAL  VGO\n",
       "user1    0    0    1    1    0\n",
       "user2    0    0    0    1    0\n",
       "user3    3    0    0    0    2\n",
       "user4    0    1    1    1    0\n",
       "user5    5    0    0    1    1\n",
       "user6    0    1    1    4    0\n",
       "user7    0    0    4    1    0"
      ]
     },
     "execution_count": 6,
     "metadata": {},
     "output_type": "execute_result"
    }
   ],
   "source": [
    "## create total interaction data\n",
    "data = weight[0] * compras + weight[1] * busquedas + weight[2] * clicks\n",
    "data"
   ]
  },
  {
   "cell_type": "markdown",
   "metadata": {},
   "source": [
    "## Paso 2: Se calcula una matriz de similitudes entre los ítems o rutas (S5x5)"
   ]
  },
  {
   "attachments": {
    "imagen.png": {
     "image/png": "[encoded data removed]"
    }
   },
   "cell_type": "markdown",
   "metadata": {},
   "source": [
    "### Distancia del coseno\n",
    "\n",
    "La distancia del coseno entre dos items se define con la siguiente fórmula:\n",
    "\n",
    "![imagen.png](attachment:imagen.png)\n",
    "\n",
    "Vamos a calcular la similitud basada en el coseno entre los destinos de Santiago de Compostela (SCQ) y Vigo (VGO)."
   ]
  },
  {
   "cell_type": "code",
   "execution_count": 7,
   "metadata": {},
   "outputs": [
    {
     "name": "stdout",
     "output_type": "stream",
     "text": [
      "Help on function cosine_similarity in module sklearn.metrics.pairwise:\n",
      "\n",
      "cosine_similarity(X, Y=None, dense_output=True)\n",
      "    Compute cosine similarity between samples in X and Y.\n",
      "    \n",
      "    Cosine similarity, or the cosine kernel, computes similarity as the\n",
      "    normalized dot product of X and Y:\n",
      "    \n",
      "        K(X, Y) = <X, Y> / (||X||*||Y||)\n",
      "    \n",
      "    On L2-normalized data, this function is equivalent to linear_kernel.\n",
      "    \n",
      "    Read more in the :ref:`User Guide <cosine_similarity>`.\n",
      "    \n",
      "    Parameters\n",
      "    ----------\n",
      "    X : ndarray or sparse array, shape: (n_samples_X, n_features)\n",
      "        Input data.\n",
      "    \n",
      "    Y : ndarray or sparse array, shape: (n_samples_Y, n_features)\n",
      "        Input data. If ``None``, the output will be the pairwise\n",
      "        similarities between all samples in ``X``.\n",
      "    \n",
      "    dense_output : boolean (optional), default True\n",
      "        Whether to return dense output even when the input is sparse. If\n",
      "        ``False``, the output is sparse if both input arrays are sparse.\n",
      "    \n",
      "        .. versionadded:: 0.17\n",
      "           parameter ``dense_output`` for dense output.\n",
      "    \n",
      "    Returns\n",
      "    -------\n",
      "    kernel matrix : array\n",
      "        An array with shape (n_samples_X, n_samples_Y).\n",
      "\n"
     ]
    }
   ],
   "source": [
    "help(cos)"
   ]
  },
  {
   "cell_type": "code",
   "execution_count": 7,
   "metadata": {},
   "outputs": [
    {
     "data": {
      "text/plain": [
       "0.8436614877321074"
      ]
     },
     "execution_count": 7,
     "metadata": {},
     "output_type": "execute_result"
    }
   ],
   "source": [
    "# calculate similarity between SCQ and VGO\n",
    "float(cos(X = np.array(data[\"SCQ\"]).reshape(1, -1), Y = np.array(data[\"VGO\"]).reshape(1, -1)))\n"
   ]
  },
  {
   "cell_type": "markdown",
   "metadata": {},
   "source": [
    "### Distancia de Jaccard\n",
    "\n",
    "La distancia de Jaccard se define con la siguiente fórmula:\n",
    "\n",
    "<img src=\"figures/Jaccard-formula.png\" width=\"50%\">"
   ]
  },
  {
   "cell_type": "code",
   "execution_count": 8,
   "metadata": {},
   "outputs": [
    {
     "name": "stdout",
     "output_type": "stream",
     "text": [
      "Help on function jaccard_score in module sklearn.metrics._classification:\n",
      "\n",
      "jaccard_score(y_true, y_pred, labels=None, pos_label=1, average='binary', sample_weight=None)\n",
      "    Jaccard similarity coefficient score\n",
      "    \n",
      "    The Jaccard index [1], or Jaccard similarity coefficient, defined as\n",
      "    the size of the intersection divided by the size of the union of two label\n",
      "    sets, is used to compare set of predicted labels for a sample to the\n",
      "    corresponding set of labels in ``y_true``.\n",
      "    \n",
      "    Read more in the :ref:`User Guide <jaccard_similarity_score>`.\n",
      "    \n",
      "    Parameters\n",
      "    ----------\n",
      "    y_true : 1d array-like, or label indicator array / sparse matrix\n",
      "        Ground truth (correct) labels.\n",
      "    \n",
      "    y_pred : 1d array-like, or label indicator array / sparse matrix\n",
      "        Predicted labels, as returned by a classifier.\n",
      "    \n",
      "    labels : list, optional\n",
      "        The set of labels to include when ``average != 'binary'``, and their\n",
      "        order if ``average is None``. Labels present in the data can be\n",
      "        excluded, for example to calculate a multiclass average ignoring a\n",
      "        majority negative class, while labels not present in the data will\n",
      "        result in 0 components in a macro average. For multilabel targets,\n",
      "        labels are column indices. By default, all labels in ``y_true`` and\n",
      "        ``y_pred`` are used in sorted order.\n",
      "    \n",
      "    pos_label : str or int, 1 by default\n",
      "        The class to report if ``average='binary'`` and the data is binary.\n",
      "        If the data are multiclass or multilabel, this will be ignored;\n",
      "        setting ``labels=[pos_label]`` and ``average != 'binary'`` will report\n",
      "        scores for that label only.\n",
      "    \n",
      "    average : string, [None, 'binary' (default), 'micro', 'macro', 'samples',                        'weighted']\n",
      "        If ``None``, the scores for each class are returned. Otherwise, this\n",
      "        determines the type of averaging performed on the data:\n",
      "    \n",
      "        ``'binary'``:\n",
      "            Only report results for the class specified by ``pos_label``.\n",
      "            This is applicable only if targets (``y_{true,pred}``) are binary.\n",
      "        ``'micro'``:\n",
      "            Calculate metrics globally by counting the total true positives,\n",
      "            false negatives and false positives.\n",
      "        ``'macro'``:\n",
      "            Calculate metrics for each label, and find their unweighted\n",
      "            mean.  This does not take label imbalance into account.\n",
      "        ``'weighted'``:\n",
      "            Calculate metrics for each label, and find their average, weighted\n",
      "            by support (the number of true instances for each label). This\n",
      "            alters 'macro' to account for label imbalance.\n",
      "        ``'samples'``:\n",
      "            Calculate metrics for each instance, and find their average (only\n",
      "            meaningful for multilabel classification).\n",
      "    \n",
      "    sample_weight : array-like of shape (n_samples,), default=None\n",
      "        Sample weights.\n",
      "    \n",
      "    Returns\n",
      "    -------\n",
      "    score : float (if average is not None) or array of floats, shape =            [n_unique_labels]\n",
      "    \n",
      "    See also\n",
      "    --------\n",
      "    accuracy_score, f_score, multilabel_confusion_matrix\n",
      "    \n",
      "    Notes\n",
      "    -----\n",
      "    :func:`jaccard_score` may be a poor metric if there are no\n",
      "    positives for some samples or classes. Jaccard is undefined if there are\n",
      "    no true or predicted labels, and our implementation will return a score\n",
      "    of 0 with a warning.\n",
      "    \n",
      "    References\n",
      "    ----------\n",
      "    .. [1] `Wikipedia entry for the Jaccard index\n",
      "           <https://en.wikipedia.org/wiki/Jaccard_index>`_\n",
      "    \n",
      "    Examples\n",
      "    --------\n",
      "    >>> import numpy as np\n",
      "    >>> from sklearn.metrics import jaccard_score\n",
      "    >>> y_true = np.array([[0, 1, 1],\n",
      "    ...                    [1, 1, 0]])\n",
      "    >>> y_pred = np.array([[1, 1, 1],\n",
      "    ...                    [1, 0, 0]])\n",
      "    \n",
      "    In the binary case:\n",
      "    \n",
      "    >>> jaccard_score(y_true[0], y_pred[0])\n",
      "    0.6666...\n",
      "    \n",
      "    In the multilabel case:\n",
      "    \n",
      "    >>> jaccard_score(y_true, y_pred, average='samples')\n",
      "    0.5833...\n",
      "    >>> jaccard_score(y_true, y_pred, average='macro')\n",
      "    0.6666...\n",
      "    >>> jaccard_score(y_true, y_pred, average=None)\n",
      "    array([0.5, 0.5, 1. ])\n",
      "    \n",
      "    In the multiclass case:\n",
      "    \n",
      "    >>> y_pred = [0, 2, 1, 2]\n",
      "    >>> y_true = [0, 1, 2, 2]\n",
      "    >>> jaccard_score(y_true, y_pred, average=None)\n",
      "    array([1. , 0. , 0.33...])\n",
      "\n"
     ]
    }
   ],
   "source": [
    "help(jacc)"
   ]
  },
  {
   "cell_type": "markdown",
   "metadata": {},
   "source": [
    "Calculemos ahora la misma similitud pero esta vez usando la distancia de Jaccard. Como esta distancia necesita datos binarios primero transformamos todos los valores por encima de cero en unos."
   ]
  },
  {
   "cell_type": "code",
   "execution_count": 9,
   "metadata": {},
   "outputs": [
    {
     "data": {
      "text/plain": [
       "1.0"
      ]
     },
     "execution_count": 9,
     "metadata": {},
     "output_type": "execute_result"
    }
   ],
   "source": [
    "x = np.array(data[\"SCQ\"])\n",
    "x[x > 0] = 1\n",
    "y = np.array(data[\"VGO\"])\n",
    "y[y > 0] = 1\n",
    "jacc(x,y)"
   ]
  },
  {
   "cell_type": "markdown",
   "metadata": {},
   "source": [
    "Realicemos la misma operación pero esta vez para obtener la similitud de SCQ con Valencia (VAL)."
   ]
  },
  {
   "cell_type": "code",
   "execution_count": 10,
   "metadata": {},
   "outputs": [
    {
     "data": {
      "text/plain": [
       "0.14285714285714285"
      ]
     },
     "execution_count": 10,
     "metadata": {},
     "output_type": "execute_result"
    }
   ],
   "source": [
    "y = np.array(data[\"VAL\"])\n",
    "y[y > 0] = 1\n",
    "jacc(x,y)"
   ]
  },
  {
   "cell_type": "markdown",
   "metadata": {},
   "source": [
    "### Correlación de Pearson\n",
    "\n",
    "La correlación de Pearson se define con la siguiente fórmula:\n",
    "\n",
    "<img src=\"figures/pearson.png\" width=\"50%\">"
   ]
  },
  {
   "cell_type": "code",
   "execution_count": 11,
   "metadata": {},
   "outputs": [
    {
     "name": "stdout",
     "output_type": "stream",
     "text": [
      "Help on function pearsonr in module scipy.stats.stats:\n",
      "\n",
      "pearsonr(x, y)\n",
      "    Pearson correlation coefficient and p-value for testing non-correlation.\n",
      "    \n",
      "    The Pearson correlation coefficient [1]_ measures the linear relationship\n",
      "    between two datasets.  The calculation of the p-value relies on the\n",
      "    assumption that each dataset is normally distributed.  (See Kowalski [3]_\n",
      "    for a discussion of the effects of non-normality of the input on the\n",
      "    distribution of the correlation coefficient.)  Like other correlation\n",
      "    coefficients, this one varies between -1 and +1 with 0 implying no\n",
      "    correlation. Correlations of -1 or +1 imply an exact linear relationship.\n",
      "    Positive correlations imply that as x increases, so does y. Negative\n",
      "    correlations imply that as x increases, y decreases.\n",
      "    \n",
      "    The p-value roughly indicates the probability of an uncorrelated system\n",
      "    producing datasets that have a Pearson correlation at least as extreme\n",
      "    as the one computed from these datasets.\n",
      "    \n",
      "    Parameters\n",
      "    ----------\n",
      "    x : (N,) array_like\n",
      "        Input\n",
      "    y : (N,) array_like\n",
      "        Input\n",
      "    \n",
      "    Returns\n",
      "    -------\n",
      "    r : float\n",
      "        Pearson's correlation coefficient\n",
      "    p-value : float\n",
      "        two-tailed p-value\n",
      "    \n",
      "    Warns\n",
      "    -----\n",
      "    PearsonRConstantInputWarning\n",
      "        Raised if an input is a constant array.  The correlation coefficient\n",
      "        is not defined in this case, so ``np.nan`` is returned.\n",
      "    \n",
      "    PearsonRNearConstantInputWarning\n",
      "        Raised if an input is \"nearly\" constant.  The array ``x`` is considered\n",
      "        nearly constant if ``norm(x - mean(x)) < 1e-13 * abs(mean(x))``.\n",
      "        Numerical errors in the calculation ``x - mean(x)`` in this case might\n",
      "        result in an inaccurate calculation of r.\n",
      "    \n",
      "    See Also\n",
      "    --------\n",
      "    spearmanr : Spearman rank-order correlation coefficient.\n",
      "    kendalltau : Kendall's tau, a correlation measure for ordinal data.\n",
      "    \n",
      "    Notes\n",
      "    -----\n",
      "    \n",
      "    The correlation coefficient is calculated as follows:\n",
      "    \n",
      "    .. math::\n",
      "    \n",
      "        r = \\frac{\\sum (x - m_x) (y - m_y)}\n",
      "                 {\\sqrt{\\sum (x - m_x)^2 \\sum (y - m_y)^2}}\n",
      "    \n",
      "    where :math:`m_x` is the mean of the vector :math:`x` and :math:`m_y` is\n",
      "    the mean of the vector :math:`y`.\n",
      "    \n",
      "    Under the assumption that x and y are drawn from independent normal\n",
      "    distributions (so the population correlation coefficient is 0), the\n",
      "    probability density function of the sample correlation coefficient r\n",
      "    is ([1]_, [2]_)::\n",
      "    \n",
      "               (1 - r**2)**(n/2 - 2)\n",
      "        f(r) = ---------------------\n",
      "                  B(1/2, n/2 - 1)\n",
      "    \n",
      "    where n is the number of samples, and B is the beta function.  This\n",
      "    is sometimes referred to as the exact distribution of r.  This is\n",
      "    the distribution that is used in `pearsonr` to compute the p-value.\n",
      "    The distribution is a beta distribution on the interval [-1, 1],\n",
      "    with equal shape parameters a = b = n/2 - 1.  In terms of SciPy's\n",
      "    implementation of the beta distribution, the distribution of r is::\n",
      "    \n",
      "        dist = scipy.stats.beta(n/2 - 1, n/2 - 1, loc=-1, scale=2)\n",
      "    \n",
      "    The p-value returned by `pearsonr` is a two-sided p-value.  For a\n",
      "    given sample with correlation coefficient r, the p-value is\n",
      "    the probability that abs(r') of a random sample x' and y' drawn from\n",
      "    the population with zero correlation would be greater than or equal\n",
      "    to abs(r).  In terms of the object ``dist`` shown above, the p-value\n",
      "    for a given r and length n can be computed as::\n",
      "    \n",
      "        p = 2*dist.cdf(-abs(r))\n",
      "    \n",
      "    When n is 2, the above continuous distribution is not well-defined.\n",
      "    One can interpret the limit of the beta distribution as the shape\n",
      "    parameters a and b approach a = b = 0 as a discrete distribution with\n",
      "    equal probability masses at r = 1 and r = -1.  More directly, one\n",
      "    can observe that, given the data x = [x1, x2] and y = [y1, y2], and\n",
      "    assuming x1 != x2 and y1 != y2, the only possible values for r are 1\n",
      "    and -1.  Because abs(r') for any sample x' and y' with length 2 will\n",
      "    be 1, the two-sided p-value for a sample of length 2 is always 1.\n",
      "    \n",
      "    References\n",
      "    ----------\n",
      "    .. [1] \"Pearson correlation coefficient\", Wikipedia,\n",
      "           https://en.wikipedia.org/wiki/Pearson_correlation_coefficient\n",
      "    .. [2] Student, \"Probable error of a correlation coefficient\",\n",
      "           Biometrika, Volume 6, Issue 2-3, 1 September 1908, pp. 302-310.\n",
      "    .. [3] C. J. Kowalski, \"On the Effects of Non-Normality on the Distribution\n",
      "           of the Sample Product-Moment Correlation Coefficient\"\n",
      "           Journal of the Royal Statistical Society. Series C (Applied\n",
      "           Statistics), Vol. 21, No. 1 (1972), pp. 1-12.\n",
      "    \n",
      "    Examples\n",
      "    --------\n",
      "    >>> from scipy import stats\n",
      "    >>> a = np.array([0, 0, 0, 1, 1, 1, 1])\n",
      "    >>> b = np.arange(7)\n",
      "    >>> stats.pearsonr(a, b)\n",
      "    (0.8660254037844386, 0.011724811003954649)\n",
      "    \n",
      "    >>> stats.pearsonr([1, 2, 3, 4, 5], [10, 9, 2.5, 6, 4])\n",
      "    (-0.7426106572325057, 0.1505558088534455)\n",
      "\n"
     ]
    }
   ],
   "source": [
    "help(pearson)"
   ]
  },
  {
   "cell_type": "markdown",
   "metadata": {},
   "source": [
    "Calculemos de nuevo la similitud entre SCQ y VGO pero esta vez usando la correlación de Pearson."
   ]
  },
  {
   "cell_type": "code",
   "execution_count": 12,
   "metadata": {},
   "outputs": [
    {
     "data": {
      "text/plain": [
       "0.7879788693213197"
      ]
     },
     "execution_count": 12,
     "metadata": {},
     "output_type": "execute_result"
    }
   ],
   "source": [
    "x = np.array(data[\"SCQ\"])\n",
    "y = np.array(data[\"VGO\"])\n",
    "pearson(x, y)[0]"
   ]
  },
  {
   "cell_type": "markdown",
   "metadata": {},
   "source": [
    "### Calculo de la matriz de similitudes\n",
    "\n",
    "Calculamos la matriz de similitudes para cada item o ruta con la distancia del coseno. \n",
    "\n",
    "Obtenemos una matriz de dimension 5x5"
   ]
  },
  {
   "cell_type": "code",
   "execution_count": 13,
   "metadata": {},
   "outputs": [
    {
     "data": {
      "text/plain": [
       "array([[1.        , 0.        , 0.        , 0.1871203 , 0.84366149],\n",
       "       [0.        , 1.        , 0.32444284, 0.77151675, 0.        ],\n",
       "       [0.        , 0.32444284, 1.        , 0.50062617, 0.        ],\n",
       "       [0.1871203 , 0.77151675, 0.50062617, 1.        , 0.09759001],\n",
       "       [0.84366149, 0.        , 0.        , 0.09759001, 1.        ]])"
      ]
     },
     "execution_count": 13,
     "metadata": {},
     "output_type": "execute_result"
    }
   ],
   "source": [
    "sim = cos(X = np.transpose(data))\n",
    "sim"
   ]
  },
  {
   "cell_type": "markdown",
   "metadata": {},
   "source": [
    "## Paso 3: Multiplicar matriz de interacciones por matriz de similitudes para obtener el ítem que tiene más probabilidad de interesarle a cada usuario\n",
    "\n",
    "Multiplicamos la matriz sim 5x5 por las interacciones de cada usuario. Empezemos con un ejemplo con el usuario 4."
   ]
  },
  {
   "cell_type": "code",
   "execution_count": 15,
   "metadata": {},
   "outputs": [
    {
     "data": {
      "text/plain": [
       "SCQ    0.187120\n",
       "SVQ    2.095960\n",
       "TFN    1.825069\n",
       "VAL    2.272143\n",
       "VGO    0.097590\n",
       "Name: user4, dtype: float64"
      ]
     },
     "execution_count": 15,
     "metadata": {},
     "output_type": "execute_result"
    }
   ],
   "source": [
    "interes_user = np.matmul(np.transpose(data.loc[\"user4\"]),sim)\n",
    "interes_user"
   ]
  },
  {
   "cell_type": "markdown",
   "metadata": {},
   "source": [
    "Calculamos el item con el valor más alto para el usuario 4. "
   ]
  },
  {
   "cell_type": "code",
   "execution_count": 16,
   "metadata": {},
   "outputs": [
    {
     "data": {
      "text/plain": [
       "'VAL'"
      ]
     },
     "execution_count": 16,
     "metadata": {},
     "output_type": "execute_result"
    }
   ],
   "source": [
    "top1 = np.argmax(interes_user)\n",
    "top1"
   ]
  },
  {
   "cell_type": "markdown",
   "metadata": {},
   "source": [
    "Por tanto, el usuario 4 tendría como principal destino a recomendar Valencia."
   ]
  },
  {
   "cell_type": "markdown",
   "metadata": {},
   "source": [
    "Ahora hacemos lo mismo para todos los usuarios en un único paso. Multiplicamos la matriz de las interacciones de todos los usuarios, L 7x5, por las similitudes sim 5x15\n",
    "\n",
    "De esta forma, obtenemos la matriz de interés I 7x5, donde: \n",
    "\n",
    "$$L_{7x5} \\cdot S_{5x5} = I_{5x5}$$"
   ]
  },
  {
   "cell_type": "code",
   "execution_count": 17,
   "metadata": {},
   "outputs": [
    {
     "data": {
      "text/html": [
       "<div>\n",
       "<style>\n",
       "    .dataframe thead tr:only-child th {\n",
       "        text-align: right;\n",
       "    }\n",
       "\n",
       "    .dataframe thead th {\n",
       "        text-align: left;\n",
       "    }\n",
       "\n",
       "    .dataframe tbody tr th {\n",
       "        vertical-align: top;\n",
       "    }\n",
       "</style>\n",
       "<table border=\"1\" class=\"dataframe\">\n",
       "  <thead>\n",
       "    <tr style=\"text-align: right;\">\n",
       "      <th></th>\n",
       "      <th>SCQ</th>\n",
       "      <th>SVQ</th>\n",
       "      <th>TFN</th>\n",
       "      <th>VAL</th>\n",
       "      <th>VGO</th>\n",
       "    </tr>\n",
       "  </thead>\n",
       "  <tbody>\n",
       "    <tr>\n",
       "      <th>user1</th>\n",
       "      <td>0.187120</td>\n",
       "      <td>1.095960</td>\n",
       "      <td>1.500626</td>\n",
       "      <td>1.500626</td>\n",
       "      <td>0.097590</td>\n",
       "    </tr>\n",
       "    <tr>\n",
       "      <th>user2</th>\n",
       "      <td>0.187120</td>\n",
       "      <td>0.771517</td>\n",
       "      <td>0.500626</td>\n",
       "      <td>1.000000</td>\n",
       "      <td>0.097590</td>\n",
       "    </tr>\n",
       "    <tr>\n",
       "      <th>user3</th>\n",
       "      <td>4.687323</td>\n",
       "      <td>0.000000</td>\n",
       "      <td>0.000000</td>\n",
       "      <td>0.756541</td>\n",
       "      <td>4.530984</td>\n",
       "    </tr>\n",
       "    <tr>\n",
       "      <th>user4</th>\n",
       "      <td>0.187120</td>\n",
       "      <td>2.095960</td>\n",
       "      <td>1.825069</td>\n",
       "      <td>2.272143</td>\n",
       "      <td>0.097590</td>\n",
       "    </tr>\n",
       "    <tr>\n",
       "      <th>user5</th>\n",
       "      <td>6.030782</td>\n",
       "      <td>0.771517</td>\n",
       "      <td>0.500626</td>\n",
       "      <td>2.033191</td>\n",
       "      <td>5.315897</td>\n",
       "    </tr>\n",
       "    <tr>\n",
       "      <th>user6</th>\n",
       "      <td>0.748481</td>\n",
       "      <td>4.410510</td>\n",
       "      <td>3.326948</td>\n",
       "      <td>5.272143</td>\n",
       "      <td>0.390360</td>\n",
       "    </tr>\n",
       "    <tr>\n",
       "      <th>user7</th>\n",
       "      <td>0.187120</td>\n",
       "      <td>2.069288</td>\n",
       "      <td>4.500626</td>\n",
       "      <td>3.002505</td>\n",
       "      <td>0.097590</td>\n",
       "    </tr>\n",
       "  </tbody>\n",
       "</table>\n",
       "</div>"
      ],
      "text/plain": [
       "            SCQ       SVQ       TFN       VAL       VGO\n",
       "user1  0.187120  1.095960  1.500626  1.500626  0.097590\n",
       "user2  0.187120  0.771517  0.500626  1.000000  0.097590\n",
       "user3  4.687323  0.000000  0.000000  0.756541  4.530984\n",
       "user4  0.187120  2.095960  1.825069  2.272143  0.097590\n",
       "user5  6.030782  0.771517  0.500626  2.033191  5.315897\n",
       "user6  0.748481  4.410510  3.326948  5.272143  0.390360\n",
       "user7  0.187120  2.069288  4.500626  3.002505  0.097590"
      ]
     },
     "execution_count": 17,
     "metadata": {},
     "output_type": "execute_result"
    }
   ],
   "source": [
    "matriz_interes_users = np.matmul(data,sim)\n",
    "matriz_interes_users"
   ]
  },
  {
   "cell_type": "markdown",
   "metadata": {},
   "source": [
    "Calculamos el item con el valor más alto para cada usuario"
   ]
  },
  {
   "cell_type": "code",
   "execution_count": 18,
   "metadata": {},
   "outputs": [
    {
     "data": {
      "text/plain": [
       "['VAL', 'VAL', 'SCQ', 'VAL', 'SCQ', 'VAL', 'TFN']"
      ]
     },
     "execution_count": 18,
     "metadata": {},
     "output_type": "execute_result"
    }
   ],
   "source": [
    "tops1 = [np.argmax(matriz_interes_users.iloc[row]) for row in range(data.shape[0])]\n",
    "tops1"
   ]
  },
  {
   "cell_type": "markdown",
   "metadata": {},
   "source": [
    "## Resultados:\n",
    "\n",
    "**Usuario 1:**\n",
    "Se le recomendará Valencia.\n",
    "\n",
    "**Usuario 2:**\n",
    "Se le recomendará Valencia.\n",
    "\n",
    "**Usuario 3:**\n",
    "Se le recomendará Santiago de Compostela.\n",
    "\n",
    "**Usuario 4:**\n",
    "Se le recomendará Valencia.\n",
    "\n",
    "**Usuario 5:**\n",
    "Se le recomendará Santiago de Compostela.\n",
    "\n",
    "**Usuario 6:**\n",
    "Se le recomendará Valencia\n",
    "\n",
    "**Usuario 7:**\n",
    "Se le recomendará Tenerife."
   ]
  }
 ],
 "metadata": {
  "kernelspec": {
   "display_name": "Python 3",
   "language": "python",
   "name": "python3"
  },
  "language_info": {
   "codemirror_mode": {
    "name": "ipython",
    "version": 3
   },
   "file_extension": ".py",
   "mimetype": "text/x-python",
   "name": "python",
   "nbconvert_exporter": "python",
   "pygments_lexer": "ipython3",
   "version": "3.7.4"
  }
 },
 "nbformat": 4,
 "nbformat_minor": 2
}
