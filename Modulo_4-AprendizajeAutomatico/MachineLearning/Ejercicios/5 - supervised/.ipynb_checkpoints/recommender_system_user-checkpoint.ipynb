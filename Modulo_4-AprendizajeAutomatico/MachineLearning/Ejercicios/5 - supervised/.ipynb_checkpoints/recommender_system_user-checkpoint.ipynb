{
 "cells": [
  {
   "cell_type": "markdown",
   "metadata": {},
   "source": [
    "# Sistema de Recomendación"
   ]
  },
  {
   "cell_type": "markdown",
   "metadata": {},
   "source": [
    "\n",
    "- Un sistema de recomendación es un algoritmo que nos permite dar predicciones de cuál es el producto o ítem más adecuado para un usuario.\n",
    "\n",
    "- Los sistemas de recomendación pueden ser de varias clases según el algoritmo utilizado: basados en contenido, filtrado colaborativo, etc.\n",
    "\n",
    "- Los sistemas de recomendación basados en algoritmos de filtrado colaborativo utilizan las valoraciones o interacciones de los usuarios sobre ciertos elementos del conjunto total para predecir interés en el resto de los elementos y recomendar los de mayor valoración predicha.\n",
    "\n"
   ]
  },
  {
   "cell_type": "markdown",
   "metadata": {},
   "source": [
    "# Sistema de Recomendación user - user"
   ]
  },
  {
   "cell_type": "markdown",
   "metadata": {},
   "source": [
    "- Personas con intereses similares en el pasado es probable que tengan intereses parecidos en el futuro.\n",
    "\n",
    "- Para predecir el interés de un usuario sobre un producto (ítem) usamos la opinión o interacciones de usuarios similares. Cuánto más similar sea el usuario, más tendremos en cuenta su opinión o historial de interacciones.\n",
    "\n",
    "- Se calculan las similitudes entre usuarios en base a las opiniones o interacciones sobre los productos usando una determinada distancia.\n",
    "\n",
    "**Recomendaciones basadas en la actividad de usuarios similares a mí.**\n",
    "\n",
    "<img src=\"figures/recommender_2.png\" width=\"50%\">\n"
   ]
  },
  {
   "cell_type": "code",
   "execution_count": 1,
   "metadata": {
    "collapsed": true
   },
   "outputs": [],
   "source": [
    "# load libraries\n",
    "import pandas as pd \n",
    "import numpy as np\n",
    "from sklearn.metrics.pairwise import cosine_similarity as cos\n",
    "from sklearn.metrics import jaccard_score as jacc\n",
    "from scipy.stats import pearsonr as pearson"
   ]
  },
  {
   "cell_type": "code",
   "execution_count": 2,
   "metadata": {
    "collapsed": true
   },
   "outputs": [],
   "source": [
    "weight = [1,1,1]\n",
    "# weight = [1,5.5,0.25]"
   ]
  },
  {
   "cell_type": "markdown",
   "metadata": {},
   "source": [
    "## Paso 1: Se calcula una matriz de puntuaciones o interacción usuario-ítem (L7x5)"
   ]
  },
  {
   "cell_type": "markdown",
   "metadata": {},
   "source": [
    "### Creación de la matriz de interacciones"
   ]
  },
  {
   "cell_type": "code",
   "execution_count": 3,
   "metadata": {},
   "outputs": [
    {
     "data": {
      "text/html": [
       "<div>\n",
       "<style>\n",
       "    .dataframe thead tr:only-child th {\n",
       "        text-align: right;\n",
       "    }\n",
       "\n",
       "    .dataframe thead th {\n",
       "        text-align: left;\n",
       "    }\n",
       "\n",
       "    .dataframe tbody tr th {\n",
       "        vertical-align: top;\n",
       "    }\n",
       "</style>\n",
       "<table border=\"1\" class=\"dataframe\">\n",
       "  <thead>\n",
       "    <tr style=\"text-align: right;\">\n",
       "      <th></th>\n",
       "      <th>SCQ</th>\n",
       "      <th>SVQ</th>\n",
       "      <th>TFN</th>\n",
       "      <th>VAL</th>\n",
       "      <th>VGO</th>\n",
       "    </tr>\n",
       "  </thead>\n",
       "  <tbody>\n",
       "    <tr>\n",
       "      <th>user1</th>\n",
       "      <td>0</td>\n",
       "      <td>0</td>\n",
       "      <td>1</td>\n",
       "      <td>1</td>\n",
       "      <td>0</td>\n",
       "    </tr>\n",
       "    <tr>\n",
       "      <th>user2</th>\n",
       "      <td>0</td>\n",
       "      <td>0</td>\n",
       "      <td>0</td>\n",
       "      <td>0</td>\n",
       "      <td>0</td>\n",
       "    </tr>\n",
       "    <tr>\n",
       "      <th>user3</th>\n",
       "      <td>1</td>\n",
       "      <td>0</td>\n",
       "      <td>0</td>\n",
       "      <td>0</td>\n",
       "      <td>0</td>\n",
       "    </tr>\n",
       "    <tr>\n",
       "      <th>user4</th>\n",
       "      <td>0</td>\n",
       "      <td>0</td>\n",
       "      <td>0</td>\n",
       "      <td>0</td>\n",
       "      <td>0</td>\n",
       "    </tr>\n",
       "    <tr>\n",
       "      <th>user5</th>\n",
       "      <td>2</td>\n",
       "      <td>0</td>\n",
       "      <td>0</td>\n",
       "      <td>1</td>\n",
       "      <td>1</td>\n",
       "    </tr>\n",
       "    <tr>\n",
       "      <th>user6</th>\n",
       "      <td>0</td>\n",
       "      <td>0</td>\n",
       "      <td>0</td>\n",
       "      <td>0</td>\n",
       "      <td>0</td>\n",
       "    </tr>\n",
       "    <tr>\n",
       "      <th>user7</th>\n",
       "      <td>0</td>\n",
       "      <td>0</td>\n",
       "      <td>1</td>\n",
       "      <td>0</td>\n",
       "      <td>0</td>\n",
       "    </tr>\n",
       "  </tbody>\n",
       "</table>\n",
       "</div>"
      ],
      "text/plain": [
       "       SCQ  SVQ  TFN  VAL  VGO\n",
       "user1    0    0    1    1    0\n",
       "user2    0    0    0    0    0\n",
       "user3    1    0    0    0    0\n",
       "user4    0    0    0    0    0\n",
       "user5    2    0    0    1    1\n",
       "user6    0    0    0    0    0\n",
       "user7    0    0    1    0    0"
      ]
     },
     "execution_count": 3,
     "metadata": {},
     "output_type": "execute_result"
    }
   ],
   "source": [
    "# create purchases data\n",
    "compras = {'SCQ': [0, 0, 1, 0, 2, 0, 0], \n",
    "           'SVQ': [0, 0, 0, 0, 0, 0, 0],\n",
    "           'TFN': [1, 0, 0, 0, 0, 0, 1],\n",
    "           'VAL': [1, 0, 0, 0, 1, 0, 0],\n",
    "           'VGO': [0, 0, 0, 0, 1, 0, 0],\n",
    "          }\n",
    "compras = pd.DataFrame(data=compras, index=['user1', 'user2', 'user3', 'user4', 'user5', 'user6', 'user7'])\n",
    "compras\n"
   ]
  },
  {
   "cell_type": "code",
   "execution_count": 4,
   "metadata": {},
   "outputs": [
    {
     "data": {
      "text/html": [
       "<div>\n",
       "<style>\n",
       "    .dataframe thead tr:only-child th {\n",
       "        text-align: right;\n",
       "    }\n",
       "\n",
       "    .dataframe thead th {\n",
       "        text-align: left;\n",
       "    }\n",
       "\n",
       "    .dataframe tbody tr th {\n",
       "        vertical-align: top;\n",
       "    }\n",
       "</style>\n",
       "<table border=\"1\" class=\"dataframe\">\n",
       "  <thead>\n",
       "    <tr style=\"text-align: right;\">\n",
       "      <th></th>\n",
       "      <th>SCQ</th>\n",
       "      <th>SVQ</th>\n",
       "      <th>TFN</th>\n",
       "      <th>VAL</th>\n",
       "      <th>VGO</th>\n",
       "    </tr>\n",
       "  </thead>\n",
       "  <tbody>\n",
       "    <tr>\n",
       "      <th>user1</th>\n",
       "      <td>0</td>\n",
       "      <td>0</td>\n",
       "      <td>0</td>\n",
       "      <td>0</td>\n",
       "      <td>0</td>\n",
       "    </tr>\n",
       "    <tr>\n",
       "      <th>user2</th>\n",
       "      <td>0</td>\n",
       "      <td>0</td>\n",
       "      <td>0</td>\n",
       "      <td>1</td>\n",
       "      <td>0</td>\n",
       "    </tr>\n",
       "    <tr>\n",
       "      <th>user3</th>\n",
       "      <td>1</td>\n",
       "      <td>0</td>\n",
       "      <td>0</td>\n",
       "      <td>0</td>\n",
       "      <td>2</td>\n",
       "    </tr>\n",
       "    <tr>\n",
       "      <th>user4</th>\n",
       "      <td>0</td>\n",
       "      <td>0</td>\n",
       "      <td>0</td>\n",
       "      <td>0</td>\n",
       "      <td>0</td>\n",
       "    </tr>\n",
       "    <tr>\n",
       "      <th>user5</th>\n",
       "      <td>3</td>\n",
       "      <td>0</td>\n",
       "      <td>0</td>\n",
       "      <td>0</td>\n",
       "      <td>0</td>\n",
       "    </tr>\n",
       "    <tr>\n",
       "      <th>user6</th>\n",
       "      <td>0</td>\n",
       "      <td>1</td>\n",
       "      <td>0</td>\n",
       "      <td>3</td>\n",
       "      <td>0</td>\n",
       "    </tr>\n",
       "    <tr>\n",
       "      <th>user7</th>\n",
       "      <td>0</td>\n",
       "      <td>0</td>\n",
       "      <td>1</td>\n",
       "      <td>0</td>\n",
       "      <td>0</td>\n",
       "    </tr>\n",
       "  </tbody>\n",
       "</table>\n",
       "</div>"
      ],
      "text/plain": [
       "       SCQ  SVQ  TFN  VAL  VGO\n",
       "user1    0    0    0    0    0\n",
       "user2    0    0    0    1    0\n",
       "user3    1    0    0    0    2\n",
       "user4    0    0    0    0    0\n",
       "user5    3    0    0    0    0\n",
       "user6    0    1    0    3    0\n",
       "user7    0    0    1    0    0"
      ]
     },
     "execution_count": 4,
     "metadata": {},
     "output_type": "execute_result"
    }
   ],
   "source": [
    "# create searches data\n",
    "busquedas = {'SCQ': [0, 0, 1, 0, 3, 0, 0], \n",
    "             'SVQ': [0, 0, 0, 0, 0, 1, 0],\n",
    "             'TFN': [0, 0, 0, 0, 0, 0, 1],\n",
    "             'VAL': [0, 1, 0, 0, 0, 3, 0],\n",
    "             'VGO': [0, 0, 2, 0, 0, 0, 0],\n",
    "            }\n",
    "busquedas = pd.DataFrame(data=busquedas, index=['user1', 'user2', 'user3', 'user4', 'user5', 'user6', 'user7'])\n",
    "busquedas\n"
   ]
  },
  {
   "cell_type": "code",
   "execution_count": 5,
   "metadata": {},
   "outputs": [
    {
     "data": {
      "text/html": [
       "<div>\n",
       "<style>\n",
       "    .dataframe thead tr:only-child th {\n",
       "        text-align: right;\n",
       "    }\n",
       "\n",
       "    .dataframe thead th {\n",
       "        text-align: left;\n",
       "    }\n",
       "\n",
       "    .dataframe tbody tr th {\n",
       "        vertical-align: top;\n",
       "    }\n",
       "</style>\n",
       "<table border=\"1\" class=\"dataframe\">\n",
       "  <thead>\n",
       "    <tr style=\"text-align: right;\">\n",
       "      <th></th>\n",
       "      <th>SCQ</th>\n",
       "      <th>SVQ</th>\n",
       "      <th>TFN</th>\n",
       "      <th>VAL</th>\n",
       "      <th>VGO</th>\n",
       "    </tr>\n",
       "  </thead>\n",
       "  <tbody>\n",
       "    <tr>\n",
       "      <th>user1</th>\n",
       "      <td>0</td>\n",
       "      <td>0</td>\n",
       "      <td>0</td>\n",
       "      <td>0</td>\n",
       "      <td>0</td>\n",
       "    </tr>\n",
       "    <tr>\n",
       "      <th>user2</th>\n",
       "      <td>0</td>\n",
       "      <td>0</td>\n",
       "      <td>0</td>\n",
       "      <td>0</td>\n",
       "      <td>0</td>\n",
       "    </tr>\n",
       "    <tr>\n",
       "      <th>user3</th>\n",
       "      <td>1</td>\n",
       "      <td>0</td>\n",
       "      <td>0</td>\n",
       "      <td>0</td>\n",
       "      <td>0</td>\n",
       "    </tr>\n",
       "    <tr>\n",
       "      <th>user4</th>\n",
       "      <td>0</td>\n",
       "      <td>1</td>\n",
       "      <td>1</td>\n",
       "      <td>1</td>\n",
       "      <td>0</td>\n",
       "    </tr>\n",
       "    <tr>\n",
       "      <th>user5</th>\n",
       "      <td>0</td>\n",
       "      <td>0</td>\n",
       "      <td>0</td>\n",
       "      <td>0</td>\n",
       "      <td>0</td>\n",
       "    </tr>\n",
       "    <tr>\n",
       "      <th>user6</th>\n",
       "      <td>0</td>\n",
       "      <td>0</td>\n",
       "      <td>1</td>\n",
       "      <td>1</td>\n",
       "      <td>0</td>\n",
       "    </tr>\n",
       "    <tr>\n",
       "      <th>user7</th>\n",
       "      <td>0</td>\n",
       "      <td>0</td>\n",
       "      <td>2</td>\n",
       "      <td>1</td>\n",
       "      <td>0</td>\n",
       "    </tr>\n",
       "  </tbody>\n",
       "</table>\n",
       "</div>"
      ],
      "text/plain": [
       "       SCQ  SVQ  TFN  VAL  VGO\n",
       "user1    0    0    0    0    0\n",
       "user2    0    0    0    0    0\n",
       "user3    1    0    0    0    0\n",
       "user4    0    1    1    1    0\n",
       "user5    0    0    0    0    0\n",
       "user6    0    0    1    1    0\n",
       "user7    0    0    2    1    0"
      ]
     },
     "execution_count": 5,
     "metadata": {},
     "output_type": "execute_result"
    }
   ],
   "source": [
    "# create clicks data\n",
    "clicks = {'SCQ': [0, 0, 1, 0, 0, 0, 0], \n",
    "          'SVQ': [0, 0, 0, 1, 0, 0, 0],\n",
    "          'TFN': [0, 0, 0, 1, 0, 1, 2],\n",
    "          'VAL': [0, 0, 0, 1, 0, 1, 1],\n",
    "          'VGO': [0, 0, 0, 0, 0, 0, 0],\n",
    "            }\n",
    "clicks = pd.DataFrame(data=clicks, index=['user1', 'user2', 'user3', 'user4', 'user5', 'user6', 'user7'])\n",
    "clicks"
   ]
  },
  {
   "cell_type": "code",
   "execution_count": 6,
   "metadata": {},
   "outputs": [
    {
     "data": {
      "text/html": [
       "<div>\n",
       "<style>\n",
       "    .dataframe thead tr:only-child th {\n",
       "        text-align: right;\n",
       "    }\n",
       "\n",
       "    .dataframe thead th {\n",
       "        text-align: left;\n",
       "    }\n",
       "\n",
       "    .dataframe tbody tr th {\n",
       "        vertical-align: top;\n",
       "    }\n",
       "</style>\n",
       "<table border=\"1\" class=\"dataframe\">\n",
       "  <thead>\n",
       "    <tr style=\"text-align: right;\">\n",
       "      <th></th>\n",
       "      <th>SCQ</th>\n",
       "      <th>SVQ</th>\n",
       "      <th>TFN</th>\n",
       "      <th>VAL</th>\n",
       "      <th>VGO</th>\n",
       "    </tr>\n",
       "  </thead>\n",
       "  <tbody>\n",
       "    <tr>\n",
       "      <th>user1</th>\n",
       "      <td>0</td>\n",
       "      <td>0</td>\n",
       "      <td>1</td>\n",
       "      <td>1</td>\n",
       "      <td>0</td>\n",
       "    </tr>\n",
       "    <tr>\n",
       "      <th>user2</th>\n",
       "      <td>0</td>\n",
       "      <td>0</td>\n",
       "      <td>0</td>\n",
       "      <td>1</td>\n",
       "      <td>0</td>\n",
       "    </tr>\n",
       "    <tr>\n",
       "      <th>user3</th>\n",
       "      <td>3</td>\n",
       "      <td>0</td>\n",
       "      <td>0</td>\n",
       "      <td>0</td>\n",
       "      <td>2</td>\n",
       "    </tr>\n",
       "    <tr>\n",
       "      <th>user4</th>\n",
       "      <td>0</td>\n",
       "      <td>1</td>\n",
       "      <td>1</td>\n",
       "      <td>1</td>\n",
       "      <td>0</td>\n",
       "    </tr>\n",
       "    <tr>\n",
       "      <th>user5</th>\n",
       "      <td>5</td>\n",
       "      <td>0</td>\n",
       "      <td>0</td>\n",
       "      <td>1</td>\n",
       "      <td>1</td>\n",
       "    </tr>\n",
       "    <tr>\n",
       "      <th>user6</th>\n",
       "      <td>0</td>\n",
       "      <td>1</td>\n",
       "      <td>1</td>\n",
       "      <td>4</td>\n",
       "      <td>0</td>\n",
       "    </tr>\n",
       "    <tr>\n",
       "      <th>user7</th>\n",
       "      <td>0</td>\n",
       "      <td>0</td>\n",
       "      <td>4</td>\n",
       "      <td>1</td>\n",
       "      <td>0</td>\n",
       "    </tr>\n",
       "  </tbody>\n",
       "</table>\n",
       "</div>"
      ],
      "text/plain": [
       "       SCQ  SVQ  TFN  VAL  VGO\n",
       "user1    0    0    1    1    0\n",
       "user2    0    0    0    1    0\n",
       "user3    3    0    0    0    2\n",
       "user4    0    1    1    1    0\n",
       "user5    5    0    0    1    1\n",
       "user6    0    1    1    4    0\n",
       "user7    0    0    4    1    0"
      ]
     },
     "execution_count": 6,
     "metadata": {},
     "output_type": "execute_result"
    }
   ],
   "source": [
    "## create total interaction data\n",
    "data = weight[0] * compras + weight[1] * busquedas + weight[2] * clicks\n",
    "data"
   ]
  },
  {
   "cell_type": "markdown",
   "metadata": {},
   "source": [
    "## Paso 2: Se calcula una matriz de similitudes entre los usuarios (S7x7)"
   ]
  },
  {
   "attachments": {
    "imagen.png": {
     "image/png": "[encoded data removed]"
    }
   },
   "cell_type": "markdown",
   "metadata": {},
   "source": [
    "### Distancia del coseno\n",
    "\n",
    "La distancia del coseno entre dos usuarios se define con la siguiente fórmula:\n",
    "\n",
    "![imagen.png](attachment:imagen.png)\n",
    "\n",
    "Vamos a calcular la similitud basada en el coseno entre los usuarios 1 y 2. En este caso nos fijamos en las filas y no en las columnas, como hacíamos en el enfoque item-item."
   ]
  },
  {
   "cell_type": "code",
   "execution_count": 7,
   "metadata": {},
   "outputs": [
    {
     "data": {
      "text/plain": [
       "0.7071067811865475"
      ]
     },
     "execution_count": 7,
     "metadata": {},
     "output_type": "execute_result"
    }
   ],
   "source": [
    "# calculate similarity between SCQ and VGO\n",
    "float(cos(X = np.array(data.loc['user1']).reshape(1, -1), Y = np.array(data.loc['user2']).reshape(1, -1)))"
   ]
  },
  {
   "cell_type": "markdown",
   "metadata": {},
   "source": [
    "### Distancia de Jaccard\n",
    "\n",
    "La distancia de Jaccard se define con la siguiente fórmula:\n",
    "\n",
    "<img src=\"figures/Jaccard-formula.png\" width=\"50%\">\n",
    "\n",
    "Calculemos ahora la misma similitud pero esta vez usando la distancia de Jaccard. Como esta distancia necesita datos binarios primero transformamos todos los valores por encima de cero en unos."
   ]
  },
  {
   "cell_type": "code",
   "execution_count": 8,
   "metadata": {},
   "outputs": [
    {
     "data": {
      "text/plain": [
       "0.5"
      ]
     },
     "execution_count": 8,
     "metadata": {},
     "output_type": "execute_result"
    }
   ],
   "source": [
    "x = data.loc['user1']\n",
    "x[x > 0] = 1\n",
    "y = data.loc['user2']\n",
    "y[y > 0] = 1\n",
    "jacc(x,y)"
   ]
  },
  {
   "cell_type": "markdown",
   "metadata": {},
   "source": [
    "### Correlación de Pearson\n",
    "\n",
    "La correlación de Pearson se define con la siguiente fórmula:\n",
    "\n",
    "<img src=\"figures/pearson.png\" width=\"50%\">\n",
    "\n",
    "Calculemos de nuevo la similitud entre los usarios 1 y 2 pero esta vez usando la correlación de Pearson."
   ]
  },
  {
   "cell_type": "code",
   "execution_count": 9,
   "metadata": {},
   "outputs": [
    {
     "data": {
      "text/plain": [
       "0.6123724356957946"
      ]
     },
     "execution_count": 9,
     "metadata": {},
     "output_type": "execute_result"
    }
   ],
   "source": [
    "x = data.loc['user1']\n",
    "y = data.loc['user2']\n",
    "pearson(x,y)[0]"
   ]
  },
  {
   "cell_type": "markdown",
   "metadata": {},
   "source": [
    "### Calculo de la matriz de similitudes\n",
    "\n",
    "Calculamos la matriz de similitudes para cada usuario con la distancia del coseno. \n",
    "\n",
    "Obtenemos una matriz de dimension 7x7"
   ]
  },
  {
   "cell_type": "code",
   "execution_count": 10,
   "metadata": {},
   "outputs": [
    {
     "data": {
      "text/plain": [
       "array([[1.        , 0.70710678, 0.        , 0.81649658, 0.13608276,\n",
       "        0.83333333, 0.85749293],\n",
       "       [0.70710678, 1.        , 0.        , 0.57735027, 0.19245009,\n",
       "        0.94280904, 0.24253563],\n",
       "       [0.        , 0.        , 1.        , 0.        , 0.90739287,\n",
       "        0.        , 0.        ],\n",
       "       [0.81649658, 0.57735027, 0.        , 1.        , 0.11111111,\n",
       "        0.81649658, 0.70014004],\n",
       "       [0.13608276, 0.19245009, 0.90739287, 0.11111111, 1.        ,\n",
       "        0.18144368, 0.046676  ],\n",
       "       [0.83333333, 0.94280904, 0.        , 0.81649658, 0.18144368,\n",
       "        1.        , 0.45732956],\n",
       "       [0.85749293, 0.24253563, 0.        , 0.70014004, 0.046676  ,\n",
       "        0.45732956, 1.        ]])"
      ]
     },
     "execution_count": 10,
     "metadata": {},
     "output_type": "execute_result"
    }
   ],
   "source": [
    "sim = cos(X = data)\n",
    "sim\n"
   ]
  },
  {
   "cell_type": "markdown",
   "metadata": {},
   "source": [
    "## Paso 3: Multiplicar matriz de interacciones por matriz de similitudes para obtener el ítem que tiene más probabilidad de interesarle a cada usuario"
   ]
  },
  {
   "cell_type": "markdown",
   "metadata": {},
   "source": [
    "Realizamos el cálculo para todos los usuarios en un único paso. Multiplicamos la transpuerta de la matriz de las interacciones de todos los usuarios, Transp(L) 5x7, por las similitudes sim 7x7.\n",
    "\n",
    "De esta forma, obtenemos la matriz de interés I 5x7 donde:\n",
    "\n",
    "$$L^T_{7x5} \\cdot S_{7x7} = I_{5x7}$$"
   ]
  },
  {
   "cell_type": "code",
   "execution_count": 11,
   "metadata": {},
   "outputs": [
    {
     "data": {
      "text/html": [
       "<div>\n",
       "<style>\n",
       "    .dataframe thead tr:only-child th {\n",
       "        text-align: right;\n",
       "    }\n",
       "\n",
       "    .dataframe thead th {\n",
       "        text-align: left;\n",
       "    }\n",
       "\n",
       "    .dataframe tbody tr th {\n",
       "        vertical-align: top;\n",
       "    }\n",
       "</style>\n",
       "<table border=\"1\" class=\"dataframe\">\n",
       "  <thead>\n",
       "    <tr style=\"text-align: right;\">\n",
       "      <th></th>\n",
       "      <th>user1</th>\n",
       "      <th>user2</th>\n",
       "      <th>user3</th>\n",
       "      <th>user4</th>\n",
       "      <th>user5</th>\n",
       "      <th>user6</th>\n",
       "      <th>user7</th>\n",
       "    </tr>\n",
       "  </thead>\n",
       "  <tbody>\n",
       "    <tr>\n",
       "      <th>SCQ</th>\n",
       "      <td>0.680414</td>\n",
       "      <td>0.962250</td>\n",
       "      <td>7.536964</td>\n",
       "      <td>0.555556</td>\n",
       "      <td>7.722179</td>\n",
       "      <td>0.907218</td>\n",
       "      <td>0.233380</td>\n",
       "    </tr>\n",
       "    <tr>\n",
       "      <th>SVQ</th>\n",
       "      <td>1.649830</td>\n",
       "      <td>1.520159</td>\n",
       "      <td>0.000000</td>\n",
       "      <td>1.816497</td>\n",
       "      <td>0.292555</td>\n",
       "      <td>1.816497</td>\n",
       "      <td>1.157470</td>\n",
       "    </tr>\n",
       "    <tr>\n",
       "      <th>TFN</th>\n",
       "      <td>6.079802</td>\n",
       "      <td>3.197409</td>\n",
       "      <td>0.000000</td>\n",
       "      <td>5.433553</td>\n",
       "      <td>0.615342</td>\n",
       "      <td>4.479148</td>\n",
       "      <td>6.014963</td>\n",
       "    </tr>\n",
       "    <tr>\n",
       "      <th>VAL</th>\n",
       "      <td>6.850512</td>\n",
       "      <td>6.490679</td>\n",
       "      <td>0.907393</td>\n",
       "      <td>6.471084</td>\n",
       "      <td>2.212095</td>\n",
       "      <td>7.231412</td>\n",
       "      <td>4.676163</td>\n",
       "    </tr>\n",
       "    <tr>\n",
       "      <th>VGO</th>\n",
       "      <td>0.136083</td>\n",
       "      <td>0.192450</td>\n",
       "      <td>2.907393</td>\n",
       "      <td>0.111111</td>\n",
       "      <td>2.814786</td>\n",
       "      <td>0.181444</td>\n",
       "      <td>0.046676</td>\n",
       "    </tr>\n",
       "  </tbody>\n",
       "</table>\n",
       "</div>"
      ],
      "text/plain": [
       "        user1     user2     user3     user4     user5     user6     user7\n",
       "SCQ  0.680414  0.962250  7.536964  0.555556  7.722179  0.907218  0.233380\n",
       "SVQ  1.649830  1.520159  0.000000  1.816497  0.292555  1.816497  1.157470\n",
       "TFN  6.079802  3.197409  0.000000  5.433553  0.615342  4.479148  6.014963\n",
       "VAL  6.850512  6.490679  0.907393  6.471084  2.212095  7.231412  4.676163\n",
       "VGO  0.136083  0.192450  2.907393  0.111111  2.814786  0.181444  0.046676"
      ]
     },
     "execution_count": 11,
     "metadata": {},
     "output_type": "execute_result"
    }
   ],
   "source": [
    "matriz_interes_users = np.matmul(np.transpose(data),sim)\n",
    "matriz_interes_users"
   ]
  },
  {
   "cell_type": "code",
   "execution_count": 12,
   "metadata": {},
   "outputs": [
    {
     "data": {
      "text/plain": [
       "['VAL', 'VAL', 'SCQ', 'VAL', 'SCQ', 'VAL', 'TFN']"
      ]
     },
     "execution_count": 12,
     "metadata": {},
     "output_type": "execute_result"
    }
   ],
   "source": [
    "tops1 = [np.argmax(matriz_interes_users[cols]) for cols in matriz_interes_users.columns]\n",
    "tops1"
   ]
  },
  {
   "cell_type": "markdown",
   "metadata": {},
   "source": [
    "## Resultados:\n",
    "\n",
    "**Usuario 1:**\n",
    "Se le recomendará Valencia.\n",
    "\n",
    "**Usuario 2:**\n",
    "Se le recomendará Valencia.\n",
    "\n",
    "**Usuario 3:**\n",
    "Se le recomendará Santiago de Compostela.\n",
    "\n",
    "**Usuario 4:**\n",
    "Se le recomendará Valencia.\n",
    "\n",
    "**Usuario 5:**\n",
    "Se le recomendará Santiago de Compostela.\n",
    "\n",
    "**Usuario 6:**\n",
    "Se le recomendará Valencia\n",
    "\n",
    "**Usuario 7:**\n",
    "Se le recomendará Tenerife."
   ]
  }
 ],
 "metadata": {
  "kernelspec": {
   "display_name": "Python 3",
   "language": "python",
   "name": "python3"
  },
  "language_info": {
   "codemirror_mode": {
    "name": "ipython",
    "version": 3
   },
   "file_extension": ".py",
   "mimetype": "text/x-python",
   "name": "python",
   "nbconvert_exporter": "python",
   "pygments_lexer": "ipython3",
   "version": "3.8.5"
  }
 },
 "nbformat": 4,
 "nbformat_minor": 2
}
