{
 "cells": [
  {
   "cell_type": "code",
   "execution_count": 2,
   "metadata": {},
   "outputs": [],
   "source": [
    "# Load Libraries\n",
    "%matplotlib inline\n",
    "import numpy as np\n",
    "import matplotlib.pyplot as plt\n",
    "from scipy import stats\n",
    "import pandas as pd \n",
    "import multiprocessing\n",
    "import random\n",
    "\n",
    "\n",
    "\n",
    "\n",
    "from sklearn.model_selection import train_test_split\n",
    "import timeit"
   ]
  },
  {
   "cell_type": "markdown",
   "metadata": {},
   "source": [
    "# CALIBRATED PROBABILITIES"
   ]
  },
  {
   "cell_type": "markdown",
   "metadata": {},
   "source": [
    "Although all classification models can give you a numeric score when you call predict_proba, not all of them give you a real probability, i.e. a value between 0 a 1 that fits the real probability distribution in the data in a frequentist sense. \n",
    "\n",
    "In these cases, this numeric value can be used to *rank* predictions, and therefore AUC score will not be affected, but does not allow you to get intuition or use this numeric score directly as a probability. These numeric scores are called *non-calibrated probabilities*.\n",
    "\n",
    "Well calibrated classifiers are probabilistic classifiers for which the output of the predict_proba method can be directly interpreted as a confidence level. For instance, a well calibrated (binary) classifier should classify the samples such that among the samples to which it gave a predict_proba value close to 0.8, approximately 80% actually belong to the positive class.\n",
    "\n",
    "These numeric values can be transformed into a real probability, or something close to one, by process called *calibration*. Let's see how this works."
   ]
  },
  {
   "cell_type": "markdown",
   "metadata": {},
   "source": [
    "## Dataset"
   ]
  },
  {
   "cell_type": "markdown",
   "metadata": {},
   "source": [
    "Let's use an artifical dataset."
   ]
  },
  {
   "cell_type": "code",
   "execution_count": 3,
   "metadata": {},
   "outputs": [],
   "source": [
    "from sklearn.datasets import make_classification\n",
    "?make_classification"
   ]
  },
  {
   "cell_type": "code",
   "execution_count": 5,
   "metadata": {},
   "outputs": [],
   "source": [
    "random_state = 534\n",
    "X, y = make_classification(n_samples=1000, n_classes=2, weights=[0.2,0.8], random_state= random_state)"
   ]
  },
  {
   "cell_type": "code",
   "execution_count": 6,
   "metadata": {},
   "outputs": [],
   "source": [
    "X_train, X_test, y_train, y_test = train_test_split(X, y, test_size=0.5, random_state=2)"
   ]
  },
  {
   "cell_type": "markdown",
   "metadata": {},
   "source": [
    "\n",
    "## Non-calibrated Model\n"
   ]
  },
  {
   "cell_type": "markdown",
   "metadata": {},
   "source": [
    "### XGBoost"
   ]
  },
  {
   "cell_type": "markdown",
   "metadata": {},
   "source": [
    "Let's train a model that does not give calibrated probabilities, like XGBoost."
   ]
  },
  {
   "cell_type": "code",
   "execution_count": 7,
   "metadata": {},
   "outputs": [
    {
     "name": "stdout",
     "output_type": "stream",
     "text": [
      "[13:05:55] WARNING: ..\\src\\learner.cc:1061: Starting in XGBoost 1.3.0, the default evaluation metric used with the objective 'binary:logistic' was changed from 'error' to 'logloss'. Explicitly set eval_metric if you'd like to restore the old behavior.\n"
     ]
    },
    {
     "name": "stderr",
     "output_type": "stream",
     "text": [
      "C:\\Users\\jesus\\anaconda3\\lib\\site-packages\\xgboost\\sklearn.py:888: UserWarning: The use of label encoder in XGBClassifier is deprecated and will be removed in a future release. To remove this warning, do the following: 1) Pass option use_label_encoder=False when constructing XGBClassifier object; and 2) Encode your labels (y) as integers starting with 0, i.e. 0, 1, 2, ..., [num_class - 1].\n",
      "  warnings.warn(label_encoder_deprecation_msg, UserWarning)\n"
     ]
    },
    {
     "data": {
      "text/plain": [
       "0.9428480594751901"
      ]
     },
     "execution_count": 7,
     "metadata": {},
     "output_type": "execute_result"
    }
   ],
   "source": [
    "# 1) Import model\n",
    "from xgboost import XGBClassifier as model_constructor\n",
    "\n",
    "# 2) Import metric\n",
    "from sklearn.metrics import roc_auc_score as metric\n",
    "\n",
    "# 3) Define model\n",
    "model = model_constructor(random_state = 0)\n",
    "\n",
    "# 4) Train model\n",
    "model.fit(X_train, np.array(y_train))\n",
    "\n",
    "# 5) Predict\n",
    "pred_train_p = model.predict_proba(X_train)\n",
    "pred_test_p = model.predict_proba(X_test) \n",
    "\n",
    "# Compute metric\n",
    "AUC_test = metric(y_test, pred_test_p[:,1])\n",
    "AUC_test"
   ]
  },
  {
   "cell_type": "markdown",
   "metadata": {},
   "source": [
    "It is important to note here that XGBoost does not return real (calibrated) probabilities but simply a numerical score that allows ordering between cases with more and less probability of cancer.\n",
    "\n",
    "This can be seen in the following graph, called **calibration curve**."
   ]
  },
  {
   "cell_type": "code",
   "execution_count": 8,
   "metadata": {},
   "outputs": [],
   "source": [
    "from sklearn.calibration import calibration_curve\n",
    "?calibration_curve"
   ]
  },
  {
   "cell_type": "code",
   "execution_count": 9,
   "metadata": {},
   "outputs": [
    {
     "data": {
      "image/png": "[encoded data removed]",
      "text/plain": [
       "<Figure size 432x288 with 1 Axes>"
      ]
     },
     "metadata": {
      "needs_background": "light"
     },
     "output_type": "display_data"
    }
   ],
   "source": [
    "# reliability diagram\n",
    "fop, mpv = calibration_curve(y_test, pred_test_p[:, 1], n_bins=10)\n",
    "# plot perfectly calibrated\n",
    "plt.plot([0, 1], [0, 1], linestyle='--')\n",
    "# plot model reliability\n",
    "plt.plot(mpv, fop, marker='.')\n",
    "plt.show()"
   ]
  },
  {
   "cell_type": "markdown",
   "metadata": {},
   "source": [
    "Blue dashed line is the expected line for a calibrated probability. We can see that XGboost probabilites are not well calibrated."
   ]
  },
  {
   "cell_type": "markdown",
   "metadata": {},
   "source": [
    "Let's try other models."
   ]
  },
  {
   "cell_type": "markdown",
   "metadata": {},
   "source": [
    "### SVM"
   ]
  },
  {
   "cell_type": "code",
   "execution_count": 10,
   "metadata": {},
   "outputs": [
    {
     "data": {
      "text/plain": [
       "0.9403536230466363"
      ]
     },
     "execution_count": 10,
     "metadata": {},
     "output_type": "execute_result"
    }
   ],
   "source": [
    "# 1) Import model\n",
    "from sklearn.svm import SVC as model_constructor\n",
    "\n",
    "# 2) Import metric\n",
    "from sklearn.metrics import roc_auc_score as metric\n",
    "\n",
    "# 3) Define model\n",
    "model = model_constructor(random_state = 0,\n",
    "                          probability = True)\n",
    "\n",
    "# 4) Train model\n",
    "model.fit(X_train, np.array(y_train))\n",
    "\n",
    "# 5) Predict\n",
    "pred_train_p = model.predict_proba(X_train)\n",
    "pred_test_p = model.predict_proba(X_test) \n",
    "\n",
    "# Compute metric\n",
    "AUC_test = metric(y_test, pred_test_p[:,1])\n",
    "AUC_test"
   ]
  },
  {
   "cell_type": "code",
   "execution_count": 11,
   "metadata": {
    "scrolled": false
   },
   "outputs": [
    {
     "data": {
      "image/png": "[encoded data removed]",
      "text/plain": [
       "<Figure size 432x288 with 1 Axes>"
      ]
     },
     "metadata": {
      "needs_background": "light"
     },
     "output_type": "display_data"
    }
   ],
   "source": [
    "# reliability diagram\n",
    "fop, mpv = calibration_curve(y_test, pred_test_p[:, 1], n_bins=10)\n",
    "# plot perfectly calibrated\n",
    "plt.plot([0, 1], [0, 1], linestyle='--')\n",
    "# plot model reliability\n",
    "plt.plot(mpv, fop, marker='.')\n",
    "plt.show()"
   ]
  },
  {
   "cell_type": "markdown",
   "metadata": {},
   "source": [
    "### Random Forest"
   ]
  },
  {
   "cell_type": "code",
   "execution_count": 12,
   "metadata": {},
   "outputs": [
    {
     "data": {
      "text/plain": [
       "0.9174390452666846"
      ]
     },
     "execution_count": 12,
     "metadata": {},
     "output_type": "execute_result"
    }
   ],
   "source": [
    "# 1) Import model\n",
    "from sklearn.ensemble import RandomForestClassifier as model_constructor\n",
    "\n",
    "# 2) Import metric\n",
    "from sklearn.metrics import roc_auc_score as metric\n",
    "\n",
    "# 3) Define model\n",
    "model = model_constructor(random_state = 0)\n",
    "\n",
    "# 4) Train model\n",
    "model.fit(X_train, np.array(y_train))\n",
    "\n",
    "# 5) Predict\n",
    "pred_train_p = model.predict_proba(X_train)\n",
    "pred_test_p = model.predict_proba(X_test) \n",
    "\n",
    "# Compute metric\n",
    "AUC_test = metric(y_test, pred_test_p[:,1])\n",
    "AUC_test"
   ]
  },
  {
   "cell_type": "code",
   "execution_count": 13,
   "metadata": {
    "scrolled": false
   },
   "outputs": [
    {
     "data": {
      "image/png": "[encoded data removed]",
      "text/plain": [
       "<Figure size 432x288 with 1 Axes>"
      ]
     },
     "metadata": {
      "needs_background": "light"
     },
     "output_type": "display_data"
    }
   ],
   "source": [
    "# reliability diagram\n",
    "fop, mpv = calibration_curve(y_test, pred_test_p[:, 1], n_bins=10)\n",
    "# plot perfectly calibrated\n",
    "plt.plot([0, 1], [0, 1], linestyle='--')\n",
    "# plot model reliability\n",
    "plt.plot(mpv, fop, marker='.')\n",
    "plt.show()"
   ]
  },
  {
   "cell_type": "markdown",
   "metadata": {},
   "source": [
    "### Decision Tree"
   ]
  },
  {
   "cell_type": "code",
   "execution_count": 14,
   "metadata": {},
   "outputs": [
    {
     "data": {
      "text/plain": [
       "0.7766745738671099"
      ]
     },
     "execution_count": 14,
     "metadata": {},
     "output_type": "execute_result"
    }
   ],
   "source": [
    "# 1) Import model\n",
    "from sklearn.tree import DecisionTreeClassifier as model_constructor\n",
    "\n",
    "# 2) Import metric\n",
    "from sklearn.metrics import roc_auc_score as metric\n",
    "\n",
    "# 3) Define model\n",
    "model = model_constructor(random_state = 0)\n",
    "\n",
    "# 4) Train model\n",
    "model.fit(X_train, np.array(y_train))\n",
    "\n",
    "# 5) Predict\n",
    "pred_train_p = model.predict_proba(X_train)\n",
    "pred_test_p = model.predict_proba(X_test) \n",
    "\n",
    "# Compute metric\n",
    "AUC_test = metric(y_test, pred_test_p[:,1])\n",
    "AUC_test"
   ]
  },
  {
   "cell_type": "code",
   "execution_count": 13,
   "metadata": {
    "scrolled": false
   },
   "outputs": [
    {
     "data": {
      "image/png": "[encoded data removed]",
      "text/plain": [
       "<Figure size 432x288 with 1 Axes>"
      ]
     },
     "metadata": {
      "needs_background": "light"
     },
     "output_type": "display_data"
    }
   ],
   "source": [
    "# reliability diagram\n",
    "fop, mpv = calibration_curve(y_test, pred_test_p[:, 1], n_bins=10)\n",
    "# plot perfectly calibrated\n",
    "plt.plot([0, 1], [0, 1], linestyle='--')\n",
    "# plot model reliability\n",
    "plt.plot(mpv, fop, marker='.')\n",
    "plt.show()"
   ]
  },
  {
   "cell_type": "markdown",
   "metadata": {},
   "source": [
    "Decision tree give a better calibrated probability. Why?"
   ]
  },
  {
   "cell_type": "markdown",
   "metadata": {},
   "source": [
    "## Calibrate Probabilities"
   ]
  },
  {
   "cell_type": "markdown",
   "metadata": {},
   "source": [
    "Let's try to calibrate our XGBoost predictions. For that we will use the CalibratedClassifierCV method."
   ]
  },
  {
   "cell_type": "code",
   "execution_count": 15,
   "metadata": {},
   "outputs": [],
   "source": [
    "from sklearn.calibration import CalibratedClassifierCV\n",
    "?CalibratedClassifierCV"
   ]
  },
  {
   "cell_type": "markdown",
   "metadata": {},
   "source": [
    "Original model."
   ]
  },
  {
   "cell_type": "code",
   "execution_count": 23,
   "metadata": {},
   "outputs": [],
   "source": [
    "# 1) Import model\n",
    "from sklearn.svm import SVC as model_constructor\n",
    "\n",
    "# 2) Import metric\n",
    "from sklearn.metrics import roc_auc_score as metric\n",
    "\n",
    "# 3) Define model\n",
    "model = model_constructor(probability = True,\n",
    "                          random_state = 0)\n",
    "\n",
    "# 4) Train model\n",
    "model.fit(X_train, np.array(y_train))\n",
    "\n",
    "# 5) Predict\n",
    "pred_train_p = model.predict_proba(X_train)\n",
    "pred_test_p = model.predict_proba(X_test) \n",
    "\n",
    "# Compute metric\n",
    "AUC_test = metric(y_test, pred_test_p[:,1])"
   ]
  },
  {
   "cell_type": "markdown",
   "metadata": {},
   "source": [
    "Calibrated model."
   ]
  },
  {
   "cell_type": "code",
   "execution_count": null,
   "metadata": {},
   "outputs": [],
   "source": [
    "?CalibratedClassifierCV"
   ]
  },
  {
   "cell_type": "code",
   "execution_count": 24,
   "metadata": {},
   "outputs": [],
   "source": [
    "# 3) Define model \n",
    "calibrated_model = CalibratedClassifierCV(model_constructor(probability = True,\n",
    "                                                            random_state = 0),\n",
    "                                          method = 'isotonic', \n",
    "                                          cv=5)\n",
    "\n",
    "# 4) Train model\n",
    "calibrated_model.fit(X_train, np.array(y_train))\n",
    "\n",
    "# 5) Predict\n",
    "pred_train_p_calibrated = calibrated_model.predict_proba(X_train)\n",
    "pred_test_p_calibrated = calibrated_model.predict_proba(X_test) \n",
    "\n",
    "# Compute metric\n",
    "AUC_test_calibrated = metric(y_test, pred_test_p_calibrated[:,1])"
   ]
  },
  {
   "cell_type": "markdown",
   "metadata": {},
   "source": [
    "Auc shouldn't significantly change."
   ]
  },
  {
   "cell_type": "code",
   "execution_count": 25,
   "metadata": {},
   "outputs": [
    {
     "name": "stdout",
     "output_type": "stream",
     "text": [
      "Original model  AUC = 0.94 - Calibrated model AUC = 0.93\n"
     ]
    }
   ],
   "source": [
    "print('Original model  AUC = %.2f - Calibrated model AUC = %.2f' % (AUC_test, AUC_test_calibrated))"
   ]
  },
  {
   "cell_type": "markdown",
   "metadata": {},
   "source": [
    "Let's compare calibration curves"
   ]
  },
  {
   "cell_type": "code",
   "execution_count": 26,
   "metadata": {},
   "outputs": [
    {
     "data": {
      "image/png": "[encoded data removed]",
      "text/plain": [
       "<Figure size 432x288 with 1 Axes>"
      ]
     },
     "metadata": {
      "needs_background": "light"
     },
     "output_type": "display_data"
    }
   ],
   "source": [
    "# reliability diagram\n",
    "fop, mpv = calibration_curve(y_test, pred_test_p[:, 1], n_bins=5)\n",
    "fop_calibrated, mpv_calibrated = calibration_curve(y_test, pred_test_p_calibrated[:, 1], n_bins=5)\n",
    "\n",
    "# plot perfectly calibrated\n",
    "plt.plot([0, 1], [0, 1], linestyle='--')\n",
    "\n",
    "# plot model reliability\n",
    "plt.plot(mpv, fop, c = \"red\", marker='.')\n",
    "plt.plot(mpv_calibrated, fop_calibrated, c = \"blue\", marker='.')\n",
    "plt.show()"
   ]
  },
  {
   "cell_type": "code",
   "execution_count": null,
   "metadata": {},
   "outputs": [],
   "source": []
  }
 ],
 "metadata": {
  "kernelspec": {
   "display_name": "Python 3",
   "language": "python",
   "name": "python3"
  },
  "language_info": {
   "codemirror_mode": {
    "name": "ipython",
    "version": 3
   },
   "file_extension": ".py",
   "mimetype": "text/x-python",
   "name": "python",
   "nbconvert_exporter": "python",
   "pygments_lexer": "ipython3",
   "version": "3.8.5"
  }
 },
 "nbformat": 4,
 "nbformat_minor": 2
}
