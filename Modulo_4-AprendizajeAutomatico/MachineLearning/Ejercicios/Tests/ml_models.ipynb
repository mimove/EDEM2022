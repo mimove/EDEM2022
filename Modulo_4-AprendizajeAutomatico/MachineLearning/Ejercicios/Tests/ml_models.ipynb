{
 "cells": [
  {
   "cell_type": "code",
   "execution_count": 8,
   "metadata": {},
   "outputs": [
    {
     "name": "stdout",
     "output_type": "stream",
     "text": [
      "['versicolor' 'setosa' 'virginica' 'versicolor' 'versicolor']\n",
      "[[0.         1.         0.        ]\n",
      " [1.         0.         0.        ]\n",
      " [0.         0.         1.        ]\n",
      " [0.         1.         0.        ]\n",
      " [0.         1.         0.        ]\n",
      " [1.         0.         0.        ]\n",
      " [0.         1.         0.        ]\n",
      " [0.         0.         1.        ]\n",
      " [0.         0.66666667 0.33333333]\n",
      " [0.         1.         0.        ]\n",
      " [0.         0.33333333 0.66666667]\n",
      " [1.         0.         0.        ]\n",
      " [1.         0.         0.        ]\n",
      " [1.         0.         0.        ]\n",
      " [1.         0.         0.        ]\n",
      " [0.         1.         0.        ]\n",
      " [0.         0.         1.        ]\n",
      " [0.         1.         0.        ]\n",
      " [0.         1.         0.        ]\n",
      " [0.         0.         1.        ]\n",
      " [1.         0.         0.        ]\n",
      " [0.         0.         1.        ]\n",
      " [1.         0.         0.        ]\n",
      " [0.         0.         1.        ]\n",
      " [0.         0.         1.        ]\n",
      " [0.         0.         1.        ]\n",
      " [0.         0.         1.        ]\n",
      " [0.         0.         1.        ]\n",
      " [1.         0.         0.        ]\n",
      " [1.         0.         0.        ]]\n"
     ]
    },
    {
     "data": {
      "text/plain": [
       "1.0"
      ]
     },
     "execution_count": 8,
     "metadata": {},
     "output_type": "execute_result"
    }
   ],
   "source": [
    "# Quiero usar el modelo knn para clasificar una clase de flores de iris. ¿Cómo puedo hacerlo?\n",
    "\n",
    "import pandas as pd\n",
    "from sklearn.neighbors import KNeighborsClassifier\n",
    "from sklearn.model_selection import train_test_split\n",
    "from sklearn.metrics import accuracy_score\n",
    "\n",
    "# Cargamos el dataset\n",
    "iris = pd.read_csv('https://raw.githubusercontent.com/mwaskom/seaborn-data/master/iris.csv')\n",
    "\n",
    "# Separamos los datos en X e y\n",
    "X = iris.drop('species', axis=1)\n",
    "\n",
    "y = iris['species']\n",
    "\n",
    "# Dividimos los datos en train y test\n",
    "\n",
    "X_train, X_test, y_train, y_test = train_test_split(X, y, test_size=0.2, random_state=42)\n",
    "\n",
    "# Creamos el modelo\n",
    "knn = KNeighborsClassifier(n_neighbors=3)\n",
    "\n",
    "# Entrenamos el modelo\n",
    "knn.fit(X_train, y_train)\n",
    "\n",
    "# Hacemos predicciones\n",
    "y_pred = knn.predict(X_test)\n",
    "\n",
    "print(y_pred[0:5])\n",
    "\n",
    "print(knn.predict_proba(X_test))\n",
    "\n",
    "# Calculamos la precisión\n",
    "accuracy_score(y_test, y_pred)\n",
    "\n",
    "# 0.9666666666666667"
   ]
  }
 ],
 "metadata": {
  "kernelspec": {
   "display_name": "Python 3.10.9 64-bit",
   "language": "python",
   "name": "python3"
  },
  "language_info": {
   "codemirror_mode": {
    "name": "ipython",
    "version": 3
   },
   "file_extension": ".py",
   "mimetype": "text/x-python",
   "name": "python",
   "nbconvert_exporter": "python",
   "pygments_lexer": "ipython3",
   "version": "3.10.9"
  },
  "orig_nbformat": 4,
  "vscode": {
   "interpreter": {
    "hash": "610c699f0cd8c4f129acd9140687fff6866bed0eb8e82f249fc8848b827b628c"
   }
  }
 },
 "nbformat": 4,
 "nbformat_minor": 2
}
