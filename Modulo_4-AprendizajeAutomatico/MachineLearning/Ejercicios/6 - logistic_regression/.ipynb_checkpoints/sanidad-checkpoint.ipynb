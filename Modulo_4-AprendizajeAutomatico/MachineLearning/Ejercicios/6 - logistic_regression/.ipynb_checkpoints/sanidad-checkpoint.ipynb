{
 "cells": [
  {
   "cell_type": "markdown",
   "metadata": {},
   "source": [
    "# Predicción de Exitus (fallecimiento) con Logistic Regression"
   ]
  },
  {
   "cell_type": "code",
   "execution_count": 1,
   "metadata": {
    "collapsed": true
   },
   "outputs": [],
   "source": [
    "# Load Libraries\n",
    "%matplotlib inline\n",
    "import numpy as np\n",
    "import matplotlib.pyplot as plt\n",
    "from scipy import stats\n",
    "import pandas as pd \n",
    "\n",
    "\n",
    "from sklearn.preprocessing import scale\n",
    "from sklearn.preprocessing import OneHotEncoder\n",
    "import timeit"
   ]
  },
  {
   "cell_type": "markdown",
   "metadata": {},
   "source": [
    "## Dataset"
   ]
  },
  {
   "cell_type": "markdown",
   "metadata": {},
   "source": [
    "Leamos el dataset a utilizar."
   ]
  },
  {
   "cell_type": "code",
   "execution_count": 2,
   "metadata": {},
   "outputs": [
    {
     "data": {
      "text/plain": [
       "(32706, 11)"
      ]
     },
     "execution_count": 2,
     "metadata": {},
     "output_type": "execute_result"
    }
   ],
   "source": [
    "# Load the dataset \n",
    "X = pd.read_csv(\"./datasets/dat_sanidad.csv\", sep=';', decimal=',', encoding='latin-1')\n",
    "X.shape"
   ]
  },
  {
   "cell_type": "markdown",
   "metadata": {},
   "source": [
    "El dataset consta de:\n",
    "\n",
    "- 32706 **filas** o instancias\n",
    "- 12 **columnas** o variables.\n",
    "\n",
    "Veamos su contenido."
   ]
  },
  {
   "cell_type": "code",
   "execution_count": 3,
   "metadata": {},
   "outputs": [
    {
     "data": {
      "text/html": [
       "<div>\n",
       "<style>\n",
       "    .dataframe thead tr:only-child th {\n",
       "        text-align: right;\n",
       "    }\n",
       "\n",
       "    .dataframe thead th {\n",
       "        text-align: left;\n",
       "    }\n",
       "\n",
       "    .dataframe tbody tr th {\n",
       "        vertical-align: top;\n",
       "    }\n",
       "</style>\n",
       "<table border=\"1\" class=\"dataframe\">\n",
       "  <thead>\n",
       "    <tr style=\"text-align: right;\">\n",
       "      <th></th>\n",
       "      <th>des_grd</th>\n",
       "      <th>gravedad</th>\n",
       "      <th>pct_mortalidad_norma</th>\n",
       "      <th>edad_dias</th>\n",
       "      <th>numproc</th>\n",
       "      <th>potencial_ambul</th>\n",
       "      <th>proc</th>\n",
       "      <th>estancia_esperada</th>\n",
       "      <th>tipgrd</th>\n",
       "      <th>tiping</th>\n",
       "      <th>exitus</th>\n",
       "    </tr>\n",
       "  </thead>\n",
       "  <tbody>\n",
       "    <tr>\n",
       "      <th>0</th>\n",
       "      <td>TRAQUEOSTOMÍA CON VM 96+ HORAS SIN PROCEDIMIEN...</td>\n",
       "      <td>4</td>\n",
       "      <td>0.408730</td>\n",
       "      <td>12596</td>\n",
       "      <td>21</td>\n",
       "      <td>0</td>\n",
       "      <td>1</td>\n",
       "      <td>151</td>\n",
       "      <td>Q</td>\n",
       "      <td>1</td>\n",
       "      <td>0</td>\n",
       "    </tr>\n",
       "    <tr>\n",
       "      <th>1</th>\n",
       "      <td>PROCEDIMIENTOS MAYORES SOBRE INTESTINO DELGADO</td>\n",
       "      <td>4</td>\n",
       "      <td>0.306931</td>\n",
       "      <td>20973</td>\n",
       "      <td>22</td>\n",
       "      <td>0</td>\n",
       "      <td>1</td>\n",
       "      <td>99</td>\n",
       "      <td>Q</td>\n",
       "      <td>1</td>\n",
       "      <td>0</td>\n",
       "    </tr>\n",
       "    <tr>\n",
       "      <th>2</th>\n",
       "      <td>OTROS PROCEDIMIENTOS SOBRE APARATO RESPIRATORIO</td>\n",
       "      <td>4</td>\n",
       "      <td>0.278481</td>\n",
       "      <td>19611</td>\n",
       "      <td>19</td>\n",
       "      <td>0</td>\n",
       "      <td>1</td>\n",
       "      <td>87</td>\n",
       "      <td>Q</td>\n",
       "      <td>1</td>\n",
       "      <td>0</td>\n",
       "    </tr>\n",
       "    <tr>\n",
       "      <th>3</th>\n",
       "      <td>ENFERMEDADES INFECCIOSAS Y PARASITOSIS INCLUYE...</td>\n",
       "      <td>3</td>\n",
       "      <td>0.150289</td>\n",
       "      <td>13583</td>\n",
       "      <td>22</td>\n",
       "      <td>0</td>\n",
       "      <td>1</td>\n",
       "      <td>100</td>\n",
       "      <td>Q</td>\n",
       "      <td>1</td>\n",
       "      <td>0</td>\n",
       "    </tr>\n",
       "    <tr>\n",
       "      <th>4</th>\n",
       "      <td>REPARACIÓN DE FRACTURA DE CADERA Y FÉMUR</td>\n",
       "      <td>1</td>\n",
       "      <td>0.016573</td>\n",
       "      <td>18042</td>\n",
       "      <td>2</td>\n",
       "      <td>0</td>\n",
       "      <td>1</td>\n",
       "      <td>44</td>\n",
       "      <td>Q</td>\n",
       "      <td>1</td>\n",
       "      <td>0</td>\n",
       "    </tr>\n",
       "  </tbody>\n",
       "</table>\n",
       "</div>"
      ],
      "text/plain": [
       "                                             des_grd  gravedad  \\\n",
       "0  TRAQUEOSTOMÍA CON VM 96+ HORAS SIN PROCEDIMIEN...         4   \n",
       "1     PROCEDIMIENTOS MAYORES SOBRE INTESTINO DELGADO         4   \n",
       "2    OTROS PROCEDIMIENTOS SOBRE APARATO RESPIRATORIO         4   \n",
       "3  ENFERMEDADES INFECCIOSAS Y PARASITOSIS INCLUYE...         3   \n",
       "4           REPARACIÓN DE FRACTURA DE CADERA Y FÉMUR         1   \n",
       "\n",
       "   pct_mortalidad_norma  edad_dias  numproc  potencial_ambul  proc  \\\n",
       "0              0.408730      12596       21                0     1   \n",
       "1              0.306931      20973       22                0     1   \n",
       "2              0.278481      19611       19                0     1   \n",
       "3              0.150289      13583       22                0     1   \n",
       "4              0.016573      18042        2                0     1   \n",
       "\n",
       "   estancia_esperada tipgrd  tiping  exitus  \n",
       "0                151      Q       1       0  \n",
       "1                 99      Q       1       0  \n",
       "2                 87      Q       1       0  \n",
       "3                100      Q       1       0  \n",
       "4                 44      Q       1       0  "
      ]
     },
     "execution_count": 3,
     "metadata": {},
     "output_type": "execute_result"
    }
   ],
   "source": [
    "X.head()"
   ]
  },
  {
   "cell_type": "markdown",
   "metadata": {},
   "source": [
    "- **des_grd**: Descripción del Grupo Relacionado por el Diagnóstico, GRD. Basado en diagnósticos y procedimientos del paciente.\n",
    "\n",
    "- **gravedad**: Gravedad dentro del GRD. Valores de 1 a 4.\n",
    "\n",
    "- **pct_mortalidad_norma**: Tasa de mortalidad histórica para ese GRD.\n",
    "        \n",
    "- **edad_dias**: Edad en días del paciente.\n",
    "\n",
    "- **numproc**: Número de procedimientos que se han llevado a cabo al paciente a las 24 horas.\n",
    "    \n",
    "- **potencial_ambul**: Flag (valor 0 = no / 1 = sí) que indica si el caso se ha catalogado como potencialmente ambulatorio, es decir, no requiere ingreso.\n",
    "    \n",
    "- **proc**: Procedencia del paciente.\n",
    "\n",
    "- **estancia_esperada**: Número de días que se espera que el paciente esté ingresado en el hospital por este episodio asistencial.\n",
    "\n",
    "- **tipgrd**: GRD médico (M) o de quirófano (Q).\n",
    "    \n",
    "- **tiping**: Tipo de ingreso: Programado, urgente...\n",
    "    \n",
    "- **exitus**: 1 = El paciente falleció.\n",
    "\n",
    "De estas variables, fecing la usaremos para realizar el split en train/validacion/test, exitus es el target y las 10 variables restantes serán el input de nuestro modelo."
   ]
  },
  {
   "cell_type": "markdown",
   "metadata": {},
   "source": [
    "Veamos cuántos casos de exitus tenemos en porcentaje."
   ]
  },
  {
   "cell_type": "code",
   "execution_count": 4,
   "metadata": {},
   "outputs": [
    {
     "data": {
      "text/plain": [
       "3.8402739558490797"
      ]
     },
     "execution_count": 4,
     "metadata": {},
     "output_type": "execute_result"
    }
   ],
   "source": [
    "100 * np.sum(X['exitus'] == 1) / X.shape[0]"
   ]
  },
  {
   "cell_type": "markdown",
   "metadata": {},
   "source": [
    "Estamos por tanto, en un caso de problema de clasificación binario desbalanceado (muchos menos 1s que 0s)"
   ]
  },
  {
   "cell_type": "markdown",
   "metadata": {},
   "source": [
    "## One-Hot Encoding"
   ]
  },
  {
   "cell_type": "markdown",
   "metadata": {},
   "source": [
    "Veamos el tipo de variable de cada una de las columnas de nuestro dataset."
   ]
  },
  {
   "cell_type": "code",
   "execution_count": 5,
   "metadata": {},
   "outputs": [
    {
     "data": {
      "text/plain": [
       "des_grd                  object\n",
       "gravedad                  int64\n",
       "pct_mortalidad_norma    float64\n",
       "edad_dias                 int64\n",
       "numproc                   int64\n",
       "potencial_ambul           int64\n",
       "proc                      int64\n",
       "estancia_esperada         int64\n",
       "tipgrd                   object\n",
       "tiping                    int64\n",
       "exitus                    int64\n",
       "dtype: object"
      ]
     },
     "execution_count": 5,
     "metadata": {},
     "output_type": "execute_result"
    }
   ],
   "source": [
    "X.dtypes"
   ]
  },
  {
   "cell_type": "markdown",
   "metadata": {},
   "source": [
    "Tenemos por tanto dos variables categóricas: des_grd y typgrd.\n",
    "\n",
    "Los modelos de logistic regression no admiten variables categóricas, por lo que tendremos que transformarlas a variables numéricas. Para ello utilizaremos la técnica de one-hot encoding.\n",
    "\n",
    "<img src=\"figures/oh.png\" width=\"50%\">"
   ]
  },
  {
   "cell_type": "markdown",
   "metadata": {},
   "source": [
    "Seleccionemos las variables categóricas en primer lugar."
   ]
  },
  {
   "cell_type": "code",
   "execution_count": 6,
   "metadata": {
    "collapsed": true
   },
   "outputs": [],
   "source": [
    "categorical_vars = set(X.columns[X.dtypes == object])\n",
    "numerical_vars = set(X.columns) - categorical_vars\n",
    "categorical_vars = list(categorical_vars)\n",
    "numerical_vars = list(numerical_vars)"
   ]
  },
  {
   "cell_type": "code",
   "execution_count": 7,
   "metadata": {},
   "outputs": [
    {
     "name": "stdout",
     "output_type": "stream",
     "text": [
      "['tipgrd', 'des_grd']\n",
      "['potencial_ambul', 'pct_mortalidad_norma', 'tiping', 'estancia_esperada', 'proc', 'gravedad', 'exitus', 'numproc', 'edad_dias']\n"
     ]
    }
   ],
   "source": [
    "print(categorical_vars)\n",
    "print(numerical_vars)"
   ]
  },
  {
   "cell_type": "markdown",
   "metadata": {},
   "source": [
    "Realizamos one hot encoding de las variables categoricas"
   ]
  },
  {
   "cell_type": "code",
   "execution_count": 8,
   "metadata": {
    "collapsed": true
   },
   "outputs": [],
   "source": [
    "ohe = OneHotEncoder(sparse = False)\n",
    "ohe_fit = ohe.fit(X[categorical_vars])\n",
    "X_ohe = pd.DataFrame(ohe.fit_transform(X[categorical_vars]))\n",
    "X_ohe.columns = pd.DataFrame(ohe_fit.get_feature_names())\n"
   ]
  },
  {
   "cell_type": "markdown",
   "metadata": {},
   "source": [
    "Visualizamos los datos iniciales y los que están con one hot encoding para ver la diferencia"
   ]
  },
  {
   "cell_type": "code",
   "execution_count": 9,
   "metadata": {},
   "outputs": [
    {
     "data": {
      "text/html": [
       "<div>\n",
       "<style>\n",
       "    .dataframe thead tr:only-child th {\n",
       "        text-align: right;\n",
       "    }\n",
       "\n",
       "    .dataframe thead th {\n",
       "        text-align: left;\n",
       "    }\n",
       "\n",
       "    .dataframe tbody tr th {\n",
       "        vertical-align: top;\n",
       "    }\n",
       "</style>\n",
       "<table border=\"1\" class=\"dataframe\">\n",
       "  <thead>\n",
       "    <tr style=\"text-align: right;\">\n",
       "      <th></th>\n",
       "      <th>tipgrd</th>\n",
       "      <th>des_grd</th>\n",
       "    </tr>\n",
       "  </thead>\n",
       "  <tbody>\n",
       "    <tr>\n",
       "      <th>0</th>\n",
       "      <td>Q</td>\n",
       "      <td>TRAQUEOSTOMÍA CON VM 96+ HORAS SIN PROCEDIMIEN...</td>\n",
       "    </tr>\n",
       "    <tr>\n",
       "      <th>1</th>\n",
       "      <td>Q</td>\n",
       "      <td>PROCEDIMIENTOS MAYORES SOBRE INTESTINO DELGADO</td>\n",
       "    </tr>\n",
       "    <tr>\n",
       "      <th>2</th>\n",
       "      <td>Q</td>\n",
       "      <td>OTROS PROCEDIMIENTOS SOBRE APARATO RESPIRATORIO</td>\n",
       "    </tr>\n",
       "    <tr>\n",
       "      <th>3</th>\n",
       "      <td>Q</td>\n",
       "      <td>ENFERMEDADES INFECCIOSAS Y PARASITOSIS INCLUYE...</td>\n",
       "    </tr>\n",
       "    <tr>\n",
       "      <th>4</th>\n",
       "      <td>Q</td>\n",
       "      <td>REPARACIÓN DE FRACTURA DE CADERA Y FÉMUR</td>\n",
       "    </tr>\n",
       "  </tbody>\n",
       "</table>\n",
       "</div>"
      ],
      "text/plain": [
       "  tipgrd                                            des_grd\n",
       "0      Q  TRAQUEOSTOMÍA CON VM 96+ HORAS SIN PROCEDIMIEN...\n",
       "1      Q     PROCEDIMIENTOS MAYORES SOBRE INTESTINO DELGADO\n",
       "2      Q    OTROS PROCEDIMIENTOS SOBRE APARATO RESPIRATORIO\n",
       "3      Q  ENFERMEDADES INFECCIOSAS Y PARASITOSIS INCLUYE...\n",
       "4      Q           REPARACIÓN DE FRACTURA DE CADERA Y FÉMUR"
      ]
     },
     "execution_count": 9,
     "metadata": {},
     "output_type": "execute_result"
    }
   ],
   "source": [
    "X[categorical_vars].head()"
   ]
  },
  {
   "cell_type": "code",
   "execution_count": 10,
   "metadata": {},
   "outputs": [
    {
     "data": {
      "text/html": [
       "<div>\n",
       "<style>\n",
       "    .dataframe thead tr:only-child th {\n",
       "        text-align: right;\n",
       "    }\n",
       "\n",
       "    .dataframe thead th {\n",
       "        text-align: left;\n",
       "    }\n",
       "\n",
       "    .dataframe tbody tr th {\n",
       "        vertical-align: top;\n",
       "    }\n",
       "</style>\n",
       "<table border=\"1\" class=\"dataframe\">\n",
       "  <thead>\n",
       "    <tr style=\"text-align: right;\">\n",
       "      <th></th>\n",
       "      <th>(x0_M,)</th>\n",
       "      <th>(x0_Q,)</th>\n",
       "      <th>(x1_ABORTO SIN DILATACIÓN Y LEGRADO, ASPIRACIÓN O HISTEROTOMÍA,)</th>\n",
       "      <th>(x1_ABUSO O DEPENDENCIA DE ALCOHOL,)</th>\n",
       "      <th>(x1_ABUSO O DEPENDENCIA DE COCAÍNA,)</th>\n",
       "      <th>(x1_ABUSO O DEPENDENCIA DE DROGAS Y ALCOHOL, ALTA VOLUNTARIA,)</th>\n",
       "      <th>(x1_ABUSO O DEPENDENCIA DE OPIÁCEOS,)</th>\n",
       "      <th>(x1_ABUSO O DEPENDENCIA DE OTRAS DROGAS,)</th>\n",
       "      <th>(x1_ACCIDENTE ISQUÉMICO TRANSITORIO,)</th>\n",
       "      <th>(x1_ACVA NO ESPECÍFICO Y OCLUSIONES PRECEREBRALES  SIN INFARTO,)</th>\n",
       "      <th>...</th>\n",
       "      <th>(x1_TRASTORNOS Y LESIONES ESPINALES,)</th>\n",
       "      <th>(x1_TRAUMA SIGNIFICATIVO MÚLTIPLE SIN PROCEDIMIENTO QUIRÚRGICO,)</th>\n",
       "      <th>(x1_TRAUMATISMO CRANEAL CON COMA &gt;1H O HEMORRAGIA,)</th>\n",
       "      <th>(x1_TRAUMATISMOS SOBRE PIEL, TEJIDO SUBCUTÁNEO Y HERIDA ABIERTA,)</th>\n",
       "      <th>(x1_TRAUMATISMOS TORÁCICOS PRINCIPALES,)</th>\n",
       "      <th>(x1_ULCERA PÉPTICA Y GASTRITIS,)</th>\n",
       "      <th>(x1_ULCERAS CUTÁNEAS,)</th>\n",
       "      <th>(x1_VIH CON CONDICIONES MAYORES RELACIONADAS CON VIH,)</th>\n",
       "      <th>(x1_VIH CON MÚLTIPLES CONDICIONES MAYORES  RELACIONADAS CON VIH,)</th>\n",
       "      <th>(x1_VIH CON UNA CONDICIÓN SIGNIFICATIVA VIH O SIN CONDICIÓN SIGNIFICATIVA RELACIONADA,)</th>\n",
       "    </tr>\n",
       "  </thead>\n",
       "  <tbody>\n",
       "    <tr>\n",
       "      <th>0</th>\n",
       "      <td>0.0</td>\n",
       "      <td>1.0</td>\n",
       "      <td>0.0</td>\n",
       "      <td>0.0</td>\n",
       "      <td>0.0</td>\n",
       "      <td>0.0</td>\n",
       "      <td>0.0</td>\n",
       "      <td>0.0</td>\n",
       "      <td>0.0</td>\n",
       "      <td>0.0</td>\n",
       "      <td>...</td>\n",
       "      <td>0.0</td>\n",
       "      <td>0.0</td>\n",
       "      <td>0.0</td>\n",
       "      <td>0.0</td>\n",
       "      <td>0.0</td>\n",
       "      <td>0.0</td>\n",
       "      <td>0.0</td>\n",
       "      <td>0.0</td>\n",
       "      <td>0.0</td>\n",
       "      <td>0.0</td>\n",
       "    </tr>\n",
       "    <tr>\n",
       "      <th>1</th>\n",
       "      <td>0.0</td>\n",
       "      <td>1.0</td>\n",
       "      <td>0.0</td>\n",
       "      <td>0.0</td>\n",
       "      <td>0.0</td>\n",
       "      <td>0.0</td>\n",
       "      <td>0.0</td>\n",
       "      <td>0.0</td>\n",
       "      <td>0.0</td>\n",
       "      <td>0.0</td>\n",
       "      <td>...</td>\n",
       "      <td>0.0</td>\n",
       "      <td>0.0</td>\n",
       "      <td>0.0</td>\n",
       "      <td>0.0</td>\n",
       "      <td>0.0</td>\n",
       "      <td>0.0</td>\n",
       "      <td>0.0</td>\n",
       "      <td>0.0</td>\n",
       "      <td>0.0</td>\n",
       "      <td>0.0</td>\n",
       "    </tr>\n",
       "    <tr>\n",
       "      <th>2</th>\n",
       "      <td>0.0</td>\n",
       "      <td>1.0</td>\n",
       "      <td>0.0</td>\n",
       "      <td>0.0</td>\n",
       "      <td>0.0</td>\n",
       "      <td>0.0</td>\n",
       "      <td>0.0</td>\n",
       "      <td>0.0</td>\n",
       "      <td>0.0</td>\n",
       "      <td>0.0</td>\n",
       "      <td>...</td>\n",
       "      <td>0.0</td>\n",
       "      <td>0.0</td>\n",
       "      <td>0.0</td>\n",
       "      <td>0.0</td>\n",
       "      <td>0.0</td>\n",
       "      <td>0.0</td>\n",
       "      <td>0.0</td>\n",
       "      <td>0.0</td>\n",
       "      <td>0.0</td>\n",
       "      <td>0.0</td>\n",
       "    </tr>\n",
       "    <tr>\n",
       "      <th>3</th>\n",
       "      <td>0.0</td>\n",
       "      <td>1.0</td>\n",
       "      <td>0.0</td>\n",
       "      <td>0.0</td>\n",
       "      <td>0.0</td>\n",
       "      <td>0.0</td>\n",
       "      <td>0.0</td>\n",
       "      <td>0.0</td>\n",
       "      <td>0.0</td>\n",
       "      <td>0.0</td>\n",
       "      <td>...</td>\n",
       "      <td>0.0</td>\n",
       "      <td>0.0</td>\n",
       "      <td>0.0</td>\n",
       "      <td>0.0</td>\n",
       "      <td>0.0</td>\n",
       "      <td>0.0</td>\n",
       "      <td>0.0</td>\n",
       "      <td>0.0</td>\n",
       "      <td>0.0</td>\n",
       "      <td>0.0</td>\n",
       "    </tr>\n",
       "    <tr>\n",
       "      <th>4</th>\n",
       "      <td>0.0</td>\n",
       "      <td>1.0</td>\n",
       "      <td>0.0</td>\n",
       "      <td>0.0</td>\n",
       "      <td>0.0</td>\n",
       "      <td>0.0</td>\n",
       "      <td>0.0</td>\n",
       "      <td>0.0</td>\n",
       "      <td>0.0</td>\n",
       "      <td>0.0</td>\n",
       "      <td>...</td>\n",
       "      <td>0.0</td>\n",
       "      <td>0.0</td>\n",
       "      <td>0.0</td>\n",
       "      <td>0.0</td>\n",
       "      <td>0.0</td>\n",
       "      <td>0.0</td>\n",
       "      <td>0.0</td>\n",
       "      <td>0.0</td>\n",
       "      <td>0.0</td>\n",
       "      <td>0.0</td>\n",
       "    </tr>\n",
       "  </tbody>\n",
       "</table>\n",
       "<p>5 rows × 281 columns</p>\n",
       "</div>"
      ],
      "text/plain": [
       "   (x0_M,)  (x0_Q,)  \\\n",
       "0      0.0      1.0   \n",
       "1      0.0      1.0   \n",
       "2      0.0      1.0   \n",
       "3      0.0      1.0   \n",
       "4      0.0      1.0   \n",
       "\n",
       "   (x1_ABORTO SIN DILATACIÓN Y LEGRADO, ASPIRACIÓN O HISTEROTOMÍA,)  \\\n",
       "0                                                0.0                  \n",
       "1                                                0.0                  \n",
       "2                                                0.0                  \n",
       "3                                                0.0                  \n",
       "4                                                0.0                  \n",
       "\n",
       "   (x1_ABUSO O DEPENDENCIA DE ALCOHOL,)  (x1_ABUSO O DEPENDENCIA DE COCAÍNA,)  \\\n",
       "0                                   0.0                                   0.0   \n",
       "1                                   0.0                                   0.0   \n",
       "2                                   0.0                                   0.0   \n",
       "3                                   0.0                                   0.0   \n",
       "4                                   0.0                                   0.0   \n",
       "\n",
       "   (x1_ABUSO O DEPENDENCIA DE DROGAS Y ALCOHOL, ALTA VOLUNTARIA,)  \\\n",
       "0                                                0.0                \n",
       "1                                                0.0                \n",
       "2                                                0.0                \n",
       "3                                                0.0                \n",
       "4                                                0.0                \n",
       "\n",
       "   (x1_ABUSO O DEPENDENCIA DE OPIÁCEOS,)  \\\n",
       "0                                    0.0   \n",
       "1                                    0.0   \n",
       "2                                    0.0   \n",
       "3                                    0.0   \n",
       "4                                    0.0   \n",
       "\n",
       "   (x1_ABUSO O DEPENDENCIA DE OTRAS DROGAS,)  \\\n",
       "0                                        0.0   \n",
       "1                                        0.0   \n",
       "2                                        0.0   \n",
       "3                                        0.0   \n",
       "4                                        0.0   \n",
       "\n",
       "   (x1_ACCIDENTE ISQUÉMICO TRANSITORIO,)  \\\n",
       "0                                    0.0   \n",
       "1                                    0.0   \n",
       "2                                    0.0   \n",
       "3                                    0.0   \n",
       "4                                    0.0   \n",
       "\n",
       "   (x1_ACVA NO ESPECÍFICO Y OCLUSIONES PRECEREBRALES  SIN INFARTO,)  \\\n",
       "0                                                0.0                  \n",
       "1                                                0.0                  \n",
       "2                                                0.0                  \n",
       "3                                                0.0                  \n",
       "4                                                0.0                  \n",
       "\n",
       "                                            ...                                             \\\n",
       "0                                           ...                                              \n",
       "1                                           ...                                              \n",
       "2                                           ...                                              \n",
       "3                                           ...                                              \n",
       "4                                           ...                                              \n",
       "\n",
       "   (x1_TRASTORNOS Y LESIONES ESPINALES,)  \\\n",
       "0                                    0.0   \n",
       "1                                    0.0   \n",
       "2                                    0.0   \n",
       "3                                    0.0   \n",
       "4                                    0.0   \n",
       "\n",
       "   (x1_TRAUMA SIGNIFICATIVO MÚLTIPLE SIN PROCEDIMIENTO QUIRÚRGICO,)  \\\n",
       "0                                                0.0                  \n",
       "1                                                0.0                  \n",
       "2                                                0.0                  \n",
       "3                                                0.0                  \n",
       "4                                                0.0                  \n",
       "\n",
       "   (x1_TRAUMATISMO CRANEAL CON COMA >1H O HEMORRAGIA,)  \\\n",
       "0                                                0.0     \n",
       "1                                                0.0     \n",
       "2                                                0.0     \n",
       "3                                                0.0     \n",
       "4                                                0.0     \n",
       "\n",
       "   (x1_TRAUMATISMOS SOBRE PIEL, TEJIDO SUBCUTÁNEO Y HERIDA ABIERTA,)  \\\n",
       "0                                                0.0                   \n",
       "1                                                0.0                   \n",
       "2                                                0.0                   \n",
       "3                                                0.0                   \n",
       "4                                                0.0                   \n",
       "\n",
       "   (x1_TRAUMATISMOS TORÁCICOS PRINCIPALES,)  (x1_ULCERA PÉPTICA Y GASTRITIS,)  \\\n",
       "0                                       0.0                               0.0   \n",
       "1                                       0.0                               0.0   \n",
       "2                                       0.0                               0.0   \n",
       "3                                       0.0                               0.0   \n",
       "4                                       0.0                               0.0   \n",
       "\n",
       "   (x1_ULCERAS CUTÁNEAS,)  \\\n",
       "0                     0.0   \n",
       "1                     0.0   \n",
       "2                     0.0   \n",
       "3                     0.0   \n",
       "4                     0.0   \n",
       "\n",
       "   (x1_VIH CON CONDICIONES MAYORES RELACIONADAS CON VIH,)  \\\n",
       "0                                                0.0        \n",
       "1                                                0.0        \n",
       "2                                                0.0        \n",
       "3                                                0.0        \n",
       "4                                                0.0        \n",
       "\n",
       "   (x1_VIH CON MÚLTIPLES CONDICIONES MAYORES  RELACIONADAS CON VIH,)  \\\n",
       "0                                                0.0                   \n",
       "1                                                0.0                   \n",
       "2                                                0.0                   \n",
       "3                                                0.0                   \n",
       "4                                                0.0                   \n",
       "\n",
       "   (x1_VIH CON UNA CONDICIÓN SIGNIFICATIVA VIH O SIN CONDICIÓN SIGNIFICATIVA RELACIONADA,)  \n",
       "0                                                0.0                                        \n",
       "1                                                0.0                                        \n",
       "2                                                0.0                                        \n",
       "3                                                0.0                                        \n",
       "4                                                0.0                                        \n",
       "\n",
       "[5 rows x 281 columns]"
      ]
     },
     "execution_count": 10,
     "metadata": {},
     "output_type": "execute_result"
    }
   ],
   "source": [
    "X_ohe.head()"
   ]
  },
  {
   "cell_type": "markdown",
   "metadata": {},
   "source": [
    "Hemos transformado 2 variables categóricas en 281 numéricas."
   ]
  },
  {
   "cell_type": "markdown",
   "metadata": {},
   "source": [
    "Volvemos a pegar las variables numéricas."
   ]
  },
  {
   "cell_type": "code",
   "execution_count": 7,
   "metadata": {},
   "outputs": [
    {
     "ename": "NameError",
     "evalue": "name 'X_ohe' is not defined",
     "output_type": "error",
     "traceback": [
      "\u001b[1;31m---------------------------------------------------------------------------\u001b[0m",
      "\u001b[1;31mNameError\u001b[0m                                 Traceback (most recent call last)",
      "\u001b[1;32m<ipython-input-7-3dafedf516ac>\u001b[0m in \u001b[0;36m<module>\u001b[1;34m()\u001b[0m\n\u001b[1;32m----> 1\u001b[1;33m \u001b[0mX\u001b[0m \u001b[1;33m=\u001b[0m \u001b[0mpd\u001b[0m\u001b[1;33m.\u001b[0m\u001b[0mconcat\u001b[0m\u001b[1;33m(\u001b[0m\u001b[1;33m(\u001b[0m\u001b[0mX_ohe\u001b[0m\u001b[1;33m,\u001b[0m \u001b[0mX\u001b[0m\u001b[1;33m[\u001b[0m\u001b[0mnumerical_vars\u001b[0m\u001b[1;33m]\u001b[0m\u001b[1;33m.\u001b[0m\u001b[0mreset_index\u001b[0m\u001b[1;33m(\u001b[0m\u001b[1;33m)\u001b[0m\u001b[1;33m)\u001b[0m\u001b[1;33m,\u001b[0m \u001b[0maxis\u001b[0m\u001b[1;33m=\u001b[0m\u001b[1;36m1\u001b[0m\u001b[1;33m)\u001b[0m\u001b[1;33m\u001b[0m\u001b[0m\n\u001b[0m",
      "\u001b[1;31mNameError\u001b[0m: name 'X_ohe' is not defined"
     ]
    }
   ],
   "source": [
    "X = pd.concat((X_ohe, X[numerical_vars].reset_index()), axis=1)"
   ]
  },
  {
   "cell_type": "markdown",
   "metadata": {},
   "source": [
    "Comprobemos que ya no tenemos variables categóricas"
   ]
  },
  {
   "cell_type": "code",
   "execution_count": 12,
   "metadata": {},
   "outputs": [
    {
     "data": {
      "text/plain": [
       "(x0_M,)                                                                                    float64\n",
       "(x0_Q,)                                                                                    float64\n",
       "(x1_ABORTO SIN DILATACIÓN Y LEGRADO, ASPIRACIÓN O HISTEROTOMÍA,)                           float64\n",
       "(x1_ABUSO O DEPENDENCIA DE ALCOHOL,)                                                       float64\n",
       "(x1_ABUSO O DEPENDENCIA DE COCAÍNA,)                                                       float64\n",
       "(x1_ABUSO O DEPENDENCIA DE DROGAS Y ALCOHOL, ALTA VOLUNTARIA,)                             float64\n",
       "(x1_ABUSO O DEPENDENCIA DE OPIÁCEOS,)                                                      float64\n",
       "(x1_ABUSO O DEPENDENCIA DE OTRAS DROGAS,)                                                  float64\n",
       "(x1_ACCIDENTE ISQUÉMICO TRANSITORIO,)                                                      float64\n",
       "(x1_ACVA NO ESPECÍFICO Y OCLUSIONES PRECEREBRALES  SIN INFARTO,)                           float64\n",
       "(x1_ACVA Y OCLUSIONES PRECEREBRALES CON INFARTO,)                                          float64\n",
       "(x1_ADHESIOLISIS PERITONEAL,)                                                              float64\n",
       "(x1_ALTERACIONES DEL EQUILIBRIO,)                                                          float64\n",
       "(x1_ALTERACIONES ORGÁNICAS DE SALUD MENTAL,)                                               float64\n",
       "(x1_ALTERACIÓN DE LA CONCIENCIA,)                                                          float64\n",
       "(x1_AMIGDALECTOMÍA Y ADENOIDECTOMÍA,)                                                      float64\n",
       "(x1_AMPUTACIÓN EXTREMIDADES INFERIORES EXCEPTO DEDOS DEL PIE,)                             float64\n",
       "(x1_ANOXIA Y OTRO DAÑO CEREBRAL SEVERO,)                                                   float64\n",
       "(x1_APENDICECTOMÍA CON DIAGNÓSTICO PRINCIPAL COMPLEJO,)                                    float64\n",
       "(x1_APENDICECTOMÍA SIN DIAGNÓSTICO PRINCIPAL COMPLEJO,)                                    float64\n",
       "(x1_ARRITMIAS CARDÍACAS Y TRASTORNOS DE LA CONDUCCIÓN,)                                    float64\n",
       "(x1_ARTERIOESCLEROSIS CORONARIA Y ANGINA DE PECHO,)                                        float64\n",
       "(x1_ASMA,)                                                                                 float64\n",
       "(x1_BDP Y OTRAS ENF. RESPIRATORIAS CRÓNICAS CON ORIGEN EN PERIODO PERINATAL,)              float64\n",
       "(x1_BRONQUIOLITIS Y NEUMONÍA POR VIRUS SINCITIAL RESPIRATORIO,)                            float64\n",
       "(x1_BRONQUITIS AGUDA Y SÍNTOMAS RELACIONADOS,)                                             float64\n",
       "(x1_CARDIOPATÍAS CONGÉNITAS Y ENFERMEDADES VALVULARES,)                                    float64\n",
       "(x1_CATETERISMO CARDÍACO POR ENFERMEDAD ARTERIAL CORONARIA,)                               float64\n",
       "(x1_CATETERISMO CARDÍACO POR OTRA CONDICIÓN NO CORONARIA,)                                 float64\n",
       "(x1_CELULITIS Y OTRAS INFECCIONES DE PIEL,)                                                float64\n",
       "                                                                                            ...   \n",
       "(x1_TRASTORNOS DE PERSONALIDAD Y CONTROL DE IMPULSOS,)                                     float64\n",
       "(x1_TRASTORNOS DE PÁNCREAS EXCEPTO NEOPLASIA MALIGNA,)                                     float64\n",
       "(x1_TRASTORNOS DE TEJIDO CONECTIVO,)                                                       float64\n",
       "(x1_TRASTORNOS DEGENERATIVOS DE SISTEMA NERVIOSO, EXCEPTO ESCLEROSIS MÚLTIPLE,)            float64\n",
       "(x1_TRASTORNOS DEL SODIO NO HIPOVOLÉMICOS,)                                                float64\n",
       "(x1_TRASTORNOS DEL TRACTO Y VESÍCULA BILIAR,)                                              float64\n",
       "(x1_TRASTORNOS DEPRESIVOS MAYORES Y OTROS/PSICOSIS NO ESPECIFICADA,)                       float64\n",
       "(x1_TRASTORNOS MALIGNOS DEL SISTEMA REPRODUCTOR FEMENINO,)                                 float64\n",
       "(x1_TRASTORNOS MAYORES DE LA PIEL,)                                                        float64\n",
       "(x1_TRASTORNOS VASCULARES PERIFÉRICOS Y OTROS,)                                            float64\n",
       "(x1_TRASTORNOS Y LESIONES ESPINALES,)                                                      float64\n",
       "(x1_TRAUMA SIGNIFICATIVO MÚLTIPLE SIN PROCEDIMIENTO QUIRÚRGICO,)                           float64\n",
       "(x1_TRAUMATISMO CRANEAL CON COMA >1H O HEMORRAGIA,)                                        float64\n",
       "(x1_TRAUMATISMOS SOBRE PIEL, TEJIDO SUBCUTÁNEO Y HERIDA ABIERTA,)                          float64\n",
       "(x1_TRAUMATISMOS TORÁCICOS PRINCIPALES,)                                                   float64\n",
       "(x1_ULCERA PÉPTICA Y GASTRITIS,)                                                           float64\n",
       "(x1_ULCERAS CUTÁNEAS,)                                                                     float64\n",
       "(x1_VIH CON CONDICIONES MAYORES RELACIONADAS CON VIH,)                                     float64\n",
       "(x1_VIH CON MÚLTIPLES CONDICIONES MAYORES  RELACIONADAS CON VIH,)                          float64\n",
       "(x1_VIH CON UNA CONDICIÓN SIGNIFICATIVA VIH O SIN CONDICIÓN SIGNIFICATIVA RELACIONADA,)    float64\n",
       "index                                                                                        int64\n",
       "potencial_ambul                                                                              int64\n",
       "pct_mortalidad_norma                                                                       float64\n",
       "tiping                                                                                       int64\n",
       "estancia_esperada                                                                            int64\n",
       "proc                                                                                         int64\n",
       "gravedad                                                                                     int64\n",
       "exitus                                                                                       int64\n",
       "numproc                                                                                      int64\n",
       "edad_dias                                                                                    int64\n",
       "Length: 291, dtype: object"
      ]
     },
     "execution_count": 12,
     "metadata": {},
     "output_type": "execute_result"
    }
   ],
   "source": [
    "X.dtypes"
   ]
  },
  {
   "cell_type": "markdown",
   "metadata": {},
   "source": [
    "## Split en Train/Validación/Test"
   ]
  },
  {
   "cell_type": "markdown",
   "metadata": {},
   "source": [
    "Utilizaremos a modo de ejemplo los ratios habitualmente recomendados:\n",
    "\n",
    "• Train: 70%.\n",
    "\n",
    "• Validación: 15%.\n",
    "\n",
    "• Test: 15%.\n"
   ]
  },
  {
   "cell_type": "code",
   "execution_count": 13,
   "metadata": {
    "collapsed": true
   },
   "outputs": [],
   "source": [
    "perc_values = [0.7, 0.15, 0.15];"
   ]
  },
  {
   "cell_type": "code",
   "execution_count": 14,
   "metadata": {
    "collapsed": true
   },
   "outputs": [],
   "source": [
    "# Selección del patrón de datos X y del target y\n",
    "y = X['exitus']\n",
    "del X['exitus']"
   ]
  },
  {
   "cell_type": "markdown",
   "metadata": {},
   "source": [
    "Creamos los conjuntos de train, validacion y test con el tamaño seleccionado pero respetando el eje temporal."
   ]
  },
  {
   "cell_type": "code",
   "execution_count": 15,
   "metadata": {
    "collapsed": true
   },
   "outputs": [],
   "source": [
    "# dimensiones de los conjuntos de train y test\n",
    "n_train = int(X.shape[0] * perc_values[0])\n",
    "n_val = int(X.shape[0] * perc_values[1])\n",
    "n_test = int(X.shape[0] * perc_values[2])\n",
    "\n",
    "# selección del conjunto de train\n",
    "X_train = X.iloc[:n_train]\n",
    "y_train = y.iloc[:n_train]\n",
    "\n",
    "# selección del conjunto de validación\n",
    "X_val = X.iloc[(n_train):(n_train+n_val)]\n",
    "y_val = y.iloc[(n_train):(n_train+n_val)]\n",
    "\n",
    "# selección del conjunto de test\n",
    "X_test = X.iloc[(n_train+n_val):]\n",
    "y_test = y.iloc[(n_train+n_val):]"
   ]
  },
  {
   "cell_type": "markdown",
   "metadata": {},
   "source": [
    "Visualizamos el tamaño de los 3 subdatasets"
   ]
  },
  {
   "cell_type": "code",
   "execution_count": 16,
   "metadata": {},
   "outputs": [
    {
     "name": "stdout",
     "output_type": "stream",
     "text": [
      "Train data size = (22894, 290)\n",
      "Train target size = (22894,)\n",
      "Validation data size = (4905, 290)\n",
      "Validation target size = (4905,)\n",
      "Test data size = (4907, 290)\n",
      "Test target size = (4907,)\n"
     ]
    }
   ],
   "source": [
    "print('Train data size = ' + str(X_train.shape))\n",
    "print('Train target size = ' + str(y_train.shape))\n",
    "print('Validation data size = ' + str(X_val.shape))\n",
    "print('Validation target size = ' + str(y_val.shape))\n",
    "print('Test data size = ' + str(X_test.shape))\n",
    "print('Test target size = ' + str(y_test.shape))"
   ]
  },
  {
   "attachments": {
    "imagen.png": {
     "image/png": "[encoded data removed]"
    }
   },
   "cell_type": "markdown",
   "metadata": {},
   "source": [
    "\n",
    "## Logistic Regression\n",
    "\n",
    "Vamos a aplicar ahora un modelo de logistic regression para intentar predecir la probabilidad de exitus en función de todas las otras variables de las que disponemos en el dataset. Recordemos que la definición de logistic regression para un problema binario es la siguiente:\n",
    "\n",
    "![imagen.png](attachment:imagen.png)"
   ]
  },
  {
   "cell_type": "markdown",
   "metadata": {},
   "source": [
    "### Lasso"
   ]
  },
  {
   "cell_type": "markdown",
   "metadata": {},
   "source": [
    "\n",
    "1) Importar modelo.\n",
    "\n",
    "En este caso Logistic Regression\n"
   ]
  },
  {
   "cell_type": "code",
   "execution_count": 17,
   "metadata": {
    "collapsed": true
   },
   "outputs": [],
   "source": [
    "from sklearn.linear_model import LogisticRegression"
   ]
  },
  {
   "cell_type": "markdown",
   "metadata": {},
   "source": [
    "Veamos su documentación."
   ]
  },
  {
   "cell_type": "code",
   "execution_count": 18,
   "metadata": {},
   "outputs": [
    {
     "name": "stdout",
     "output_type": "stream",
     "text": [
      "Help on class LogisticRegression in module sklearn.linear_model._logistic:\n",
      "\n",
      "class LogisticRegression(sklearn.base.BaseEstimator, sklearn.linear_model._base.LinearClassifierMixin, sklearn.linear_model._base.SparseCoefMixin)\n",
      " |  Logistic Regression (aka logit, MaxEnt) classifier.\n",
      " |  \n",
      " |  In the multiclass case, the training algorithm uses the one-vs-rest (OvR)\n",
      " |  scheme if the 'multi_class' option is set to 'ovr', and uses the\n",
      " |  cross-entropy loss if the 'multi_class' option is set to 'multinomial'.\n",
      " |  (Currently the 'multinomial' option is supported only by the 'lbfgs',\n",
      " |  'sag', 'saga' and 'newton-cg' solvers.)\n",
      " |  \n",
      " |  This class implements regularized logistic regression using the\n",
      " |  'liblinear' library, 'newton-cg', 'sag', 'saga' and 'lbfgs' solvers. **Note\n",
      " |  that regularization is applied by default**. It can handle both dense\n",
      " |  and sparse input. Use C-ordered arrays or CSR matrices containing 64-bit\n",
      " |  floats for optimal performance; any other input format will be converted\n",
      " |  (and copied).\n",
      " |  \n",
      " |  The 'newton-cg', 'sag', and 'lbfgs' solvers support only L2 regularization\n",
      " |  with primal formulation, or no regularization. The 'liblinear' solver\n",
      " |  supports both L1 and L2 regularization, with a dual formulation only for\n",
      " |  the L2 penalty. The Elastic-Net regularization is only supported by the\n",
      " |  'saga' solver.\n",
      " |  \n",
      " |  Read more in the :ref:`User Guide <logistic_regression>`.\n",
      " |  \n",
      " |  Parameters\n",
      " |  ----------\n",
      " |  penalty : {'l1', 'l2', 'elasticnet', 'none'}, default='l2'\n",
      " |      Used to specify the norm used in the penalization. The 'newton-cg',\n",
      " |      'sag' and 'lbfgs' solvers support only l2 penalties. 'elasticnet' is\n",
      " |      only supported by the 'saga' solver. If 'none' (not supported by the\n",
      " |      liblinear solver), no regularization is applied.\n",
      " |  \n",
      " |      .. versionadded:: 0.19\n",
      " |         l1 penalty with SAGA solver (allowing 'multinomial' + L1)\n",
      " |  \n",
      " |  dual : bool, default=False\n",
      " |      Dual or primal formulation. Dual formulation is only implemented for\n",
      " |      l2 penalty with liblinear solver. Prefer dual=False when\n",
      " |      n_samples > n_features.\n",
      " |  \n",
      " |  tol : float, default=1e-4\n",
      " |      Tolerance for stopping criteria.\n",
      " |  \n",
      " |  C : float, default=1.0\n",
      " |      Inverse of regularization strength; must be a positive float.\n",
      " |      Like in support vector machines, smaller values specify stronger\n",
      " |      regularization.\n",
      " |  \n",
      " |  fit_intercept : bool, default=True\n",
      " |      Specifies if a constant (a.k.a. bias or intercept) should be\n",
      " |      added to the decision function.\n",
      " |  \n",
      " |  intercept_scaling : float, default=1\n",
      " |      Useful only when the solver 'liblinear' is used\n",
      " |      and self.fit_intercept is set to True. In this case, x becomes\n",
      " |      [x, self.intercept_scaling],\n",
      " |      i.e. a \"synthetic\" feature with constant value equal to\n",
      " |      intercept_scaling is appended to the instance vector.\n",
      " |      The intercept becomes ``intercept_scaling * synthetic_feature_weight``.\n",
      " |  \n",
      " |      Note! the synthetic feature weight is subject to l1/l2 regularization\n",
      " |      as all other features.\n",
      " |      To lessen the effect of regularization on synthetic feature weight\n",
      " |      (and therefore on the intercept) intercept_scaling has to be increased.\n",
      " |  \n",
      " |  class_weight : dict or 'balanced', default=None\n",
      " |      Weights associated with classes in the form ``{class_label: weight}``.\n",
      " |      If not given, all classes are supposed to have weight one.\n",
      " |  \n",
      " |      The \"balanced\" mode uses the values of y to automatically adjust\n",
      " |      weights inversely proportional to class frequencies in the input data\n",
      " |      as ``n_samples / (n_classes * np.bincount(y))``.\n",
      " |  \n",
      " |      Note that these weights will be multiplied with sample_weight (passed\n",
      " |      through the fit method) if sample_weight is specified.\n",
      " |  \n",
      " |      .. versionadded:: 0.17\n",
      " |         *class_weight='balanced'*\n",
      " |  \n",
      " |  random_state : int, RandomState instance, default=None\n",
      " |      The seed of the pseudo random number generator to use when shuffling\n",
      " |      the data.  If int, random_state is the seed used by the random number\n",
      " |      generator; If RandomState instance, random_state is the random number\n",
      " |      generator; If None, the random number generator is the RandomState\n",
      " |      instance used by `np.random`. Used when ``solver`` == 'sag' or\n",
      " |      'liblinear'.\n",
      " |  \n",
      " |  solver : {'newton-cg', 'lbfgs', 'liblinear', 'sag', 'saga'},             default='lbfgs'\n",
      " |  \n",
      " |      Algorithm to use in the optimization problem.\n",
      " |  \n",
      " |      - For small datasets, 'liblinear' is a good choice, whereas 'sag' and\n",
      " |        'saga' are faster for large ones.\n",
      " |      - For multiclass problems, only 'newton-cg', 'sag', 'saga' and 'lbfgs'\n",
      " |        handle multinomial loss; 'liblinear' is limited to one-versus-rest\n",
      " |        schemes.\n",
      " |      - 'newton-cg', 'lbfgs', 'sag' and 'saga' handle L2 or no penalty\n",
      " |      - 'liblinear' and 'saga' also handle L1 penalty\n",
      " |      - 'saga' also supports 'elasticnet' penalty\n",
      " |      - 'liblinear' does not support setting ``penalty='none'``\n",
      " |  \n",
      " |      Note that 'sag' and 'saga' fast convergence is only guaranteed on\n",
      " |      features with approximately the same scale. You can\n",
      " |      preprocess the data with a scaler from sklearn.preprocessing.\n",
      " |  \n",
      " |      .. versionadded:: 0.17\n",
      " |         Stochastic Average Gradient descent solver.\n",
      " |      .. versionadded:: 0.19\n",
      " |         SAGA solver.\n",
      " |      .. versionchanged:: 0.22\n",
      " |          The default solver changed from 'liblinear' to 'lbfgs' in 0.22.\n",
      " |  \n",
      " |  max_iter : int, default=100\n",
      " |      Maximum number of iterations taken for the solvers to converge.\n",
      " |  \n",
      " |  multi_class : {'auto', 'ovr', 'multinomial'}, default='auto'\n",
      " |      If the option chosen is 'ovr', then a binary problem is fit for each\n",
      " |      label. For 'multinomial' the loss minimised is the multinomial loss fit\n",
      " |      across the entire probability distribution, *even when the data is\n",
      " |      binary*. 'multinomial' is unavailable when solver='liblinear'.\n",
      " |      'auto' selects 'ovr' if the data is binary, or if solver='liblinear',\n",
      " |      and otherwise selects 'multinomial'.\n",
      " |  \n",
      " |      .. versionadded:: 0.18\n",
      " |         Stochastic Average Gradient descent solver for 'multinomial' case.\n",
      " |      .. versionchanged:: 0.22\n",
      " |          Default changed from 'ovr' to 'auto' in 0.22.\n",
      " |  \n",
      " |  verbose : int, default=0\n",
      " |      For the liblinear and lbfgs solvers set verbose to any positive\n",
      " |      number for verbosity.\n",
      " |  \n",
      " |  warm_start : bool, default=False\n",
      " |      When set to True, reuse the solution of the previous call to fit as\n",
      " |      initialization, otherwise, just erase the previous solution.\n",
      " |      Useless for liblinear solver. See :term:`the Glossary <warm_start>`.\n",
      " |  \n",
      " |      .. versionadded:: 0.17\n",
      " |         *warm_start* to support *lbfgs*, *newton-cg*, *sag*, *saga* solvers.\n",
      " |  \n",
      " |  n_jobs : int, default=None\n",
      " |      Number of CPU cores used when parallelizing over classes if\n",
      " |      multi_class='ovr'\". This parameter is ignored when the ``solver`` is\n",
      " |      set to 'liblinear' regardless of whether 'multi_class' is specified or\n",
      " |      not. ``None`` means 1 unless in a :obj:`joblib.parallel_backend`\n",
      " |      context. ``-1`` means using all processors.\n",
      " |      See :term:`Glossary <n_jobs>` for more details.\n",
      " |  \n",
      " |  l1_ratio : float, default=None\n",
      " |      The Elastic-Net mixing parameter, with ``0 <= l1_ratio <= 1``. Only\n",
      " |      used if ``penalty='elasticnet'`. Setting ``l1_ratio=0`` is equivalent\n",
      " |      to using ``penalty='l2'``, while setting ``l1_ratio=1`` is equivalent\n",
      " |      to using ``penalty='l1'``. For ``0 < l1_ratio <1``, the penalty is a\n",
      " |      combination of L1 and L2.\n",
      " |  \n",
      " |  Attributes\n",
      " |  ----------\n",
      " |  \n",
      " |  classes_ : ndarray of shape (n_classes, )\n",
      " |      A list of class labels known to the classifier.\n",
      " |  \n",
      " |  coef_ : ndarray of shape (1, n_features) or (n_classes, n_features)\n",
      " |      Coefficient of the features in the decision function.\n",
      " |  \n",
      " |      `coef_` is of shape (1, n_features) when the given problem is binary.\n",
      " |      In particular, when `multi_class='multinomial'`, `coef_` corresponds\n",
      " |      to outcome 1 (True) and `-coef_` corresponds to outcome 0 (False).\n",
      " |  \n",
      " |  intercept_ : ndarray of shape (1,) or (n_classes,)\n",
      " |      Intercept (a.k.a. bias) added to the decision function.\n",
      " |  \n",
      " |      If `fit_intercept` is set to False, the intercept is set to zero.\n",
      " |      `intercept_` is of shape (1,) when the given problem is binary.\n",
      " |      In particular, when `multi_class='multinomial'`, `intercept_`\n",
      " |      corresponds to outcome 1 (True) and `-intercept_` corresponds to\n",
      " |      outcome 0 (False).\n",
      " |  \n",
      " |  n_iter_ : ndarray of shape (n_classes,) or (1, )\n",
      " |      Actual number of iterations for all classes. If binary or multinomial,\n",
      " |      it returns only 1 element. For liblinear solver, only the maximum\n",
      " |      number of iteration across all classes is given.\n",
      " |  \n",
      " |      .. versionchanged:: 0.20\n",
      " |  \n",
      " |          In SciPy <= 1.0.0 the number of lbfgs iterations may exceed\n",
      " |          ``max_iter``. ``n_iter_`` will now report at most ``max_iter``.\n",
      " |  \n",
      " |  See Also\n",
      " |  --------\n",
      " |  SGDClassifier : Incrementally trained logistic regression (when given\n",
      " |      the parameter ``loss=\"log\"``).\n",
      " |  LogisticRegressionCV : Logistic regression with built-in cross validation.\n",
      " |  \n",
      " |  Notes\n",
      " |  -----\n",
      " |  The underlying C implementation uses a random number generator to\n",
      " |  select features when fitting the model. It is thus not uncommon,\n",
      " |  to have slightly different results for the same input data. If\n",
      " |  that happens, try with a smaller tol parameter.\n",
      " |  \n",
      " |  Predict output may not match that of standalone liblinear in certain\n",
      " |  cases. See :ref:`differences from liblinear <liblinear_differences>`\n",
      " |  in the narrative documentation.\n",
      " |  \n",
      " |  References\n",
      " |  ----------\n",
      " |  \n",
      " |  L-BFGS-B -- Software for Large-scale Bound-constrained Optimization\n",
      " |      Ciyou Zhu, Richard Byrd, Jorge Nocedal and Jose Luis Morales.\n",
      " |      http://users.iems.northwestern.edu/~nocedal/lbfgsb.html\n",
      " |  \n",
      " |  LIBLINEAR -- A Library for Large Linear Classification\n",
      " |      https://www.csie.ntu.edu.tw/~cjlin/liblinear/\n",
      " |  \n",
      " |  SAG -- Mark Schmidt, Nicolas Le Roux, and Francis Bach\n",
      " |      Minimizing Finite Sums with the Stochastic Average Gradient\n",
      " |      https://hal.inria.fr/hal-00860051/document\n",
      " |  \n",
      " |  SAGA -- Defazio, A., Bach F. & Lacoste-Julien S. (2014).\n",
      " |      SAGA: A Fast Incremental Gradient Method With Support\n",
      " |      for Non-Strongly Convex Composite Objectives\n",
      " |      https://arxiv.org/abs/1407.0202\n",
      " |  \n",
      " |  Hsiang-Fu Yu, Fang-Lan Huang, Chih-Jen Lin (2011). Dual coordinate descent\n",
      " |      methods for logistic regression and maximum entropy models.\n",
      " |      Machine Learning 85(1-2):41-75.\n",
      " |      https://www.csie.ntu.edu.tw/~cjlin/papers/maxent_dual.pdf\n",
      " |  \n",
      " |  Examples\n",
      " |  --------\n",
      " |  >>> from sklearn.datasets import load_iris\n",
      " |  >>> from sklearn.linear_model import LogisticRegression\n",
      " |  >>> X, y = load_iris(return_X_y=True)\n",
      " |  >>> clf = LogisticRegression(random_state=0).fit(X, y)\n",
      " |  >>> clf.predict(X[:2, :])\n",
      " |  array([0, 0])\n",
      " |  >>> clf.predict_proba(X[:2, :])\n",
      " |  array([[9.8...e-01, 1.8...e-02, 1.4...e-08],\n",
      " |         [9.7...e-01, 2.8...e-02, ...e-08]])\n",
      " |  >>> clf.score(X, y)\n",
      " |  0.97...\n",
      " |  \n",
      " |  Method resolution order:\n",
      " |      LogisticRegression\n",
      " |      sklearn.base.BaseEstimator\n",
      " |      sklearn.linear_model._base.LinearClassifierMixin\n",
      " |      sklearn.base.ClassifierMixin\n",
      " |      sklearn.linear_model._base.SparseCoefMixin\n",
      " |      builtins.object\n",
      " |  \n",
      " |  Methods defined here:\n",
      " |  \n",
      " |  __init__(self, penalty='l2', dual=False, tol=0.0001, C=1.0, fit_intercept=True, intercept_scaling=1, class_weight=None, random_state=None, solver='lbfgs', max_iter=100, multi_class='auto', verbose=0, warm_start=False, n_jobs=None, l1_ratio=None)\n",
      " |      Initialize self.  See help(type(self)) for accurate signature.\n",
      " |  \n",
      " |  fit(self, X, y, sample_weight=None)\n",
      " |      Fit the model according to the given training data.\n",
      " |      \n",
      " |      Parameters\n",
      " |      ----------\n",
      " |      X : {array-like, sparse matrix} of shape (n_samples, n_features)\n",
      " |          Training vector, where n_samples is the number of samples and\n",
      " |          n_features is the number of features.\n",
      " |      \n",
      " |      y : array-like of shape (n_samples,)\n",
      " |          Target vector relative to X.\n",
      " |      \n",
      " |      sample_weight : array-like of shape (n_samples,) default=None\n",
      " |          Array of weights that are assigned to individual samples.\n",
      " |          If not provided, then each sample is given unit weight.\n",
      " |      \n",
      " |          .. versionadded:: 0.17\n",
      " |             *sample_weight* support to LogisticRegression.\n",
      " |      \n",
      " |      Returns\n",
      " |      -------\n",
      " |      self\n",
      " |          Fitted estimator.\n",
      " |      \n",
      " |      Notes\n",
      " |      -----\n",
      " |      The SAGA solver supports both float64 and float32 bit arrays.\n",
      " |  \n",
      " |  predict_log_proba(self, X)\n",
      " |      Predict logarithm of probability estimates.\n",
      " |      \n",
      " |      The returned estimates for all classes are ordered by the\n",
      " |      label of classes.\n",
      " |      \n",
      " |      Parameters\n",
      " |      ----------\n",
      " |      X : array-like of shape (n_samples, n_features)\n",
      " |          Vector to be scored, where `n_samples` is the number of samples and\n",
      " |          `n_features` is the number of features.\n",
      " |      \n",
      " |      Returns\n",
      " |      -------\n",
      " |      T : array-like of shape (n_samples, n_classes)\n",
      " |          Returns the log-probability of the sample for each class in the\n",
      " |          model, where classes are ordered as they are in ``self.classes_``.\n",
      " |  \n",
      " |  predict_proba(self, X)\n",
      " |      Probability estimates.\n",
      " |      \n",
      " |      The returned estimates for all classes are ordered by the\n",
      " |      label of classes.\n",
      " |      \n",
      " |      For a multi_class problem, if multi_class is set to be \"multinomial\"\n",
      " |      the softmax function is used to find the predicted probability of\n",
      " |      each class.\n",
      " |      Else use a one-vs-rest approach, i.e calculate the probability\n",
      " |      of each class assuming it to be positive using the logistic function.\n",
      " |      and normalize these values across all the classes.\n",
      " |      \n",
      " |      Parameters\n",
      " |      ----------\n",
      " |      X : array-like of shape (n_samples, n_features)\n",
      " |          Vector to be scored, where `n_samples` is the number of samples and\n",
      " |          `n_features` is the number of features.\n",
      " |      \n",
      " |      Returns\n",
      " |      -------\n",
      " |      T : array-like of shape (n_samples, n_classes)\n",
      " |          Returns the probability of the sample for each class in the model,\n",
      " |          where classes are ordered as they are in ``self.classes_``.\n",
      " |  \n",
      " |  ----------------------------------------------------------------------\n",
      " |  Methods inherited from sklearn.base.BaseEstimator:\n",
      " |  \n",
      " |  __getstate__(self)\n",
      " |  \n",
      " |  __repr__(self, N_CHAR_MAX=700)\n",
      " |      Return repr(self).\n",
      " |  \n",
      " |  __setstate__(self, state)\n",
      " |  \n",
      " |  get_params(self, deep=True)\n",
      " |      Get parameters for this estimator.\n",
      " |      \n",
      " |      Parameters\n",
      " |      ----------\n",
      " |      deep : bool, default=True\n",
      " |          If True, will return the parameters for this estimator and\n",
      " |          contained subobjects that are estimators.\n",
      " |      \n",
      " |      Returns\n",
      " |      -------\n",
      " |      params : mapping of string to any\n",
      " |          Parameter names mapped to their values.\n",
      " |  \n",
      " |  set_params(self, **params)\n",
      " |      Set the parameters of this estimator.\n",
      " |      \n",
      " |      The method works on simple estimators as well as on nested objects\n",
      " |      (such as pipelines). The latter have parameters of the form\n",
      " |      ``<component>__<parameter>`` so that it's possible to update each\n",
      " |      component of a nested object.\n",
      " |      \n",
      " |      Parameters\n",
      " |      ----------\n",
      " |      **params : dict\n",
      " |          Estimator parameters.\n",
      " |      \n",
      " |      Returns\n",
      " |      -------\n",
      " |      self : object\n",
      " |          Estimator instance.\n",
      " |  \n",
      " |  ----------------------------------------------------------------------\n",
      " |  Data descriptors inherited from sklearn.base.BaseEstimator:\n",
      " |  \n",
      " |  __dict__\n",
      " |      dictionary for instance variables (if defined)\n",
      " |  \n",
      " |  __weakref__\n",
      " |      list of weak references to the object (if defined)\n",
      " |  \n",
      " |  ----------------------------------------------------------------------\n",
      " |  Methods inherited from sklearn.linear_model._base.LinearClassifierMixin:\n",
      " |  \n",
      " |  decision_function(self, X)\n",
      " |      Predict confidence scores for samples.\n",
      " |      \n",
      " |      The confidence score for a sample is the signed distance of that\n",
      " |      sample to the hyperplane.\n",
      " |      \n",
      " |      Parameters\n",
      " |      ----------\n",
      " |      X : array_like or sparse matrix, shape (n_samples, n_features)\n",
      " |          Samples.\n",
      " |      \n",
      " |      Returns\n",
      " |      -------\n",
      " |      array, shape=(n_samples,) if n_classes == 2 else (n_samples, n_classes)\n",
      " |          Confidence scores per (sample, class) combination. In the binary\n",
      " |          case, confidence score for self.classes_[1] where >0 means this\n",
      " |          class would be predicted.\n",
      " |  \n",
      " |  predict(self, X)\n",
      " |      Predict class labels for samples in X.\n",
      " |      \n",
      " |      Parameters\n",
      " |      ----------\n",
      " |      X : array_like or sparse matrix, shape (n_samples, n_features)\n",
      " |          Samples.\n",
      " |      \n",
      " |      Returns\n",
      " |      -------\n",
      " |      C : array, shape [n_samples]\n",
      " |          Predicted class label per sample.\n",
      " |  \n",
      " |  ----------------------------------------------------------------------\n",
      " |  Methods inherited from sklearn.base.ClassifierMixin:\n",
      " |  \n",
      " |  score(self, X, y, sample_weight=None)\n",
      " |      Return the mean accuracy on the given test data and labels.\n",
      " |      \n",
      " |      In multi-label classification, this is the subset accuracy\n",
      " |      which is a harsh metric since you require for each sample that\n",
      " |      each label set be correctly predicted.\n",
      " |      \n",
      " |      Parameters\n",
      " |      ----------\n",
      " |      X : array-like of shape (n_samples, n_features)\n",
      " |          Test samples.\n",
      " |      \n",
      " |      y : array-like of shape (n_samples,) or (n_samples, n_outputs)\n",
      " |          True labels for X.\n",
      " |      \n",
      " |      sample_weight : array-like of shape (n_samples,), default=None\n",
      " |          Sample weights.\n",
      " |      \n",
      " |      Returns\n",
      " |      -------\n",
      " |      score : float\n",
      " |          Mean accuracy of self.predict(X) wrt. y.\n",
      " |  \n",
      " |  ----------------------------------------------------------------------\n",
      " |  Methods inherited from sklearn.linear_model._base.SparseCoefMixin:\n",
      " |  \n",
      " |  densify(self)\n",
      " |      Convert coefficient matrix to dense array format.\n",
      " |      \n",
      " |      Converts the ``coef_`` member (back) to a numpy.ndarray. This is the\n",
      " |      default format of ``coef_`` and is required for fitting, so calling\n",
      " |      this method is only required on models that have previously been\n",
      " |      sparsified; otherwise, it is a no-op.\n",
      " |      \n",
      " |      Returns\n",
      " |      -------\n",
      " |      self\n",
      " |          Fitted estimator.\n",
      " |  \n",
      " |  sparsify(self)\n",
      " |      Convert coefficient matrix to sparse format.\n",
      " |      \n",
      " |      Converts the ``coef_`` member to a scipy.sparse matrix, which for\n",
      " |      L1-regularized models can be much more memory- and storage-efficient\n",
      " |      than the usual numpy.ndarray representation.\n",
      " |      \n",
      " |      The ``intercept_`` member is not converted.\n",
      " |      \n",
      " |      Returns\n",
      " |      -------\n",
      " |      self\n",
      " |          Fitted estimator.\n",
      " |      \n",
      " |      Notes\n",
      " |      -----\n",
      " |      For non-sparse models, i.e. when there are not many zeros in ``coef_``,\n",
      " |      this may actually *increase* memory usage, so use this method with\n",
      " |      care. A rule of thumb is that the number of zero elements, which can\n",
      " |      be computed with ``(coef_ == 0).sum()``, must be more than 50% for this\n",
      " |      to provide significant benefits.\n",
      " |      \n",
      " |      After calling this method, further fitting with the partial_fit\n",
      " |      method (if any) will not work until you call densify.\n",
      "\n"
     ]
    }
   ],
   "source": [
    "help(LogisticRegression)"
   ]
  },
  {
   "cell_type": "markdown",
   "metadata": {},
   "source": [
    "2) Importar métrica.\n",
    "\n",
    "Veamos que sucedería si usáramos accuracy como métrica."
   ]
  },
  {
   "cell_type": "code",
   "execution_count": 19,
   "metadata": {
    "collapsed": true
   },
   "outputs": [],
   "source": [
    "from sklearn.metrics import accuracy_score as acc"
   ]
  },
  {
   "cell_type": "markdown",
   "metadata": {},
   "source": [
    "Creemos una predicción dummy en la que siempre damos un 0 (no exitus)."
   ]
  },
  {
   "cell_type": "code",
   "execution_count": 20,
   "metadata": {
    "collapsed": true
   },
   "outputs": [],
   "source": [
    "dummy_pred = np.zeros(y_test.shape)"
   ]
  },
  {
   "cell_type": "code",
   "execution_count": 21,
   "metadata": {},
   "outputs": [
    {
     "data": {
      "text/plain": [
       "0.9620949663745669"
      ]
     },
     "execution_count": 21,
     "metadata": {},
     "output_type": "execute_result"
    }
   ],
   "source": [
    "acc(y_test, dummy_pred)"
   ]
  },
  {
   "cell_type": "markdown",
   "metadata": {},
   "source": [
    "¡Obtenemos un 96.2& de accuracy! ¿Podemos decir que este es un modelo mejor que otro que acierte un 90% de los no exitus y un 50% de los casos de exitus? Pues ese modelo tendría en torno a un 91% de accuracy..."
   ]
  },
  {
   "cell_type": "markdown",
   "metadata": {},
   "source": [
    "Todo esto es debido a que estamos ante un problema desbalanceado. Para evitar estos problemas usaremos el AUC como métrica."
   ]
  },
  {
   "cell_type": "code",
   "execution_count": 22,
   "metadata": {
    "collapsed": true
   },
   "outputs": [],
   "source": [
    "\n",
    "from sklearn.metrics import roc_auc_score as auc"
   ]
  },
  {
   "cell_type": "markdown",
   "metadata": {},
   "source": [
    "3) Definir el método.\n",
    "\n",
    "Utilizaremos el modelo con regularización Lasso o L1."
   ]
  },
  {
   "cell_type": "code",
   "execution_count": 23,
   "metadata": {
    "collapsed": true
   },
   "outputs": [],
   "source": [
    "model = LogisticRegression(penalty='l1', solver = 'liblinear')"
   ]
  },
  {
   "cell_type": "markdown",
   "metadata": {},
   "source": [
    "4) Llamar al método fit para entrenar el modelo"
   ]
  },
  {
   "cell_type": "code",
   "execution_count": 24,
   "metadata": {},
   "outputs": [
    {
     "data": {
      "text/plain": [
       "LogisticRegression(C=1.0, class_weight=None, dual=False, fit_intercept=True,\n",
       "                   intercept_scaling=1, l1_ratio=None, max_iter=100,\n",
       "                   multi_class='auto', n_jobs=None, penalty='l1',\n",
       "                   random_state=None, solver='liblinear', tol=0.0001, verbose=0,\n",
       "                   warm_start=False)"
      ]
     },
     "execution_count": 24,
     "metadata": {},
     "output_type": "execute_result"
    }
   ],
   "source": [
    "model.fit(X_train, np.array(y_train))"
   ]
  },
  {
   "cell_type": "markdown",
   "metadata": {},
   "source": [
    "5) Llamar al método predict para generar las predicciones."
   ]
  },
  {
   "cell_type": "code",
   "execution_count": 25,
   "metadata": {
    "collapsed": true
   },
   "outputs": [],
   "source": [
    "pred_train = model.predict(X_train)\n",
    "pred_val = model.predict(X_val)\n",
    "pred_test = model.predict(X_test) "
   ]
  },
  {
   "cell_type": "markdown",
   "metadata": {},
   "source": [
    "Comprobemos las primeras predicciones para los casos de test."
   ]
  },
  {
   "cell_type": "code",
   "execution_count": 26,
   "metadata": {},
   "outputs": [
    {
     "name": "stdout",
     "output_type": "stream",
     "text": [
      "[0 0 0 0 0]\n",
      "27799    0\n",
      "27800    0\n",
      "27801    0\n",
      "27802    0\n",
      "27803    0\n",
      "Name: exitus, dtype: int64\n"
     ]
    }
   ],
   "source": [
    "# Comprobamos las primeras predicciones\n",
    "print(pred_test[0:5])\n",
    "print(y_test[0:5])"
   ]
  },
  {
   "cell_type": "code",
   "execution_count": 27,
   "metadata": {},
   "outputs": [
    {
     "data": {
      "text/plain": [
       "array([0, 1], dtype=int64)"
      ]
     },
     "execution_count": 27,
     "metadata": {},
     "output_type": "execute_result"
    }
   ],
   "source": [
    "np.unique(pred_test)"
   ]
  },
  {
   "cell_type": "markdown",
   "metadata": {},
   "source": [
    "En pred_test solo tenemos valores de 0s y 1s, pero nosotros queremos tener las probabilidades, no solo el valor inputado como clase final porque lo necesitamos para calcular el AUC.\n",
    "\n",
    "Para obtener estas probabilidades hay que llamar al método predict_proba."
   ]
  },
  {
   "cell_type": "code",
   "execution_count": 28,
   "metadata": {},
   "outputs": [
    {
     "name": "stdout",
     "output_type": "stream",
     "text": [
      "Help on method predict_proba in module sklearn.linear_model._logistic:\n",
      "\n",
      "predict_proba(X) method of sklearn.linear_model._logistic.LogisticRegression instance\n",
      "    Probability estimates.\n",
      "    \n",
      "    The returned estimates for all classes are ordered by the\n",
      "    label of classes.\n",
      "    \n",
      "    For a multi_class problem, if multi_class is set to be \"multinomial\"\n",
      "    the softmax function is used to find the predicted probability of\n",
      "    each class.\n",
      "    Else use a one-vs-rest approach, i.e calculate the probability\n",
      "    of each class assuming it to be positive using the logistic function.\n",
      "    and normalize these values across all the classes.\n",
      "    \n",
      "    Parameters\n",
      "    ----------\n",
      "    X : array-like of shape (n_samples, n_features)\n",
      "        Vector to be scored, where `n_samples` is the number of samples and\n",
      "        `n_features` is the number of features.\n",
      "    \n",
      "    Returns\n",
      "    -------\n",
      "    T : array-like of shape (n_samples, n_classes)\n",
      "        Returns the probability of the sample for each class in the model,\n",
      "        where classes are ordered as they are in ``self.classes_``.\n",
      "\n"
     ]
    }
   ],
   "source": [
    "help(model.predict_proba)"
   ]
  },
  {
   "cell_type": "code",
   "execution_count": 29,
   "metadata": {
    "collapsed": true
   },
   "outputs": [],
   "source": [
    "pred_train_p = model.predict_proba(X_train)\n",
    "pred_val_p = model.predict_proba(X_val)\n",
    "pred_test_p = model.predict_proba(X_test) "
   ]
  },
  {
   "cell_type": "markdown",
   "metadata": {},
   "source": [
    "Veamos de nuevo las primeras predicciones para los casos de test."
   ]
  },
  {
   "cell_type": "code",
   "execution_count": 30,
   "metadata": {},
   "outputs": [
    {
     "name": "stdout",
     "output_type": "stream",
     "text": [
      "[[9.96001976e-01 3.99802350e-03]\n",
      " [9.99739390e-01 2.60609755e-04]\n",
      " [9.69484863e-01 3.05151374e-02]\n",
      " [9.91611790e-01 8.38821030e-03]\n",
      " [9.85191300e-01 1.48087004e-02]]\n",
      "27799    0\n",
      "27800    0\n",
      "27801    0\n",
      "27802    0\n",
      "27803    0\n",
      "Name: exitus, dtype: int64\n"
     ]
    }
   ],
   "source": [
    "# Comprobamos las primeras predicciones\n",
    "print(pred_test_p[0:5])\n",
    "print(y_test[0:5])"
   ]
  },
  {
   "cell_type": "markdown",
   "metadata": {},
   "source": [
    "Ahora sí que tenemos las probabilidades. La primera columna es la probabilidad de que la clase sea 0 (no Exitus) y la segunda la de que sea 1 (Exitus)."
   ]
  },
  {
   "cell_type": "markdown",
   "metadata": {},
   "source": [
    "6) Calcular métrica usando las predicciones obtenidas en el paso anterior."
   ]
  },
  {
   "cell_type": "code",
   "execution_count": 31,
   "metadata": {
    "collapsed": true
   },
   "outputs": [],
   "source": [
    "# Calcular métricas de evaluación\n",
    "auc_train = auc(y_train, pred_train_p[:,1]);\n",
    "auc_val = auc(y_val, pred_val_p[:,1]);\n",
    "auc_test = auc(y_test, pred_test_p[:,1]);\n",
    "results = pd.DataFrame()\n",
    "results = results.append(pd.DataFrame(data={'model':['Lasso'],'auc_train':[auc_train],'auc_val':[auc_val],'auc_test':[auc_test]}, columns=['model',  'auc_train','auc_val', 'auc_test']), ignore_index=True)"
   ]
  },
  {
   "cell_type": "code",
   "execution_count": 32,
   "metadata": {},
   "outputs": [
    {
     "data": {
      "text/html": [
       "<div>\n",
       "<style>\n",
       "    .dataframe thead tr:only-child th {\n",
       "        text-align: right;\n",
       "    }\n",
       "\n",
       "    .dataframe thead th {\n",
       "        text-align: left;\n",
       "    }\n",
       "\n",
       "    .dataframe tbody tr th {\n",
       "        vertical-align: top;\n",
       "    }\n",
       "</style>\n",
       "<table border=\"1\" class=\"dataframe\">\n",
       "  <thead>\n",
       "    <tr style=\"text-align: right;\">\n",
       "      <th></th>\n",
       "      <th>model</th>\n",
       "      <th>auc_train</th>\n",
       "      <th>auc_val</th>\n",
       "      <th>auc_test</th>\n",
       "    </tr>\n",
       "  </thead>\n",
       "  <tbody>\n",
       "    <tr>\n",
       "      <th>0</th>\n",
       "      <td>Lasso</td>\n",
       "      <td>0.946191</td>\n",
       "      <td>0.93848</td>\n",
       "      <td>0.927166</td>\n",
       "    </tr>\n",
       "  </tbody>\n",
       "</table>\n",
       "</div>"
      ],
      "text/plain": [
       "   model  auc_train  auc_val  auc_test\n",
       "0  Lasso   0.946191  0.93848  0.927166"
      ]
     },
     "execution_count": 32,
     "metadata": {},
     "output_type": "execute_result"
    }
   ],
   "source": [
    "results"
   ]
  },
  {
   "cell_type": "markdown",
   "metadata": {},
   "source": [
    "También podemos visualizar la curva ROC."
   ]
  },
  {
   "cell_type": "code",
   "execution_count": 33,
   "metadata": {
    "collapsed": true
   },
   "outputs": [],
   "source": [
    "from sklearn.metrics import plot_roc_curve"
   ]
  },
  {
   "cell_type": "code",
   "execution_count": 34,
   "metadata": {},
   "outputs": [
    {
     "data": {
      "text/plain": [
       "<sklearn.metrics._plot.roc_curve.RocCurveDisplay at 0x22a06b453c8>"
      ]
     },
     "execution_count": 34,
     "metadata": {},
     "output_type": "execute_result"
    },
    {
     "data": {
      "image/png": "[encoded data removed]",
      "text/plain": [
       "<matplotlib.figure.Figure at 0x22a0e16cf98>"
      ]
     },
     "metadata": {},
     "output_type": "display_data"
    }
   ],
   "source": [
    "plot_roc_curve(model, X_test, y_test)"
   ]
  },
  {
   "cell_type": "markdown",
   "metadata": {},
   "source": [
    "### Ridge"
   ]
  },
  {
   "cell_type": "markdown",
   "metadata": {},
   "source": [
    "3) Definir el método.\n",
    "\n",
    "Utilizaremos el modelo con regularización Ridge o L2."
   ]
  },
  {
   "cell_type": "code",
   "execution_count": 35,
   "metadata": {
    "collapsed": true
   },
   "outputs": [],
   "source": [
    "model = LogisticRegression(penalty='l2')"
   ]
  },
  {
   "cell_type": "markdown",
   "metadata": {},
   "source": [
    "4) Llamar al método fit para entrenar el modelo"
   ]
  },
  {
   "cell_type": "code",
   "execution_count": 36,
   "metadata": {},
   "outputs": [
    {
     "data": {
      "text/plain": [
       "LogisticRegression(C=1.0, class_weight=None, dual=False, fit_intercept=True,\n",
       "                   intercept_scaling=1, l1_ratio=None, max_iter=100,\n",
       "                   multi_class='auto', n_jobs=None, penalty='l2',\n",
       "                   random_state=None, solver='lbfgs', tol=0.0001, verbose=0,\n",
       "                   warm_start=False)"
      ]
     },
     "execution_count": 36,
     "metadata": {},
     "output_type": "execute_result"
    }
   ],
   "source": [
    "model.fit(X_train, np.array(y_train))"
   ]
  },
  {
   "cell_type": "markdown",
   "metadata": {},
   "source": [
    "5) Llamar al método predict para generar las predicciones."
   ]
  },
  {
   "cell_type": "code",
   "execution_count": 37,
   "metadata": {
    "collapsed": true
   },
   "outputs": [],
   "source": [
    "pred_train_p = model.predict_proba(X_train)\n",
    "pred_val_p = model.predict_proba(X_val)\n",
    "pred_test_p = model.predict_proba(X_test) "
   ]
  },
  {
   "cell_type": "markdown",
   "metadata": {},
   "source": [
    "6) Calcular métrica usando las predicciones obtenidas en el paso anterior."
   ]
  },
  {
   "cell_type": "code",
   "execution_count": 38,
   "metadata": {
    "collapsed": true
   },
   "outputs": [],
   "source": [
    "# Calcular métricas de evaluación\n",
    "auc_train = auc(y_train, pred_train_p[:,1]);\n",
    "auc_val = auc(y_val, pred_val_p[:,1]);\n",
    "auc_test = auc(y_test, pred_test_p[:,1]);\n",
    "results = results.append(pd.DataFrame(data={'model':['Ridge'],'auc_train':[auc_train],'auc_val':[auc_val],'auc_test':[auc_test]}, columns=['model',  'auc_train','auc_val', 'auc_test']), ignore_index=True)"
   ]
  },
  {
   "cell_type": "code",
   "execution_count": 39,
   "metadata": {},
   "outputs": [
    {
     "data": {
      "text/html": [
       "<div>\n",
       "<style>\n",
       "    .dataframe thead tr:only-child th {\n",
       "        text-align: right;\n",
       "    }\n",
       "\n",
       "    .dataframe thead th {\n",
       "        text-align: left;\n",
       "    }\n",
       "\n",
       "    .dataframe tbody tr th {\n",
       "        vertical-align: top;\n",
       "    }\n",
       "</style>\n",
       "<table border=\"1\" class=\"dataframe\">\n",
       "  <thead>\n",
       "    <tr style=\"text-align: right;\">\n",
       "      <th></th>\n",
       "      <th>model</th>\n",
       "      <th>auc_train</th>\n",
       "      <th>auc_val</th>\n",
       "      <th>auc_test</th>\n",
       "    </tr>\n",
       "  </thead>\n",
       "  <tbody>\n",
       "    <tr>\n",
       "      <th>0</th>\n",
       "      <td>Lasso</td>\n",
       "      <td>0.946191</td>\n",
       "      <td>0.938480</td>\n",
       "      <td>0.927166</td>\n",
       "    </tr>\n",
       "    <tr>\n",
       "      <th>1</th>\n",
       "      <td>Ridge</td>\n",
       "      <td>0.899829</td>\n",
       "      <td>0.895089</td>\n",
       "      <td>0.869795</td>\n",
       "    </tr>\n",
       "  </tbody>\n",
       "</table>\n",
       "</div>"
      ],
      "text/plain": [
       "   model  auc_train   auc_val  auc_test\n",
       "0  Lasso   0.946191  0.938480  0.927166\n",
       "1  Ridge   0.899829  0.895089  0.869795"
      ]
     },
     "execution_count": 39,
     "metadata": {},
     "output_type": "execute_result"
    }
   ],
   "source": [
    "results"
   ]
  },
  {
   "cell_type": "markdown",
   "metadata": {},
   "source": [
    "Parece que Lasso se adapta mejor a nuestro problema."
   ]
  },
  {
   "cell_type": "markdown",
   "metadata": {},
   "source": [
    "# Grid Search"
   ]
  },
  {
   "cell_type": "markdown",
   "metadata": {},
   "source": [
    "\n",
    "Vamos a proceder a calcular los parámetros óptimos para nuestro modelo. En nuestro caso queremos optimizar el hiperparámetro C de la función Logistic Regression, que sería el equivalente a la inversa de nuestro $\\lambda$."
   ]
  },
  {
   "cell_type": "code",
   "execution_count": 40,
   "metadata": {
    "collapsed": true
   },
   "outputs": [],
   "source": [
    "grid_results = pd.DataFrame();\n",
    "C_values = [0.001, 0.1, 0.5, 1 ,5, 10, 100]\n",
    "for C_v in C_values:\n",
    "    # Entrenar modelo\n",
    "    model = LogisticRegression(penalty='l1', solver = 'liblinear', C = C_v)\n",
    "    model.fit(X_train, np.array(y_train))\n",
    "    \n",
    "    # Generar predicciones\n",
    "    pred_train_p = model.predict_proba(X_train)\n",
    "    pred_val_p = model.predict_proba(X_val)\n",
    "    \n",
    "    # Calcular métricas de evaluación\n",
    "    auc_train = auc(y_train, pred_train_p[:, 1])\n",
    "    auc_val = auc(y_val, pred_val_p[:, 1])\n",
    "    \n",
    "    grid_results = grid_results.append(pd.DataFrame(data={'C':[C_v],'auc_train':[auc_train],'auc_val':[auc_val]}), ignore_index=True)\n"
   ]
  },
  {
   "cell_type": "code",
   "execution_count": 41,
   "metadata": {},
   "outputs": [
    {
     "data": {
      "text/html": [
       "<div>\n",
       "<style>\n",
       "    .dataframe thead tr:only-child th {\n",
       "        text-align: right;\n",
       "    }\n",
       "\n",
       "    .dataframe thead th {\n",
       "        text-align: left;\n",
       "    }\n",
       "\n",
       "    .dataframe tbody tr th {\n",
       "        vertical-align: top;\n",
       "    }\n",
       "</style>\n",
       "<table border=\"1\" class=\"dataframe\">\n",
       "  <thead>\n",
       "    <tr style=\"text-align: right;\">\n",
       "      <th></th>\n",
       "      <th>C</th>\n",
       "      <th>auc_train</th>\n",
       "      <th>auc_val</th>\n",
       "    </tr>\n",
       "  </thead>\n",
       "  <tbody>\n",
       "    <tr>\n",
       "      <th>0</th>\n",
       "      <td>0.001</td>\n",
       "      <td>0.445583</td>\n",
       "      <td>0.309308</td>\n",
       "    </tr>\n",
       "    <tr>\n",
       "      <th>1</th>\n",
       "      <td>0.100</td>\n",
       "      <td>0.938141</td>\n",
       "      <td>0.936024</td>\n",
       "    </tr>\n",
       "    <tr>\n",
       "      <th>2</th>\n",
       "      <td>0.500</td>\n",
       "      <td>0.943672</td>\n",
       "      <td>0.938855</td>\n",
       "    </tr>\n",
       "    <tr>\n",
       "      <th>3</th>\n",
       "      <td>1.000</td>\n",
       "      <td>0.946214</td>\n",
       "      <td>0.938484</td>\n",
       "    </tr>\n",
       "    <tr>\n",
       "      <th>4</th>\n",
       "      <td>5.000</td>\n",
       "      <td>0.949430</td>\n",
       "      <td>0.937629</td>\n",
       "    </tr>\n",
       "    <tr>\n",
       "      <th>5</th>\n",
       "      <td>10.000</td>\n",
       "      <td>0.949703</td>\n",
       "      <td>0.937195</td>\n",
       "    </tr>\n",
       "    <tr>\n",
       "      <th>6</th>\n",
       "      <td>100.000</td>\n",
       "      <td>0.949858</td>\n",
       "      <td>0.936404</td>\n",
       "    </tr>\n",
       "  </tbody>\n",
       "</table>\n",
       "</div>"
      ],
      "text/plain": [
       "         C  auc_train   auc_val\n",
       "0    0.001   0.445583  0.309308\n",
       "1    0.100   0.938141  0.936024\n",
       "2    0.500   0.943672  0.938855\n",
       "3    1.000   0.946214  0.938484\n",
       "4    5.000   0.949430  0.937629\n",
       "5   10.000   0.949703  0.937195\n",
       "6  100.000   0.949858  0.936404"
      ]
     },
     "execution_count": 41,
     "metadata": {},
     "output_type": "execute_result"
    }
   ],
   "source": [
    "grid_results"
   ]
  },
  {
   "cell_type": "markdown",
   "metadata": {},
   "source": [
    "Nos quedamos con el mejor resultado."
   ]
  },
  {
   "cell_type": "code",
   "execution_count": 42,
   "metadata": {},
   "outputs": [
    {
     "data": {
      "text/plain": [
       "0.5"
      ]
     },
     "execution_count": 42,
     "metadata": {},
     "output_type": "execute_result"
    }
   ],
   "source": [
    "best_C = grid_results['C'][grid_results['auc_val'].idxmax()]\n",
    "best_C"
   ]
  },
  {
   "cell_type": "markdown",
   "metadata": {},
   "source": [
    "Entrenamos el modelo final."
   ]
  },
  {
   "cell_type": "code",
   "execution_count": 43,
   "metadata": {},
   "outputs": [
    {
     "name": "stdout",
     "output_type": "stream",
     "text": [
      "Train data size = (22894, 290)\n",
      "Train target size = (22894,)\n",
      "Validation data size = (4905, 290)\n",
      "Validation target size = (4905,)\n",
      "Train data size = (27799, 290)\n",
      "Train target size = (27799,)\n"
     ]
    }
   ],
   "source": [
    "print('Train data size = ' + str(X_train.shape))\n",
    "print('Train target size = ' + str(y_train.shape))\n",
    "print('Validation data size = ' + str(X_val.shape))\n",
    "print('Validation target size = ' + str(y_val.shape))\n",
    "\n",
    "# Combinar train y validación\n",
    "X_train = pd.concat((X_train,X_val), axis = 0)\n",
    "y_train = np.concatenate((y_train, y_val), axis = 0)\n",
    "\n",
    "del X_val, y_val\n",
    "\n",
    "print('Train data size = ' + str(X_train.shape))\n",
    "print('Train target size = ' + str(y_train.shape))"
   ]
  },
  {
   "cell_type": "code",
   "execution_count": 44,
   "metadata": {},
   "outputs": [
    {
     "data": {
      "text/html": [
       "<div>\n",
       "<style>\n",
       "    .dataframe thead tr:only-child th {\n",
       "        text-align: right;\n",
       "    }\n",
       "\n",
       "    .dataframe thead th {\n",
       "        text-align: left;\n",
       "    }\n",
       "\n",
       "    .dataframe tbody tr th {\n",
       "        vertical-align: top;\n",
       "    }\n",
       "</style>\n",
       "<table border=\"1\" class=\"dataframe\">\n",
       "  <thead>\n",
       "    <tr style=\"text-align: right;\">\n",
       "      <th></th>\n",
       "      <th>model</th>\n",
       "      <th>auc_train</th>\n",
       "      <th>auc_val</th>\n",
       "      <th>auc_test</th>\n",
       "    </tr>\n",
       "  </thead>\n",
       "  <tbody>\n",
       "    <tr>\n",
       "      <th>0</th>\n",
       "      <td>Lasso</td>\n",
       "      <td>0.946191</td>\n",
       "      <td>0.93848</td>\n",
       "      <td>0.927166</td>\n",
       "    </tr>\n",
       "    <tr>\n",
       "      <th>1</th>\n",
       "      <td>Ridge</td>\n",
       "      <td>0.899829</td>\n",
       "      <td>0.895089</td>\n",
       "      <td>0.869795</td>\n",
       "    </tr>\n",
       "    <tr>\n",
       "      <th>2</th>\n",
       "      <td>Optimized Lasso</td>\n",
       "      <td>0.943236</td>\n",
       "      <td>None</td>\n",
       "      <td>0.928266</td>\n",
       "    </tr>\n",
       "  </tbody>\n",
       "</table>\n",
       "</div>"
      ],
      "text/plain": [
       "             model  auc_train   auc_val  auc_test\n",
       "0            Lasso   0.946191   0.93848  0.927166\n",
       "1            Ridge   0.899829  0.895089  0.869795\n",
       "2  Optimized Lasso   0.943236      None  0.928266"
      ]
     },
     "execution_count": 44,
     "metadata": {},
     "output_type": "execute_result"
    }
   ],
   "source": [
    "model = LogisticRegression(penalty='l1', solver = 'liblinear', C = best_C)\n",
    "model.fit(X_train, np.array(y_train))\n",
    "    \n",
    "# Generar predicciones\n",
    "pred_train_p = model.predict_proba(X_train)\n",
    "pred_test_p = model.predict_proba(X_test)\n",
    "    \n",
    "# Calcular métricas de evaluación\n",
    "auc_train = auc(y_train, pred_train_p[:, 1])\n",
    "auc_test = auc(y_test, pred_test_p[:, 1])\n",
    "\n",
    "results = results.append(pd.DataFrame(data={'model':['Optimized Lasso'],'auc_train':[auc_train],'auc_val':[None],'auc_test':[auc_test]}, columns=['model',  'auc_train','auc_val', 'auc_test']), ignore_index=True)\n",
    "results"
   ]
  },
  {
   "cell_type": "markdown",
   "metadata": {},
   "source": [
    "El mejor modelo entre todos los probados es..."
   ]
  },
  {
   "cell_type": "code",
   "execution_count": 45,
   "metadata": {},
   "outputs": [
    {
     "data": {
      "text/plain": [
       "'Optimized Lasso'"
      ]
     },
     "execution_count": 45,
     "metadata": {},
     "output_type": "execute_result"
    }
   ],
   "source": [
    "results['model'][results['auc_test'].idxmax()]"
   ]
  }
 ],
 "metadata": {
  "kernelspec": {
   "display_name": "Python 3",
   "language": "python",
   "name": "python3"
  },
  "language_info": {
   "codemirror_mode": {
    "name": "ipython",
    "version": 3
   },
   "file_extension": ".py",
   "mimetype": "text/x-python",
   "name": "python",
   "nbconvert_exporter": "python",
   "pygments_lexer": "ipython3",
   "version": "3.7.3"
  }
 },
 "nbformat": 4,
 "nbformat_minor": 2
}
