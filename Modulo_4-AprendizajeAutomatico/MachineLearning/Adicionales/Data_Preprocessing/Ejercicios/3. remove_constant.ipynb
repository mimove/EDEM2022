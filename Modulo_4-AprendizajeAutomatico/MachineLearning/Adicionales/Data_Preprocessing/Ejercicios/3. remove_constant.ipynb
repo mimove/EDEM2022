{
 "cells": [
  {
   "cell_type": "code",
   "execution_count": 1,
   "metadata": {},
   "outputs": [],
   "source": [
    "# Load Libraries\n",
    "%matplotlib inline\n",
    "import numpy as np\n",
    "import matplotlib.pyplot as plt\n",
    "from scipy import stats\n",
    "import pandas as pd \n",
    "\n",
    "from sklearn.model_selection import train_test_split\n",
    "from scipy import stats\n",
    "\n",
    "from multiprocessing import cpu_count"
   ]
  },
  {
   "cell_type": "markdown",
   "metadata": {},
   "source": [
    "# Eliminar Variables Constantes"
   ]
  },
  {
   "cell_type": "markdown",
   "metadata": {},
   "source": [
    "Las variables constantes no contienen información útil cuando se intenta predecir o extraer patrones de los datos. Estas variables deben eliminarse para reducir los costes computacionales y de memoria, así como para ayudar al modelo a centrarse en las variables relevantes."
   ]
  },
  {
   "cell_type": "markdown",
   "metadata": {},
   "source": [
    "## Load Data"
   ]
  },
  {
   "cell_type": "code",
   "execution_count": 2,
   "metadata": {},
   "outputs": [
    {
     "data": {
      "text/html": [
       "<div>\n",
       "<style scoped>\n",
       "    .dataframe tbody tr th:only-of-type {\n",
       "        vertical-align: middle;\n",
       "    }\n",
       "\n",
       "    .dataframe tbody tr th {\n",
       "        vertical-align: top;\n",
       "    }\n",
       "\n",
       "    .dataframe thead th {\n",
       "        text-align: right;\n",
       "    }\n",
       "</style>\n",
       "<table border=\"1\" class=\"dataframe\">\n",
       "  <thead>\n",
       "    <tr style=\"text-align: right;\">\n",
       "      <th></th>\n",
       "      <th>user</th>\n",
       "      <th>booking_date</th>\n",
       "      <th>origin_airport</th>\n",
       "      <th>price</th>\n",
       "      <th>sales channel</th>\n",
       "      <th>ant</th>\n",
       "      <th>airline</th>\n",
       "    </tr>\n",
       "  </thead>\n",
       "  <tbody>\n",
       "    <tr>\n",
       "      <th>0</th>\n",
       "      <td>user5</td>\n",
       "      <td>01/11/2018</td>\n",
       "      <td>MAD</td>\n",
       "      <td>NaN</td>\n",
       "      <td>online</td>\n",
       "      <td>NaN</td>\n",
       "      <td>i2</td>\n",
       "    </tr>\n",
       "    <tr>\n",
       "      <th>1</th>\n",
       "      <td>user7</td>\n",
       "      <td>01/11/2018</td>\n",
       "      <td>DUB</td>\n",
       "      <td>147.500000</td>\n",
       "      <td>online</td>\n",
       "      <td>38.0</td>\n",
       "      <td>i2</td>\n",
       "    </tr>\n",
       "    <tr>\n",
       "      <th>2</th>\n",
       "      <td>user4</td>\n",
       "      <td>02/11/2018</td>\n",
       "      <td>TFS</td>\n",
       "      <td>24.049999</td>\n",
       "      <td>online</td>\n",
       "      <td>19.0</td>\n",
       "      <td>i2</td>\n",
       "    </tr>\n",
       "    <tr>\n",
       "      <th>3</th>\n",
       "      <td>user8</td>\n",
       "      <td>29/10/2018</td>\n",
       "      <td>MAD</td>\n",
       "      <td>59.709999</td>\n",
       "      <td>online</td>\n",
       "      <td>8.0</td>\n",
       "      <td>i2</td>\n",
       "    </tr>\n",
       "    <tr>\n",
       "      <th>4</th>\n",
       "      <td>user7</td>\n",
       "      <td>01/11/2018</td>\n",
       "      <td>NaN</td>\n",
       "      <td>37.299999</td>\n",
       "      <td>call center</td>\n",
       "      <td>4.0</td>\n",
       "      <td>i2</td>\n",
       "    </tr>\n",
       "  </tbody>\n",
       "</table>\n",
       "</div>"
      ],
      "text/plain": [
       "    user booking_date origin_airport       price sales channel   ant airline\n",
       "0  user5   01/11/2018            MAD         NaN        online   NaN      i2\n",
       "1  user7   01/11/2018            DUB  147.500000        online  38.0      i2\n",
       "2  user4   02/11/2018            TFS   24.049999        online  19.0      i2\n",
       "3  user8   29/10/2018            MAD   59.709999        online   8.0      i2\n",
       "4  user7   01/11/2018            NaN   37.299999   call center   4.0      i2"
      ]
     },
     "execution_count": 2,
     "metadata": {},
     "output_type": "execute_result"
    }
   ],
   "source": [
    "dat = pd.read_csv(\"../../datasets/i2.csv\", sep = \";\")\n",
    "dat.head()"
   ]
  },
  {
   "cell_type": "markdown",
   "metadata": {},
   "source": [
    "## Detectar Variables Constantes"
   ]
  },
  {
   "cell_type": "markdown",
   "metadata": {},
   "source": [
    "Vamos a contar el número de valores únicos (distintos) de cada variable del conjunto de datos."
   ]
  },
  {
   "cell_type": "code",
   "execution_count": 3,
   "metadata": {},
   "outputs": [
    {
     "data": {
      "text/plain": [
       "user               10\n",
       "booking_date        6\n",
       "origin_airport     53\n",
       "price             391\n",
       "sales channel       3\n",
       "ant                97\n",
       "airline             1\n",
       "dtype: int64"
      ]
     },
     "execution_count": 3,
     "metadata": {},
     "output_type": "execute_result"
    }
   ],
   "source": [
    "dat.apply(lambda x: len(x.unique()))"
   ]
  },
  {
   "cell_type": "markdown",
   "metadata": {},
   "source": [
    "airline solo tiene un valor. Esto significa que es una variable constante."
   ]
  },
  {
   "cell_type": "markdown",
   "metadata": {},
   "source": [
    "De forma más general, podemos detectar variables constantes en un conjunto de datos haciendo esto:"
   ]
  },
  {
   "cell_type": "code",
   "execution_count": 4,
   "metadata": {},
   "outputs": [
    {
     "data": {
      "text/plain": [
       "array(['user', 'booking_date', 'origin_airport', 'price', 'sales channel',\n",
       "       'ant', 'airline'], dtype=object)"
      ]
     },
     "execution_count": 4,
     "metadata": {},
     "output_type": "execute_result"
    }
   ],
   "source": [
    "dat.columns.values"
   ]
  },
  {
   "cell_type": "code",
   "execution_count": 5,
   "metadata": {},
   "outputs": [
    {
     "data": {
      "text/plain": [
       "user              False\n",
       "booking_date      False\n",
       "origin_airport    False\n",
       "price             False\n",
       "sales channel     False\n",
       "ant               False\n",
       "airline            True\n",
       "dtype: bool"
      ]
     },
     "execution_count": 5,
     "metadata": {},
     "output_type": "execute_result"
    }
   ],
   "source": [
    "dat.apply(lambda x: len(x.unique())) == 1"
   ]
  },
  {
   "cell_type": "code",
   "execution_count": 6,
   "metadata": {},
   "outputs": [
    {
     "data": {
      "text/plain": [
       "['airline']"
      ]
     },
     "execution_count": 6,
     "metadata": {},
     "output_type": "execute_result"
    }
   ],
   "source": [
    "constant_variables = dat.columns.values[dat.apply(lambda x: len(x.unique())) == 1].tolist()\n",
    "constant_variables"
   ]
  },
  {
   "cell_type": "markdown",
   "metadata": {},
   "source": [
    "## Eliminar Variables Constantes"
   ]
  },
  {
   "cell_type": "markdown",
   "metadata": {},
   "source": [
    "Utilicemos la lista calculada anteriormente con nombres de columnas constantes para eliminar estas variables de nuestro conjunto de datos."
   ]
  },
  {
   "cell_type": "code",
   "execution_count": 7,
   "metadata": {},
   "outputs": [
    {
     "data": {
      "text/html": [
       "<div>\n",
       "<style scoped>\n",
       "    .dataframe tbody tr th:only-of-type {\n",
       "        vertical-align: middle;\n",
       "    }\n",
       "\n",
       "    .dataframe tbody tr th {\n",
       "        vertical-align: top;\n",
       "    }\n",
       "\n",
       "    .dataframe thead th {\n",
       "        text-align: right;\n",
       "    }\n",
       "</style>\n",
       "<table border=\"1\" class=\"dataframe\">\n",
       "  <thead>\n",
       "    <tr style=\"text-align: right;\">\n",
       "      <th></th>\n",
       "      <th>user</th>\n",
       "      <th>booking_date</th>\n",
       "      <th>origin_airport</th>\n",
       "      <th>price</th>\n",
       "      <th>sales channel</th>\n",
       "      <th>ant</th>\n",
       "    </tr>\n",
       "  </thead>\n",
       "  <tbody>\n",
       "    <tr>\n",
       "      <th>0</th>\n",
       "      <td>user5</td>\n",
       "      <td>01/11/2018</td>\n",
       "      <td>MAD</td>\n",
       "      <td>NaN</td>\n",
       "      <td>online</td>\n",
       "      <td>NaN</td>\n",
       "    </tr>\n",
       "    <tr>\n",
       "      <th>1</th>\n",
       "      <td>user7</td>\n",
       "      <td>01/11/2018</td>\n",
       "      <td>DUB</td>\n",
       "      <td>147.500000</td>\n",
       "      <td>online</td>\n",
       "      <td>38.0</td>\n",
       "    </tr>\n",
       "    <tr>\n",
       "      <th>2</th>\n",
       "      <td>user4</td>\n",
       "      <td>02/11/2018</td>\n",
       "      <td>TFS</td>\n",
       "      <td>24.049999</td>\n",
       "      <td>online</td>\n",
       "      <td>19.0</td>\n",
       "    </tr>\n",
       "    <tr>\n",
       "      <th>3</th>\n",
       "      <td>user8</td>\n",
       "      <td>29/10/2018</td>\n",
       "      <td>MAD</td>\n",
       "      <td>59.709999</td>\n",
       "      <td>online</td>\n",
       "      <td>8.0</td>\n",
       "    </tr>\n",
       "    <tr>\n",
       "      <th>4</th>\n",
       "      <td>user7</td>\n",
       "      <td>01/11/2018</td>\n",
       "      <td>NaN</td>\n",
       "      <td>37.299999</td>\n",
       "      <td>call center</td>\n",
       "      <td>4.0</td>\n",
       "    </tr>\n",
       "    <tr>\n",
       "      <th>...</th>\n",
       "      <td>...</td>\n",
       "      <td>...</td>\n",
       "      <td>...</td>\n",
       "      <td>...</td>\n",
       "      <td>...</td>\n",
       "      <td>...</td>\n",
       "    </tr>\n",
       "    <tr>\n",
       "      <th>995</th>\n",
       "      <td>user2</td>\n",
       "      <td>01/11/2018</td>\n",
       "      <td>JMK</td>\n",
       "      <td>NaN</td>\n",
       "      <td>online</td>\n",
       "      <td>29.0</td>\n",
       "    </tr>\n",
       "    <tr>\n",
       "      <th>996</th>\n",
       "      <td>user10</td>\n",
       "      <td>01/11/2018</td>\n",
       "      <td>SVQ</td>\n",
       "      <td>NaN</td>\n",
       "      <td>online</td>\n",
       "      <td>39.0</td>\n",
       "    </tr>\n",
       "    <tr>\n",
       "      <th>997</th>\n",
       "      <td>user4</td>\n",
       "      <td>30/10/2018</td>\n",
       "      <td>MAD</td>\n",
       "      <td>NaN</td>\n",
       "      <td>online</td>\n",
       "      <td>5.0</td>\n",
       "    </tr>\n",
       "    <tr>\n",
       "      <th>998</th>\n",
       "      <td>user10</td>\n",
       "      <td>02/11/2018</td>\n",
       "      <td>CDG</td>\n",
       "      <td>NaN</td>\n",
       "      <td>online</td>\n",
       "      <td>4.0</td>\n",
       "    </tr>\n",
       "    <tr>\n",
       "      <th>999</th>\n",
       "      <td>user6</td>\n",
       "      <td>01/11/2018</td>\n",
       "      <td>MAD</td>\n",
       "      <td>98.339996</td>\n",
       "      <td>online</td>\n",
       "      <td>0.0</td>\n",
       "    </tr>\n",
       "  </tbody>\n",
       "</table>\n",
       "<p>1000 rows × 6 columns</p>\n",
       "</div>"
      ],
      "text/plain": [
       "       user booking_date origin_airport       price sales channel   ant\n",
       "0     user5   01/11/2018            MAD         NaN        online   NaN\n",
       "1     user7   01/11/2018            DUB  147.500000        online  38.0\n",
       "2     user4   02/11/2018            TFS   24.049999        online  19.0\n",
       "3     user8   29/10/2018            MAD   59.709999        online   8.0\n",
       "4     user7   01/11/2018            NaN   37.299999   call center   4.0\n",
       "..      ...          ...            ...         ...           ...   ...\n",
       "995   user2   01/11/2018            JMK         NaN        online  29.0\n",
       "996  user10   01/11/2018            SVQ         NaN        online  39.0\n",
       "997   user4   30/10/2018            MAD         NaN        online   5.0\n",
       "998  user10   02/11/2018            CDG         NaN        online   4.0\n",
       "999   user6   01/11/2018            MAD   98.339996        online   0.0\n",
       "\n",
       "[1000 rows x 6 columns]"
      ]
     },
     "execution_count": 7,
     "metadata": {},
     "output_type": "execute_result"
    }
   ],
   "source": [
    "new_dat = dat.drop(constant_variables, axis = 1)\n",
    "new_dat"
   ]
  },
  {
   "cell_type": "markdown",
   "metadata": {},
   "source": [
    "## Definir Función"
   ]
  },
  {
   "cell_type": "markdown",
   "metadata": {},
   "source": [
    "Vamos a crear nuestra propia función personalizada para eliminar variables constantes."
   ]
  },
  {
   "cell_type": "code",
   "execution_count": 12,
   "metadata": {},
   "outputs": [],
   "source": [
    "def remove_constant(X):\n",
    "    constant_variables = X.columns.values[X.apply(lambda x: len(x.unique())) == 1].tolist()\n",
    "    X = X.drop(constant_variables, axis = 1)\n",
    "    print('Variables ' + str(constant_variables) + ' have been removed from dataset.')\n",
    "    return X;\n",
    "                                    \n",
    "                                                                                        "
   ]
  },
  {
   "cell_type": "code",
   "execution_count": 13,
   "metadata": {},
   "outputs": [
    {
     "name": "stdout",
     "output_type": "stream",
     "text": [
      "Variables ['airline'] have been removed from dataset.\n"
     ]
    },
    {
     "data": {
      "text/html": [
       "<div>\n",
       "<style scoped>\n",
       "    .dataframe tbody tr th:only-of-type {\n",
       "        vertical-align: middle;\n",
       "    }\n",
       "\n",
       "    .dataframe tbody tr th {\n",
       "        vertical-align: top;\n",
       "    }\n",
       "\n",
       "    .dataframe thead th {\n",
       "        text-align: right;\n",
       "    }\n",
       "</style>\n",
       "<table border=\"1\" class=\"dataframe\">\n",
       "  <thead>\n",
       "    <tr style=\"text-align: right;\">\n",
       "      <th></th>\n",
       "      <th>user</th>\n",
       "      <th>booking_date</th>\n",
       "      <th>origin_airport</th>\n",
       "      <th>price</th>\n",
       "      <th>sales channel</th>\n",
       "      <th>ant</th>\n",
       "    </tr>\n",
       "  </thead>\n",
       "  <tbody>\n",
       "    <tr>\n",
       "      <th>0</th>\n",
       "      <td>user5</td>\n",
       "      <td>01/11/2018</td>\n",
       "      <td>MAD</td>\n",
       "      <td>NaN</td>\n",
       "      <td>online</td>\n",
       "      <td>NaN</td>\n",
       "    </tr>\n",
       "    <tr>\n",
       "      <th>1</th>\n",
       "      <td>user7</td>\n",
       "      <td>01/11/2018</td>\n",
       "      <td>DUB</td>\n",
       "      <td>147.500000</td>\n",
       "      <td>online</td>\n",
       "      <td>38.0</td>\n",
       "    </tr>\n",
       "    <tr>\n",
       "      <th>2</th>\n",
       "      <td>user4</td>\n",
       "      <td>02/11/2018</td>\n",
       "      <td>TFS</td>\n",
       "      <td>24.049999</td>\n",
       "      <td>online</td>\n",
       "      <td>19.0</td>\n",
       "    </tr>\n",
       "    <tr>\n",
       "      <th>3</th>\n",
       "      <td>user8</td>\n",
       "      <td>29/10/2018</td>\n",
       "      <td>MAD</td>\n",
       "      <td>59.709999</td>\n",
       "      <td>online</td>\n",
       "      <td>8.0</td>\n",
       "    </tr>\n",
       "    <tr>\n",
       "      <th>4</th>\n",
       "      <td>user7</td>\n",
       "      <td>01/11/2018</td>\n",
       "      <td>NaN</td>\n",
       "      <td>37.299999</td>\n",
       "      <td>call center</td>\n",
       "      <td>4.0</td>\n",
       "    </tr>\n",
       "  </tbody>\n",
       "</table>\n",
       "</div>"
      ],
      "text/plain": [
       "    user booking_date origin_airport       price sales channel   ant\n",
       "0  user5   01/11/2018            MAD         NaN        online   NaN\n",
       "1  user7   01/11/2018            DUB  147.500000        online  38.0\n",
       "2  user4   02/11/2018            TFS   24.049999        online  19.0\n",
       "3  user8   29/10/2018            MAD   59.709999        online   8.0\n",
       "4  user7   01/11/2018            NaN   37.299999   call center   4.0"
      ]
     },
     "execution_count": 13,
     "metadata": {},
     "output_type": "execute_result"
    }
   ],
   "source": [
    "new_dat = remove_constant(dat)\n",
    "new_dat.head()"
   ]
  }
 ],
 "metadata": {
  "kernelspec": {
   "display_name": "Python 3",
   "language": "python",
   "name": "python3"
  },
  "language_info": {
   "codemirror_mode": {
    "name": "ipython",
    "version": 3
   },
   "file_extension": ".py",
   "mimetype": "text/x-python",
   "name": "python",
   "nbconvert_exporter": "python",
   "pygments_lexer": "ipython3",
   "version": "3.10.10"
  }
 },
 "nbformat": 4,
 "nbformat_minor": 4
}
