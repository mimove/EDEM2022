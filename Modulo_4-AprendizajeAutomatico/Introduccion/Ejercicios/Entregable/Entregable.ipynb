{
  "cells": [
    {
      "cell_type": "code",
      "execution_count": 1,
      "metadata": {
        "id": "_h9bz9Bip9Xv"
      },
      "outputs": [],
      "source": [
        "%matplotlib inline\n",
        "\n",
        "import numpy as np\n",
        "import pandas as pd\n",
        "import matplotlib.pyplot as plt\n",
        "import scipy.stats as stats\n",
        "import random\n",
        "import math\n",
        "import seaborn as sns\n",
        "\n",
        "import statsmodels.api as sm\n",
        "import plotly.tools as tls\n",
        "import plotly.graph_objs as go\n",
        "import matplotlib.pyplot as plt\n",
        "\n",
        "import plotly.express as px\n",
        "from plotly.subplots import make_subplots\n",
        "import numpy as np"
      ]
    },
    {
      "attachments": {},
      "cell_type": "markdown",
      "metadata": {},
      "source": [
        "# Descriptiva de datos elegidos y variables seleccionadas"
      ]
    },
    {
      "attachments": {},
      "cell_type": "markdown",
      "metadata": {},
      "source": [
        "El dataset elegido para el análisis es el de attrition_data.csv que contiene información sobre los empleados de muchas empresas de diferentes sectores. Los datos dan información del nivel de satisfacción de un empleado con la empresa en la que trabaja, así como el número de años que permanecen en la misma empresa los trabajadores. Están clasificados con datos socioeconómicos como por ejemplo edad, estado marital, estudios de los trabajadores o salario mensual. El dataset contiene 1470 filas y 13 columnas. Las columnas en las que nos vamos a centrar principalemnte son las siguientes:\n",
        "\n",
        "* Age: Edad del empleado. Variable cuantitativa discreta, ya que solo puede tomar valores enteros.\n",
        "  \n",
        "* EducationField: Área de estudio del empleado. Variable categorica nominativa ya que no hay un orden entre las categorías.\n",
        "  \n",
        "El hecho de haber elegido estas dos variables se debe a la diferencia en su naturaleza (una variable cuantitativa y otra categórica) y al estudio previo realizado en el que se observó que al elegir estas dos variables se podían obtener diferentes casos de estudio de la normalidad de los datos.\n",
        "\n",
        "A continuación, se enseña un resumen del dataframe elegido"
      ]
    },
    {
      "cell_type": "code",
      "execution_count": 2,
      "metadata": {
        "colab": {
          "base_uri": "https://localhost:8080/",
          "height": 627
        },
        "id": "JZ9RAK1Mp9Xy",
        "outputId": "c1513bff-e686-4eba-e89c-5772ebeee960"
      },
      "outputs": [
        {
          "data": {
            "text/html": [
              "<div>\n",
              "<style scoped>\n",
              "    .dataframe tbody tr th:only-of-type {\n",
              "        vertical-align: middle;\n",
              "    }\n",
              "\n",
              "    .dataframe tbody tr th {\n",
              "        vertical-align: top;\n",
              "    }\n",
              "\n",
              "    .dataframe thead th {\n",
              "        text-align: right;\n",
              "    }\n",
              "</style>\n",
              "<table border=\"1\" class=\"dataframe\">\n",
              "  <thead>\n",
              "    <tr style=\"text-align: right;\">\n",
              "      <th></th>\n",
              "      <th>Age</th>\n",
              "      <th>Attrition</th>\n",
              "      <th>Department</th>\n",
              "      <th>DistanceFromHome</th>\n",
              "      <th>Education</th>\n",
              "      <th>EducationField</th>\n",
              "      <th>EnvironmentSatisfaction</th>\n",
              "      <th>JobSatisfaction</th>\n",
              "      <th>MaritalStatus</th>\n",
              "      <th>MonthlyIncome</th>\n",
              "      <th>NumCompaniesWorked</th>\n",
              "      <th>WorkLifeBalance</th>\n",
              "      <th>YearsAtCompany</th>\n",
              "    </tr>\n",
              "  </thead>\n",
              "  <tbody>\n",
              "    <tr>\n",
              "      <th>0</th>\n",
              "      <td>41</td>\n",
              "      <td>Yes</td>\n",
              "      <td>Sales</td>\n",
              "      <td>1</td>\n",
              "      <td>2</td>\n",
              "      <td>Life Sciences</td>\n",
              "      <td>2</td>\n",
              "      <td>4</td>\n",
              "      <td>Single</td>\n",
              "      <td>5993</td>\n",
              "      <td>8</td>\n",
              "      <td>1</td>\n",
              "      <td>6</td>\n",
              "    </tr>\n",
              "    <tr>\n",
              "      <th>1</th>\n",
              "      <td>49</td>\n",
              "      <td>No</td>\n",
              "      <td>Research &amp; Development</td>\n",
              "      <td>8</td>\n",
              "      <td>1</td>\n",
              "      <td>Life Sciences</td>\n",
              "      <td>3</td>\n",
              "      <td>2</td>\n",
              "      <td>Married</td>\n",
              "      <td>5130</td>\n",
              "      <td>1</td>\n",
              "      <td>3</td>\n",
              "      <td>10</td>\n",
              "    </tr>\n",
              "    <tr>\n",
              "      <th>2</th>\n",
              "      <td>37</td>\n",
              "      <td>Yes</td>\n",
              "      <td>Research &amp; Development</td>\n",
              "      <td>2</td>\n",
              "      <td>2</td>\n",
              "      <td>Other</td>\n",
              "      <td>4</td>\n",
              "      <td>3</td>\n",
              "      <td>Single</td>\n",
              "      <td>2090</td>\n",
              "      <td>6</td>\n",
              "      <td>3</td>\n",
              "      <td>0</td>\n",
              "    </tr>\n",
              "    <tr>\n",
              "      <th>3</th>\n",
              "      <td>33</td>\n",
              "      <td>No</td>\n",
              "      <td>Research &amp; Development</td>\n",
              "      <td>3</td>\n",
              "      <td>4</td>\n",
              "      <td>Life Sciences</td>\n",
              "      <td>4</td>\n",
              "      <td>3</td>\n",
              "      <td>Married</td>\n",
              "      <td>2909</td>\n",
              "      <td>1</td>\n",
              "      <td>3</td>\n",
              "      <td>8</td>\n",
              "    </tr>\n",
              "    <tr>\n",
              "      <th>4</th>\n",
              "      <td>27</td>\n",
              "      <td>No</td>\n",
              "      <td>Research &amp; Development</td>\n",
              "      <td>2</td>\n",
              "      <td>1</td>\n",
              "      <td>Medical</td>\n",
              "      <td>1</td>\n",
              "      <td>2</td>\n",
              "      <td>Married</td>\n",
              "      <td>3468</td>\n",
              "      <td>9</td>\n",
              "      <td>3</td>\n",
              "      <td>2</td>\n",
              "    </tr>\n",
              "    <tr>\n",
              "      <th>...</th>\n",
              "      <td>...</td>\n",
              "      <td>...</td>\n",
              "      <td>...</td>\n",
              "      <td>...</td>\n",
              "      <td>...</td>\n",
              "      <td>...</td>\n",
              "      <td>...</td>\n",
              "      <td>...</td>\n",
              "      <td>...</td>\n",
              "      <td>...</td>\n",
              "      <td>...</td>\n",
              "      <td>...</td>\n",
              "      <td>...</td>\n",
              "    </tr>\n",
              "    <tr>\n",
              "      <th>1465</th>\n",
              "      <td>36</td>\n",
              "      <td>No</td>\n",
              "      <td>Research &amp; Development</td>\n",
              "      <td>23</td>\n",
              "      <td>2</td>\n",
              "      <td>Medical</td>\n",
              "      <td>3</td>\n",
              "      <td>4</td>\n",
              "      <td>Married</td>\n",
              "      <td>2571</td>\n",
              "      <td>4</td>\n",
              "      <td>3</td>\n",
              "      <td>5</td>\n",
              "    </tr>\n",
              "    <tr>\n",
              "      <th>1466</th>\n",
              "      <td>39</td>\n",
              "      <td>No</td>\n",
              "      <td>Research &amp; Development</td>\n",
              "      <td>6</td>\n",
              "      <td>1</td>\n",
              "      <td>Medical</td>\n",
              "      <td>4</td>\n",
              "      <td>1</td>\n",
              "      <td>Married</td>\n",
              "      <td>9991</td>\n",
              "      <td>4</td>\n",
              "      <td>3</td>\n",
              "      <td>7</td>\n",
              "    </tr>\n",
              "    <tr>\n",
              "      <th>1467</th>\n",
              "      <td>27</td>\n",
              "      <td>No</td>\n",
              "      <td>Research &amp; Development</td>\n",
              "      <td>4</td>\n",
              "      <td>3</td>\n",
              "      <td>Life Sciences</td>\n",
              "      <td>2</td>\n",
              "      <td>2</td>\n",
              "      <td>Married</td>\n",
              "      <td>6142</td>\n",
              "      <td>1</td>\n",
              "      <td>3</td>\n",
              "      <td>6</td>\n",
              "    </tr>\n",
              "    <tr>\n",
              "      <th>1468</th>\n",
              "      <td>49</td>\n",
              "      <td>No</td>\n",
              "      <td>Sales</td>\n",
              "      <td>2</td>\n",
              "      <td>3</td>\n",
              "      <td>Medical</td>\n",
              "      <td>4</td>\n",
              "      <td>2</td>\n",
              "      <td>Married</td>\n",
              "      <td>5390</td>\n",
              "      <td>2</td>\n",
              "      <td>2</td>\n",
              "      <td>9</td>\n",
              "    </tr>\n",
              "    <tr>\n",
              "      <th>1469</th>\n",
              "      <td>34</td>\n",
              "      <td>No</td>\n",
              "      <td>Research &amp; Development</td>\n",
              "      <td>8</td>\n",
              "      <td>3</td>\n",
              "      <td>Medical</td>\n",
              "      <td>2</td>\n",
              "      <td>3</td>\n",
              "      <td>Married</td>\n",
              "      <td>4404</td>\n",
              "      <td>2</td>\n",
              "      <td>4</td>\n",
              "      <td>4</td>\n",
              "    </tr>\n",
              "  </tbody>\n",
              "</table>\n",
              "<p>1470 rows × 13 columns</p>\n",
              "</div>"
            ],
            "text/plain": [
              "      Age Attrition              Department  DistanceFromHome  Education  \\\n",
              "0      41       Yes                   Sales                 1          2   \n",
              "1      49        No  Research & Development                 8          1   \n",
              "2      37       Yes  Research & Development                 2          2   \n",
              "3      33        No  Research & Development                 3          4   \n",
              "4      27        No  Research & Development                 2          1   \n",
              "...   ...       ...                     ...               ...        ...   \n",
              "1465   36        No  Research & Development                23          2   \n",
              "1466   39        No  Research & Development                 6          1   \n",
              "1467   27        No  Research & Development                 4          3   \n",
              "1468   49        No                   Sales                 2          3   \n",
              "1469   34        No  Research & Development                 8          3   \n",
              "\n",
              "     EducationField  EnvironmentSatisfaction  JobSatisfaction MaritalStatus  \\\n",
              "0     Life Sciences                        2                4        Single   \n",
              "1     Life Sciences                        3                2       Married   \n",
              "2             Other                        4                3        Single   \n",
              "3     Life Sciences                        4                3       Married   \n",
              "4           Medical                        1                2       Married   \n",
              "...             ...                      ...              ...           ...   \n",
              "1465        Medical                        3                4       Married   \n",
              "1466        Medical                        4                1       Married   \n",
              "1467  Life Sciences                        2                2       Married   \n",
              "1468        Medical                        4                2       Married   \n",
              "1469        Medical                        2                3       Married   \n",
              "\n",
              "      MonthlyIncome  NumCompaniesWorked  WorkLifeBalance  YearsAtCompany  \n",
              "0              5993                   8                1               6  \n",
              "1              5130                   1                3              10  \n",
              "2              2090                   6                3               0  \n",
              "3              2909                   1                3               8  \n",
              "4              3468                   9                3               2  \n",
              "...             ...                 ...              ...             ...  \n",
              "1465           2571                   4                3               5  \n",
              "1466           9991                   4                3               7  \n",
              "1467           6142                   1                3               6  \n",
              "1468           5390                   2                2               9  \n",
              "1469           4404                   2                4               4  \n",
              "\n",
              "[1470 rows x 13 columns]"
            ]
          },
          "execution_count": 2,
          "metadata": {},
          "output_type": "execute_result"
        }
      ],
      "source": [
        "df = pd.read_csv(\"attrition_data.csv\")\n",
        "\n",
        "df"
      ]
    },
    {
      "attachments": {},
      "cell_type": "markdown",
      "metadata": {},
      "source": [
        "Lo primero que estudiamos es la distribución de la variable categórica EducationalField. Se emplea un cross tab para ver la distribución de los empleados por área de estudio."
      ]
    },
    {
      "cell_type": "code",
      "execution_count": 3,
      "metadata": {},
      "outputs": [
        {
          "data": {
            "text/html": [
              "<div>\n",
              "<style scoped>\n",
              "    .dataframe tbody tr th:only-of-type {\n",
              "        vertical-align: middle;\n",
              "    }\n",
              "\n",
              "    .dataframe tbody tr th {\n",
              "        vertical-align: top;\n",
              "    }\n",
              "\n",
              "    .dataframe thead th {\n",
              "        text-align: right;\n",
              "    }\n",
              "</style>\n",
              "<table border=\"1\" class=\"dataframe\">\n",
              "  <thead>\n",
              "    <tr style=\"text-align: right;\">\n",
              "      <th>col_0</th>\n",
              "      <th>count</th>\n",
              "    </tr>\n",
              "    <tr>\n",
              "      <th>EducationField</th>\n",
              "      <th></th>\n",
              "    </tr>\n",
              "  </thead>\n",
              "  <tbody>\n",
              "    <tr>\n",
              "      <th>Human Resources</th>\n",
              "      <td>27</td>\n",
              "    </tr>\n",
              "    <tr>\n",
              "      <th>Life Sciences</th>\n",
              "      <td>606</td>\n",
              "    </tr>\n",
              "    <tr>\n",
              "      <th>Marketing</th>\n",
              "      <td>159</td>\n",
              "    </tr>\n",
              "    <tr>\n",
              "      <th>Medical</th>\n",
              "      <td>464</td>\n",
              "    </tr>\n",
              "    <tr>\n",
              "      <th>Other</th>\n",
              "      <td>82</td>\n",
              "    </tr>\n",
              "    <tr>\n",
              "      <th>Technical Degree</th>\n",
              "      <td>132</td>\n",
              "    </tr>\n",
              "  </tbody>\n",
              "</table>\n",
              "</div>"
            ],
            "text/plain": [
              "col_0             count\n",
              "EducationField         \n",
              "Human Resources      27\n",
              "Life Sciences       606\n",
              "Marketing           159\n",
              "Medical             464\n",
              "Other                82\n",
              "Technical Degree    132"
            ]
          },
          "execution_count": 3,
          "metadata": {},
          "output_type": "execute_result"
        }
      ],
      "source": [
        "pd.crosstab(index=df['EducationField'], columns='count')"
      ]
    },
    {
      "attachments": {},
      "cell_type": "markdown",
      "metadata": {},
      "source": [
        "A partir de los datos anteriores, ahora se quiere dibujar un gráfico de tartas para ver la distribución de los empleados por área de estudio. "
      ]
    },
    {
      "cell_type": "code",
      "execution_count": 4,
      "metadata": {},
      "outputs": [
        {
          "data": {
            "image/png": "[encoded data removed]",
            "text/plain": [
              "<Figure size 640x480 with 1 Axes>"
            ]
          },
          "metadata": {},
          "output_type": "display_data"
        }
      ],
      "source": [
        "# Create data with the percentage of each EducationField\n",
        "data = df['EducationField'].value_counts(normalize=True).sort_values(ascending=False)\n",
        "\n",
        "#define Seaborn color palette to use\n",
        "colors = sns.color_palette('pastel')[0:5]\n",
        "\n",
        "#create pie chart\n",
        "plt.pie(data, labels = data.index, colors = colors, autopct='%.0f%%')\n",
        "plt.show()"
      ]
    },
    {
      "attachments": {},
      "cell_type": "markdown",
      "metadata": {},
      "source": [
        "Se puede observar como casi la mitad de los empleados son de la rama de Life Sciences, seguido de Medical y Marketing. Por otro lado, la rama de Human Resources es la que menos empleados tiene."
      ]
    },
    {
      "attachments": {},
      "cell_type": "markdown",
      "metadata": {},
      "source": [
        "A continuación, se representa la tabla de frecuencia por intervalos de la variable Age para estudiar la distribución de la edad de los empleados."
      ]
    },
    {
      "cell_type": "code",
      "execution_count": 5,
      "metadata": {},
      "outputs": [
        {
          "name": "stdout",
          "output_type": "stream",
          "text": [
            "               Age  Class Mark  Abs. Freq.  Cum. Abs. Freq.  Rel. Freq.  \\\n",
            "(17, 22]  (17, 22]        19.5          57               57    0.038776   \n",
            "(22, 27]  (22, 27]        24.5         153              210    0.104082   \n",
            "(27, 32]  (27, 32]        29.5         306              516    0.208163   \n",
            "(32, 37]  (32, 37]        34.5         332              848    0.225850   \n",
            "(37, 42]  (37, 42]        39.5         243             1091    0.165306   \n",
            "(42, 47]  (42, 47]        44.5         163             1254    0.110884   \n",
            "(47, 52]  (47, 52]        49.5         110             1364    0.074830   \n",
            "(52, 57]  (52, 57]        54.5          77             1441    0.052381   \n",
            "(57, 62]  (57, 62]        59.5          29             1470    0.019728   \n",
            "\n",
            "          Cum. Rel. Freq.  \n",
            "(17, 22]         0.038776  \n",
            "(22, 27]         0.142857  \n",
            "(27, 32]         0.351020  \n",
            "(32, 37]         0.576871  \n",
            "(37, 42]         0.742177  \n",
            "(42, 47]         0.853061  \n",
            "(47, 52]         0.927891  \n",
            "(52, 57]         0.980272  \n",
            "(57, 62]         1.000000  \n"
          ]
        }
      ],
      "source": [
        "# Select the age column and create class intervals\n",
        "intervalos = pd.interval_range(start=17, end=65, freq=5)\n",
        "edad_intervalos = pd.cut(df['Age'], bins=intervalos)\n",
        "\n",
        "# Calculate absolute and relative frequency\n",
        "frecuencia_absoluta = edad_intervalos.value_counts().sort_index()\n",
        "frecuencia_relativa = frecuencia_absoluta / frecuencia_absoluta.sum()\n",
        "\n",
        "# Calculate cumulative absolute frequency and cumulative relative frequency\n",
        "frecuencia_absoluta_acumulada = frecuencia_absoluta.cumsum()\n",
        "frecuencia_relativa_acumulada = frecuencia_relativa.cumsum()\n",
        "\n",
        "# Calculate class mark\n",
        "marca_clase = [(i.left + i.right) / 2 for i in frecuencia_absoluta.index]\n",
        "\n",
        "# Create a DataFrame with the data\n",
        "datos = pd.DataFrame({'Age': edad_intervalos.cat.categories, 'Class Mark': marca_clase, 'Abs. Freq.': frecuencia_absoluta, 'Cum. Abs. Freq.': frecuencia_absoluta_acumulada, 'Rel. Freq.': frecuencia_relativa, 'Cum. Rel. Freq.': frecuencia_relativa_acumulada})\n",
        "\n",
        "# Print the frequency table\n",
        "print(datos)"
      ]
    },
    {
      "attachments": {},
      "cell_type": "markdown",
      "metadata": {},
      "source": [
        "Se puede observar como más de un 40% de los empleados tienen entre 27 y 36 años. Por otro lado, la rango de edad con la frecuencia absoluta más alta es (32, 37] años.\n",
        "\n",
        "Es importante resaltar también que la frecuencia relativa acumulada muestra que a partir de los 47 años, el número de empleados solo representa algo menos del 15% del total."
      ]
    },
    {
      "attachments": {},
      "cell_type": "markdown",
      "metadata": {},
      "source": [
        "Para terminar esta sección se hace una tabla cruzada para ver la distribución de los empleados por área de estudio y por edad."
      ]
    },
    {
      "cell_type": "code",
      "execution_count": 6,
      "metadata": {},
      "outputs": [
        {
          "data": {
            "text/html": [
              "<div>\n",
              "<style scoped>\n",
              "    .dataframe tbody tr th:only-of-type {\n",
              "        vertical-align: middle;\n",
              "    }\n",
              "\n",
              "    .dataframe tbody tr th {\n",
              "        vertical-align: top;\n",
              "    }\n",
              "\n",
              "    .dataframe thead th {\n",
              "        text-align: right;\n",
              "    }\n",
              "</style>\n",
              "<table border=\"1\" class=\"dataframe\">\n",
              "  <thead>\n",
              "    <tr style=\"text-align: right;\">\n",
              "      <th>EducationField</th>\n",
              "      <th>Human Resources</th>\n",
              "      <th>Life Sciences</th>\n",
              "      <th>Marketing</th>\n",
              "      <th>Medical</th>\n",
              "      <th>Other</th>\n",
              "      <th>Technical Degree</th>\n",
              "      <th>All</th>\n",
              "    </tr>\n",
              "    <tr>\n",
              "      <th>Age</th>\n",
              "      <th></th>\n",
              "      <th></th>\n",
              "      <th></th>\n",
              "      <th></th>\n",
              "      <th></th>\n",
              "      <th></th>\n",
              "      <th></th>\n",
              "    </tr>\n",
              "  </thead>\n",
              "  <tbody>\n",
              "    <tr>\n",
              "      <th>(17, 22]</th>\n",
              "      <td>0</td>\n",
              "      <td>21</td>\n",
              "      <td>5</td>\n",
              "      <td>20</td>\n",
              "      <td>3</td>\n",
              "      <td>8</td>\n",
              "      <td>57</td>\n",
              "    </tr>\n",
              "    <tr>\n",
              "      <th>(22, 27]</th>\n",
              "      <td>3</td>\n",
              "      <td>54</td>\n",
              "      <td>14</td>\n",
              "      <td>55</td>\n",
              "      <td>12</td>\n",
              "      <td>15</td>\n",
              "      <td>153</td>\n",
              "    </tr>\n",
              "    <tr>\n",
              "      <th>(27, 32]</th>\n",
              "      <td>5</td>\n",
              "      <td>129</td>\n",
              "      <td>29</td>\n",
              "      <td>95</td>\n",
              "      <td>14</td>\n",
              "      <td>34</td>\n",
              "      <td>306</td>\n",
              "    </tr>\n",
              "    <tr>\n",
              "      <th>(32, 37]</th>\n",
              "      <td>7</td>\n",
              "      <td>139</td>\n",
              "      <td>38</td>\n",
              "      <td>98</td>\n",
              "      <td>25</td>\n",
              "      <td>25</td>\n",
              "      <td>332</td>\n",
              "    </tr>\n",
              "    <tr>\n",
              "      <th>(37, 42]</th>\n",
              "      <td>8</td>\n",
              "      <td>108</td>\n",
              "      <td>26</td>\n",
              "      <td>74</td>\n",
              "      <td>10</td>\n",
              "      <td>17</td>\n",
              "      <td>243</td>\n",
              "    </tr>\n",
              "    <tr>\n",
              "      <th>(42, 47]</th>\n",
              "      <td>1</td>\n",
              "      <td>69</td>\n",
              "      <td>20</td>\n",
              "      <td>50</td>\n",
              "      <td>11</td>\n",
              "      <td>12</td>\n",
              "      <td>163</td>\n",
              "    </tr>\n",
              "    <tr>\n",
              "      <th>(47, 52]</th>\n",
              "      <td>0</td>\n",
              "      <td>47</td>\n",
              "      <td>15</td>\n",
              "      <td>32</td>\n",
              "      <td>6</td>\n",
              "      <td>10</td>\n",
              "      <td>110</td>\n",
              "    </tr>\n",
              "    <tr>\n",
              "      <th>(52, 57]</th>\n",
              "      <td>2</td>\n",
              "      <td>27</td>\n",
              "      <td>9</td>\n",
              "      <td>30</td>\n",
              "      <td>1</td>\n",
              "      <td>8</td>\n",
              "      <td>77</td>\n",
              "    </tr>\n",
              "    <tr>\n",
              "      <th>(57, 62]</th>\n",
              "      <td>1</td>\n",
              "      <td>12</td>\n",
              "      <td>3</td>\n",
              "      <td>10</td>\n",
              "      <td>0</td>\n",
              "      <td>3</td>\n",
              "      <td>29</td>\n",
              "    </tr>\n",
              "    <tr>\n",
              "      <th>All</th>\n",
              "      <td>27</td>\n",
              "      <td>606</td>\n",
              "      <td>159</td>\n",
              "      <td>464</td>\n",
              "      <td>82</td>\n",
              "      <td>132</td>\n",
              "      <td>1470</td>\n",
              "    </tr>\n",
              "  </tbody>\n",
              "</table>\n",
              "</div>"
            ],
            "text/plain": [
              "EducationField  Human Resources  Life Sciences  Marketing  Medical  Other  \\\n",
              "Age                                                                         \n",
              "(17, 22]                      0             21          5       20      3   \n",
              "(22, 27]                      3             54         14       55     12   \n",
              "(27, 32]                      5            129         29       95     14   \n",
              "(32, 37]                      7            139         38       98     25   \n",
              "(37, 42]                      8            108         26       74     10   \n",
              "(42, 47]                      1             69         20       50     11   \n",
              "(47, 52]                      0             47         15       32      6   \n",
              "(52, 57]                      2             27          9       30      1   \n",
              "(57, 62]                      1             12          3       10      0   \n",
              "All                          27            606        159      464     82   \n",
              "\n",
              "EducationField  Technical Degree   All  \n",
              "Age                                     \n",
              "(17, 22]                       8    57  \n",
              "(22, 27]                      15   153  \n",
              "(27, 32]                      34   306  \n",
              "(32, 37]                      25   332  \n",
              "(37, 42]                      17   243  \n",
              "(42, 47]                      12   163  \n",
              "(47, 52]                      10   110  \n",
              "(52, 57]                       8    77  \n",
              "(57, 62]                       3    29  \n",
              "All                          132  1470  "
            ]
          },
          "execution_count": 6,
          "metadata": {},
          "output_type": "execute_result"
        }
      ],
      "source": [
        "bins = pd.cut(df['Age'], bins=[17, 22, 27, 32, 37, 42, 47, 52, 57, 62, 67])\n",
        "\n",
        "pd.crosstab(index=bins, columns=df['EducationField'],margins=True)\n"
      ]
    },
    {
      "attachments": {},
      "cell_type": "markdown",
      "metadata": {},
      "source": [
        "Se observa como, para la mayoría de los valores de EducationField excepto Human Resources y Technical Degrees, la frecuencia absoluta sigue una distribución muy similar a la observada para el conjunto total de los datos. Para Human Resources, la distribución de la edad es muy diferente a la de los demás campos de estudio, ya que solo se cuenta con una muestra de 27 empleados. En el caso de Techincal Degrees la discrepancia con respecto al resto de campos se puede deber a que, por lo general, los empleados de este campo de estudio son más jóvenes."
      ]
    },
    {
      "attachments": {},
      "cell_type": "markdown",
      "metadata": {
        "id": "L7ZESddgivBk"
      },
      "source": [
        "<br>\n",
        "\n",
        "# Normalidad de la variable EducationField"
      ]
    },
    {
      "attachments": {},
      "cell_type": "markdown",
      "metadata": {
        "id": "o6cyrxSBp9Xz"
      },
      "source": [
        "## Histograma"
      ]
    },
    {
      "attachments": {},
      "cell_type": "markdown",
      "metadata": {},
      "source": [
        "De las submuestras de la variable EducationField, elegimos 3: Medical, Marketing y Other."
      ]
    },
    {
      "cell_type": "code",
      "execution_count": 7,
      "metadata": {
        "colab": {
          "base_uri": "https://localhost:8080/",
          "height": 353
        },
        "id": "nO7sIK-pp9X2",
        "outputId": "99c00065-01fb-4d50-c5d6-a240f7c5940a"
      },
      "outputs": [],
      "source": [
        "# Filter the dataframe by the values of column'EducationField' and store the result in three different dataframes\n",
        "\n",
        "df_medical = df[df['EducationField'] == 'Medical']\n",
        "df_marketing = df[df['EducationField'] == 'Marketing']\n",
        "df_other = df[df['EducationField'] == 'Other']\n"
      ]
    },
    {
      "attachments": {},
      "cell_type": "markdown",
      "metadata": {},
      "source": [
        "A continuación representamos la función de densidad de probabilidad de las tres submuestras con un gráfico interactivo utilizando la librería plotly."
      ]
    },
    {
      "cell_type": "code",
      "execution_count": 8,
      "metadata": {},
      "outputs": [
        {
          "data": {
            "application/vnd.plotly.v1+json": {
              "config": {
                "plotlyServerURL": "https://plot.ly"
              },
              "data": [
                {
                  "mode": "lines",
                  "name": "Medical",
                  "type": "scatter",
                  "x": [
                    0,
                    0.4020100502512563,
                    0.8040201005025126,
                    1.206030150753769,
                    1.6080402010050252,
                    2.0100502512562817,
                    2.412060301507538,
                    2.814070351758794,
                    3.2160804020100504,
                    3.6180904522613067,
                    4.020100502512563,
                    4.42211055276382,
                    4.824120603015076,
                    5.226130653266332,
                    5.628140703517588,
                    6.030150753768845,
                    6.432160804020101,
                    6.834170854271357,
                    7.236180904522613,
                    7.63819095477387,
                    8.040201005025127,
                    8.442211055276383,
                    8.84422110552764,
                    9.246231155778895,
                    9.648241206030152,
                    10.050251256281408,
                    10.452261306532664,
                    10.85427135678392,
                    11.256281407035177,
                    11.658291457286433,
                    12.06030150753769,
                    12.462311557788945,
                    12.864321608040202,
                    13.266331658291458,
                    13.668341708542714,
                    14.07035175879397,
                    14.472361809045227,
                    14.874371859296483,
                    15.27638190954774,
                    15.678391959798995,
                    16.080402010050253,
                    16.48241206030151,
                    16.884422110552766,
                    17.286432160804022,
                    17.68844221105528,
                    18.090452261306535,
                    18.49246231155779,
                    18.894472361809047,
                    19.296482412060303,
                    19.69849246231156,
                    20.100502512562816,
                    20.502512562814072,
                    20.90452261306533,
                    21.306532663316585,
                    21.70854271356784,
                    22.110552763819097,
                    22.512562814070353,
                    22.91457286432161,
                    23.316582914572866,
                    23.718592964824122,
                    24.12060301507538,
                    24.522613065326635,
                    24.92462311557789,
                    25.326633165829147,
                    25.728643216080403,
                    26.13065326633166,
                    26.532663316582916,
                    26.934673366834172,
                    27.33668341708543,
                    27.738693467336685,
                    28.14070351758794,
                    28.542713567839197,
                    28.944723618090453,
                    29.34673366834171,
                    29.748743718592966,
                    30.150753768844222,
                    30.55276381909548,
                    30.954773869346734,
                    31.35678391959799,
                    31.758793969849247,
                    32.16080402010051,
                    32.56281407035176,
                    32.96482412060302,
                    33.366834170854275,
                    33.76884422110553,
                    34.17085427135679,
                    34.572864321608044,
                    34.9748743718593,
                    35.37688442211056,
                    35.77889447236181,
                    36.18090452261307,
                    36.582914572864325,
                    36.98492462311558,
                    37.38693467336684,
                    37.788944723618094,
                    38.19095477386935,
                    38.59296482412061,
                    38.99497487437186,
                    39.39698492462312,
                    39.798994974874375,
                    40.20100502512563,
                    40.60301507537689,
                    41.005025125628144,
                    41.4070351758794,
                    41.80904522613066,
                    42.21105527638191,
                    42.61306532663317,
                    43.015075376884425,
                    43.41708542713568,
                    43.81909547738694,
                    44.221105527638194,
                    44.62311557788945,
                    45.02512562814071,
                    45.42713567839196,
                    45.82914572864322,
                    46.231155778894475,
                    46.63316582914573,
                    47.03517587939699,
                    47.437185929648244,
                    47.8391959798995,
                    48.24120603015076,
                    48.64321608040201,
                    49.04522613065327,
                    49.447236180904525,
                    49.84924623115578,
                    50.25125628140704,
                    50.653266331658294,
                    51.05527638190955,
                    51.45728643216081,
                    51.85929648241206,
                    52.26130653266332,
                    52.663316582914575,
                    53.06532663316583,
                    53.46733668341709,
                    53.869346733668344,
                    54.2713567839196,
                    54.67336683417086,
                    55.07537688442211,
                    55.47738693467337,
                    55.879396984924625,
                    56.28140703517588,
                    56.68341708542714,
                    57.085427135678394,
                    57.48743718592965,
                    57.88944723618091,
                    58.29145728643216,
                    58.69346733668342,
                    59.095477386934675,
                    59.49748743718593,
                    59.89949748743719,
                    60.301507537688444,
                    60.7035175879397,
                    61.10552763819096,
                    61.50753768844221,
                    61.90954773869347,
                    62.311557788944725,
                    62.71356783919598,
                    63.11557788944724,
                    63.517587939698494,
                    63.91959798994975,
                    64.32160804020101,
                    64.72361809045226,
                    65.12562814070353,
                    65.52763819095478,
                    65.92964824120604,
                    66.33165829145729,
                    66.73366834170855,
                    67.1356783919598,
                    67.53768844221106,
                    67.93969849246231,
                    68.34170854271358,
                    68.74371859296483,
                    69.14572864321609,
                    69.54773869346734,
                    69.9497487437186,
                    70.35175879396985,
                    70.75376884422111,
                    71.15577889447236,
                    71.55778894472363,
                    71.95979899497488,
                    72.36180904522614,
                    72.76381909547739,
                    73.16582914572865,
                    73.5678391959799,
                    73.96984924623116,
                    74.37185929648241,
                    74.77386934673368,
                    75.17587939698493,
                    75.57788944723619,
                    75.97989949748744,
                    76.3819095477387,
                    76.78391959798995,
                    77.18592964824121,
                    77.58793969849246,
                    77.98994974874373,
                    78.39195979899498,
                    78.79396984924624,
                    79.19597989949749,
                    79.59798994974875,
                    80
                  ],
                  "xaxis": "x",
                  "y": [
                    9.798477946871672e-13,
                    2.4861959569568395e-12,
                    6.178763539295847e-12,
                    1.5040572686817363e-11,
                    3.586175059293851e-11,
                    8.375511887716533e-11,
                    1.9160781646756762e-10,
                    4.2938529597547226e-10,
                    9.425930964179592e-10,
                    2.027013320410795e-9,
                    4.27029145508609e-9,
                    8.813362232670874e-9,
                    1.7820709752947784e-8,
                    3.5304117976458116e-8,
                    6.852708615943838e-8,
                    1.3033386318966798e-7,
                    2.429037491467605e-7,
                    4.436285644673643e-7,
                    7.940399508032599e-7,
                    0.0000013929489477036104,
                    0.0000023951573244296394,
                    0.000004037187451042585,
                    0.000006671359539995443,
                    0.00001080911038616461,
                    0.00001717358811986732,
                    0.000026760199176850968,
                    0.000040901927649720325,
                    0.00006133401174057067,
                    0.00009025021557692214,
                    0.00013034090293637847,
                    0.00018480195223763895,
                    0.0002573038401124212,
                    0.00035191246515651683,
                    0.0004729577378224909,
                    0.0006248524834497697,
                    0.0008118721577723987,
                    0.0010379141360531514,
                    0.0013062624336584463,
                    0.0016193880782229904,
                    0.0019788156572764035,
                    0.0023850820739304977,
                    0.002837804360440672,
                    0.0033358605460791202,
                    0.0038776728501204198,
                    0.004461568108042619,
                    0.005086178549596436,
                    0.0057508385557293205,
                    0.00645593073491351,
                    0.0072031375602237754,
                    0.007995562093103564,
                    0.008837691733688967,
                    0.009735191186373173,
                    0.01069452392273967,
                    0.011722414832788873,
                    0.012825180325300231,
                    0.01400796579347653,
                    0.015273943710806053,
                    0.01662353762277813,
                    0.018053746143705373,
                    0.019557644373177717,
                    0.02112413546908548,
                    0.022738010662986283,
                    0.02438035137526009,
                    0.02602927378857084,
                    0.02766097780257951,
                    0.029251023893272263,
                    0.03077572898952922,
                    0.032213551637754925,
                    0.033546331486408114,
                    0.03476026007789819,
                    0.03584648785112189,
                    0.0368013122989628,
                    0.03762593872226885,
                    0.03832585156462368,
                    0.03890987487966796,
                    0.03938903034472855,
                    0.039775317459465255,
                    0.04008054211826805,
                    0.040315307269389984,
                    0.040488254873962404,
                    0.04060561489804613,
                    0.04067107847192959,
                    0.040685973123012475,
                    0.04064968297611267,
                    0.04056023073931398,
                    0.040414925043793834,
                    0.04021097850478846,
                    0.03994601854181916,
                    0.039618441614365,
                    0.03922759667142771,
                    0.03877381827637406,
                    0.03825835690967621,
                    0.037683267728537154,
                    0.03705131683796727,
                    0.0363659468509035,
                    0.0356313157132418,
                    0.03485239154531446,
                    0.034035059602289676,
                    0.033186182339343145,
                    0.03231355419698251,
                    0.03142570953186785,
                    0.03053157165141312,
                    0.029639966643227596,
                    0.02875905957309397,
                    0.02789579493697257,
                    0.02705543232201882,
                    0.02624125963135968,
                    0.02545454120999542,
                    0.024694721347295053,
                    0.02395986180174635,
                    0.023247252962466613,
                    0.022554109174986108,
                    0.021878244811486695,
                    0.0212186311749516,
                    0.020575754343924762,
                    0.019951726590715247,
                    0.019350142784139192,
                    0.01877571095567232,
                    0.018233716190641167,
                    0.01772939435258825,
                    0.017267294973121274,
                    0.016850702380286374,
                    0.01648116509040388,
                    0.01615816157016796,
                    0.01587891153495108,
                    0.015638330071409683,
                    0.01542911820967545,
                    0.015241986078734,
                    0.015066008995909607,
                    0.014889117505089542,
                    0.014698715393019769,
                    0.01448240382969799,
                    0.014228767402620301,
                    0.013928154611381707,
                    0.013573368741537147,
                    0.01316018178129802,
                    0.012687598182889477,
                    0.01215782638846604,
                    0.01157595898079311,
                    0.010949408267828892,
                    0.010287182827627707,
                    0.009599113092523186,
                    0.008895135248122242,
                    0.008184722531042653,
                    0.00747651654605727,
                    0.006778167338012597,
                    0.006096349846816224,
                    0.005436894953427211,
                    0.004804961055725521,
                    0.004205177918316912,
                    0.0036417149791231076,
                    0.0031182548568239013,
                    0.002637881851579137,
                    0.002202918011733017,
                    0.0018147514971689905,
                    0.0014737022542217577,
                    0.00117896009895262,
                    0.0009286139049567837,
                    0.0007197722518489015,
                    0.0005487597780835901,
                    0.00041136251108147155,
                    0.00030309087986346393,
                    0.00021943063029815344,
                    0.00015605797890586457,
                    0.00010900399920327969,
                    0.00007476236858414526,
                    0.00005034256490643754,
                    0.000033276379886043044,
                    0.000021588862726409054,
                    0.000013745714076222114,
                    0.000008588253085306113,
                    0.000005265053267067878,
                    0.000003166831923178473,
                    0.000001868694441885181,
                    0.0000010817119277683587,
                    6.142085390589033e-7,
                    3.4207659095990355e-7,
                    1.868562967805303e-7,
                    1.0010220021149747e-7,
                    5.259040381804074e-8,
                    2.70939687251394e-8,
                    1.3687334630755114e-8,
                    6.779892254365387e-9,
                    3.2927777455999906e-9,
                    1.5678928357861836e-9,
                    7.319203272468443e-10,
                    3.3495339702663044e-10,
                    1.5026516311942058e-10,
                    6.607943201645772e-11,
                    2.848325651098043e-11,
                    1.2034003838037513e-11,
                    4.98322148065945e-12,
                    2.0224263229341267e-12,
                    8.044169329832718e-13,
                    3.135593402062895e-13,
                    1.1977686967621452e-13,
                    4.4835916934758576e-14,
                    1.6446170821231182e-14,
                    5.911197928700935e-15,
                    2.0818289236144344e-15
                  ],
                  "yaxis": "y"
                },
                {
                  "mode": "lines",
                  "name": "Marketing",
                  "type": "scatter",
                  "x": [
                    0,
                    0.4020100502512563,
                    0.8040201005025126,
                    1.206030150753769,
                    1.6080402010050252,
                    2.0100502512562817,
                    2.412060301507538,
                    2.814070351758794,
                    3.2160804020100504,
                    3.6180904522613067,
                    4.020100502512563,
                    4.42211055276382,
                    4.824120603015076,
                    5.226130653266332,
                    5.628140703517588,
                    6.030150753768845,
                    6.432160804020101,
                    6.834170854271357,
                    7.236180904522613,
                    7.63819095477387,
                    8.040201005025127,
                    8.442211055276383,
                    8.84422110552764,
                    9.246231155778895,
                    9.648241206030152,
                    10.050251256281408,
                    10.452261306532664,
                    10.85427135678392,
                    11.256281407035177,
                    11.658291457286433,
                    12.06030150753769,
                    12.462311557788945,
                    12.864321608040202,
                    13.266331658291458,
                    13.668341708542714,
                    14.07035175879397,
                    14.472361809045227,
                    14.874371859296483,
                    15.27638190954774,
                    15.678391959798995,
                    16.080402010050253,
                    16.48241206030151,
                    16.884422110552766,
                    17.286432160804022,
                    17.68844221105528,
                    18.090452261306535,
                    18.49246231155779,
                    18.894472361809047,
                    19.296482412060303,
                    19.69849246231156,
                    20.100502512562816,
                    20.502512562814072,
                    20.90452261306533,
                    21.306532663316585,
                    21.70854271356784,
                    22.110552763819097,
                    22.512562814070353,
                    22.91457286432161,
                    23.316582914572866,
                    23.718592964824122,
                    24.12060301507538,
                    24.522613065326635,
                    24.92462311557789,
                    25.326633165829147,
                    25.728643216080403,
                    26.13065326633166,
                    26.532663316582916,
                    26.934673366834172,
                    27.33668341708543,
                    27.738693467336685,
                    28.14070351758794,
                    28.542713567839197,
                    28.944723618090453,
                    29.34673366834171,
                    29.748743718592966,
                    30.150753768844222,
                    30.55276381909548,
                    30.954773869346734,
                    31.35678391959799,
                    31.758793969849247,
                    32.16080402010051,
                    32.56281407035176,
                    32.96482412060302,
                    33.366834170854275,
                    33.76884422110553,
                    34.17085427135679,
                    34.572864321608044,
                    34.9748743718593,
                    35.37688442211056,
                    35.77889447236181,
                    36.18090452261307,
                    36.582914572864325,
                    36.98492462311558,
                    37.38693467336684,
                    37.788944723618094,
                    38.19095477386935,
                    38.59296482412061,
                    38.99497487437186,
                    39.39698492462312,
                    39.798994974874375,
                    40.20100502512563,
                    40.60301507537689,
                    41.005025125628144,
                    41.4070351758794,
                    41.80904522613066,
                    42.21105527638191,
                    42.61306532663317,
                    43.015075376884425,
                    43.41708542713568,
                    43.81909547738694,
                    44.221105527638194,
                    44.62311557788945,
                    45.02512562814071,
                    45.42713567839196,
                    45.82914572864322,
                    46.231155778894475,
                    46.63316582914573,
                    47.03517587939699,
                    47.437185929648244,
                    47.8391959798995,
                    48.24120603015076,
                    48.64321608040201,
                    49.04522613065327,
                    49.447236180904525,
                    49.84924623115578,
                    50.25125628140704,
                    50.653266331658294,
                    51.05527638190955,
                    51.45728643216081,
                    51.85929648241206,
                    52.26130653266332,
                    52.663316582914575,
                    53.06532663316583,
                    53.46733668341709,
                    53.869346733668344,
                    54.2713567839196,
                    54.67336683417086,
                    55.07537688442211,
                    55.47738693467337,
                    55.879396984924625,
                    56.28140703517588,
                    56.68341708542714,
                    57.085427135678394,
                    57.48743718592965,
                    57.88944723618091,
                    58.29145728643216,
                    58.69346733668342,
                    59.095477386934675,
                    59.49748743718593,
                    59.89949748743719,
                    60.301507537688444,
                    60.7035175879397,
                    61.10552763819096,
                    61.50753768844221,
                    61.90954773869347,
                    62.311557788944725,
                    62.71356783919598,
                    63.11557788944724,
                    63.517587939698494,
                    63.91959798994975,
                    64.32160804020101,
                    64.72361809045226,
                    65.12562814070353,
                    65.52763819095478,
                    65.92964824120604,
                    66.33165829145729,
                    66.73366834170855,
                    67.1356783919598,
                    67.53768844221106,
                    67.93969849246231,
                    68.34170854271358,
                    68.74371859296483,
                    69.14572864321609,
                    69.54773869346734,
                    69.9497487437186,
                    70.35175879396985,
                    70.75376884422111,
                    71.15577889447236,
                    71.55778894472363,
                    71.95979899497488,
                    72.36180904522614,
                    72.76381909547739,
                    73.16582914572865,
                    73.5678391959799,
                    73.96984924623116,
                    74.37185929648241,
                    74.77386934673368,
                    75.17587939698493,
                    75.57788944723619,
                    75.97989949748744,
                    76.3819095477387,
                    76.78391959798995,
                    77.18592964824121,
                    77.58793969849246,
                    77.98994974874373,
                    78.39195979899498,
                    78.79396984924624,
                    79.19597989949749,
                    79.59798994974875,
                    80
                  ],
                  "xaxis": "x2",
                  "y": [
                    3.976815483949238e-10,
                    7.682121275247376e-10,
                    1.4630474557708874e-9,
                    2.7471112372237347e-9,
                    5.085622115605312e-9,
                    9.282645648778496e-9,
                    1.670588743884622e-8,
                    2.9644771164385846e-8,
                    5.187027489185629e-8,
                    8.949370249339927e-8,
                    1.522586383296716e-7,
                    2.5544623375760376e-7,
                    4.226279745761322e-7,
                    6.895595462593603e-7,
                    0.0000011095689904812243,
                    0.0000017608431302377589,
                    0.00000275604515633922,
                    0.000004254685886013838,
                    0.000006478600335300853,
                    0.000009730726648095702,
                    0.000014417123905381021,
                    0.000021071782386961294,
                    0.00003038326963736057,
                    0.000043221631846326255,
                    0.00006066327134337124,
                    0.00008401081622138946,
                    0.00011480438755366901,
                    0.00015482028128384413,
                    0.0002060530604395858,
                    0.00027067754215300954,
                    0.00035098827960966663,
                    0.0004493159414403613,
                    0.0005679224533620383,
                    0.0007088797506214351,
                    0.0008739402322055897,
                    0.0010644101272881952,
                    0.0012810395090643025,
                    0.0015239441112565291,
                    0.0017925739440249246,
                    0.0020857416163324667,
                    0.002401719106190042,
                    0.0027384056114145385,
                    0.0030935615096353932,
                    0.0034650951123208094,
                    0.003851380813738281,
                    0.004251580542944871,
                    0.004665936231020557,
                    0.005096000211179221,
                    0.005544773609503548,
                    0.006016729889428006,
                    0.006517711245178188,
                    0.00705469840921288,
                    0.007635468117393795,
                    0.008268165187293144,
                    0.0089608261380133,
                    0.009720897018330565,
                    0.01055478864257633,
                    0.011467507495492062,
                    0.012462390679965098,
                    0.013540959712177733,
                    0.014702892567763482,
                    0.015946098322000436,
                    0.01726686617801,
                    0.0186600524785462,
                    0.020119266671034516,
                    0.02163702055471987,
                    0.023204814021065643,
                    0.024813143638280754,
                    0.026451435953347882,
                    0.028107923089568554,
                    0.029769491900311404,
                    0.03142154770028755,
                    0.03304793808267818,
                    0.03463098088855876,
                    0.036151633103976365,
                    0.03758982507188182,
                    0.03892496820746933,
                    0.04013662603833065,
                    0.04120531966722935,
                    0.042113421491709116,
                    0.042846076898937435,
                    0.043392084143224555,
                    0.04374465885154235,
                    0.043902012342739286,
                    0.04386768247033984,
                    0.04365057173093577,
                    0.04326466901444969,
                    0.04272845703995562,
                    0.04206403502645043,
                    0.04129601280619406,
                    0.04045025546557464,
                    0.0395525738538947,
                    0.03862746358414612,
                    0.03769699199992181,
                    0.03677991874693795,
                    0.035891112197813685,
                    0.03504129352194721,
                    0.03423710625811544,
                    0.03348147606791051,
                    0.03277419719226738,
                    0.03211266265113031,
                    0.03149264685711323,
                    0.030909052870561567,
                    0.03035655103706603,
                    0.02983005861609981,
                    0.02932503742611586,
                    0.028837614136594,
                    0.028364551458269743,
                    0.027903114836086925,
                    0.027450886470723163,
                    0.027005576393845106,
                    0.026564870323179134,
                    0.02612633880492108,
                    0.025687415070556927,
                    0.02524543345620595,
                    0.024797708892282833,
                    0.02434163251311396,
                    0.023874759190738913,
                    0.023394868838699266,
                    0.022899992778592615,
                    0.022388406941402664,
                    0.02185860284145127,
                    0.021309253258082715,
                    0.02073919134207327,
                    0.020147419315119163,
                    0.0195331567937956,
                    0.01889593041056568,
                    0.018235697490038824,
                    0.017552988696418435,
                    0.01684904910346325,
                    0.016125954852476306,
                    0.015386683690001629,
                    0.014635121924509858,
                    0.013875997017308682,
                    0.01311473318954901,
                    0.012357236059226265,
                    0.011609620435691517,
                    0.010877902141375496,
                    0.010167679430591365,
                    0.009483831770571698,
                    0.008830263198299743,
                    0.008209714158180111,
                    0.007623659893868689,
                    0.007072305596492432,
                    0.006554679324180941,
                    0.006068814125780183,
                    0.0056120018655687505,
                    0.005181093999857069,
                    0.0047728199080486365,
                    0.004384091959646327,
                    0.004012268541551312,
                    0.003655351559020237,
                    0.003312102795915051,
                    0.002982072952585423,
                    0.002665546939585747,
                    0.002363417836916591,
                    0.0020770087463944297,
                    0.0018078658154988521,
                    0.0015575466733836628,
                    0.0013274265286055947,
                    0.0011185397709462253,
                    0.000931468919869018,
                    0.0007662861255476384,
                    0.0006225460838046113,
                    0.0004993239386520537,
                    0.00039528802403532336,
                    0.00030879535419349805,
                    0.00023799754519281292,
                    0.00018094605267052118,
                    0.00013568781787809007,
                    0.00010034515122773597,
                    0.00007317650457509737,
                    0.00005261733243893951,
                    0.00003730227892166539,
                    0.00002607133637003765,
                    0.000017963398731339254,
                    0.00001220085421185136,
                    0.000008168654745021833,
                    0.000005390808674940845,
                    0.00000350660590822455,
                    0.000002248216067175977,
                    0.000001420682734080358,
                    8.848209045063109e-7,
                    5.431318300652195e-7,
                    3.2857924047762715e-7,
                    1.959089159730665e-7,
                    1.1511779447905613e-7,
                    6.666540172259336e-8,
                    3.804735555501603e-8,
                    2.1399864570462703e-8,
                    1.1861980252700905e-8,
                    6.479782185308148e-9,
                    3.488336633117527e-9,
                    1.8506706932079412e-9,
                    9.675890212684616e-10,
                    4.985425149640695e-10,
                    2.5314047731876604e-10,
                    1.2666829328872828e-10,
                    6.246260866809666e-11,
                    3.035409301832028e-11
                  ],
                  "yaxis": "y2"
                },
                {
                  "mode": "lines",
                  "name": "Other",
                  "type": "scatter",
                  "x": [
                    0,
                    0.4020100502512563,
                    0.8040201005025126,
                    1.206030150753769,
                    1.6080402010050252,
                    2.0100502512562817,
                    2.412060301507538,
                    2.814070351758794,
                    3.2160804020100504,
                    3.6180904522613067,
                    4.020100502512563,
                    4.42211055276382,
                    4.824120603015076,
                    5.226130653266332,
                    5.628140703517588,
                    6.030150753768845,
                    6.432160804020101,
                    6.834170854271357,
                    7.236180904522613,
                    7.63819095477387,
                    8.040201005025127,
                    8.442211055276383,
                    8.84422110552764,
                    9.246231155778895,
                    9.648241206030152,
                    10.050251256281408,
                    10.452261306532664,
                    10.85427135678392,
                    11.256281407035177,
                    11.658291457286433,
                    12.06030150753769,
                    12.462311557788945,
                    12.864321608040202,
                    13.266331658291458,
                    13.668341708542714,
                    14.07035175879397,
                    14.472361809045227,
                    14.874371859296483,
                    15.27638190954774,
                    15.678391959798995,
                    16.080402010050253,
                    16.48241206030151,
                    16.884422110552766,
                    17.286432160804022,
                    17.68844221105528,
                    18.090452261306535,
                    18.49246231155779,
                    18.894472361809047,
                    19.296482412060303,
                    19.69849246231156,
                    20.100502512562816,
                    20.502512562814072,
                    20.90452261306533,
                    21.306532663316585,
                    21.70854271356784,
                    22.110552763819097,
                    22.512562814070353,
                    22.91457286432161,
                    23.316582914572866,
                    23.718592964824122,
                    24.12060301507538,
                    24.522613065326635,
                    24.92462311557789,
                    25.326633165829147,
                    25.728643216080403,
                    26.13065326633166,
                    26.532663316582916,
                    26.934673366834172,
                    27.33668341708543,
                    27.738693467336685,
                    28.14070351758794,
                    28.542713567839197,
                    28.944723618090453,
                    29.34673366834171,
                    29.748743718592966,
                    30.150753768844222,
                    30.55276381909548,
                    30.954773869346734,
                    31.35678391959799,
                    31.758793969849247,
                    32.16080402010051,
                    32.56281407035176,
                    32.96482412060302,
                    33.366834170854275,
                    33.76884422110553,
                    34.17085427135679,
                    34.572864321608044,
                    34.9748743718593,
                    35.37688442211056,
                    35.77889447236181,
                    36.18090452261307,
                    36.582914572864325,
                    36.98492462311558,
                    37.38693467336684,
                    37.788944723618094,
                    38.19095477386935,
                    38.59296482412061,
                    38.99497487437186,
                    39.39698492462312,
                    39.798994974874375,
                    40.20100502512563,
                    40.60301507537689,
                    41.005025125628144,
                    41.4070351758794,
                    41.80904522613066,
                    42.21105527638191,
                    42.61306532663317,
                    43.015075376884425,
                    43.41708542713568,
                    43.81909547738694,
                    44.221105527638194,
                    44.62311557788945,
                    45.02512562814071,
                    45.42713567839196,
                    45.82914572864322,
                    46.231155778894475,
                    46.63316582914573,
                    47.03517587939699,
                    47.437185929648244,
                    47.8391959798995,
                    48.24120603015076,
                    48.64321608040201,
                    49.04522613065327,
                    49.447236180904525,
                    49.84924623115578,
                    50.25125628140704,
                    50.653266331658294,
                    51.05527638190955,
                    51.45728643216081,
                    51.85929648241206,
                    52.26130653266332,
                    52.663316582914575,
                    53.06532663316583,
                    53.46733668341709,
                    53.869346733668344,
                    54.2713567839196,
                    54.67336683417086,
                    55.07537688442211,
                    55.47738693467337,
                    55.879396984924625,
                    56.28140703517588,
                    56.68341708542714,
                    57.085427135678394,
                    57.48743718592965,
                    57.88944723618091,
                    58.29145728643216,
                    58.69346733668342,
                    59.095477386934675,
                    59.49748743718593,
                    59.89949748743719,
                    60.301507537688444,
                    60.7035175879397,
                    61.10552763819096,
                    61.50753768844221,
                    61.90954773869347,
                    62.311557788944725,
                    62.71356783919598,
                    63.11557788944724,
                    63.517587939698494,
                    63.91959798994975,
                    64.32160804020101,
                    64.72361809045226,
                    65.12562814070353,
                    65.52763819095478,
                    65.92964824120604,
                    66.33165829145729,
                    66.73366834170855,
                    67.1356783919598,
                    67.53768844221106,
                    67.93969849246231,
                    68.34170854271358,
                    68.74371859296483,
                    69.14572864321609,
                    69.54773869346734,
                    69.9497487437186,
                    70.35175879396985,
                    70.75376884422111,
                    71.15577889447236,
                    71.55778894472363,
                    71.95979899497488,
                    72.36180904522614,
                    72.76381909547739,
                    73.16582914572865,
                    73.5678391959799,
                    73.96984924623116,
                    74.37185929648241,
                    74.77386934673368,
                    75.17587939698493,
                    75.57788944723619,
                    75.97989949748744,
                    76.3819095477387,
                    76.78391959798995,
                    77.18592964824121,
                    77.58793969849246,
                    77.98994974874373,
                    78.39195979899498,
                    78.79396984924624,
                    79.19597989949749,
                    79.59798994974875,
                    80
                  ],
                  "xaxis": "x3",
                  "y": [
                    8.857452232954051e-11,
                    1.783386843701954e-10,
                    3.538277951901014e-10,
                    6.917605703182097e-10,
                    1.3327408235712349e-9,
                    2.530294261846794e-9,
                    4.734150906747431e-9,
                    8.72911494936351e-9,
                    1.5862359935708633e-8,
                    2.840851404960462e-8,
                    5.014497138305134e-8,
                    8.724106250326556e-8,
                    1.4960544764558578e-7,
                    2.52887201871987e-7,
                    4.213872799909032e-7,
                    6.9220632472186e-7,
                    0.000001121027505635252,
                    0.0000017900013732134381,
                    0.000002818251971809717,
                    0.000004375544367734151,
                    0.00000669962513005601,
                    0.000010117649962504145,
                    0.000015071929476596047,
                    0.000022149944040759527,
                    0.000032118201722224414,
                    0.000045959055155694104,
                    0.00006490908828111656,
                    0.00009049718645905623,
                    0.00012457998390077616,
                    0.000169372118987486,
                    0.00022746869394809792,
                    0.00030185758132454747,
                    0.00039591975628398607,
                    0.0005134166165668133,
                    0.0006584641737066209,
                    0.0008354948957723676,
                    0.0010492086519025955,
                    0.001304514449847729,
                    0.0016064643138425261,
                    0.001960179664346222,
                    0.0023707690201151856,
                    0.0028432340018714228,
                    0.003382358892153693,
                    0.003992577929234963,
                    0.004677814643858834,
                    0.005441289356218947,
                    0.0062852946882886295,
                    0.007210944530038865,
                    0.008217908837788501,
                    0.009304154041680513,
                    0.010465715477181147,
                    0.011696532762017998,
                    0.012988380133431352,
                    0.014330920516309263,
                    0.015711904186705376,
                    0.017117520765847223,
                    0.018532898158537113,
                    0.019942725833191365,
                    0.021331964807417315,
                    0.022686595118378464,
                    0.023994345237831692,
                    0.02524534782348222,
                    0.02643267230068075,
                    0.027552695874513117,
                    0.02860528864912902,
                    0.02959380311017444,
                    0.03052487095710185,
                    0.03140801947485379,
                    0.03225512471214875,
                    0.03307972033215624,
                    0.033896180854257274,
                    0.03471879847932431,
                    0.03556077612229048,
                    0.036433167253826594,
                    0.037343805924622005,
                    0.038296286506297746,
                    0.039289069254121886,
                    0.04031480070756671,
                    0.04135994283405205,
                    0.04240479799894337,
                    0.0434239962062406,
                    0.04438747674093704,
                    0.045261950995727725,
                    0.04601278179215636,
                    0.04660616341232254,
                    0.0470114429319089,
                    0.04720339382184831,
                    0.04716424207199468,
                    0.04688525576550047,
                    0.046367740749084015,
                    0.04562333468091951,
                    0.04467355387881922,
                    0.043548615123799504,
                    0.0422856204541226,
                    0.04092625000928638,
                    0.03951415042126931,
                    0.03809223023059657,
                    0.03670007760982525,
                    0.0353716997456841,
                    0.034133749918353024,
                    0.03300436148282986,
                    0.03199265246869667,
                    0.03109890572218211,
                    0.03031537276788749,
                    0.029627599787820768,
                    0.029016135436710278,
                    0.028458455692266946,
                    0.027930932333646116,
                    0.027410679256041383,
                    0.026877133459570983,
                    0.026313262542711584,
                    0.0257063339873331,
                    0.025048228666151116,
                    0.02433532668208657,
                    0.02356803293914334,
                    0.022750038672359477,
                    0.02188743084764146,
                    0.020987762951821767,
                    0.020059189160558533,
                    0.019109741807106034,
                    0.01814680331965236,
                    0.017176792782518328,
                    0.01620505832197247,
                    0.015235943164894813,
                    0.01427297776695951,
                    0.01331914369137404,
                    0.012377156368849665,
                    0.011449721806011188,
                    0.01053973439999156,
                    0.009650396774149993,
                    0.008785255773281138,
                    0.007948159836859505,
                    0.007143151016771127,
                    0.0063743097158461045,
                    0.00564557211245258,
                    0.004960539824488746,
                    0.004322299360691912,
                    0.003733265940614531,
                    0.003195062809042268,
                    0.002708443528360172,
                    0.002273261080072552,
                    0.0018884840622973593,
                    0.0015522569525052712,
                    0.0012619984661749047,
                    0.0010145296656774354,
                    0.000806221843754732,
                    0.0006331534633416791,
                    0.0004912656368083244,
                    0.00037650672107353457,
                    0.0002849584300370697,
                    0.0002129381769922234,
                    0.000157074867115506,
                    0.0001143577759545891,
                    0.00008216023092133885,
                    0.0000582413907983584,
                    0.000040730413065509373,
                    0.000028097715416592374,
                    0.000019117949982956276,
                    0.000012828835251263834,
                    0.000008489269295278666,
                    0.000005539312784189183,
                    0.0000035637947346434454,
                    0.0000022605415124253495,
                    0.0000014136108901867227,
                    8.714489551677518e-7,
                    5.295756902653147e-7,
                    3.1722653643337294e-7,
                    1.873050727955649e-7,
                    1.0900663602220025e-7,
                    6.252676556896322e-8,
                    3.5348922459614393e-8,
                    1.969574025812646e-8,
                    1.0815437946242993e-8,
                    5.853050506911963e-9,
                    3.121607592238974e-9,
                    1.6406822254238867e-9,
                    8.497940377375922e-10,
                    4.337499438789863e-10,
                    2.1817036593247598e-10,
                    1.081377100348343e-10,
                    5.281759031875914e-11,
                    2.5421156911512894e-11,
                    1.2056548522188497e-11,
                    5.634528731106391e-12,
                    2.5947489123581957e-12,
                    1.1774234976231145e-12,
                    5.264612139855286e-13,
                    2.3194942038499857e-13,
                    1.0069560650009168e-13,
                    4.3074012669618385e-14,
                    1.8155371173968987e-14,
                    7.54010643743423e-15,
                    3.085531928107259e-15,
                    1.2441153109673246e-15,
                    4.942733023735583e-16,
                    1.9348513543737797e-16,
                    7.462770591969005e-17,
                    2.836108193702607e-17,
                    1.0619742328251284e-17,
                    3.918068139517474e-18
                  ],
                  "yaxis": "y3"
                }
              ],
              "layout": {
                "annotations": [
                  {
                    "font": {
                      "size": 16
                    },
                    "showarrow": false,
                    "text": "Medical",
                    "x": 0.14444444444444446,
                    "xanchor": "center",
                    "xref": "paper",
                    "y": 1,
                    "yanchor": "bottom",
                    "yref": "paper"
                  },
                  {
                    "font": {
                      "size": 16
                    },
                    "showarrow": false,
                    "text": "Marketing",
                    "x": 0.5,
                    "xanchor": "center",
                    "xref": "paper",
                    "y": 1,
                    "yanchor": "bottom",
                    "yref": "paper"
                  },
                  {
                    "font": {
                      "size": 16
                    },
                    "showarrow": false,
                    "text": "Other",
                    "x": 0.8555555555555556,
                    "xanchor": "center",
                    "xref": "paper",
                    "y": 1,
                    "yanchor": "bottom",
                    "yref": "paper"
                  }
                ],
                "template": {
                  "data": {
                    "bar": [
                      {
                        "error_x": {
                          "color": "#2a3f5f"
                        },
                        "error_y": {
                          "color": "#2a3f5f"
                        },
                        "marker": {
                          "line": {
                            "color": "#E5ECF6",
                            "width": 0.5
                          },
                          "pattern": {
                            "fillmode": "overlay",
                            "size": 10,
                            "solidity": 0.2
                          }
                        },
                        "type": "bar"
                      }
                    ],
                    "barpolar": [
                      {
                        "marker": {
                          "line": {
                            "color": "#E5ECF6",
                            "width": 0.5
                          },
                          "pattern": {
                            "fillmode": "overlay",
                            "size": 10,
                            "solidity": 0.2
                          }
                        },
                        "type": "barpolar"
                      }
                    ],
                    "carpet": [
                      {
                        "aaxis": {
                          "endlinecolor": "#2a3f5f",
                          "gridcolor": "white",
                          "linecolor": "white",
                          "minorgridcolor": "white",
                          "startlinecolor": "#2a3f5f"
                        },
                        "baxis": {
                          "endlinecolor": "#2a3f5f",
                          "gridcolor": "white",
                          "linecolor": "white",
                          "minorgridcolor": "white",
                          "startlinecolor": "#2a3f5f"
                        },
                        "type": "carpet"
                      }
                    ],
                    "choropleth": [
                      {
                        "colorbar": {
                          "outlinewidth": 0,
                          "ticks": ""
                        },
                        "type": "choropleth"
                      }
                    ],
                    "contour": [
                      {
                        "colorbar": {
                          "outlinewidth": 0,
                          "ticks": ""
                        },
                        "colorscale": [
                          [
                            0,
                            "#0d0887"
                          ],
                          [
                            0.1111111111111111,
                            "#46039f"
                          ],
                          [
                            0.2222222222222222,
                            "#7201a8"
                          ],
                          [
                            0.3333333333333333,
                            "#9c179e"
                          ],
                          [
                            0.4444444444444444,
                            "#bd3786"
                          ],
                          [
                            0.5555555555555556,
                            "#d8576b"
                          ],
                          [
                            0.6666666666666666,
                            "#ed7953"
                          ],
                          [
                            0.7777777777777778,
                            "#fb9f3a"
                          ],
                          [
                            0.8888888888888888,
                            "#fdca26"
                          ],
                          [
                            1,
                            "#f0f921"
                          ]
                        ],
                        "type": "contour"
                      }
                    ],
                    "contourcarpet": [
                      {
                        "colorbar": {
                          "outlinewidth": 0,
                          "ticks": ""
                        },
                        "type": "contourcarpet"
                      }
                    ],
                    "heatmap": [
                      {
                        "colorbar": {
                          "outlinewidth": 0,
                          "ticks": ""
                        },
                        "colorscale": [
                          [
                            0,
                            "#0d0887"
                          ],
                          [
                            0.1111111111111111,
                            "#46039f"
                          ],
                          [
                            0.2222222222222222,
                            "#7201a8"
                          ],
                          [
                            0.3333333333333333,
                            "#9c179e"
                          ],
                          [
                            0.4444444444444444,
                            "#bd3786"
                          ],
                          [
                            0.5555555555555556,
                            "#d8576b"
                          ],
                          [
                            0.6666666666666666,
                            "#ed7953"
                          ],
                          [
                            0.7777777777777778,
                            "#fb9f3a"
                          ],
                          [
                            0.8888888888888888,
                            "#fdca26"
                          ],
                          [
                            1,
                            "#f0f921"
                          ]
                        ],
                        "type": "heatmap"
                      }
                    ],
                    "heatmapgl": [
                      {
                        "colorbar": {
                          "outlinewidth": 0,
                          "ticks": ""
                        },
                        "colorscale": [
                          [
                            0,
                            "#0d0887"
                          ],
                          [
                            0.1111111111111111,
                            "#46039f"
                          ],
                          [
                            0.2222222222222222,
                            "#7201a8"
                          ],
                          [
                            0.3333333333333333,
                            "#9c179e"
                          ],
                          [
                            0.4444444444444444,
                            "#bd3786"
                          ],
                          [
                            0.5555555555555556,
                            "#d8576b"
                          ],
                          [
                            0.6666666666666666,
                            "#ed7953"
                          ],
                          [
                            0.7777777777777778,
                            "#fb9f3a"
                          ],
                          [
                            0.8888888888888888,
                            "#fdca26"
                          ],
                          [
                            1,
                            "#f0f921"
                          ]
                        ],
                        "type": "heatmapgl"
                      }
                    ],
                    "histogram": [
                      {
                        "marker": {
                          "pattern": {
                            "fillmode": "overlay",
                            "size": 10,
                            "solidity": 0.2
                          }
                        },
                        "type": "histogram"
                      }
                    ],
                    "histogram2d": [
                      {
                        "colorbar": {
                          "outlinewidth": 0,
                          "ticks": ""
                        },
                        "colorscale": [
                          [
                            0,
                            "#0d0887"
                          ],
                          [
                            0.1111111111111111,
                            "#46039f"
                          ],
                          [
                            0.2222222222222222,
                            "#7201a8"
                          ],
                          [
                            0.3333333333333333,
                            "#9c179e"
                          ],
                          [
                            0.4444444444444444,
                            "#bd3786"
                          ],
                          [
                            0.5555555555555556,
                            "#d8576b"
                          ],
                          [
                            0.6666666666666666,
                            "#ed7953"
                          ],
                          [
                            0.7777777777777778,
                            "#fb9f3a"
                          ],
                          [
                            0.8888888888888888,
                            "#fdca26"
                          ],
                          [
                            1,
                            "#f0f921"
                          ]
                        ],
                        "type": "histogram2d"
                      }
                    ],
                    "histogram2dcontour": [
                      {
                        "colorbar": {
                          "outlinewidth": 0,
                          "ticks": ""
                        },
                        "colorscale": [
                          [
                            0,
                            "#0d0887"
                          ],
                          [
                            0.1111111111111111,
                            "#46039f"
                          ],
                          [
                            0.2222222222222222,
                            "#7201a8"
                          ],
                          [
                            0.3333333333333333,
                            "#9c179e"
                          ],
                          [
                            0.4444444444444444,
                            "#bd3786"
                          ],
                          [
                            0.5555555555555556,
                            "#d8576b"
                          ],
                          [
                            0.6666666666666666,
                            "#ed7953"
                          ],
                          [
                            0.7777777777777778,
                            "#fb9f3a"
                          ],
                          [
                            0.8888888888888888,
                            "#fdca26"
                          ],
                          [
                            1,
                            "#f0f921"
                          ]
                        ],
                        "type": "histogram2dcontour"
                      }
                    ],
                    "mesh3d": [
                      {
                        "colorbar": {
                          "outlinewidth": 0,
                          "ticks": ""
                        },
                        "type": "mesh3d"
                      }
                    ],
                    "parcoords": [
                      {
                        "line": {
                          "colorbar": {
                            "outlinewidth": 0,
                            "ticks": ""
                          }
                        },
                        "type": "parcoords"
                      }
                    ],
                    "pie": [
                      {
                        "automargin": true,
                        "type": "pie"
                      }
                    ],
                    "scatter": [
                      {
                        "fillpattern": {
                          "fillmode": "overlay",
                          "size": 10,
                          "solidity": 0.2
                        },
                        "type": "scatter"
                      }
                    ],
                    "scatter3d": [
                      {
                        "line": {
                          "colorbar": {
                            "outlinewidth": 0,
                            "ticks": ""
                          }
                        },
                        "marker": {
                          "colorbar": {
                            "outlinewidth": 0,
                            "ticks": ""
                          }
                        },
                        "type": "scatter3d"
                      }
                    ],
                    "scattercarpet": [
                      {
                        "marker": {
                          "colorbar": {
                            "outlinewidth": 0,
                            "ticks": ""
                          }
                        },
                        "type": "scattercarpet"
                      }
                    ],
                    "scattergeo": [
                      {
                        "marker": {
                          "colorbar": {
                            "outlinewidth": 0,
                            "ticks": ""
                          }
                        },
                        "type": "scattergeo"
                      }
                    ],
                    "scattergl": [
                      {
                        "marker": {
                          "colorbar": {
                            "outlinewidth": 0,
                            "ticks": ""
                          }
                        },
                        "type": "scattergl"
                      }
                    ],
                    "scattermapbox": [
                      {
                        "marker": {
                          "colorbar": {
                            "outlinewidth": 0,
                            "ticks": ""
                          }
                        },
                        "type": "scattermapbox"
                      }
                    ],
                    "scatterpolar": [
                      {
                        "marker": {
                          "colorbar": {
                            "outlinewidth": 0,
                            "ticks": ""
                          }
                        },
                        "type": "scatterpolar"
                      }
                    ],
                    "scatterpolargl": [
                      {
                        "marker": {
                          "colorbar": {
                            "outlinewidth": 0,
                            "ticks": ""
                          }
                        },
                        "type": "scatterpolargl"
                      }
                    ],
                    "scatterternary": [
                      {
                        "marker": {
                          "colorbar": {
                            "outlinewidth": 0,
                            "ticks": ""
                          }
                        },
                        "type": "scatterternary"
                      }
                    ],
                    "surface": [
                      {
                        "colorbar": {
                          "outlinewidth": 0,
                          "ticks": ""
                        },
                        "colorscale": [
                          [
                            0,
                            "#0d0887"
                          ],
                          [
                            0.1111111111111111,
                            "#46039f"
                          ],
                          [
                            0.2222222222222222,
                            "#7201a8"
                          ],
                          [
                            0.3333333333333333,
                            "#9c179e"
                          ],
                          [
                            0.4444444444444444,
                            "#bd3786"
                          ],
                          [
                            0.5555555555555556,
                            "#d8576b"
                          ],
                          [
                            0.6666666666666666,
                            "#ed7953"
                          ],
                          [
                            0.7777777777777778,
                            "#fb9f3a"
                          ],
                          [
                            0.8888888888888888,
                            "#fdca26"
                          ],
                          [
                            1,
                            "#f0f921"
                          ]
                        ],
                        "type": "surface"
                      }
                    ],
                    "table": [
                      {
                        "cells": {
                          "fill": {
                            "color": "#EBF0F8"
                          },
                          "line": {
                            "color": "white"
                          }
                        },
                        "header": {
                          "fill": {
                            "color": "#C8D4E3"
                          },
                          "line": {
                            "color": "white"
                          }
                        },
                        "type": "table"
                      }
                    ]
                  },
                  "layout": {
                    "annotationdefaults": {
                      "arrowcolor": "#2a3f5f",
                      "arrowhead": 0,
                      "arrowwidth": 1
                    },
                    "autotypenumbers": "strict",
                    "coloraxis": {
                      "colorbar": {
                        "outlinewidth": 0,
                        "ticks": ""
                      }
                    },
                    "colorscale": {
                      "diverging": [
                        [
                          0,
                          "#8e0152"
                        ],
                        [
                          0.1,
                          "#c51b7d"
                        ],
                        [
                          0.2,
                          "#de77ae"
                        ],
                        [
                          0.3,
                          "#f1b6da"
                        ],
                        [
                          0.4,
                          "#fde0ef"
                        ],
                        [
                          0.5,
                          "#f7f7f7"
                        ],
                        [
                          0.6,
                          "#e6f5d0"
                        ],
                        [
                          0.7,
                          "#b8e186"
                        ],
                        [
                          0.8,
                          "#7fbc41"
                        ],
                        [
                          0.9,
                          "#4d9221"
                        ],
                        [
                          1,
                          "#276419"
                        ]
                      ],
                      "sequential": [
                        [
                          0,
                          "#0d0887"
                        ],
                        [
                          0.1111111111111111,
                          "#46039f"
                        ],
                        [
                          0.2222222222222222,
                          "#7201a8"
                        ],
                        [
                          0.3333333333333333,
                          "#9c179e"
                        ],
                        [
                          0.4444444444444444,
                          "#bd3786"
                        ],
                        [
                          0.5555555555555556,
                          "#d8576b"
                        ],
                        [
                          0.6666666666666666,
                          "#ed7953"
                        ],
                        [
                          0.7777777777777778,
                          "#fb9f3a"
                        ],
                        [
                          0.8888888888888888,
                          "#fdca26"
                        ],
                        [
                          1,
                          "#f0f921"
                        ]
                      ],
                      "sequentialminus": [
                        [
                          0,
                          "#0d0887"
                        ],
                        [
                          0.1111111111111111,
                          "#46039f"
                        ],
                        [
                          0.2222222222222222,
                          "#7201a8"
                        ],
                        [
                          0.3333333333333333,
                          "#9c179e"
                        ],
                        [
                          0.4444444444444444,
                          "#bd3786"
                        ],
                        [
                          0.5555555555555556,
                          "#d8576b"
                        ],
                        [
                          0.6666666666666666,
                          "#ed7953"
                        ],
                        [
                          0.7777777777777778,
                          "#fb9f3a"
                        ],
                        [
                          0.8888888888888888,
                          "#fdca26"
                        ],
                        [
                          1,
                          "#f0f921"
                        ]
                      ]
                    },
                    "colorway": [
                      "#636efa",
                      "#EF553B",
                      "#00cc96",
                      "#ab63fa",
                      "#FFA15A",
                      "#19d3f3",
                      "#FF6692",
                      "#B6E880",
                      "#FF97FF",
                      "#FECB52"
                    ],
                    "font": {
                      "color": "#2a3f5f"
                    },
                    "geo": {
                      "bgcolor": "white",
                      "lakecolor": "white",
                      "landcolor": "#E5ECF6",
                      "showlakes": true,
                      "showland": true,
                      "subunitcolor": "white"
                    },
                    "hoverlabel": {
                      "align": "left"
                    },
                    "hovermode": "closest",
                    "mapbox": {
                      "style": "light"
                    },
                    "paper_bgcolor": "white",
                    "plot_bgcolor": "#E5ECF6",
                    "polar": {
                      "angularaxis": {
                        "gridcolor": "white",
                        "linecolor": "white",
                        "ticks": ""
                      },
                      "bgcolor": "#E5ECF6",
                      "radialaxis": {
                        "gridcolor": "white",
                        "linecolor": "white",
                        "ticks": ""
                      }
                    },
                    "scene": {
                      "xaxis": {
                        "backgroundcolor": "#E5ECF6",
                        "gridcolor": "white",
                        "gridwidth": 2,
                        "linecolor": "white",
                        "showbackground": true,
                        "ticks": "",
                        "zerolinecolor": "white"
                      },
                      "yaxis": {
                        "backgroundcolor": "#E5ECF6",
                        "gridcolor": "white",
                        "gridwidth": 2,
                        "linecolor": "white",
                        "showbackground": true,
                        "ticks": "",
                        "zerolinecolor": "white"
                      },
                      "zaxis": {
                        "backgroundcolor": "#E5ECF6",
                        "gridcolor": "white",
                        "gridwidth": 2,
                        "linecolor": "white",
                        "showbackground": true,
                        "ticks": "",
                        "zerolinecolor": "white"
                      }
                    },
                    "shapedefaults": {
                      "line": {
                        "color": "#2a3f5f"
                      }
                    },
                    "ternary": {
                      "aaxis": {
                        "gridcolor": "white",
                        "linecolor": "white",
                        "ticks": ""
                      },
                      "baxis": {
                        "gridcolor": "white",
                        "linecolor": "white",
                        "ticks": ""
                      },
                      "bgcolor": "#E5ECF6",
                      "caxis": {
                        "gridcolor": "white",
                        "linecolor": "white",
                        "ticks": ""
                      }
                    },
                    "title": {
                      "x": 0.05
                    },
                    "xaxis": {
                      "automargin": true,
                      "gridcolor": "white",
                      "linecolor": "white",
                      "ticks": "",
                      "title": {
                        "standoff": 15
                      },
                      "zerolinecolor": "white",
                      "zerolinewidth": 2
                    },
                    "yaxis": {
                      "automargin": true,
                      "gridcolor": "white",
                      "linecolor": "white",
                      "ticks": "",
                      "title": {
                        "standoff": 15
                      },
                      "zerolinecolor": "white",
                      "zerolinewidth": 2
                    }
                  }
                },
                "xaxis": {
                  "anchor": "y",
                  "domain": [
                    0,
                    0.2888888888888889
                  ]
                },
                "xaxis2": {
                  "anchor": "y2",
                  "domain": [
                    0.35555555555555557,
                    0.6444444444444445
                  ]
                },
                "xaxis3": {
                  "anchor": "y3",
                  "domain": [
                    0.7111111111111111,
                    1
                  ]
                },
                "yaxis": {
                  "anchor": "x",
                  "domain": [
                    0,
                    1
                  ]
                },
                "yaxis2": {
                  "anchor": "x2",
                  "domain": [
                    0,
                    1
                  ]
                },
                "yaxis3": {
                  "anchor": "x3",
                  "domain": [
                    0,
                    1
                  ]
                }
              }
            }
          },
          "metadata": {},
          "output_type": "display_data"
        }
      ],
      "source": [
        "# create subplot for each EducationField\n",
        "fig = make_subplots(rows=1, cols=3, subplot_titles=('Medical', 'Marketing', 'Other'))\n",
        "\n",
        "\n",
        "# define a function to get the kernel density estimate\n",
        "\n",
        "def get_kde(data):\n",
        "    density_function = np.linspace(0, 80, 200)\n",
        "    kernel = stats.gaussian_kde(data)\n",
        "    density = kernel(density_function)\n",
        "    return density_function, density\n",
        "\n",
        "# add density plot for each EducationField\n",
        "fig.add_trace(\n",
        "    go.Scatter(x=get_kde(df_medical['Age'])[0], y=get_kde(df_medical['Age'])[1], mode='lines', name='Medical'),\n",
        "    row=1, col=1\n",
        ")\n",
        "\n",
        "fig.add_trace(\n",
        "    go.Scatter(x=get_kde(df_marketing['Age'])[0], y=get_kde(df_marketing['Age'])[1], mode='lines', name='Marketing'),\n",
        "    row=1, col=2\n",
        ")\n",
        "\n",
        "fig.add_trace(\n",
        "    go.Scatter(x=get_kde(df_other['Age'])[0], y=get_kde(df_other['Age'])[1], mode='lines', name='Other'),\n",
        "    row=1, col=3\n",
        ")\n",
        "\n",
        "\n",
        "# display the plot\n",
        "fig.show()\n"
      ]
    },
    {
      "attachments": {},
      "cell_type": "markdown",
      "metadata": {},
      "source": [
        "En principio, la distribución de densidad de la variable age para las submuestras de Marketing y Other parece ser normal. En el caso de Medical, la distribución de densidad no parece ser normal, ya que tiene una cola a la derecha. No obstante, es necesario comprobar más estadísticos para ver si la distribución es normal o no."
      ]
    },
    {
      "cell_type": "markdown",
      "metadata": {
        "id": "2KeuHm3Cp9X3"
      },
      "source": [
        "## Boxplot"
      ]
    },
    {
      "attachments": {},
      "cell_type": "markdown",
      "metadata": {},
      "source": [
        "A continuación dibujamos el boxplot de la variable age para las 3 submuestras elegidas de la variable EducationField. Esto nos permite ver si hay outliers en las muestras, además de estudiar la simetría de las distribuciones."
      ]
    },
    {
      "cell_type": "code",
      "execution_count": 9,
      "metadata": {
        "colab": {
          "base_uri": "https://localhost:8080/",
          "height": 353
        },
        "id": "35UkYNkDp9X3",
        "outputId": "c2d8e739-f407-4826-c0e3-369d84389bff"
      },
      "outputs": [
        {
          "data": {
            "text/plain": [
              "Text(0.5, 1.0, 'Other')"
            ]
          },
          "execution_count": 9,
          "metadata": {},
          "output_type": "execute_result"
        },
        {
          "data": {
            "image/png": "[encoded data removed]",
            "text/plain": [
              "<Figure size 1500x500 with 3 Axes>"
            ]
          },
          "metadata": {},
          "output_type": "display_data"
        }
      ],
      "source": [
        "# Draw three subplots of type boxplot one per each value of 'MaritalStatus' and plot the column 'Age'\n",
        "\n",
        "fig, ax = plt.subplots(1, 3, figsize=(15, 5))\n",
        "df_medical.boxplot(column='Age', ax=ax[0])\n",
        "ax[0].set_title('Medical')\n",
        "df_marketing.boxplot(column='Age', ax=ax[1])\n",
        "ax[1].set_title('Marketing')\n",
        "df_other.boxplot(column='Age', ax=ax[2])\n",
        "ax[2].set_title('Other')\n",
        "\n"
      ]
    },
    {
      "attachments": {},
      "cell_type": "markdown",
      "metadata": {
        "id": "77VStOcgp9X4"
      },
      "source": [
        "Los boxplot de las submuestras Marketing y Other si que parecen seguir una distribución normal, ya que los bigotes tienen longitud similar en ambos casos. Además, en el caso de Other, la mediana se encuentra en el centro del boxplot. Por otro lado, en el caso de Medical, la distribución no parece ser normal, ya que los bigotes tienen diferente longitud. En ninguno de los 3 casos se observan outliers."
      ]
    },
    {
      "cell_type": "markdown",
      "metadata": {
        "id": "EnWV6O2Pp9X4"
      },
      "source": [
        "## Describe"
      ]
    },
    {
      "attachments": {},
      "cell_type": "markdown",
      "metadata": {},
      "source": [
        "A continuación usamos el método describe para ver los estadísticos de las 3 submuestras elegidas de la variable EducationField. Esto nos permite estudiar las medidas de tendencia central y de dispersión de las muestras, lo que también ayuda a ver si las distribuciones son normales o no."
      ]
    },
    {
      "cell_type": "code",
      "execution_count": 10,
      "metadata": {
        "colab": {
          "base_uri": "https://localhost:8080/"
        },
        "id": "Vym3eN1jp9X5",
        "outputId": "d8335e21-5e5e-49f7-a512-2c606832500b"
      },
      "outputs": [
        {
          "name": "stdout",
          "output_type": "stream",
          "text": [
            "Medical\n",
            "count    464.000000\n",
            "mean      36.838362\n",
            "std        9.481012\n",
            "min       18.000000\n",
            "25%       30.000000\n",
            "50%       35.500000\n",
            "75%       43.000000\n",
            "max       60.000000\n",
            "Name: Age, dtype: float64\n",
            "Marketing\n",
            "count    159.000000\n",
            "mean      37.924528\n",
            "std        9.153783\n",
            "min       18.000000\n",
            "25%       31.500000\n",
            "50%       36.000000\n",
            "75%       45.000000\n",
            "max       60.000000\n",
            "Name: Age, dtype: float64\n",
            "Other\n",
            "count    82.000000\n",
            "mean     35.365854\n",
            "std       7.946600\n",
            "min      19.000000\n",
            "25%      29.000000\n",
            "50%      35.000000\n",
            "75%      41.750000\n",
            "max      53.000000\n",
            "Name: Age, dtype: float64\n"
          ]
        }
      ],
      "source": [
        "# Print the describe for each subdataframe and the median for each one by Age\n",
        "\n",
        "print('Medical')\n",
        "\n",
        "print(df_medical['Age'].describe())\n",
        "\n",
        "print('Marketing')\n",
        "\n",
        "print(df_marketing['Age'].describe())\n",
        "\n",
        "print('Other')\n",
        "\n",
        "print(df_other['Age'].describe())\n"
      ]
    },
    {
      "attachments": {},
      "cell_type": "markdown",
      "metadata": {
        "id": "sY_-BUR3p9X5"
      },
      "source": [
        "De los estadísticos anteriores, se puede observar como la media de la submuestra Marketing es mayor que la de las otras 2 submuestras. No obstante, y aunque la diferencia entre la media y la mediana es grande, la desviación típica de la submuestra Marketing es más pequeña que la de la muestra Medical. Esto es un indicativo de que la distribución puede ser normal.\n",
        "\n",
        "Por otro lado, la desviación típica de la submuestra Medical es la mayor de todas,  y la diferencia entre la media y la mediana es la segunda mayor de las 3 submuestras. Esto es otro indicativo de que la distribución de la variable age para la submuestra Medical no es normal.\n",
        "\n",
        "Sin embargo, en el caso de la submuestra Other, la diferencia entre la media y la mediana es muy pequeña. Además, la desviación típica es la menor de las 3 submuestras. Esto es otro indicativo de que la distribución de la variable age para la submuestra Other es probablemente normal."
      ]
    },
    {
      "attachments": {},
      "cell_type": "markdown",
      "metadata": {
        "id": "3XBej6OYp9X6"
      },
      "source": [
        "## Q-Qplot"
      ]
    },
    {
      "attachments": {},
      "cell_type": "markdown",
      "metadata": {},
      "source": [
        "A continuación, se representan los QQplot de las 3 submuestras elegidas de la variable EducationField. Lo cual es otro nos permite ver si las distribuciones son normales o no. Para ello, hay que comparar los puntos de la muestra con los puntos de la recta de la distribución normal. Si los puntos siguen la recta, la distribución es normal. Si los puntos no siguen la recta, la distribución no es normal. Gracias a la librería Plotly, los 3 gráficos son interactivos."
      ]
    },
    {
      "cell_type": "code",
      "execution_count": 11,
      "metadata": {},
      "outputs": [
        {
          "data": {
            "application/vnd.plotly.v1+json": {
              "config": {
                "plotlyServerURL": "https://plot.ly"
              },
              "data": [
                {
                  "marker": {
                    "color": "#1F77B4",
                    "line": {
                      "color": "#1F77B4",
                      "width": 1
                    },
                    "opacity": 1,
                    "size": 6,
                    "symbol": "circle"
                  },
                  "mode": "markers",
                  "name": "_child0",
                  "type": "scatter",
                  "x": [
                    -2.8551924849944945,
                    -2.627473643898439,
                    -2.4864291545741195,
                    -2.38231227948906,
                    -2.298992303733115,
                    -2.229112031090055,
                    -2.168672891442447,
                    -2.115250508783625,
                    -2.067259827881142,
                    -2.0236055582676937,
                    -1.9834980205285693,
                    -1.9463484012325707,
                    -1.9117054999330558,
                    -1.879215648627909,
                    -1.8485962885014091,
                    -1.8196179624478708,
                    -1.7920916915441225,
                    -1.765859907890723,
                    -1.740789802510323,
                    -1.7167683533713638,
                    -1.693698547408716,
                    -1.6714964672679846,
                    -1.650089014985116,
                    -1.6294121120096885,
                    -1.6094092604069248,
                    -1.5900303813642112,
                    -1.5712308690512935,
                    -1.552970813483852,
                    -1.5352143573001342,
                    -1.5179291595942785,
                    -1.501085946044025,
                    -1.4846581291313978,
                    -1.4686214857038349,
                    -1.4529538817564898,
                    -1.437635036345088,
                    -1.422646318114769,
                    -1.4079705691644144,
                    -1.393591951939518,
                    -1.3794958156199217,
                    -1.3656685790871188,
                    -1.3520976280532617,
                    -1.3387712243366605,
                    -1.325678425596144,
                    -1.312809014104734,
                    -1.3001534333634237,
                    -1.2877027315379288,
                    -1.275448510852347,
                    -1.2633828821995912,
                    -1.2514984243338452,
                    -1.239788147098836,
                    -1.2282454582203943,
                    -1.2168641332549948,
                    -1.205638288339649,
                    -1.19456235543429,
                    -1.1836310597868926,
                    -1.1728393993851387,
                    -1.162182626187269,
                    -1.1516562289496637,
                    -1.1412559174902062,
                    -1.1309776082451584,
                    -1.120817410993494,
                    -1.1107716166367854,
                    -1.1008366859350758,
                    -1.0910092391100106,
                    -1.0812860462359697,
                    -1.0716640183482906,
                    -1.0621401992050452,
                    -1.0527117576453,
                    -1.0433759804925564,
                    -1.034130265957143,
                    -1.0249721174958635,
                    -1.015899138091226,
                    -1.0069090249161432,
                    -0.9979995643532289,
                    -0.9891686273406353,
                    -0.9804141650189565,
                    -0.9717342046560319,
                    -0.9631268458285058,
                    -0.9545902568409,
                    -0.9461226713645919,
                    -0.9377223852806131,
                    -0.9293877537115449,
                    -0.921117188229006,
                    -0.9129091542243568,
                    -0.904762168431241,
                    -0.8966747965895102,
                    -0.8886456512409077,
                    -0.8806733896476469,
                    -0.8727567118257034,
                    -0.8648943586852831,
                    -0.8570851102714853,
                    -0.8493277840987202,
                    -0.8416212335729142,
                    -0.8339643464959678,
                    -0.8263560436473539,
                    -0.8187952774380935,
                    -0.8112810306326932,
                    -0.8038123151349482,
                    -0.7963881708337864,
                    -0.7890076645056049,
                    -0.7816698887697915,
                    -0.774373961094342,
                    -0.7671190228487028,
                    -0.7599042384011454,
                    -0.7527287942581697,
                    -0.7455918982435902,
                    -0.7384927787151065,
                    -0.7314306838163139,
                    -0.7244048807622234,
                    -0.717414655156491,
                    -0.7104593103386728,
                    -0.7035381667599099,
                    -0.6966505613855628,
                    -0.689795847123397,
                    -0.682973392275998,
                    -0.6761825800161908,
                    -0.6694228078842915,
                    -0.6626934873061028,
                    -0.6559940431306184,
                    -0.6493239131864658,
                    -0.6426825478561716,
                    -0.6360694096673843,
                    -0.6294839729002382,
                    -0.6229257232100878,
                    -0.6163941572648871,
                    -0.6098887823965217,
                    -0.603409116265447,
                    -0.5969546865380134,
                    -0.590525030575898,
                    -0.5841196951370913,
                    -0.5777382360879137,
                    -0.5713802181255702,
                    -0.5650452145107681,
                    -0.5587328068099586,
                    -0.5524425846467742,
                    -0.5461741454622642,
                    -0.5399270942835422,
                    -0.5337010435004909,
                    -0.5274956126501718,
                    -0.5213104282086191,
                    -0.5151451233897011,
                    -0.5089993379507574,
                    -0.5028727180047261,
                    -0.49676491583849625,
                    -0.4906755897372242,
                    -0.4846044038143769,
                    -0.478551027847264,
                    -0.47251513711783966,
                    -0.4664964122585637,
                    -0.4604945391031163,
                    -0.45450920854177845,
                    -0.44854011638129115,
                    -0.4425869632090185,
                    -0.4366494542612465,
                    -0.43072729929545756,
                    -0.4248202124664269,
                    -0.41892791220599473,
                    -0.4130501211063715,
                    -0.40718656580684515,
                    -0.4013369768837586,
                    -0.3955010887436365,
                    -0.38967863951934106,
                    -0.38386937096914525,
                    -0.3780730283786142,
                    -0.37228936046519107,
                    -0.3665181192853875,
                    -0.3607590601444818,
                    -0.35501194150863435,
                    -0.34927652491933164,
                    -0.34355257491007396,
                    -0.3378398589252235,
                    -0.3321381472409382,
                    -0.32644721288811296,
                    -0.3207668315772575,
                    -0.31509678162523896,
                    -0.3094368438838259,
                    -0.30378680166996547,
                    -0.29814644069773366,
                    -0.29251554901189897,
                    -0.2868939169230392,
                    -0.2812813369441597,
                    -0.2756776037287554,
                    -0.2700825140102693,
                    -0.2644958665428921,
                    -0.2589174620436598,
                    -0.2533471031357997,
                    -0.24778459429328178,
                    -0.2422297417865289,
                    -0.2366823536292481,
                    -0.23114223952633886,
                    -0.22560921082284124,
                    -0.2200830804538834,
                    -0.21456366289559478,
                    -0.20905077411694659,
                    -0.2035442315324862,
                    -0.19804385395593244,
                    -0.1925494615545969,
                    -0.18706087580460284,
                    -0.18157791944686838,
                    -0.17610041644382635,
                    -0.17062819193684875,
                    -0.16516107220435172,
                    -0.15969888462054987,
                    -0.1542414576148362,
                    -0.1487886206317586,
                    -0.1433402040915707,
                    -0.13789603935133005,
                    -0.1324559586665212,
                    -0.12701979515317768,
                    -0.12158738275048304,
                    -0.11615855618382581,
                    -0.11073315092828767,
                    -0.1053110031725433,
                    -0.09989194978314914,
                    -0.094475828269203,
                    -0.08906247674735177,
                    -0.08365173390712909,
                    -0.07824343897660106,
                    -0.0728374316883035,
                    -0.06743355224544932,
                    -0.062031641288389144,
                    -0.0566315398613043,
                    -0.05123308937911682,
                    -0.04583613159459612,
                    -0.04044050856564621,
                    -0.03504606262275354,
                    -0.029652636336580784,
                    -0.024260072485687196,
                    -0.018868214024358846,
                    -0.013476904050532534,
                    -0.008085985773794113,
                    -0.0026953024834371563,
                    0.0026953024834371563,
                    0.008085985773793974,
                    0.013476904050532534,
                    0.018868214024358985,
                    0.024260072485687057,
                    0.029652636336580784,
                    0.03504606262275368,
                    0.04044050856564621,
                    0.045836131594596256,
                    0.05123308937911668,
                    0.0566315398613043,
                    0.06203164128838928,
                    0.06743355224544932,
                    0.0728374316883035,
                    0.07824343897660092,
                    0.08365173390712909,
                    0.0890624767473519,
                    0.09447582826920287,
                    0.09989194978314914,
                    0.10531100317254344,
                    0.11073315092828767,
                    0.11615855618382581,
                    0.1215873827504829,
                    0.12701979515317768,
                    0.13245595866652135,
                    0.13789603935133005,
                    0.1433402040915707,
                    0.14878862063175846,
                    0.1542414576148362,
                    0.15969888462055,
                    0.16516107220435158,
                    0.17062819193684875,
                    0.17610041644382649,
                    0.18157791944686838,
                    0.18706087580460284,
                    0.19254946155459676,
                    0.19804385395593244,
                    0.20354423153248632,
                    0.20905077411694645,
                    0.21456366289559478,
                    0.22008308045388325,
                    0.22560921082284124,
                    0.231142239526339,
                    0.23668235362924797,
                    0.2422297417865289,
                    0.24778459429328198,
                    0.2533471031357997,
                    0.2589174620436598,
                    0.264495866542892,
                    0.2700825140102693,
                    0.2756776037287555,
                    0.28128133694415947,
                    0.2868939169230392,
                    0.29251554901189913,
                    0.29814644069773366,
                    0.30378680166996547,
                    0.30943684388382575,
                    0.31509678162523896,
                    0.32076683157725766,
                    0.32644721288811296,
                    0.3321381472409382,
                    0.3378398589252233,
                    0.34355257491007396,
                    0.3492765249193318,
                    0.3550119415086342,
                    0.3607590601444818,
                    0.3665181192853877,
                    0.37228936046519107,
                    0.3780730283786142,
                    0.38386937096914503,
                    0.38967863951934106,
                    0.39550108874363665,
                    0.4013369768837586,
                    0.40718656580684515,
                    0.4130501211063714,
                    0.41892791220599473,
                    0.4248202124664271,
                    0.43072729929545744,
                    0.4366494542612465,
                    0.44258696320901864,
                    0.44854011638129115,
                    0.45450920854177845,
                    0.46049453910311605,
                    0.4664964122585637,
                    0.47251513711783977,
                    0.4785510278472638,
                    0.4846044038143769,
                    0.4906755897372244,
                    0.49676491583849625,
                    0.5028727180047263,
                    0.5089993379507571,
                    0.5151451233897011,
                    0.5213104282086192,
                    0.5274956126501718,
                    0.5337010435004909,
                    0.539927094283542,
                    0.5461741454622642,
                    0.5524425846467744,
                    0.5587328068099584,
                    0.5650452145107681,
                    0.5713802181255704,
                    0.5777382360879137,
                    0.5841196951370913,
                    0.5905250305758978,
                    0.5969546865380134,
                    0.6034091162654472,
                    0.6098887823965217,
                    0.6163941572648871,
                    0.6229257232100877,
                    0.6294839729002382,
                    0.6360694096673845,
                    0.6426825478561715,
                    0.6493239131864658,
                    0.6559940431306185,
                    0.6626934873061028,
                    0.6694228078842915,
                    0.6761825800161905,
                    0.682973392275998,
                    0.689795847123397,
                    0.6966505613855628,
                    0.7035381667599099,
                    0.7104593103386727,
                    0.717414655156491,
                    0.7244048807622234,
                    0.7314306838163139,
                    0.7384927787151065,
                    0.7455918982435903,
                    0.7527287942581697,
                    0.7599042384011454,
                    0.7671190228487027,
                    0.774373961094342,
                    0.7816698887697915,
                    0.7890076645056049,
                    0.7963881708337864,
                    0.8038123151349486,
                    0.8112810306326932,
                    0.8187952774380935,
                    0.8263560436473539,
                    0.8339643464959678,
                    0.8416212335729143,
                    0.8493277840987202,
                    0.8570851102714853,
                    0.8648943586852829,
                    0.8727567118257034,
                    0.8806733896476469,
                    0.8886456512409077,
                    0.8966747965895102,
                    0.9047621684312414,
                    0.9129091542243568,
                    0.921117188229006,
                    0.9293877537115446,
                    0.9377223852806131,
                    0.9461226713645919,
                    0.9545902568409,
                    0.9631268458285058,
                    0.9717342046560316,
                    0.9804141650189565,
                    0.9891686273406353,
                    0.9979995643532289,
                    1.0069090249161432,
                    1.0158991380912257,
                    1.0249721174958635,
                    1.034130265957143,
                    1.0433759804925564,
                    1.0527117576453,
                    1.0621401992050452,
                    1.0716640183482906,
                    1.0812860462359697,
                    1.0910092391100106,
                    1.1008366859350758,
                    1.1107716166367854,
                    1.120817410993494,
                    1.1309776082451584,
                    1.1412559174902062,
                    1.1516562289496637,
                    1.162182626187269,
                    1.1728393993851387,
                    1.1836310597868926,
                    1.1945623554342906,
                    1.205638288339649,
                    1.2168641332549948,
                    1.2282454582203948,
                    1.239788147098836,
                    1.2514984243338452,
                    1.2633828821995912,
                    1.275448510852347,
                    1.2877027315379288,
                    1.300153433363423,
                    1.312809014104734,
                    1.325678425596144,
                    1.3387712243366605,
                    1.3520976280532624,
                    1.3656685790871181,
                    1.3794958156199217,
                    1.3935919519395183,
                    1.4079705691644144,
                    1.422646318114769,
                    1.4376350363450874,
                    1.4529538817564898,
                    1.4686214857038349,
                    1.4846581291313978,
                    1.501085946044025,
                    1.517929159594278,
                    1.5352143573001342,
                    1.552970813483852,
                    1.571230869051293,
                    1.5900303813642112,
                    1.6094092604069254,
                    1.6294121120096885,
                    1.6500890149851166,
                    1.6714964672679833,
                    1.693698547408716,
                    1.7167683533713645,
                    1.7407898025103226,
                    1.765859907890723,
                    1.792091691544123,
                    1.8196179624478708,
                    1.8485962885014091,
                    1.8792156486279086,
                    1.9117054999330558,
                    1.9463484012325718,
                    1.9834980205285686,
                    2.023605558267694,
                    2.0672598278811414,
                    2.1152505087836246,
                    2.1686728914424473,
                    2.2291120310900543,
                    2.298992303733115,
                    2.3823122794890623,
                    2.486429154574118,
                    2.627473643898441,
                    2.8551924849944883
                  ],
                  "xaxis": "x",
                  "y": [
                    18,
                    18,
                    18,
                    18,
                    19,
                    19,
                    20,
                    20,
                    20,
                    20,
                    21,
                    21,
                    21,
                    21,
                    22,
                    22,
                    22,
                    22,
                    22,
                    22,
                    23,
                    23,
                    23,
                    23,
                    23,
                    24,
                    24,
                    24,
                    24,
                    24,
                    24,
                    24,
                    24,
                    24,
                    24,
                    25,
                    25,
                    25,
                    25,
                    25,
                    25,
                    25,
                    26,
                    26,
                    26,
                    26,
                    26,
                    26,
                    26,
                    26,
                    26,
                    26,
                    26,
                    26,
                    26,
                    26,
                    26,
                    26,
                    26,
                    27,
                    27,
                    27,
                    27,
                    27,
                    27,
                    27,
                    27,
                    27,
                    27,
                    27,
                    27,
                    27,
                    27,
                    27,
                    27,
                    28,
                    28,
                    28,
                    28,
                    28,
                    28,
                    28,
                    28,
                    28,
                    28,
                    28,
                    28,
                    28,
                    28,
                    28,
                    28,
                    28,
                    28,
                    28,
                    28,
                    28,
                    28,
                    29,
                    29,
                    29,
                    29,
                    29,
                    29,
                    29,
                    29,
                    29,
                    29,
                    29,
                    29,
                    29,
                    29,
                    29,
                    29,
                    29,
                    29,
                    30,
                    30,
                    30,
                    30,
                    30,
                    30,
                    30,
                    30,
                    30,
                    30,
                    30,
                    30,
                    30,
                    30,
                    30,
                    30,
                    30,
                    31,
                    31,
                    31,
                    31,
                    31,
                    31,
                    31,
                    31,
                    31,
                    31,
                    31,
                    31,
                    31,
                    31,
                    31,
                    31,
                    31,
                    31,
                    31,
                    31,
                    31,
                    31,
                    31,
                    32,
                    32,
                    32,
                    32,
                    32,
                    32,
                    32,
                    32,
                    32,
                    32,
                    32,
                    32,
                    32,
                    32,
                    32,
                    33,
                    33,
                    33,
                    33,
                    33,
                    33,
                    33,
                    33,
                    33,
                    33,
                    33,
                    33,
                    33,
                    33,
                    33,
                    33,
                    33,
                    33,
                    33,
                    34,
                    34,
                    34,
                    34,
                    34,
                    34,
                    34,
                    34,
                    34,
                    34,
                    34,
                    34,
                    34,
                    34,
                    34,
                    34,
                    34,
                    34,
                    34,
                    34,
                    34,
                    35,
                    35,
                    35,
                    35,
                    35,
                    35,
                    35,
                    35,
                    35,
                    35,
                    35,
                    35,
                    35,
                    35,
                    35,
                    35,
                    35,
                    35,
                    35,
                    35,
                    35,
                    35,
                    36,
                    36,
                    36,
                    36,
                    36,
                    36,
                    36,
                    36,
                    36,
                    36,
                    36,
                    36,
                    36,
                    36,
                    36,
                    37,
                    37,
                    37,
                    37,
                    37,
                    37,
                    37,
                    37,
                    37,
                    37,
                    37,
                    37,
                    37,
                    37,
                    37,
                    37,
                    37,
                    37,
                    37,
                    37,
                    37,
                    38,
                    38,
                    38,
                    38,
                    38,
                    38,
                    38,
                    38,
                    38,
                    38,
                    38,
                    38,
                    38,
                    38,
                    39,
                    39,
                    39,
                    39,
                    39,
                    39,
                    39,
                    39,
                    39,
                    39,
                    39,
                    39,
                    39,
                    39,
                    39,
                    39,
                    39,
                    40,
                    40,
                    40,
                    40,
                    40,
                    40,
                    40,
                    40,
                    40,
                    40,
                    40,
                    40,
                    40,
                    40,
                    40,
                    40,
                    40,
                    40,
                    40,
                    40,
                    40,
                    41,
                    41,
                    41,
                    41,
                    41,
                    41,
                    42,
                    42,
                    42,
                    42,
                    42,
                    42,
                    42,
                    42,
                    42,
                    42,
                    42,
                    42,
                    42,
                    42,
                    42,
                    42,
                    43,
                    43,
                    43,
                    43,
                    43,
                    43,
                    43,
                    43,
                    43,
                    44,
                    44,
                    44,
                    44,
                    44,
                    44,
                    44,
                    44,
                    44,
                    44,
                    44,
                    45,
                    45,
                    45,
                    45,
                    45,
                    45,
                    45,
                    45,
                    45,
                    45,
                    45,
                    46,
                    46,
                    46,
                    46,
                    46,
                    46,
                    46,
                    46,
                    46,
                    46,
                    46,
                    47,
                    47,
                    47,
                    47,
                    47,
                    47,
                    47,
                    47,
                    48,
                    48,
                    48,
                    48,
                    48,
                    48,
                    49,
                    49,
                    49,
                    49,
                    49,
                    50,
                    50,
                    50,
                    50,
                    50,
                    50,
                    50,
                    50,
                    50,
                    50,
                    50,
                    51,
                    51,
                    51,
                    51,
                    51,
                    52,
                    52,
                    52,
                    52,
                    52,
                    53,
                    53,
                    53,
                    53,
                    53,
                    53,
                    53,
                    53,
                    54,
                    54,
                    54,
                    54,
                    54,
                    54,
                    54,
                    54,
                    55,
                    55,
                    55,
                    55,
                    55,
                    55,
                    55,
                    55,
                    55,
                    55,
                    55,
                    56,
                    56,
                    57,
                    58,
                    58,
                    58,
                    58,
                    58,
                    58,
                    59,
                    59,
                    59,
                    60
                  ],
                  "yaxis": "y"
                },
                {
                  "line": {
                    "color": "rgba (255, 0, 0, 1)",
                    "dash": "solid",
                    "width": 1.5
                  },
                  "mode": "lines",
                  "name": "_child1",
                  "type": "scatter",
                  "x": [
                    -2.8551924849944945,
                    -2.627473643898439,
                    -2.4864291545741195,
                    -2.38231227948906,
                    -2.298992303733115,
                    -2.229112031090055,
                    -2.168672891442447,
                    -2.115250508783625,
                    -2.067259827881142,
                    -2.0236055582676937,
                    -1.9834980205285693,
                    -1.9463484012325707,
                    -1.9117054999330558,
                    -1.879215648627909,
                    -1.8485962885014091,
                    -1.8196179624478708,
                    -1.7920916915441225,
                    -1.765859907890723,
                    -1.740789802510323,
                    -1.7167683533713638,
                    -1.693698547408716,
                    -1.6714964672679846,
                    -1.650089014985116,
                    -1.6294121120096885,
                    -1.6094092604069248,
                    -1.5900303813642112,
                    -1.5712308690512935,
                    -1.552970813483852,
                    -1.5352143573001342,
                    -1.5179291595942785,
                    -1.501085946044025,
                    -1.4846581291313978,
                    -1.4686214857038349,
                    -1.4529538817564898,
                    -1.437635036345088,
                    -1.422646318114769,
                    -1.4079705691644144,
                    -1.393591951939518,
                    -1.3794958156199217,
                    -1.3656685790871188,
                    -1.3520976280532617,
                    -1.3387712243366605,
                    -1.325678425596144,
                    -1.312809014104734,
                    -1.3001534333634237,
                    -1.2877027315379288,
                    -1.275448510852347,
                    -1.2633828821995912,
                    -1.2514984243338452,
                    -1.239788147098836,
                    -1.2282454582203943,
                    -1.2168641332549948,
                    -1.205638288339649,
                    -1.19456235543429,
                    -1.1836310597868926,
                    -1.1728393993851387,
                    -1.162182626187269,
                    -1.1516562289496637,
                    -1.1412559174902062,
                    -1.1309776082451584,
                    -1.120817410993494,
                    -1.1107716166367854,
                    -1.1008366859350758,
                    -1.0910092391100106,
                    -1.0812860462359697,
                    -1.0716640183482906,
                    -1.0621401992050452,
                    -1.0527117576453,
                    -1.0433759804925564,
                    -1.034130265957143,
                    -1.0249721174958635,
                    -1.015899138091226,
                    -1.0069090249161432,
                    -0.9979995643532289,
                    -0.9891686273406353,
                    -0.9804141650189565,
                    -0.9717342046560319,
                    -0.9631268458285058,
                    -0.9545902568409,
                    -0.9461226713645919,
                    -0.9377223852806131,
                    -0.9293877537115449,
                    -0.921117188229006,
                    -0.9129091542243568,
                    -0.904762168431241,
                    -0.8966747965895102,
                    -0.8886456512409077,
                    -0.8806733896476469,
                    -0.8727567118257034,
                    -0.8648943586852831,
                    -0.8570851102714853,
                    -0.8493277840987202,
                    -0.8416212335729142,
                    -0.8339643464959678,
                    -0.8263560436473539,
                    -0.8187952774380935,
                    -0.8112810306326932,
                    -0.8038123151349482,
                    -0.7963881708337864,
                    -0.7890076645056049,
                    -0.7816698887697915,
                    -0.774373961094342,
                    -0.7671190228487028,
                    -0.7599042384011454,
                    -0.7527287942581697,
                    -0.7455918982435902,
                    -0.7384927787151065,
                    -0.7314306838163139,
                    -0.7244048807622234,
                    -0.717414655156491,
                    -0.7104593103386728,
                    -0.7035381667599099,
                    -0.6966505613855628,
                    -0.689795847123397,
                    -0.682973392275998,
                    -0.6761825800161908,
                    -0.6694228078842915,
                    -0.6626934873061028,
                    -0.6559940431306184,
                    -0.6493239131864658,
                    -0.6426825478561716,
                    -0.6360694096673843,
                    -0.6294839729002382,
                    -0.6229257232100878,
                    -0.6163941572648871,
                    -0.6098887823965217,
                    -0.603409116265447,
                    -0.5969546865380134,
                    -0.590525030575898,
                    -0.5841196951370913,
                    -0.5777382360879137,
                    -0.5713802181255702,
                    -0.5650452145107681,
                    -0.5587328068099586,
                    -0.5524425846467742,
                    -0.5461741454622642,
                    -0.5399270942835422,
                    -0.5337010435004909,
                    -0.5274956126501718,
                    -0.5213104282086191,
                    -0.5151451233897011,
                    -0.5089993379507574,
                    -0.5028727180047261,
                    -0.49676491583849625,
                    -0.4906755897372242,
                    -0.4846044038143769,
                    -0.478551027847264,
                    -0.47251513711783966,
                    -0.4664964122585637,
                    -0.4604945391031163,
                    -0.45450920854177845,
                    -0.44854011638129115,
                    -0.4425869632090185,
                    -0.4366494542612465,
                    -0.43072729929545756,
                    -0.4248202124664269,
                    -0.41892791220599473,
                    -0.4130501211063715,
                    -0.40718656580684515,
                    -0.4013369768837586,
                    -0.3955010887436365,
                    -0.38967863951934106,
                    -0.38386937096914525,
                    -0.3780730283786142,
                    -0.37228936046519107,
                    -0.3665181192853875,
                    -0.3607590601444818,
                    -0.35501194150863435,
                    -0.34927652491933164,
                    -0.34355257491007396,
                    -0.3378398589252235,
                    -0.3321381472409382,
                    -0.32644721288811296,
                    -0.3207668315772575,
                    -0.31509678162523896,
                    -0.3094368438838259,
                    -0.30378680166996547,
                    -0.29814644069773366,
                    -0.29251554901189897,
                    -0.2868939169230392,
                    -0.2812813369441597,
                    -0.2756776037287554,
                    -0.2700825140102693,
                    -0.2644958665428921,
                    -0.2589174620436598,
                    -0.2533471031357997,
                    -0.24778459429328178,
                    -0.2422297417865289,
                    -0.2366823536292481,
                    -0.23114223952633886,
                    -0.22560921082284124,
                    -0.2200830804538834,
                    -0.21456366289559478,
                    -0.20905077411694659,
                    -0.2035442315324862,
                    -0.19804385395593244,
                    -0.1925494615545969,
                    -0.18706087580460284,
                    -0.18157791944686838,
                    -0.17610041644382635,
                    -0.17062819193684875,
                    -0.16516107220435172,
                    -0.15969888462054987,
                    -0.1542414576148362,
                    -0.1487886206317586,
                    -0.1433402040915707,
                    -0.13789603935133005,
                    -0.1324559586665212,
                    -0.12701979515317768,
                    -0.12158738275048304,
                    -0.11615855618382581,
                    -0.11073315092828767,
                    -0.1053110031725433,
                    -0.09989194978314914,
                    -0.094475828269203,
                    -0.08906247674735177,
                    -0.08365173390712909,
                    -0.07824343897660106,
                    -0.0728374316883035,
                    -0.06743355224544932,
                    -0.062031641288389144,
                    -0.0566315398613043,
                    -0.05123308937911682,
                    -0.04583613159459612,
                    -0.04044050856564621,
                    -0.03504606262275354,
                    -0.029652636336580784,
                    -0.024260072485687196,
                    -0.018868214024358846,
                    -0.013476904050532534,
                    -0.008085985773794113,
                    -0.0026953024834371563,
                    0.0026953024834371563,
                    0.008085985773793974,
                    0.013476904050532534,
                    0.018868214024358985,
                    0.024260072485687057,
                    0.029652636336580784,
                    0.03504606262275368,
                    0.04044050856564621,
                    0.045836131594596256,
                    0.05123308937911668,
                    0.0566315398613043,
                    0.06203164128838928,
                    0.06743355224544932,
                    0.0728374316883035,
                    0.07824343897660092,
                    0.08365173390712909,
                    0.0890624767473519,
                    0.09447582826920287,
                    0.09989194978314914,
                    0.10531100317254344,
                    0.11073315092828767,
                    0.11615855618382581,
                    0.1215873827504829,
                    0.12701979515317768,
                    0.13245595866652135,
                    0.13789603935133005,
                    0.1433402040915707,
                    0.14878862063175846,
                    0.1542414576148362,
                    0.15969888462055,
                    0.16516107220435158,
                    0.17062819193684875,
                    0.17610041644382649,
                    0.18157791944686838,
                    0.18706087580460284,
                    0.19254946155459676,
                    0.19804385395593244,
                    0.20354423153248632,
                    0.20905077411694645,
                    0.21456366289559478,
                    0.22008308045388325,
                    0.22560921082284124,
                    0.231142239526339,
                    0.23668235362924797,
                    0.2422297417865289,
                    0.24778459429328198,
                    0.2533471031357997,
                    0.2589174620436598,
                    0.264495866542892,
                    0.2700825140102693,
                    0.2756776037287555,
                    0.28128133694415947,
                    0.2868939169230392,
                    0.29251554901189913,
                    0.29814644069773366,
                    0.30378680166996547,
                    0.30943684388382575,
                    0.31509678162523896,
                    0.32076683157725766,
                    0.32644721288811296,
                    0.3321381472409382,
                    0.3378398589252233,
                    0.34355257491007396,
                    0.3492765249193318,
                    0.3550119415086342,
                    0.3607590601444818,
                    0.3665181192853877,
                    0.37228936046519107,
                    0.3780730283786142,
                    0.38386937096914503,
                    0.38967863951934106,
                    0.39550108874363665,
                    0.4013369768837586,
                    0.40718656580684515,
                    0.4130501211063714,
                    0.41892791220599473,
                    0.4248202124664271,
                    0.43072729929545744,
                    0.4366494542612465,
                    0.44258696320901864,
                    0.44854011638129115,
                    0.45450920854177845,
                    0.46049453910311605,
                    0.4664964122585637,
                    0.47251513711783977,
                    0.4785510278472638,
                    0.4846044038143769,
                    0.4906755897372244,
                    0.49676491583849625,
                    0.5028727180047263,
                    0.5089993379507571,
                    0.5151451233897011,
                    0.5213104282086192,
                    0.5274956126501718,
                    0.5337010435004909,
                    0.539927094283542,
                    0.5461741454622642,
                    0.5524425846467744,
                    0.5587328068099584,
                    0.5650452145107681,
                    0.5713802181255704,
                    0.5777382360879137,
                    0.5841196951370913,
                    0.5905250305758978,
                    0.5969546865380134,
                    0.6034091162654472,
                    0.6098887823965217,
                    0.6163941572648871,
                    0.6229257232100877,
                    0.6294839729002382,
                    0.6360694096673845,
                    0.6426825478561715,
                    0.6493239131864658,
                    0.6559940431306185,
                    0.6626934873061028,
                    0.6694228078842915,
                    0.6761825800161905,
                    0.682973392275998,
                    0.689795847123397,
                    0.6966505613855628,
                    0.7035381667599099,
                    0.7104593103386727,
                    0.717414655156491,
                    0.7244048807622234,
                    0.7314306838163139,
                    0.7384927787151065,
                    0.7455918982435903,
                    0.7527287942581697,
                    0.7599042384011454,
                    0.7671190228487027,
                    0.774373961094342,
                    0.7816698887697915,
                    0.7890076645056049,
                    0.7963881708337864,
                    0.8038123151349486,
                    0.8112810306326932,
                    0.8187952774380935,
                    0.8263560436473539,
                    0.8339643464959678,
                    0.8416212335729143,
                    0.8493277840987202,
                    0.8570851102714853,
                    0.8648943586852829,
                    0.8727567118257034,
                    0.8806733896476469,
                    0.8886456512409077,
                    0.8966747965895102,
                    0.9047621684312414,
                    0.9129091542243568,
                    0.921117188229006,
                    0.9293877537115446,
                    0.9377223852806131,
                    0.9461226713645919,
                    0.9545902568409,
                    0.9631268458285058,
                    0.9717342046560316,
                    0.9804141650189565,
                    0.9891686273406353,
                    0.9979995643532289,
                    1.0069090249161432,
                    1.0158991380912257,
                    1.0249721174958635,
                    1.034130265957143,
                    1.0433759804925564,
                    1.0527117576453,
                    1.0621401992050452,
                    1.0716640183482906,
                    1.0812860462359697,
                    1.0910092391100106,
                    1.1008366859350758,
                    1.1107716166367854,
                    1.120817410993494,
                    1.1309776082451584,
                    1.1412559174902062,
                    1.1516562289496637,
                    1.162182626187269,
                    1.1728393993851387,
                    1.1836310597868926,
                    1.1945623554342906,
                    1.205638288339649,
                    1.2168641332549948,
                    1.2282454582203948,
                    1.239788147098836,
                    1.2514984243338452,
                    1.2633828821995912,
                    1.275448510852347,
                    1.2877027315379288,
                    1.300153433363423,
                    1.312809014104734,
                    1.325678425596144,
                    1.3387712243366605,
                    1.3520976280532624,
                    1.3656685790871181,
                    1.3794958156199217,
                    1.3935919519395183,
                    1.4079705691644144,
                    1.422646318114769,
                    1.4376350363450874,
                    1.4529538817564898,
                    1.4686214857038349,
                    1.4846581291313978,
                    1.501085946044025,
                    1.517929159594278,
                    1.5352143573001342,
                    1.552970813483852,
                    1.571230869051293,
                    1.5900303813642112,
                    1.6094092604069254,
                    1.6294121120096885,
                    1.6500890149851166,
                    1.6714964672679833,
                    1.693698547408716,
                    1.7167683533713645,
                    1.7407898025103226,
                    1.765859907890723,
                    1.792091691544123,
                    1.8196179624478708,
                    1.8485962885014091,
                    1.8792156486279086,
                    1.9117054999330558,
                    1.9463484012325718,
                    1.9834980205285686,
                    2.023605558267694,
                    2.0672598278811414,
                    2.1152505087836246,
                    2.1686728914424473,
                    2.2291120310900543,
                    2.298992303733115,
                    2.3823122794890623,
                    2.486429154574118,
                    2.627473643898441,
                    2.8551924849944883
                  ],
                  "xaxis": "x",
                  "y": [
                    9.797434732307021,
                    11.954111967774875,
                    13.289914652567383,
                    14.275983671903731,
                    15.065089633042813,
                    15.72691099350724,
                    16.29931736964138,
                    16.80526951655282,
                    17.259779158876746,
                    17.67321956219667,
                    18.05306961411289,
                    18.404905842754953,
                    18.733001472627354,
                    19.040706018971804,
                    19.330695536885955,
                    19.6051431663435,
                    19.865838686967518,
                    20.11427439118376,
                    20.351708084875717,
                    20.57921017592619,
                    20.797699454664947,
                    21.007970684700545,
                    21.210716161471844,
                    21.406542759448737,
                    21.595985558685207,
                    21.779518845079707,
                    21.957565071066185,
                    22.130502215709686,
                    22.29866987653953,
                    22.4623743474711,
                    22.621892879451657,
                    22.77747727727033,
                    22.92935695330887,
                    23.077741534070512,
                    23.222823096111686,
                    23.36477809307452,
                    23.50376902383075,
                    23.63994588252713,
                    23.77344742399906,
                    23.904402272162663,
                    24.032929894284287,
                    24.15914146021319,
                    24.2831406025605,
                    24.40502409126877,
                    24.524882433929562,
                    24.64280041148205,
                    24.75885755749504,
                    24.873128588042007,
                    24.985683788180758,
                    25.096589360210736,
                    25.205907738173686,
                    25.313697872464704,
                    25.42001548791228,
                    25.524913318252466,
                    25.628441319551957,
                    25.73064686481707,
                    25.8315749217524,
                    25.931268215397168,
                    26.02976737716361,
                    26.127111081624776,
                    26.22333617224556,
                    26.318477777116833,
                    26.41256941563562,
                    26.50564309697167,
                    26.597729411071,
                    26.688857612868063,
                    26.779055700308206,
                    26.868350486721003,
                    26.956767668030256,
                    27.04433188523857,
                    27.13106678258132,
                    27.21699506170688,
                    27.302138532206108,
                    27.38651815878356,
                    27.47015410533608,
                    27.55306577618005,
                    27.635271854646724,
                    27.71679033924589,
                    27.79763857758006,
                    27.877833298176007,
                    27.95739064038597,
                    28.036326182497916,
                    28.114654968182865,
                    28.192391531396385,
                    28.269549919842078,
                    28.34614371709607,
                    28.4221860634836,
                    28.49768967579176,
                    28.572666865895748,
                    28.64712955837011,
                    28.721089307151054,
                    28.794557311310815,
                    28.867544430000645,
                    28.940061196614757,
                    29.012117832223705,
                    29.08372425832232,
                    29.15489010893394,
                    29.22562474210985,
                    29.295937250860018,
                    29.365836473548846,
                    29.43533100378722,
                    29.504429199850076,
                    29.57313919364675,
                    29.64146889926953,
                    29.709426021144218,
                    29.777018061804796,
                    29.844252329313157,
                    29.91113594434313,
                    29.97767584694717,
                    30.043878803022768,
                    30.10975141049441,
                    30.175300105226377,
                    30.240531166680245,
                    30.30545072333043,
                    30.370064757850244,
                    30.434379112080094,
                    30.49839949178889,
                    30.562131471239038,
                    30.62558049756471,
                    30.688751894972704,
                    30.751650868774476,
                    30.814282509257595,
                    30.876651795404303,
                    30.938763598464533,
                    31.00062268539019,
                    31.062233722137346,
                    31.123601276842344,
                    31.184729822877806,
                    31.245623741793963,
                    31.30628732615053,
                    31.366724782244145,
                    31.426940232736,
                    31.486937719184155,
                    31.54672120448472,
                    31.606294575225935,
                    31.66566164395893,
                    31.724826151388815,
                    31.783791768489465,
                    31.842562098545326,
                    31.90114067912329,
                    31.959530983977654,
                    32.017736424890856,
                    32.075760353452814,
                    32.13360606278124,
                    32.19127678918554,
                    32.24877571377639,
                    32.306105964023416,
                    32.36327061526293,
                    32.420272692157695,
                    32.47711517011084,
                    32.53380097663549,
                    32.59033299268199,
                    32.64671405392443,
                    32.70294695200792,
                    32.7590344357583,
                    32.814979212355546,
                    32.870783948472464,
                    32.92645127137986,
                    32.98198377001954,
                    33.037383996046266,
                    33.09265446483997,
                    33.14779765648922,
                    33.202816016747086,
                    33.257711957960396,
                    33.312487859973366,
                    33.36714607100662,
                    33.421688908512394,
                    33.476118660006854,
                    33.53043758388043,
                    33.58464791018678,
                    33.63875184141144,
                    33.69275155322058,
                    33.746649195190855,
                    33.80044689152083,
                    33.85414674172482,
                    33.90775082130961,
                    33.961261182434825,
                    34.014679854557365,
                    34.06800884506062,
                    34.121250139869005,
                    34.1744057040482,
                    34.22747748239174,
                    34.28046739999442,
                    34.33337736281298,
                    34.38620925821443,
                    34.43896495551266,
                    34.491646306493564,
                    34.54425514592922,
                    34.59679329208141,
                    34.64926254719499,
                    34.70166469798141,
                    34.7540015160927,
                    34.80627475858642,
                    34.85848616838172,
                    34.91063747470701,
                    34.96273039353944,
                    35.01476662803656,
                    35.06674786896046,
                    35.11867579509461,
                    35.17055207365377,
                    35.222378360687216,
                    35.27415630147552,
                    35.325887530921186,
                    35.37757367393333,
                    35.42921634580675,
                    35.48081715259556,
                    35.53237769148159,
                    35.58389955113785,
                    35.63538431208726,
                    35.6868335470569,
                    35.738248821327836,
                    35.78963169308095,
                    35.840983713738844,
                    35.892306428304046,
                    35.9436013756937,
                    35.99487008907099,
                    36.046114096173405,
                    36.097334919638094,
                    36.14853407732451,
                    36.199713082634396,
                    36.250873444829466,
                    36.30201666934684,
                    36.35314425811242,
                    36.404257709852445,
                    36.455358520403266,
                    36.506448183019685,
                    36.55752818868182,
                    36.60860002640088,
                    36.659665183523764,
                    36.710725146036914,
                    36.761781398869346,
                    36.8128354261952,
                    36.86388871173583,
                    36.91494273906168,
                    36.96599899189412,
                    37.01705895440727,
                    37.06812411153015,
                    37.11919594924921,
                    37.17027595491135,
                    37.221365617527766,
                    37.27246642807859,
                    37.32357987981861,
                    37.37470746858419,
                    37.425850693101566,
                    37.477011055296636,
                    37.52819006060652,
                    37.57938921829293,
                    37.63061004175763,
                    37.68185404886004,
                    37.73312276223733,
                    37.784417709626986,
                    37.83574042419219,
                    37.88709244485008,
                    37.938475316603196,
                    37.98989059087413,
                    38.04133982584377,
                    38.09282458679319,
                    38.14434644644944,
                    38.19590698533547,
                    38.247507792124274,
                    38.299150463997705,
                    38.35083660700985,
                    38.40256783645551,
                    38.454345777243816,
                    38.506172064277266,
                    38.55804834283642,
                    38.60997626897057,
                    38.66195750989447,
                    38.713993744391594,
                    38.76608666322402,
                    38.81823796954931,
                    38.87044937934461,
                    38.922722621838325,
                    38.975059439949625,
                    39.02746159073604,
                    39.079930845849624,
                    39.13246899200181,
                    39.18507783143747,
                    39.23775918241837,
                    39.2905148797166,
                    39.34334677511805,
                    39.39625673793661,
                    39.4492466555393,
                    39.502318433882834,
                    39.55547399806203,
                    39.608715292870414,
                    39.66204428337367,
                    39.71546295549621,
                    39.76897331662142,
                    39.82257739620621,
                    39.876277246410204,
                    39.93007494274018,
                    39.98397258471045,
                    40.03797229651959,
                    40.09207622774425,
                    40.14628655405061,
                    40.20060547792417,
                    40.25503522941864,
                    40.30957806692441,
                    40.364236277957666,
                    40.419012179970636,
                    40.47390812118394,
                    40.528926481441815,
                    40.584069673091065,
                    40.639340141884766,
                    40.69474036791149,
                    40.75027286655117,
                    40.80594018945857,
                    40.861744925575486,
                    40.91768970217273,
                    40.97377718592311,
                    41.030010084006605,
                    41.086391145249046,
                    41.14292316129554,
                    41.19960896782019,
                    41.25645144577334,
                    41.31345352266811,
                    41.370618173907616,
                    41.42794842415464,
                    41.485447348745495,
                    41.54311807514979,
                    41.60096378447822,
                    41.658987713040176,
                    41.717193153953374,
                    41.775583458807745,
                    41.83416203938571,
                    41.89293236944157,
                    41.951897986542214,
                    42.011062493972105,
                    42.0704295627051,
                    42.130002933446306,
                    42.18978641874688,
                    42.24978390519503,
                    42.309999355686884,
                    42.3704368117805,
                    42.43110039613707,
                    42.491994315053226,
                    42.55312286108869,
                    42.61449041579369,
                    42.67610145254084,
                    42.7379605394665,
                    42.800072342526725,
                    42.86244162867344,
                    42.925073269156556,
                    42.98797224295833,
                    43.05114364036632,
                    43.11459266669199,
                    43.178324646142144,
                    43.24234502585094,
                    43.30665938008079,
                    43.3712734146006,
                    43.43619297125079,
                    43.501424032704655,
                    43.56697272743662,
                    43.63284533490827,
                    43.69904829098386,
                    43.7655881935879,
                    43.832471808617875,
                    43.899706076126236,
                    43.967298116786814,
                    44.0352552386615,
                    44.10358494428428,
                    44.17229493808095,
                    44.24139313414381,
                    44.310887664382186,
                    44.38078688707102,
                    44.45109939582119,
                    44.52183402899709,
                    44.59299987960871,
                    44.66460630570732,
                    44.736662941316276,
                    44.80917970793039,
                    44.88216682662022,
                    44.95563483077998,
                    45.02959457956092,
                    45.104057272035284,
                    45.17903446213927,
                    45.25453807444743,
                    45.33058042083496,
                    45.407174218088954,
                    45.48433260653465,
                    45.56206916974817,
                    45.640397955433116,
                    45.719333497545065,
                    45.798890839755025,
                    45.87908556035097,
                    45.95993379868514,
                    46.04145228328431,
                    46.123658361750984,
                    46.20657003259495,
                    46.29020597914747,
                    46.374585605724924,
                    46.45972907622415,
                    46.54565735534971,
                    46.63239225269246,
                    46.71995646990078,
                    46.80837365121003,
                    46.897668437622826,
                    46.98786652506297,
                    47.07899472686003,
                    47.171081040959365,
                    47.264154722295416,
                    47.3582463608142,
                    47.45338796568547,
                    47.54961305630626,
                    47.646956760767424,
                    47.745455922533864,
                    47.84514921617863,
                    47.94607727311396,
                    48.04828281837908,
                    48.15181081967857,
                    48.25670865001875,
                    48.36302626546633,
                    48.470816399757354,
                    48.580134777720296,
                    48.691040349750274,
                    48.803595549889025,
                    48.91786658043599,
                    49.03392372644898,
                    49.15184170400146,
                    49.27170004666226,
                    49.39358353537053,
                    49.51758267771784,
                    49.64379424364675,
                    49.77232186576836,
                    49.90327671393197,
                    50.03677825540391,
                    50.17295511410028,
                    50.31194604485651,
                    50.45390104181934,
                    50.59898260386052,
                    50.74736718462216,
                    50.8992468606607,
                    51.054831258479375,
                    51.21434979045993,
                    51.3780542613915,
                    51.54622192222135,
                    51.71915906686484,
                    51.897205292851325,
                    52.08073857924583,
                    52.27018137848229,
                    52.466007976459196,
                    52.66875345323048,
                    52.87902468326608,
                    53.097513962004854,
                    53.32501605305531,
                    53.562449746747276,
                    53.81088545096352,
                    54.07158097158754,
                    54.34602860104508,
                    54.63601811895923,
                    54.94372266530368,
                    55.27181829517609,
                    55.62365452381813,
                    56.00350457573437,
                    56.41694497905428,
                    56.871454621378206,
                    57.37740676828966,
                    57.949813144423786,
                    58.611634504888215,
                    59.400740466027315,
                    60.38680948536364,
                    61.722612170156175,
                    63.87928940562395
                  ],
                  "yaxis": "y"
                },
                {
                  "marker": {
                    "color": "#1F77B4",
                    "line": {
                      "color": "#1F77B4",
                      "width": 1
                    },
                    "opacity": 1,
                    "size": 6,
                    "symbol": "circle"
                  },
                  "mode": "markers",
                  "name": "_child0",
                  "type": "scatter",
                  "x": [
                    -2.497705474412373,
                    -2.241402727604945,
                    -2.0802784525252753,
                    -1.9599639845400545,
                    -1.8627318674216515,
                    -1.7804643416920256,
                    -1.7087352578229016,
                    -1.6448536269514729,
                    -1.5870558322903148,
                    -1.5341205443525463,
                    -1.485165456902677,
                    -1.4395314709384563,
                    -1.3967126453904508,
                    -1.3563117453352471,
                    -1.318010897303537,
                    -1.2815515655446004,
                    -1.2467204983795792,
                    -1.213339622488518,
                    -1.1812586209770397,
                    -1.1503493803760079,
                    -1.1205017670747006,
                    -1.0916203674341678,
                    -1.0636219383377197,
                    -1.0364333894937898,
                    -1.009990169249582,
                    -0.984234960446325,
                    -0.9591166172276023,
                    -0.9345892910734802,
                    -0.9106117068724701,
                    -0.887146559018876,
                    -0.8641600043183083,
                    -0.8416212335729142,
                    -0.819502107568254,
                    -0.7977768461252381,
                    -0.7764217611479277,
                    -0.7554150263604693,
                    -0.7347364778072544,
                    -0.7143674402801876,
                    -0.6942905757030833,
                    -0.6744897501960817,
                    -0.654949917100686,
                    -0.6356570136975827,
                    -0.6165978697170302,
                    -0.5977601260424784,
                    -0.579132162255556,
                    -0.5607030318750833,
                    -0.5424624043125493,
                    -0.5244005127080409,
                    -0.5065081069291113,
                    -0.4887764111146695,
                    -0.4711970852299657,
                    -0.45376219016987945,
                    -0.4364641560081164,
                    -0.419295753041396,
                    -0.40225006532172536,
                    -0.38532046640756773,
                    -0.3685005970971567,
                    -0.35178434493515626,
                    -0.3351658253080253,
                    -0.31863936396437514,
                    -0.30219948081476244,
                    -0.2858408748811656,
                    -0.2695584102801578,
                    -0.2533471031357997,
                    -0.23720210932878769,
                    -0.22111871299757055,
                    -0.20509231571520853,
                    -0.18911842627279252,
                    -0.17319265100642342,
                    -0.1573106846101707,
                    -0.1414683013821586,
                    -0.12566134685507402,
                    -0.1098857297659914,
                    -0.0941374143235364,
                    -0.0784124127331122,
                    -0.06270677794321385,
                    -0.04701659657781415,
                    -0.03133798202142662,
                    -0.015667067624769982,
                    0,
                    0.015667067624769982,
                    0.03133798202142648,
                    0.04701659657781429,
                    0.06270677794321385,
                    0.0784124127331122,
                    0.0941374143235364,
                    0.10988572976599126,
                    0.12566134685507416,
                    0.1414683013821586,
                    0.1573106846101707,
                    0.17319265100642342,
                    0.18911842627279238,
                    0.20509231571520872,
                    0.22111871299757055,
                    0.23720210932878769,
                    0.2533471031357997,
                    0.26955841028015765,
                    0.2858408748811657,
                    0.30219948081476244,
                    0.31863936396437514,
                    0.3351658253080253,
                    0.3517843449351561,
                    0.3685005970971569,
                    0.38532046640756773,
                    0.40225006532172536,
                    0.419295753041396,
                    0.4364641560081162,
                    0.45376219016987956,
                    0.4711970852299657,
                    0.4887764111146695,
                    0.5065081069291113,
                    0.5244005127080407,
                    0.5424624043125496,
                    0.5607030318750833,
                    0.579132162255556,
                    0.5977601260424784,
                    0.6165978697170301,
                    0.6356570136975828,
                    0.654949917100686,
                    0.6744897501960817,
                    0.6942905757030833,
                    0.7143674402801873,
                    0.7347364778072545,
                    0.7554150263604693,
                    0.7764217611479277,
                    0.7977768461252381,
                    0.8195021075682538,
                    0.8416212335729143,
                    0.8641600043183083,
                    0.887146559018876,
                    0.9106117068724701,
                    0.93458929107348,
                    0.9591166172276024,
                    0.984234960446325,
                    1.009990169249582,
                    1.0364333894937898,
                    1.0636219383377197,
                    1.0916203674341685,
                    1.1205017670747006,
                    1.1503493803760079,
                    1.1812586209770397,
                    1.2133396224885171,
                    1.2467204983795792,
                    1.2815515655446004,
                    1.318010897303537,
                    1.3563117453352471,
                    1.3967126453904506,
                    1.4395314709384563,
                    1.485165456902677,
                    1.5341205443525463,
                    1.5870558322903143,
                    1.6448536269514722,
                    1.7087352578229025,
                    1.7804643416920256,
                    1.8627318674216515,
                    1.959963984540054,
                    2.0802784525252744,
                    2.241402727604947,
                    2.497705474412374
                  ],
                  "xaxis": "x2",
                  "y": [
                    18,
                    19,
                    20,
                    20,
                    21,
                    23,
                    24,
                    25,
                    25,
                    25,
                    26,
                    26,
                    26,
                    27,
                    27,
                    27,
                    27,
                    27,
                    27,
                    28,
                    28,
                    29,
                    29,
                    29,
                    29,
                    29,
                    30,
                    30,
                    30,
                    30,
                    30,
                    30,
                    30,
                    31,
                    31,
                    31,
                    31,
                    31,
                    31,
                    31,
                    32,
                    32,
                    32,
                    32,
                    32,
                    32,
                    32,
                    32,
                    33,
                    33,
                    33,
                    33,
                    33,
                    33,
                    33,
                    33,
                    33,
                    34,
                    34,
                    34,
                    34,
                    34,
                    34,
                    34,
                    34,
                    34,
                    35,
                    35,
                    35,
                    35,
                    35,
                    35,
                    35,
                    35,
                    35,
                    36,
                    36,
                    36,
                    36,
                    36,
                    36,
                    36,
                    37,
                    37,
                    37,
                    37,
                    38,
                    38,
                    38,
                    38,
                    38,
                    39,
                    39,
                    40,
                    40,
                    40,
                    40,
                    40,
                    40,
                    40,
                    41,
                    41,
                    41,
                    41,
                    41,
                    41,
                    41,
                    42,
                    42,
                    42,
                    42,
                    42,
                    43,
                    43,
                    43,
                    44,
                    44,
                    44,
                    45,
                    45,
                    45,
                    46,
                    46,
                    46,
                    46,
                    46,
                    46,
                    46,
                    46,
                    47,
                    47,
                    47,
                    48,
                    48,
                    48,
                    49,
                    49,
                    50,
                    50,
                    50,
                    50,
                    50,
                    51,
                    51,
                    51,
                    52,
                    52,
                    53,
                    53,
                    53,
                    53,
                    54,
                    55,
                    55,
                    56,
                    57,
                    60,
                    60,
                    60
                  ],
                  "yaxis": "y2"
                },
                {
                  "line": {
                    "color": "rgba (255, 0, 0, 1)",
                    "dash": "solid",
                    "width": 1.5
                  },
                  "mode": "lines",
                  "name": "_child1",
                  "type": "scatter",
                  "x": [
                    -2.497705474412373,
                    -2.241402727604945,
                    -2.0802784525252753,
                    -1.9599639845400545,
                    -1.8627318674216515,
                    -1.7804643416920256,
                    -1.7087352578229016,
                    -1.6448536269514729,
                    -1.5870558322903148,
                    -1.5341205443525463,
                    -1.485165456902677,
                    -1.4395314709384563,
                    -1.3967126453904508,
                    -1.3563117453352471,
                    -1.318010897303537,
                    -1.2815515655446004,
                    -1.2467204983795792,
                    -1.213339622488518,
                    -1.1812586209770397,
                    -1.1503493803760079,
                    -1.1205017670747006,
                    -1.0916203674341678,
                    -1.0636219383377197,
                    -1.0364333894937898,
                    -1.009990169249582,
                    -0.984234960446325,
                    -0.9591166172276023,
                    -0.9345892910734802,
                    -0.9106117068724701,
                    -0.887146559018876,
                    -0.8641600043183083,
                    -0.8416212335729142,
                    -0.819502107568254,
                    -0.7977768461252381,
                    -0.7764217611479277,
                    -0.7554150263604693,
                    -0.7347364778072544,
                    -0.7143674402801876,
                    -0.6942905757030833,
                    -0.6744897501960817,
                    -0.654949917100686,
                    -0.6356570136975827,
                    -0.6165978697170302,
                    -0.5977601260424784,
                    -0.579132162255556,
                    -0.5607030318750833,
                    -0.5424624043125493,
                    -0.5244005127080409,
                    -0.5065081069291113,
                    -0.4887764111146695,
                    -0.4711970852299657,
                    -0.45376219016987945,
                    -0.4364641560081164,
                    -0.419295753041396,
                    -0.40225006532172536,
                    -0.38532046640756773,
                    -0.3685005970971567,
                    -0.35178434493515626,
                    -0.3351658253080253,
                    -0.31863936396437514,
                    -0.30219948081476244,
                    -0.2858408748811656,
                    -0.2695584102801578,
                    -0.2533471031357997,
                    -0.23720210932878769,
                    -0.22111871299757055,
                    -0.20509231571520853,
                    -0.18911842627279252,
                    -0.17319265100642342,
                    -0.1573106846101707,
                    -0.1414683013821586,
                    -0.12566134685507402,
                    -0.1098857297659914,
                    -0.0941374143235364,
                    -0.0784124127331122,
                    -0.06270677794321385,
                    -0.04701659657781415,
                    -0.03133798202142662,
                    -0.015667067624769982,
                    0,
                    0.015667067624769982,
                    0.03133798202142648,
                    0.04701659657781429,
                    0.06270677794321385,
                    0.0784124127331122,
                    0.0941374143235364,
                    0.10988572976599126,
                    0.12566134685507416,
                    0.1414683013821586,
                    0.1573106846101707,
                    0.17319265100642342,
                    0.18911842627279238,
                    0.20509231571520872,
                    0.22111871299757055,
                    0.23720210932878769,
                    0.2533471031357997,
                    0.26955841028015765,
                    0.2858408748811657,
                    0.30219948081476244,
                    0.31863936396437514,
                    0.3351658253080253,
                    0.3517843449351561,
                    0.3685005970971569,
                    0.38532046640756773,
                    0.40225006532172536,
                    0.419295753041396,
                    0.4364641560081162,
                    0.45376219016987956,
                    0.4711970852299657,
                    0.4887764111146695,
                    0.5065081069291113,
                    0.5244005127080407,
                    0.5424624043125496,
                    0.5607030318750833,
                    0.579132162255556,
                    0.5977601260424784,
                    0.6165978697170301,
                    0.6356570136975828,
                    0.654949917100686,
                    0.6744897501960817,
                    0.6942905757030833,
                    0.7143674402801873,
                    0.7347364778072545,
                    0.7554150263604693,
                    0.7764217611479277,
                    0.7977768461252381,
                    0.8195021075682538,
                    0.8416212335729143,
                    0.8641600043183083,
                    0.887146559018876,
                    0.9106117068724701,
                    0.93458929107348,
                    0.9591166172276024,
                    0.984234960446325,
                    1.009990169249582,
                    1.0364333894937898,
                    1.0636219383377197,
                    1.0916203674341685,
                    1.1205017670747006,
                    1.1503493803760079,
                    1.1812586209770397,
                    1.2133396224885171,
                    1.2467204983795792,
                    1.2815515655446004,
                    1.318010897303537,
                    1.3563117453352471,
                    1.3967126453904506,
                    1.4395314709384563,
                    1.485165456902677,
                    1.5341205443525463,
                    1.5870558322903143,
                    1.6448536269514722,
                    1.7087352578229025,
                    1.7804643416920256,
                    1.8627318674216515,
                    1.959963984540054,
                    2.0802784525252744,
                    2.241402727604947,
                    2.497705474412374
                  ],
                  "xaxis": "x2",
                  "y": [
                    15.133086384809722,
                    17.47183658049607,
                    18.94208781489087,
                    20.039951528992038,
                    20.927189905366212,
                    21.677877107495014,
                    22.332401536222108,
                    22.915318335055986,
                    23.44272042207141,
                    23.92575236989594,
                    24.372465180349153,
                    24.78887310001908,
                    25.179592816748062,
                    25.54824908004205,
                    25.897742469968215,
                    26.230432112775176,
                    26.548263919741192,
                    26.8528628013172,
                    27.145600391910236,
                    27.42764572074354,
                    27.7000037517,
                    27.96354512963046,
                    28.219029443957485,
                    28.467123640064344,
                    28.708416748667602,
                    28.943431786074974,
                    29.172635455758012,
                    29.396446123248502,
                    29.615240421946876,
                    29.829358763704782,
                    30.039109966037778,
                    30.244775161389448,
                    30.44661111873359,
                    30.644853080960264,
                    30.839717200801744,
                    31.03140264197188,
                    31.220093399592507,
                    31.405959884036243,
                    31.589160304411568,
                    31.769841881593592,
                    31.948141915614965,
                    32.12418872811077,
                    32.2981024971568,
                    32.46999599909515,
                    32.639975269682665,
                    32.80814019503184,
                    32.9745850412643,
                    33.1393989305054,
                    33.30266626976732,
                    33.464467138359005,
                    33.62487763869506,
                    33.78397021472658,
                    33.94181394166568,
                    34.09847479020589,
                    34.254015868038906,
                    34.408497641123944,
                    34.561978136870245,
                    34.714513131137764,
                    34.866156320741084,
                    35.016959482950284,
                    35.16697262331708,
                    35.31624411301009,
                    35.46482081671773,
                    35.612748212067444,
                    35.76007050141409,
                    35.90683071676675,
                    36.05307081854932,
                    36.19883178882637,
                    36.34415371956893,
                    36.48907589648586,
                    36.633636878902834,
                    36.7778745761336,
                    36.92182632075492,
                    37.06552893916831,
                    37.20901881980703,
                    37.35233197932557,
                    37.49550412709132,
                    37.63857072828305,
                    37.78156706588884,
                    37.924528301886795,
                    38.067489537884754,
                    38.21048587549054,
                    38.35355247668227,
                    38.49672462444802,
                    38.64003778396656,
                    38.78352766460528,
                    38.92723028301867,
                    39.07118202763999,
                    39.215419724870756,
                    39.35998070728773,
                    39.50490288420466,
                    39.65022481494722,
                    39.79598578522427,
                    39.94222588700684,
                    40.0889861023595,
                    40.236308391706146,
                    40.38423578705585,
                    40.532812490763504,
                    40.68208398045651,
                    40.832097120823306,
                    40.98290028303251,
                    41.134543472635826,
                    41.287078466903345,
                    41.440558962649646,
                    41.595040735734685,
                    41.7505818135677,
                    41.90724266210791,
                    42.06508638904701,
                    42.22417896507853,
                    42.384589465414585,
                    42.54639033400627,
                    42.70965767326819,
                    42.8744715625093,
                    43.04091640874175,
                    43.209081334090925,
                    43.37906060467844,
                    43.55095410661679,
                    43.724867875662824,
                    43.90091468815862,
                    44.07921472218,
                    44.25989629936202,
                    44.44309671973734,
                    44.62896320418108,
                    44.81765396180171,
                    45.00933940297185,
                    45.20420352281333,
                    45.40244548504,
                    45.60428144238414,
                    45.80994663773581,
                    46.01969784006881,
                    46.23381618182671,
                    46.45261048052509,
                    46.67642114801558,
                    46.905624817698616,
                    47.14063985510599,
                    47.38193296370925,
                    47.63002715981611,
                    47.88551147414314,
                    48.149052852073595,
                    48.42141088303005,
                    48.703456211863354,
                    48.99619380245638,
                    49.3007926840324,
                    49.618624490998414,
                    49.951314133805376,
                    50.300807523731535,
                    50.66946378702553,
                    51.06018350375451,
                    51.47659142342444,
                    51.92330423387765,
                    52.40633618170217,
                    52.9337382687176,
                    53.5166550675515,
                    54.171179496278576,
                    54.92186669840738,
                    55.80910507478155,
                    56.90696878888271,
                    58.37722002327754,
                    60.71597021896388
                  ],
                  "yaxis": "y2"
                },
                {
                  "marker": {
                    "color": "#1F77B4",
                    "line": {
                      "color": "#1F77B4",
                      "width": 1
                    },
                    "opacity": 1,
                    "size": 6,
                    "symbol": "circle"
                  },
                  "mode": "markers",
                  "name": "_child0",
                  "type": "scatter",
                  "x": [
                    -2.2555889554631765,
                    -1.9756646505355229,
                    -1.79729274972494,
                    -1.662634892456894,
                    -1.552753951341193,
                    -1.458952022362826,
                    -1.3764747520763567,
                    -1.3024251658980157,
                    -1.2349006812813168,
                    -1.1725810422459069,
                    -1.1145105034699654,
                    -1.059973563482826,
                    -1.0084197154725856,
                    -0.95941564319668,
                    -0.9126136302258916,
                    -0.8677299816456436,
                    -0.824529864015855,
                    -0.7828163928053167,
                    -0.7424226091720644,
                    -0.7032054700151432,
                    -0.6650412708393383,
                    -0.6278221076294491,
                    -0.5914531048719768,
                    -0.5558502170512656,
                    -0.5209384652264952,
                    -0.4866505077285448,
                    -0.4529254702701292,
                    -0.4197079794617776,
                    -0.3869473572319931,
                    -0.35459694352998206,
                    -0.3226135220014941,
                    -0.2909568287973069,
                    -0.2595891288031469,
                    -0.22847484672361895,
                    -0.19758024286313683,
                    -0.16687312530526632,
                    -0.13632259162993285,
                    -0.10589879442185156,
                    -0.07557272568403015,
                    -0.04531601592937276,
                    -0.01510074421948807,
                    0.015100744219487929,
                    0.04531601592937276,
                    0.07557272568403028,
                    0.10589879442185142,
                    0.13632259162993285,
                    0.16687312530526646,
                    0.19758024286313683,
                    0.22847484672361895,
                    0.25958912880314705,
                    0.2909568287973069,
                    0.3226135220014941,
                    0.35459694352998183,
                    0.3869473572319931,
                    0.4197079794617776,
                    0.45292547027012897,
                    0.4866505077285448,
                    0.5209384652264955,
                    0.5558502170512654,
                    0.5914531048719768,
                    0.6278221076294493,
                    0.6650412708393381,
                    0.7032054700151432,
                    0.7424226091720644,
                    0.7828163928053167,
                    0.824529864015855,
                    0.8677299816456439,
                    0.9126136302258916,
                    0.95941564319668,
                    1.0084197154725865,
                    1.059973563482826,
                    1.114510503469966,
                    1.1725810422459069,
                    1.2349006812813168,
                    1.3024251658980157,
                    1.3764747520763558,
                    1.458952022362826,
                    1.552753951341193,
                    1.662634892456893,
                    1.79729274972494,
                    1.975664650535523,
                    2.2555889554631747
                  ],
                  "xaxis": "x3",
                  "y": [
                    19,
                    21,
                    22,
                    23,
                    24,
                    24,
                    24,
                    25,
                    25,
                    25,
                    26,
                    26,
                    26,
                    26,
                    27,
                    28,
                    29,
                    29,
                    29,
                    29,
                    29,
                    29,
                    30,
                    30,
                    30,
                    31,
                    32,
                    32,
                    32,
                    33,
                    33,
                    33,
                    34,
                    34,
                    34,
                    34,
                    34,
                    35,
                    35,
                    35,
                    35,
                    35,
                    35,
                    35,
                    35,
                    36,
                    36,
                    36,
                    36,
                    37,
                    37,
                    37,
                    37,
                    37,
                    38,
                    38,
                    38,
                    39,
                    40,
                    40,
                    41,
                    42,
                    42,
                    42,
                    43,
                    43,
                    44,
                    44,
                    44,
                    45,
                    45,
                    45,
                    45,
                    45,
                    47,
                    48,
                    49,
                    49,
                    49,
                    50,
                    52,
                    53
                  ],
                  "yaxis": "y3"
                },
                {
                  "line": {
                    "color": "rgba (255, 0, 0, 1)",
                    "dash": "solid",
                    "width": 1.5
                  },
                  "mode": "lines",
                  "name": "_child1",
                  "type": "scatter",
                  "x": [
                    -2.2555889554631765,
                    -1.9756646505355229,
                    -1.79729274972494,
                    -1.662634892456894,
                    -1.552753951341193,
                    -1.458952022362826,
                    -1.3764747520763567,
                    -1.3024251658980157,
                    -1.2349006812813168,
                    -1.1725810422459069,
                    -1.1145105034699654,
                    -1.059973563482826,
                    -1.0084197154725856,
                    -0.95941564319668,
                    -0.9126136302258916,
                    -0.8677299816456436,
                    -0.824529864015855,
                    -0.7828163928053167,
                    -0.7424226091720644,
                    -0.7032054700151432,
                    -0.6650412708393383,
                    -0.6278221076294491,
                    -0.5914531048719768,
                    -0.5558502170512656,
                    -0.5209384652264952,
                    -0.4866505077285448,
                    -0.4529254702701292,
                    -0.4197079794617776,
                    -0.3869473572319931,
                    -0.35459694352998206,
                    -0.3226135220014941,
                    -0.2909568287973069,
                    -0.2595891288031469,
                    -0.22847484672361895,
                    -0.19758024286313683,
                    -0.16687312530526632,
                    -0.13632259162993285,
                    -0.10589879442185156,
                    -0.07557272568403015,
                    -0.04531601592937276,
                    -0.01510074421948807,
                    0.015100744219487929,
                    0.04531601592937276,
                    0.07557272568403028,
                    0.10589879442185142,
                    0.13632259162993285,
                    0.16687312530526646,
                    0.19758024286313683,
                    0.22847484672361895,
                    0.25958912880314705,
                    0.2909568287973069,
                    0.3226135220014941,
                    0.35459694352998183,
                    0.3869473572319931,
                    0.4197079794617776,
                    0.45292547027012897,
                    0.4866505077285448,
                    0.5209384652264955,
                    0.5558502170512654,
                    0.5914531048719768,
                    0.6278221076294493,
                    0.6650412708393381,
                    0.7032054700151432,
                    0.7424226091720644,
                    0.7828163928053167,
                    0.824529864015855,
                    0.8677299816456439,
                    0.9126136302258916,
                    0.95941564319668,
                    1.0084197154725865,
                    1.059973563482826,
                    1.114510503469966,
                    1.1725810422459069,
                    1.2349006812813168,
                    1.3024251658980157,
                    1.3764747520763558,
                    1.458952022362826,
                    1.552753951341193,
                    1.662634892456893,
                    1.79729274972494,
                    1.975664650535523,
                    2.2555889554631747
                  ],
                  "xaxis": "x3",
                  "y": [
                    17.55122033862719,
                    19.762061475057852,
                    21.170842095223314,
                    22.234369359384054,
                    23.10220863040088,
                    23.843055922369757,
                    24.49446110141258,
                    25.079304462195616,
                    25.61261259471187,
                    26.10481287586503,
                    26.563453778710976,
                    26.994186331247917,
                    27.40135843426266,
                    27.788392417854027,
                    28.158034545108116,
                    28.512525437422582,
                    28.85371980844822,
                    29.183172651492374,
                    29.502202606878186,
                    29.811939428493783,
                    30.113360133989897,
                    30.407316948883896,
                    30.694559199634366,
                    30.97575067741654,
                    31.25148356563076,
                    31.52228972853343,
                    31.788649951022865,
                    32.05100157192656,
                    32.309744846467844,
                    32.5652482955572,
                    32.817853241802425,
                    33.067877688937415,
                    33.31561966875667,
                    33.56136015481309,
                    33.80536562309901,
                    34.04789032525268,
                    34.28917832847481,
                    34.52946536754216,
                    34.76898054750885,
                    35.00794793048022,
                    35.24658803592554,
                    35.48511928114763,
                    35.72375938659295,
                    35.96272676956432,
                    36.202241949531015,
                    36.44252898859836,
                    36.68381699182049,
                    36.926341693974166,
                    37.170347162260086,
                    37.416087648316505,
                    37.66382962813576,
                    37.91385407527075,
                    38.166459021515976,
                    38.42196247060533,
                    38.68070574514661,
                    38.943057366050304,
                    39.20941758853974,
                    39.480223751442416,
                    39.75595663965663,
                    40.037148117438804,
                    40.32439036818928,
                    40.61834718308327,
                    40.919767888579386,
                    41.22950471019499,
                    41.5485346655808,
                    41.877987508624955,
                    42.21918187965059,
                    42.57367277196506,
                    42.943314899219146,
                    43.33034888281052,
                    43.737520985825256,
                    44.1682535383622,
                    44.626894441208144,
                    45.119094722361304,
                    45.65240285487756,
                    46.23724621566059,
                    46.888651394703416,
                    47.62949868667229,
                    48.49733795768911,
                    49.56086522184986,
                    50.969645842015325,
                    53.18048697844597
                  ],
                  "yaxis": "y3"
                }
              ],
              "layout": {
                "annotations": [
                  {
                    "font": {
                      "color": "#000000",
                      "size": 16
                    },
                    "showarrow": false,
                    "text": "Medical",
                    "x": 0.14729886800080852,
                    "xanchor": "center",
                    "xref": "paper",
                    "y": 1.0431778929188256,
                    "yanchor": "bottom",
                    "yref": "paper"
                  },
                  {
                    "font": {
                      "color": "#000000",
                      "size": 16
                    },
                    "showarrow": false,
                    "text": "Marketing",
                    "x": 0.4997852233676976,
                    "xanchor": "center",
                    "xref": "paper",
                    "y": 1.0431778929188256,
                    "yanchor": "bottom",
                    "yref": "paper"
                  },
                  {
                    "font": {
                      "color": "#000000",
                      "size": 16
                    },
                    "showarrow": false,
                    "text": "Other",
                    "x": 0.8522715787345866,
                    "xanchor": "center",
                    "xref": "paper",
                    "y": 1.0431778929188256,
                    "yanchor": "bottom",
                    "yref": "paper"
                  }
                ],
                "autosize": false,
                "height": 500,
                "hovermode": "closest",
                "margin": {
                  "b": 54,
                  "l": 187,
                  "pad": 0,
                  "r": 149,
                  "t": 60
                },
                "showlegend": false,
                "template": {
                  "data": {
                    "bar": [
                      {
                        "error_x": {
                          "color": "#2a3f5f"
                        },
                        "error_y": {
                          "color": "#2a3f5f"
                        },
                        "marker": {
                          "line": {
                            "color": "#E5ECF6",
                            "width": 0.5
                          },
                          "pattern": {
                            "fillmode": "overlay",
                            "size": 10,
                            "solidity": 0.2
                          }
                        },
                        "type": "bar"
                      }
                    ],
                    "barpolar": [
                      {
                        "marker": {
                          "line": {
                            "color": "#E5ECF6",
                            "width": 0.5
                          },
                          "pattern": {
                            "fillmode": "overlay",
                            "size": 10,
                            "solidity": 0.2
                          }
                        },
                        "type": "barpolar"
                      }
                    ],
                    "carpet": [
                      {
                        "aaxis": {
                          "endlinecolor": "#2a3f5f",
                          "gridcolor": "white",
                          "linecolor": "white",
                          "minorgridcolor": "white",
                          "startlinecolor": "#2a3f5f"
                        },
                        "baxis": {
                          "endlinecolor": "#2a3f5f",
                          "gridcolor": "white",
                          "linecolor": "white",
                          "minorgridcolor": "white",
                          "startlinecolor": "#2a3f5f"
                        },
                        "type": "carpet"
                      }
                    ],
                    "choropleth": [
                      {
                        "colorbar": {
                          "outlinewidth": 0,
                          "ticks": ""
                        },
                        "type": "choropleth"
                      }
                    ],
                    "contour": [
                      {
                        "colorbar": {
                          "outlinewidth": 0,
                          "ticks": ""
                        },
                        "colorscale": [
                          [
                            0,
                            "#0d0887"
                          ],
                          [
                            0.1111111111111111,
                            "#46039f"
                          ],
                          [
                            0.2222222222222222,
                            "#7201a8"
                          ],
                          [
                            0.3333333333333333,
                            "#9c179e"
                          ],
                          [
                            0.4444444444444444,
                            "#bd3786"
                          ],
                          [
                            0.5555555555555556,
                            "#d8576b"
                          ],
                          [
                            0.6666666666666666,
                            "#ed7953"
                          ],
                          [
                            0.7777777777777778,
                            "#fb9f3a"
                          ],
                          [
                            0.8888888888888888,
                            "#fdca26"
                          ],
                          [
                            1,
                            "#f0f921"
                          ]
                        ],
                        "type": "contour"
                      }
                    ],
                    "contourcarpet": [
                      {
                        "colorbar": {
                          "outlinewidth": 0,
                          "ticks": ""
                        },
                        "type": "contourcarpet"
                      }
                    ],
                    "heatmap": [
                      {
                        "colorbar": {
                          "outlinewidth": 0,
                          "ticks": ""
                        },
                        "colorscale": [
                          [
                            0,
                            "#0d0887"
                          ],
                          [
                            0.1111111111111111,
                            "#46039f"
                          ],
                          [
                            0.2222222222222222,
                            "#7201a8"
                          ],
                          [
                            0.3333333333333333,
                            "#9c179e"
                          ],
                          [
                            0.4444444444444444,
                            "#bd3786"
                          ],
                          [
                            0.5555555555555556,
                            "#d8576b"
                          ],
                          [
                            0.6666666666666666,
                            "#ed7953"
                          ],
                          [
                            0.7777777777777778,
                            "#fb9f3a"
                          ],
                          [
                            0.8888888888888888,
                            "#fdca26"
                          ],
                          [
                            1,
                            "#f0f921"
                          ]
                        ],
                        "type": "heatmap"
                      }
                    ],
                    "heatmapgl": [
                      {
                        "colorbar": {
                          "outlinewidth": 0,
                          "ticks": ""
                        },
                        "colorscale": [
                          [
                            0,
                            "#0d0887"
                          ],
                          [
                            0.1111111111111111,
                            "#46039f"
                          ],
                          [
                            0.2222222222222222,
                            "#7201a8"
                          ],
                          [
                            0.3333333333333333,
                            "#9c179e"
                          ],
                          [
                            0.4444444444444444,
                            "#bd3786"
                          ],
                          [
                            0.5555555555555556,
                            "#d8576b"
                          ],
                          [
                            0.6666666666666666,
                            "#ed7953"
                          ],
                          [
                            0.7777777777777778,
                            "#fb9f3a"
                          ],
                          [
                            0.8888888888888888,
                            "#fdca26"
                          ],
                          [
                            1,
                            "#f0f921"
                          ]
                        ],
                        "type": "heatmapgl"
                      }
                    ],
                    "histogram": [
                      {
                        "marker": {
                          "pattern": {
                            "fillmode": "overlay",
                            "size": 10,
                            "solidity": 0.2
                          }
                        },
                        "type": "histogram"
                      }
                    ],
                    "histogram2d": [
                      {
                        "colorbar": {
                          "outlinewidth": 0,
                          "ticks": ""
                        },
                        "colorscale": [
                          [
                            0,
                            "#0d0887"
                          ],
                          [
                            0.1111111111111111,
                            "#46039f"
                          ],
                          [
                            0.2222222222222222,
                            "#7201a8"
                          ],
                          [
                            0.3333333333333333,
                            "#9c179e"
                          ],
                          [
                            0.4444444444444444,
                            "#bd3786"
                          ],
                          [
                            0.5555555555555556,
                            "#d8576b"
                          ],
                          [
                            0.6666666666666666,
                            "#ed7953"
                          ],
                          [
                            0.7777777777777778,
                            "#fb9f3a"
                          ],
                          [
                            0.8888888888888888,
                            "#fdca26"
                          ],
                          [
                            1,
                            "#f0f921"
                          ]
                        ],
                        "type": "histogram2d"
                      }
                    ],
                    "histogram2dcontour": [
                      {
                        "colorbar": {
                          "outlinewidth": 0,
                          "ticks": ""
                        },
                        "colorscale": [
                          [
                            0,
                            "#0d0887"
                          ],
                          [
                            0.1111111111111111,
                            "#46039f"
                          ],
                          [
                            0.2222222222222222,
                            "#7201a8"
                          ],
                          [
                            0.3333333333333333,
                            "#9c179e"
                          ],
                          [
                            0.4444444444444444,
                            "#bd3786"
                          ],
                          [
                            0.5555555555555556,
                            "#d8576b"
                          ],
                          [
                            0.6666666666666666,
                            "#ed7953"
                          ],
                          [
                            0.7777777777777778,
                            "#fb9f3a"
                          ],
                          [
                            0.8888888888888888,
                            "#fdca26"
                          ],
                          [
                            1,
                            "#f0f921"
                          ]
                        ],
                        "type": "histogram2dcontour"
                      }
                    ],
                    "mesh3d": [
                      {
                        "colorbar": {
                          "outlinewidth": 0,
                          "ticks": ""
                        },
                        "type": "mesh3d"
                      }
                    ],
                    "parcoords": [
                      {
                        "line": {
                          "colorbar": {
                            "outlinewidth": 0,
                            "ticks": ""
                          }
                        },
                        "type": "parcoords"
                      }
                    ],
                    "pie": [
                      {
                        "automargin": true,
                        "type": "pie"
                      }
                    ],
                    "scatter": [
                      {
                        "fillpattern": {
                          "fillmode": "overlay",
                          "size": 10,
                          "solidity": 0.2
                        },
                        "type": "scatter"
                      }
                    ],
                    "scatter3d": [
                      {
                        "line": {
                          "colorbar": {
                            "outlinewidth": 0,
                            "ticks": ""
                          }
                        },
                        "marker": {
                          "colorbar": {
                            "outlinewidth": 0,
                            "ticks": ""
                          }
                        },
                        "type": "scatter3d"
                      }
                    ],
                    "scattercarpet": [
                      {
                        "marker": {
                          "colorbar": {
                            "outlinewidth": 0,
                            "ticks": ""
                          }
                        },
                        "type": "scattercarpet"
                      }
                    ],
                    "scattergeo": [
                      {
                        "marker": {
                          "colorbar": {
                            "outlinewidth": 0,
                            "ticks": ""
                          }
                        },
                        "type": "scattergeo"
                      }
                    ],
                    "scattergl": [
                      {
                        "marker": {
                          "colorbar": {
                            "outlinewidth": 0,
                            "ticks": ""
                          }
                        },
                        "type": "scattergl"
                      }
                    ],
                    "scattermapbox": [
                      {
                        "marker": {
                          "colorbar": {
                            "outlinewidth": 0,
                            "ticks": ""
                          }
                        },
                        "type": "scattermapbox"
                      }
                    ],
                    "scatterpolar": [
                      {
                        "marker": {
                          "colorbar": {
                            "outlinewidth": 0,
                            "ticks": ""
                          }
                        },
                        "type": "scatterpolar"
                      }
                    ],
                    "scatterpolargl": [
                      {
                        "marker": {
                          "colorbar": {
                            "outlinewidth": 0,
                            "ticks": ""
                          }
                        },
                        "type": "scatterpolargl"
                      }
                    ],
                    "scatterternary": [
                      {
                        "marker": {
                          "colorbar": {
                            "outlinewidth": 0,
                            "ticks": ""
                          }
                        },
                        "type": "scatterternary"
                      }
                    ],
                    "surface": [
                      {
                        "colorbar": {
                          "outlinewidth": 0,
                          "ticks": ""
                        },
                        "colorscale": [
                          [
                            0,
                            "#0d0887"
                          ],
                          [
                            0.1111111111111111,
                            "#46039f"
                          ],
                          [
                            0.2222222222222222,
                            "#7201a8"
                          ],
                          [
                            0.3333333333333333,
                            "#9c179e"
                          ],
                          [
                            0.4444444444444444,
                            "#bd3786"
                          ],
                          [
                            0.5555555555555556,
                            "#d8576b"
                          ],
                          [
                            0.6666666666666666,
                            "#ed7953"
                          ],
                          [
                            0.7777777777777778,
                            "#fb9f3a"
                          ],
                          [
                            0.8888888888888888,
                            "#fdca26"
                          ],
                          [
                            1,
                            "#f0f921"
                          ]
                        ],
                        "type": "surface"
                      }
                    ],
                    "table": [
                      {
                        "cells": {
                          "fill": {
                            "color": "#EBF0F8"
                          },
                          "line": {
                            "color": "white"
                          }
                        },
                        "header": {
                          "fill": {
                            "color": "#C8D4E3"
                          },
                          "line": {
                            "color": "white"
                          }
                        },
                        "type": "table"
                      }
                    ]
                  },
                  "layout": {
                    "annotationdefaults": {
                      "arrowcolor": "#2a3f5f",
                      "arrowhead": 0,
                      "arrowwidth": 1
                    },
                    "autotypenumbers": "strict",
                    "coloraxis": {
                      "colorbar": {
                        "outlinewidth": 0,
                        "ticks": ""
                      }
                    },
                    "colorscale": {
                      "diverging": [
                        [
                          0,
                          "#8e0152"
                        ],
                        [
                          0.1,
                          "#c51b7d"
                        ],
                        [
                          0.2,
                          "#de77ae"
                        ],
                        [
                          0.3,
                          "#f1b6da"
                        ],
                        [
                          0.4,
                          "#fde0ef"
                        ],
                        [
                          0.5,
                          "#f7f7f7"
                        ],
                        [
                          0.6,
                          "#e6f5d0"
                        ],
                        [
                          0.7,
                          "#b8e186"
                        ],
                        [
                          0.8,
                          "#7fbc41"
                        ],
                        [
                          0.9,
                          "#4d9221"
                        ],
                        [
                          1,
                          "#276419"
                        ]
                      ],
                      "sequential": [
                        [
                          0,
                          "#0d0887"
                        ],
                        [
                          0.1111111111111111,
                          "#46039f"
                        ],
                        [
                          0.2222222222222222,
                          "#7201a8"
                        ],
                        [
                          0.3333333333333333,
                          "#9c179e"
                        ],
                        [
                          0.4444444444444444,
                          "#bd3786"
                        ],
                        [
                          0.5555555555555556,
                          "#d8576b"
                        ],
                        [
                          0.6666666666666666,
                          "#ed7953"
                        ],
                        [
                          0.7777777777777778,
                          "#fb9f3a"
                        ],
                        [
                          0.8888888888888888,
                          "#fdca26"
                        ],
                        [
                          1,
                          "#f0f921"
                        ]
                      ],
                      "sequentialminus": [
                        [
                          0,
                          "#0d0887"
                        ],
                        [
                          0.1111111111111111,
                          "#46039f"
                        ],
                        [
                          0.2222222222222222,
                          "#7201a8"
                        ],
                        [
                          0.3333333333333333,
                          "#9c179e"
                        ],
                        [
                          0.4444444444444444,
                          "#bd3786"
                        ],
                        [
                          0.5555555555555556,
                          "#d8576b"
                        ],
                        [
                          0.6666666666666666,
                          "#ed7953"
                        ],
                        [
                          0.7777777777777778,
                          "#fb9f3a"
                        ],
                        [
                          0.8888888888888888,
                          "#fdca26"
                        ],
                        [
                          1,
                          "#f0f921"
                        ]
                      ]
                    },
                    "colorway": [
                      "#636efa",
                      "#EF553B",
                      "#00cc96",
                      "#ab63fa",
                      "#FFA15A",
                      "#19d3f3",
                      "#FF6692",
                      "#B6E880",
                      "#FF97FF",
                      "#FECB52"
                    ],
                    "font": {
                      "color": "#2a3f5f"
                    },
                    "geo": {
                      "bgcolor": "white",
                      "lakecolor": "white",
                      "landcolor": "#E5ECF6",
                      "showlakes": true,
                      "showland": true,
                      "subunitcolor": "white"
                    },
                    "hoverlabel": {
                      "align": "left"
                    },
                    "hovermode": "closest",
                    "mapbox": {
                      "style": "light"
                    },
                    "paper_bgcolor": "white",
                    "plot_bgcolor": "#E5ECF6",
                    "polar": {
                      "angularaxis": {
                        "gridcolor": "white",
                        "linecolor": "white",
                        "ticks": ""
                      },
                      "bgcolor": "#E5ECF6",
                      "radialaxis": {
                        "gridcolor": "white",
                        "linecolor": "white",
                        "ticks": ""
                      }
                    },
                    "scene": {
                      "xaxis": {
                        "backgroundcolor": "#E5ECF6",
                        "gridcolor": "white",
                        "gridwidth": 2,
                        "linecolor": "white",
                        "showbackground": true,
                        "ticks": "",
                        "zerolinecolor": "white"
                      },
                      "yaxis": {
                        "backgroundcolor": "#E5ECF6",
                        "gridcolor": "white",
                        "gridwidth": 2,
                        "linecolor": "white",
                        "showbackground": true,
                        "ticks": "",
                        "zerolinecolor": "white"
                      },
                      "zaxis": {
                        "backgroundcolor": "#E5ECF6",
                        "gridcolor": "white",
                        "gridwidth": 2,
                        "linecolor": "white",
                        "showbackground": true,
                        "ticks": "",
                        "zerolinecolor": "white"
                      }
                    },
                    "shapedefaults": {
                      "line": {
                        "color": "#2a3f5f"
                      }
                    },
                    "ternary": {
                      "aaxis": {
                        "gridcolor": "white",
                        "linecolor": "white",
                        "ticks": ""
                      },
                      "baxis": {
                        "gridcolor": "white",
                        "linecolor": "white",
                        "ticks": ""
                      },
                      "bgcolor": "#E5ECF6",
                      "caxis": {
                        "gridcolor": "white",
                        "linecolor": "white",
                        "ticks": ""
                      }
                    },
                    "title": {
                      "x": 0.05
                    },
                    "xaxis": {
                      "automargin": true,
                      "gridcolor": "white",
                      "linecolor": "white",
                      "ticks": "",
                      "title": {
                        "standoff": 15
                      },
                      "zerolinecolor": "white",
                      "zerolinewidth": 2
                    },
                    "yaxis": {
                      "automargin": true,
                      "gridcolor": "white",
                      "linecolor": "white",
                      "ticks": "",
                      "title": {
                        "standoff": 15
                      },
                      "zerolinecolor": "white",
                      "zerolinewidth": 2
                    }
                  }
                },
                "width": 1500,
                "xaxis": {
                  "anchor": "y",
                  "domain": [
                    0,
                    0.2941176470588235
                  ],
                  "mirror": "ticks",
                  "nticks": 7,
                  "range": [
                    -2.9694001843942743,
                    2.969400184394268
                  ],
                  "showgrid": false,
                  "showline": true,
                  "side": "bottom",
                  "tickfont": {
                    "size": 10
                  },
                  "ticks": "inside",
                  "title": {
                    "font": {
                      "color": "#000000",
                      "size": 10
                    },
                    "text": "Theoretical Quantiles"
                  },
                  "type": "linear",
                  "zeroline": false
                },
                "xaxis2": {
                  "anchor": "y2",
                  "domain": [
                    0.35294117647058826,
                    0.6470588235294117
                  ],
                  "mirror": "ticks",
                  "nticks": 7,
                  "range": [
                    -2.5976136933888676,
                    2.597613693388869
                  ],
                  "showgrid": false,
                  "showline": true,
                  "side": "bottom",
                  "tickfont": {
                    "size": 10
                  },
                  "ticks": "inside",
                  "title": {
                    "font": {
                      "color": "#000000",
                      "size": 10
                    },
                    "text": "Theoretical Quantiles"
                  },
                  "type": "linear",
                  "zeroline": false
                },
                "xaxis3": {
                  "anchor": "y3",
                  "domain": [
                    0.7058823529411765,
                    1
                  ],
                  "mirror": "ticks",
                  "nticks": 7,
                  "range": [
                    -2.3458125136817034,
                    2.3458125136817016
                  ],
                  "showgrid": false,
                  "showline": true,
                  "side": "bottom",
                  "tickfont": {
                    "size": 10
                  },
                  "ticks": "inside",
                  "title": {
                    "font": {
                      "color": "#000000",
                      "size": 10
                    },
                    "text": "Theoretical Quantiles"
                  },
                  "type": "linear",
                  "zeroline": false
                },
                "yaxis": {
                  "anchor": "x",
                  "domain": [
                    0,
                    1
                  ],
                  "mirror": "ticks",
                  "nticks": 8,
                  "range": [
                    7.093341998641175,
                    66.5833821392898
                  ],
                  "showgrid": false,
                  "showline": true,
                  "side": "left",
                  "tickfont": {
                    "size": 10
                  },
                  "ticks": "inside",
                  "title": {
                    "font": {
                      "color": "#000000",
                      "size": 10
                    },
                    "text": "Sample Quantiles"
                  },
                  "type": "linear",
                  "zeroline": false
                },
                "yaxis2": {
                  "anchor": "x2",
                  "domain": [
                    0,
                    1
                  ],
                  "mirror": "ticks",
                  "nticks": 7,
                  "range": [
                    12.853942193102014,
                    62.99511441067159
                  ],
                  "showgrid": false,
                  "showline": true,
                  "side": "left",
                  "tickfont": {
                    "size": 10
                  },
                  "ticks": "inside",
                  "title": {
                    "font": {
                      "color": "#000000",
                      "size": 10
                    },
                    "text": "Sample Quantiles"
                  },
                  "type": "linear",
                  "zeroline": false
                },
                "yaxis3": {
                  "anchor": "x3",
                  "domain": [
                    0,
                    1
                  ],
                  "mirror": "ticks",
                  "nticks": 9,
                  "range": [
                    15.769757006636251,
                    54.96195031043691
                  ],
                  "showgrid": false,
                  "showline": true,
                  "side": "left",
                  "tickfont": {
                    "size": 10
                  },
                  "ticks": "inside",
                  "title": {
                    "font": {
                      "color": "#000000",
                      "size": 10
                    },
                    "text": "Sample Quantiles"
                  },
                  "type": "linear",
                  "zeroline": false
                }
              }
            }
          },
          "metadata": {},
          "output_type": "display_data"
        }
      ],
      "source": [
        "# Draw three subplots of type qqplot one per each value of 'MaritalStatus' and plot the column 'Age'\n",
        "fig, ax = plt.subplots(1, 3, figsize=(15, 5))\n",
        "\n",
        "sm.qqplot(df_medical['Age'], line='s', ax=ax[0])\n",
        "ax[0].set_title('Medical', fontsize=16)\n",
        "sm.qqplot(df_marketing['Age'], line='s', ax=ax[1])\n",
        "ax[1].set_title('Marketing', fontsize=16)\n",
        "sm.qqplot(df_other['Age'], line='s', ax=ax[2])\n",
        "ax[2].set_title('Other', fontsize=16)\n",
        "\n",
        "# Convert the matplotlib figure to a Plotly figure\n",
        "plotly_fig = tls.mpl_to_plotly(fig)\n",
        "\n",
        "# Show the plot\n",
        "plotly_fig.show()"
      ]
    },
    {
      "attachments": {},
      "cell_type": "markdown",
      "metadata": {
        "id": "0sUvFXmLp9X7"
      },
      "source": [
        "En el caso de las submuestras Marketing y Other, los puntos siguen la recta de la distribución normal prácticamente para los valores teóricos de todos los quantiles, por lo que este es otro indicativo de que las distribuciones pueden ser normales. En el caso de Medical, los puntos no siguen la recta para valores entre -3 y -1.5 por lo que, probablemente, la distribución no es normal."
      ]
    },
    {
      "cell_type": "markdown",
      "metadata": {
        "id": "jBPTJl0Wp9X7"
      },
      "source": [
        "## Asimetría y Kurtosis"
      ]
    },
    {
      "attachments": {},
      "cell_type": "markdown",
      "metadata": {},
      "source": [
        "En esta sección, estudiamos la asimetría y la curtosis de las 3 submuestras elegidas de la variable EducationField. Si los valores de asimetría y curtosis de las muestras están cerca de 0, la distribución es normal. Si los valores de asimetría y curtosis de las muestras están lejos de 0, será otro indicador de que la distribución no es normal."
      ]
    },
    {
      "cell_type": "code",
      "execution_count": 12,
      "metadata": {
        "colab": {
          "base_uri": "https://localhost:8080/"
        },
        "id": "XrA8NKW9p9X8",
        "outputId": "7812e0ed-0996-4ac6-ae0c-9fa0db328adc"
      },
      "outputs": [
        {
          "name": "stdout",
          "output_type": "stream",
          "text": [
            "Medical\n",
            "Kurtosis -0.5407140463019129\n",
            "Skewness 0.4007435370754935\n",
            "\n",
            "\n",
            "Marketing\n",
            "Kurtosis -0.4573293692932481\n",
            "Skewness 0.3117359148144718\n",
            "\n",
            "\n",
            "Other\n",
            "Kurtosis -0.6576266874771921\n",
            "Skewness 0.1777279685911767\n"
          ]
        }
      ],
      "source": [
        "# Print the kurtosis and skewness for each subdataframe by Age\n",
        "\n",
        "print('Medical')\n",
        "print(\"Kurtosis\", stats.kurtosis(df_medical[\"Age\"]))\n",
        "print(\"Skewness\", stats.skew(df_medical[\"Age\"]))\n",
        "print('\\n')\n",
        "\n",
        "print('Marketing')\n",
        "print(\"Kurtosis\", stats.kurtosis(df_marketing[\"Age\"]))\n",
        "print(\"Skewness\", stats.skew(df_marketing[\"Age\"]))\n",
        "print('\\n')\n",
        "\n",
        "\n",
        "print('Other')\n",
        "print(\"Kurtosis\", stats.kurtosis(df_other[\"Age\"]))\n",
        "print(\"Skewness\", stats.skew(df_other[\"Age\"]))\n"
      ]
    },
    {
      "attachments": {},
      "cell_type": "markdown",
      "metadata": {
        "id": "xw22tCoTp9X8"
      },
      "source": [
        "En las 3 submuestras, los valores de asimetría y kurtosis se encuentran en el rango de -1 a 1, lo que es un indicativo de que las distribuciones pueden ser normales. En el caso de Other, la asimetría es muy pequeña, lo que es un gran indicativo para esta submuestra de normalidad. \n",
        "\n",
        "En el caso de Marketing,la kurtosis es la más pequeña de las 3, y la asimetría la segunda más pequeña, lo que también hace que esta submuestra pueda tener una distribución normal.\n",
        "\n",
        "Por último, el caso de Medical es el que tiene mayores valores de asimetría y kurtosis, lo que puede ser un indicativo de que esta distribución es la menos normal de las 3."
      ]
    },
    {
      "cell_type": "markdown",
      "metadata": {
        "id": "23u9pzhgp9X9"
      },
      "source": [
        "## Contraste de Hipótesis"
      ]
    },
    {
      "attachments": {},
      "cell_type": "markdown",
      "metadata": {},
      "source": [
        "Para terminar esta sección, se hace un contraste de hipótesis para ver si las distribuciones de las 3 submuestras elegidas de la variable EducationField son normales o no. Con el contraste de hipótesis se busca estudiar varios indicadores como el p-value y el estadístico de contraste. Si el p-value es menor que el nivel de significación, se rechaza la hipótesis nula, y por lo tanto, la distribución no es normal. Si el p-value es mayor que el nivel de significación, no se rechaza la hipótesis nula, y por lo tanto, la distribución es normal."
      ]
    },
    {
      "attachments": {},
      "cell_type": "markdown",
      "metadata": {},
      "source": [
        "El primer test que se realiza es el de Kolmogorov-Smirnov o K2-test. Este test compara los datos observados con una función de distribución empírica acumulada."
      ]
    },
    {
      "cell_type": "code",
      "execution_count": 13,
      "metadata": {
        "colab": {
          "base_uri": "https://localhost:8080/"
        },
        "id": "Wry2R14Xp9X-",
        "outputId": "63769fa7-7cf2-4589-c6ef-75055c2817ff"
      },
      "outputs": [
        {
          "name": "stdout",
          "output_type": "stream",
          "text": [
            "Medical\n",
            "Estatístico de prueba: 21.951375222468364, p-value: 1.7112735403146025e-05\n",
            "\n",
            "\n",
            "Marketing\n",
            "Estatístico de prueba: 4.387268654244352, p-value: 0.11151074476469593\n",
            "\n",
            "\n",
            "Other\n",
            "Estatístico de prueba: 2.729178899877779, p-value: 0.2554855440655358\n"
          ]
        }
      ],
      "source": [
        "# Normaltest for each subdataframe by Age\n",
        "\n",
        "print('Medical')\n",
        "k2, p_value = stats.normaltest(df_medical['Age'])\n",
        "print(f\"Estatístico de prueba: {k2}, p-value: {p_value}\")\n",
        "print('\\n')\n",
        "\n",
        "print('Marketing')\n",
        "k2, p_value = stats.normaltest(df_marketing['Age'])\n",
        "print(f\"Estatístico de prueba: {k2}, p-value: {p_value}\")\n",
        "print('\\n')\n",
        "\n",
        "print('Other')\n",
        "k2, p_value = stats.normaltest(df_other['Age'])\n",
        "print(f\"Estatístico de prueba: {k2}, p-value: {p_value}\")"
      ]
    },
    {
      "attachments": {},
      "cell_type": "markdown",
      "metadata": {},
      "source": [
        "Los resultados del K2-test para las submuestras de Marketing y Other arrojan un p-value superior al nivel de significación de 0.05, por lo que no se rechaza la hipótesis nula, y por lo tanto, las distribuciones de las submuestras de Marketing y Other son normales de acuerdo con este indicador. En el caso de Medical, el p-value es muy pequeño y cercano a 0, por lo que esta distribución no es normal de acuerdo con este indicador."
      ]
    },
    {
      "attachments": {},
      "cell_type": "markdown",
      "metadata": {},
      "source": [
        "No obstante, es recomendable realizar otro contraste de hipótesis con otro tipo de test, ya que el test de Kolmogorov-Smirnov es útil con grandes muestras, y puede dar resultados erróneos para muestras pequeñas.\n",
        "\n",
        "En este caso se elige el Saphiro-test, que es un test de contraste de hipótesis para muestras pequeñas."
      ]
    },
    {
      "cell_type": "code",
      "execution_count": 14,
      "metadata": {},
      "outputs": [
        {
          "name": "stdout",
          "output_type": "stream",
          "text": [
            "Medical\n",
            "Estatístico de prueba: 0.9738271832466125, p-value: 2.2070088334658067e-07\n",
            "\n",
            "\n",
            "Marketing\n",
            "Estatístico de prueba: 0.9805779457092285, p-value: 0.024550719186663628\n",
            "\n",
            "\n",
            "Other\n",
            "Estatístico de prueba: 0.9810986518859863, p-value: 0.2690286934375763\n"
          ]
        }
      ],
      "source": [
        "# Shapiro test for each subdataframe by Age\n",
        "\n",
        "print('Medical')\n",
        "shapiro_test, p_value = stats.shapiro(df_medical[\"Age\"])\n",
        "print(f\"Estatístico de prueba: {shapiro_test}, p-value: {p_value}\")\n",
        "print('\\n')\n",
        "\n",
        "print('Marketing')\n",
        "shapiro_test, p_value = stats.shapiro(df_marketing[\"Age\"])\n",
        "print(f\"Estatístico de prueba: {shapiro_test}, p-value: {p_value}\")\n",
        "print('\\n')\n",
        "\n",
        "print('Other')\n",
        "shapiro_test, p_value = stats.shapiro(df_other[\"Age\"])\n",
        "print(f\"Estatístico de prueba: {shapiro_test}, p-value: {p_value}\")"
      ]
    },
    {
      "cell_type": "markdown",
      "metadata": {},
      "source": [
        "Según el test de Shapiro, solo la submuestra Other sigue una distribución normal, ya que es la única que cumple que el p-value = 0.269 es mayor que nuestro nivel de significación 0.05.\n",
        "\n",
        "En el caso de la submuestra Marketing, el p-value = 0.02455, que es menor que nuestro nivel de significación 0.05, por lo que se rechaza la hipótesis nula, y por lo tanto, la distribución no es normal.\n",
        "\n",
        "Lo mismo ocurre con la submuestra Medical, que es la que presenta un p-value más pequeño (y muy cercano a 0), concluyendo que la distribución no es normal."
      ]
    },
    {
      "attachments": {},
      "cell_type": "markdown",
      "metadata": {},
      "source": [
        "Podemos concluir entonces que la distribución de la submuestra Other es la única de la que se puede estar más seguro que sigue una distribución normal. \n",
        "\n",
        "En el caso de Medical, se puede concluir que la distribución probablemente no es normal ya que muchos de los indicadores estudiados así nos lo muestran.\n",
        "\n",
        "En el caso de Marketing es donde más dudas existen, ya que gran parte de los indicadores nos muestran que sigue una distribución normal, pero el test de Saphiro nos dice lo contrario. Por lo tanto, en este caso, no se puede estar seguro de que la distribución sea normal."
      ]
    },
    {
      "attachments": {},
      "cell_type": "markdown",
      "metadata": {},
      "source": [
        "<br>\n",
        "\n",
        "# Estimación puntual y por intervalos"
      ]
    },
    {
      "attachments": {},
      "cell_type": "markdown",
      "metadata": {
        "id": "pxmXW2Khp9X_"
      },
      "source": [
        "## Estimacion puntual de la edad media de la población comparada con la edad media de cada una de las muestras"
      ]
    },
    {
      "cell_type": "code",
      "execution_count": 15,
      "metadata": {
        "colab": {
          "base_uri": "https://localhost:8080/"
        },
        "id": "-tnAz3WdrEHX",
        "outputId": "6113d214-c263-4a05-d44e-19526d1e62c8"
      },
      "outputs": [
        {
          "name": "stdout",
          "output_type": "stream",
          "text": [
            "Edad Media Total\n"
          ]
        },
        {
          "data": {
            "text/plain": [
              "36.923809523809524"
            ]
          },
          "execution_count": 15,
          "metadata": {},
          "output_type": "execute_result"
        }
      ],
      "source": [
        "print('Edad Media Total')\n",
        "df['Age'].mean()"
      ]
    },
    {
      "cell_type": "code",
      "execution_count": 16,
      "metadata": {
        "colab": {
          "base_uri": "https://localhost:8080/"
        },
        "id": "yKyto8xBr9nM",
        "outputId": "6cfe1d9b-bcee-4342-a91c-c18209aa3846"
      },
      "outputs": [
        {
          "name": "stdout",
          "output_type": "stream",
          "text": [
            "Edad Media Medical\n",
            "36.838362068965516\n",
            "\n",
            "\n",
            "Edad Media Marketing\n",
            "37.924528301886795\n",
            "\n",
            "\n",
            "Edad Media Other\n",
            "35.36585365853659\n"
          ]
        }
      ],
      "source": [
        "print('Edad Media Medical')\n",
        "print(df_medical['Age'].mean())\n",
        "print('\\n')\n",
        "\n",
        "print('Edad Media Marketing')\n",
        "print(df_marketing['Age'].mean())\n",
        "print('\\n')\n",
        "\n",
        "print('Edad Media Other')\n",
        "print(df_other['Age'].mean())"
      ]
    },
    {
      "cell_type": "code",
      "execution_count": 17,
      "metadata": {
        "colab": {
          "base_uri": "https://localhost:8080/"
        },
        "id": "4Q9Vatn-yN3r",
        "outputId": "cf30b121-502d-4ad5-f38a-0b927795545c"
      },
      "outputs": [
        {
          "name": "stdout",
          "output_type": "stream",
          "text": [
            "Diferencia Edad Media Medical:\n",
            "0.08544745484400806\n",
            "\n",
            "\n",
            "Diferencia Edad Media Marketing:\n",
            "-1.000718778077271\n",
            "\n",
            "\n",
            "Diferencia Edad Media Other:\n",
            "1.5579558652729375\n"
          ]
        }
      ],
      "source": [
        "print('Diferencia Edad Media Medical:')\n",
        "print(df['Age'].mean()-df_medical['Age'].mean())\n",
        "print('\\n')\n",
        "print('Diferencia Edad Media Marketing:')\n",
        "print(df['Age'].mean()-df_marketing['Age'].mean())\n",
        "print('\\n')\n",
        "print('Diferencia Edad Media Other:')\n",
        "print(df['Age'].mean()-df_other['Age'].mean())"
      ]
    },
    {
      "attachments": {},
      "cell_type": "markdown",
      "metadata": {
        "id": "M0udxyti5WxE"
      },
      "source": [
        "## Intervalos de confianza"
      ]
    },
    {
      "cell_type": "code",
      "execution_count": 18,
      "metadata": {
        "colab": {
          "base_uri": "https://localhost:8080/"
        },
        "id": "9QVkZHpFEt73",
        "outputId": "20de9a03-e9ca-4225-cfdd-e6a3283c40b6"
      },
      "outputs": [
        {
          "name": "stdout",
          "output_type": "stream",
          "text": [
            "z-critical value:\n",
            "1.959963984540054\n",
            "Confidence interval Medical:\n",
            "(35.97569387774284, 37.70103026018819)\n"
          ]
        }
      ],
      "source": [
        "z_critical = stats.norm.ppf(q = 0.975)  # Get the z-critical value*\n",
        "\n",
        "print(\"z-critical value:\")              # Check the z-critical value\n",
        "print(z_critical)\n",
        "\n",
        "df_medical_ages_count=df_medical['Age'].count()\n",
        "#print(df_medical_ages_count)\n",
        "\n",
        "pop_stdev = df_medical['Age'].std()  # Get the population standard deviation\n",
        "\n",
        "margin_of_error = z_critical * (pop_stdev/math.sqrt(df_medical_ages_count))\n",
        "\n",
        "confidence_interval_medical = (df_medical['Age'].mean() - margin_of_error,\n",
        "                       df_medical['Age'].mean() + margin_of_error)  \n",
        "\n",
        "print(\"Confidence interval Medical:\")\n",
        "print(confidence_interval_medical)"
      ]
    },
    {
      "cell_type": "markdown",
      "metadata": {
        "id": "Abci5U3bvUKZ"
      },
      "source": [
        "El valor crítico de z es 1.959963984540054, lo que significa que usamos un nivel de confianza del 95%. El intervalo de confianza para la variable Medical es (35.97569387774284, 37.70103026018819), lo que significa que hay un 95% de probabilidad de que la media de edad de Medical esté entre esos dos valores."
      ]
    },
    {
      "cell_type": "code",
      "execution_count": 19,
      "metadata": {
        "colab": {
          "base_uri": "https://localhost:8080/"
        },
        "id": "_InekgN1I-Gr",
        "outputId": "124df06a-30bd-485e-c27a-3d0b2a98ecb3"
      },
      "outputs": [
        {
          "name": "stdout",
          "output_type": "stream",
          "text": [
            "z-critical value:\n",
            "1.959963984540054\n",
            "Confidence interval Marketing:\n",
            "(36.50170776927914, 39.34734883449445)\n"
          ]
        }
      ],
      "source": [
        "z_critical = stats.norm.ppf(q = 0.975)  # Get the z-critical value*\n",
        "\n",
        "print(\"z-critical value:\")              # Check the z-critical value\n",
        "print(z_critical)\n",
        "\n",
        "df_marketing_ages_count=df_marketing['Age'].count()\n",
        "#print(df_medical_ages_count)\n",
        "\n",
        "pop_stdev = df_marketing['Age'].std()  # Get the population standard deviation\n",
        "\n",
        "margin_of_error = z_critical * (pop_stdev/math.sqrt(df_marketing_ages_count))\n",
        "\n",
        "confidence_interval_marketing = (df_marketing['Age'].mean() - margin_of_error,\n",
        "                       df_marketing['Age'].mean() + margin_of_error)  \n",
        "\n",
        "print(\"Confidence interval Marketing:\")\n",
        "print(confidence_interval_marketing)"
      ]
    },
    {
      "cell_type": "markdown",
      "metadata": {
        "id": "pHPBfzv_vjSD"
      },
      "source": [
        "El valor crítico de z es 1.959963984540054, lo que significa que usamos un nivel de confianza del 95%. El intervalo de confianza para la variable Marketing es (36.50170776927914, 39.34734883449445), lo que significa que hay un 95% de probabilidad de que la media de edad de Marketing esté entre esos dos valores."
      ]
    },
    {
      "cell_type": "code",
      "execution_count": 20,
      "metadata": {
        "colab": {
          "base_uri": "https://localhost:8080/"
        },
        "id": "yzbra8dWJO7N",
        "outputId": "9d4be478-11ce-45ba-a90e-d0bcd6cfd544"
      },
      "outputs": [
        {
          "name": "stdout",
          "output_type": "stream",
          "text": [
            "z-critical value:\n",
            "1.959963984540054\n",
            "Confidence interval Other:\n",
            "(34.13067188689145, 36.601035430181724)\n"
          ]
        }
      ],
      "source": [
        "z_critical = stats.norm.ppf(q = 0.975)  # Get the z-critical value*\n",
        "\n",
        "print(\"z-critical value:\")              # Check the z-critical value\n",
        "print(z_critical)\n",
        "\n",
        "df_other_ages_count=df_marketing['Age'].count()\n",
        "#print(df_medical_ages_count)\n",
        "\n",
        "pop_stdev = df_other['Age'].std()  # Get the population standard deviation\n",
        "\n",
        "margin_of_error = z_critical * (pop_stdev/math.sqrt(df_other_ages_count))\n",
        "\n",
        "confidence_interval_other = (df_other['Age'].mean() - margin_of_error,\n",
        "                       df_other['Age'].mean() + margin_of_error)  \n",
        "\n",
        "print(\"Confidence interval Other:\")\n",
        "print(confidence_interval_other)"
      ]
    },
    {
      "cell_type": "markdown",
      "metadata": {
        "id": "W_w_W4bqvwOl"
      },
      "source": [
        "El valor crítico de z es 1.959963984540054, lo que significa que usamos un nivel de confianza del 95%. El intervalo de confianza para la variable Other es (34.13067188689145, 36.601035430181724), lo que significa que hay un 95% de probabilidad de que la media de edad de Other esté entre esos dos valores."
      ]
    },
    {
      "cell_type": "code",
      "execution_count": 21,
      "metadata": {
        "colab": {
          "base_uri": "https://localhost:8080/",
          "height": 537
        },
        "id": "LyV1EGNAMFzw",
        "outputId": "dc914eb7-e2af-4103-db81-f1e1d0e2974a"
      },
      "outputs": [
        {
          "data": {
            "image/png": "[encoded data removed]",
            "text/plain": [
              "<Figure size 900x900 with 1 Axes>"
            ]
          },
          "metadata": {},
          "output_type": "display_data"
        }
      ],
      "source": [
        "sample_means = [df_medical['Age'].mean(),df_marketing['Age'].mean(),df_other['Age'].mean()]\n",
        "intervals = [confidence_interval_medical,confidence_interval_marketing, confidence_interval_other]\n",
        "plt.figure(figsize=(9,9))\n",
        "\n",
        "labels = [\"Medical\", \"Marketing\", \"Other\"] # una lista con los nombres de cada punto\n",
        "for i in range(len(sample_means)):\n",
        "    plt.errorbar(x=np.arange(0.1, 3, 1)[i], \n",
        "                 y=sample_means[i], \n",
        "                 yerr=[abs(top-bot)/2 for top,bot in intervals][i],\n",
        "                 fmt='o',\n",
        "                 label=labels[i])\n",
        "plt.legend()\n",
        "\n",
        "plt.hlines(xmin=0, xmax=3 ,\n",
        "           y=df['Age'].mean(), \n",
        "           linewidth=2.0,\n",
        "           color=\"red\");"
      ]
    },
    {
      "cell_type": "markdown",
      "metadata": {
        "id": "4dhYVLgA2A3R"
      },
      "source": [
        "La edad media de conjutno de datos es 36.923809523809524.\n",
        "\n",
        "Al analizar los datos de Medical, Marketing y Other, se observaron diferencias significativas en la edad media entre los grupos. Los intervalos de confianza para la edad media en cada submuestra fueron: Medical: 35.97-37.70 años, Marketing: 36.50-39.34 años y Other: 34.13-36.60 años. El grupo Other fue el único que no incluyó la edad media de la muestra total en su intervalo de confianza, lo que indica que su edad media era diferente a la de los otros grupos."
      ]
    },
    {
      "attachments": {},
      "cell_type": "markdown",
      "metadata": {
        "id": "xF9-UK2uN9OF"
      },
      "source": [
        "# T Test"
      ]
    },
    {
      "attachments": {},
      "cell_type": "markdown",
      "metadata": {},
      "source": [
        "En esta sección, vamos a realizar un T-test de una muestra para comparar la edad media de los empleados de los distintos campos (df_medical, df_marketing, df_other) con la edad media de todos los empleados del conjunto de datos (df). Para ello, la hipótesis nula será que la edad media de los empleados de cada campo es igual a la edad media de todos los empleados del conjunto de datos, y la hipótesis alternativa es que la edad media de los empleados de cada campo es diferente de la edad media de todos los empleados del conjunto de datos."
      ]
    },
    {
      "cell_type": "code",
      "execution_count": 22,
      "metadata": {
        "colab": {
          "base_uri": "https://localhost:8080/"
        },
        "id": "_oFAUpMWZuoQ",
        "outputId": "d42cfe96-5b19-4847-c9ff-9aa40a2dbbf5"
      },
      "outputs": [
        {
          "name": "stdout",
          "output_type": "stream",
          "text": [
            "La media de la muestra es: 36.923809523809524\n",
            "La media de la submuestra Medical es: 36.838362068965516\n",
            "La media de la submuestra Marketing es: 37.924528301886795\n",
            "La media de la submuestra Other es: 35.36585365853659\n"
          ]
        }
      ],
      "source": [
        "print('La media de la muestra es: {}'.format(df['Age'].mean()))\n",
        "print('La media de la submuestra Medical es: {}'.format(df_medical['Age'].mean()))\n",
        "print('La media de la submuestra Marketing es: {}'.format(df_marketing['Age'].mean()))\n",
        "print('La media de la submuestra Other es: {}'.format(df_other['Age'].mean()))"
      ]
    },
    {
      "attachments": {},
      "cell_type": "markdown",
      "metadata": {},
      "source": [
        "Primero, empezamos con la submuestra Medical."
      ]
    },
    {
      "cell_type": "markdown",
      "metadata": {
        "id": "e8s0O0PfZ1oc"
      },
      "source": [
        "### T test Medical:"
      ]
    },
    {
      "cell_type": "code",
      "execution_count": 23,
      "metadata": {
        "colab": {
          "base_uri": "https://localhost:8080/"
        },
        "id": "zql-y5cDZ4yR",
        "outputId": "ab38f482-2021-4b35-b442-62f2f9ac6a3f"
      },
      "outputs": [
        {
          "data": {
            "text/plain": [
              "TtestResult(statistic=-0.19413482004883564, pvalue=0.8461554638871963, df=463)"
            ]
          },
          "execution_count": 23,
          "metadata": {},
          "output_type": "execute_result"
        }
      ],
      "source": [
        "stats.ttest_1samp(a = df_medical['Age'],               # Sample data\n",
        "                 popmean = df['Age'].mean())  # Pop mean"
      ]
    },
    {
      "attachments": {},
      "cell_type": "markdown",
      "metadata": {},
      "source": [
        "Respecto al T-Test Medical, el valor estadístico nos indica que la edad media de los empleados en el sector de la medicina es ligeramente inferior a la edad media general de todos los empleados de la empresa y el p valor (al ser mayor que 0,05) que no existe una diferencia estadísticamente significativa entre la edad de los empleados del sector de la medicina y la de la población general. "
      ]
    },
    {
      "cell_type": "markdown",
      "metadata": {
        "id": "jxhgZ7UMZ7E3"
      },
      "source": [
        "### T test Marketing:"
      ]
    },
    {
      "cell_type": "code",
      "execution_count": 24,
      "metadata": {
        "colab": {
          "base_uri": "https://localhost:8080/"
        },
        "id": "ljqj9BUhZ9d_",
        "outputId": "a6700132-4888-40e9-81a0-bcdd38b51725"
      },
      "outputs": [
        {
          "data": {
            "text/plain": [
              "TtestResult(statistic=1.3785103031158195, pvalue=0.1699945153513996, df=158)"
            ]
          },
          "execution_count": 24,
          "metadata": {},
          "output_type": "execute_result"
        }
      ],
      "source": [
        "stats.ttest_1samp(a = df_marketing['Age'],               # Sample data\n",
        "                 popmean = df['Age'].mean())  # Pop mean"
      ]
    },
    {
      "attachments": {},
      "cell_type": "markdown",
      "metadata": {},
      "source": [
        "Respecto al T-Test Marketing, el valor estadístico nos indica que la edad media de los empleados en el sector de marketing es ligeramente superior a la edad media general de todos los empleados de la empresa y el p valor (al ser mayor que 0,05) que no existe una diferencia estadísticamente significativa entre la edad de los empleados del sector de marketing y la de la población general. "
      ]
    },
    {
      "cell_type": "markdown",
      "metadata": {
        "id": "WIqRD3FnaAIX"
      },
      "source": [
        "### T test Other:"
      ]
    },
    {
      "cell_type": "code",
      "execution_count": 25,
      "metadata": {
        "colab": {
          "base_uri": "https://localhost:8080/"
        },
        "id": "MVoLIzRcaCwi",
        "outputId": "8a1e4844-bc59-4d5a-f20d-e9cf8e9a68f6"
      },
      "outputs": [
        {
          "data": {
            "text/plain": [
              "TtestResult(statistic=-1.7753367031098277, pvalue=0.0795986010116815, df=81)"
            ]
          },
          "execution_count": 25,
          "metadata": {},
          "output_type": "execute_result"
        }
      ],
      "source": [
        "stats.ttest_1samp(a = df_other['Age'],               # Sample data\n",
        "                 popmean = df['Age'].mean())  # Pop mean"
      ]
    },
    {
      "attachments": {},
      "cell_type": "markdown",
      "metadata": {},
      "source": [
        "Respecto al T-Test Other, el valor estadístico nos indica que la edad media de los empleados en el sector de marketing es significamente inferior a la edad media general de todos los empleados de la empresa y el p valor (al ser mayor que 0,05) que no existe una diferencia estadísticamente significativa entre la edad de los empleados del sector de marketing y la de la población general. "
      ]
    },
    {
      "cell_type": "markdown",
      "metadata": {
        "id": "hMms1AdZaFQs"
      },
      "source": [
        "Al estar el p-valor de las 3 submuestras por encima de 0,05 no podemos rechazar la hipótesis nula $H_0: \\mu_{poblacion}=\\mu_{muestra}$"
      ]
    },
    {
      "attachments": {},
      "cell_type": "markdown",
      "metadata": {
        "id": "zHlVdlh4uqTr"
      },
      "source": [
        "# Análisis de la varianza (ANOVA)\n"
      ]
    },
    {
      "cell_type": "markdown",
      "metadata": {
        "id": "rJOecHB5ouZ4"
      },
      "source": [
        "El análisis de varianza (ANOVA) es un método estadístico que permite descubrir si las medias de tres o más grupos son diferentes. En este caso, se quiere saber si hay diferencias significativas entre las medias de los grupos Medical, Marketing y Other."
      ]
    },
    {
      "cell_type": "code",
      "execution_count": 26,
      "metadata": {
        "colab": {
          "base_uri": "https://localhost:8080/"
        },
        "id": "38V67sl8fyMZ",
        "outputId": "ed2fc27b-fb57-4fa9-fc04-e864bdc91370"
      },
      "outputs": [
        {
          "data": {
            "text/plain": [
              "F_onewayResult(statistic=2.1160294096028, pvalue=0.12127718000609333)"
            ]
          },
          "execution_count": 26,
          "metadata": {},
          "output_type": "execute_result"
        }
      ],
      "source": [
        "# Group age data by EducationField\n",
        "#groups = df.groupby(\"EducationField\").groups\n",
        "#print(groups)\n",
        "\n",
        "# Extract individual groups\n",
        "medical = df.loc[df.EducationField == \"Medical\", \"Age\"]\n",
        "marketing = df.loc[df.EducationField == \"Marketing\", \"Age\"]\n",
        "other = df.loc[df.EducationField == \"Other\", \"Age\"]\n",
        "\n",
        "# Perform the ANOVA\n",
        "stats.f_oneway(medical, marketing, other)\n",
        "\n"
      ]
    },
    {
      "cell_type": "markdown",
      "metadata": {
        "id": "BG3GaZSvo_Wy"
      },
      "source": [
        "El resultado de la prueba muestra un valor de F = 2.116 y un valor p = 0.121.\n",
        "Como el valor p es mayor que 0.05, no se puede rechazar la hipótesis nula de que las medias de los tres grupos son iguales, esto significa que no hay evidencia suficiente para afirmar que los grupos: Medical, Marketing y Other tienen diferencias significativas entre las medias de edad de cada grupo."
      ]
    },
    {
      "cell_type": "code",
      "execution_count": 27,
      "metadata": {
        "colab": {
          "base_uri": "https://localhost:8080/"
        },
        "id": "DqUaunek3sdz",
        "outputId": "75eff46a-a7ba-4cca-b2f3-cd17331a1600"
      },
      "outputs": [
        {
          "name": "stdout",
          "output_type": "stream",
          "text": [
            "Marketing & Medical\n",
            "Ttest_indResult(statistic=1.2575803828536882, pvalue=0.20901625716129082)\n",
            "Marketing & Other\n",
            "Ttest_indResult(statistic=2.147554600783695, pvalue=0.03275527489993353)\n",
            "Medical & Other\n",
            "Ttest_indResult(statistic=1.3262054531065688, pvalue=0.18532817992936473)\n"
          ]
        }
      ],
      "source": [
        "print(\"Marketing & Medical\")\n",
        "print(stats.ttest_ind(marketing, medical))\n",
        "print(\"Marketing & Other\")\n",
        "print(stats.ttest_ind(marketing, other))\n",
        "print(\"Medical & Other\")\n",
        "print(stats.ttest_ind(medical, other))"
      ]
    },
    {
      "cell_type": "markdown",
      "metadata": {
        "id": "N92mYZfBqyyq"
      },
      "source": [
        "Los valores p para cada prueba t por pares sugieren que la media de edad de \"Marketing\" y \"Other\" es probablemente diferente, ya que el valor p para la prueba t de dichos grupos es inferior a 0,05, en concreto:\n",
        "\n",
        "Marketing & Medical: No se rechaza la hipótesis nula porque el valor p (0.209) es mayor que el nivel de significancia (0.05). Esto significa que no hay evidencia suficiente para afirmar que las medias son diferentes.\n",
        "\n",
        "Marketing & Other: Se rechaza la hipótesis nula porque el valor p (0.033) es menor que el nivel de significancia (0.05). Esto significa que hay evidencia suficiente para afirmar que las medias son diferentes.\n",
        "\n",
        "Medical & Other: No se rechaza la hipótesis nula porque el valor p (0.185) es mayor que el nivel de significancia (0.05). Esto significa que no hay evidencia suficiente para afirmar que las medias son diferentes."
      ]
    },
    {
      "cell_type": "code",
      "execution_count": 28,
      "metadata": {
        "colab": {
          "base_uri": "https://localhost:8080/",
          "height": 751
        },
        "id": "JvFLetRo95tE",
        "outputId": "092525e1-faeb-4eaf-9e70-bce403eb1b45"
      },
      "outputs": [
        {
          "data": {
            "text/html": [
              "<table class=\"simpletable\">\n",
              "<caption>Multiple Comparison of Means - Tukey HSD, FWER=0.05</caption>\n",
              "<tr>\n",
              "      <th>group1</th>           <th>group2</th>      <th>meandiff</th>  <th>p-adj</th>  <th>lower</th>   <th>upper</th> <th>reject</th>\n",
              "</tr>\n",
              "<tr>\n",
              "  <td>Human Resources</td>   <td>Life Sciences</td>   <td>0.0702</td>    <td>1.0</td>  <td>-5.056</td>  <td>5.1964</td>  <td>False</td>\n",
              "</tr>\n",
              "<tr>\n",
              "  <td>Human Resources</td>     <td>Marketing</td>     <td>0.8875</td>  <td>0.9972</td> <td>-4.5374</td> <td>6.3124</td>  <td>False</td>\n",
              "</tr>\n",
              "<tr>\n",
              "  <td>Human Resources</td>      <td>Medical</td>      <td>-0.1987</td>   <td>1.0</td>  <td>-5.3582</td> <td>4.9609</td>  <td>False</td>\n",
              "</tr>\n",
              "<tr>\n",
              "  <td>Human Resources</td>       <td>Other</td>       <td>-1.6712</td>  <td>0.963</td> <td>-7.454</td>  <td>4.1116</td>  <td>False</td>\n",
              "</tr>\n",
              "<tr>\n",
              "  <td>Human Resources</td> <td>Technical Degree</td>  <td>-0.9158</td>  <td>0.997</td> <td>-6.4206</td>  <td>4.589</td>  <td>False</td>\n",
              "</tr>\n",
              "<tr>\n",
              "   <td>Life Sciences</td>      <td>Marketing</td>     <td>0.8173</td>  <td>0.9166</td> <td>-1.505</td>  <td>3.1395</td>  <td>False</td>\n",
              "</tr>\n",
              "<tr>\n",
              "   <td>Life Sciences</td>       <td>Medical</td>      <td>-0.2689</td> <td>0.9969</td> <td>-1.8766</td> <td>1.3388</td>  <td>False</td>\n",
              "</tr>\n",
              "<tr>\n",
              "   <td>Life Sciences</td>        <td>Other</td>       <td>-1.7414</td> <td>0.5851</td> <td>-4.8081</td> <td>1.3252</td>  <td>False</td>\n",
              "</tr>\n",
              "<tr>\n",
              "   <td>Life Sciences</td>  <td>Technical Degree</td>  <td>-0.986</td>  <td>0.8715</td> <td>-3.4894</td> <td>1.5173</td>  <td>False</td>\n",
              "</tr>\n",
              "<tr>\n",
              "     <td>Marketing</td>         <td>Medical</td>      <td>-1.0862</td> <td>0.7884</td> <td>-3.4811</td> <td>1.3088</td>  <td>False</td>\n",
              "</tr>\n",
              "<tr>\n",
              "     <td>Marketing</td>          <td>Other</td>       <td>-2.5587</td> <td>0.3088</td> <td>-6.102</td>  <td>0.9847</td>  <td>False</td>\n",
              "</tr>\n",
              "<tr>\n",
              "     <td>Marketing</td>    <td>Technical Degree</td>  <td>-1.8033</td> <td>0.5474</td> <td>-4.8722</td> <td>1.2655</td>  <td>False</td>\n",
              "</tr>\n",
              "<tr>\n",
              "      <td>Medical</td>           <td>Other</td>       <td>-1.4725</td> <td>0.7592</td> <td>-4.5946</td> <td>1.6496</td>  <td>False</td>\n",
              "</tr>\n",
              "<tr>\n",
              "      <td>Medical</td>     <td>Technical Degree</td>  <td>-0.7171</td> <td>0.9682</td> <td>-3.2881</td> <td>1.8538</td>  <td>False</td>\n",
              "</tr>\n",
              "<tr>\n",
              "       <td>Other</td>      <td>Technical Degree</td>  <td>0.7554</td>  <td>0.9918</td> <td>-2.9092</td>  <td>4.42</td>   <td>False</td>\n",
              "</tr>\n",
              "</table>"
            ],
            "text/plain": [
              "<class 'statsmodels.iolib.table.SimpleTable'>"
            ]
          },
          "execution_count": 28,
          "metadata": {},
          "output_type": "execute_result"
        },
        {
          "data": {
            "image/png": "[encoded data removed]",
            "text/plain": [
              "<Figure size 1000x600 with 1 Axes>"
            ]
          },
          "metadata": {},
          "output_type": "display_data"
        }
      ],
      "source": [
        "import statsmodels.stats.multicomp as multi\n",
        "\n",
        "tukey = multi.pairwise_tukeyhsd(df['Age'], df['EducationField'])\n",
        "#print(tukey)\n",
        "\n",
        "tukey.plot_simultaneous()    # Plot group confidence intervals\n",
        "\n",
        "tukey.summary()              # See test summary\n"
      ]
    },
    {
      "cell_type": "markdown",
      "metadata": {
        "id": "4_KVlWWOCDOa"
      },
      "source": [
        "El resultado de la prueba de Tukey muestra la diferencia promedio, un intervalo de confianza y si debe aceptar la hipótesis nula para cada par de grupos en el nivel de significación dado. En este caso, la prueba sugiere que aceptemos la hipótesis nula para todos los pares. La gráfica del intervalo de confianza del 95 % refuerza los resultados visualmente: todos los intervalos de confianza se superponen."
      ]
    }
  ],
  "metadata": {
    "colab": {
      "provenance": []
    },
    "kernelspec": {
      "display_name": "Python 3",
      "language": "python",
      "name": "python3"
    },
    "language_info": {
      "codemirror_mode": {
        "name": "ipython",
        "version": 3
      },
      "file_extension": ".py",
      "mimetype": "text/x-python",
      "name": "python",
      "nbconvert_exporter": "python",
      "pygments_lexer": "ipython3",
      "version": "3.10.10"
    },
    "orig_nbformat": 4,
    "vscode": {
      "interpreter": {
        "hash": "7e1998ff7f8aa20ada591c520b972326324e5ea05489af9e422744c7c09f6dad"
      }
    }
  },
  "nbformat": 4,
  "nbformat_minor": 0
}
