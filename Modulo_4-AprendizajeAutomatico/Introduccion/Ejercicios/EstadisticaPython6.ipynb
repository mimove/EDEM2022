{
  "cells": [
    {
      "cell_type": "markdown",
      "metadata": {
        "id": "zHlVdlh4uqTr"
      },
      "source": [
        "#Análisis de la varianza (ANOVA)\n",
        "La prueba t funciona bien cuando se trata de dos grupos, pero a veces queremos comparar más de dos grupos al mismo tiempo. Por ejemplo, si quisiéramos probar si la edad de los votantes difiere en función de alguna variable categórica como la raza, tenemos que comparar las medias de cada nivel o agrupar la variable. Podríamos realizar una prueba t separada para cada par de grupos, pero cuando se realiza muchas pruebas, aumenta las posibilidades de falsos positivos. El análisis de varianza o ANOVA es una prueba de inferencia estadística que le permite comparar varios grupos al mismo tiempo."
      ]
    },
    {
      "cell_type": "markdown",
      "metadata": {
        "id": "nGDsw5NVu6Ef"
      },
      "source": [
        "El ANOVA unidireccional prueba si la media de alguna variable numérica difiere entre los niveles de una variable categórica. Esencialmente responde a la pregunta: ¿alguna de las medias grupales difiere entre sí? ¿Hay alguna muestra diferente al resto? No entraremos en los detalles de realizar un ANOVA a mano, ya que implica más cálculos que la prueba t, pero el proceso es similar: realiza varios cálculos para llegar a una estadística de prueba y luego compara el estadísticoa a un valor crítico basado en una distribución de probabilidad. En el caso del ANOVA, se utiliza la distribución F de Snedecor.\n",
        "\n",
        "La biblioteca scipy tiene una función para realizar pruebas ANOVA unidireccionales llamada scipy.stats.f_oneway(). \n",
        "\n",
        "Generemos algunos datos demográficos y de edad de votantes falsos y usemos el ANOVA para comparar las edades promedio entre los grupos:"
      ]
    },
    {
      "cell_type": "code",
      "execution_count": 1,
      "metadata": {
        "id": "hsutLQdsvjTU"
      },
      "outputs": [],
      "source": [
        "import numpy as np\n",
        "import pandas as pd\n",
        "import matplotlib.pyplot as plt\n",
        "import scipy.stats as stats"
      ]
    },
    {
      "cell_type": "code",
      "execution_count": 2,
      "metadata": {
        "colab": {
          "base_uri": "https://localhost:8080/"
        },
        "id": "MX_q-rUZvpFH",
        "outputId": "23dac527-f67f-474e-8836-b027bf25a2f3"
      },
      "outputs": [
        {
          "data": {
            "text/plain": [
              "F_onewayResult(statistic=1.7744689357329695, pvalue=0.13173183201930463)"
            ]
          },
          "execution_count": 2,
          "metadata": {},
          "output_type": "execute_result"
        }
      ],
      "source": [
        "np.random.seed(12)\n",
        "\n",
        "races =   [\"asian\",\"black\",\"hispanic\",\"other\",\"white\"]\n",
        "\n",
        "# Generate random data\n",
        "voter_race = np.random.choice(a= races,\n",
        "                              p = [0.05, 0.15 ,0.25, 0.05, 0.5],\n",
        "                              size=1000)\n",
        "\n",
        "voter_age = stats.poisson.rvs(loc=18,\n",
        "                              mu=30,\n",
        "                              size=1000)\n",
        "\n",
        "# Group age data by race\n",
        "voter_frame = pd.DataFrame({\"race\":voter_race,\"age\":voter_age})\n",
        "groups = voter_frame.groupby(\"race\").groups\n",
        "\n",
        "# Extract individual groups\n",
        "asian = voter_age[groups[\"asian\"]]\n",
        "black = voter_age[groups[\"black\"]]\n",
        "hispanic = voter_age[groups[\"hispanic\"]]\n",
        "other = voter_age[groups[\"other\"]]\n",
        "white = voter_age[groups[\"white\"]]\n",
        "\n",
        "# Perform the ANOVA\n",
        "stats.f_oneway(asian, black, hispanic, other, white)\n",
        "\n",
        "\n",
        "\n",
        "\n",
        "\n",
        "\n"
      ]
    },
    {
      "cell_type": "markdown",
      "metadata": {
        "id": "H6A0ot2QwCAo"
      },
      "source": [
        "El resultado de la prueba arroja una estadística F de 1,774 y un valor p de 0,1317, lo que indica que no hay una diferencia significativa entre las medias de cada grupo.\n",
        "\n",
        "Otra forma de realizar una prueba ANOVA es utilizar la biblioteca statsmodels, que permite especificar un modelo con una sintaxis de fórmula que refleja la utilizada por el lenguaje de programación R. Los usuarios de R pueden encontrar este método más familiar:"
      ]
    },
    {
      "cell_type": "code",
      "execution_count": 3,
      "metadata": {
        "colab": {
          "base_uri": "https://localhost:8080/"
        },
        "id": "7g5IZHHbwMXF",
        "outputId": "e4869816-2918-455b-b527-aacd3918a802"
      },
      "outputs": [
        {
          "name": "stdout",
          "output_type": "stream",
          "text": [
            "             sum_sq     df         F    PR(>F)\n",
            "race        199.369    4.0  1.774469  0.131732\n",
            "Residual  27948.102  995.0       NaN       NaN\n"
          ]
        }
      ],
      "source": [
        "import statsmodels.api as sm\n",
        "from statsmodels.formula.api import ols\n",
        "\n",
        "model = ols('age ~ race',                 # Model formula\n",
        "            data = voter_frame).fit()\n",
        "                \n",
        "anova_result = sm.stats.anova_lm(model, typ=2)\n",
        "print (anova_result)"
      ]
    },
    {
      "cell_type": "markdown",
      "metadata": {
        "id": "Par3BcBfwRBd"
      },
      "source": [
        "Como puede ver, el método statsmodels produjo la misma estadística F y valor P (enumerados como PR(<F)) que el método stats.f_oneway.\n",
        "\n",
        "Ahora hagamos datos de la nueva era donde las medias del grupo difieren y ejecutemos un segundo ANOVA:"
      ]
    },
    {
      "cell_type": "code",
      "execution_count": 4,
      "metadata": {
        "colab": {
          "base_uri": "https://localhost:8080/"
        },
        "id": "VoWrCRd0wc0-",
        "outputId": "64914966-40de-4912-acf7-cb4fcf7d80ef"
      },
      "outputs": [
        {
          "data": {
            "text/plain": [
              "F_onewayResult(statistic=10.164699828386366, pvalue=4.5613242113994585e-08)"
            ]
          },
          "execution_count": 4,
          "metadata": {},
          "output_type": "execute_result"
        }
      ],
      "source": [
        "np.random.seed(12)\n",
        "\n",
        "# Generate random data\n",
        "voter_race = np.random.choice(a= races,\n",
        "                              p = [0.05, 0.15 ,0.25, 0.05, 0.5],\n",
        "                              size=1000)\n",
        "\n",
        "# Use a different distribution for white ages\n",
        "white_ages = stats.poisson.rvs(loc=18, \n",
        "                              mu=32,\n",
        "                              size=1000)\n",
        "\n",
        "voter_age = stats.poisson.rvs(loc=18,\n",
        "                              mu=30,\n",
        "                              size=1000)\n",
        "\n",
        "voter_age = np.where(voter_race==\"white\", white_ages, voter_age)\n",
        "\n",
        "# Group age data by race\n",
        "voter_frame = pd.DataFrame({\"race\":voter_race,\"age\":voter_age})\n",
        "groups = voter_frame.groupby(\"race\").groups   \n",
        "\n",
        "# Extract individual groups\n",
        "asian = voter_age[groups[\"asian\"]]\n",
        "black = voter_age[groups[\"black\"]]\n",
        "hispanic = voter_age[groups[\"hispanic\"]]\n",
        "other = voter_age[groups[\"other\"]]\n",
        "white = voter_age[groups[\"white\"]]\n",
        "\n",
        "# Perform the ANOVA\n",
        "stats.f_oneway(asian, black, hispanic, other, white)"
      ]
    },
    {
      "cell_type": "code",
      "execution_count": 5,
      "metadata": {
        "colab": {
          "base_uri": "https://localhost:8080/"
        },
        "id": "raE0ShxDwjnO",
        "outputId": "871a0673-9832-490e-f78b-dcc474a109b4"
      },
      "outputs": [
        {
          "name": "stdout",
          "output_type": "stream",
          "text": [
            "                sum_sq     df        F        PR(>F)\n",
            "race       1284.123213    4.0  10.1647  4.561324e-08\n",
            "Residual  31424.995787  995.0      NaN           NaN\n"
          ]
        }
      ],
      "source": [
        "# Alternate method\n",
        "model = ols('age ~ race',                 # Model formula\n",
        "            data = voter_frame).fit()\n",
        "                \n",
        "anova_result = sm.stats.anova_lm(model, typ=2)\n",
        "print (anova_result)\n"
      ]
    },
    {
      "cell_type": "markdown",
      "metadata": {
        "id": "k2sqzaFMwpeW"
      },
      "source": [
        "El resultado de la prueba sugiere que los grupos no tienen las mismas medias muestrales en este caso, ya que el valor p es significativo con un nivel de confianza del 99 %. Sabemos que son los votantes blancos los que difieren porque lo configuramos de esa manera en el código, pero al probar datos reales, es posible que no sepa qué grupo o grupos hicieron que la prueba arrojara un resultado positivo. \n",
        "Para verificar qué grupos difieren después de obtener un resultado ANOVA positivo, se puede realizar una prueba de seguimiento o \"prueba post-hoc\".\n",
        "\n",
        "Una prueba post-hoc es realizar una prueba t separada para cada par de grupos. Puede realizar una prueba t entre todos los pares ejecutando cada par a través de stats.ttest_ind() que cubrimos en la lección sobre pruebas t:"
      ]
    },
    {
      "cell_type": "code",
      "execution_count": 6,
      "metadata": {
        "colab": {
          "base_uri": "https://localhost:8080/"
        },
        "id": "c_BO6SOsw8Ye",
        "outputId": "3ff8e600-310b-4c8b-e58a-c50240948c9b"
      },
      "outputs": [
        {
          "name": "stdout",
          "output_type": "stream",
          "text": [
            "asian black\n",
            "Ttest_indResult(statistic=0.8386446909747979, pvalue=0.4027281369339345)\n",
            "asian hispanic\n",
            "Ttest_indResult(statistic=-0.42594691924932293, pvalue=0.6704669004240726)\n",
            "asian other\n",
            "Ttest_indResult(statistic=0.9795284739636, pvalue=0.3298877500095151)\n",
            "asian white\n",
            "Ttest_indResult(statistic=-2.318108811252288, pvalue=0.020804701566400217)\n",
            "black hispanic\n",
            "Ttest_indResult(statistic=-1.9527839210712925, pvalue=0.05156197171952594)\n",
            "black other\n",
            "Ttest_indResult(statistic=0.28025754367057176, pvalue=0.7795770111117659)\n",
            "black white\n",
            "Ttest_indResult(statistic=-5.379303881281834, pvalue=1.0394212166624012e-07)\n",
            "hispanic other\n",
            "Ttest_indResult(statistic=1.5853626170340225, pvalue=0.11396630528484335)\n",
            "hispanic white\n",
            "Ttest_indResult(statistic=-3.5160312714115376, pvalue=0.0004641298649066684)\n",
            "other white\n",
            "Ttest_indResult(statistic=-3.763809322077872, pvalue=0.00018490576317593065)\n"
          ]
        }
      ],
      "source": [
        "# Get all race pairs\n",
        "race_pairs = []\n",
        "\n",
        "for race1 in range(4):\n",
        "    for race2  in range(race1+1,5):\n",
        "        race_pairs.append((races[race1], races[race2]))\n",
        "\n",
        "# Conduct t-test on each pair\n",
        "for race1, race2 in race_pairs: \n",
        "    print(race1, race2)\n",
        "    print(stats.ttest_ind(voter_age[groups[race1]], \n",
        "                          voter_age[groups[race2]]))"
      ]
    },
    {
      "cell_type": "markdown",
      "metadata": {
        "id": "yo40xL4KxGgu"
      },
      "source": [
        "Los valores p para cada prueba t por pares sugieren que la media de los votantes blancos es probablemente diferente de los otros grupos, ya que los valores p para cada prueba t que involucra al grupo blanco es inferior a 0,05. Sin embargo, el uso de pruebas t por pares no ajustadas puede sobrestimar la importancia, porque cuantas más comparaciones haga, más probable es que encuentre un resultado poco probable debido a la casualidad. Podemos ajustar este problema de comparación múltiple dividiendo el nivel de significación estadística por el número de comparaciones realizadas. En este caso, si estuviéramos buscando un nivel de significación del 5 %, estaríamos buscando valores de p de 0,05/10 = 0,005 o menos. Este ajuste simple para comparaciones múltiples se conoce como la corrección de Bonferroni.\n",
        "\n",
        "La corrección de Bonferroni es un enfoque conservador para dar cuenta del problema de comparaciones múltiples que puede terminar rechazando resultados que en realidad son significativos. Otra prueba post hoc común es la prueba de Tukey. Puede realizar la prueba de Tukey usando la función pairwise_tukeyhsd() en la biblioteca statsmodels.stats.multicomp:"
      ]
    },
    {
      "cell_type": "code",
      "execution_count": 7,
      "metadata": {
        "colab": {
          "base_uri": "https://localhost:8080/",
          "height": 668
        },
        "id": "XnRWCysjxLpO",
        "outputId": "76174079-9a98-4a4f-97db-27d456872e11"
      },
      "outputs": [
        {
          "data": {
            "text/html": [
              "<table class=\"simpletable\">\n",
              "<caption>Multiple Comparison of Means - Tukey HSD, FWER=0.05</caption>\n",
              "<tr>\n",
              "   <th>group1</th>   <th>group2</th>  <th>meandiff</th>  <th>p-adj</th>  <th>lower</th>   <th>upper</th> <th>reject</th>\n",
              "</tr>\n",
              "<tr>\n",
              "    <td>asian</td>    <td>black</td>   <td>-0.8032</td> <td>0.9208</td> <td>-3.4423</td>  <td>1.836</td>  <td>False</td>\n",
              "</tr>\n",
              "<tr>\n",
              "    <td>asian</td>  <td>hispanic</td>  <td>0.4143</td>  <td>0.9915</td> <td>-2.1011</td> <td>2.9297</td>  <td>False</td>\n",
              "</tr>\n",
              "<tr>\n",
              "    <td>asian</td>    <td>other</td>   <td>-1.0645</td> <td>0.8906</td> <td>-4.2391</td>  <td>2.11</td>   <td>False</td>\n",
              "</tr>\n",
              "<tr>\n",
              "    <td>asian</td>    <td>white</td>   <td>1.9547</td>  <td>0.1751</td> <td>-0.4575</td> <td>4.3668</td>  <td>False</td>\n",
              "</tr>\n",
              "<tr>\n",
              "    <td>black</td>  <td>hispanic</td>  <td>1.2175</td>  <td>0.2318</td> <td>-0.386</td>   <td>2.821</td>  <td>False</td>\n",
              "</tr>\n",
              "<tr>\n",
              "    <td>black</td>    <td>other</td>   <td>-0.2614</td> <td>0.9986</td> <td>-2.7757</td>  <td>2.253</td>  <td>False</td>\n",
              "</tr>\n",
              "<tr>\n",
              "    <td>black</td>    <td>white</td>   <td>2.7579</td>    <td>0.0</td>  <td>1.3217</td>   <td>4.194</td>  <td>True</td> \n",
              "</tr>\n",
              "<tr>\n",
              "  <td>hispanic</td>   <td>other</td>   <td>-1.4789</td> <td>0.4374</td> <td>-3.863</td>  <td>0.9053</td>  <td>False</td>\n",
              "</tr>\n",
              "<tr>\n",
              "  <td>hispanic</td>   <td>white</td>   <td>1.5404</td>   <td>0.004</td> <td>0.3468</td>   <td>2.734</td>  <td>True</td> \n",
              "</tr>\n",
              "<tr>\n",
              "    <td>other</td>    <td>white</td>   <td>3.0192</td>  <td>0.0028</td> <td>0.7443</td>  <td>5.2941</td>  <td>True</td> \n",
              "</tr>\n",
              "</table>"
            ],
            "text/plain": [
              "<class 'statsmodels.iolib.table.SimpleTable'>"
            ]
          },
          "execution_count": 7,
          "metadata": {},
          "output_type": "execute_result"
        },
        {
          "data": {
            "image/png": "[encoded data removed]",
            "text/plain": [
              "<Figure size 1000x600 with 1 Axes>"
            ]
          },
          "metadata": {},
          "output_type": "display_data"
        }
      ],
      "source": [
        "from statsmodels.stats.multicomp import pairwise_tukeyhsd\n",
        "\n",
        "tukey = pairwise_tukeyhsd(endog=voter_age,     # Data\n",
        "                          groups=voter_race,   # Groups\n",
        "                          alpha=0.05)          # Significance level\n",
        "\n",
        "tukey.plot_simultaneous()    # Plot group confidence intervals\n",
        "plt.vlines(x=49.57,ymin=-0.5,ymax=4.5, color=\"red\")\n",
        "\n",
        "tukey.summary()              # See test summary"
      ]
    },
    {
      "cell_type": "markdown",
      "metadata": {
        "id": "FSBPaQo5xhU9"
      },
      "source": [
        "El resultado de la prueba de Tukey muestra la diferencia promedio, un intervalo de confianza y si debe rechazar la hipótesis nula para cada par de grupos en el nivel de significación dado. En este caso, la prueba sugiere que rechacemos la hipótesis nula para 3 pares, y cada par incluye la categoría \"blanca\". Esto sugiere que el grupo blanco probablemente sea diferente de los demás. La gráfica del intervalo de confianza del 95 % refuerza los resultados visualmente: solo el intervalo de confianza de otro grupo se superpone al intervalo de confianza del grupo blanco."
      ]
    },
    {
      "cell_type": "markdown",
      "metadata": {
        "id": "W-VjVjIUxo_F"
      },
      "source": [
        "#Resumen\n",
        "\n",
        "La prueba ANOVA nos permite comprobar si una variable de respuesta numérica varía según los niveles de una variable categórica. La biblioteca scipy de Python facilita la realización de un ANOVA sin profundizar demasiado en los detalles del procedimiento."
      ]
    }
  ],
  "metadata": {
    "colab": {
      "provenance": []
    },
    "kernelspec": {
      "display_name": "Python 3.11.1 64-bit",
      "language": "python",
      "name": "python3"
    },
    "language_info": {
      "codemirror_mode": {
        "name": "ipython",
        "version": 3
      },
      "file_extension": ".py",
      "mimetype": "text/x-python",
      "name": "python",
      "nbconvert_exporter": "python",
      "pygments_lexer": "ipython3",
      "version": "3.11.2"
    },
    "vscode": {
      "interpreter": {
        "hash": "1a1af0ee75eeea9e2e1ee996c87e7a2b11a0bebd85af04bb136d915cefc0abce"
      }
    }
  },
  "nbformat": 4,
  "nbformat_minor": 0
}
