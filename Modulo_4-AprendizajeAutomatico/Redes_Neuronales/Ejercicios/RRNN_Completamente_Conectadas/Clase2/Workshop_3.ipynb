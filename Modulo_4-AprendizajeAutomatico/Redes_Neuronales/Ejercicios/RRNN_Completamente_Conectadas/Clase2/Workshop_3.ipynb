{
  "nbformat": 4,
  "nbformat_minor": 0,
  "metadata": {
    "colab": {
      "provenance": [],
      "gpuType": "T4"
    },
    "kernelspec": {
      "name": "python3",
      "display_name": "Python 3"
    },
    "language_info": {
      "name": "python"
    },
    "accelerator": "GPU",
    "gpuClass": "standard"
  },
  "cells": [
    {
      "cell_type": "markdown",
      "source": [
        "# Workshop 1: House Pricing Regression\n",
        "In this workshop you will need to train a regression neural network to estimate the pricing of houses of California. The main blocks of the workshop are:\n",
        "\n",
        "- Get the data from PyTorch repository and visualize it.\n",
        "- Pre-process the data.\n",
        "- Design the network.\n",
        "- Train the network.\n",
        "- Evaluate the model.\n",
        "\n",
        "[Info of the data](https://www.kaggle.com/datasets/camnugent/california-housing-prices))"
      ],
      "metadata": {
        "id": "82KWdqfX9S9T"
      }
    },
    {
      "cell_type": "code",
      "source": [
        "!pip install torchmetrics"
      ],
      "metadata": {
        "id": "TPFtUc3Tuff5",
        "colab": {
          "base_uri": "https://localhost:8080/"
        },
        "outputId": "48b99b4b-8fd5-451c-f9ec-0da4f0b4e8fd"
      },
      "execution_count": 1,
      "outputs": [
        {
          "output_type": "stream",
          "name": "stdout",
          "text": [
            "Looking in indexes: https://pypi.org/simple, https://us-python.pkg.dev/colab-wheels/public/simple/\n",
            "Collecting torchmetrics\n",
            "  Downloading torchmetrics-0.11.4-py3-none-any.whl (519 kB)\n",
            "\u001b[2K     \u001b[90m━━━━━━━━━━━━━━━━━━━━━━━━━━━━━━━━━━━━━━\u001b[0m \u001b[32m519.2/519.2 kB\u001b[0m \u001b[31m11.7 MB/s\u001b[0m eta \u001b[36m0:00:00\u001b[0m\n",
            "\u001b[?25hRequirement already satisfied: numpy>=1.17.2 in /usr/local/lib/python3.10/dist-packages (from torchmetrics) (1.22.4)\n",
            "Requirement already satisfied: torch>=1.8.1 in /usr/local/lib/python3.10/dist-packages (from torchmetrics) (2.0.1+cu118)\n",
            "Requirement already satisfied: packaging in /usr/local/lib/python3.10/dist-packages (from torchmetrics) (23.1)\n",
            "Requirement already satisfied: filelock in /usr/local/lib/python3.10/dist-packages (from torch>=1.8.1->torchmetrics) (3.12.0)\n",
            "Requirement already satisfied: typing-extensions in /usr/local/lib/python3.10/dist-packages (from torch>=1.8.1->torchmetrics) (4.5.0)\n",
            "Requirement already satisfied: sympy in /usr/local/lib/python3.10/dist-packages (from torch>=1.8.1->torchmetrics) (1.11.1)\n",
            "Requirement already satisfied: networkx in /usr/local/lib/python3.10/dist-packages (from torch>=1.8.1->torchmetrics) (3.1)\n",
            "Requirement already satisfied: jinja2 in /usr/local/lib/python3.10/dist-packages (from torch>=1.8.1->torchmetrics) (3.1.2)\n",
            "Requirement already satisfied: triton==2.0.0 in /usr/local/lib/python3.10/dist-packages (from torch>=1.8.1->torchmetrics) (2.0.0)\n",
            "Requirement already satisfied: cmake in /usr/local/lib/python3.10/dist-packages (from triton==2.0.0->torch>=1.8.1->torchmetrics) (3.25.2)\n",
            "Requirement already satisfied: lit in /usr/local/lib/python3.10/dist-packages (from triton==2.0.0->torch>=1.8.1->torchmetrics) (16.0.5)\n",
            "Requirement already satisfied: MarkupSafe>=2.0 in /usr/local/lib/python3.10/dist-packages (from jinja2->torch>=1.8.1->torchmetrics) (2.1.2)\n",
            "Requirement already satisfied: mpmath>=0.19 in /usr/local/lib/python3.10/dist-packages (from sympy->torch>=1.8.1->torchmetrics) (1.3.0)\n",
            "Installing collected packages: torchmetrics\n",
            "Successfully installed torchmetrics-0.11.4\n"
          ]
        }
      ]
    },
    {
      "cell_type": "code",
      "source": [
        "import pandas as pd\n",
        "from sklearn.preprocessing import StandardScaler\n",
        "from matplotlib import pyplot as plt\n",
        "import numpy as np\n",
        "\n",
        "import torch\n",
        "from torch.utils.data import Dataset, DataLoader\n",
        "import torch.nn as nn\n",
        "import torch.optim as optim\n",
        "\n",
        "from torchmetrics import MeanSquaredLogError\n",
        "\n",
        "torch.manual_seed(12345)"
      ],
      "metadata": {
        "id": "Kw8slVjX8s9g",
        "colab": {
          "base_uri": "https://localhost:8080/"
        },
        "outputId": "0317f232-900b-45e9-bd65-f19823e761ef"
      },
      "execution_count": 2,
      "outputs": [
        {
          "output_type": "execute_result",
          "data": {
            "text/plain": [
              "<torch._C.Generator at 0x7f6debd9afb0>"
            ]
          },
          "metadata": {},
          "execution_count": 2
        }
      ]
    },
    {
      "cell_type": "markdown",
      "source": [
        "# 1. Get the data (Already in Colab)"
      ],
      "metadata": {
        "id": "7C8TPghNGj3j"
      }
    },
    {
      "cell_type": "code",
      "source": [
        "TRAIN_DATA_PATH = '/content/sample_data/california_housing_train.csv'\n",
        "TEST_DATA_PATH = '/content/sample_data/california_housing_test.csv'\n",
        "TARGET_NAME = 'median_house_value'"
      ],
      "metadata": {
        "id": "U9v_zyzF8ykJ"
      },
      "execution_count": 3,
      "outputs": []
    },
    {
      "cell_type": "code",
      "execution_count": 4,
      "metadata": {
        "id": "Dz1x__Jh8TZm"
      },
      "outputs": [],
      "source": [
        "train_data = pd.read_csv(TRAIN_DATA_PATH)\n",
        "test_data = pd.read_csv(TEST_DATA_PATH)"
      ]
    },
    {
      "cell_type": "code",
      "source": [
        "train_data.head()"
      ],
      "metadata": {
        "id": "kgV8DZEi80H3",
        "colab": {
          "base_uri": "https://localhost:8080/",
          "height": 201
        },
        "outputId": "a95ccabf-cf9a-445b-ab31-35cfe990f365"
      },
      "execution_count": 5,
      "outputs": [
        {
          "output_type": "execute_result",
          "data": {
            "text/plain": [
              "   longitude  latitude  housing_median_age  total_rooms  total_bedrooms  \\\n",
              "0    -114.31     34.19                15.0       5612.0          1283.0   \n",
              "1    -114.47     34.40                19.0       7650.0          1901.0   \n",
              "2    -114.56     33.69                17.0        720.0           174.0   \n",
              "3    -114.57     33.64                14.0       1501.0           337.0   \n",
              "4    -114.57     33.57                20.0       1454.0           326.0   \n",
              "\n",
              "   population  households  median_income  median_house_value  \n",
              "0      1015.0       472.0         1.4936             66900.0  \n",
              "1      1129.0       463.0         1.8200             80100.0  \n",
              "2       333.0       117.0         1.6509             85700.0  \n",
              "3       515.0       226.0         3.1917             73400.0  \n",
              "4       624.0       262.0         1.9250             65500.0  "
            ],
            "text/html": [
              "\n",
              "  <div id=\"df-2671cfbb-1be2-4f29-943b-75849c31293c\">\n",
              "    <div class=\"colab-df-container\">\n",
              "      <div>\n",
              "<style scoped>\n",
              "    .dataframe tbody tr th:only-of-type {\n",
              "        vertical-align: middle;\n",
              "    }\n",
              "\n",
              "    .dataframe tbody tr th {\n",
              "        vertical-align: top;\n",
              "    }\n",
              "\n",
              "    .dataframe thead th {\n",
              "        text-align: right;\n",
              "    }\n",
              "</style>\n",
              "<table border=\"1\" class=\"dataframe\">\n",
              "  <thead>\n",
              "    <tr style=\"text-align: right;\">\n",
              "      <th></th>\n",
              "      <th>longitude</th>\n",
              "      <th>latitude</th>\n",
              "      <th>housing_median_age</th>\n",
              "      <th>total_rooms</th>\n",
              "      <th>total_bedrooms</th>\n",
              "      <th>population</th>\n",
              "      <th>households</th>\n",
              "      <th>median_income</th>\n",
              "      <th>median_house_value</th>\n",
              "    </tr>\n",
              "  </thead>\n",
              "  <tbody>\n",
              "    <tr>\n",
              "      <th>0</th>\n",
              "      <td>-114.31</td>\n",
              "      <td>34.19</td>\n",
              "      <td>15.0</td>\n",
              "      <td>5612.0</td>\n",
              "      <td>1283.0</td>\n",
              "      <td>1015.0</td>\n",
              "      <td>472.0</td>\n",
              "      <td>1.4936</td>\n",
              "      <td>66900.0</td>\n",
              "    </tr>\n",
              "    <tr>\n",
              "      <th>1</th>\n",
              "      <td>-114.47</td>\n",
              "      <td>34.40</td>\n",
              "      <td>19.0</td>\n",
              "      <td>7650.0</td>\n",
              "      <td>1901.0</td>\n",
              "      <td>1129.0</td>\n",
              "      <td>463.0</td>\n",
              "      <td>1.8200</td>\n",
              "      <td>80100.0</td>\n",
              "    </tr>\n",
              "    <tr>\n",
              "      <th>2</th>\n",
              "      <td>-114.56</td>\n",
              "      <td>33.69</td>\n",
              "      <td>17.0</td>\n",
              "      <td>720.0</td>\n",
              "      <td>174.0</td>\n",
              "      <td>333.0</td>\n",
              "      <td>117.0</td>\n",
              "      <td>1.6509</td>\n",
              "      <td>85700.0</td>\n",
              "    </tr>\n",
              "    <tr>\n",
              "      <th>3</th>\n",
              "      <td>-114.57</td>\n",
              "      <td>33.64</td>\n",
              "      <td>14.0</td>\n",
              "      <td>1501.0</td>\n",
              "      <td>337.0</td>\n",
              "      <td>515.0</td>\n",
              "      <td>226.0</td>\n",
              "      <td>3.1917</td>\n",
              "      <td>73400.0</td>\n",
              "    </tr>\n",
              "    <tr>\n",
              "      <th>4</th>\n",
              "      <td>-114.57</td>\n",
              "      <td>33.57</td>\n",
              "      <td>20.0</td>\n",
              "      <td>1454.0</td>\n",
              "      <td>326.0</td>\n",
              "      <td>624.0</td>\n",
              "      <td>262.0</td>\n",
              "      <td>1.9250</td>\n",
              "      <td>65500.0</td>\n",
              "    </tr>\n",
              "  </tbody>\n",
              "</table>\n",
              "</div>\n",
              "      <button class=\"colab-df-convert\" onclick=\"convertToInteractive('df-2671cfbb-1be2-4f29-943b-75849c31293c')\"\n",
              "              title=\"Convert this dataframe to an interactive table.\"\n",
              "              style=\"display:none;\">\n",
              "        \n",
              "  <svg xmlns=\"http://www.w3.org/2000/svg\" height=\"24px\"viewBox=\"0 0 24 24\"\n",
              "       width=\"24px\">\n",
              "    <path d=\"M0 0h24v24H0V0z\" fill=\"none\"/>\n",
              "    <path d=\"M18.56 5.44l.94 2.06.94-2.06 2.06-.94-2.06-.94-.94-2.06-.94 2.06-2.06.94zm-11 1L8.5 8.5l.94-2.06 2.06-.94-2.06-.94L8.5 2.5l-.94 2.06-2.06.94zm10 10l.94 2.06.94-2.06 2.06-.94-2.06-.94-.94-2.06-.94 2.06-2.06.94z\"/><path d=\"M17.41 7.96l-1.37-1.37c-.4-.4-.92-.59-1.43-.59-.52 0-1.04.2-1.43.59L10.3 9.45l-7.72 7.72c-.78.78-.78 2.05 0 2.83L4 21.41c.39.39.9.59 1.41.59.51 0 1.02-.2 1.41-.59l7.78-7.78 2.81-2.81c.8-.78.8-2.07 0-2.86zM5.41 20L4 18.59l7.72-7.72 1.47 1.35L5.41 20z\"/>\n",
              "  </svg>\n",
              "      </button>\n",
              "      \n",
              "  <style>\n",
              "    .colab-df-container {\n",
              "      display:flex;\n",
              "      flex-wrap:wrap;\n",
              "      gap: 12px;\n",
              "    }\n",
              "\n",
              "    .colab-df-convert {\n",
              "      background-color: #E8F0FE;\n",
              "      border: none;\n",
              "      border-radius: 50%;\n",
              "      cursor: pointer;\n",
              "      display: none;\n",
              "      fill: #1967D2;\n",
              "      height: 32px;\n",
              "      padding: 0 0 0 0;\n",
              "      width: 32px;\n",
              "    }\n",
              "\n",
              "    .colab-df-convert:hover {\n",
              "      background-color: #E2EBFA;\n",
              "      box-shadow: 0px 1px 2px rgba(60, 64, 67, 0.3), 0px 1px 3px 1px rgba(60, 64, 67, 0.15);\n",
              "      fill: #174EA6;\n",
              "    }\n",
              "\n",
              "    [theme=dark] .colab-df-convert {\n",
              "      background-color: #3B4455;\n",
              "      fill: #D2E3FC;\n",
              "    }\n",
              "\n",
              "    [theme=dark] .colab-df-convert:hover {\n",
              "      background-color: #434B5C;\n",
              "      box-shadow: 0px 1px 3px 1px rgba(0, 0, 0, 0.15);\n",
              "      filter: drop-shadow(0px 1px 2px rgba(0, 0, 0, 0.3));\n",
              "      fill: #FFFFFF;\n",
              "    }\n",
              "  </style>\n",
              "\n",
              "      <script>\n",
              "        const buttonEl =\n",
              "          document.querySelector('#df-2671cfbb-1be2-4f29-943b-75849c31293c button.colab-df-convert');\n",
              "        buttonEl.style.display =\n",
              "          google.colab.kernel.accessAllowed ? 'block' : 'none';\n",
              "\n",
              "        async function convertToInteractive(key) {\n",
              "          const element = document.querySelector('#df-2671cfbb-1be2-4f29-943b-75849c31293c');\n",
              "          const dataTable =\n",
              "            await google.colab.kernel.invokeFunction('convertToInteractive',\n",
              "                                                     [key], {});\n",
              "          if (!dataTable) return;\n",
              "\n",
              "          const docLinkHtml = 'Like what you see? Visit the ' +\n",
              "            '<a target=\"_blank\" href=https://colab.research.google.com/notebooks/data_table.ipynb>data table notebook</a>'\n",
              "            + ' to learn more about interactive tables.';\n",
              "          element.innerHTML = '';\n",
              "          dataTable['output_type'] = 'display_data';\n",
              "          await google.colab.output.renderOutput(dataTable, element);\n",
              "          const docLink = document.createElement('div');\n",
              "          docLink.innerHTML = docLinkHtml;\n",
              "          element.appendChild(docLink);\n",
              "        }\n",
              "      </script>\n",
              "    </div>\n",
              "  </div>\n",
              "  "
            ]
          },
          "metadata": {},
          "execution_count": 5
        }
      ]
    },
    {
      "cell_type": "code",
      "source": [
        "train_data.shape, test_data.shape"
      ],
      "metadata": {
        "id": "JBgs_AfD-625",
        "colab": {
          "base_uri": "https://localhost:8080/"
        },
        "outputId": "e6585096-6da7-4b01-8b3e-2da667ab1c71"
      },
      "execution_count": 6,
      "outputs": [
        {
          "output_type": "execute_result",
          "data": {
            "text/plain": [
              "((17000, 9), (3000, 9))"
            ]
          },
          "metadata": {},
          "execution_count": 6
        }
      ]
    },
    {
      "cell_type": "code",
      "source": [
        "x_train, y_train = train_data.drop(TARGET_NAME, axis=1), train_data[TARGET_NAME]\n",
        "x_test, y_test = test_data.drop(TARGET_NAME, axis=1), test_data[TARGET_NAME]"
      ],
      "metadata": {
        "id": "3DSqRAO-8-SU"
      },
      "execution_count": 7,
      "outputs": []
    },
    {
      "cell_type": "code",
      "source": [
        "x_train.shape, y_train.shape, x_test.shape, y_test.shape"
      ],
      "metadata": {
        "id": "Z3cAOOZa__e2",
        "colab": {
          "base_uri": "https://localhost:8080/"
        },
        "outputId": "0b0ecd03-44fd-454d-d8b5-6b6d6c414696"
      },
      "execution_count": 8,
      "outputs": [
        {
          "output_type": "execute_result",
          "data": {
            "text/plain": [
              "((17000, 8), (17000,), (3000, 8), (3000,))"
            ]
          },
          "metadata": {},
          "execution_count": 8
        }
      ]
    },
    {
      "cell_type": "markdown",
      "source": [
        "# 2. Pre-process the data."
      ],
      "metadata": {
        "id": "adS5-AdeGv2H"
      }
    },
    {
      "cell_type": "code",
      "source": [
        "standard_scaler = StandardScaler()\n",
        "x_train_scaled = pd.DataFrame(\n",
        "    standard_scaler.fit_transform(x_train),\n",
        "    columns=x_train.columns\n",
        ")\n",
        "x_test_scaled = pd.DataFrame(\n",
        "    standard_scaler.transform(x_test),\n",
        "    columns = x_test.columns\n",
        ")"
      ],
      "metadata": {
        "id": "mGRb18gf9GJT"
      },
      "execution_count": 9,
      "outputs": []
    },
    {
      "cell_type": "code",
      "source": [
        "x_train_scaled.head()"
      ],
      "metadata": {
        "id": "AD78c1XS9_GR",
        "colab": {
          "base_uri": "https://localhost:8080/",
          "height": 201
        },
        "outputId": "6c911350-d0e4-4fe3-bb05-1c0d73b1c522"
      },
      "execution_count": 10,
      "outputs": [
        {
          "output_type": "execute_result",
          "data": {
            "text/plain": [
              "   longitude  latitude  housing_median_age  total_rooms  total_bedrooms  \\\n",
              "0   2.619365 -0.671520           -1.079671     1.361695        1.764204   \n",
              "1   2.539569 -0.573264           -0.761872     2.296608        3.230441   \n",
              "2   2.494683 -0.905463           -0.920772    -0.882462       -0.866956   \n",
              "3   2.489696 -0.928857           -1.159121    -0.524186       -0.480230   \n",
              "4   2.489696 -0.961609           -0.682422    -0.545747       -0.506328   \n",
              "\n",
              "   population  households  median_income  \n",
              "0   -0.361184   -0.075998      -1.252543  \n",
              "1   -0.261865   -0.099404      -1.081483  \n",
              "2   -0.955354   -0.999252      -1.170105  \n",
              "3   -0.796793   -0.715774      -0.362600  \n",
              "4   -0.701830   -0.622148      -1.026454  "
            ],
            "text/html": [
              "\n",
              "  <div id=\"df-cc448632-dbc2-4666-91c6-02e12dd666a4\">\n",
              "    <div class=\"colab-df-container\">\n",
              "      <div>\n",
              "<style scoped>\n",
              "    .dataframe tbody tr th:only-of-type {\n",
              "        vertical-align: middle;\n",
              "    }\n",
              "\n",
              "    .dataframe tbody tr th {\n",
              "        vertical-align: top;\n",
              "    }\n",
              "\n",
              "    .dataframe thead th {\n",
              "        text-align: right;\n",
              "    }\n",
              "</style>\n",
              "<table border=\"1\" class=\"dataframe\">\n",
              "  <thead>\n",
              "    <tr style=\"text-align: right;\">\n",
              "      <th></th>\n",
              "      <th>longitude</th>\n",
              "      <th>latitude</th>\n",
              "      <th>housing_median_age</th>\n",
              "      <th>total_rooms</th>\n",
              "      <th>total_bedrooms</th>\n",
              "      <th>population</th>\n",
              "      <th>households</th>\n",
              "      <th>median_income</th>\n",
              "    </tr>\n",
              "  </thead>\n",
              "  <tbody>\n",
              "    <tr>\n",
              "      <th>0</th>\n",
              "      <td>2.619365</td>\n",
              "      <td>-0.671520</td>\n",
              "      <td>-1.079671</td>\n",
              "      <td>1.361695</td>\n",
              "      <td>1.764204</td>\n",
              "      <td>-0.361184</td>\n",
              "      <td>-0.075998</td>\n",
              "      <td>-1.252543</td>\n",
              "    </tr>\n",
              "    <tr>\n",
              "      <th>1</th>\n",
              "      <td>2.539569</td>\n",
              "      <td>-0.573264</td>\n",
              "      <td>-0.761872</td>\n",
              "      <td>2.296608</td>\n",
              "      <td>3.230441</td>\n",
              "      <td>-0.261865</td>\n",
              "      <td>-0.099404</td>\n",
              "      <td>-1.081483</td>\n",
              "    </tr>\n",
              "    <tr>\n",
              "      <th>2</th>\n",
              "      <td>2.494683</td>\n",
              "      <td>-0.905463</td>\n",
              "      <td>-0.920772</td>\n",
              "      <td>-0.882462</td>\n",
              "      <td>-0.866956</td>\n",
              "      <td>-0.955354</td>\n",
              "      <td>-0.999252</td>\n",
              "      <td>-1.170105</td>\n",
              "    </tr>\n",
              "    <tr>\n",
              "      <th>3</th>\n",
              "      <td>2.489696</td>\n",
              "      <td>-0.928857</td>\n",
              "      <td>-1.159121</td>\n",
              "      <td>-0.524186</td>\n",
              "      <td>-0.480230</td>\n",
              "      <td>-0.796793</td>\n",
              "      <td>-0.715774</td>\n",
              "      <td>-0.362600</td>\n",
              "    </tr>\n",
              "    <tr>\n",
              "      <th>4</th>\n",
              "      <td>2.489696</td>\n",
              "      <td>-0.961609</td>\n",
              "      <td>-0.682422</td>\n",
              "      <td>-0.545747</td>\n",
              "      <td>-0.506328</td>\n",
              "      <td>-0.701830</td>\n",
              "      <td>-0.622148</td>\n",
              "      <td>-1.026454</td>\n",
              "    </tr>\n",
              "  </tbody>\n",
              "</table>\n",
              "</div>\n",
              "      <button class=\"colab-df-convert\" onclick=\"convertToInteractive('df-cc448632-dbc2-4666-91c6-02e12dd666a4')\"\n",
              "              title=\"Convert this dataframe to an interactive table.\"\n",
              "              style=\"display:none;\">\n",
              "        \n",
              "  <svg xmlns=\"http://www.w3.org/2000/svg\" height=\"24px\"viewBox=\"0 0 24 24\"\n",
              "       width=\"24px\">\n",
              "    <path d=\"M0 0h24v24H0V0z\" fill=\"none\"/>\n",
              "    <path d=\"M18.56 5.44l.94 2.06.94-2.06 2.06-.94-2.06-.94-.94-2.06-.94 2.06-2.06.94zm-11 1L8.5 8.5l.94-2.06 2.06-.94-2.06-.94L8.5 2.5l-.94 2.06-2.06.94zm10 10l.94 2.06.94-2.06 2.06-.94-2.06-.94-.94-2.06-.94 2.06-2.06.94z\"/><path d=\"M17.41 7.96l-1.37-1.37c-.4-.4-.92-.59-1.43-.59-.52 0-1.04.2-1.43.59L10.3 9.45l-7.72 7.72c-.78.78-.78 2.05 0 2.83L4 21.41c.39.39.9.59 1.41.59.51 0 1.02-.2 1.41-.59l7.78-7.78 2.81-2.81c.8-.78.8-2.07 0-2.86zM5.41 20L4 18.59l7.72-7.72 1.47 1.35L5.41 20z\"/>\n",
              "  </svg>\n",
              "      </button>\n",
              "      \n",
              "  <style>\n",
              "    .colab-df-container {\n",
              "      display:flex;\n",
              "      flex-wrap:wrap;\n",
              "      gap: 12px;\n",
              "    }\n",
              "\n",
              "    .colab-df-convert {\n",
              "      background-color: #E8F0FE;\n",
              "      border: none;\n",
              "      border-radius: 50%;\n",
              "      cursor: pointer;\n",
              "      display: none;\n",
              "      fill: #1967D2;\n",
              "      height: 32px;\n",
              "      padding: 0 0 0 0;\n",
              "      width: 32px;\n",
              "    }\n",
              "\n",
              "    .colab-df-convert:hover {\n",
              "      background-color: #E2EBFA;\n",
              "      box-shadow: 0px 1px 2px rgba(60, 64, 67, 0.3), 0px 1px 3px 1px rgba(60, 64, 67, 0.15);\n",
              "      fill: #174EA6;\n",
              "    }\n",
              "\n",
              "    [theme=dark] .colab-df-convert {\n",
              "      background-color: #3B4455;\n",
              "      fill: #D2E3FC;\n",
              "    }\n",
              "\n",
              "    [theme=dark] .colab-df-convert:hover {\n",
              "      background-color: #434B5C;\n",
              "      box-shadow: 0px 1px 3px 1px rgba(0, 0, 0, 0.15);\n",
              "      filter: drop-shadow(0px 1px 2px rgba(0, 0, 0, 0.3));\n",
              "      fill: #FFFFFF;\n",
              "    }\n",
              "  </style>\n",
              "\n",
              "      <script>\n",
              "        const buttonEl =\n",
              "          document.querySelector('#df-cc448632-dbc2-4666-91c6-02e12dd666a4 button.colab-df-convert');\n",
              "        buttonEl.style.display =\n",
              "          google.colab.kernel.accessAllowed ? 'block' : 'none';\n",
              "\n",
              "        async function convertToInteractive(key) {\n",
              "          const element = document.querySelector('#df-cc448632-dbc2-4666-91c6-02e12dd666a4');\n",
              "          const dataTable =\n",
              "            await google.colab.kernel.invokeFunction('convertToInteractive',\n",
              "                                                     [key], {});\n",
              "          if (!dataTable) return;\n",
              "\n",
              "          const docLinkHtml = 'Like what you see? Visit the ' +\n",
              "            '<a target=\"_blank\" href=https://colab.research.google.com/notebooks/data_table.ipynb>data table notebook</a>'\n",
              "            + ' to learn more about interactive tables.';\n",
              "          element.innerHTML = '';\n",
              "          dataTable['output_type'] = 'display_data';\n",
              "          await google.colab.output.renderOutput(dataTable, element);\n",
              "          const docLink = document.createElement('div');\n",
              "          docLink.innerHTML = docLinkHtml;\n",
              "          element.appendChild(docLink);\n",
              "        }\n",
              "      </script>\n",
              "    </div>\n",
              "  </div>\n",
              "  "
            ]
          },
          "metadata": {},
          "execution_count": 10
        }
      ]
    },
    {
      "cell_type": "code",
      "source": [
        "# Create a PyTorch dataset\n",
        "class HousingDataset(Dataset):\n",
        "    def __init__(self, X, y):\n",
        "        self.X = torch.from_numpy(X.to_numpy()).float()\n",
        "        self.y = torch.from_numpy(y.to_numpy()).float()\n",
        "    \n",
        "    def __len__(self):\n",
        "        return len(self.X)\n",
        "    \n",
        "    def __getitem__(self, idx):\n",
        "        return self.X[idx], self.y[idx]"
      ],
      "metadata": {
        "id": "B44jic68dBIg"
      },
      "execution_count": 11,
      "outputs": []
    },
    {
      "cell_type": "code",
      "source": [
        "train_set = HousingDataset(x_train_scaled[:15000], y_train[:15000])\n",
        "valid_set = HousingDataset(x_train_scaled[15000:], y_train[15000:])\n",
        "test_set = HousingDataset(x_test_scaled, y_test)\n",
        "len(train_set), len(valid_set), len(test_set)"
      ],
      "metadata": {
        "id": "IdElHmTAdRNp",
        "colab": {
          "base_uri": "https://localhost:8080/"
        },
        "outputId": "cd0753d2-33df-4ce9-89a6-f9f69991bfef"
      },
      "execution_count": 12,
      "outputs": [
        {
          "output_type": "execute_result",
          "data": {
            "text/plain": [
              "(15000, 2000, 3000)"
            ]
          },
          "metadata": {},
          "execution_count": 12
        }
      ]
    },
    {
      "cell_type": "code",
      "source": [
        "train_set[0]"
      ],
      "metadata": {
        "id": "tOrE2WnPdRR7",
        "colab": {
          "base_uri": "https://localhost:8080/"
        },
        "outputId": "2e837a21-86ec-4585-c1ed-78a82b03b6a0"
      },
      "execution_count": 13,
      "outputs": [
        {
          "output_type": "execute_result",
          "data": {
            "text/plain": [
              "(tensor([ 2.6194, -0.6715, -1.0797,  1.3617,  1.7642, -0.3612, -0.0760, -1.2525]),\n",
              " tensor(66900.))"
            ]
          },
          "metadata": {},
          "execution_count": 13
        }
      ]
    },
    {
      "cell_type": "code",
      "source": [
        "train_loader = DataLoader(train_set, batch_size=64, shuffle=True)\n",
        "valid_loader = DataLoader(valid_set, batch_size=1, shuffle=False)\n",
        "test_loader = DataLoader(test_set, batch_size=1, shuffle=False)"
      ],
      "metadata": {
        "id": "_eGGzan4eQm6"
      },
      "execution_count": 14,
      "outputs": []
    },
    {
      "cell_type": "code",
      "source": [
        "len(train_loader)"
      ],
      "metadata": {
        "id": "j0ShiAsZeb6C",
        "colab": {
          "base_uri": "https://localhost:8080/"
        },
        "outputId": "9c921f2e-63a7-43d9-c3a7-a2f3baeccc65"
      },
      "execution_count": 15,
      "outputs": [
        {
          "output_type": "execute_result",
          "data": {
            "text/plain": [
              "235"
            ]
          },
          "metadata": {},
          "execution_count": 15
        }
      ]
    },
    {
      "cell_type": "code",
      "source": [
        "64*235"
      ],
      "metadata": {
        "id": "pardCD3peh04",
        "colab": {
          "base_uri": "https://localhost:8080/"
        },
        "outputId": "46471e68-b1dc-4434-b24f-cff938843f84"
      },
      "execution_count": 16,
      "outputs": [
        {
          "output_type": "execute_result",
          "data": {
            "text/plain": [
              "15040"
            ]
          },
          "metadata": {},
          "execution_count": 16
        }
      ]
    },
    {
      "cell_type": "code",
      "source": [
        "next(iter(train_loader))"
      ],
      "metadata": {
        "id": "T7YhcE83em5a",
        "colab": {
          "base_uri": "https://localhost:8080/"
        },
        "outputId": "24e90978-20d3-4990-95ef-69aaba7fc01e"
      },
      "execution_count": 17,
      "outputs": [
        {
          "output_type": "execute_result",
          "data": {
            "text/plain": [
              "[tensor([[-8.4180e-01,  1.0971e+00,  9.8602e-01, -8.2053e-01, -8.3137e-01,\n",
              "          -6.2168e-01, -7.6779e-01, -9.6750e-01],\n",
              "         [ 6.4940e-01, -6.4813e-01,  5.0932e-01, -7.2786e-02, -2.8805e-01,\n",
              "          -1.7736e-01, -2.4765e-01,  9.5630e-01],\n",
              "         [ 1.1381e+00, -6.8088e-01, -2.0572e-01,  2.1209e-01,  1.5087e-01,\n",
              "          -2.9250e-02,  1.9448e-01, -3.7209e-01],\n",
              "         [-8.6175e-01,  1.0877e+00, -1.0002e+00, -8.6365e-01, -5.5378e-01,\n",
              "          -8.6388e-01, -5.7013e-01, -1.6310e+00],\n",
              "         [-1.1909e+00,  6.9470e-01, -6.0297e-01, -1.1774e-01, -4.3278e-01,\n",
              "          -4.5005e-01, -4.1669e-01,  2.0190e+00],\n",
              "         [-1.1909e+00,  4.5608e-01,  2.7098e-01,  2.3319e-01, -8.4014e-02,\n",
              "          -5.5459e-01, -1.9563e-01,  1.6960e+00],\n",
              "         [ 6.3942e-01, -7.6510e-01,  6.6822e-01, -3.0858e-01, -6.2661e-02,\n",
              "           2.1208e-01, -9.6804e-02, -1.2688e+00],\n",
              "         [-1.1366e-01,  5.2627e-01,  1.8600e+00, -1.0398e+00, -1.0496e+00,\n",
              "          -7.8372e-01, -1.0539e+00, -1.5112e+00],\n",
              "         [-1.1710e+00,  6.3856e-01, -4.4407e-01,  1.3906e+00,  1.0074e+00,\n",
              "           6.6859e-01,  9.8509e-01,  5.1660e-01],\n",
              "         [-7.3208e-01,  1.7007e+00,  1.6216e+00,  5.0247e-01,  5.2099e-01,\n",
              "          -6.5985e-03,  2.7250e-01, -7.6268e-01],\n",
              "         [-1.1560e+00,  8.3507e-01, -4.4407e-01,  2.6622e-01,  2.6712e-01,\n",
              "           6.5640e-01,  3.9993e-01,  2.6053e-01],\n",
              "         [-1.1959e+00,  1.1064e+00, -2.1125e+00,  2.2264e-01,  3.9761e-01,\n",
              "           1.5371e-01,  5.1176e-01, -4.8450e-01],\n",
              "         [ 7.8904e-01, -8.9611e-01, -2.0572e-01, -3.3886e-01, -3.9482e-01,\n",
              "          -2.8887e-01, -3.4647e-01,  5.1230e-01],\n",
              "         [ 6.4441e-01, -7.5574e-01,  5.0932e-01, -4.4574e-01,  3.9359e-02,\n",
              "           5.8931e-01,  4.6236e-02, -1.3956e+00],\n",
              "         [-1.1859e+00,  1.0877e+00, -8.4132e-01, -4.7096e-02, -4.3752e-01,\n",
              "          -3.8645e-01, -4.0369e-01,  1.7369e+00],\n",
              "         [ 1.2080e+00, -1.3593e+00,  1.1449e+00, -7.2053e-01, -4.6362e-01,\n",
              "          -6.7047e-01, -5.7794e-01, -9.5942e-01],\n",
              "         [ 8.6385e-01, -8.4932e-01, -4.6824e-02, -3.0812e-01, -5.3243e-01,\n",
              "          -4.0039e-01, -4.5570e-01,  8.1035e-01],\n",
              "         [ 7.9901e-01, -9.4757e-01,  4.2987e-01, -7.7282e-01, -7.3409e-01,\n",
              "          -9.1092e-01, -7.9119e-01,  7.0736e-01],\n",
              "         [-7.3706e-01,  1.0082e+00,  2.7098e-01,  1.2493e-01, -2.7073e-02,\n",
              "           3.1735e-02, -7.3397e-02, -6.9141e-01],\n",
              "         [ 8.5886e-01, -8.6803e-01, -1.1591e+00,  8.1121e-01,  9.7889e-01,\n",
              "           1.9727e-01,  9.6949e-01,  2.3354e-01],\n",
              "         [-8.5676e-01,  1.0690e+00,  1.9153e-01, -8.3659e-01, -8.5509e-01,\n",
              "          -7.4365e-01, -9.0042e-01, -1.1496e+00],\n",
              "         [-7.4704e-01,  1.6960e+00, -9.2077e-01,  2.2173e-01, -9.7470e-04,\n",
              "          -3.4478e-02,  4.8836e-02,  3.6750e-02],\n",
              "         [ 1.1332e+00, -7.7445e-01, -1.9536e+00,  7.3964e+00,  5.9138e+00,\n",
              "           6.4256e+00,  5.7782e+00,  4.1042e-01],\n",
              "         [ 5.0477e-01, -6.7152e-01,  5.8877e-01, -7.6411e-01, -8.7645e-01,\n",
              "          -8.3164e-01, -8.0420e-01,  4.1477e-01],\n",
              "         [ 1.1232e+00, -1.1113e+00, -1.2386e+00,  1.9787e-01,  2.1493e-01,\n",
              "           3.6018e-01,  4.4935e-01, -5.3864e-01],\n",
              "         [-1.2508e+00,  9.1461e-01, -1.0002e+00, -4.7602e-01, -7.1037e-01,\n",
              "          -2.7232e-01, -6.0654e-01,  1.1438e+00],\n",
              "         [-1.2363e-01,  4.1397e-01,  1.9153e-01, -6.4346e-01, -6.7715e-01,\n",
              "          -5.7725e-01, -7.1577e-01, -6.0347e-01],\n",
              "         [ 6.7932e-01, -6.9491e-01,  1.7805e+00, -3.2234e-01, -3.8296e-01,\n",
              "          -3.6380e-01, -3.3867e-01,  2.8259e-02],\n",
              "         [ 6.2945e-01, -8.0721e-01,  3.2626e-02, -1.2232e-02,  3.0508e-01,\n",
              "           3.8196e-01,  3.7913e-01, -1.4862e-01],\n",
              "         [-1.3360e-01,  5.4498e-01, -3.6462e-01,  3.9513e-01,  6.6334e-01,\n",
              "           5.8234e-01,  7.0942e-01, -1.0094e+00],\n",
              "         [ 4.7484e-01, -4.8437e-01, -1.8742e+00,  6.3505e-01,  8.4603e-01,\n",
              "           5.5098e-01,  8.4466e-01,  9.1359e-02],\n",
              "         [ 6.4940e-01, -8.0253e-01,  8.2712e-01, -7.8383e-01, -7.8154e-01,\n",
              "          -6.2603e-01, -8.0160e-01, -7.5786e-01],\n",
              "         [-1.2258e+00,  8.0232e-01,  1.1208e-01, -7.3750e-01, -9.2152e-01,\n",
              "          -8.3861e-01, -8.9782e-01,  1.3440e+00],\n",
              "         [-1.2807e+00,  9.6140e-01,  1.3038e+00, -8.5630e-02, -2.2399e-01,\n",
              "          -2.6187e-01, -2.0603e-01,  9.1831e-02],\n",
              "         [ 6.5438e-01, -6.8556e-01, -1.1591e+00,  4.8458e-01,  9.6228e-01,\n",
              "           2.1905e-01,  1.0501e+00,  1.1436e-02],\n",
              "         [-1.0313e+00,  1.9346e+00, -5.2352e-01, -2.0948e-02, -1.3621e-01,\n",
              "          -2.4270e-01, -2.9185e-02, -5.5834e-01],\n",
              "         [-1.2258e+00,  1.0503e+00, -1.1591e+00,  1.8915e-01, -4.0431e-01,\n",
              "          -1.9217e-01, -3.2307e-01,  2.3854e+00],\n",
              "         [ 1.3526e+00, -6.4345e-01, -1.8742e+00,  1.4507e+00,  1.1639e+00,\n",
              "          -7.4975e-01, -7.3398e-01,  6.7932e-02],\n",
              "         [ 6.7932e-01, -7.7913e-01,  6.6822e-01, -2.3701e-01, -1.5210e-02,\n",
              "           5.1526e-01, -5.5192e-02, -4.7496e-01],\n",
              "         [-1.2657e+00,  1.0924e+00, -2.8517e-01, -5.8245e-01, -7.9103e-01,\n",
              "          -7.4975e-01, -6.9237e-01,  1.3030e+00],\n",
              "         [-1.1111e+00,  7.9296e-01, -1.7947e+00,  9.4654e-02,  5.1221e-02,\n",
              "           6.3636e-01,  2.0748e-01,  8.6475e-01],\n",
              "         [-5.4256e-01, -1.0070e-01, -1.0797e+00,  1.8723e+00,  1.3561e+00,\n",
              "           1.4893e+00,  1.3726e+00,  1.5928e-01],\n",
              "         [-1.3206e+00,  8.6782e-01,  8.2712e-01, -5.0859e-01, -4.7311e-01,\n",
              "          -1.9652e-01, -3.4127e-01, -5.4262e-01],\n",
              "         [-1.2109e+00,  1.3357e+00, -9.2077e-01, -3.7601e-01, -4.5413e-01,\n",
              "          -4.3175e-01, -5.1032e-01,  4.1314e-01],\n",
              "         [ 1.2329e+00, -1.3219e+00,  5.8877e-01, -2.2050e-01, -4.0905e-01,\n",
              "          -4.4831e-01, -3.6728e-01,  4.3772e-01],\n",
              "         [-1.0463e+00,  5.5902e-01, -9.2077e-01,  5.8597e-01,  2.7187e-01,\n",
              "           4.0549e-01,  3.6352e-01,  5.8992e-01],\n",
              "         [ 7.9403e-01, -8.4932e-01,  1.1208e-01, -1.0903e-01, -1.8366e-01,\n",
              "           2.8177e-01, -1.1761e-01,  3.1519e-01],\n",
              "         [-1.2208e+00,  9.1929e-01, -2.1125e+00, -8.2833e-01, -5.7988e-01,\n",
              "          -1.0364e+00, -9.1603e-01, -5.2858e-01],\n",
              "         [-1.2657e+00,  9.3800e-01,  3.2626e-02, -2.1637e-01, -2.4772e-01,\n",
              "          -4.5803e-02, -2.4244e-01, -4.9305e-02],\n",
              "         [ 1.4568e-01,  3.3443e-01, -1.7153e+00,  3.6210e-01,  2.0544e-01,\n",
              "           3.1662e-01,  3.2451e-01, -1.8551e-01],\n",
              "         [ 1.9810e+00, -1.2985e+00, -6.8242e-01, -4.7510e-01, -6.2970e-01,\n",
              "          -4.9448e-01, -6.5856e-01,  5.1959e-01],\n",
              "         [ 9.7357e-01, -7.5106e-01, -1.6358e+00, -1.1839e+00, -1.2584e+00,\n",
              "          -1.2237e+00, -1.2853e+00,  2.0104e+00],\n",
              "         [-9.9640e-01,  1.8223e+00, -1.5564e+00, -8.3751e-01, -8.1239e-01,\n",
              "          -9.3357e-01, -7.9119e-01, -1.1073e+00],\n",
              "         [-5.5752e-01, -1.7556e-01, -1.0002e+00,  7.1762e-01,  8.4840e-01,\n",
              "           1.7810e-01,  7.9264e-01, -8.3684e-01],\n",
              "         [-5.6750e-01, -1.4281e-01,  1.3833e+00, -1.1586e+00, -1.2394e+00,\n",
              "           4.4453e+00, -1.2697e+00,  1.9932e-01],\n",
              "         [ 5.7957e-01, -7.7445e-01,  5.0932e-01, -7.9393e-01, -8.9780e-01,\n",
              "          -8.5255e-01, -8.5621e-01,  9.0840e-01],\n",
              "         [-1.1311e+00,  7.8828e-01, -7.6187e-01,  3.9164e+00,  3.2162e+00,\n",
              "           5.5648e+00,  3.5156e+00,  9.0258e-01],\n",
              "         [ 1.6668e+00, -8.8207e-01, -2.0572e-01,  6.7725e-01,  7.5587e-01,\n",
              "           1.2967e+00,  8.1605e-01, -3.0023e-01],\n",
              "         [ 1.3127e+00, -1.3078e+00, -6.0297e-01, -6.2419e-01, -6.2021e-01,\n",
              "          -6.4956e-01, -5.5193e-01, -8.1929e-01],\n",
              "         [ 1.9860e+00, -1.3312e+00, -1.8742e+00, -6.8657e-02, -2.9754e-01,\n",
              "          -1.1826e-02, -2.0863e-01,  9.9613e-01],\n",
              "         [ 1.2329e+00, -1.3827e+00,  1.9153e-01, -2.7188e-01,  2.2751e-02,\n",
              "           1.3193e-01,  9.5649e-02, -9.5990e-01],\n",
              "         [ 5.9952e-01, -8.4932e-01, -2.8517e-01,  2.9352e+00,  3.5175e+00,\n",
              "           2.6384e+00,  3.7523e+00,  3.5408e-01],\n",
              "         [-1.3305e+00,  1.0269e+00,  1.8600e+00,  2.7448e-01, -4.1143e-01,\n",
              "          -3.7338e-01, -3.8808e-01,  4.3657e+00],\n",
              "         [-1.2308e+00,  1.0737e+00, -4.4407e-01,  3.0934e-01, -3.1178e-01,\n",
              "          -2.6622e-01, -2.8145e-01,  1.4156e+00]]),\n",
              " tensor([ 75000., 329500., 122200.,  87500., 397700., 469900., 103000.,  45000.,\n",
              "         322300., 143100., 226900., 210100., 229600., 129200., 288000., 168800.,\n",
              "         234200., 471400., 200000., 206500.,  65900., 172800., 160600., 222500.,\n",
              "          97100., 247000.,  83600., 217000., 208800.,  67000., 167100., 101900.,\n",
              "         360600., 182800., 200000., 109700., 441400., 163100., 164600., 235500.,\n",
              "         241900., 261600., 247200., 250000., 174100., 238700., 180600., 237500.,\n",
              "         180900.,  83700.,  90800., 275000.,  79500., 233700., 350000., 411200.,\n",
              "         232700.,  69400., 163500., 110100., 108900., 378800., 500001., 358800.])]"
            ]
          },
          "metadata": {},
          "execution_count": 17
        }
      ]
    },
    {
      "cell_type": "markdown",
      "source": [
        "# 3. Design the network."
      ],
      "metadata": {
        "id": "UZqu8f2LG1-U"
      }
    },
    {
      "cell_type": "code",
      "source": [
        "class Net(nn.Module):\n",
        "    def __init__(self):\n",
        "        super(Net, self).__init__()\n",
        "        self.fc1 = nn.Linear(8, 32)\n",
        "        self.fc2 = nn.Linear(32, 64)\n",
        "        self.fc3 = nn.Linear(64, 32)\n",
        "        self.fc4 = nn.Linear(32, 1)\n",
        "\n",
        "    def forward(self, x):\n",
        "        x = torch.relu(self.fc1(x))\n",
        "        x = torch.relu(self.fc2(x))\n",
        "        x = torch.relu(self.fc3(x))\n",
        "        x = self.fc4(x)\n",
        "        return x"
      ],
      "metadata": {
        "id": "MmTHCxeI-FCN"
      },
      "execution_count": 18,
      "outputs": []
    },
    {
      "cell_type": "code",
      "source": [
        "net = Net()\n",
        "optimizer = optim.Adam(net.parameters(), lr=0.01)\n",
        "criterion = nn.MSELoss()"
      ],
      "metadata": {
        "id": "6wn3uXKCCIqb"
      },
      "execution_count": 19,
      "outputs": []
    },
    {
      "cell_type": "markdown",
      "source": [
        "# 4. Train the network."
      ],
      "metadata": {
        "id": "jl2s24v5HEVB"
      }
    },
    {
      "cell_type": "code",
      "source": [
        "def train(epochs=10):\n",
        "  train_history = []\n",
        "  valid_history = []\n",
        "  for epoch in range(epochs):\n",
        "      running_loss = 0.0\n",
        "      for i, data in enumerate(train_loader):\n",
        "          inputs, labels = data\n",
        "          optimizer.zero_grad()\n",
        "          outputs = net(inputs)\n",
        "          loss = criterion(outputs[:, 0], labels)\n",
        "          loss.backward()\n",
        "          optimizer.step()\n",
        "          running_loss += loss.item()\n",
        "      train_history.append(running_loss / len(train_loader))\n",
        "      \n",
        "      with torch.no_grad():\n",
        "        running_loss = 0\n",
        "        for i, data in enumerate(valid_loader):\n",
        "          inputs, labels = data\n",
        "          outputs = net(inputs)\n",
        "          loss = criterion(outputs[:, 0], labels)\n",
        "          running_loss += loss.item()\n",
        "        valid_history.append(running_loss / len(valid_loader))\n",
        "\n",
        "      print('[%d] loss: %.3f, valid_loss: %.3f' % (epoch + 1, train_history[-1], valid_history[-1]))\n",
        "\n",
        "  plt.plot(train_history)\n",
        "  plt.plot(valid_history)\n",
        "  plt.xlabel(\"Epochs\")\n",
        "  plt.ylabel(\"MSE\")"
      ],
      "metadata": {
        "id": "VvAFSdO--mbs"
      },
      "execution_count": 20,
      "outputs": []
    },
    {
      "cell_type": "code",
      "source": [
        "train()"
      ],
      "metadata": {
        "id": "IG2GQ12chnC7",
        "colab": {
          "base_uri": "https://localhost:8080/",
          "height": 629
        },
        "outputId": "7b5d881c-f844-438b-c9d4-dde1f2b43a18"
      },
      "execution_count": 21,
      "outputs": [
        {
          "output_type": "stream",
          "name": "stdout",
          "text": [
            "[1] loss: 23485439581.685, valid_loss: 12971599813.946\n",
            "[2] loss: 5142113209.191, valid_loss: 7420177656.094\n",
            "[3] loss: 4390979092.698, valid_loss: 6382673190.778\n",
            "[4] loss: 4262878686.230, valid_loss: 6497728301.799\n",
            "[5] loss: 4197789821.821, valid_loss: 6268955402.048\n",
            "[6] loss: 4157132562.519, valid_loss: 6213357706.527\n",
            "[7] loss: 4124182102.604, valid_loss: 6033838578.110\n",
            "[8] loss: 4099197815.285, valid_loss: 6477169621.513\n",
            "[9] loss: 4074465974.468, valid_loss: 6238174049.979\n",
            "[10] loss: 4043958292.153, valid_loss: 6321831559.617\n"
          ]
        },
        {
          "output_type": "display_data",
          "data": {
            "text/plain": [
              "<Figure size 640x480 with 1 Axes>"
            ],
            "image/png": "[encoded data removed]"
          },
          "metadata": {}
        }
      ]
    },
    {
      "cell_type": "code",
      "source": [
        "net = Net()\n",
        "optimizer = optim.Adam(net.parameters(), lr=0.01)\n",
        "criterion = MeanSquaredLogError()\n",
        "train()"
      ],
      "metadata": {
        "id": "5C3xI1hRuqZs",
        "colab": {
          "base_uri": "https://localhost:8080/",
          "height": 612
        },
        "outputId": "3f132fc0-e937-4b14-9283-e330a67312cf"
      },
      "execution_count": 22,
      "outputs": [
        {
          "output_type": "stream",
          "name": "stdout",
          "text": [
            "[1] loss: 20.740, valid_loss: 4.662\n",
            "[2] loss: 1.683, valid_loss: 1.406\n",
            "[3] loss: 0.539, valid_loss: 0.757\n",
            "[4] loss: 0.337, valid_loss: 0.566\n",
            "[5] loss: 0.280, valid_loss: 0.486\n",
            "[6] loss: 0.249, valid_loss: 0.440\n",
            "[7] loss: 0.225, valid_loss: 0.409\n",
            "[8] loss: 0.206, valid_loss: 0.385\n",
            "[9] loss: 0.189, valid_loss: 0.366\n",
            "[10] loss: 0.174, valid_loss: 0.348\n"
          ]
        },
        {
          "output_type": "display_data",
          "data": {
            "text/plain": [
              "<Figure size 640x480 with 1 Axes>"
            ],
            "image/png": "[encoded data removed]"
          },
          "metadata": {}
        }
      ]
    },
    {
      "cell_type": "markdown",
      "source": [
        "# Exercise 1: Re-train the model to improve its performance and evaluate it on the test set"
      ],
      "metadata": {
        "id": "QfOWVeIVIFpn"
      }
    },
    {
      "cell_type": "code",
      "source": [
        "# Train the model\n",
        "\n",
        "train(100)\n"
      ],
      "metadata": {
        "id": "6E2evm_HDNzv",
        "colab": {
          "base_uri": "https://localhost:8080/",
          "height": 1000
        },
        "outputId": "b4db4dc9-e71f-48a3-f5d5-d80881fa341e"
      },
      "execution_count": 23,
      "outputs": [
        {
          "output_type": "stream",
          "name": "stdout",
          "text": [
            "[1] loss: 0.160, valid_loss: 0.329\n",
            "[2] loss: 0.147, valid_loss: 0.305\n",
            "[3] loss: 0.136, valid_loss: 0.283\n",
            "[4] loss: 0.127, valid_loss: 0.258\n",
            "[5] loss: 0.119, valid_loss: 0.236\n",
            "[6] loss: 0.112, valid_loss: 0.214\n",
            "[7] loss: 0.107, valid_loss: 0.199\n",
            "[8] loss: 0.103, valid_loss: 0.184\n",
            "[9] loss: 0.100, valid_loss: 0.176\n",
            "[10] loss: 0.098, valid_loss: 0.170\n",
            "[11] loss: 0.096, valid_loss: 0.164\n",
            "[12] loss: 0.095, valid_loss: 0.159\n",
            "[13] loss: 0.094, valid_loss: 0.154\n",
            "[14] loss: 0.093, valid_loss: 0.153\n",
            "[15] loss: 0.092, valid_loss: 0.149\n",
            "[16] loss: 0.091, valid_loss: 0.146\n",
            "[17] loss: 0.091, valid_loss: 0.148\n",
            "[18] loss: 0.090, valid_loss: 0.144\n",
            "[19] loss: 0.089, valid_loss: 0.142\n",
            "[20] loss: 0.089, valid_loss: 0.141\n",
            "[21] loss: 0.088, valid_loss: 0.144\n",
            "[22] loss: 0.088, valid_loss: 0.143\n",
            "[23] loss: 0.088, valid_loss: 0.136\n",
            "[24] loss: 0.087, valid_loss: 0.130\n",
            "[25] loss: 0.087, valid_loss: 0.134\n",
            "[26] loss: 0.087, valid_loss: 0.137\n",
            "[27] loss: 0.087, valid_loss: 0.131\n",
            "[28] loss: 0.086, valid_loss: 0.132\n",
            "[29] loss: 0.086, valid_loss: 0.133\n",
            "[30] loss: 0.086, valid_loss: 0.127\n",
            "[31] loss: 0.086, valid_loss: 0.129\n",
            "[32] loss: 0.085, valid_loss: 0.133\n",
            "[33] loss: 0.085, valid_loss: 0.129\n",
            "[34] loss: 0.085, valid_loss: 0.132\n",
            "[35] loss: 0.085, valid_loss: 0.126\n",
            "[36] loss: 0.085, valid_loss: 0.128\n",
            "[37] loss: 0.085, valid_loss: 0.124\n",
            "[38] loss: 0.084, valid_loss: 0.127\n",
            "[39] loss: 0.084, valid_loss: 0.126\n",
            "[40] loss: 0.084, valid_loss: 0.131\n",
            "[41] loss: 0.084, valid_loss: 0.130\n",
            "[42] loss: 0.084, valid_loss: 0.126\n",
            "[43] loss: 0.084, valid_loss: 0.123\n",
            "[44] loss: 0.084, valid_loss: 0.124\n",
            "[45] loss: 0.084, valid_loss: 0.126\n",
            "[46] loss: 0.084, valid_loss: 0.120\n",
            "[47] loss: 0.084, valid_loss: 0.122\n",
            "[48] loss: 0.083, valid_loss: 0.129\n",
            "[49] loss: 0.084, valid_loss: 0.120\n",
            "[50] loss: 0.083, valid_loss: 0.127\n",
            "[51] loss: 0.083, valid_loss: 0.129\n",
            "[52] loss: 0.083, valid_loss: 0.122\n",
            "[53] loss: 0.083, valid_loss: 0.125\n",
            "[54] loss: 0.083, valid_loss: 0.122\n",
            "[55] loss: 0.083, valid_loss: 0.127\n",
            "[56] loss: 0.083, valid_loss: 0.123\n",
            "[57] loss: 0.083, valid_loss: 0.121\n",
            "[58] loss: 0.083, valid_loss: 0.124\n",
            "[59] loss: 0.083, valid_loss: 0.122\n",
            "[60] loss: 0.082, valid_loss: 0.119\n",
            "[61] loss: 0.083, valid_loss: 0.127\n",
            "[62] loss: 0.083, valid_loss: 0.122\n",
            "[63] loss: 0.083, valid_loss: 0.117\n",
            "[64] loss: 0.083, valid_loss: 0.126\n",
            "[65] loss: 0.083, valid_loss: 0.122\n",
            "[66] loss: 0.082, valid_loss: 0.123\n",
            "[67] loss: 0.083, valid_loss: 0.124\n",
            "[68] loss: 0.082, valid_loss: 0.121\n",
            "[69] loss: 0.082, valid_loss: 0.120\n",
            "[70] loss: 0.081, valid_loss: 0.122\n",
            "[71] loss: 0.081, valid_loss: 0.122\n",
            "[72] loss: 0.081, valid_loss: 0.125\n",
            "[73] loss: 0.081, valid_loss: 0.127\n",
            "[74] loss: 0.081, valid_loss: 0.124\n",
            "[75] loss: 0.080, valid_loss: 0.122\n",
            "[76] loss: 0.080, valid_loss: 0.123\n",
            "[77] loss: 0.080, valid_loss: 0.118\n",
            "[78] loss: 0.080, valid_loss: 0.119\n",
            "[79] loss: 0.080, valid_loss: 0.124\n",
            "[80] loss: 0.080, valid_loss: 0.124\n",
            "[81] loss: 0.080, valid_loss: 0.115\n",
            "[82] loss: 0.080, valid_loss: 0.120\n",
            "[83] loss: 0.080, valid_loss: 0.119\n",
            "[84] loss: 0.079, valid_loss: 0.123\n",
            "[85] loss: 0.080, valid_loss: 0.118\n",
            "[86] loss: 0.079, valid_loss: 0.125\n",
            "[87] loss: 0.079, valid_loss: 0.114\n",
            "[88] loss: 0.079, valid_loss: 0.122\n",
            "[89] loss: 0.078, valid_loss: 0.124\n",
            "[90] loss: 0.077, valid_loss: 0.124\n",
            "[91] loss: 0.077, valid_loss: 0.123\n",
            "[92] loss: 0.077, valid_loss: 0.125\n",
            "[93] loss: 0.075, valid_loss: 0.122\n",
            "[94] loss: 0.075, valid_loss: 0.129\n",
            "[95] loss: 0.074, valid_loss: 0.126\n",
            "[96] loss: 0.074, valid_loss: 0.126\n",
            "[97] loss: 0.073, valid_loss: 0.129\n",
            "[98] loss: 0.073, valid_loss: 0.125\n",
            "[99] loss: 0.072, valid_loss: 0.131\n",
            "[100] loss: 0.071, valid_loss: 0.128\n"
          ]
        },
        {
          "output_type": "display_data",
          "data": {
            "text/plain": [
              "<Figure size 640x480 with 1 Axes>"
            ],
            "image/png": "[encoded data removed]"
          },
          "metadata": {}
        }
      ]
    },
    {
      "cell_type": "code",
      "source": [
        "# predict on the test set \n",
        "\n",
        "gt_test = []\n",
        "preds_test = []\n",
        "\n",
        "for i, data in enumerate(test_loader):\n",
        "  with torch.no_grad():\n",
        "    input, gt = data\n",
        "    gt_test.append(gt.numpy())\n",
        "    pred = net(input)\n",
        "    preds_test.append(pred.numpy()[0][0])\n",
        "\n",
        "gt_test = np.array(gt_test)\n",
        "preds_test = np.array(preds_test)"
      ],
      "metadata": {
        "id": "P-L3rgSEIQqr"
      },
      "execution_count": 26,
      "outputs": []
    },
    {
      "cell_type": "code",
      "source": [
        "# Compare the results with the ground truth\n",
        "\n",
        "error = np.abs(gt_test - preds_test)\n",
        "\n",
        "error\n"
      ],
      "metadata": {
        "id": "qg-Fk07fISiM",
        "colab": {
          "base_uri": "https://localhost:8080/"
        },
        "outputId": "46aa5a6f-6905-4a2f-9a27-dd7cf96d3c7e"
      },
      "execution_count": 27,
      "outputs": [
        {
          "output_type": "execute_result",
          "data": {
            "text/plain": [
              "array([[ 15376.031 , 172978.73  ,  76355.03  , ..., 259562.3   ,\n",
              "        229845.06  , 121659.72  ],\n",
              "       [183576.03  ,   4778.7344,  91844.97  , ...,  91362.3   ,\n",
              "         61645.055 , 289859.72  ],\n",
              "       [ 89576.03  ,  98778.734 ,   2155.0312, ..., 185362.3   ,\n",
              "        155645.06  , 195859.72  ],\n",
              "       ...,\n",
              "       [298076.03  , 109721.266 , 206344.97  , ...,  23137.703 ,\n",
              "         52854.945 , 404359.72  ],\n",
              "       [197576.03  ,   9221.266 , 105844.97  , ...,  77362.3   ,\n",
              "         47645.055 , 303859.72  ],\n",
              "       [139924.97  , 328279.75  , 231656.03  , ..., 414863.3   ,\n",
              "        385146.06  ,  33641.28  ]], dtype=float32)"
            ]
          },
          "metadata": {},
          "execution_count": 27
        }
      ]
    },
    {
      "cell_type": "code",
      "source": [
        "error_pct = (error / gt_test) * 100\n",
        "error_pct, error_pct.mean()"
      ],
      "metadata": {
        "colab": {
          "base_uri": "https://localhost:8080/"
        },
        "id": "im5FcILm6LVH",
        "outputId": "fe36e2d4-8cfe-4af0-ee31-d8732bdb53a8"
      },
      "execution_count": 28,
      "outputs": [
        {
          "output_type": "execute_result",
          "data": {
            "text/plain": [
              "(array([[  4.4606996,  50.182404 ,  22.151154 , ...,  75.30093  ,\n",
              "          66.67974  ,  35.294376 ],\n",
              "        [104.00908  ,   2.707498 ,  52.03681  , ...,  51.763344 ,\n",
              "          34.926376 , 164.22647  ],\n",
              "        [ 33.114986 ,  36.517094 ,   0.7966843, ...,  68.5258   ,\n",
              "          57.53977  ,  72.40655  ],\n",
              "        ...,\n",
              "        [480.76776  , 176.96977  , 332.81445  , ...,  37.31888  ,\n",
              "          85.249916 , 652.1931   ],\n",
              "        [121.58525  ,   5.674625 ,  65.13537  , ...,  47.607567 ,\n",
              "          29.320034 , 186.9906   ],\n",
              "        [ 27.984938 ,  65.65582  ,  46.331112 , ...,  82.972496 ,\n",
              "          77.02906  ,   6.728243 ]], dtype=float32),\n",
              " 69.10625)"
            ]
          },
          "metadata": {},
          "execution_count": 28
        }
      ]
    }
  ]
}