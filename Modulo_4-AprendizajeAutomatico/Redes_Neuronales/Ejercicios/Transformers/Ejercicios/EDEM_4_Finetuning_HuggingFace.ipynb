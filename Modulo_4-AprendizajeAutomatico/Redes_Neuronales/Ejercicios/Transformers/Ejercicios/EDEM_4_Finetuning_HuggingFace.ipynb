{
  "cells": [
    {
      "cell_type": "markdown",
      "metadata": {
        "id": "qHl1XHz2nyCA"
      },
      "source": [
        "# Clasificador de texto con modelos *transformers*\n",
        "Implementemos un clasificador usando un modelo BERT haciendo *fine-tuning* sobre un conjunto de análisis de sentimiento en Twitter.  \n",
        "\n",
        "Usamos la librería `transformers` en su implementación para `Tensorflow`"
      ]
    },
    {
      "cell_type": "code",
      "execution_count": null,
      "metadata": {
        "id": "TPrJ8EbHnyCD"
      },
      "outputs": [],
      "source": [
        "#instalamos la librería\n",
        "!pip install transformers"
      ]
    },
    {
      "cell_type": "code",
      "execution_count": null,
      "metadata": {
        "id": "0NKbei-vnyCE"
      },
      "outputs": [],
      "source": [
        "import pandas as pd\n",
        "pd.options.display.max_colwidth = None\n",
        "import numpy as np\n",
        "from transformers import AutoTokenizer, AutoConfig, TFAutoModelForSequenceClassification\n",
        "import tensorflow as tf\n",
        "\n",
        "from sklearn.model_selection import train_test_split"
      ]
    },
    {
      "cell_type": "code",
      "execution_count": null,
      "metadata": {
        "id": "pVOc722InyCF"
      },
      "outputs": [],
      "source": [
        "#modelo a utilizar\n",
        "nombre_modelo = 'bert-base-multilingual-uncased'"
      ]
    },
    {
      "cell_type": "code",
      "execution_count": null,
      "metadata": {
        "id": "DDhW-9q4nyCF"
      },
      "outputs": [],
      "source": [
        "# Leemos los datos\n",
        "df = pd.read_csv('https://idal.uv.es/tweets_all.csv')\n",
        "\n",
        "#seleccionamos columnas de interés\n",
        "df = df[['content', 'polarity']]\n",
        "\n",
        "#dejamos polaridades definidas\n",
        "df = df[(df['polarity']=='P') | (df['polarity']=='N')]\n",
        "\n",
        "df.head()"
      ]
    },
    {
      "cell_type": "code",
      "execution_count": null,
      "metadata": {
        "id": "1ByN-X3-nyCF"
      },
      "outputs": [],
      "source": [
        "df.info()"
      ]
    },
    {
      "cell_type": "markdown",
      "metadata": {
        "id": "1oJBab-0nyCG"
      },
      "source": [
        "## Limpieza de texto\n",
        "Realizamos una pequeña limpieza de texto eliminando menciones, URL y signos de puntuación"
      ]
    },
    {
      "cell_type": "code",
      "execution_count": null,
      "metadata": {
        "id": "NTi-xpdFnyCG"
      },
      "outputs": [],
      "source": [
        "import re, string\n",
        "\n",
        "pattern1 = re.compile(r'@[\\w_]+') #elimina menciones\n",
        "pattern2 = re.compile(r'https?://[\\w_./]+') #elimina URL\n",
        "pattern4 = re.compile('[{}]+'.format(re.escape(string.punctuation))) #elimina símbolos de puntuación\n",
        "\n",
        "def clean_text(text):\n",
        "    \"\"\"Limpiamos las menciones, URL y hashtags del texto. Luego \n",
        "    quitamos signos de puntuación\"\"\"\n",
        "    text = pattern1.sub('mención', text)\n",
        "    text = pattern2.sub('URL', text)\n",
        "    text = pattern4.sub(' ', text)\n",
        "    \n",
        "    return text"
      ]
    },
    {
      "cell_type": "markdown",
      "metadata": {
        "id": "WQmRhe56nyCG"
      },
      "source": [
        "Vemos un ejemlo de limpieza en el primer Tweet"
      ]
    },
    {
      "cell_type": "code",
      "execution_count": null,
      "metadata": {
        "id": "8On_2RwpnyCG"
      },
      "outputs": [],
      "source": [
        "df['content'].iloc[0]"
      ]
    },
    {
      "cell_type": "code",
      "execution_count": null,
      "metadata": {
        "id": "zyTcS4RtnyCH"
      },
      "outputs": [],
      "source": [
        "clean_text(df['content'].iloc[0])"
      ]
    },
    {
      "cell_type": "markdown",
      "metadata": {
        "id": "fJPRRq9UnyCH"
      },
      "source": [
        "## Preparemos el conjunto de datos\n",
        "Aplicamos la función de limpieza a todo el dataset.  \n",
        "Separamos en conjuntos de entrenamiento y validación (test). No separamos un conjunto real de test.\n",
        "Codificamos las etiquetas de salida como enteros."
      ]
    },
    {
      "cell_type": "code",
      "execution_count": null,
      "metadata": {
        "id": "-uIFIs28nyCH"
      },
      "outputs": [],
      "source": [
        "#limpiamos texto y quitamos tweets que se han quedado vacíos\n",
        "df.content=df.content.apply(clean_text)\n",
        "df = df[df['content']!='']\n",
        "#el conjunto de salida es la polaridad, hay que convertir a binario\n",
        "#codificamos 'P' como 1 y 'N' se queda como 0\n",
        "Y=(df.polarity=='P').values*1\n",
        "\n",
        "#Separamos entrenamiento y test\n",
        "#realmente habría que sacar los tokens sólo del conjunto de entrenamiento...\n",
        "X_train_tweets, X_test_tweets, Y_train, Y_test = train_test_split(\n",
        "    df.content,\n",
        "    Y, \n",
        "    test_size = 0.3,\n",
        "    random_state = 0)\n",
        "print(X_train_tweets.shape,Y_train.shape)\n",
        "print(X_test_tweets.shape,Y_test.shape)"
      ]
    },
    {
      "cell_type": "code",
      "execution_count": null,
      "metadata": {
        "id": "7WUr9jRlnyCH"
      },
      "outputs": [],
      "source": [
        "#Estimamos la longitud máxima de documento\n",
        "\n",
        "MAX_SEQUENCE_LENGTH=np.max([len(l.split()) for l in X_train_tweets])\n",
        "print('longitud máxima: {}'.format(MAX_SEQUENCE_LENGTH))\n"
      ]
    },
    {
      "cell_type": "markdown",
      "metadata": {
        "id": "w_fYK_KxnyCI"
      },
      "source": [
        "## Preparamos la entrada para el modelo  \n",
        "Los modelos de `transformers` utilizan 3 vectores para cada entrada:  \n",
        " - 'input_ids': ID del vocabulario para hacer un embedding de los tokens  \n",
        " - 'token_type_ids': ID de la frase (en aplicaciones con 2 frases de entrada)\n",
        " - 'attention_mask': máscara de atención de los tokens  \n",
        "Usamos una función de tokenizado específica del modelo para obtener estos vectores"
      ]
    },
    {
      "cell_type": "code",
      "execution_count": null,
      "metadata": {
        "id": "PnLkf40tnyCI"
      },
      "outputs": [],
      "source": [
        "#Tokenizamos y codificamos como Dataset\n",
        "tokenizer = AutoTokenizer.from_pretrained(nombre_modelo)\n",
        "train_encodings = tokenizer(X_train_tweets.to_list(), truncation=True, padding=True, return_tensors=\"tf\")\n"
      ]
    },
    {
      "cell_type": "code",
      "execution_count": null,
      "metadata": {
        "id": "zSuHh62QnyCI"
      },
      "outputs": [],
      "source": [
        "train_encodings['input_ids'].shape"
      ]
    },
    {
      "cell_type": "markdown",
      "metadata": {
        "id": "gNT2h6dWnyCJ"
      },
      "source": [
        "La longitud máxima es mayor que el número de palabras (por el tokenizado *WordPiece*)"
      ]
    },
    {
      "cell_type": "markdown",
      "metadata": {
        "id": "NsywXL7SnyCJ"
      },
      "source": [
        "Podemos ver los tokens que ha generado y decodificar de nuevo cada documento"
      ]
    },
    {
      "cell_type": "code",
      "execution_count": null,
      "metadata": {
        "id": "-FIkdCp5nyCJ"
      },
      "outputs": [],
      "source": [
        "train_encodings.keys()"
      ]
    },
    {
      "cell_type": "markdown",
      "metadata": {
        "id": "r4JvwAIVnyCJ"
      },
      "source": [
        "Tomamos como ejemplo el primer tweet"
      ]
    },
    {
      "cell_type": "code",
      "execution_count": null,
      "metadata": {
        "id": "KqZvZNN8nyCJ"
      },
      "outputs": [],
      "source": [
        "X_train_tweets.to_list()[0]"
      ]
    },
    {
      "cell_type": "code",
      "execution_count": null,
      "metadata": {
        "id": "YEP1l2uTnyCK"
      },
      "outputs": [],
      "source": [
        "train_encodings['input_ids'][0]"
      ]
    },
    {
      "cell_type": "code",
      "execution_count": null,
      "metadata": {
        "id": "V_CRJUecnyCK"
      },
      "outputs": [],
      "source": [
        "train_encodings['attention_mask'][0]"
      ]
    },
    {
      "cell_type": "code",
      "execution_count": null,
      "metadata": {
        "id": "oVe7guUYnyCK"
      },
      "outputs": [],
      "source": [
        "print(tokenizer.convert_ids_to_tokens(train_encodings['input_ids'][0]))"
      ]
    },
    {
      "cell_type": "markdown",
      "metadata": {
        "id": "kA4c2cwZnyCK"
      },
      "source": [
        "### Ejercicio\n",
        "Tokeniza el conjunto de TEST utilizando el mismo modelo y las mismas características (longitud máxima) del conjunto de TRAIN.  \n",
        "Define en la variable `MAX_SEQUENCE_LENGTH` la máxima longitud de entrada a usar."
      ]
    },
    {
      "cell_type": "code",
      "execution_count": null,
      "metadata": {
        "id": "Lt5NgraAnyCL"
      },
      "outputs": [],
      "source": [
        "## completar\n"
      ]
    },
    {
      "cell_type": "markdown",
      "metadata": {
        "id": "ozJe3bTZnyCL"
      },
      "source": [
        "Para pasar estos datos como entrada al modelo los convertimos en un `Dataset` de Tensorflow que es un objeto iterable que devuelve un diccionario con las muestras de cada iteración (o batch)"
      ]
    },
    {
      "cell_type": "code",
      "execution_count": null,
      "metadata": {
        "id": "QICifFpqnyCL"
      },
      "outputs": [],
      "source": [
        "train_dataset = tf.data.Dataset.from_tensor_slices((\n",
        "    dict(train_encodings),\n",
        "    Y_train\n",
        "))\n",
        "test_dataset = tf.data.Dataset.from_tensor_slices((\n",
        "    dict(test_encodings),\n",
        "    Y_test\n",
        "))"
      ]
    },
    {
      "cell_type": "code",
      "execution_count": null,
      "metadata": {
        "id": "0vr_9ZT6nyCM"
      },
      "outputs": [],
      "source": [
        "train_dataset"
      ]
    },
    {
      "cell_type": "markdown",
      "metadata": {
        "id": "cj8_lHOMnyCM"
      },
      "source": [
        "# Fine-tuning de BERT\n",
        "Ajustamos el modelo de BERT a nuestro problema de clasificación"
      ]
    },
    {
      "cell_type": "code",
      "execution_count": null,
      "metadata": {
        "id": "0C5OplwrnyCN"
      },
      "outputs": [],
      "source": [
        "#definimos modelo de clasificación\n",
        "id2label = {0: \"Neg\", 1: \"Pos\"}\n",
        "label2id = {val: key for key, val in id2label.items()}\n",
        "config = AutoConfig.from_pretrained(\n",
        "    nombre_modelo, hidden_dropout_prob=0.1, num_labels=2, id2label=id2label, label2id=label2id)\n",
        "model = TFAutoModelForSequenceClassification.from_pretrained(\n",
        "    nombre_modelo, config=config)"
      ]
    },
    {
      "cell_type": "code",
      "execution_count": null,
      "metadata": {
        "id": "4-b_B8wxnyCO"
      },
      "outputs": [],
      "source": [
        "# recommended learning rate for Adam 5e-5, 3e-5, 2e-5\n",
        "learning_rate = 2e-5\n",
        "\n",
        "optimizer = tf.keras.optimizers.Adam(learning_rate=learning_rate, epsilon=1e-08)\n",
        "\n",
        "loss = tf.keras.losses.SparseCategoricalCrossentropy(from_logits=True)\n",
        "metric = tf.keras.metrics.SparseCategoricalAccuracy('accuracy')\n",
        "\n",
        "model.compile(optimizer=optimizer, loss=loss, metrics=[metric])\n",
        "\n",
        "model.summary()"
      ]
    },
    {
      "cell_type": "markdown",
      "metadata": {
        "id": "gwBdoXRHnyCO"
      },
      "source": [
        "### Pregunta\n",
        "¿de dónde sale el nº de parámetros de la última capa?"
      ]
    },
    {
      "cell_type": "code",
      "execution_count": null,
      "metadata": {
        "id": "EAd8-_ylnyCO"
      },
      "outputs": [],
      "source": []
    },
    {
      "cell_type": "code",
      "execution_count": null,
      "metadata": {
        "id": "GP5xw_ZHnyCP"
      },
      "outputs": [],
      "source": [
        "#Entrenamos\n",
        "batch_size = 8\n",
        "n_epochs = 5\n",
        "history=model.fit(train_dataset.batch(batch_size),\n",
        "    epochs=n_epochs,\n",
        "    batch_size=batch_size,\n",
        "    validation_data=test_dataset.batch(batch_size))"
      ]
    },
    {
      "cell_type": "code",
      "execution_count": null,
      "metadata": {
        "id": "UhGmW8bUnyCP"
      },
      "outputs": [],
      "source": [
        "import matplotlib.pyplot as plt\n",
        "%matplotlib inline\n",
        "\n",
        "# Plot training & validation accuracy values\n",
        "plt.plot(history.history['accuracy'])\n",
        "plt.plot(history.history['val_accuracy'])\n",
        "plt.title('Fine-tuning BERT')\n",
        "plt.ylabel('Accuracy')\n",
        "plt.xlabel('Epoch')\n",
        "plt.legend(['Train', 'Test'], loc='upper left')\n",
        "plt.show()"
      ]
    },
    {
      "cell_type": "code",
      "execution_count": null,
      "metadata": {
        "id": "xCRK8jRAnyCQ"
      },
      "outputs": [],
      "source": [
        "score,acc = model.evaluate(test_dataset.batch(batch_size), verbose = 2, batch_size = batch_size)\n",
        "print(\"score: %.2f\" % (score))\n",
        "print(\"acc: %.2f\" % (acc))"
      ]
    },
    {
      "cell_type": "code",
      "execution_count": null,
      "metadata": {
        "id": "Uuhkv9qSnyCQ"
      },
      "outputs": [],
      "source": [
        "#obtenemos las predicciones del modelo\n",
        "predict=model.predict(test_dataset.batch(batch_size))"
      ]
    },
    {
      "cell_type": "code",
      "execution_count": null,
      "metadata": {
        "id": "L8V3impZnyCQ"
      },
      "outputs": [],
      "source": [
        "predict.keys()"
      ]
    },
    {
      "cell_type": "code",
      "execution_count": null,
      "metadata": {
        "id": "ZQwB-sIunyCR"
      },
      "outputs": [],
      "source": [
        "predict.logits.shape"
      ]
    },
    {
      "cell_type": "code",
      "execution_count": null,
      "metadata": {
        "id": "xEzeGPjunyCR"
      },
      "outputs": [],
      "source": [
        "np.argmax(predict.logits, 1)"
      ]
    },
    {
      "cell_type": "code",
      "execution_count": null,
      "metadata": {
        "id": "POaSFffFnyCS"
      },
      "outputs": [],
      "source": [
        "#El modelo de Sentence Classification de Transormers siempre devuelve en la última capa los logits de cada clase\n",
        "#el núm. de clases se especifica en la configuración del modelo\n",
        "\n",
        "Y_test_label = list(map(lambda l: model.config.id2label[l], Y_test))\n",
        "predict_label = list(map(lambda l: model.config.id2label[l], np.argmax(predict.logits, 1)))"
      ]
    },
    {
      "cell_type": "code",
      "execution_count": null,
      "metadata": {
        "id": "A3tOypgYnyCS"
      },
      "outputs": [],
      "source": [
        "from sklearn.metrics import classification_report\n",
        "\n",
        "print(classification_report(Y_test_label, predict_label))"
      ]
    },
    {
      "cell_type": "code",
      "execution_count": null,
      "metadata": {
        "id": "1_1LbvRrnyCS"
      },
      "outputs": [],
      "source": [
        "\n",
        "#Necesitamos la probabilidad sólo para calcular el AUC o ajustar el umbral\n",
        "predict_proba = tf.nn.softmax(predict.logits)\n",
        "\n",
        "from sklearn.metrics import roc_auc_score\n",
        "\n",
        "roc_auc_score(Y_test, predict_proba[:,1])"
      ]
    },
    {
      "cell_type": "code",
      "execution_count": null,
      "metadata": {
        "id": "O2NNKkk0nyCT"
      },
      "outputs": [],
      "source": [
        "from sklearn.metrics import RocCurveDisplay\n",
        "\n",
        "RocCurveDisplay.from_predictions(\n",
        "    Y_test,\n",
        "    predict_proba[:,1],\n",
        "    name=\"Positive class\",\n",
        "    color=\"darkorange\",\n",
        ")\n",
        "plt.plot([0, 1], [0, 1], \"k--\", label=\"chance level (AUC = 0.5)\")\n",
        "plt.axis(\"square\")\n",
        "plt.xlabel(\"False Positive Rate\")\n",
        "plt.ylabel(\"True Positive Rate\")\n",
        "plt.title(\"AUC curve\")\n",
        "plt.legend()\n",
        "plt.show()"
      ]
    },
    {
      "cell_type": "markdown",
      "metadata": {
        "id": "9xBgR3NnnyCT"
      },
      "source": [
        "## Fine-tuning en Keras\n",
        "Usamos la primera capa del modelo BERT de Keras y sobre la salida entrenamos un clasificador binario en Keras. De esta manera podríamos añadir más capas ocultas entre la salida del encoder BERT y la capa de salida del clasificador.  \n",
        "Si usamos la primera salida del modelo BERT tenemos los `last_hidden_state` de todos los tokens de entrada. Por tanto tenemos un tensor de `MAX_SEQUENCE_LENGTH` x 768 valores.   \n",
        "Si usamos la segunda salida del modelo BERT tenemos el `pooler_output` del hidden_state del primer token (CLS). Por tanto tenemos un vector de 768 valores.  \n",
        "Replicamos el modelo que utiliza TFBertForSequenceClassification (https://github.com/huggingface/transformers/blob/v4.29.1/src/transformers/models/bert/modeling_tf_bert.py#L1601):  \n",
        " - Después del pooler_output pasamos por un dropout para generar los logits.  \n",
        " - Los logits entran a una capa densa con activación sigmoide o softmax según el clasificador.  "
      ]
    },
    {
      "cell_type": "markdown",
      "metadata": {
        "id": "nKSLd9G-nyCT"
      },
      "source": [
        "### Usando la salida `pooler_output`"
      ]
    },
    {
      "cell_type": "code",
      "execution_count": null,
      "metadata": {
        "id": "MoVnsdlVnyCT"
      },
      "outputs": [],
      "source": [
        "from tensorflow.keras.layers import Input, Dropout, Dense\n",
        "from tensorflow.keras.models import Model\n",
        "from tensorflow.keras.optimizers import Adam\n",
        "from tensorflow.keras.callbacks import EarlyStopping\n",
        "from tensorflow.keras.initializers import TruncatedNormal\n",
        "from tensorflow.keras.losses import CategoricalCrossentropy\n",
        "from tensorflow.keras.metrics import CategoricalAccuracy\n",
        "from transformers import TFAutoModel\n",
        "\n",
        "#######################################\n",
        "### --------- Setup BERT ---------- ###\n",
        "\n",
        "\n",
        "# Load transformers config and set output_hidden_states to False\n",
        "config = AutoConfig.from_pretrained(nombre_modelo)\n",
        "config.output_hidden_states = False\n",
        "\n",
        "# Load the Transformers BERT model\n",
        "transformer_model = TFAutoModel.from_pretrained(nombre_modelo, config = config)\n",
        "\n",
        "#######################################\n",
        "### ------- Build the model ------- ###\n",
        "# TF Keras documentation: https://www.tensorflow.org/api_docs/python/tf/keras/Model\n",
        "\n",
        "# Build your model input\n",
        "input_ids = Input(shape=(MAX_SEQUENCE_LENGTH,), name='input_ids', dtype='int32')\n",
        "attention_mask = Input(shape=(MAX_SEQUENCE_LENGTH,), name='attention_mask', dtype='int32') \n",
        "# Load the Transformers BERT model as a layer in a Keras model\n",
        "pooled_output = transformer_model(input_ids, attention_mask)[1]  # (bs, dim)\n",
        "logits = Dropout(0.1)(pooled_output)  # (bs, dim)\n",
        "# Then build your model output\n",
        "output = Dense(units=1,\n",
        "               kernel_initializer=TruncatedNormal(stddev=config.initializer_range),\n",
        "               activation=\"sigmoid\",\n",
        "               name='clases')(logits)\n",
        "# And combine it all in a model object\n",
        "model = Model(inputs=[input_ids, attention_mask], outputs=output, name='BERT_BinaryClass')\n",
        "# Take a look at the model\n",
        "model.summary()"
      ]
    },
    {
      "cell_type": "code",
      "execution_count": null,
      "metadata": {
        "id": "bB6_jTTOnyCU"
      },
      "outputs": [],
      "source": [
        "optimizer = tf.keras.optimizers.Adam(learning_rate=1e-5, epsilon=1e-08)\n",
        "model.compile(loss='binary_crossentropy', optimizer=optimizer, metrics=['accuracy'])\n",
        "history=model.fit(train_dataset.batch(batch_size), epochs=n_epochs, batch_size=batch_size, validation_data=test_dataset.batch(batch_size))"
      ]
    },
    {
      "cell_type": "code",
      "execution_count": null,
      "metadata": {
        "id": "6hA4JaAAnyCU"
      },
      "outputs": [],
      "source": [
        "plt.plot(history.history['accuracy'])\n",
        "plt.plot(history.history['val_accuracy'])\n",
        "plt.title('Fine-tuning Keras')\n",
        "plt.ylabel('Accuracy')\n",
        "plt.xlabel('Epoch')\n",
        "plt.legend(['Train', 'Test'], loc='upper left')\n",
        "plt.show()"
      ]
    },
    {
      "cell_type": "code",
      "execution_count": null,
      "metadata": {
        "id": "MnncxpOfnyCU"
      },
      "outputs": [],
      "source": [
        "predict = model.predict(test_dataset.batch(batch_size))\n",
        "predict_label = list(map(lambda l: id2label[l], predict.ravel()>0.5))\n",
        "\n",
        "print(classification_report(Y_test_label, predict_label))"
      ]
    },
    {
      "cell_type": "markdown",
      "metadata": {
        "id": "hRAmF1a0nyCU"
      },
      "source": [
        "### Usando el embedding de `[CLS]`"
      ]
    },
    {
      "cell_type": "code",
      "execution_count": null,
      "metadata": {
        "id": "v_HZwN6RnyCU"
      },
      "outputs": [],
      "source": [
        "from tensorflow.keras.layers import Input, Dropout, Dense\n",
        "from tensorflow.keras.models import Model\n",
        "from tensorflow.keras.optimizers import Adam\n",
        "from tensorflow.keras.callbacks import EarlyStopping\n",
        "from tensorflow.keras.initializers import TruncatedNormal\n",
        "from tensorflow.keras.losses import CategoricalCrossentropy\n",
        "from tensorflow.keras.metrics import CategoricalAccuracy\n",
        "from transformers import TFAutoModel\n",
        "\n",
        "#######################################\n",
        "### --------- Setup BERT ---------- ###\n",
        "\n",
        "\n",
        "# Load transformers config and set output_hidden_states to False\n",
        "config = AutoConfig.from_pretrained(nombre_modelo)\n",
        "config.output_hidden_states = False\n",
        "\n",
        "# Load the Transformers BERT model\n",
        "transformer_model = TFAutoModel.from_pretrained(nombre_modelo, config = config)\n",
        "\n",
        "#######################################\n",
        "### ------- Build the model ------- ###\n",
        "# TF Keras documentation: https://www.tensorflow.org/api_docs/python/tf/keras/Model\n",
        "\n",
        "# Build your model input\n",
        "input_ids = Input(shape=(MAX_SEQUENCE_LENGTH,), name='input_ids', dtype='int32')\n",
        "attention_mask = Input(shape=(MAX_SEQUENCE_LENGTH,), name='attention_mask', dtype='int32') \n",
        "# Load the Transformers BERT model as a layer in a Keras model\n",
        "last_hidden_state = transformer_model(input_ids, attention_mask)[0]  # (bs, seq, dim)\n",
        "logits = Dropout(0.1)(last_hidden_state[:,0,:])  # (bs, dim)\n",
        "# Then build your model output\n",
        "output = Dense(units=1,\n",
        "               kernel_initializer=TruncatedNormal(stddev=config.initializer_range),\n",
        "               activation=\"sigmoid\",\n",
        "               name='clases')(logits)\n",
        "# And combine it all in a model object\n",
        "model = Model(inputs=[input_ids, attention_mask], outputs=output, name='BERT_BinaryClass')\n",
        "# Take a look at the model\n",
        "model.summary()"
      ]
    },
    {
      "cell_type": "code",
      "execution_count": null,
      "metadata": {
        "id": "3yD_rFDnnyCV"
      },
      "outputs": [],
      "source": [
        "optimizer = tf.keras.optimizers.Adam(learning_rate=1e-5, epsilon=1e-08)\n",
        "model.compile(loss='binary_crossentropy', optimizer=optimizer, metrics=['accuracy'])\n",
        "history=model.fit(train_dataset.batch(batch_size), epochs=n_epochs, batch_size=batch_size, validation_data=test_dataset.batch(batch_size))"
      ]
    },
    {
      "cell_type": "code",
      "execution_count": null,
      "metadata": {
        "id": "UAQbu8-KnyCV"
      },
      "outputs": [],
      "source": [
        "plt.plot(history.history['accuracy'])\n",
        "plt.plot(history.history['val_accuracy'])\n",
        "plt.title('Fine-tuning Keras')\n",
        "plt.ylabel('Accuracy')\n",
        "plt.xlabel('Epoch')\n",
        "plt.legend(['Train', 'Test'], loc='upper left')\n",
        "plt.show()"
      ]
    },
    {
      "cell_type": "code",
      "execution_count": null,
      "metadata": {
        "id": "LBp8iCGvnyCV"
      },
      "outputs": [],
      "source": [
        "predict = model.predict(test_dataset.batch(batch_size))\n",
        "predict_label = list(map(lambda l: id2label[l], predict.ravel()>0.5))\n",
        "\n",
        "print(classification_report(Y_test_label, predict_label))"
      ]
    },
    {
      "cell_type": "markdown",
      "metadata": {
        "id": "lmHoh4B9nyCW"
      },
      "source": [
        "## Uso del modelo BERT pre-entrenado para generar sentence embeddings\n",
        "Usamos el modelo BERT pre-entrenado (sin hacer fine-tuning) para generar los embeddings de los Tweets. Luego entrenamos un clasificador binario sobre nuestro corpus.  \n",
        "Probamos con la salida `pooler_output` y el `last_hidden_state` del primer token (CLS)."
      ]
    },
    {
      "cell_type": "code",
      "execution_count": null,
      "metadata": {
        "id": "T8Qnwbv5nyCW"
      },
      "outputs": [],
      "source": [
        "#Obtenemos los tokens para la entrada al modelo\n",
        "entradas_train = train_encodings['input_ids']"
      ]
    },
    {
      "cell_type": "code",
      "execution_count": null,
      "metadata": {
        "id": "dvx93GnxnyCW"
      },
      "outputs": [],
      "source": [
        "entradas_train.shape"
      ]
    },
    {
      "cell_type": "code",
      "execution_count": null,
      "metadata": {
        "id": "KhYXMQ0qnyCW"
      },
      "outputs": [],
      "source": [
        "from transformers import TFAutoModel\n",
        "# Load transformers config and set output_hidden_states to False\n",
        "config = AutoConfig.from_pretrained(nombre_modelo)\n",
        "config.output_hidden_states = False\n",
        "#volvemos a cargar el modelo con la configuración anterior\n",
        "transformer_model = TFAutoModel.from_pretrained(nombre_modelo, config = config)\n",
        "\n",
        "#calculamos los doc embeddings sobre las entradas (inferencia)\n",
        "output_train = transformer_model(entradas_train)"
      ]
    },
    {
      "cell_type": "code",
      "execution_count": null,
      "metadata": {
        "id": "8C4pMUomnyCW"
      },
      "outputs": [],
      "source": [
        "#La salida tiene el valor de la última capa oculta y el 'pooled_output' de toda la secuencia\n",
        "output_train.keys()"
      ]
    },
    {
      "cell_type": "code",
      "execution_count": null,
      "metadata": {
        "id": "lPDVoq_QnyCX"
      },
      "outputs": [],
      "source": [
        "output_train.last_hidden_state.shape"
      ]
    },
    {
      "cell_type": "code",
      "execution_count": null,
      "metadata": {
        "id": "XXqQql2znyCX"
      },
      "outputs": [],
      "source": [
        "output_train.pooler_output.shape"
      ]
    },
    {
      "cell_type": "code",
      "execution_count": null,
      "metadata": {
        "id": "6SdE7GlWnyCX"
      },
      "outputs": [],
      "source": [
        "#Cogemos la salida del pooler_output como embedding de documento\n",
        "salidas_train = output_train.pooler_output\n",
        "salidas_train.shape"
      ]
    },
    {
      "cell_type": "code",
      "execution_count": null,
      "metadata": {
        "id": "K0AX9oNnnyCX"
      },
      "outputs": [],
      "source": [
        "#calculamos los vectores del conjunto de entrenamiento\n",
        "#Como ya los hemos calculado antes los extraemos de la variable de encodings\n",
        "entradas_test = test_encodings['input_ids']\n",
        "output_test = transformer_model(entradas_test)\n",
        "salidas_test = output_test.pooler_output\n",
        "salidas_test.shape"
      ]
    },
    {
      "cell_type": "markdown",
      "metadata": {
        "id": "9EwVZ-CCnyCX"
      },
      "source": [
        "### Entrenamos y validamos con scikit-learn"
      ]
    },
    {
      "cell_type": "code",
      "execution_count": null,
      "metadata": {
        "id": "298Oil7BnyCY"
      },
      "outputs": [],
      "source": [
        "from sklearn.linear_model import LogisticRegression\n",
        "from sklearn.metrics import classification_report\n",
        "\n",
        "modelLR = LogisticRegression(solver='liblinear')\n",
        "#Entrenamos el modelo con el conjunto de train y validamos\n",
        "modelLR.fit(salidas_train, Y_train)\n",
        "prediccion = modelLR.predict(salidas_test)\n",
        "print(classification_report(Y_test, prediccion, target_names=['N','P']))"
      ]
    },
    {
      "cell_type": "markdown",
      "metadata": {
        "id": "a1NY7LTVnyCY"
      },
      "source": [
        "### Ejercicio\n",
        "Repite el modelo utilizando el embedding del token `[CLS]` en lugar de la salida `pooled_output`"
      ]
    },
    {
      "cell_type": "code",
      "execution_count": null,
      "metadata": {
        "id": "vHc9Y25vnyCY"
      },
      "outputs": [],
      "source": [
        "#solución"
      ]
    },
    {
      "cell_type": "markdown",
      "metadata": {
        "id": "HJCgV10HnyCY"
      },
      "source": [
        "### Uso de la máscara de atención\n",
        "Repetimos usando las máscaras de atención (sólo tokens válidos) al extraer los sentence embeddings, para ver si cambia el resultado"
      ]
    },
    {
      "cell_type": "code",
      "execution_count": null,
      "metadata": {
        "id": "4YaXv1ErnyCY"
      },
      "outputs": [],
      "source": [
        "mask_train = train_encodings['attention_mask']\n",
        "mask_test = test_encodings['attention_mask']\n",
        "\n",
        "#calculamos los doc embeddings sobre las entradas\n",
        "last_hidden_states = transformer_model.predict({'input_ids':entradas_train, 'attention_mask':mask_train})\n",
        "salidas_train = last_hidden_states.last_hidden_state[:,0,:]\n",
        "last_hidden_states = transformer_model.predict({'input_ids':entradas_test, 'attention_mask':mask_test})\n",
        "salidas_test = last_hidden_states.last_hidden_state[:,0,:]"
      ]
    },
    {
      "cell_type": "code",
      "execution_count": null,
      "metadata": {
        "id": "fvOsPdjAnyCZ"
      },
      "outputs": [],
      "source": [
        "#Entrenamos el modelo con el conjunto de train y validamos\n",
        "modelLR.fit(salidas_train, Y_train)\n",
        "prediccion = modelLR.predict(salidas_test)\n",
        "print(classification_report(Y_test, prediccion, target_names=['N','P']))"
      ]
    },
    {
      "cell_type": "code",
      "execution_count": null,
      "metadata": {
        "id": "8tP4g0HdnyCZ"
      },
      "outputs": [],
      "source": [
        "#Calculamos la 'pooled_output' y entrenamos con este tensor\n",
        "salidas_train = transformer_model.predict({'input_ids':entradas_train, 'attention_mask':mask_train})[1]\n",
        "salidas_test = transformer_model.predict({'input_ids':entradas_test, 'attention_mask':mask_test})[1]"
      ]
    },
    {
      "cell_type": "code",
      "execution_count": null,
      "metadata": {
        "id": "X8-gZZxfnyCZ"
      },
      "outputs": [],
      "source": [
        "#Entrenamos el modelo con el conjunto de train y validamos\n",
        "modelLR.fit(salidas_train, Y_train)\n",
        "prediccion = modelLR.predict(salidas_test)\n",
        "print(classification_report(Y_test, prediccion, target_names=['N','P']))"
      ]
    },
    {
      "cell_type": "markdown",
      "metadata": {
        "id": "SpAS9x7inyCZ"
      },
      "source": [
        "### Entrenamos y validamos con una capa densa\n",
        "Entrenamos con un modelo DL básico equivalente al que usa `TFBertForSequenceClassification`, pero aquí no se ajustan los pesos del modelo BERT.  \n",
        "Definimos un modelo con la API funcional de Keras usando los vectores de salida del BERT como sentence embedding a la entrada."
      ]
    },
    {
      "cell_type": "code",
      "execution_count": null,
      "metadata": {
        "id": "8lZJlasCnyCZ"
      },
      "outputs": [],
      "source": [
        "# Build your model input\n",
        "doc_embeddings = Input(shape=(config.hidden_size,), name='doc_embeddings', dtype='float32')\n",
        "\n",
        "# Then build your model output\n",
        "pooled_output = Dropout(0.1)(doc_embeddings)  # (bs, dim)\n",
        "output = Dense(units=1,\n",
        "               kernel_initializer=TruncatedNormal(stddev=config.initializer_range),\n",
        "               activation=\"sigmoid\",\n",
        "               name='clases')(pooled_output)\n",
        "# And combine it all in a model object\n",
        "model = Model(inputs=doc_embeddings, outputs=output, name='Binary_BertPretrained')\n",
        "# Take a look at the model\n",
        "model.summary()"
      ]
    },
    {
      "cell_type": "code",
      "execution_count": null,
      "metadata": {
        "id": "1E-XDdHQnyCZ"
      },
      "outputs": [],
      "source": [
        "optimizer = tf.keras.optimizers.Adam(learning_rate=1e-3, epsilon=1e-08) #el entrenamiento es muy sensible a estos valores\n",
        "model.compile(loss='binary_crossentropy', optimizer=optimizer, metrics=['accuracy'])\n",
        "history = model.fit(salidas_train, np.asarray(Y_train), epochs=n_epochs, batch_size=batch_size, validation_data=(salidas_test, np.asarray(Y_test)))"
      ]
    },
    {
      "cell_type": "code",
      "execution_count": null,
      "metadata": {
        "id": "F7Fe-FSynyCa"
      },
      "outputs": [],
      "source": [
        "plt.plot(history.history['accuracy'])\n",
        "plt.plot(history.history['val_accuracy'])\n",
        "plt.title('embeddings BERT + capa densa')\n",
        "plt.ylabel('Accuracy')\n",
        "plt.xlabel('Epoch')\n",
        "plt.legend(['Train', 'Test'], loc='upper left')\n",
        "plt.show()"
      ]
    },
    {
      "cell_type": "code",
      "execution_count": null,
      "metadata": {
        "id": "HRN5ZhU9nyCa"
      },
      "outputs": [],
      "source": [
        "predict = model.predict(salidas_test)\n",
        "predict_clases = predict>0.5\n",
        "\n",
        "print(classification_report(Y_test, predict_clases, target_names=['N','P']))"
      ]
    },
    {
      "cell_type": "markdown",
      "metadata": {
        "id": "830wJjQynyCa"
      },
      "source": [
        "Este modelo es equivalente a utilizar la capa del `TFBertModel` base sin re-entrenar en el modelo completo"
      ]
    },
    {
      "cell_type": "code",
      "execution_count": null,
      "metadata": {
        "id": "_BtVtzHdnyCa"
      },
      "outputs": [],
      "source": [
        "# Load the Transformers BERT model\n",
        "transformer_model = TFAutoModel.from_pretrained(nombre_modelo, config = config, name=\"Bert_model\")\n",
        "transformer_model.bert.trainable = False #congelamos la actualización de las capas del BERT\n",
        "\n",
        "#######################################\n",
        "### ------- Build the model ------- ###\n",
        "# TF Keras documentation: https://www.tensorflow.org/api_docs/python/tf/keras/Model\n",
        "\n",
        "# Build your model input\n",
        "input_ids = Input(shape=(MAX_SEQUENCE_LENGTH,), name='input_ids', dtype='int32')\n",
        "attention_mask = Input(shape=(MAX_SEQUENCE_LENGTH,), name='attention_mask', dtype='int32') \n",
        "# Load the Transformers BERT model as a layer in a Keras model\n",
        "cls_output = transformer_model(input_ids, attention_mask)[0]  # (bs, seq, dim)\n",
        "logits = Dropout(0.1)(cls_output[:,0,:])  # (bs, dim)\n",
        "# Then build your model output\n",
        "output = Dense(units=1,\n",
        "               kernel_initializer=TruncatedNormal(stddev=config.initializer_range),\n",
        "               activation=\"sigmoid\",\n",
        "               name='clases')(logits)\n",
        "# And combine it all in a model object\n",
        "model = Model(inputs=[input_ids, attention_mask], outputs=output, name='BERT_BinaryClass')\n",
        "\n",
        "# Take a look at the model\n",
        "model.summary()"
      ]
    },
    {
      "cell_type": "code",
      "execution_count": null,
      "metadata": {
        "id": "NHHyNHAsnyCa"
      },
      "outputs": [],
      "source": [
        "optimizer = tf.keras.optimizers.Adam(learning_rate=1e-3, epsilon=1e-08)\n",
        "model.compile(loss='binary_crossentropy', optimizer=optimizer, metrics=['accuracy'])\n",
        "history=model.fit(train_dataset.batch(batch_size), epochs=n_epochs, batch_size=batch_size, validation_data=test_dataset.batch(batch_size))"
      ]
    },
    {
      "cell_type": "code",
      "execution_count": null,
      "metadata": {
        "id": "Gp2XT1bPnyCa"
      },
      "outputs": [],
      "source": [
        "plt.plot(history.history['accuracy'])\n",
        "plt.plot(history.history['val_accuracy'])\n",
        "plt.title('BERT pre-entrenado con máscara atención')\n",
        "plt.ylabel('Accuracy')\n",
        "plt.xlabel('Epoch')\n",
        "plt.legend(['Train', 'Test'], loc='upper left')\n",
        "plt.show()"
      ]
    },
    {
      "cell_type": "code",
      "execution_count": null,
      "metadata": {
        "id": "WkAk31GunyCb"
      },
      "outputs": [],
      "source": [
        "predict = model.predict(test_dataset.batch(batch_size))\n",
        "predict_clases = predict>0.5\n",
        "from sklearn.metrics import classification_report\n",
        "\n",
        "print(classification_report(Y_test, predict_clases, target_names=['N','P'], zero_division=0))"
      ]
    },
    {
      "cell_type": "markdown",
      "metadata": {
        "id": "gtjby1ONnyCb"
      },
      "source": [
        "## Uso de las capas internas del modelo BERT\n",
        "Por último probamos a usar las 4 últimas capas ocultas de `[CLS]` concatenadas para la predicción"
      ]
    },
    {
      "cell_type": "code",
      "execution_count": null,
      "metadata": {
        "id": "b5sveMQWnyCb"
      },
      "outputs": [],
      "source": [
        "# Load the Transformers BERT model\n",
        "transformer_model = TFAutoModel.from_pretrained(nombre_modelo, output_hidden_states=True, name=\"Bert_model\")\n",
        "transformer_model.bert.trainable = False #congelamos la actualización de las capas del BERT\n",
        "\n",
        "#######################################\n",
        "### ------- Build the model ------- ###\n",
        "# TF Keras documentation: https://www.tensorflow.org/api_docs/python/tf/keras/Model\n",
        "\n",
        "# Build your model input\n",
        "input_ids = Input(shape=(MAX_SEQUENCE_LENGTH,), name='input_ids', dtype='int32')\n",
        "attention_mask = Input(shape=(MAX_SEQUENCE_LENGTH,), name='attention_mask', dtype='int32') \n",
        "# Load the Transformers BERT model as a layer in a Keras model\n",
        "hidden_states = transformer_model(input_ids, attention_mask)[2]  # (layer, bs, seq, dim)\n",
        "\n",
        "hidden_states_size = 4 # count of the last states \n",
        "hiddes_states_ind = list(range(-hidden_states_size, 0, 1))\n",
        "\n",
        "selected_hiddes_states = tf.keras.layers.concatenate(tuple([hidden_states[i][:,0,:] for i in hiddes_states_ind])) #first token of each layer\n",
        "\n",
        "pooled_output = Dropout(0.1)(selected_hiddes_states)  # (bs, dim)\n",
        "# Then build your model output\n",
        "output = Dense(units=1,\n",
        "               kernel_initializer=TruncatedNormal(stddev=config.initializer_range),\n",
        "               activation=\"sigmoid\",\n",
        "               name='clases')(pooled_output)\n",
        "# And combine it all in a model object\n",
        "model = Model(inputs=[input_ids, attention_mask], outputs=output, name='BERT_BinaryClass')\n",
        "\n",
        "# Take a look at the model\n",
        "model.summary()"
      ]
    },
    {
      "cell_type": "markdown",
      "metadata": {
        "id": "gYL5tDR8nyCb"
      },
      "source": [
        "El número de parámetros en este caso viene dado por el número de capas a concatenar x dimensiones embedding + BIAS"
      ]
    },
    {
      "cell_type": "code",
      "execution_count": null,
      "metadata": {
        "id": "lsBXTt0mnyCb"
      },
      "outputs": [],
      "source": [
        "4 * 768 + 1"
      ]
    },
    {
      "cell_type": "code",
      "execution_count": null,
      "metadata": {
        "id": "3PWlyc5nnyCb"
      },
      "outputs": [],
      "source": [
        "optimizer = tf.keras.optimizers.Adam(learning_rate=1e-3, epsilon=1e-08)\n",
        "model.compile(loss='binary_crossentropy', optimizer=optimizer, metrics=['accuracy'])\n",
        "history=model.fit(train_dataset.batch(batch_size), epochs=n_epochs, batch_size=batch_size, validation_data=test_dataset.batch(batch_size))"
      ]
    },
    {
      "cell_type": "code",
      "execution_count": null,
      "metadata": {
        "id": "y1aZG4drnyCc"
      },
      "outputs": [],
      "source": [
        "plt.plot(history.history['accuracy'])\n",
        "plt.plot(history.history['val_accuracy'])\n",
        "plt.title('BERT pre-entrenado últimas 4 capas + densa')\n",
        "plt.ylabel('Accuracy')\n",
        "plt.xlabel('Epoch')\n",
        "plt.legend(['Train', 'Test'], loc='upper left')\n",
        "plt.show()"
      ]
    },
    {
      "cell_type": "code",
      "execution_count": null,
      "metadata": {
        "id": "dzpcAeP4nyCc"
      },
      "outputs": [],
      "source": [
        "predict = model.predict(test_dataset.batch(batch_size))\n",
        "predict_clases = predict>0.5\n",
        "from sklearn.metrics import classification_report\n",
        "\n",
        "print(classification_report(Y_test, predict_clases, target_names=['N','P']))"
      ]
    },
    {
      "cell_type": "markdown",
      "metadata": {
        "id": "rSvqyXFgnyCc"
      },
      "source": [
        "Repetimos este modelo entrenando toda la red"
      ]
    },
    {
      "cell_type": "code",
      "execution_count": null,
      "metadata": {
        "id": "bPRzMRt8nyCc"
      },
      "outputs": [],
      "source": [
        "# Load the Transformers BERT model\n",
        "transformer_model = TFAutoModel.from_pretrained(nombre_modelo, output_hidden_states=True, name=\"Bert_model\")\n",
        "\n",
        "#######################################\n",
        "### ------- Build the model ------- ###\n",
        "# TF Keras documentation: https://www.tensorflow.org/api_docs/python/tf/keras/Model\n",
        "\n",
        "# Build your model input\n",
        "input_ids = Input(shape=(MAX_SEQUENCE_LENGTH,), name='input_ids', dtype='int32')\n",
        "attention_mask = Input(shape=(MAX_SEQUENCE_LENGTH,), name='attention_mask', dtype='int32') \n",
        "# Load the Transformers BERT model as a layer in a Keras model\n",
        "hidden_states = transformer_model(input_ids, attention_mask)[2]  # (layer, bs, seq, dim)\n",
        "\n",
        "hidden_states_size = 4 # count of the last states \n",
        "hiddes_states_ind = list(range(-hidden_states_size, 0, 1))\n",
        "\n",
        "selected_hiddes_states = tf.keras.layers.concatenate(tuple([hidden_states[i][:,0,:] for i in hiddes_states_ind])) #first token of each layer\n",
        "\n",
        "pooled_output = Dropout(0.1)(selected_hiddes_states)  # (bs, dim)\n",
        "# Then build your model output\n",
        "output = Dense(units=1,\n",
        "               kernel_initializer=TruncatedNormal(stddev=config.initializer_range),\n",
        "               activation=\"sigmoid\",\n",
        "               name='clases')(pooled_output)\n",
        "# And combine it all in a model object\n",
        "model = Model(inputs=[input_ids, attention_mask], outputs=output, name='BERT_BinaryClass')\n",
        "\n",
        "# Take a look at the model\n",
        "model.summary()"
      ]
    },
    {
      "cell_type": "code",
      "execution_count": null,
      "metadata": {
        "id": "6mxP4CCHnyCc"
      },
      "outputs": [],
      "source": [
        "optimizer = tf.keras.optimizers.Adam(learning_rate=3e-5, epsilon=1e-08)\n",
        "model.compile(loss='binary_crossentropy', optimizer=optimizer, metrics=['accuracy'])\n",
        "history=model.fit(train_dataset.batch(batch_size), epochs=n_epochs, batch_size=batch_size, validation_data=test_dataset.batch(batch_size))"
      ]
    },
    {
      "cell_type": "code",
      "execution_count": null,
      "metadata": {
        "id": "xsowLxp1nyCd"
      },
      "outputs": [],
      "source": [
        "plt.plot(history.history['accuracy'])\n",
        "plt.plot(history.history['val_accuracy'])\n",
        "plt.title('BERT últimas 4 capas + densa')\n",
        "plt.ylabel('Accuracy')\n",
        "plt.xlabel('Epoch')\n",
        "plt.legend(['Train', 'Test'], loc='upper left')\n",
        "plt.show()"
      ]
    },
    {
      "cell_type": "code",
      "execution_count": null,
      "metadata": {
        "id": "LxAbEbbNnyCd"
      },
      "outputs": [],
      "source": [
        "predict = model.predict(test_dataset.batch(batch_size))\n",
        "predict_clases = predict>0.5\n",
        "from sklearn.metrics import classification_report\n",
        "\n",
        "print(classification_report(Y_test, predict_clases, target_names=['N','P']))"
      ]
    },
    {
      "cell_type": "code",
      "execution_count": null,
      "metadata": {
        "id": "GRKWf-U8nyCd"
      },
      "outputs": [],
      "source": []
    }
  ],
  "metadata": {
    "interpreter": {
      "hash": "845820aa507da265ae36614cc34fbe135a81ea548fdd838f22fa22ab25d20da4"
    },
    "kernelspec": {
      "display_name": "Python 3",
      "name": "python3"
    },
    "language_info": {
      "codemirror_mode": {
        "name": "ipython",
        "version": 3
      },
      "file_extension": ".py",
      "mimetype": "text/x-python",
      "name": "python",
      "nbconvert_exporter": "python",
      "pygments_lexer": "ipython3",
      "version": "3.8.10"
    },
    "colab": {
      "provenance": [],
      "gpuType": "T4"
    },
    "accelerator": "GPU"
  },
  "nbformat": 4,
  "nbformat_minor": 0
}