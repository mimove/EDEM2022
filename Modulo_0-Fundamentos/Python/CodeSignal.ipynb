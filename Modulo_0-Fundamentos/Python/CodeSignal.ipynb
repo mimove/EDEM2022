{
 "cells": [
  {
   "cell_type": "markdown",
   "metadata": {},
   "source": [
    "# MEET PYTHON\n",
    "\n",
    "Ejercicios Introductorios sobre Python en la plataforma <codesignal.com>\n",
    "\n",
    "## Exercise 1\n"
   ]
  },
  {
   "cell_type": "code",
   "execution_count": 1,
   "metadata": {},
   "outputs": [
    {
     "name": "stdout",
     "output_type": "stream",
     "text": [
      "[True, False]\n"
     ]
    }
   ],
   "source": [
    "xs = [()]\n",
    "\n",
    "res = [False]*2\n",
    "\n",
    "if xs:\n",
    "    res[0] = True\n",
    "    \n",
    "if xs[0]:\n",
    "    res[1] = True\n",
    "\n",
    "print(res) # [True, False]"
   ]
  },
  {
   "cell_type": "markdown",
   "metadata": {},
   "source": [
    "## Excercise 2"
   ]
  },
  {
   "cell_type": "code",
   "execution_count": 2,
   "metadata": {},
   "outputs": [
    {
     "name": "stdout",
     "output_type": "stream",
     "text": [
      "---Time 1:  6.341934204101562e-05 seconds ---\n",
      "---Time 2:  6.341934204101562e-05 seconds ---\n",
      "---Time 3:  6.031990051269531e-05 seconds ---\n"
     ]
    }
   ],
   "source": [
    "import time\n",
    "\n",
    "x = 2\n",
    "\n",
    "y = 4\n",
    "\n",
    "L = 5\n",
    "\n",
    "R = 25\n",
    "\n",
    "start_time = time.time()\n",
    "\n",
    "if L < x**y <= R: # Winner\n",
    "    print(\"---Time 1:  %s seconds ---\" % (time.time() - start_time))\n",
    "\n",
    "\n",
    "\n",
    "start_time = time.time()\n",
    "\n",
    "if x**y > L and x ** y <= R:\n",
    "    print(\"---Time 2:  %s seconds ---\" % (time.time() - start_time))\n",
    "\n",
    "\n",
    "start_time = time.time()\n",
    "\n",
    "if x**y in range(L + 1, R + 1):\n",
    "    print(\"---Time 3:  %s seconds ---\" % (time.time() - start_time)) "
   ]
  },
  {
   "cell_type": "markdown",
   "metadata": {},
   "source": [
    "## Excercise 3"
   ]
  },
  {
   "cell_type": "code",
   "execution_count": 5,
   "metadata": {},
   "outputs": [
    {
     "name": "stdout",
     "output_type": "stream",
     "text": [
      "True\n",
      "True\n",
      "True\n"
     ]
    }
   ],
   "source": [
    "a = True\n",
    "\n",
    "b = False\n",
    "\n",
    "print( a == (not b))\n",
    "\n",
    "# print( a == not b) # Correct, it doesn't work\n",
    "\n",
    "print( not (a == b) )\n",
    "\n",
    "print( not a == b )"
   ]
  },
  {
   "cell_type": "markdown",
   "metadata": {},
   "source": [
    "## Excercise 4\n"
   ]
  },
  {
   "cell_type": "code",
   "execution_count": 6,
   "metadata": {},
   "outputs": [
    {
     "name": "stdout",
     "output_type": "stream",
     "text": [
      "1\n",
      "-4\n",
      "0\n",
      "3\n",
      "-4\n"
     ]
    }
   ],
   "source": [
    "def division(x, y):\n",
    "    return x // y\n",
    "\n",
    "\n",
    "print(division(17, 13))\n",
    "\n",
    "print(division(-8,2))\n",
    "\n",
    "print(division(5,10))\n",
    "\n",
    "print(division(-10, -3))\n",
    "\n",
    "print(division(15, -4)) # Correct, javascript does not rounds"
   ]
  },
  {
   "cell_type": "markdown",
   "metadata": {},
   "source": [
    "## Excercise 5\n",
    "\n",
    "\n",
    "Implement the missing code, denoted by ellipses. You may not modify the pre-existing code.\n",
    "Implement a function that, given an integer n, uses a specific method on it and returns the number of bits in its binary representation.\n",
    "\n",
    "Note: in this task and most of the following tasks you will be given a code snippet with some part of it replaced by the ellipsis (...). Only this part is allowed to be changed.\n",
    "\n",
    "Example\n",
    "\n",
    "```\n",
    "For n = 50, the output should be\n",
    "solution(n) = 6.\n",
    "\n",
    "50_10 = 110010_2, a number that consists of 6 digits. Thus, the output should be 6.\n",
    "```\n",
    "\n",
    "Input/Output\n",
    "\n",
    "[execution time limit] 4 seconds (py)\n",
    "\n",
    "[input] integer n\n",
    "\n",
    "A positive integer.\n",
    "\n",
    "Guaranteed constraints:\n",
    "1 ≤ n ≤ 10**9.\n",
    "\n",
    "[output] integer\n",
    "\n",
    "The number of bits in binary representation of n."
   ]
  },
  {
   "cell_type": "code",
   "execution_count": 7,
   "metadata": {},
   "outputs": [
    {
     "name": "stdout",
     "output_type": "stream",
     "text": [
      "6\n"
     ]
    }
   ],
   "source": [
    "# Solution A: own method\n",
    "def solution(n):\n",
    "    return len(\"{0:b}\".format(int(n)))\n",
    "    \n",
    "    \n",
    "\n",
    "# Solution B: built in method\n",
    "def solution(n):\n",
    "    return n.bit_length()\n",
    "    \n",
    "\n",
    "print(solution(50))"
   ]
  },
  {
   "cell_type": "markdown",
   "metadata": {},
   "source": [
    "## Excercise 6\n",
    "\n",
    "Implement the missing code, denoted by ellipses. You may not modify the pre-existing code.\n",
    "It frustrates you more than you'd like to admit that the solution operator in Python can be applied to non-integer values. When you write code, you expect the result of the solution operator to always be an integer, but thanks to Python this isn't always the case.\n",
    "\n",
    "To fix this, you've decided to write your own solution operator as a function. Your task is to implement a function that, given a number n, returns -1 if this number is not an integer and n % 2 otherwise. It is guaranteed that if the number represents an integer, it will be written without a decimal point.\n",
    "\n",
    "Example\n",
    "\n",
    "```\n",
    "For n = 15, the output should be\n",
    "solution(n) = 1;\n",
    "\n",
    "For n = 23.12, the output should be\n",
    "solution(n) = -1.\n",
    "```\n",
    "\n",
    "\n",
    "Input/Output\n",
    "\n",
    "[execution time limit] 4 seconds (py3)\n",
    "\n",
    "[input] numeric n\n",
    "\n",
    "A non-negative number that can be an int, a float, or a long.\n",
    "\n",
    "Guaranteed constraints:\n",
    "0 ≤ n ≤ 1000.\n",
    "\n",
    "[output] integer\n",
    "\n",
    "Return n % 2 if n is an integer, otherwise return -1.\n"
   ]
  },
  {
   "cell_type": "code",
   "execution_count": 8,
   "metadata": {},
   "outputs": [
    {
     "name": "stdout",
     "output_type": "stream",
     "text": [
      "1\n"
     ]
    }
   ],
   "source": [
    "def solution(n):\n",
    "    if type(n) == int:\n",
    "        return n % 2\n",
    "    else:\n",
    "        return -1\n",
    "    \n",
    "\n",
    "print(solution(15))"
   ]
  },
  {
   "cell_type": "markdown",
   "metadata": {},
   "source": [
    "## Excercise 7\n",
    "\n",
    "Implement the missing code, denoted by ellipses. You may not modify the pre-existing code.\n",
    "To understand how efficient the built-in Python sorting function is, you decided to implement your own simple sorting algorithm and compare its speed to the speed of the Python sorting. Write a function that, given an array of integers arr, sorts its elements in ascending order.\n",
    "\n",
    "Hint: with Python it's possible to swap several elements in a single line. To solve the task, use this knowledge to fill in both of the blanks (...).\n",
    "\n",
    "Example\n",
    "\n",
    "```\n",
    "For arr = [2, 4, 1, 5], the output should be\n",
    "solution(arr) = [1, 2, 4, 5].\n",
    "```\n",
    "\n",
    "Input/Output\n",
    "\n",
    "[execution time limit] 4 seconds (py3)\n",
    "\n",
    "[input] array.integer arr\n",
    "\n",
    "Guaranteed constraints:\n",
    "1 ≤ arr.length ≤ 500,\n",
    "-105 ≤ arr[i] ≤ 105.\n",
    "\n",
    "[output] array.integer\n",
    "\n",
    "The given array with elements sorted in ascending order."
   ]
  },
  {
   "cell_type": "code",
   "execution_count": 9,
   "metadata": {},
   "outputs": [
    {
     "name": "stdout",
     "output_type": "stream",
     "text": [
      "[1, 2, 4, 5]\n"
     ]
    }
   ],
   "source": [
    "def solution(arr):\n",
    "\n",
    "    n = len(arr)\n",
    "\n",
    "    for i in range(n):\n",
    "        j = 0\n",
    "        stop = n - i\n",
    "        while j < stop - 1:\n",
    "            if arr[j] > arr[j + 1]:\n",
    "                arr[j], arr[j + 1] = arr[j + 1] ,  arr [j]\n",
    "            j += 1\n",
    "    return arr\n",
    "\n",
    "\n",
    "print(solution([2, 4, 1, 5])) "
   ]
  },
  {
   "cell_type": "markdown",
   "metadata": {},
   "source": [
    "## Excercise 8\n",
    "\n",
    "Implement the missing code, denoted by ellipses. You may not modify the pre-existing code.\n",
    "Your university professor decided to have a little fun and asked the class to implement a function that, given a number n and a base x, converts the number from base x to base 16. To make things more interesting, he announced that the first student to write the solution will have to answer fewer question than the rest of the class during the final exam.\n",
    "\n",
    "Laughing devilishly, you asked if it was okay to use a language of your choice, and the unsuspecting professor answered \"yes\". It's settled then: Python is your language of choice!\n",
    "\n",
    "Now you're bound to win. Implement a function that, given an integer number n and a base x, converts n from base x to base 16.\n",
    "\n",
    "Example\n",
    "\n",
    "```\n",
    "For n = \"1302\" and x = 5, the output should be\n",
    "solution(n, x) = \"ca\".\n",
    "\n",
    "Here's why:\n",
    "1302_5 = 202_10 = ca_16.\n",
    "```\n",
    "\n",
    "Input/Output\n",
    "\n",
    "[execution time limit] 4 seconds (py3)\n",
    "\n",
    "[input] string n\n",
    "\n",
    "A valid non-negative integer in base x. The string is guaranteed to consist of digits and lowercase English letters.\n",
    "\n",
    "Guaranteed constraints:\n",
    "1 < n.length ≤ 10.\n",
    "\n",
    "[input] integer x\n",
    "\n",
    "The base of n.\n",
    "\n",
    "Guaranteed constraints:\n",
    "2 ≤ x ≤ 36.\n",
    "\n",
    "[output] string\n",
    "\n",
    "The value of n in base 16. The string should contain only digits and lowercase English letters 'a' - 'f'.\n"
   ]
  },
  {
   "cell_type": "code",
   "execution_count": 10,
   "metadata": {},
   "outputs": [
    {
     "name": "stdout",
     "output_type": "stream",
     "text": [
      "23\n"
     ]
    }
   ],
   "source": [
    "def solution(n, x):\n",
    "    return \"0\" if hex(int(str(n),x)).strip(\"0x\") == \"\" else hex(int(str(n),x)).strip(\"0x\")\n",
    "\n",
    "\n",
    "print(solution(\"z\",36))"
   ]
  },
  {
   "cell_type": "markdown",
   "metadata": {},
   "source": [
    "## Excercise 9\n",
    "\n",
    "Implement the missing code, denoted by ellipses. You may not modify the pre-existing code.\n",
    "You've just started to study impartial games, and came across an interesting theory. The theory is quite complicated, but it can be narrowed down to the following statements: solutions to all such games can be found with the mex function. Mex is an abbreviation of minimum excludant: for the given set s it finds the minimum non-negative integer that is not present in s.\n",
    "\n",
    "You don't yet know how to implement such a function efficiently, so would like to create a simplified version. For the given set s and given an upperBound, implement a function that will find its mex if it's smaller than upperBound or return upperBound instead.\n",
    "\n",
    "Hint: for loops also have an else clause which executes when the loop completes normally, i.e. without encountering any breaks\n",
    "\n",
    "Example\n",
    "\n",
    "```\n",
    "For s = [0, 4, 2, 3, 1, 7] and upperBound = 10,\n",
    "the output should be\n",
    "solution(s, upperBound) = 5.\n",
    "\n",
    "5 is the smallest non-negative integer that is not present in s, and it is smaller than upperBound.\n",
    "\n",
    "For s = [0, 4, 2, 3, 1, 7] and upperBound = 3,\n",
    "the output should be\n",
    "solution(s, upperBound) = 3.\n",
    "\n",
    "The minimum excludant for the given set is 5, but it's greater than upperBound, so the output should be 3.\n",
    "```\n",
    "\n",
    "Input/Output\n",
    "\n",
    "[execution time limit] 4 seconds (py3)\n",
    "\n",
    "[input] array.integer s\n",
    "\n",
    "Array of distinct non-negative integers.\n",
    "\n",
    "Guaranteed constraints:\n",
    "0 ≤ s.length ≤ 100,\n",
    "0 ≤ s[i] ≤ 100.\n",
    "\n",
    "[input] integer upperBound\n",
    "\n",
    "A positive integer.\n",
    "\n",
    "Guaranteed constraints:\n",
    "1 ≤ upperBound ≤ 100.\n",
    "\n",
    "[output] integer\n",
    "\n",
    "Mex of s if it's smaller than upperBound, or upperBound instead."
   ]
  },
  {
   "cell_type": "code",
   "execution_count": 11,
   "metadata": {},
   "outputs": [
    {
     "name": "stdout",
     "output_type": "stream",
     "text": [
      "3\n"
     ]
    }
   ],
   "source": [
    "def solution(s, upperBound):\n",
    "    found = -1\n",
    "    for i in range(upperBound):\n",
    "        if not i in s:\n",
    "            found = i\n",
    "            break\n",
    "    else:\n",
    "        return upperBound\n",
    "\n",
    "    return found\n",
    "\n",
    "\n",
    "print(solution([0, 4, 2, 3, 1, 7],3)) "
   ]
  },
  {
   "cell_type": "markdown",
   "metadata": {},
   "source": [
    "## Excercise 10\n",
    "\n",
    "Let's call a list beautiful if its first element is equal to its last element, or if a list is empty. Given a list a, your task is to chop off its first and its last element until it becomes beautiful. Implement a function that will make the given a beautiful as described, and return the resulting list as an answer.\n",
    "\n",
    "Hint: one of the features introduced in Python 3 called extended unpacking could help here.\n",
    "\n",
    "Example\n",
    "\n",
    "```\n",
    "For a = [3, 4, 2, 4, 38, 4, 5, 3, 2], the output should be\n",
    "solution(a) = [4, 38, 4].\n",
    "\n",
    "Here's how the answer is obtained:\n",
    "[3, 4, 2, 4, 38, 4, 5, 3, 2] => [4, 2, 4, 38, 4, 5, 3] => [2, 4, 38, 4, 5] => [4, 38, 4].\n",
    "\n",
    "For a = [1, 4, -5], the output should be\n",
    "solution(a) = [4].\n",
    "```\n",
    "\n",
    "Input/Output\n",
    "\n",
    "[execution time limit] 4 seconds (py3)\n",
    "\n",
    "[input] array.integer a\n",
    "\n",
    "A list of integers.\n",
    "\n",
    "Guaranteed constraints:\n",
    "0 ≤ a.length ≤ 50,\n",
    "1 ≤ a[i] ≤ 100.\n",
    "\n",
    "[output] array.integer\n",
    "\n",
    "A beautiful list obtained as described above.\n",
    "\n",
    "Info from <https://stackoverflow.com/questions/6967632/unpacking-extended-unpacking-and-nested-extended-unpacking>"
   ]
  },
  {
   "cell_type": "code",
   "execution_count": 12,
   "metadata": {},
   "outputs": [
    {
     "name": "stdout",
     "output_type": "stream",
     "text": [
      "[4, 38, 4]\n"
     ]
    }
   ],
   "source": [
    "def solution(a):\n",
    "    res = a[:]\n",
    "    while res and res[0] != res[-1]:\n",
    "        *(a,*res),c = res\n",
    "    return res\n",
    "\n",
    "\n",
    "print(solution([3, 4, 2, 4, 38, 4, 5, 3, 2]))"
   ]
  },
  {
   "cell_type": "markdown",
   "metadata": {},
   "source": [
    "<br>\n",
    "\n",
    "# SLITHERING IN STRINGS  \n",
    "\n",
    "Ejercicios relacionados con Strings en Python"
   ]
  },
  {
   "cell_type": "markdown",
   "metadata": {},
   "source": [
    "## Exercise 11"
   ]
  },
  {
   "cell_type": "code",
   "execution_count": 14,
   "metadata": {},
   "outputs": [],
   "source": [
    "s = 'abacaba'\n",
    "\n",
    "s = \"abacaba\"\n",
    "\n",
    "#s = ''abacaba'' # Incorrect\n",
    "\n",
    "#s = \"\"abacaba\"\" # Incorrect\n",
    "\n",
    "s = '''abacaba'''\n",
    "\n",
    "s = \"\"\"abacaba\"\"\""
   ]
  },
  {
   "cell_type": "markdown",
   "metadata": {},
   "source": [
    "## Excercise 12\n",
    "\n",
    "One of your friends has an awful writing style: he almost never starts a message with a capital letter, but adds uppercase letters in random places throughout the message. It makes chatting with him very difficult for you, so you decided to write a plugin that will change each message received from your friend into a more readable form.\n",
    "\n",
    "Implement a function that will change the very first symbol of the given message to uppercase, and make all the other letters lowercase.\n",
    "\n",
    "Example\n",
    "\n",
    "```\n",
    "For message = \"you'll NEVER believe what that 'FrIeNd' of mine did!!1\",\n",
    "the output should be\n",
    "solution(message) = \"You'll never believe what that 'friend' of mine did!!1\".\n",
    "```\n",
    "\n",
    "Input/Output\n",
    "\n",
    "[execution time limit] 4 seconds (py3)\n",
    "\n",
    "[input] string message\n",
    "\n",
    "A string consisting of English letters, whitespace characters, digits and punctuation marks.\n",
    "\n",
    "Guaranteed constraints:\n",
    "1 ≤ message.length ≤ 65.\n",
    "\n",
    "[output] string\n",
    "\n",
    "Fixed message with its first letter capitalized, and all other letters converted to lowercase."
   ]
  },
  {
   "cell_type": "code",
   "execution_count": 15,
   "metadata": {},
   "outputs": [
    {
     "name": "stdout",
     "output_type": "stream",
     "text": [
      "You'll never believe what that 'friend' of mine did!!1\n"
     ]
    }
   ],
   "source": [
    "def solution(message):\n",
    "    return message.capitalize()\n",
    "\n",
    "\n",
    "print(solution(\"you'll NEVER believe what that 'FrIeNd' of mine did!!1\"))"
   ]
  },
  {
   "cell_type": "markdown",
   "metadata": {},
   "source": [
    "## Excercise 13\n",
    "\n",
    "You've been working on a particularly difficult algorithm all day, and finally decided to take a break and drink some coffee. To your horror, when you returned you found out that your cat decided to take a walk on the keyboard in your absence, and pressed a key or two. Your computer doesn't react to letters being pressed when an unauthorized action appears, but allows typing whitespace characters and moving the arrow keys, so now your masterpiece contains way too many whitespace characters.\n",
    "\n",
    "To repair the damage, you need to start with implementing a function that will replace all multiple space characters in the given line of your code with single ones. In addition, all leading and trailing whitespaces should be removed.\n",
    "\n",
    "Example\n",
    "\n",
    "```\n",
    "For\n",
    "\n",
    "line = \"def      m   e  gaDifficu     ltFun        ction(x):\"\n",
    "the output should be\n",
    "solution(line) = \"def m e gaDifficu ltFun ction(x):\".\n",
    "```\n",
    "\n",
    "Input/Output\n",
    "\n",
    "[execution time limit] 4 seconds (py3)\n",
    "\n",
    "[input] string line\n",
    "\n",
    "One line from your code containing way too many whitespace characters.\n",
    "\n",
    "Guaranteed constraints:\n",
    "5 ≤ line.length ≤ 125.\n",
    "\n",
    "[output] string\n",
    "\n",
    "line with unnecessary whitespace characters removed."
   ]
  },
  {
   "cell_type": "code",
   "execution_count": 16,
   "metadata": {},
   "outputs": [
    {
     "name": "stdout",
     "output_type": "stream",
     "text": [
      "def m e gaDifficu ltFun ction(x):\n"
     ]
    }
   ],
   "source": [
    "def solution(code):\n",
    "    return ' '.join(code.split())\n",
    "\n",
    "\n",
    "print(solution(\"def      m   e  gaDifficu     ltFun        ction(x):\"))"
   ]
  },
  {
   "cell_type": "markdown",
   "metadata": {},
   "source": [
    "## Excercise 14\n",
    "\n",
    "You found an awesome customizable Python IDE that has almost everything you'd like to see in your working environment. However, after a couple days of coding you discover that there is one important feature that this IDE lacks: it cannot convert tabs to spaces. Luckily, the IDE is easily customizable, so you decide to write a plugin that would convert all tabs in the code into the given number of whitespace characters.\n",
    "\n",
    "Implement a function that, given a piece of code and a positive integer x will turn each tabulation character in code into x whitespace characters.\n",
    "\n",
    "Example\n",
    "\n",
    "```\n",
    "For code = \"\\treturn False\" and x = 4, the output should be\n",
    "\n",
    "solution(code, x) = \"    return False\"\n",
    "Input/Output\n",
    "```\n",
    "\n",
    "\n",
    "[execution time limit] 4 seconds (py3)\n",
    "\n",
    "[input] string code\n",
    "\n",
    "Your piece of code.\n",
    "\n",
    "Guaranteed constraints:\n",
    "0 ≤ code.length ≤ 1500.\n",
    "\n",
    "[input] integer x\n",
    "\n",
    "The number of whitespace characters (' ') that should replace each occurrence of the tabulation character ('\\t').\n",
    "\n",
    "Guaranteed constraints:\n",
    "1 ≤ x ≤ 16.\n",
    "\n",
    "[output] string\n",
    "\n",
    "The given code with tabulation characters expanded according to x."
   ]
  },
  {
   "cell_type": "code",
   "execution_count": 17,
   "metadata": {},
   "outputs": [
    {
     "name": "stdout",
     "output_type": "stream",
     "text": [
      "    return False\n"
     ]
    }
   ],
   "source": [
    "def solution(code, x):\n",
    "    return code.replace('\\t', ' ' * x) \n",
    "\n",
    "\n",
    "print(solution(\"\\treturn False\", 4)) "
   ]
  },
  {
   "cell_type": "markdown",
   "metadata": {},
   "source": [
    "## Excercise 15\n",
    "\n",
    "You've launched a revolutionary service not long ago, and were busy improving it for the last couple of months. When you finally decided that the service is perfect, you remembered that you created a feedbacks page long time ago, which you never checked out since then. Now that you have nothing left to do, you would like to have a look at what the community thinks of your service.\n",
    "\n",
    "Unfortunately it looks like the feedbacks page is far from perfect: each feedback is displayed as a one-line string, and if it's too long there's no way to see what it is about. Naturally, this horrible bug should be fixed. Implement a function that, given a feedback and the size of the screen, splits the feedback into lines so that:\n",
    "\n",
    "each token (i.e. sequence of non-whitespace characters) belongs to one of the lines entirely;\n",
    "each line is at most size characters long;\n",
    "no line has trailing or leading spaces;\n",
    "each line should have the maximum possible length, assuming that all lines before it were also the longest possible.\n",
    "\n",
    "Example\n",
    "\n",
    "```\n",
    "For feedback = \"This is an example feedback\" and size = 8,\n",
    "the output should be\n",
    "```\n",
    "\n",
    "```py\n",
    "\n",
    "solution(feedback, size) = [\"This is\", \n",
    "                                  \"an\", \n",
    "                                  \"example\", \n",
    "                                  \"feedback\"]\n",
    "```\n",
    "\n"
   ]
  },
  {
   "cell_type": "code",
   "execution_count": 18,
   "metadata": {},
   "outputs": [
    {
     "name": "stdout",
     "output_type": "stream",
     "text": [
      "['This is', 'an', 'example', 'feedback']\n"
     ]
    }
   ],
   "source": [
    "import textwrap\n",
    "\n",
    "def solution(feedback, size):\n",
    "    return textwrap.wrap(feedback, size)\n",
    "\n",
    "print(solution(\"This is an example feedback\", 8))"
   ]
  },
  {
   "cell_type": "markdown",
   "metadata": {},
   "source": [
    "## Excersise 16\n",
    "\n",
    "Given a word, check whether it is a palindrome or not. A string is considered to be a palindrome if it reads the same in both directions.\n",
    "\n",
    "Example\n",
    "\n",
    "```\n",
    "For word = \"aibohphobia\", the output should be\n",
    "solution(word) = true;\n",
    "\n",
    "For word = \"hehehehehe\", the output should be\n",
    "solution(word) = false.\n",
    "```\n",
    "\n",
    "Input/Output\n",
    "\n",
    "[execution time limit] 4 seconds (py3)\n",
    "\n",
    "[input] string word\n",
    "\n",
    "A string containing lowercase English letters.\n",
    "\n",
    "Guaranteed constraints:\n",
    "1 ≤ word.length ≤ 20.\n",
    "\n",
    "\n",
    "[output] boolean\n",
    "\n",
    "true if the given word is a palindrome, false otherwise.\n"
   ]
  },
  {
   "cell_type": "code",
   "execution_count": 19,
   "metadata": {},
   "outputs": [
    {
     "name": "stdout",
     "output_type": "stream",
     "text": [
      "False\n"
     ]
    }
   ],
   "source": [
    "def solution(word):\n",
    "    return word == word[::-1]\n",
    "\n",
    "\n",
    "\n",
    "print(solution(\"hehehehehe\")) "
   ]
  },
  {
   "cell_type": "markdown",
   "metadata": {},
   "source": [
    "## Excercise 17\n",
    "\n",
    "You found your very first laptop in the attic, and decided to give in to nostalgia and turn it on. The laptop turned out to be password protected, but you know how to crack it: you have always used the same password, but encrypt it using permutation ciphers with various keys. The key to the cipher used to protect your old laptop very conveniently happened to be written on the laptop lid.\n",
    "\n",
    "Here's how permutation cipher works: the key to it consists of all the letters of the alphabet written up in some order. All occurrences of letter 'a' in the encrypted text are substituted with the first letter of the key, all occurrences of letter 'b' are replaced with the second letter from the key, and so on, up to letter 'z' replaced with the last symbol of the key.\n",
    "\n",
    "Given the password you always use, your task is to encrypt it using the permutation cipher with the given key.\n",
    "\n",
    "Example\n",
    "\n",
    "```\n",
    "For password = \"iamthebest\" and\n",
    "key = \"zabcdefghijklmnopqrstuvwxy\", the output should be\n",
    "solution(password, key) = \"hzlsgdadrs\".\n",
    "\n",
    "Here's a table that can be used to encrypt the text:\n",
    "\n",
    "\n",
    "abcdefghijklmnopqrstuvwxyz\n",
    "||  |  ||   |     || \n",
    "vv  v  vv   v     vv\n",
    "zabcdefghijklmnopqrstuvwxy\n",
    "```\n",
    "\n",
    "Input/Output\n",
    "\n",
    "[execution time limit] 4 seconds (py3)\n",
    "\n",
    "[input] string password\n",
    "\n",
    "The password you always use. It is guaranteed to consist only of lowercase English letters.\n",
    "If you're using Python 2, note that the string is given as a unicode.\n",
    "\n",
    "Guaranteed constraints:\n",
    "1 ≤ password.length ≤ 26.\n",
    "\n",
    "[input] string key\n",
    "\n",
    "The key to the permutation cipher. It is guaranteed to be a permutation of the plaintext alphabet.\n",
    "If you're using Python 2, note that the string is given as a unicode.\n",
    "\n",
    "Guaranteed constraints:\n",
    "key.length = 26.\n",
    "\n",
    "[output] string\n",
    "\n",
    "Your password encrypted by the permutations cipher with the given key."
   ]
  },
  {
   "cell_type": "code",
   "execution_count": 20,
   "metadata": {},
   "outputs": [
    {
     "name": "stdout",
     "output_type": "stream",
     "text": [
      "hzlsgdadrs\n"
     ]
    }
   ],
   "source": [
    "def solution(password, key):\n",
    "    table = password.maketrans('abcdefghijklmnopqrstuvwxyz', key)\n",
    "    return password.translate(table)\n",
    "\n",
    "\n",
    "password = \"iamthebest\"\n",
    "\n",
    "key = \"zabcdefghijklmnopqrstuvwxy\"\n",
    "\n",
    "\n",
    "print(solution(password, key))"
   ]
  },
  {
   "cell_type": "markdown",
   "metadata": {},
   "source": [
    "## Excercise 18\n",
    "\n",
    "The World Wide Competitive Eating tournament is going to be held in your town, and you're the one who is responsible for keeping track of time. For the great finale, a large billboard of the given width will be installed on the main square, where the time of possibly new world record will be shown.\n",
    "\n",
    "The track of time will be kept by a float number. It will be displayed on the board with the set precision precision with center alignment, and it is guaranteed that it will fit in the screen. Your task is to test the billboard. Given the time t, the width of the screen and the precision with which the time should be displayed, return a string that should be shown on the billboard.\n",
    "\n",
    "Example\n",
    "\n",
    "```\n",
    "For t = 3.1415, width = 10, and precision = 2,\n",
    "the output should be\n",
    "\n",
    "solution(t, width, precision) = \"   3.14   \"\n",
    "```\n",
    "\n",
    "Input/Output\n",
    "\n",
    "[execution time limit] 4 seconds (py3)\n",
    "\n",
    "[input] float t\n",
    "\n",
    "The time to be displayed on the billboard. It is guaranteed that t has at most 5 digits after the decimal point.\n",
    "\n",
    "Guaranteed constraints:\n",
    "0 ≤ t < 1000.\n",
    "\n",
    "[input] integer width\n",
    "\n",
    "The width of the billboard. It is guaranteed that it's big enough to display the time t with the desired precision.\n",
    "\n",
    "In case it's impossible to align the time perfectly in the center, left padding should be 1 whitespace character shorter than right padding.\n",
    "\n",
    "Guaranteed constraints:\n",
    "3 ≤ width ≤ 20.\n",
    "\n",
    "[input] integer precision\n",
    "\n",
    "Precision with which the number should be displayed.\n",
    "\n",
    "Guaranteed constraints:\n",
    "0 ≤ precision ≤ 10.\n",
    "\n",
    "[output] string\n",
    "\n",
    "A string of length width representing the time t as it will be displayed on the billboard."
   ]
  },
  {
   "cell_type": "code",
   "execution_count": 6,
   "metadata": {},
   "outputs": [
    {
     "name": "stdout",
     "output_type": "stream",
     "text": [
      "   3.14   \n"
     ]
    }
   ],
   "source": [
    "def solution(t, width, precision):\n",
    "    return f\"{t:.{precision}f}\".center(width,' ')\n",
    "\n",
    "\n",
    "t = 3.1415\n",
    "width = 10\n",
    "precision = 2\n",
    "\n",
    "print(solution(t, width, precision))\n",
    "\n"
   ]
  },
  {
   "cell_type": "markdown",
   "metadata": {},
   "source": [
    "## Excersice 19\n",
    "\n",
    "You came to work in a big company as a Senior Python Developer. Unfortunately your team members seem to be quite old-school: you can see old-style string formatting everywhere in the code, which is not too cool. You tried to force the team members to start using the new style formatting, but it looks like it will take some time to persuade them: old habits die hard, especially in old-school programmers.\n",
    "\n",
    "To show your colleagues that the new style formatting is not that different from the old style, you decided to implement a function that will turn the old-style syntax into a new one. Implement a function that will turn the old-style string formating s into a new one so that the following two strings have the same meaning:\n",
    "\n",
    "```\n",
    "s % (*args)\n",
    "s.format(*args)\n",
    "```\n",
    "\n",
    "Example\n",
    "\n",
    "```\n",
    "For s = \"We expect the %f%% growth this week\", the output should be\n",
    "solution(s) = \"We expect the {}% growth this week\".\n",
    "```\n",
    "\n",
    "Input/Output\n",
    "\n",
    "[execution time limit] 4 seconds (py3)\n",
    "\n",
    "[input] string s\n",
    "\n",
    "A correct old-style formatting string. It is guaranteed that each % sign in it is always followed either by a correct conversion type or by another '%' sign (see this for reference). It is also guaranteed that it doesn't contain curly brackets ('{' or '}').\n",
    "\n",
    "Guaranteed constraints:\n",
    "1 ≤ s.length ≤ 70.\n",
    "\n",
    "[output] string\n",
    "\n",
    "A new-style formatting string without positional indices."
   ]
  },
  {
   "cell_type": "code",
   "execution_count": 37,
   "metadata": {},
   "outputs": [
    {
     "name": "stdout",
     "output_type": "stream",
     "text": [
      "We expect the {}% growth this week\n",
      "{}{}%-growth in products is expected quite soon\n"
     ]
    }
   ],
   "source": [
    "def pattern(match_obj):\n",
    "    if match_obj.group(1) is not None:\n",
    "        return '{}'\n",
    "    if match_obj.group(2) is not None:\n",
    "        return '%'\n",
    "\n",
    "def solution(s):\n",
    "    \n",
    "    import re\n",
    "    \n",
    "    return re.sub(r'(%[a-z])|(%%)',pattern,s)\n",
    "\n",
    "\n",
    "print(solution(\"We expect the %f%% growth this week\"))\n",
    "print(solution(\"%d%d%%-growth in products is expected quite soon\"))"
   ]
  },
  {
   "cell_type": "markdown",
   "metadata": {},
   "source": [
    "## Excercise 20\n",
    "\n",
    "The Abanamama Version System (AVS) is a software versioning and revision control system used in highly secure environments. In this system, each commit is assigned a unique name, the first part of which consists of the username encrypted in the base-4 system using symbols '0', '?', '+', and '!', and the second part consists of symbols of English alphabet.\n",
    "\n",
    "Given such commit, your task is go remove the username part from it and return the second part as an answer.\n",
    "\n",
    "Example\n",
    "\n",
    "```\n",
    "For commit = \"0??+0+!!someCommIdhsSt\", the output should be\n",
    "solution(commit) = \"someCommIdhsSt\".\n",
    "```\n",
    "\n",
    "Input/Output\n",
    "\n",
    "[execution time limit] 4 seconds (py3)\n",
    "\n",
    "[input] string commit\n",
    "\n",
    "Commit in the format given above. Note, that it is possible that it doesn't contain the first or the second part.\n",
    "\n",
    "Guaranteed constraints:\n",
    "5 ≤ commit.length ≤ 45.\n",
    "\n",
    "[output] string\n",
    "\n",
    "The second part of the commit."
   ]
  },
  {
   "cell_type": "code",
   "execution_count": 1,
   "metadata": {},
   "outputs": [
    {
     "name": "stdout",
     "output_type": "stream",
     "text": [
      "someCommIdhsSt\n",
      "\n"
     ]
    }
   ],
   "source": [
    "def solution(commit):\n",
    "    return \"\" if commit.lower().islower() == False else commit[commit.index(next(filter(str.isalpha, commit))):]\n",
    "\n",
    "print(solution(\"0??+0+!!someCommIdhsSt\"))\n",
    "print(solution(\"?????!+0\"))\n"
   ]
  },
  {
   "cell_type": "markdown",
   "metadata": {},
   "source": [
    "<br>\n",
    "\n",
    "# LURKING IN LISTS  \n",
    "\n",
    "Ejercicios relacionados con Listas en Python"
   ]
  },
  {
   "cell_type": "markdown",
   "metadata": {},
   "source": [
    "## Excercise 21\n",
    "\n",
    "You've come across the following piece of code:\n",
    "\n",
    "```py\n",
    "c = a * b\n",
    "```\n",
    "\n",
    "Could the following be possible outcomes?\n",
    "\n",
    "1. ```c``` is list ```a``` repeated ```b``` times\n",
    "   \n",
    "2. ```c``` is list ```b``` repeated ```a``` times\n"
   ]
  },
  {
   "cell_type": "code",
   "execution_count": 56,
   "metadata": {},
   "outputs": [
    {
     "name": "stdout",
     "output_type": "stream",
     "text": [
      "[5, 3, 2, 1, 5, 3, 2, 1, 5, 3, 2, 1, 5, 3, 2, 1, 5, 3, 2, 1]\n",
      "[1, 2, 3, 1, 2, 3, 1, 2, 3]\n"
     ]
    }
   ],
   "source": [
    "a = [5,3,2,1]\n",
    "\n",
    "b = 5\n",
    "\n",
    "c = a * b\n",
    "\n",
    "print(c)\n",
    "\n",
    "\n",
    "a = 3\n",
    "\n",
    "b = [1,2,3]\n",
    "\n",
    "c = a * b\n",
    "\n",
    "print(c)"
   ]
  },
  {
   "cell_type": "markdown",
   "metadata": {},
   "source": [
    "## Excercise 22\n",
    "\n",
    "There is a bug in one line of the code. Find it, fix it, and submit.\n",
    "Given two lists lst1 and lst2, your task is to return a list formed by the elements of lst1 followed by the elements of lst2.\n",
    "\n",
    "Note: this is a bugfix task, which means that the function is already implemented but there is a bug in one of its lines. Your task is to find and fix it.\n",
    "\n",
    "Example\n",
    "\n",
    "```\n",
    "For lst1 = [2, 2, 1] and lst2 = [10, 11], the output should be\n",
    "solution(lst1, lst2) = [2, 2, 1, 10, 11].\n",
    "``` \n",
    "\n",
    "Input/Output\n",
    "\n",
    "[execution time limit] 4 seconds (py3)\n",
    "\n",
    "[input] array.integer lst1\n",
    "\n",
    "Guaranteed constraints:\n",
    "0 ≤ lst1.length ≤ 20,\n",
    "-106 ≤ lst1[i] ≤ 106.\n",
    "\n",
    "[input] array.integer lst2\n",
    "\n",
    "Guaranteed constraints:\n",
    "0 ≤ lst2.length ≤ 20,\n",
    "-106 ≤ lst2[i] ≤ 106.\n",
    "\n",
    "[output] array.integer\n",
    "\n",
    "\n",
    "Original code:\n",
    "\n",
    "```py\n",
    "def solution(lst1, lst2):\n",
    "    res = lst1\n",
    "    res.append(lst2)\n",
    "    return res\n",
    "```\n"
   ]
  },
  {
   "cell_type": "code",
   "execution_count": 59,
   "metadata": {},
   "outputs": [
    {
     "data": {
      "text/plain": [
       "[2, 2, 1, 10, 11]"
      ]
     },
     "execution_count": 59,
     "metadata": {},
     "output_type": "execute_result"
    }
   ],
   "source": [
    "def solution(lst1, lst2):\n",
    "    res = lst1\n",
    "    res.extend(lst2)\n",
    "    return res\n",
    "\n",
    "\n",
    "lst1 = [2, 2, 1]\n",
    "lst2 = [10, 11]\n",
    "solution(lst1, lst2)"
   ]
  },
  {
   "cell_type": "markdown",
   "metadata": {},
   "source": [
    "## Excercise 23\n",
    "\n",
    "There are some students standing in a row, each has some number written on their back. The students are about to divide into two teams by counting off by twos: those standing at the even positions (0-based) will go to team A, and those standing at the odd position will join the team B.\n",
    "\n",
    "Your task is to calculate the difference between the sums of numbers written on the backs of the students that will join team A, and those written on the backs of the students that will join team B.\n",
    "\n",
    "Example\n",
    "\n",
    "```\n",
    "For students = [1, 11, 13, 6, 14], the output should be\n",
    "solution(students) = 11.\n",
    "```\n",
    "\n",
    "Students with numbers 1, 13 and 14 will join team A, and students with numbers 11 and 6 will join team B. Thus, the answer is (1 + 13 + 14) - (11 + 6) = 11.\n",
    "\n",
    "Input/Output\n",
    "\n",
    "[execution time limit] 4 seconds (py3)\n",
    "\n",
    "[input] array.integer students\n",
    "\n",
    "Array of numbers written on the students' backs.\n",
    "\n",
    "Guaranteed constraints:\n",
    "2 ≤ students.length ≤ 50,\n",
    "1 ≤ students[i] ≤ 99.\n",
    "\n",
    "[output] integer"
   ]
  },
  {
   "cell_type": "code",
   "execution_count": 61,
   "metadata": {},
   "outputs": [
    {
     "name": "stdout",
     "output_type": "stream",
     "text": [
      "11\n"
     ]
    }
   ],
   "source": [
    "def solution(students):\n",
    "    return sum(students[::2])-sum(students[1::2])\n",
    "\n",
    "\n",
    "students = [1, 11, 13, 6, 14]\n",
    "\n",
    "print(solution(students))"
   ]
  },
  {
   "cell_type": "markdown",
   "metadata": {},
   "source": [
    "## Excercise 24\n",
    "\n",
    "Today is a good day: it's the kth year since you started to work at the company, which means you have to have a party today. In order to get home earlier and prepare for the jamboree, you need to get home early. You decided to remove each kth tasks from your toDo list, since today is your day and you can do whatever you please.\n",
    "\n",
    "Given the list of task ids in your toDo list, remove each kth task from it and return the list of remaining tasks.\n",
    "\n",
    "Example\n",
    "\n",
    "```\n",
    "For k = 3 and toDo = [1237, 2847, 27485, 2947, 1, 247, 374827, 22],\n",
    "the output should be\n",
    "solution(k, toDo) = [1237, 2847, 2947, 1, 374827, 22].\n",
    "```\n",
    "\n",
    "Input/Output\n",
    "\n",
    "[execution time limit] 4 seconds (py3)\n",
    "\n",
    "[input] integer k\n",
    "\n",
    "Guaranteed constraints:\n",
    "1 ≤ k ≤ 30.\n",
    "\n",
    "[input] array.integer toDo\n",
    "\n",
    "Ids of the tasks in your to-do list.\n",
    "\n",
    "Guaranteed constraints:\n",
    "1 ≤ toDo.length ≤ 100,\n",
    "1 ≤ toDo[i] ≤ 4 · 105.\n",
    "\n",
    "[output] array.integer"
   ]
  },
  {
   "cell_type": "code",
   "execution_count": 106,
   "metadata": {},
   "outputs": [
    {
     "name": "stdout",
     "output_type": "stream",
     "text": [
      "[1237, 2847, 2947, 1, 374827, 22]\n"
     ]
    }
   ],
   "source": [
    "# Final solution from https://stackoverflow.com/questions/32925532/how-to-remove-delete-every-n-th-element-from-list\n",
    "\n",
    "def solution(k, toDo):\n",
    "    del toDo[k-1::k]\n",
    "    return toDo\n",
    "\n",
    "k = 3\n",
    "\n",
    "toDo = [1237, 2847, 27485, 2947, 1, 247, 374827, 22]\n",
    "\n",
    "print(solution(k,toDo))"
   ]
  },
  {
   "cell_type": "markdown",
   "metadata": {},
   "source": [
    "## Excercise 25\n",
    "\n",
    "You were supposed to prepare a presentation about lists in Python, but totally forgot about it. Now that you don't have enough time for it, you decide to show some usage examples instead and say with the poker face that this is how you understood the assignment.\n",
    "\n",
    "Now you need to implement a function that will display a list in the console. Implement a function that, given a list lst, will return it as a string as follows: \"This is your list: lst\".\n",
    "\n",
    "Example\n",
    "\n",
    "```\n",
    "For lst = [1, 2, 3, 4, 5], the output should be\n",
    "solution(lst) = \"This is your list: [1, 2, 3, 4, 5]\".\n",
    "```\n",
    "\n",
    "Input/Output\n",
    "\n",
    "[execution time limit] 4 seconds (py3)\n",
    "\n",
    "[input] array.integer lst\n",
    "\n",
    "A list containing integer values.\n",
    "\n",
    "Guaranteed constraints:\n",
    "0 ≤ lst.length ≤ 50,\n",
    "-100 ≤ lst[i] ≤ 100.\n",
    "\n",
    "[output] string\n",
    "\n",
    "A string containing information about lst."
   ]
  },
  {
   "cell_type": "code",
   "execution_count": 108,
   "metadata": {},
   "outputs": [
    {
     "name": "stdout",
     "output_type": "stream",
     "text": [
      "This is your list:[1, 2, 3, 4, 5]\n"
     ]
    }
   ],
   "source": [
    "def solution(lst):\n",
    "    return 'This is your list: ' + str(lst)\n",
    "\n",
    "\n",
    "lst = [1, 2, 3, 4, 5]\n",
    "\n",
    "print(solution(lst))"
   ]
  },
  {
   "cell_type": "markdown",
   "metadata": {},
   "source": [
    "<br>\n",
    "\n",
    "# LAMBDA ILLUSIONS \n",
    "\n",
    "Ejercicios relacionados con funciones Lambda en Python"
   ]
  },
  {
   "cell_type": "markdown",
   "metadata": {},
   "source": [
    "## Excercise 26\n",
    "\n",
    "To make debug output more understandable, you often separate sets of logs by a single line of the same character. Since you use this method very often, you'd like to write a function that would handle printing the separator.\n",
    "\n",
    "Implement a function that, given a character ch and the number of times it should be repeated n, returns a string of n characters ch.\n",
    "\n",
    "Example\n",
    "\n",
    "```\n",
    "For ch = '*' and n = 20, the output should be\n",
    "solution(ch, n) = \"********************\".\n",
    "``` \n",
    "\n",
    "Input/Output\n",
    "\n",
    "[execution time limit] 4 seconds (py3)\n",
    "\n",
    "[input] char ch\n",
    "\n",
    "The character that should be repeated.\n",
    "\n",
    "[input] integer n\n",
    "\n",
    "The number of times the given character should be repeated.\n",
    "\n",
    "Guaranteed constraints:\n",
    "1 ≤ n ≤ 100.\n",
    "\n",
    "[output] string\n",
    "\n",
    "A string consisting of n characters ch."
   ]
  },
  {
   "cell_type": "code",
   "execution_count": 3,
   "metadata": {},
   "outputs": [
    {
     "name": "stdout",
     "output_type": "stream",
     "text": [
      "********************\n"
     ]
    }
   ],
   "source": [
    "solution = lambda ch, n: ch*n\n",
    "\n",
    "ch = '*'\n",
    "n = 20\n",
    "\n",
    "print(solution(ch,n))"
   ]
  },
  {
   "cell_type": "markdown",
   "metadata": {},
   "source": [
    "## Excercise 27\n",
    "\n",
    "A new scoring system was introduced in your university: from now on, each test will consist of the predefined list of questions, and for the ith (1-based) question a student either gets i points, or loses p points as a penalty.\n",
    "\n",
    "Your task is to calculate the number of points a student got for some test. Implement a function that would calculate the number of points received for the test based on the given list of answers.\n",
    "\n",
    "Example\n",
    "\n",
    "```\n",
    "For answers = [true, true, false, true]and p = 2, the output should be\n",
    "solution(answers, p) = 5.\n",
    "\n",
    "Here's why: 1 + 2 - 2 + 4 = 5.\n",
    "```\n",
    "\n",
    "Input/Output\n",
    "\n",
    "[execution time limit] 4 seconds (py3)\n",
    "\n",
    "[input] array.boolean answers\n",
    "\n",
    "Array of student's answers. answers[i] is true if the student answered the (i + 1)th question correctly, and false otherwise.\n",
    "\n",
    "Guaranteed constraints:\n",
    "1 ≤ answers.length ≤ 20.\n",
    "\n",
    "[input] integer p\n",
    "\n",
    "The number of points subtracted from the final score for each incorrect result.\n",
    "\n",
    "Guaranteed constraints:\n",
    "0 ≤ p ≤ 10.\n",
    "\n",
    "[output] integer\n",
    "\n",
    "The number of points the student received for the test."
   ]
  },
  {
   "cell_type": "code",
   "execution_count": 12,
   "metadata": {},
   "outputs": [
    {
     "name": "stdout",
     "output_type": "stream",
     "text": [
      "5\n",
      "-10\n"
     ]
    }
   ],
   "source": [
    "def solution(answers, p):\n",
    "    questionPoints = lambda i, ans: i+1 if ans == True else -p\n",
    "\n",
    "    res = 0\n",
    "    for i, ans in enumerate(answers):\n",
    "        res += questionPoints(i, ans)\n",
    "    return res\n",
    "\n",
    "\n",
    "\n",
    "answers = [True, True, False, True]\n",
    "\n",
    "p = 2\n",
    "\n",
    "print(solution(answers, p))\n",
    "\n",
    "\n",
    "\n",
    "answers = [True, False, True, False]\n",
    "\n",
    "p = 7\n",
    "\n",
    "print(solution(answers, p))\n",
    "\n"
   ]
  },
  {
   "cell_type": "markdown",
   "metadata": {},
   "source": [
    "## Excercise 28\n",
    "\n",
    "You are given a list of students who want to apply to the internship at CodeSignal. For the ith student you know their full name students[i], which can consist of up to 5 words (where a word is a set of consecutive letters). It is guaranteed that the surname is always the last name of student's full name.\n",
    "\n",
    "Your task is to sort the students lexicographically by their surnames. If two students happen to have the same surname, their order in the result should be the same as in the original list.\n",
    "\n",
    "Example\n",
    "\n",
    "```\n",
    "For\n",
    "\n",
    "students = [\"John Smith\", \"Jacky Mon Simonoff\", \n",
    "            \"Lucy Smith\", \"Angela Zimonova\"]\n",
    "the output should be\n",
    "\n",
    "solution(students) = [\"Jacky Mon Simonoff\", \"John Smith\", \n",
    "                          \"Lucy Smith\", \"Angela Zimonova\"]\n",
    "\n",
    "```\n",
    "\n",
    "\n",
    "\n",
    "Input/Output\n",
    "\n",
    "[execution time limit] 4 seconds (py3)\n",
    "\n",
    "[input] array.string students\n",
    "\n",
    "Array of students, where each student is given by their full name consisting of at most 5 words. For each i students[i] consists of English letters and whitespace (' ') characters.\n",
    "\n",
    "Guaranteed constraints:\n",
    "1 ≤ students.length ≤ 30,\n",
    "1 ≤ students[i].length ≤ 50.\n",
    "\n",
    "[output] array.string\n",
    "\n",
    "Array of students sorted as described above."
   ]
  },
  {
   "cell_type": "code",
   "execution_count": 31,
   "metadata": {},
   "outputs": [
    {
     "name": "stdout",
     "output_type": "stream",
     "text": [
      "['Jacky Mon Simonoff', 'John Smith', 'Lucy Smith', 'Angela Zimonova']\n",
      "['Jacky Mon Simonoff', 'Lucy Smith', 'John Smith', 'Angela Zimonova']\n"
     ]
    }
   ],
   "source": [
    "def solution(students):\n",
    "    students.sort(key= lambda student: student.split()[-1])\n",
    "    return students\n",
    "\n",
    "\n",
    "students = [\"John Smith\", \"Jacky Mon Simonoff\", \n",
    "            \"Lucy Smith\", \"Angela Zimonova\"]\n",
    "\n",
    "print(solution(students))\n",
    "\n",
    "students = [\"Lucy Smith\", \n",
    " \"John Smith\", \n",
    " \"Jacky Mon Simonoff\", \n",
    " \"Angela Zimonova\"]\n",
    "\n",
    "print(solution(students))"
   ]
  },
  {
   "cell_type": "markdown",
   "metadata": {},
   "source": [
    "## Excercise 29\n",
    "\n",
    "You've been preparing all night for the upcoming test and entered the class certain that you will ace it. Now that you received the test questions, you died inside a little: looks like you prepared for the test on a completely different topic.\n",
    "\n",
    "You're not even sure if you should bother to answer the questions. You still have some hope though: it is known that there's a glitch in the test preparing system, so that if the sum of digits of question ids is divisible by k, the answer to each question has a 90% probability to be an A.\n",
    "\n",
    "Given the list of question ids, determine if the sum of their digits is divisible by k to see if it's worth trying to pass the test.\n",
    "\n",
    "Example\n",
    "\n",
    "```\n",
    "For ids = [529665, 909767, 644200] and k = 3, the output should be\n",
    "solution(ids, k) = true.\n",
    "\n",
    "The sum of digits is\n",
    "\n",
    "(5 + 2 + 9 + 6 + 6 + 5) + (9 + 0 + 9 + 7 + 6 + 7) + (6 + 4 + 4 + 2 + 0 + 0) = 87\n",
    "which is divisible by 3. Today is your lucky day after all!\n",
    "```\n",
    "\n",
    "Input/Output\n",
    "\n",
    "[execution time limit] 4 seconds (py3)\n",
    "\n",
    "[input] array.integer ids\n",
    "\n",
    "Array of unique question ids.\n",
    "\n",
    "Guaranteed constraints:\n",
    "1 ≤ ids.length ≤ 50,\n",
    "0 ≤ ids[i] ≤ 106.\n",
    "\n",
    "[input] integer k\n",
    "\n",
    "The number that causes a glitch in the test preparing system.\n",
    "\n",
    "Guaranteed constraints:\n",
    "2 ≤ k ≤ 10.\n",
    "\n",
    "[output] boolean\n",
    "\n",
    "true if the total sum of digits in ids is divisible by k, false otherwise."
   ]
  },
  {
   "cell_type": "code",
   "execution_count": 37,
   "metadata": {},
   "outputs": [
    {
     "name": "stdout",
     "output_type": "stream",
     "text": [
      "True\n",
      "False\n"
     ]
    }
   ],
   "source": [
    "def solution(ids, k):\n",
    "    digitSum = lambda id: sum([int(id) for id in str(questionId)])\n",
    "\n",
    "    sm = 0\n",
    "    for questionId in ids:\n",
    "        sm += digitSum(questionId)\n",
    "    return sm % k == 0\n",
    "\n",
    "ids = [529665, 909767, 644200]\n",
    "\n",
    "k = 3\n",
    "\n",
    "print(solution(ids,k))\n",
    "\n",
    "ids = [505472, 823554, 608771, 106888, 819471, 116625, 689811, 309397, 942937, 902554, 677532, 562522, 145067, 508460, 3501, 293533, 898993, 407738, 156093, 847039, 668357, 645962, 297698, 58190, 781139, 64724, 169176, 239193, 416474, 694882, 974958, 766959, 97136, 788718, 641266, 200950, 468728, 245625, 324219, 311677]\n",
    "\n",
    "k = 6\n",
    "\n",
    "print(solution(ids,k))"
   ]
  },
  {
   "cell_type": "markdown",
   "metadata": {},
   "source": [
    "<br>\n",
    "\n",
    "# COMPLEXITY OF COMPREHENSION\n",
    "\n",
    "Ejercicios relacionados con bucles y condicionales en Python"
   ]
  },
  {
   "cell_type": "markdown",
   "metadata": {},
   "source": [
    "## Excercise 30\n",
    "\n",
    "A spiral matrix is a square matrix of size n × n. It contains all the integers in range from 1 to n * n so that number 1 is written in the bottom right corner, and all other numbers are written in increasing order spirally in the counterclockwise direction.\n",
    "\n",
    "Given the size of the matrix n, your task is to create a spiral matrix.\n",
    "\n",
    "Example\n",
    "\n",
    "```\n",
    "For n = 3, the output should be\n",
    "\n",
    "solution(n) = [[5, 4, 3],\n",
    "                         [6, 9, 2],\n",
    "                         [7, 8, 1]]\n",
    "```\n",
    "\n",
    "\n",
    "Input/Output\n",
    "\n",
    "[execution time limit] 4 seconds (py3)\n",
    "\n",
    "[input] integer n\n",
    "\n",
    "Matrix size, a positive integer.\n",
    "\n",
    "Guaranteed constraints:\n",
    "3 ≤ n ≤ 75.\n",
    "\n",
    "[output] array.array.integer\n",
    "\n",
    "A spiral matrix of size n."
   ]
  },
  {
   "cell_type": "code",
   "execution_count": 65,
   "metadata": {},
   "outputs": [
    {
     "name": "stdout",
     "output_type": "stream",
     "text": [
      "[[7, 6, 5, 4], [8, 15, 14, 3], [9, 16, 13, 2], [10, 11, 12, 1]]\n"
     ]
    }
   ],
   "source": [
    "def solution(n):\n",
    "    dirs = [(-1, 0), (0, -1), (1, 0), (0, 1)]\n",
    "    curDir = 0\n",
    "    curPos = (n - 1, n - 1)\n",
    "    res = [[0 for col in range(n)] for row in range(n)]\n",
    "\n",
    "    for i in range(1, n * n + 1):\n",
    "        res[curPos[0]][curPos[1]] = i\n",
    "        nextPos = curPos[0] + dirs[curDir][0], curPos[1] + dirs[curDir][1]\n",
    "        if not (0 <= nextPos[0] < n and\n",
    "                0 <= nextPos[1] < n and\n",
    "                res[nextPos[0]][nextPos[1]] == 0):\n",
    "            curDir = (curDir + 1) % 4\n",
    "            nextPos = curPos[0] + dirs[curDir][0], curPos[1] + dirs[curDir][1]\n",
    "        curPos = nextPos\n",
    "    return res\n",
    "\n",
    "\n",
    "print(solution(4))\n",
    "\n"
   ]
  },
  {
   "cell_type": "markdown",
   "metadata": {},
   "source": [
    "## Excercise 31\n",
    "\n",
    "A 2D list lst of size 2 * n - 1 is called a shell if it is filled with zeros and has the following configuration:\n",
    "\n",
    "```\n",
    "lst[0] contains one element;\n",
    "lst[1] contains two elements;\n",
    "...\n",
    "lst[n - 2] contains n - 1 elements;\n",
    "lst[n - 1] contains n elements;\n",
    "lst[n] contains n - 1 elements;\n",
    "...\n",
    "lst[2 * n - 3] contains two elements;\n",
    "lst[2 * n - 2] contains one element.\n",
    "```\n",
    "\n",
    "\n",
    "Given an integer n, return a shell list.\n",
    "\n",
    "Example\n",
    "\n",
    "```\n",
    "For n = 3, the output should be\n",
    "\n",
    "solution(n) = [[0],\n",
    "                     [0, 0],\n",
    "                     [0, 0, 0],\n",
    "                     [0, 0],\n",
    "                     [0]]\n",
    "```\n",
    "\n",
    "Input/Output\n",
    "\n",
    "[execution time limit] 4 seconds (py3)\n",
    "\n",
    "[input] integer n\n",
    "\n",
    "An integer defining the size of the shell.\n",
    "\n",
    "Guaranteed constraints:\n",
    "1 ≤ n ≤ 30.\n",
    "\n",
    "[output] array.array.integer\n",
    "\n",
    "A shell."
   ]
  },
  {
   "cell_type": "code",
   "execution_count": 76,
   "metadata": {},
   "outputs": [
    {
     "name": "stdout",
     "output_type": "stream",
     "text": [
      "[[0], [0, 0], [0, 0, 0], [0, 0, 0, 0], [0, 0, 0, 0, 0], [0, 0, 0, 0], [0, 0, 0], [0, 0], [0]]\n"
     ]
    }
   ],
   "source": [
    "def solution(n):\n",
    "    return [[0]*(i+1) if i < n else [0]*(2*n-i-1) for i in range(2*n-1) ]\n",
    "\n",
    "\n",
    "print(solution(5))\n"
   ]
  },
  {
   "cell_type": "markdown",
   "metadata": {},
   "source": [
    "## Excercise 32\n",
    "\n",
    "You've heard somewhere that a word is more powerful than an action. You decided to put this statement at a test by assigning a power value to each action and each word. To begin somewhere, you defined a power of a word as the sum of powers of its characters, where power of a character is equal to its 1-based index in the plaintext alphabet.\n",
    "\n",
    "Given a word, calculate its power.\n",
    "\n",
    "Example\n",
    "\n",
    "```\n",
    "For word = \"hello\", the output should be\n",
    "solution(word) = 52.\n",
    "\n",
    "Letters 'h', 'e', 'l' and 'o' have powers 8, 5, 12 and 15, respectively. Thus, the total power of the word is 8 + 5 + 12 + 12 + 15 = 52.\n",
    "```\n",
    "\n",
    "\n",
    "Input/Output\n",
    "\n",
    "[execution time limit] 4 seconds (py3)\n",
    "\n",
    "[input] string word\n",
    "\n",
    "A string consisting of lowercase English letters.\n",
    "\n",
    "Guaranteed constraints:\n",
    "1 ≤ word.length ≤ 25.\n",
    "\n",
    "[output] integer\n",
    "\n",
    "Power of the given word."
   ]
  },
  {
   "cell_type": "code",
   "execution_count": 90,
   "metadata": {},
   "outputs": [
    {
     "name": "stdout",
     "output_type": "stream",
     "text": [
      "52\n"
     ]
    }
   ],
   "source": [
    "def solution(word):\n",
    "    num = {i: ord(i)-96 for i in word}\n",
    "    return sum([num[ch] for ch in word])\n",
    "\n",
    "word = 'hello'\n",
    "\n",
    "print(solution(word))\n",
    "\n"
   ]
  },
  {
   "cell_type": "markdown",
   "metadata": {},
   "source": [
    "## Excercise 33\n",
    "\n",
    "A pair of numbers is considered to be cool if their product is divisible by their sum. More formally, a pair (i, j) is cool if and only if (i * j) % (i + j) = 0.\n",
    "\n",
    "Given two lists a and b, find cool pairs with the first number in the pair from a, and the second one from b. Return the number of different sums of elements in such pairs.\n",
    "\n",
    "Example\n",
    "\n",
    "```\n",
    "For a = [4, 5, 6, 7, 8] and b = [8, 9, 10, 11, 12],\n",
    "the output should be\n",
    "solution(a, b) = 2.\n",
    "\n",
    "There are three cool pairs that can be formed from these arrays: (4, 12), (6, 12) and (8, 8). Their respective sums are 16, 18 and 16, which means that there are just 2 different sums: 16 and 18. Thus, the output should be equal to 2.\n",
    "```\n",
    "\n",
    "Input/Output\n",
    "\n",
    "[execution time limit] 4 seconds (py3)\n",
    "\n",
    "[input] array.integer a\n",
    "\n",
    "Array of distinct elements.\n",
    "\n",
    "Guaranteed constraints:\n",
    "1 ≤ a.length ≤ 100,\n",
    "1 ≤ a[i] ≤ 100.\n",
    "\n",
    "[input] array.integer b\n",
    "\n",
    "Array of distinct elements.\n",
    "\n",
    "Guaranteed constraints:\n",
    "1 ≤ b.length ≤ 100,\n",
    "1 ≤ b[i] ≤ 100.\n",
    "\n",
    "[output] integer\n",
    "\n",
    "The number of different sums of elements in cool pairs formed by elements from a and b."
   ]
  },
  {
   "cell_type": "code",
   "execution_count": 107,
   "metadata": {},
   "outputs": [
    {
     "name": "stdout",
     "output_type": "stream",
     "text": [
      "2\n"
     ]
    }
   ],
   "source": [
    "def solution(a, b):\n",
    "    uniqueSums = {i+j for i in a for j in b  if (i * j) % (i + j) == 0 }\n",
    "    return len(uniqueSums)\n",
    "\n",
    "a = [4, 5, 6, 7, 8]\n",
    "\n",
    "b = [8, 9, 10, 11, 12]\n",
    "\n",
    "print(solution(a,b))"
   ]
  },
  {
   "cell_type": "markdown",
   "metadata": {},
   "source": [
    "## Excercise 34\n",
    "\n",
    "Looks like your little brother doesn't want to remember the multiplication table! Instead he wants to play videogames all day long. To teach him a lesson you'd like to write a virus that will pop up in the middle of the game and disappear only when the brother correctly solves several math questions.\n",
    "\n",
    "To begin with, you need to construct a multiplication table. Given an integer n, return the multiplication table of size n × n.\n",
    "\n",
    "Example\n",
    "\n",
    "```\n",
    "For n = 5, the output should be\n",
    "\n",
    "solution(n) = [[1, 2,  3,  4,  5 ], \n",
    "                          [2, 4,  6,  8,  10], \n",
    "                          [3, 6,  9,  12, 15], \n",
    "                          [4, 8,  12, 16, 20], \n",
    "                          [5, 10, 15, 20, 25]]\n",
    "```\n",
    "\n",
    "Input/Output\n",
    "\n",
    "[execution time limit] 4 seconds (py3)\n",
    "\n",
    "[input] integer n\n",
    "\n",
    "The size of the multiplication table.\n",
    "\n",
    "Guaranteed constraints:\n",
    "2 ≤ n ≤ 30.\n",
    "\n",
    "[output] array.array.integer\n",
    "\n",
    "Multiplication table of size n × n, i.e. a square matrix that has value i * j at the intersection of the ith row and the jth column (both 1-based)."
   ]
  },
  {
   "cell_type": "code",
   "execution_count": 129,
   "metadata": {},
   "outputs": [
    {
     "name": "stdout",
     "output_type": "stream",
     "text": [
      "[[1, 2, 3, 4], [2, 4, 6, 8], [3, 6, 9, 12], [4, 8, 12, 16]]\n"
     ]
    }
   ],
   "source": [
    "def solution(n):\n",
    "    return [[(idx+1)* (j+1) for idx in range(n)] for j in range(n)] \n",
    "\n",
    "n = 4\n",
    "\n",
    "print(solution(n))"
   ]
  }
 ],
 "metadata": {
  "kernelspec": {
   "display_name": "Python 3.10.4 64-bit",
   "language": "python",
   "name": "python3"
  },
  "language_info": {
   "codemirror_mode": {
    "name": "ipython",
    "version": 3
   },
   "file_extension": ".py",
   "mimetype": "text/x-python",
   "name": "python",
   "nbconvert_exporter": "python",
   "pygments_lexer": "ipython3",
   "version": "3.10.6"
  },
  "orig_nbformat": 4,
  "vscode": {
   "interpreter": {
    "hash": "916dbcbb3f70747c44a77c7bcd40155683ae19c65e1c03b4aa3499c5328201f1"
   }
  }
 },
 "nbformat": 4,
 "nbformat_minor": 2
}
