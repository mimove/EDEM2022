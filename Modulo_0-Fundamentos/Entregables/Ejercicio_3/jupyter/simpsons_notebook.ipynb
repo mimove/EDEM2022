{
 "cells": [
  {
   "cell_type": "markdown",
   "metadata": {},
   "source": [
    "# NOTEBOOK ENTREGABLE 0 SIMPSONS\n",
    "\n",
    "En este Notebook se realiza la representación de los datos obtenidos en el contenedor de Python sobre los datos obtenidos de la [API de los simpsons][simpsons]\n",
    "\n",
    "\n",
    "[//]: # (These are reference links used in the body of this note and get stripped out when the markdown processor does its job.)\n",
    "\n",
    "[simpsons]: <https://thesimpsonsquoteapi.glitch.me/quotes>"
   ]
  },
  {
   "cell_type": "markdown",
   "metadata": {},
   "source": [
    "## Gráfico palabras más habituales\n",
    "\n",
    "En el gráfico, se muestra una representación de las palabras más habituales generadas con el programa main.py que se van guardando en el archivo countedWords.csv\n"
   ]
  },
  {
   "cell_type": "code",
   "execution_count": 2,
   "metadata": {},
   "outputs": [
    {
     "data": {
      "image/png": "[encoded data removed]",
      "text/plain": [
       "<Figure size 640x480 with 1 Axes>"
      ]
     },
     "metadata": {},
     "output_type": "display_data"
    }
   ],
   "source": [
    "import pandas as pd\n",
    "import time\n",
    "from matplotlib import pyplot as plt\n",
    "import os\n",
    "\n",
    "\n",
    "\n",
    "data = pd.read_csv('results/countedWords.csv')\n",
    "\n",
    "df = pd.DataFrame(data)\n",
    "\n",
    "dfSorted = df.sort_values(by='Cuenta', ascending=False)\n",
    "\n",
    "\n",
    "\n",
    "X = list(dfSorted.iloc[:10, 0])\n",
    "Y = list(dfSorted.iloc[:10, 1])\n",
    "    \n",
    "# Plot the data using bar() method\n",
    "plt.title(\"10 Palabras más comunes frases Simpsons\")\n",
    "plt.xlabel(\"Palabra\")\n",
    "plt.ylabel(\"Cuenta\")\n",
    "    \n",
    "plt.bar(X, Y, color='b')\n",
    "    \n",
    "plt.show()"
   ]
  },
  {
   "cell_type": "markdown",
   "metadata": {},
   "source": [
    "En la siguiente celda se imprime un listado de todos los directorios con nombres de personajes, así como del nombre de la imagen de cada uno de los personajes"
   ]
  },
  {
   "cell_type": "code",
   "execution_count": 3,
   "metadata": {},
   "outputs": [
    {
     "name": "stdout",
     "output_type": "stream",
     "text": [
      "Directorio: Milhouse_Van_Houten\n",
      "    Imagen: Milhouse_Van_Houten.png\n",
      "\n",
      "Directorio: Abe_Simpson\n",
      "    Imagen: Abe_Simpson.png\n",
      "\n",
      "Directorio: Ralph_Wiggum\n",
      "    Imagen: Ralph_Wiggum.png\n",
      "\n",
      "Directorio: Mr_Burns\n",
      "    Imagen: Mr_Burns.png\n",
      "\n",
      "Directorio: Chief_Wiggum\n",
      "    Imagen: Chief_Wiggum.png\n",
      "\n",
      "Directorio: Waylon_Smithers\n",
      "    Imagen: Waylon_Smithers.png\n",
      "\n",
      "Directorio: Frank_Grimes\n",
      "    Imagen: Frank_Grimes.png\n",
      "\n",
      "Directorio: Homer_Simpson\n",
      "    Imagen: Homer_Simpson.png\n",
      "\n",
      "Directorio: Rainier_Wolfcastle\n",
      "    Imagen: Rainier_Wolfcastle.png\n",
      "\n"
     ]
    }
   ],
   "source": [
    "import os\n",
    "for i in os.listdir(r'./results'):\n",
    "    if '.' not in i:\n",
    "        print(f'Directorio: {i}')\n",
    "        for j in os.listdir('./results/'+i):\n",
    "            if '.png' in j:\n",
    "                print(f'    Imagen: {j}\\n')"
   ]
  }
 ],
 "metadata": {
  "kernelspec": {
   "display_name": "Python 3.10.6 64-bit",
   "language": "python",
   "name": "python3"
  },
  "language_info": {
   "codemirror_mode": {
    "name": "ipython",
    "version": 3
   },
   "file_extension": ".py",
   "mimetype": "text/x-python",
   "name": "python",
   "nbconvert_exporter": "python",
   "pygments_lexer": "ipython3",
   "version": "3.10.6"
  },
  "orig_nbformat": 4,
  "vscode": {
   "interpreter": {
    "hash": "916dbcbb3f70747c44a77c7bcd40155683ae19c65e1c03b4aa3499c5328201f1"
   }
  }
 },
 "nbformat": 4,
 "nbformat_minor": 2
}
