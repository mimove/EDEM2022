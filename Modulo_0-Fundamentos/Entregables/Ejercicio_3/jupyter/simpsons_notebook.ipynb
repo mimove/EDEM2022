{
 "cells": [
  {
   "cell_type": "markdown",
   "metadata": {},
   "source": [
    "# NOTEBOOK ENTREGABLE 0 SIMPSONS\n",
    "\n",
    "En este Notebook se realiza la representación de los datos obtenidos en el contenedor de Python sobre los datos obtenidos de la [API de los simpsons][simpsons]\n",
    "\n",
    "\n",
    "[//]: # (These are reference links used in the body of this note and get stripped out when the markdown processor does its job.)\n",
    "\n",
    "[simpsons]: <https://thesimpsonsquoteapi.glitch.me/quotes>"
   ]
  },
  {
   "cell_type": "markdown",
   "metadata": {},
   "source": [
    "*Esta celda que viene a continuación es necesaria para evitar que aparezca una barra de scroll en el gráfico de los personajes cuando hacemos el print de la barra de progreso."
   ]
  },
  {
   "cell_type": "code",
   "execution_count": null,
   "metadata": {},
   "outputs": [],
   "source": [
    "%%javascript\n",
    "IPython.OutputArea.prototype._should_scroll = function(lines) {\n",
    "    return false;\n",
    "}"
   ]
  },
  {
   "cell_type": "markdown",
   "metadata": {},
   "source": [
    "Mi intención con esta celda de código (que dejo aquí copiado para seguir intentándolo en el futuro) era crear un cluster para **ejecutar en paralelo las 2 celdas con los plots**, ya que he puesto un loop para que se ejecuten en tiempo real. Ahora mismo hay que ejecutar o bien la celda del gráfico de palabras, o bien la de las imágenes de personajes, ya que Jupyter por defecto ejecuta las celdas secuencialmente."
   ]
  },
  {
   "cell_type": "code",
   "execution_count": null,
   "metadata": {},
   "outputs": [],
   "source": [
    "import ipyparallel as ipp\n",
    "\n",
    "# Initializing local cluster with 2 cpus\n",
    "\n",
    "rc = ipp.Cluster(n=2).start_and_connect_sync()\n",
    "\n",
    "rc.wait_for_engines(n=2)\n",
    "\n",
    "\n",
    "# Asigning the name %%px_1 to the first cpu of the cluster\n",
    "c1 = rc[0]\n",
    "c1.activate('_1')\n",
    "c1.block = True\n",
    "\n",
    "# Asigning the name %%px_2 to the second cpu of the cluster\n",
    "c2 = rc[1]\n",
    "c2.activate('_2')\n",
    "c2.block = True"
   ]
  },
  {
   "cell_type": "markdown",
   "metadata": {},
   "source": [
    "## Gráfico palabras más habituales\n",
    "\n",
    "En el gráfico, se muestra una representación de las palabras más habituales generadas con el programa main.py que se van guardando en el archivo countedWords.csv. Una vez se ejecuta la celda, el gráfico se actualiza en tiempo real cuando el archivo .csv cambia de tamaño. <span style=\"color:red\">Para poder ejecutar la celda con las imágenes de los personajes, es necesario parar primero esta celda. </span>\n"
   ]
  },
  {
   "cell_type": "code",
   "execution_count": 6,
   "metadata": {},
   "outputs": [
    {
     "data": {
      "image/png": "[encoded data removed]",
      "text/plain": [
       "<Figure size 640x480 with 1 Axes>"
      ]
     },
     "metadata": {},
     "output_type": "display_data"
    },
    {
     "data": {
      "text/plain": [
       "None"
      ]
     },
     "metadata": {},
     "output_type": "display_data"
    }
   ],
   "source": [
    "import pandas as pd\n",
    "import time\n",
    "import math\n",
    "import os\n",
    "from matplotlib import pyplot as plt\n",
    "from IPython import display\n",
    "\n",
    "\n",
    "totalSize = 0 \n",
    "\n",
    "palabrasMostar = 10 # Number of words to be shown in the plot\n",
    "\n",
    "\n",
    "# This loops updates the bar graph every time the size of the countedWords.csv file changes, which means that there are new words added to the count.\n",
    "while True:\n",
    "    \n",
    "    # The try and except have been introduced to avoid the program from crashing if the file is removed during the execution time.\n",
    "    try:\n",
    "        \n",
    "        # Checking if file exists and if the size of the file is the same as it was before\n",
    "        if os.path.isfile('results/countedWords.csv') != 0 and totalSize != os.stat('results/countedWords.csv').st_size:\n",
    "            data = pd.read_csv('results/countedWords.csv')\n",
    "\n",
    "            df = pd.DataFrame(data)\n",
    "\n",
    "            # Sorting the words in the data frame from highest count to lowest count\n",
    "            dfSorted = df.sort_values(by='Cuenta', ascending=False)\n",
    "\n",
    "\n",
    "\n",
    "            X = list(dfSorted.iloc[:palabrasMostar, 0])\n",
    "            Y = list(dfSorted.iloc[:palabrasMostar, 1])\n",
    "            \n",
    "            \n",
    "            # Updating totalSize with new size of the .csv file\n",
    "            totalSize = os.stat('results/countedWords.csv').st_size\n",
    "            \n",
    "            \n",
    "            \n",
    "            \n",
    "            \n",
    "            \n",
    "            # Checking if the number of words in countedWords.csv is less than the number of words to show in the title of the bar chart\n",
    "            if len(Y) < palabrasMostar:\n",
    "                plt.title(f\"{len(Y)} Palabras más comunes frases Simpsons\") \n",
    "            else:\n",
    "                plt.title(f\"{len(Y)} Palabras más comunes frases Simpsons\")\n",
    "                \n",
    "                \n",
    "                \n",
    "            plt.xlabel(\"Palabra\")\n",
    "            plt.ylabel(\"Cuenta\")\n",
    "\n",
    "\n",
    "            # Rotating x-axis words 90º to avoid overlapping of words\n",
    "            plt.xticks(rotation=90)\n",
    "            \n",
    "            \n",
    "            # Defining graph as a bar chart with bars in blue colour\n",
    "            plt.bar(X, Y, color='b')\n",
    "            \n",
    "            \n",
    "            # These two lines update de graph every time there is a new word count\n",
    "            display.clear_output(wait=True)\n",
    "            display.display(plt.show(block=False))\n",
    "            \n",
    "    \n",
    "    # Exception to stop cell when stop button is pressed\n",
    "    except KeyboardInterrupt:\n",
    "        break     \n",
    "            \n",
    "\n",
    "    # Exception to repeat loop if reading of the file gives an error\n",
    "    except:\n",
    "        continue"
   ]
  },
  {
   "cell_type": "markdown",
   "metadata": {},
   "source": [
    "## Imagenes personajes con nombre de directorio como título\n",
    "\n",
    "En la siguiente celda se muestran un gráfico (subplot) con todas las imágenes de los personajes que se han descargado. Una vez se ejecuta la celda, las imágenes se actualiza en tiempo real conforme nuevas carpetas de personajes se van creando. <span style=\"color:red\">Para poder ejecutar la celda con el gráfico de las palabras, es necesario parar primero esta celda. </span>"
   ]
  },
  {
   "cell_type": "code",
   "execution_count": 2,
   "metadata": {},
   "outputs": [],
   "source": [
    "import os\n",
    "import time\n",
    "import math\n",
    "import imghdr\n",
    "from matplotlib import pyplot as plt\n",
    "from matplotlib import image as mpimg\n",
    "from IPython import display\n",
    "from tqdm import tqdm\n",
    "\n",
    "\n",
    "\n",
    "numcols = 3 # Define how many images per row are shown\n",
    "\n",
    "listImages = list() # Storing existing images to check if there is new images\n",
    "\n",
    "\n",
    "# This loops updates the subplot every time a new image is added to the folder of a Simpsons character\n",
    "while True:\n",
    "    \n",
    "    # The try and except have been introduced to avoid the program from crashing if an image or folder is removed during the execution time.\n",
    "    try:\n",
    "    \n",
    "        # Checking if results folder is not empty and if there are new characters added\n",
    "        if len(next(os.walk('./results'))[1]) != 0 and len(listImages) != len(next(os.walk('./results'))[1]):\n",
    "            \n",
    "            listImages = next(os.walk('./results'))[1] # Updating list of images in the folder\n",
    "            \n",
    "            numrows = math.ceil(len(os.listdir(r'./results'))/numcols) # Equation to obtain number of rows of the subplot\n",
    "                            \n",
    "            fig, ax  = plt.subplots(numrows, numcols, sharex=False, sharey=False, figsize=(numcols*5, numrows*5), squeeze=False) # Squeeze=False to ensure a 2-D Array\n",
    "            \n",
    "            fig.subplots_adjust(hspace=0.8)  # Adding a vertical spacing between rows of 0.3\n",
    "            \n",
    "            # Turn all axis off\n",
    "            [axi.set_axis_off() for axi in ax.ravel()]\n",
    "            \n",
    "            # Initializing count of rows and columns\n",
    "            row = 0\n",
    "            col = 0     \n",
    "        \n",
    "        \n",
    "            # If there are more than 15 images, print a loader to help the user see that the code is working\n",
    "            if len(listImages) >= 15:\n",
    "                imageBar = tqdm(listImages)\n",
    "                imageBar.set_description(\"Procesando imágenes\")\n",
    "            else:\n",
    "                imageBar = listImages\n",
    "            \n",
    "            \n",
    "            for i in imageBar:\n",
    "                \n",
    "                \n",
    "                # This while loop is necesary to check if the png image is fully downloaded to avoid the cell from crashing if it's still downloading it from the url\n",
    "                while imghdr.what('./results/'+i+'/'+i+'.png') != 'png' or os.path.exists('./results/'+i+'/'+i+'.png') == False:\n",
    "                    continue\n",
    "                \n",
    "                else:\n",
    "                    \n",
    "                    # Getting image\n",
    "                    image = mpimg.imread('./results/'+i+'/'+i+'.png')\n",
    "                    \n",
    "                    ax[row,col].use_sticky_edges = False\n",
    "                    ax[row,col].imshow(image)\n",
    "                    ax[row,col].set_title(f\"Directorio: {i}\")\n",
    "                    \n",
    "                    \n",
    "                    # Moving to the next position of the subplot to show the next character image.\n",
    "                    if (col + 1)  % numcols == 0:\n",
    "                        col = 0\n",
    "                        row += 1\n",
    "                    else:\n",
    "                        col += 1\n",
    "            \n",
    "            # These two lines update de subplot with images every time there is a new image\n",
    "            display.display(plt.show())\n",
    "            display.clear_output(wait=True)    \n",
    "                \n",
    "    \n",
    "    \n",
    "    # Exception to stop cell when stop button is pressed\n",
    "    except KeyboardInterrupt:\n",
    "        break     \n",
    "            \n",
    "    # Exception to repeat loop if reading of the file gives an error\n",
    "    except Exception as e:\n",
    "        print(e)\n",
    "        continue"
   ]
  }
 ],
 "metadata": {
  "kernelspec": {
   "display_name": "Python 3.10.6 64-bit",
   "language": "python",
   "name": "python3"
  },
  "language_info": {
   "codemirror_mode": {
    "name": "ipython",
    "version": 3
   },
   "file_extension": ".py",
   "mimetype": "text/x-python",
   "name": "python",
   "nbconvert_exporter": "python",
   "pygments_lexer": "ipython3",
   "version": "3.10.6"
  },
  "orig_nbformat": 4,
  "vscode": {
   "interpreter": {
    "hash": "916dbcbb3f70747c44a77c7bcd40155683ae19c65e1c03b4aa3499c5328201f1"
   }
  }
 },
 "nbformat": 4,
 "nbformat_minor": 2
}
