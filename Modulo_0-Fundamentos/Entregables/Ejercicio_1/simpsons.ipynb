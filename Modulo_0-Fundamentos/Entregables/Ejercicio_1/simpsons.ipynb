{
  "nbformat": 4,
  "nbformat_minor": 0,
  "metadata": {
    "colab": {
      "provenance": []
    },
    "kernelspec": {
      "name": "python3",
      "display_name": "Python 3"
    },
    "language_info": {
      "name": "python"
    }
  },
  "cells": [
    {
      "cell_type": "markdown",
      "source": [
        "# Google colab con Notebook del ejercicio nivel Maggie (Ejercicio_1)\n",
        "\n",
        "Lo primero es crear las carpetas que vamos a necesitar para este ejercicio:"
      ],
      "metadata": {
        "id": "UXNmpH9KXKR4"
      }
    },
    {
      "cell_type": "code",
      "source": [
        "!mkdir Homer\n",
        "!mkdir Lisa\n",
        "!mkdir General"
      ],
      "metadata": {
        "colab": {
          "base_uri": "https://localhost:8080/"
        },
        "id": "G3VP7kxTXUlT",
        "outputId": "68dcf1d0-75f9-49c9-afe7-70c57f9e83d9"
      },
      "execution_count": null,
      "outputs": [
        {
          "output_type": "stream",
          "name": "stdout",
          "text": [
            "mkdir: cannot create directory ‘Homer’: File exists\n",
            "mkdir: cannot create directory ‘Lisa’: File exists\n",
            "mkdir: cannot create directory ‘General’: File exists\n"
          ]
        }
      ]
    },
    {
      "cell_type": "markdown",
      "source": [
        "Una vez que tenemos las carpetas ya creadas, podemos ejecutar el siguiente script para clasificar las frases de los personajes"
      ],
      "metadata": {
        "id": "8campLysXj6J"
      }
    },
    {
      "cell_type": "code",
      "execution_count": null,
      "metadata": {
        "colab": {
          "base_uri": "https://localhost:8080/",
          "height": 775
        },
        "id": "_iCHfcuVfWeN",
        "outputId": "89889a2b-2330-405c-db0d-4b61f07334bb"
      },
      "outputs": [
        {
          "output_type": "stream",
          "name": "stdout",
          "text": [
            "{'Personaje': 'Groundskeeper Willie', 'Frase': 'Back in Edinburg, we had a coal miners strike. All we wanted were hats with a wee light on top. Then one day the mine collapsed. No one made it out alive, not even Willie!'}\n",
            "La frase de Groundskeeper Willie es: Back in Edinburg, we had a coal miners strike. All we wanted were hats with a wee light on top. Then one day the mine collapsed. No one made it out alive, not even Willie!\n",
            "{'Personaje': 'Troy McClure', 'Frase': 'Ahh! Sweet liquor eases the pain.'}\n",
            "La frase de Troy McClure es: Ahh! Sweet liquor eases the pain.\n",
            "{'Personaje': 'Homer Simpson', 'Frase': \"I hope I didn't brain my damage.\"}\n",
            "La frase de Homer Simpson es: I hope I didn't brain my damage.\n",
            "{'Personaje': 'Homer Simpson', 'Frase': 'In theory, Communism works! In theory.'}\n",
            "La frase de Homer Simpson es: In theory, Communism works! In theory.\n",
            "{'Personaje': 'Homer Simpson', 'Frase': \"I hope I didn't brain my damage.\"}\n",
            "La frase de Homer Simpson es: I hope I didn't brain my damage.\n",
            "{'Personaje': 'Nelson Muntz', 'Frase': 'Shoplifting is a victimless crime, like punching someone in the dark.'}\n",
            "La frase de Nelson Muntz es: Shoplifting is a victimless crime, like punching someone in the dark.\n",
            "{'Personaje': 'Troy McClure', 'Frase': 'Ahh! Sweet liquor eases the pain.'}\n",
            "La frase de Troy McClure es: Ahh! Sweet liquor eases the pain.\n",
            "{'Personaje': 'Dr. Nick', 'Frase': 'Inflammable means flammable? What a country!'}\n",
            "La frase de Dr. Nick es: Inflammable means flammable? What a country!\n",
            "{'Personaje': 'Homer Simpson', 'Frase': 'Oh, so they have Internet on computers now!'}\n",
            "La frase de Homer Simpson es: Oh, so they have Internet on computers now!\n",
            "{'Personaje': 'Homer Simpson', 'Frase': \"I hope I didn't brain my damage.\"}\n",
            "La frase de Homer Simpson es: I hope I didn't brain my damage.\n",
            "{'Personaje': 'Abe Simpson', 'Frase': 'Why are you pleople avoiding me? Does my withered face remind you of the grim specter of death?'}\n",
            "La frase de Abe Simpson es: Why are you pleople avoiding me? Does my withered face remind you of the grim specter of death?\n",
            "{'Personaje': 'Ralph Wiggum', 'Frase': \"That's where I saw the leprechaun...He told me to burn things.\"}\n",
            "La frase de Ralph Wiggum es: That's where I saw the leprechaun...He told me to burn things.\n",
            "{'Personaje': 'Ralph Wiggum', 'Frase': \"Me fail English? That's unpossible.\"}\n",
            "La frase de Ralph Wiggum es: Me fail English? That's unpossible.\n",
            "{'Personaje': 'Mayor Quimby', 'Frase': \"Can't we have one meeting that doesn't end with us digging up a corpse?\"}\n",
            "La frase de Mayor Quimby es: Can't we have one meeting that doesn't end with us digging up a corpse?\n",
            "{'Personaje': 'Nelson Muntz', 'Frase': 'Shoplifting is a victimless crime, like punching someone in the dark.'}\n",
            "La frase de Nelson Muntz es: Shoplifting is a victimless crime, like punching someone in the dark.\n"
          ]
        },
        {
          "output_type": "error",
          "ename": "KeyboardInterrupt",
          "evalue": "ignored",
          "traceback": [
            "\u001b[0;31m---------------------------------------------------------------------------\u001b[0m",
            "\u001b[0;31mKeyboardInterrupt\u001b[0m                         Traceback (most recent call last)",
            "\u001b[0;32m<ipython-input-2-3be60b31710e>\u001b[0m in \u001b[0;36m<module>\u001b[0;34m\u001b[0m\n\u001b[1;32m     62\u001b[0m               \u001b[0mw\u001b[0m\u001b[0;34m.\u001b[0m\u001b[0mwriterow\u001b[0m\u001b[0;34m(\u001b[0m\u001b[0mdatos\u001b[0m\u001b[0;34m)\u001b[0m\u001b[0;34m\u001b[0m\u001b[0;34m\u001b[0m\u001b[0m\n\u001b[1;32m     63\u001b[0m \u001b[0;34m\u001b[0m\u001b[0m\n\u001b[0;32m---> 64\u001b[0;31m         \u001b[0mtime\u001b[0m\u001b[0;34m.\u001b[0m\u001b[0msleep\u001b[0m\u001b[0;34m(\u001b[0m\u001b[0;36m1\u001b[0m\u001b[0;34m)\u001b[0m\u001b[0;34m\u001b[0m\u001b[0;34m\u001b[0m\u001b[0m\n\u001b[0m\u001b[1;32m     65\u001b[0m \u001b[0;34m\u001b[0m\u001b[0m\n\u001b[1;32m     66\u001b[0m \u001b[0;34m\u001b[0m\u001b[0m\n",
            "\u001b[0;31mKeyboardInterrupt\u001b[0m: "
          ]
        }
      ],
      "source": [
        "import requests\n",
        "import csv\n",
        "import time\n",
        "\n",
        "while True:\n",
        "   \n",
        "    URL = 'https://thesimpsonsquoteapi.glitch.me/quotes'\n",
        "\n",
        "\n",
        "    respuesta = requests.get(URL)\n",
        "\n",
        "    if respuesta.status_code >= 200 and respuesta.status_code < 300:\n",
        "\n",
        "        # Extraemos los datos en formato JSON\n",
        "        \n",
        "        datosjson = respuesta.json()\n",
        "        \n",
        "        datos = {\"Personaje\": datosjson[0][\"character\"], \"Frase\": datosjson[0][\"quote\"]}\n",
        "        \n",
        "        \n",
        "\n",
        "        print('La frase de {} es: {}'.format(datos[\"Personaje\"], datos[\"Frase\"]))\n",
        "\n",
        "        with open('General/quotes_general.csv', 'a', encoding='UTF8') as f:\n",
        "            w = csv.DictWriter(f, datos.keys())\n",
        "            \n",
        "            if f.tell() == 0:\n",
        "               w.writeheader()\n",
        "\n",
        "            # write the data\n",
        "            w.writerow(datos)\n",
        "\n",
        "\n",
        "        if 'Homer' in datos[\"Personaje\"]:\n",
        "          with open('Homer/quotes_homer.csv', 'a', encoding='UTF8') as f:\n",
        "              w = csv.DictWriter(f, datos.keys())\n",
        "              \n",
        "              if f.tell() == 0:\n",
        "                  w.writeheader()\n",
        "\n",
        "              # write the data\n",
        "              w.writerow(datos)\n",
        "\n",
        "        elif 'Lisa' in datos[\"Personaje\"]:\n",
        "\n",
        "           with open('Lisa/quotes_lisa.csv', 'a', encoding='UTF8') as f:\n",
        "\n",
        "              w = csv.DictWriter(f, datos.keys())\n",
        "              \n",
        "              if f.tell() == 0:  \n",
        "                  w.writeheader()\n",
        "\n",
        "              # write the data\n",
        "              w.writerow(datos)\n",
        "        \n",
        "        time.sleep(1)"
      ]
    },
    {
      "cell_type": "code",
      "source": [],
      "metadata": {
        "id": "b0JBJAQSjjz5"
      },
      "execution_count": null,
      "outputs": []
    }
  ]
}