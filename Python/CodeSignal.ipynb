{
 "cells": [
  {
   "cell_type": "markdown",
   "metadata": {},
   "source": [
    "# MEET PYTHON\n",
    "\n",
    "Ejercicios Introductorios sobre Python en la plataforma <codesignal.com>\n",
    "\n",
    "## Exercise 1\n"
   ]
  },
  {
   "cell_type": "code",
   "execution_count": 1,
   "metadata": {},
   "outputs": [
    {
     "name": "stdout",
     "output_type": "stream",
     "text": [
      "[True, False]\n"
     ]
    }
   ],
   "source": [
    "xs = [()]\n",
    "\n",
    "res = [False]*2\n",
    "\n",
    "if xs:\n",
    "    res[0] = True\n",
    "    \n",
    "if xs[0]:\n",
    "    res[1] = True\n",
    "\n",
    "print(res) # [True, False]"
   ]
  },
  {
   "cell_type": "markdown",
   "metadata": {},
   "source": [
    "## Excercise 2"
   ]
  },
  {
   "cell_type": "code",
   "execution_count": 2,
   "metadata": {},
   "outputs": [
    {
     "name": "stdout",
     "output_type": "stream",
     "text": [
      "---Time 1:  6.341934204101562e-05 seconds ---\n",
      "---Time 2:  6.341934204101562e-05 seconds ---\n",
      "---Time 3:  6.031990051269531e-05 seconds ---\n"
     ]
    }
   ],
   "source": [
    "import time\n",
    "\n",
    "x = 2\n",
    "\n",
    "y = 4\n",
    "\n",
    "L = 5\n",
    "\n",
    "R = 25\n",
    "\n",
    "start_time = time.time()\n",
    "\n",
    "if L < x**y <= R: # Winner\n",
    "    print(\"---Time 1:  %s seconds ---\" % (time.time() - start_time))\n",
    "\n",
    "\n",
    "\n",
    "start_time = time.time()\n",
    "\n",
    "if x**y > L and x ** y <= R:\n",
    "    print(\"---Time 2:  %s seconds ---\" % (time.time() - start_time))\n",
    "\n",
    "\n",
    "start_time = time.time()\n",
    "\n",
    "if x**y in range(L + 1, R + 1):\n",
    "    print(\"---Time 3:  %s seconds ---\" % (time.time() - start_time)) "
   ]
  },
  {
   "cell_type": "markdown",
   "metadata": {},
   "source": [
    "## Excercise 3"
   ]
  },
  {
   "cell_type": "code",
   "execution_count": 5,
   "metadata": {},
   "outputs": [
    {
     "name": "stdout",
     "output_type": "stream",
     "text": [
      "True\n",
      "True\n",
      "True\n"
     ]
    }
   ],
   "source": [
    "a = True\n",
    "\n",
    "b = False\n",
    "\n",
    "print( a == (not b))\n",
    "\n",
    "# print( a == not b) # Correct, it doesn't work\n",
    "\n",
    "print( not (a == b) )\n",
    "\n",
    "print( not a == b )"
   ]
  },
  {
   "cell_type": "markdown",
   "metadata": {},
   "source": [
    "## Excercise 4\n"
   ]
  },
  {
   "cell_type": "code",
   "execution_count": 6,
   "metadata": {},
   "outputs": [
    {
     "name": "stdout",
     "output_type": "stream",
     "text": [
      "1\n",
      "-4\n",
      "0\n",
      "3\n",
      "-4\n"
     ]
    }
   ],
   "source": [
    "def division(x, y):\n",
    "    return x // y\n",
    "\n",
    "\n",
    "print(division(17, 13))\n",
    "\n",
    "print(division(-8,2))\n",
    "\n",
    "print(division(5,10))\n",
    "\n",
    "print(division(-10, -3))\n",
    "\n",
    "print(division(15, -4)) # Correct, javascript does not rounds"
   ]
  },
  {
   "cell_type": "markdown",
   "metadata": {},
   "source": [
    "## Excercise 5\n",
    "\n",
    "\n",
    "Implement the missing code, denoted by ellipses. You may not modify the pre-existing code.\n",
    "Implement a function that, given an integer n, uses a specific method on it and returns the number of bits in its binary representation.\n",
    "\n",
    "Note: in this task and most of the following tasks you will be given a code snippet with some part of it replaced by the ellipsis (...). Only this part is allowed to be changed.\n",
    "\n",
    "Example\n",
    "\n",
    "For n = 50, the output should be\n",
    "solution(n) = 6.\n",
    "\n",
    "50_10 = 110010_2, a number that consists of 6 digits. Thus, the output should be 6.\n",
    "\n",
    "Input/Output\n",
    "\n",
    "[execution time limit] 4 seconds (py)\n",
    "\n",
    "[input] integer n\n",
    "\n",
    "A positive integer.\n",
    "\n",
    "Guaranteed constraints:\n",
    "1 ≤ n ≤ 10**9.\n",
    "\n",
    "[output] integer\n",
    "\n",
    "The number of bits in binary representation of n."
   ]
  },
  {
   "cell_type": "code",
   "execution_count": 7,
   "metadata": {},
   "outputs": [
    {
     "name": "stdout",
     "output_type": "stream",
     "text": [
      "6\n"
     ]
    }
   ],
   "source": [
    "# Solution A: own method\n",
    "def solution(n):\n",
    "    return len(\"{0:b}\".format(int(n)))\n",
    "    \n",
    "    \n",
    "\n",
    "# Solution B: built in method\n",
    "def solution(n):\n",
    "    return n.bit_length()\n",
    "    \n",
    "\n",
    "print(solution(50))"
   ]
  },
  {
   "cell_type": "markdown",
   "metadata": {},
   "source": [
    "## Excercise 6\n",
    "\n",
    "Implement the missing code, denoted by ellipses. You may not modify the pre-existing code.\n",
    "It frustrates you more than you'd like to admit that the solution operator in Python can be applied to non-integer values. When you write code, you expect the result of the solution operator to always be an integer, but thanks to Python this isn't always the case.\n",
    "\n",
    "To fix this, you've decided to write your own solution operator as a function. Your task is to implement a function that, given a number n, returns -1 if this number is not an integer and n % 2 otherwise. It is guaranteed that if the number represents an integer, it will be written without a decimal point.\n",
    "\n",
    "Example\n",
    "\n",
    "For n = 15, the output should be\n",
    "solution(n) = 1;\n",
    "\n",
    "For n = 23.12, the output should be\n",
    "solution(n) = -1.\n",
    "\n",
    "Input/Output\n",
    "\n",
    "[execution time limit] 4 seconds (py3)\n",
    "\n",
    "[input] numeric n\n",
    "\n",
    "A non-negative number that can be an int, a float, or a long.\n",
    "\n",
    "Guaranteed constraints:\n",
    "0 ≤ n ≤ 1000.\n",
    "\n",
    "[output] integer\n",
    "\n",
    "Return n % 2 if n is an integer, otherwise return -1.\n"
   ]
  },
  {
   "cell_type": "code",
   "execution_count": 8,
   "metadata": {},
   "outputs": [
    {
     "name": "stdout",
     "output_type": "stream",
     "text": [
      "1\n"
     ]
    }
   ],
   "source": [
    "def solution(n):\n",
    "    if type(n) == int:\n",
    "        return n % 2\n",
    "    else:\n",
    "        return -1\n",
    "    \n",
    "\n",
    "print(solution(15))"
   ]
  },
  {
   "cell_type": "markdown",
   "metadata": {},
   "source": [
    "## Excercise 7\n",
    "\n",
    "Implement the missing code, denoted by ellipses. You may not modify the pre-existing code.\n",
    "To understand how efficient the built-in Python sorting function is, you decided to implement your own simple sorting algorithm and compare its speed to the speed of the Python sorting. Write a function that, given an array of integers arr, sorts its elements in ascending order.\n",
    "\n",
    "Hint: with Python it's possible to swap several elements in a single line. To solve the task, use this knowledge to fill in both of the blanks (...).\n",
    "\n",
    "Example\n",
    "\n",
    "For arr = [2, 4, 1, 5], the output should be\n",
    "solution(arr) = [1, 2, 4, 5].\n",
    "\n",
    "Input/Output\n",
    "\n",
    "[execution time limit] 4 seconds (py3)\n",
    "\n",
    "[input] array.integer arr\n",
    "\n",
    "Guaranteed constraints:\n",
    "1 ≤ arr.length ≤ 500,\n",
    "-105 ≤ arr[i] ≤ 105.\n",
    "\n",
    "[output] array.integer\n",
    "\n",
    "The given array with elements sorted in ascending order."
   ]
  },
  {
   "cell_type": "code",
   "execution_count": 9,
   "metadata": {},
   "outputs": [
    {
     "name": "stdout",
     "output_type": "stream",
     "text": [
      "[1, 2, 4, 5]\n"
     ]
    }
   ],
   "source": [
    "def solution(arr):\n",
    "\n",
    "    n = len(arr)\n",
    "\n",
    "    for i in range(n):\n",
    "        j = 0\n",
    "        stop = n - i\n",
    "        while j < stop - 1:\n",
    "            if arr[j] > arr[j + 1]:\n",
    "                arr[j], arr[j + 1] = arr[j + 1] ,  arr [j]\n",
    "            j += 1\n",
    "    return arr\n",
    "\n",
    "\n",
    "print(solution([2, 4, 1, 5])) "
   ]
  },
  {
   "cell_type": "markdown",
   "metadata": {},
   "source": [
    "## Excercise 8\n",
    "\n",
    "Implement the missing code, denoted by ellipses. You may not modify the pre-existing code.\n",
    "Your university professor decided to have a little fun and asked the class to implement a function that, given a number n and a base x, converts the number from base x to base 16. To make things more interesting, he announced that the first student to write the solution will have to answer fewer question than the rest of the class during the final exam.\n",
    "\n",
    "Laughing devilishly, you asked if it was okay to use a language of your choice, and the unsuspecting professor answered \"yes\". It's settled then: Python is your language of choice!\n",
    "\n",
    "Now you're bound to win. Implement a function that, given an integer number n and a base x, converts n from base x to base 16.\n",
    "\n",
    "Example\n",
    "\n",
    "For n = \"1302\" and x = 5, the output should be\n",
    "solution(n, x) = \"ca\".\n",
    "\n",
    "Here's why:\n",
    "1302_5 = 202_10 = ca_16.\n",
    "\n",
    "Input/Output\n",
    "\n",
    "[execution time limit] 4 seconds (py3)\n",
    "\n",
    "[input] string n\n",
    "\n",
    "A valid non-negative integer in base x. The string is guaranteed to consist of digits and lowercase English letters.\n",
    "\n",
    "Guaranteed constraints:\n",
    "1 < n.length ≤ 10.\n",
    "\n",
    "[input] integer x\n",
    "\n",
    "The base of n.\n",
    "\n",
    "Guaranteed constraints:\n",
    "2 ≤ x ≤ 36.\n",
    "\n",
    "[output] string\n",
    "\n",
    "The value of n in base 16. The string should contain only digits and lowercase English letters 'a' - 'f'.\n"
   ]
  },
  {
   "cell_type": "code",
   "execution_count": 10,
   "metadata": {},
   "outputs": [
    {
     "name": "stdout",
     "output_type": "stream",
     "text": [
      "23\n"
     ]
    }
   ],
   "source": [
    "def solution(n, x):\n",
    "    return \"0\" if hex(int(str(n),x)).strip(\"0x\") == \"\" else hex(int(str(n),x)).strip(\"0x\")\n",
    "\n",
    "\n",
    "print(solution(\"z\",36))"
   ]
  },
  {
   "cell_type": "markdown",
   "metadata": {},
   "source": [
    "## Excercise 9\n",
    "\n",
    "Implement the missing code, denoted by ellipses. You may not modify the pre-existing code.\n",
    "You've just started to study impartial games, and came across an interesting theory. The theory is quite complicated, but it can be narrowed down to the following statements: solutions to all such games can be found with the mex function. Mex is an abbreviation of minimum excludant: for the given set s it finds the minimum non-negative integer that is not present in s.\n",
    "\n",
    "You don't yet know how to implement such a function efficiently, so would like to create a simplified version. For the given set s and given an upperBound, implement a function that will find its mex if it's smaller than upperBound or return upperBound instead.\n",
    "\n",
    "Hint: for loops also have an else clause which executes when the loop completes normally, i.e. without encountering any breaks\n",
    "\n",
    "Example\n",
    "\n",
    "For s = [0, 4, 2, 3, 1, 7] and upperBound = 10,\n",
    "the output should be\n",
    "solution(s, upperBound) = 5.\n",
    "\n",
    "5 is the smallest non-negative integer that is not present in s, and it is smaller than upperBound.\n",
    "\n",
    "For s = [0, 4, 2, 3, 1, 7] and upperBound = 3,\n",
    "the output should be\n",
    "solution(s, upperBound) = 3.\n",
    "\n",
    "The minimum excludant for the given set is 5, but it's greater than upperBound, so the output should be 3.\n",
    "\n",
    "Input/Output\n",
    "\n",
    "[execution time limit] 4 seconds (py3)\n",
    "\n",
    "[input] array.integer s\n",
    "\n",
    "Array of distinct non-negative integers.\n",
    "\n",
    "Guaranteed constraints:\n",
    "0 ≤ s.length ≤ 100,\n",
    "0 ≤ s[i] ≤ 100.\n",
    "\n",
    "[input] integer upperBound\n",
    "\n",
    "A positive integer.\n",
    "\n",
    "Guaranteed constraints:\n",
    "1 ≤ upperBound ≤ 100.\n",
    "\n",
    "[output] integer\n",
    "\n",
    "Mex of s if it's smaller than upperBound, or upperBound instead."
   ]
  },
  {
   "cell_type": "code",
   "execution_count": 11,
   "metadata": {},
   "outputs": [
    {
     "name": "stdout",
     "output_type": "stream",
     "text": [
      "3\n"
     ]
    }
   ],
   "source": [
    "def solution(s, upperBound):\n",
    "    found = -1\n",
    "    for i in range(upperBound):\n",
    "        if not i in s:\n",
    "            found = i\n",
    "            break\n",
    "    else:\n",
    "        return upperBound\n",
    "\n",
    "    return found\n",
    "\n",
    "\n",
    "print(solution([0, 4, 2, 3, 1, 7],3)) "
   ]
  },
  {
   "cell_type": "markdown",
   "metadata": {},
   "source": [
    "## Excercise 10\n",
    "\n",
    "Let's call a list beautiful if its first element is equal to its last element, or if a list is empty. Given a list a, your task is to chop off its first and its last element until it becomes beautiful. Implement a function that will make the given a beautiful as described, and return the resulting list as an answer.\n",
    "\n",
    "Hint: one of the features introduced in Python 3 called extended unpacking could help here.\n",
    "\n",
    "Example\n",
    "\n",
    "For a = [3, 4, 2, 4, 38, 4, 5, 3, 2], the output should be\n",
    "solution(a) = [4, 38, 4].\n",
    "\n",
    "Here's how the answer is obtained:\n",
    "[3, 4, 2, 4, 38, 4, 5, 3, 2] => [4, 2, 4, 38, 4, 5, 3] => [2, 4, 38, 4, 5] => [4, 38, 4].\n",
    "\n",
    "For a = [1, 4, -5], the output should be\n",
    "solution(a) = [4].\n",
    "\n",
    "Input/Output\n",
    "\n",
    "[execution time limit] 4 seconds (py3)\n",
    "\n",
    "[input] array.integer a\n",
    "\n",
    "A list of integers.\n",
    "\n",
    "Guaranteed constraints:\n",
    "0 ≤ a.length ≤ 50,\n",
    "1 ≤ a[i] ≤ 100.\n",
    "\n",
    "[output] array.integer\n",
    "\n",
    "A beautiful list obtained as described above.\n",
    "\n",
    "Info from <https://stackoverflow.com/questions/6967632/unpacking-extended-unpacking-and-nested-extended-unpacking>"
   ]
  },
  {
   "cell_type": "code",
   "execution_count": 12,
   "metadata": {},
   "outputs": [
    {
     "name": "stdout",
     "output_type": "stream",
     "text": [
      "[4, 38, 4]\n"
     ]
    }
   ],
   "source": [
    "def solution(a):\n",
    "    res = a[:]\n",
    "    while res and res[0] != res[-1]:\n",
    "        *(a,*res),c = res\n",
    "    return res\n",
    "\n",
    "\n",
    "print(solution([3, 4, 2, 4, 38, 4, 5, 3, 2]))"
   ]
  },
  {
   "cell_type": "markdown",
   "metadata": {},
   "source": [
    "<br>\n",
    "\n",
    "# SLITHERING IN STRINGS  \n",
    "\n",
    "Ejercicios relacionados con Strings en Python"
   ]
  },
  {
   "cell_type": "markdown",
   "metadata": {},
   "source": [
    "## Exercise 11"
   ]
  },
  {
   "cell_type": "code",
   "execution_count": 14,
   "metadata": {},
   "outputs": [],
   "source": [
    "s = 'abacaba'\n",
    "\n",
    "s = \"abacaba\"\n",
    "\n",
    "#s = ''abacaba'' # Incorrect\n",
    "\n",
    "#s = \"\"abacaba\"\" # Incorrect\n",
    "\n",
    "s = '''abacaba'''\n",
    "\n",
    "s = \"\"\"abacaba\"\"\""
   ]
  },
  {
   "cell_type": "markdown",
   "metadata": {},
   "source": [
    "## Excercise 12\n",
    "\n",
    "One of your friends has an awful writing style: he almost never starts a message with a capital letter, but adds uppercase letters in random places throughout the message. It makes chatting with him very difficult for you, so you decided to write a plugin that will change each message received from your friend into a more readable form.\n",
    "\n",
    "Implement a function that will change the very first symbol of the given message to uppercase, and make all the other letters lowercase.\n",
    "\n",
    "Example\n",
    "\n",
    "For message = \"you'll NEVER believe what that 'FrIeNd' of mine did!!1\",\n",
    "the output should be\n",
    "solution(message) = \"You'll never believe what that 'friend' of mine did!!1\".\n",
    "\n",
    "Input/Output\n",
    "\n",
    "[execution time limit] 4 seconds (py3)\n",
    "\n",
    "[input] string message\n",
    "\n",
    "A string consisting of English letters, whitespace characters, digits and punctuation marks.\n",
    "\n",
    "Guaranteed constraints:\n",
    "1 ≤ message.length ≤ 65.\n",
    "\n",
    "[output] string\n",
    "\n",
    "Fixed message with its first letter capitalized, and all other letters converted to lowercase."
   ]
  },
  {
   "cell_type": "code",
   "execution_count": 15,
   "metadata": {},
   "outputs": [
    {
     "name": "stdout",
     "output_type": "stream",
     "text": [
      "You'll never believe what that 'friend' of mine did!!1\n"
     ]
    }
   ],
   "source": [
    "def solution(message):\n",
    "    return message.capitalize()\n",
    "\n",
    "\n",
    "print(solution(\"you'll NEVER believe what that 'FrIeNd' of mine did!!1\"))"
   ]
  },
  {
   "cell_type": "markdown",
   "metadata": {},
   "source": [
    "## Excercise 13\n",
    "\n",
    "You've been working on a particularly difficult algorithm all day, and finally decided to take a break and drink some coffee. To your horror, when you returned you found out that your cat decided to take a walk on the keyboard in your absence, and pressed a key or two. Your computer doesn't react to letters being pressed when an unauthorized action appears, but allows typing whitespace characters and moving the arrow keys, so now your masterpiece contains way too many whitespace characters.\n",
    "\n",
    "To repair the damage, you need to start with implementing a function that will replace all multiple space characters in the given line of your code with single ones. In addition, all leading and trailing whitespaces should be removed.\n",
    "\n",
    "Example\n",
    "\n",
    "For\n",
    "\n",
    "line = \"def      m   e  gaDifficu     ltFun        ction(x):\"\n",
    "the output should be\n",
    "solution(line) = \"def m e gaDifficu ltFun ction(x):\".\n",
    "\n",
    "Input/Output\n",
    "\n",
    "[execution time limit] 4 seconds (py3)\n",
    "\n",
    "[input] string line\n",
    "\n",
    "One line from your code containing way too many whitespace characters.\n",
    "\n",
    "Guaranteed constraints:\n",
    "5 ≤ line.length ≤ 125.\n",
    "\n",
    "[output] string\n",
    "\n",
    "line with unnecessary whitespace characters removed."
   ]
  },
  {
   "cell_type": "code",
   "execution_count": 16,
   "metadata": {},
   "outputs": [
    {
     "name": "stdout",
     "output_type": "stream",
     "text": [
      "def m e gaDifficu ltFun ction(x):\n"
     ]
    }
   ],
   "source": [
    "def solution(code):\n",
    "    return ' '.join(code.split())\n",
    "\n",
    "\n",
    "print(solution(\"def      m   e  gaDifficu     ltFun        ction(x):\"))"
   ]
  },
  {
   "cell_type": "markdown",
   "metadata": {},
   "source": [
    "## Excercise 14\n",
    "\n",
    "You found an awesome customizable Python IDE that has almost everything you'd like to see in your working environment. However, after a couple days of coding you discover that there is one important feature that this IDE lacks: it cannot convert tabs to spaces. Luckily, the IDE is easily customizable, so you decide to write a plugin that would convert all tabs in the code into the given number of whitespace characters.\n",
    "\n",
    "Implement a function that, given a piece of code and a positive integer x will turn each tabulation character in code into x whitespace characters.\n",
    "\n",
    "Example\n",
    "\n",
    "For code = \"\\treturn False\" and x = 4, the output should be\n",
    "\n",
    "solution(code, x) = \"    return False\"\n",
    "Input/Output\n",
    "\n",
    "[execution time limit] 4 seconds (py3)\n",
    "\n",
    "[input] string code\n",
    "\n",
    "Your piece of code.\n",
    "\n",
    "Guaranteed constraints:\n",
    "0 ≤ code.length ≤ 1500.\n",
    "\n",
    "[input] integer x\n",
    "\n",
    "The number of whitespace characters (' ') that should replace each occurrence of the tabulation character ('\\t').\n",
    "\n",
    "Guaranteed constraints:\n",
    "1 ≤ x ≤ 16.\n",
    "\n",
    "[output] string\n",
    "\n",
    "The given code with tabulation characters expanded according to x."
   ]
  },
  {
   "cell_type": "code",
   "execution_count": 17,
   "metadata": {},
   "outputs": [
    {
     "name": "stdout",
     "output_type": "stream",
     "text": [
      "    return False\n"
     ]
    }
   ],
   "source": [
    "def solution(code, x):\n",
    "    return code.replace('\\t', ' ' * x) \n",
    "\n",
    "\n",
    "print(solution(\"\\treturn False\", 4)) "
   ]
  },
  {
   "cell_type": "markdown",
   "metadata": {},
   "source": [
    "## Excercise 15\n",
    "\n",
    "You've launched a revolutionary service not long ago, and were busy improving it for the last couple of months. When you finally decided that the service is perfect, you remembered that you created a feedbacks page long time ago, which you never checked out since then. Now that you have nothing left to do, you would like to have a look at what the community thinks of your service.\n",
    "\n",
    "Unfortunately it looks like the feedbacks page is far from perfect: each feedback is displayed as a one-line string, and if it's too long there's no way to see what it is about. Naturally, this horrible bug should be fixed. Implement a function that, given a feedback and the size of the screen, splits the feedback into lines so that:\n",
    "\n",
    "each token (i.e. sequence of non-whitespace characters) belongs to one of the lines entirely;\n",
    "each line is at most size characters long;\n",
    "no line has trailing or leading spaces;\n",
    "each line should have the maximum possible length, assuming that all lines before it were also the longest possible.\n",
    "Example\n",
    "\n",
    "For feedback = \"This is an example feedback\" and size = 8,\n",
    "the output should be\n",
    "\n",
    "```py\n",
    "\n",
    "solution(feedback, size) = [\"This is\", \n",
    "                                  \"an\", \n",
    "                                  \"example\", \n",
    "                                  \"feedback\"]\n",
    "```"
   ]
  },
  {
   "cell_type": "code",
   "execution_count": 18,
   "metadata": {},
   "outputs": [
    {
     "name": "stdout",
     "output_type": "stream",
     "text": [
      "['This is', 'an', 'example', 'feedback']\n"
     ]
    }
   ],
   "source": [
    "import textwrap\n",
    "\n",
    "def solution(feedback, size):\n",
    "    return textwrap.wrap(feedback, size)\n",
    "\n",
    "print(solution(\"This is an example feedback\", 8))"
   ]
  },
  {
   "cell_type": "markdown",
   "metadata": {},
   "source": [
    "## Excersise 16\n",
    "\n",
    "Given a word, check whether it is a palindrome or not. A string is considered to be a palindrome if it reads the same in both directions.\n",
    "\n",
    "Example\n",
    "\n",
    "For word = \"aibohphobia\", the output should be\n",
    "solution(word) = true;\n",
    "\n",
    "For word = \"hehehehehe\", the output should be\n",
    "solution(word) = false.\n",
    "\n",
    "Input/Output\n",
    "\n",
    "[execution time limit] 4 seconds (py3)\n",
    "\n",
    "[input] string word\n",
    "\n",
    "A string containing lowercase English letters.\n",
    "\n",
    "Guaranteed constraints:\n",
    "1 ≤ word.length ≤ 20.\n",
    "\n",
    "[output] boolean\n",
    "\n",
    "true if the given word is a palindrome, false otherwise.\n"
   ]
  },
  {
   "cell_type": "code",
   "execution_count": 19,
   "metadata": {},
   "outputs": [
    {
     "name": "stdout",
     "output_type": "stream",
     "text": [
      "False\n"
     ]
    }
   ],
   "source": [
    "def solution(word):\n",
    "    return word == word[::-1]\n",
    "\n",
    "\n",
    "\n",
    "print(solution(\"hehehehehe\")) "
   ]
  },
  {
   "cell_type": "markdown",
   "metadata": {},
   "source": [
    "## Excercise 17\n",
    "\n",
    "You found your very first laptop in the attic, and decided to give in to nostalgia and turn it on. The laptop turned out to be password protected, but you know how to crack it: you have always used the same password, but encrypt it using permutation ciphers with various keys. The key to the cipher used to protect your old laptop very conveniently happened to be written on the laptop lid.\n",
    "\n",
    "Here's how permutation cipher works: the key to it consists of all the letters of the alphabet written up in some order. All occurrences of letter 'a' in the encrypted text are substituted with the first letter of the key, all occurrences of letter 'b' are replaced with the second letter from the key, and so on, up to letter 'z' replaced with the last symbol of the key.\n",
    "\n",
    "Given the password you always use, your task is to encrypt it using the permutation cipher with the given key.\n",
    "\n",
    "Example\n",
    "\n",
    "For password = \"iamthebest\" and\n",
    "key = \"zabcdefghijklmnopqrstuvwxy\", the output should be\n",
    "solution(password, key) = \"hzlsgdadrs\".\n",
    "\n",
    "Here's a table that can be used to encrypt the text:\n",
    "\n",
    "```sh\n",
    "abcdefghijklmnopqrstuvwxyz\n",
    "||  |  ||   |     || \n",
    "vv  v  vv   v     vv\n",
    "zabcdefghijklmnopqrstuvwxy\n",
    "```\n",
    "\n",
    "Input/Output\n",
    "\n",
    "[execution time limit] 4 seconds (py3)\n",
    "\n",
    "[input] string password\n",
    "\n",
    "The password you always use. It is guaranteed to consist only of lowercase English letters.\n",
    "If you're using Python 2, note that the string is given as a unicode.\n",
    "\n",
    "Guaranteed constraints:\n",
    "1 ≤ password.length ≤ 26.\n",
    "\n",
    "[input] string key\n",
    "\n",
    "The key to the permutation cipher. It is guaranteed to be a permutation of the plaintext alphabet.\n",
    "If you're using Python 2, note that the string is given as a unicode.\n",
    "\n",
    "Guaranteed constraints:\n",
    "key.length = 26.\n",
    "\n",
    "[output] string\n",
    "\n",
    "Your password encrypted by the permutations cipher with the given key."
   ]
  },
  {
   "cell_type": "code",
   "execution_count": 20,
   "metadata": {},
   "outputs": [
    {
     "name": "stdout",
     "output_type": "stream",
     "text": [
      "hzlsgdadrs\n"
     ]
    }
   ],
   "source": [
    "def solution(password, key):\n",
    "    table = password.maketrans('abcdefghijklmnopqrstuvwxyz', key)\n",
    "    return password.translate(table)\n",
    "\n",
    "\n",
    "password = \"iamthebest\"\n",
    "\n",
    "key = \"zabcdefghijklmnopqrstuvwxy\"\n",
    "\n",
    "\n",
    "print(solution(password, key))"
   ]
  },
  {
   "cell_type": "markdown",
   "metadata": {},
   "source": [
    "## Excercise 18\n",
    "\n",
    "The World Wide Competitive Eating tournament is going to be held in your town, and you're the one who is responsible for keeping track of time. For the great finale, a large billboard of the given width will be installed on the main square, where the time of possibly new world record will be shown.\n",
    "\n",
    "The track of time will be kept by a float number. It will be displayed on the board with the set precision precision with center alignment, and it is guaranteed that it will fit in the screen. Your task is to test the billboard. Given the time t, the width of the screen and the precision with which the time should be displayed, return a string that should be shown on the billboard.\n",
    "\n",
    "Example\n",
    "\n",
    "For t = 3.1415, width = 10, and precision = 2,\n",
    "the output should be\n",
    "\n",
    "solution(t, width, precision) = \"   3.14   \"\n",
    "Input/Output\n",
    "\n",
    "[execution time limit] 4 seconds (py3)\n",
    "\n",
    "[input] float t\n",
    "\n",
    "The time to be displayed on the billboard. It is guaranteed that t has at most 5 digits after the decimal point.\n",
    "\n",
    "Guaranteed constraints:\n",
    "0 ≤ t < 1000.\n",
    "\n",
    "[input] integer width\n",
    "\n",
    "The width of the billboard. It is guaranteed that it's big enough to display the time t with the desired precision.\n",
    "\n",
    "In case it's impossible to align the time perfectly in the center, left padding should be 1 whitespace character shorter than right padding.\n",
    "\n",
    "Guaranteed constraints:\n",
    "3 ≤ width ≤ 20.\n",
    "\n",
    "[input] integer precision\n",
    "\n",
    "Precision with which the number should be displayed.\n",
    "\n",
    "Guaranteed constraints:\n",
    "0 ≤ precision ≤ 10.\n",
    "\n",
    "[output] string\n",
    "\n",
    "A string of length width representing the time t as it will be displayed on the billboard."
   ]
  },
  {
   "cell_type": "code",
   "execution_count": 21,
   "metadata": {},
   "outputs": [
    {
     "ename": "KeyError",
     "evalue": "'precision'",
     "output_type": "error",
     "traceback": [
      "\u001b[0;31m---------------------------------------------------------------------------\u001b[0m",
      "\u001b[0;31mKeyError\u001b[0m                                  Traceback (most recent call last)",
      "Cell \u001b[0;32mIn [21], line 11\u001b[0m\n\u001b[1;32m      8\u001b[0m width \u001b[39m=\u001b[39m \u001b[39m10\u001b[39m\n\u001b[1;32m      9\u001b[0m precision \u001b[39m=\u001b[39m \u001b[39m2\u001b[39m\n\u001b[0;32m---> 11\u001b[0m \u001b[39mprint\u001b[39m(solution(t, width, precision))\n",
      "Cell \u001b[0;32mIn [21], line 2\u001b[0m, in \u001b[0;36msolution\u001b[0;34m(t, width, precision)\u001b[0m\n\u001b[1;32m      1\u001b[0m \u001b[39mdef\u001b[39;00m \u001b[39msolution\u001b[39m(t, width, precision):\n\u001b[0;32m----> 2\u001b[0m     \u001b[39mreturn\u001b[39;00m \u001b[39m\"\u001b[39;49m\u001b[39m{\u001b[39;49m\u001b[39m:.\u001b[39;49m\u001b[39m{precision}\u001b[39;49;00m\u001b[39mf}\u001b[39;49m\u001b[39m\"\u001b[39;49m\u001b[39m.\u001b[39;49mformat(\u001b[39mstr\u001b[39;49m(\u001b[39mround\u001b[39;49m(t,precision)))\u001b[39m.\u001b[39mcenter(width,\u001b[39m'\u001b[39m\u001b[39m \u001b[39m\u001b[39m'\u001b[39m)\n",
      "\u001b[0;31mKeyError\u001b[0m: 'precision'"
     ]
    }
   ],
   "source": [
    "def solution(t, width, precision):\n",
    "    return \"{:.{precision}f}\".format(str(round(t,precision))).center(width,' ')\n",
    "    \n",
    "    # return f\"{:{precision}f}\".format(round(t,precision)).center(width,' ')\n",
    "\n",
    "\n",
    "t = 3.1415\n",
    "width = 10\n",
    "precision = 2\n",
    "\n",
    "print(solution(t, width, precision))\n",
    "\n"
   ]
  },
  {
   "cell_type": "markdown",
   "metadata": {},
   "source": []
  }
 ],
 "metadata": {
  "kernelspec": {
   "display_name": "Python 3.10.4 64-bit",
   "language": "python",
   "name": "python3"
  },
  "language_info": {
   "codemirror_mode": {
    "name": "ipython",
    "version": 3
   },
   "file_extension": ".py",
   "mimetype": "text/x-python",
   "name": "python",
   "nbconvert_exporter": "python",
   "pygments_lexer": "ipython3",
   "version": "3.10.4"
  },
  "orig_nbformat": 4,
  "vscode": {
   "interpreter": {
    "hash": "916dbcbb3f70747c44a77c7bcd40155683ae19c65e1c03b4aa3499c5328201f1"
   }
  }
 },
 "nbformat": 4,
 "nbformat_minor": 2
}
