{
 "cells": [
  {
   "cell_type": "markdown",
   "metadata": {},
   "source": [
    "# MEET PYTHON\n",
    "\n",
    "Ejercicios Introductorios sobre Python en la plataforma <codesignal.com>\n",
    "\n",
    "## Exercise 1\n"
   ]
  },
  {
   "cell_type": "code",
   "execution_count": 1,
   "metadata": {},
   "outputs": [
    {
     "name": "stdout",
     "output_type": "stream",
     "text": [
      "[True, False]\n"
     ]
    }
   ],
   "source": [
    "xs = [()]\n",
    "\n",
    "res = [False]*2\n",
    "\n",
    "if xs:\n",
    "    res[0] = True\n",
    "    \n",
    "if xs[0]:\n",
    "    res[1] = True\n",
    "\n",
    "print(res) # [True, False]"
   ]
  },
  {
   "cell_type": "markdown",
   "metadata": {},
   "source": [
    "## Excercise 2"
   ]
  },
  {
   "cell_type": "code",
   "execution_count": 2,
   "metadata": {},
   "outputs": [
    {
     "name": "stdout",
     "output_type": "stream",
     "text": [
      "---Time 1:  6.341934204101562e-05 seconds ---\n",
      "---Time 2:  6.341934204101562e-05 seconds ---\n",
      "---Time 3:  6.031990051269531e-05 seconds ---\n"
     ]
    }
   ],
   "source": [
    "import time\n",
    "\n",
    "x = 2\n",
    "\n",
    "y = 4\n",
    "\n",
    "L = 5\n",
    "\n",
    "R = 25\n",
    "\n",
    "start_time = time.time()\n",
    "\n",
    "if L < x**y <= R: # Winner\n",
    "    print(\"---Time 1:  %s seconds ---\" % (time.time() - start_time))\n",
    "\n",
    "\n",
    "\n",
    "start_time = time.time()\n",
    "\n",
    "if x**y > L and x ** y <= R:\n",
    "    print(\"---Time 2:  %s seconds ---\" % (time.time() - start_time))\n",
    "\n",
    "\n",
    "start_time = time.time()\n",
    "\n",
    "if x**y in range(L + 1, R + 1):\n",
    "    print(\"---Time 3:  %s seconds ---\" % (time.time() - start_time)) "
   ]
  },
  {
   "cell_type": "markdown",
   "metadata": {},
   "source": [
    "## Excercise 3"
   ]
  },
  {
   "cell_type": "code",
   "execution_count": 5,
   "metadata": {},
   "outputs": [
    {
     "name": "stdout",
     "output_type": "stream",
     "text": [
      "True\n",
      "True\n",
      "True\n"
     ]
    }
   ],
   "source": [
    "a = True\n",
    "\n",
    "b = False\n",
    "\n",
    "print( a == (not b))\n",
    "\n",
    "# print( a == not b) # Correct, it doesn't work\n",
    "\n",
    "print( not (a == b) )\n",
    "\n",
    "print( not a == b )"
   ]
  }
 ],
 "metadata": {
  "kernelspec": {
   "display_name": "Python 3.10.4 64-bit",
   "language": "python",
   "name": "python3"
  },
  "language_info": {
   "codemirror_mode": {
    "name": "ipython",
    "version": 3
   },
   "file_extension": ".py",
   "mimetype": "text/x-python",
   "name": "python",
   "nbconvert_exporter": "python",
   "pygments_lexer": "ipython3",
   "version": "3.10.6"
  },
  "orig_nbformat": 4,
  "vscode": {
   "interpreter": {
    "hash": "916dbcbb3f70747c44a77c7bcd40155683ae19c65e1c03b4aa3499c5328201f1"
   }
  }
 },
 "nbformat": 4,
 "nbformat_minor": 2
}
