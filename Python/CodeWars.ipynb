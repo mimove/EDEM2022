{
 "cells": [
  {
   "cell_type": "markdown",
   "metadata": {},
   "source": [
    "# CODEWARS TRAINING\n",
    "This Notebook includes all the excercises solved in CodeWars website. "
   ]
  },
  {
   "cell_type": "markdown",
   "metadata": {},
   "source": [
    "## Ex. 1\n",
    "\n",
    "Implement the function unique_in_order which takes as argument a sequence and returns a list of items without any elements with the same value next to each other and preserving the original order of elements.\n",
    "\n",
    "For example:\n",
    "\n",
    "```py\n",
    "unique_in_order('AAAABBBCCDAABBB') == ['A', 'B', 'C', 'D', 'A', 'B']\n",
    "unique_in_order('ABBCcAD')         == ['A', 'B', 'C', 'c', 'A', 'D']\n",
    "unique_in_order([1,2,2,3,3])       == [1,2,3]\n",
    "```"
   ]
  },
  {
   "cell_type": "code",
   "execution_count": 2,
   "metadata": {},
   "outputs": [
    {
     "name": "stdout",
     "output_type": "stream",
     "text": [
      "['A']\n"
     ]
    }
   ],
   "source": [
    "def unique_in_order(iterable):\n",
    "    \n",
    "    listnorep = list()\n",
    "    for i in range(len(iterable)):\n",
    "        if i==0:\n",
    "            listnorep.append(iterable[i])\n",
    "        elif iterable[i] != iterable[i-1]:\n",
    "            listnorep.append(iterable[i])\n",
    "    \n",
    "\n",
    "    return print(listnorep)\n",
    "\n",
    "\n",
    "unique_in_order('A')\n",
    "\n",
    "\n",
    "# Best Practices\n",
    "\n",
    "def unique_in_order(iterable):\n",
    "    k = []\n",
    "    for i in iterable:\n",
    "        if k == []:\n",
    "            k.append(i)\n",
    "        elif k[-1] != i:\n",
    "            k.append(i)\n",
    "    return k"
   ]
  },
  {
   "cell_type": "markdown",
   "metadata": {},
   "source": [
    "## Ex. 2\n",
    "\n",
    "Return the number (count) of vowels in the given string.\n",
    "\n",
    "We will consider a, e, i, o, u as vowels for this Kata (but not y).\n",
    "\n",
    "The input string will only consist of lower case letters and/or spaces."
   ]
  },
  {
   "cell_type": "code",
   "execution_count": 3,
   "metadata": {},
   "outputs": [
    {
     "name": "stdout",
     "output_type": "stream",
     "text": [
      "2\n"
     ]
    }
   ],
   "source": [
    "def get_count(sentence):\n",
    "    count = 0\n",
    "    for i in sentence:\n",
    "        if i=='a' or i=='e' or i == 'i' or i == 'o' or i=='u':\n",
    "            count += 1\n",
    "\n",
    "    return count\n",
    "\n",
    "\n",
    "\n",
    "print(get_count('asdfsasw'))"
   ]
  },
  {
   "cell_type": "markdown",
   "metadata": {},
   "source": [
    "## Ex. 3\n",
    "\n",
    "Create a function that returns the sum of the two lowest positive numbers given an array of minimum 4 positive integers. No floats or non-positive integers will be passed.\n",
    "\n",
    "For example, when an array is passed like [19, 5, 42, 2, 77], the output should be 7.\n",
    "\n",
    "[10, 343445353, 3453445, 3453545353453] should return 3453455."
   ]
  },
  {
   "cell_type": "code",
   "execution_count": 4,
   "metadata": {},
   "outputs": [
    {
     "name": "stdout",
     "output_type": "stream",
     "text": [
      "30\n"
     ]
    }
   ],
   "source": [
    "def sum_two_smallest_numbers(numbers):\n",
    "    numbers.sort()\n",
    "    \n",
    "    x = numbers[0] + numbers[1]\n",
    "    \n",
    "    return x\n",
    "\n",
    "# Best Practices \n",
    "\n",
    "def sum_two_smallest_numbers(numbers):\n",
    "    numbers.sort()\n",
    "    \n",
    "    return sum(numbers[:2])\n",
    "\n",
    "\n",
    "print(sum_two_smallest_numbers([10, 32423423, 20, 23423234, 30]))"
   ]
  },
  {
   "cell_type": "markdown",
   "metadata": {},
   "source": [
    "## Ex. 4\n",
    "\n",
    "This time no story, no theory. The examples below show you how to write function accum:\n",
    "\n",
    "Examples:\n",
    "\n",
    "```py\n",
    "accum(\"abcd\") -> \"A-Bb-Ccc-Dddd\"\n",
    "accum(\"RqaEzty\") -> \"R-Qq-Aaa-Eeee-Zzzzz-Tttttt-Yyyyyyy\"\n",
    "accum(\"cwAt\") -> \"C-Ww-Aaa-Tttt\"\n",
    "```\n",
    "\n",
    "The parameter of accum is a string which includes only letters from a..z and A..Z.\n"
   ]
  },
  {
   "cell_type": "code",
   "execution_count": 5,
   "metadata": {},
   "outputs": [
    {
     "name": "stdout",
     "output_type": "stream",
     "text": [
      "A-Dd-Ddd-Aaaa-Sssss\n"
     ]
    }
   ],
   "source": [
    "def accum(s):\n",
    "    result=\"\"\n",
    "    for i in range(len(s)):\n",
    "        if result == \"\":\n",
    "            result+=s[i].upper()\n",
    "            result+='-'\n",
    "    \n",
    "        else:\n",
    "            for c in range(i+1):\n",
    "                if c == 0:\n",
    "                    result+=s[i].upper()\n",
    "                elif c < i + 1  :\n",
    "                    result+=s[i].lower()\n",
    "                    if c == i and i < len(s) - 1:\n",
    "                        result += '-'\n",
    "\n",
    "\n",
    "            \n",
    "    return result\n",
    "\n",
    "\n",
    "\n",
    "# Best Practice\n",
    "\n",
    "def accum(s):\n",
    "    output = \"\"\n",
    "    for i in range(len(s)):\n",
    "        output+=(s[i]*(i+1))+\"-\"\n",
    "    return output.title()[:-1]\n",
    "                          \n",
    "print(accum('addas'))"
   ]
  },
  {
   "cell_type": "markdown",
   "metadata": {},
   "source": [
    "## Ex. 5\n",
    "\n",
    "Find the average of a list of numbers. If the list\n",
    "is empty it should return 0."
   ]
  },
  {
   "cell_type": "code",
   "execution_count": 8,
   "metadata": {},
   "outputs": [
    {
     "name": "stdout",
     "output_type": "stream",
     "text": [
      "0\n",
      "0\n"
     ]
    }
   ],
   "source": [
    "def find_average(numbers):\n",
    "    \n",
    "    suma = 0\n",
    "    if numbers == []:\n",
    "        return 0\n",
    "    else:\n",
    "        for i in numbers:\n",
    "            suma = suma + i\n",
    "\n",
    "        return suma/len(numbers)\n",
    "\n",
    "print(find_average([]))\n",
    "\n",
    "# Best practice\n",
    "\n",
    "def find_average(array):\n",
    "    try:\n",
    "        return sum(array) / len(array)\n",
    "    except ZeroDivisionError:\n",
    "        return 0 \n",
    "    \n",
    "\n",
    "print(find_average([]))"
   ]
  },
  {
   "cell_type": "markdown",
   "metadata": {},
   "source": [
    "## Ex. 6\n",
    "\n",
    "Write a function that finds the sum of all its arguments.\n",
    "\n",
    "eg:\n",
    "\n",
    "```py\n",
    "sum_args(1, 2, 3) # => 6\n",
    "sum_args(8, 2) # => 10\n",
    "sum_args(1, 2, 3, 4, 5) # => 15\n",
    "```"
   ]
  },
  {
   "cell_type": "code",
   "execution_count": 9,
   "metadata": {},
   "outputs": [
    {
     "name": "stdout",
     "output_type": "stream",
     "text": [
      "15\n"
     ]
    }
   ],
   "source": [
    "# With the * symbol, an arbitrary number of arguments can be passed into a function.\n",
    "\n",
    "def sum_args(*lista):\n",
    "    \n",
    "    suma = 0\n",
    "    for i in lista:\n",
    "        suma += i\n",
    "    return suma\n",
    "\n",
    "\n",
    "print(sum_args(3, 2, 4, 2, 2, 2))"
   ]
  },
  {
   "cell_type": "markdown",
   "metadata": {},
   "source": [
    "## Ex. 7\n",
    "\n",
    "Write a function that accepts an array of 10 integers (between 0 and 9), that returns a string of those numbers in the form of a phone number.\n",
    "\n",
    "Example\n",
    "create_phone_number([1, 2, 3, 4, 5, 6, 7, 8, 9, 0]) # => returns \"(123) 456-7890\"\n",
    "The returned format must be correct in order to complete this challenge.\n",
    "\n",
    "Don't forget the space after the closing parentheses!\n"
   ]
  },
  {
   "cell_type": "code",
   "execution_count": 12,
   "metadata": {},
   "outputs": [
    {
     "name": "stdout",
     "output_type": "stream",
     "text": [
      "(124) 543-22111\n",
      "(124) 543-22111\n"
     ]
    }
   ],
   "source": [
    "def create_phone_number(n):\n",
    "    phone = ''.join(str(e) for e in n)\n",
    "    phone = '(' + phone[:3] + ')' + ' ' + phone[3:6] + '-' + phone[6:]\n",
    "    return phone\n",
    "\n",
    "print(create_phone_number([1,2,4,5,4,3,2,2,1,1,1]))\n",
    "\n",
    "\n",
    "# Best practices\n",
    "\n",
    "def create_phone_number(n):\n",
    "    return \"({}{}{}) {}{}{}-{}{}{}{}{}\".format(*n)\n",
    "\n",
    "print(create_phone_number([1,2,4,5,4,3,2,2,1,1,1]))"
   ]
  },
  {
   "cell_type": "markdown",
   "metadata": {},
   "source": [
    "## Ex. 8\n",
    "\n",
    "You are given an array (which will have a length of at least 3, but could be very large) containing integers. The array is either entirely comprised of odd integers or entirely comprised of even integers except for a single integer N. Write a method that takes the array as an argument and returns this \"outlier\" N.\n",
    "\n",
    "Examples\n",
    "```[2, 4, 0, 100, 4, 11, 2602, 36]```\n",
    "Should return: 11 (the only odd number)\n",
    "\n",
    "```[160, 3, 1719, 19, 11, 13, -21]```\n",
    "Should return: 160 (the only even number)"
   ]
  },
  {
   "cell_type": "code",
   "execution_count": 14,
   "metadata": {},
   "outputs": [
    {
     "name": "stdout",
     "output_type": "stream",
     "text": [
      "11\n",
      "11\n"
     ]
    }
   ],
   "source": [
    "def find_outlier(integers):\n",
    "    listodd = list()\n",
    "    listeven = list()\n",
    "    for i in integers:\n",
    "        if i%2 != 0:\n",
    "            listodd.append(i)\n",
    "        elif i%2 == 0:\n",
    "            listeven.append(i)\n",
    "        elif len(listeven) >=1 and len(listodd) >= 1:\n",
    "            break\n",
    "        \n",
    "    if len(listeven) == 1:\n",
    "        listend = listeven[0]\n",
    "    else:\n",
    "        listend = listodd[0]\n",
    "        \n",
    "    return listend\n",
    "\n",
    "print(find_outlier([2, 4, 0, 100, 4, 11, 2602, 36]))\n",
    "\n",
    "# Best practices\n",
    "\n",
    "def find_outlier(integers):\n",
    "    listEven = []\n",
    "    listOdd = []\n",
    "    for n in integers:\n",
    "        if n % 2 == 0:\n",
    "            listEven.append(n)\n",
    "        else:\n",
    "            listOdd.append(n)\n",
    "            \n",
    "    if len(listEven) == 1:\n",
    "        return listEven[0]\n",
    "    else:\n",
    "        return listOdd[0]\n",
    "    \n",
    "print(find_outlier([2, 4, 0, 100, 4, 11, 2602, 36]))"
   ]
  },
  {
   "cell_type": "markdown",
   "metadata": {},
   "source": [
    "## Ex. 9\n",
    "\n",
    "You just got done with your set at the gym, and you are wondering how much weight you could lift if you did a single repetition. Thankfully, a few scholars have devised formulas for this purpose (from Wikipedia) :\n",
    "\n",
    "Epley\n",
    "\n",
    "(Look formula in wikipedia)\n",
    "\n",
    "McGlothin\n",
    "(Look formula in wikipedia)\n",
    "\n",
    "Lombardi\n",
    "(Look formula in wikipedia)\n",
    "\n",
    " \n",
    "Your function will receive a weight w and a number of repetitions r and must return your projected one repetition maximum. Since you are not sure which formula to use and you are feeling confident, your function will return the largest value from the three formulas shown above, rounded to the nearest integer. However, if the number of repetitions passed in is 1 (i.e., it is already a one rep max), your function must return w. Also, if the number of repetitions passed in is 0 (i.e., no repetitions were completed), your function must return 0."
   ]
  },
  {
   "cell_type": "code",
   "execution_count": 15,
   "metadata": {},
   "outputs": [
    {
     "name": "stdout",
     "output_type": "stream",
     "text": [
      "112\n"
     ]
    }
   ],
   "source": [
    "def calculate_1RM(w, r):\n",
    "    \n",
    "    if r == 0:\n",
    "        return 0\n",
    "    elif r == 1:\n",
    "        return w\n",
    "    else:\n",
    "        eply = w*(1+r/30)\n",
    "        mcglothin = 100*w/(101.3-2.67123*r)\n",
    "        lombardi = w*r**(0.10)\n",
    "    \n",
    "        return round(max([eply, mcglothin, lombardi]))\n",
    "\n",
    "\n",
    "\n",
    "print(calculate_1RM(100,3))"
   ]
  },
  {
   "cell_type": "markdown",
   "metadata": {},
   "source": [
    "## Ex. 10\n",
    "\n",
    "Make a program that filters a list of strings and returns a list with only your friends name in it.\n",
    "\n",
    "If a name has exactly 4 letters in it, you can be sure that it has to be a friend of yours! Otherwise, you can be sure he's not...\n",
    "\n",
    "Ex: ```Input = [\"Ryan\", \"Kieran\", \"Jason\", \"Yous\"], Output = [\"Ryan\", \"Yous\"]```\n",
    "\n",
    "i.e.\n",
    "\n",
    "```py\n",
    "friend([\"Ryan\", \"Kieran\", \"Mark\"])\n",
    "\n",
    "# `shouldBe` \n",
    " \n",
    "[\"Ryan\", \"Mark\"]\n",
    "```\n",
    "\n",
    "Note: keep the original order of the names in the output.\n"
   ]
  },
  {
   "cell_type": "code",
   "execution_count": 16,
   "metadata": {},
   "outputs": [
    {
     "name": "stdout",
     "output_type": "stream",
     "text": [
      "['Ryan', 'Yous']\n"
     ]
    }
   ],
   "source": [
    "def friend(x):\n",
    "\n",
    "# Solution 1\n",
    "    mine = list()\n",
    "    for i in x:\n",
    "        if len(i) == 4:\n",
    "            mine.append(i)\n",
    "        \n",
    "# Solution 2\n",
    "    \n",
    "    mine2 = [i for i in x if len(i) == 4]\n",
    "    \n",
    "    return mine2\n",
    "\n",
    "print(friend([\"Ryan\", \"Kieran\", \"Jason\", \"Yous\"]))"
   ]
  },
  {
   "cell_type": "markdown",
   "metadata": {},
   "source": [
    "## Ex. 11\n",
    "\n",
    "Write a function, persistence, that takes in a positive parameter num and returns its multiplicative persistence, which is the number of times you must multiply the digits in num until you reach a single digit.\n",
    "\n",
    "For example (Input --> Output):\n",
    "\n",
    "```\n",
    "39 --> 3 (because 3*9 = 27, 2*7 = 14, 1*4 = 4 and 4 has only one digit)\n",
    "999 --> 4 (because 9*9*9 = 729, 7*2*9 = 126, 1*2*6 = 12, and finally 1*2 = 2)\n",
    "4 --> 0 (because 4 is already a one-digit number)\n",
    "```"
   ]
  },
  {
   "cell_type": "code",
   "execution_count": 19,
   "metadata": {},
   "outputs": [
    {
     "name": "stdout",
     "output_type": "stream",
     "text": [
      "3\n",
      "3\n"
     ]
    }
   ],
   "source": [
    "def persistence(n):\n",
    "    newn = 1\n",
    "    count = 0\n",
    "    if len(str(n)) == 1:\n",
    "        return 0\n",
    "    else:\n",
    "        nstr = str(n)\n",
    "        while len(nstr) != 1:\n",
    "            for i in nstr:\n",
    "                newn = newn * int(i)   \n",
    "            count += 1\n",
    "            nstr = str(newn)   \n",
    "            if len(nstr) != 1:\n",
    "                newn = 1\n",
    "    return count\n",
    "        \n",
    "\n",
    "print(persistence(39))\n",
    "\n",
    "# Best practice \n",
    "\n",
    "def persistence(n):\n",
    "    n = str(n)\n",
    "    count = 0\n",
    "    while len(n) > 1:\n",
    "        p = 1\n",
    "        for i in n:\n",
    "            p *= int(i)\n",
    "        n = str(p)\n",
    "        count += 1\n",
    "    return count\n",
    "\n",
    "print(persistence(39))"
   ]
  },
  {
   "cell_type": "markdown",
   "metadata": {},
   "source": [
    "## Ex. 12\n",
    "\n",
    "Move the first letter of each word to the end of it, then add \"ay\" to the end of the word. Leave punctuation marks untouched.\n",
    "\n",
    "Examples\n",
    "\n",
    "```py\n",
    "pig_it('Pig latin is cool') # igPay atinlay siay oolcay\n",
    "pig_it('Hello world !')     # elloHay orldway !\n",
    "```"
   ]
  },
  {
   "cell_type": "code",
   "execution_count": 20,
   "metadata": {},
   "outputs": [
    {
     "name": "stdout",
     "output_type": "stream",
     "text": [
      "uisQay ustodietcay psosiay ustodescay ?\n",
      "uisQay ustodietcay psosiay ustodescay ?\n",
      "uisQay ustodietcay psosiay ustodescay ?\n"
     ]
    }
   ],
   "source": [
    "import string\n",
    "\n",
    "def pig_it(text):\n",
    "    newword = ''\n",
    "    for i in text.split():\n",
    "        if i in string.punctuation:\n",
    "            newword += i + ' '\n",
    "        else:\n",
    "            \n",
    "            newword += i[1:] + i[0] + 'ay' + ' '\n",
    "        \n",
    "    return newword[:-1]\n",
    "    \n",
    "\n",
    "\n",
    "print(pig_it('Quis custodiet ipsos custodes ?'))\n",
    "\n",
    "\n",
    "# Best practice\n",
    "\n",
    "# method isalpha detects if the letters of the word are not punctuation marks\n",
    "\n",
    "def pig_it(text):\n",
    "    res = []\n",
    "    \n",
    "    for i in text.split():\n",
    "        if i.isalpha():\n",
    "            res.append(i[1:]+i[0]+'ay')\n",
    "        else:\n",
    "            res.append(i)\n",
    "            \n",
    "    return ' '.join(res)\n",
    "\n",
    "print(pig_it('Quis custodiet ipsos custodes ?'))\n",
    "\n",
    "\n",
    "# Best Code\n",
    "\n",
    "def pig_it(text):\n",
    "    lst = text.split()\n",
    "    return ' '.join( [word[1:] + word[:1] + 'ay' if word.isalpha() else word for word in lst])\n",
    "\n",
    "print(pig_it('Quis custodiet ipsos custodes ?'))"
   ]
  },
  {
   "cell_type": "markdown",
   "metadata": {},
   "source": [
    "## Ex. 13\n",
    "\n",
    "Write a function that takes an integer as input, and returns the number of bits that are equal to one in the binary representation of that number. You can guarantee that input is non-negative.\n",
    "\n",
    "Example: The binary representation of 1234 is 10011010010, so the function should return 5 in this case"
   ]
  },
  {
   "cell_type": "code",
   "execution_count": 22,
   "metadata": {},
   "outputs": [
    {
     "name": "stdout",
     "output_type": "stream",
     "text": [
      "5\n",
      "---Time 1:  0.00015807151794433594 seconds ---\n",
      "5\n",
      "---Time 2:  5.173683166503906e-05 seconds ---\n"
     ]
    }
   ],
   "source": [
    "import time\n",
    "\n",
    "def count_bits(n):\n",
    "   count = 0\n",
    "   for i in str(bin(n)[2:]):\n",
    "       if i == '1':\n",
    "           count+=1\n",
    "   return count\n",
    "\n",
    "start_time = time.time()\n",
    "\n",
    "print(count_bits(1234))\n",
    "\n",
    "print(\"---Time 1:  %s seconds ---\" % (time.time() - start_time))\n",
    "\n",
    "# Best Code\n",
    "\n",
    "# You should always try to see if there is a method before implementing a loop\n",
    "\n",
    "def countBits(n):\n",
    "    return bin(n).count(\"1\")\n",
    "\n",
    "\n",
    "start_time = time.time()\n",
    "\n",
    "print(count_bits(1234))\n",
    "\n",
    "print(\"---Time 2:  %s seconds ---\" % (time.time() - start_time))"
   ]
  },
  {
   "cell_type": "markdown",
   "metadata": {},
   "source": [
    "## Ex. 14\n",
    "\n",
    "ROT13 is a simple letter substitution cipher that replaces a letter with the letter 13 letters after it in the alphabet. ROT13 is an example of the Caesar cipher.\n",
    "\n",
    "Create a function that takes a string and returns the string ciphered with Rot13. If there are numbers or special characters included in the string, they should be returned as they are. Only letters from the latin/english alphabet should be shifted, like in the original Rot13 \"implementation\".\n",
    "\n",
    "Please note that using encode is considered cheating."
   ]
  },
  {
   "cell_type": "code",
   "execution_count": 23,
   "metadata": {},
   "outputs": [
    {
     "name": "stdout",
     "output_type": "stream",
     "text": [
      "nN oO mM 1234 *!?%\n",
      "25\n",
      "nN oO mM 1234 *!?%\n"
     ]
    }
   ],
   "source": [
    "import string\n",
    "\n",
    "def rot13(message):\n",
    "    alphabet = list(string.ascii_letters)\n",
    "    newm = ''\n",
    "    for i in message:\n",
    "        if i.isalpha():\n",
    "            if string.ascii_letters.index(i) + 13 < 26:\n",
    "                newm += alphabet[string.ascii_letters.index(i) + 13]\n",
    "            elif string.ascii_letters.index(i) + 13 < 39 :\n",
    "                newm += alphabet[string.ascii_letters.index(i) + 13 - 26] \n",
    "            else:\n",
    "                newm += alphabet[string.ascii_letters.index(i) + 13 - 26].upper()\n",
    "        else:\n",
    "            newm += i\n",
    "    return newm \n",
    "\n",
    "\n",
    "print(rot13('aA bB zZ 1234 *!?%')) \n",
    "\n",
    "\n",
    "# Best practice \n",
    "\n",
    "# Use the % for getting the remainder of a division is important when looping over a closed list like the alphabet one.\n",
    "\n",
    "import string\n",
    "from codecs import encode as _dont_use_this_\n",
    "\n",
    "def rot13(message):\n",
    "    alpha = \"ABCDEFGHIJKLMNOPQRSTUVWXYZ\"\n",
    "    outputMessage = \"\"\n",
    "    for letter in message:\n",
    "        if letter in alpha.lower():\n",
    "            outputMessage += alpha[(alpha.lower().index(letter) +13) % 26].lower()\n",
    "            \n",
    "        elif letter in alpha:\n",
    "            outputMessage += alpha[(alpha.index(letter) +13) % 26]\n",
    "        else:\n",
    "            outputMessage += letter\n",
    "        \n",
    "    print((alpha.index('Z') ) )\n",
    "    return outputMessage\n",
    "\n",
    "\n",
    "print(rot13('aA bB zZ 1234 *!?%'))"
   ]
  },
  {
   "cell_type": "markdown",
   "metadata": {},
   "source": [
    "## Ex. 15\n",
    "\n",
    "A pangram is a sentence that contains every single letter of the alphabet at least once. For example, the sentence \"The quick brown fox jumps over the lazy dog\" is a pangram, because it uses the letters A-Z at least once (case is irrelevant).\n",
    "\n",
    "Given a string, detect whether or not it is a pangram. Return True if it is, False if not. Ignore numbers and punctuation."
   ]
  },
  {
   "cell_type": "code",
   "execution_count": 24,
   "metadata": {},
   "outputs": [
    {
     "name": "stdout",
     "output_type": "stream",
     "text": [
      "True\n"
     ]
    }
   ],
   "source": [
    "def is_pangram(s):\n",
    "    import string\n",
    "    alphabet_dic = dict.fromkeys(list(string.ascii_lowercase), 0)\n",
    "    for i in s.lower():\n",
    "        if i.lower() in list(string.ascii_lowercase):\n",
    "            alphabet_dic[i] += 1\n",
    "    return not 0 in alphabet_dic.values()\n",
    "        \n",
    "\n",
    "print(is_pangram('The quick brown fox jumps over the lazy dog'))"
   ]
  },
  {
   "cell_type": "markdown",
   "metadata": {},
   "source": [
    "## Ex. 16\n",
    "\n",
    "The rgb function is incomplete. Complete it so that passing in RGB decimal values will result in a hexadecimal representation being returned. Valid decimal values for RGB are 0 - 255. Any values that fall out of that range must be rounded to the closest valid value.\n",
    "\n",
    "Note: Your answer should always be 6 characters long, the shorthand with 3 will not work here.\n",
    "\n",
    "The following are examples of expected output values:\n",
    "\n",
    "```py\n",
    "rgb(255, 255, 255) # returns FFFFFF\n",
    "rgb(255, 255, 300) # returns FFFFFF\n",
    "rgb(0,0,0) # returns 000000\n",
    "rgb(148, 0, 211) # returns 9400D3\n",
    "```"
   ]
  },
  {
   "cell_type": "code",
   "execution_count": 30,
   "metadata": {},
   "outputs": [
    {
     "name": "stdout",
     "output_type": "stream",
     "text": [
      "C91900\n",
      "C91900\n"
     ]
    }
   ],
   "source": [
    "def rgb(r, g, b):\n",
    "    \n",
    "    \n",
    "    hexa = ''\n",
    "    for i in [r, g, b]:\n",
    "        if i < 0:\n",
    "            i = 0\n",
    "        elif i > 255:\n",
    "            i = 255\n",
    "        hexa += hex(int(i/16))[2:] + hex(int(i%16))[2:]\n",
    "        \n",
    "    return hexa.upper()\n",
    "\n",
    "print(rgb(201,25,0))\n",
    "\n",
    "# Alterntative with one liner\n",
    "\n",
    "def rgb(r, g, b):\n",
    "    \n",
    "   return ''.join(map(str,[''.join(hex(int(i/16))[2:].upper()) + ''.join(hex(int(i%16))[2:].upper()) for i in [r, g, b]]))\n",
    "\n",
    "print(rgb(201,25,0))"
   ]
  },
  {
   "cell_type": "markdown",
   "metadata": {},
   "source": [
    "## Ex. 17\n",
    "\n",
    "You need to write regex that will validate a password to make sure it meets the following criteria:\n",
    "\n",
    "- At least six characters long\n",
    "  \n",
    "- contains a lowercase letter\n",
    "- contains an uppercase letter\n",
    "- contains a digit\n",
    "- only contains alphanumeric characters (note that '_' is not alphanumeric)"
   ]
  },
  {
   "cell_type": "code",
   "execution_count": 31,
   "metadata": {},
   "outputs": [
    {
     "name": "stdout",
     "output_type": "stream",
     "text": [
      "True\n"
     ]
    }
   ],
   "source": [
    "# Best Practice\n",
    "\n",
    "from re import search\n",
    "\n",
    "\n",
    "regex = (\n",
    "    '^'            # start line\n",
    "    '(?=.*\\d)'     # must contain one digit from 0-9\n",
    "    '(?=.*[a-z])'  # must contain one lowercase characters\n",
    "    '(?=.*[A-Z])'  # must contain one uppercase characters\n",
    "    '[a-zA-Z\\d]'   # permitted characters (alphanumeric only)\n",
    "    '{6,}'         # length at least 6 chars\n",
    "    '$'            # end line\n",
    ")\n",
    "\n",
    "\n",
    "print(bool(search(regex, 'fjd3IR9')))"
   ]
  },
  {
   "cell_type": "markdown",
   "metadata": {},
   "source": [
    "## Ex. 18\n",
    "\n",
    "You have a positive number n consisting of digits. You can do at most one operation: Choosing the index of a digit in the number, remove this digit at that index and insert it back to another or at the same place in the number in order to find the smallest number you can get.\n",
    "\n",
    "Task:\n",
    "Return an array or a tuple or a string depending on the language (see \"Sample Tests\") with\n",
    "\n",
    "- the smallest number you got\n",
    "\n",
    "-the index i of the digit d you took, i as small as possible\n",
    "-the index j (as small as possible) where you insert this digit d to have the smallest number.\n",
    "\n",
    "Examples:\n",
    "\n",
    "```\n",
    "smallest(261235) --> [126235, 2, 0] or (126235, 2, 0) or \"126235, 2, 0\"\n",
    "```\n",
    "\n",
    "126235 is the smallest number gotten by taking 1 at index 2 and putting it at index 0"
   ]
  },
  {
   "cell_type": "code",
   "execution_count": 33,
   "metadata": {},
   "outputs": [
    {
     "name": "stdout",
     "output_type": "stream",
     "text": [
      "[29917, 0, 1]\n"
     ]
    }
   ],
   "source": [
    "# Best solution        \n",
    "\n",
    "def smallest(n):\n",
    "    s = str(n)\n",
    "    min1, from1, to1 = n, 0, 0\n",
    "    for i in range(len(s)):\n",
    "        removed = s[:i] + s[i+1:]\n",
    "        for j in range(len(removed)+1):\n",
    "            num = int(removed[:j] + s[i] + removed[j:])\n",
    "            if (num < min1):\n",
    "                min1, from1, to1 = num, i, j\n",
    "    return [min1, from1, to1] \n",
    "\n",
    "\n",
    "\n",
    "\n",
    "print(smallest(209917))"
   ]
  },
  {
   "cell_type": "markdown",
   "metadata": {},
   "source": [
    "## Ex. 19\n",
    "\n",
    "Welcome.\n",
    "\n",
    "In this kata you are required to, given a string, replace every letter with its position in the alphabet.\n",
    "\n",
    "If anything in the text isn't a letter, ignore it and don't return it.\n",
    "\n",
    "```\n",
    "\"a\" = 1, \"b\" = 2, etc.\n",
    "```\n",
    "\n",
    "Example\n",
    "```py\n",
    "alphabet_position(\"The sunset sets at twelve o' clock.\")\n",
    "# Should return \"20 8 5 19 21 14 19 5 20 19 5 20 19 1 20 20 23 5 12 22 5 15 3 12 15 3 11\" ( as a string )\n",
    "```"
   ]
  },
  {
   "cell_type": "code",
   "execution_count": 35,
   "metadata": {},
   "outputs": [
    {
     "name": "stdout",
     "output_type": "stream",
     "text": [
      "20 8 5 19 21 14 19 5 20 19 5 20 19 1 20 20 23 5 12 22 5 15 3 12 15 3 11\n",
      "20 8 5 19 21 14 19 5 20 19 5 20 19 1 20 20 23 5 12 22 5 15 3 12 15 3 11\n"
     ]
    }
   ],
   "source": [
    "def alphabet_position(text):\n",
    "    import string\n",
    "    \n",
    "    posiletter = ''\n",
    "    for i in text:\n",
    "        if i.lower() in string.ascii_lowercase:\n",
    "            posiletter += str(string.ascii_letters.index(i.lower()) + 1) + ' '\n",
    "    \n",
    "    return posiletter[:-1] \n",
    "\n",
    "\n",
    "\n",
    "\n",
    "print(alphabet_position(\"The sunset sets at twelve o' clock.\"))\n",
    "\n",
    "\n",
    " # Best practice \n",
    "\n",
    "def alphabet_position(text):\n",
    "    return ' '.join(str(ord(c) - 96) for c in text.lower() if c.isalpha())\n",
    "\n",
    "print(alphabet_position(\"The sunset sets at twelve o' clock.\"))"
   ]
  },
  {
   "cell_type": "markdown",
   "metadata": {},
   "source": [
    "## Ex. 20\n",
    "\n",
    "We want to create a function that will add numbers together when called in succession.\n",
    "\n",
    "add(1)(2) # equals 3\n",
    "We also want to be able to continue to add numbers to our chain.\n",
    "\n",
    "```py\n",
    "add(1)(2)(3) # 6\n",
    "add(1)(2)(3)(4); # 10\n",
    "add(1)(2)(3)(4)(5) # 15\n",
    "```\n",
    "and so on.\n",
    "\n",
    "A single call should be equal to the number passed in.\n",
    "\n",
    "```py\n",
    "add(1) # 1\n",
    "```\n",
    "\n",
    "We should be able to store the returned values and reuse them.\n",
    "\n",
    "```py\n",
    "addTwo = add(2)\n",
    "addTwo # 2\n",
    "addTwo + 5 # 7\n",
    "addTwo(3) # 5\n",
    "addTwo(3)(5) # 10\n",
    "```\n",
    "\n",
    "We can assume any number being passed in will be valid whole number."
   ]
  },
  {
   "cell_type": "code",
   "execution_count": 36,
   "metadata": {},
   "outputs": [
    {
     "name": "stdout",
     "output_type": "stream",
     "text": [
      "20\n",
      "2\n"
     ]
    }
   ],
   "source": [
    "# Defining a class is required in order to call a function with multiple () arguments like add()()()...\n",
    "\n",
    "class add(int):\n",
    "    def __call__(i,n):\n",
    "        return add(i+n)\n",
    "    \n",
    "\n",
    "print(add(3)(5)(12))\n",
    "\n",
    "addTwo = add(2)\n",
    "\n",
    "print(addTwo)"
   ]
  },
  {
   "cell_type": "markdown",
   "metadata": {},
   "source": [
    "## Ex. 21\n",
    "\n",
    "Sum of Pairs\n",
    "Given a list of integers and a single sum value, return the first two values (parse from the left please) in order of appearance that add up to form the sum.\n",
    "\n",
    "If there are two or more pairs with the required sum, the pair whose second element has the smallest index is the solution.\n",
    "\n",
    "```py\n",
    "sum_pairs([11, 3, 7, 5],         10)\n",
    "#              ^--^      3 + 7 = 10\n",
    "#== [3, 7]\n",
    "```\n",
    "\n",
    "```py\n",
    "sum_pairs([4, 3, 2, 3, 4],         6)\n",
    "#          ^-----^         4 + 2 = 6, indices: 0, 2 *\n",
    "#             ^-----^      3 + 3 = 6, indices: 1, 3\n",
    "#                ^-----^   2 + 4 = 6, indices: 2, 4\n",
    "#   * the correct answer is the pair whose second value has the smallest index\n",
    "#== [4, 2]\n",
    "```\n",
    "\n",
    "```py\n",
    "sum_pairs([0, 0, -2, 3], 2)\n",
    "#  there are no pairs of values that can be added to produce 2.\n",
    "#== None/nil/undefined (Based on the language)\n",
    "```\n",
    "\n",
    "```py\n",
    "sum_pairs([10, 5, 2, 3, 7, 5],         10)\n",
    "#               ^-----------^   5 + 5 = 10, indices: 1, 5\n",
    "#                    ^--^      3 + 7 = 10, indices: 3, 4 *\n",
    "#  * the correct answer is the pair whose second value has the smallest index\n",
    "#== [3, 7]\n",
    "```\n",
    "\n",
    "Negative numbers and duplicate numbers can and will appear.\n",
    "\n",
    "Note: There will also be lists tested of lengths upwards of 10,000,000 elements. Be sure your code doesn't time out."
   ]
  },
  {
   "cell_type": "code",
   "execution_count": 38,
   "metadata": {},
   "outputs": [
    {
     "name": "stdout",
     "output_type": "stream",
     "text": [
      "[3, 7]\n",
      "---Time 1:  0.00018405914306640625 seconds ---\n",
      "[3, 7]\n",
      "---Time 2:  6.818771362304688e-05 seconds ---\n"
     ]
    }
   ],
   "source": [
    "import time\n",
    "\n",
    "def sum_pairs(ints, s):\n",
    "    from itertools import combinations\n",
    "    \n",
    "    comb = set(list(combinations(ints,2)))\n",
    "    \n",
    "    listIndex = list()\n",
    "    listNum = list()\n",
    "       \n",
    "    for t in comb:\n",
    "        \n",
    "        if sum(t) == s:\n",
    "            listNum.append([t[0], t[1]])\n",
    "            listIndex.append(ints.index(t[1],ints.index(t[0])+1))\n",
    "\n",
    "    if listNum == []:\n",
    "        return None    \n",
    "        \n",
    "    min_index = listIndex.index(min(listIndex))  \n",
    "      \n",
    "    return listNum[min_index]\n",
    "\n",
    "\n",
    "start_time = time.time()\n",
    "\n",
    "print(sum_pairs([10, 5, 2, 3, 7, 5], 10))\n",
    "\n",
    "print(\"---Time 1:  %s seconds ---\" % (time.time() - start_time))\n",
    "\n",
    "\n",
    "# Fast version. We loop only once through the list so the computational time is O(n) instead of O(n^2)\n",
    "\n",
    "def sum_pairs(lst, s):\n",
    "    cache = set()\n",
    "    for i in lst:\n",
    "        if s - i in cache:\n",
    "            return [s - i, i]\n",
    "        cache.add(i)\n",
    "        \n",
    "\n",
    "start_time = time.time()\n",
    "\n",
    "print(sum_pairs([10, 5, 2, 3, 7, 5], 10))\n",
    "\n",
    "print(\"---Time 2:  %s seconds ---\" % (time.time() - start_time))"
   ]
  },
  {
   "cell_type": "markdown",
   "metadata": {},
   "source": [
    "## Ex. 22\n",
    "\n",
    "What is an anagram? Well, two words are anagrams of each other if they both contain the same letters. For example:\n",
    "```\n",
    "'abba' & 'baab' == true\n",
    "\n",
    "'abba' & 'bbaa' == true\n",
    "\n",
    "'abba' & 'abbba' == false\n",
    "\n",
    "'abba' & 'abca' == false\n",
    "```\n",
    "\n",
    "Write a function that will find all the anagrams of a word from a list. You will be given two inputs a word and an array with words. You should return an array of all the anagrams or an empty array if there are none. For example:\n",
    "\n",
    "```\n",
    "anagrams('abba', ['aabb', 'abcd', 'bbaa', 'dada']) => ['aabb', 'bbaa']\n",
    "\n",
    "anagrams('racer', ['crazer', 'carer', 'racar', 'caers', 'racer']) => ['carer', 'racer']\n",
    "\n",
    "anagrams('laser', ['lazing', 'lazy',  'lacer']) => []\n",
    "```"
   ]
  },
  {
   "cell_type": "code",
   "execution_count": 39,
   "metadata": {},
   "outputs": [
    {
     "name": "stdout",
     "output_type": "stream",
     "text": [
      "['carer', 'racer']\n"
     ]
    }
   ],
   "source": [
    "def anagrams(word, words):\n",
    "    return [i for i in words if sorted(word) == sorted(i)]\n",
    "\n",
    "           \n",
    "print(anagrams('racer', ['crazer', 'carer', 'racar', 'caers', 'racer']))"
   ]
  }
 ],
 "metadata": {
  "kernelspec": {
   "display_name": "Python 3.10.4 64-bit",
   "language": "python",
   "name": "python3"
  },
  "language_info": {
   "codemirror_mode": {
    "name": "ipython",
    "version": 3
   },
   "file_extension": ".py",
   "mimetype": "text/x-python",
   "name": "python",
   "nbconvert_exporter": "python",
   "pygments_lexer": "ipython3",
   "version": "3.10.4"
  },
  "orig_nbformat": 4,
  "vscode": {
   "interpreter": {
    "hash": "916dbcbb3f70747c44a77c7bcd40155683ae19c65e1c03b4aa3499c5328201f1"
   }
  }
 },
 "nbformat": 4,
 "nbformat_minor": 2
}
